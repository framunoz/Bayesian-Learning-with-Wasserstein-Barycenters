{
 "cells": [
  {
   "cell_type": "code",
   "execution_count": 4,
   "id": "14037939",
   "metadata": {},
   "outputs": [
    {
     "name": "stdout",
     "output_type": "stream",
     "text": [
      "Collecting torch\n",
      "  Downloading torch-2.0.0-cp310-cp310-win_amd64.whl (172.3 MB)\n",
      "     -------------------------------------- 172.3/172.3 MB 2.1 MB/s eta 0:00:00\n",
      "Requirement already satisfied: jinja2 in c:\\users\\asoln\\pycharmprojects\\personalprojects\\bayesian-learning-with-wasserstein-barycenters\\venv\\lib\\site-packages (from torch) (3.1.2)\n",
      "Collecting typing-extensions\n",
      "  Downloading typing_extensions-4.5.0-py3-none-any.whl (27 kB)\n",
      "Collecting networkx\n",
      "  Downloading networkx-3.0-py3-none-any.whl (2.0 MB)\n",
      "     ---------------------------------------- 2.0/2.0 MB 25.7 MB/s eta 0:00:00\n",
      "Collecting sympy\n",
      "  Downloading sympy-1.11.1-py3-none-any.whl (6.5 MB)\n",
      "     ---------------------------------------- 6.5/6.5 MB 15.9 MB/s eta 0:00:00\n",
      "Collecting filelock\n",
      "  Downloading filelock-3.10.6-py3-none-any.whl (10 kB)\n",
      "Requirement already satisfied: MarkupSafe>=2.0 in c:\\users\\asoln\\pycharmprojects\\personalprojects\\bayesian-learning-with-wasserstein-barycenters\\venv\\lib\\site-packages (from jinja2->torch) (2.1.1)\n",
      "Collecting mpmath>=0.19\n",
      "  Downloading mpmath-1.3.0-py3-none-any.whl (536 kB)\n",
      "     ------------------------------------- 536.2/536.2 kB 32.9 MB/s eta 0:00:00\n",
      "Installing collected packages: mpmath, typing-extensions, sympy, networkx, filelock, torch\n",
      "Successfully installed filelock-3.10.6 mpmath-1.3.0 networkx-3.0 sympy-1.11.1 torch-2.0.0 typing-extensions-4.5.0\n"
     ]
    },
    {
     "name": "stderr",
     "output_type": "stream",
     "text": [
      "\n",
      "[notice] A new release of pip available: 22.3 -> 23.0.1\n",
      "[notice] To update, run: python.exe -m pip install --upgrade pip\n"
     ]
    }
   ],
   "source": [
    "!pip3 install torch"
   ]
  },
  {
   "cell_type": "code",
   "execution_count": 24,
   "id": "bcba75bf",
   "metadata": {},
   "outputs": [
    {
     "data": {
      "text/plain": [
       "device(type='cpu')"
      ]
     },
     "execution_count": 24,
     "metadata": {},
     "output_type": "execute_result"
    }
   ],
   "source": [
    "device = torch.device(\"cuda:0\" if torch.cuda.is_available() else \"cpu\")\n",
    "device"
   ]
  },
  {
   "cell_type": "raw",
   "id": "d3c54f8d",
   "metadata": {},
   "source": []
  },
  {
   "cell_type": "code",
   "execution_count": 25,
   "id": "f8fe7b9c",
   "metadata": {},
   "outputs": [
    {
     "data": {
      "text/plain": [
       "array([0, 1, 3], dtype=int64)"
      ]
     },
     "execution_count": 25,
     "metadata": {},
     "output_type": "execute_result"
    }
   ],
   "source": [
    "from scipy.stats import rv_discrete\n",
    "import torch\n",
    "\n",
    "\n",
    "class DiscreteDistribution:\n",
    "    def __init__(\n",
    "        self,\n",
    "        xk, pk,\n",
    "        shape: tuple[int, ...], \n",
    "        device=None,\n",
    "        name=None,\n",
    "        badvalue=None,\n",
    "        moment_tol=1e-08,\n",
    "        longname=None,\n",
    "        seed=None,\n",
    "    ):\n",
    "        # Set CUDA device if it is disponible \n",
    "        device_ = \"cuda:0\" if torch.cuda.is_available() else \"cpu\"\n",
    "        self.device = torch.device(device or device_)\n",
    "        self.xk, self.pk = torch.as_tensor(xk).to(self.device), torch.as_tensor(pk).to(self.device)\n",
    "        self.a, self.b = 0, np.prod(shape) - 1\n",
    "        \n",
    "        assert (self.a <= self.xk).all() and (self.xk <= self.b).all(), \"Los valores deben de estar en el soporte\"\n",
    "        \n",
    "        self._rv_discrete = rv_discrete(\n",
    "            a=self.a, b=self.b,\n",
    "            moment_tol=moment_tol, \n",
    "            values=(self.xk.cpu().numpy(), self.pk.cpu().numpy())\n",
    "        )\n",
    "        \n",
    "ddist = DiscreteDistribution([0, 1, 3], [0.5, 0.3, 0.2], (2, 2))\n",
    "\n",
    "ddist.xk"
   ]
  },
  {
   "cell_type": "code",
   "execution_count": 13,
   "id": "45ce1173",
   "metadata": {},
   "outputs": [
    {
     "data": {
      "text/plain": [
       "tensor(True)"
      ]
     },
     "execution_count": 13,
     "metadata": {},
     "output_type": "execute_result"
    }
   ],
   "source": [
    "import numpy as np\n",
    "np_xk[0] = 0\n",
    "(ddist.xk < np.prod((2, 2))).all()"
   ]
  }
 ],
 "metadata": {
  "kernelspec": {
   "display_name": "Python 3 (ipykernel)",
   "language": "python",
   "name": "python3"
  },
  "language_info": {
   "codemirror_mode": {
    "name": "ipython",
    "version": 3
   },
   "file_extension": ".py",
   "mimetype": "text/x-python",
   "name": "python",
   "nbconvert_exporter": "python",
   "pygments_lexer": "ipython3",
   "version": "3.10.4"
  }
 },
 "nbformat": 4,
 "nbformat_minor": 5
}
