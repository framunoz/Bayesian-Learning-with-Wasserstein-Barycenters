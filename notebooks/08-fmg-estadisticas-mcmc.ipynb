{
 "cells": [
  {
   "cell_type": "markdown",
   "metadata": {
    "pycharm": {
     "name": "#%% md\n"
    }
   },
   "source": [
    "# Imports y configuraciones básicas"
   ]
  },
  {
   "cell_type": "markdown",
   "metadata": {
    "pycharm": {
     "name": "#%% md\n"
    }
   },
   "source": [
    "Algunos imports que se utilizarán en el resto del notebook"
   ]
  },
  {
   "cell_type": "code",
   "execution_count": 1,
   "metadata": {
    "pycharm": {
     "name": "#%%\n"
    }
   },
   "outputs": [],
   "source": [
    "import matplotlib.pyplot as plt\n",
    "import numpy as np\n",
    "\n",
    "from bwb.distributions import *\n",
    "from bwb.utils import plot_list_of_draws, plot_histogram_from_points\n",
    "\n",
    "import pandas as pd\n",
    "import itertools"
   ]
  },
  {
   "cell_type": "code",
   "execution_count": 2,
   "metadata": {
    "pycharm": {
     "name": "#%%\n"
    }
   },
   "outputs": [],
   "source": [
    "# import logging\n",
    "# log = logging.getLogger(\"bwb.distributions\")\n",
    "# log.setLevel(logging.DEBUG)"
   ]
  },
  {
   "cell_type": "markdown",
   "metadata": {
    "pycharm": {
     "name": "#%% md\n"
    }
   },
   "source": [
    "Importamos los datos del archivo de Google Cloud"
   ]
  },
  {
   "cell_type": "code",
   "execution_count": 3,
   "metadata": {
    "pycharm": {
     "name": "#%%\n"
    }
   },
   "outputs": [
    {
     "data": {
      "text/plain": [
       "(161666, 784)"
      ]
     },
     "execution_count": 3,
     "metadata": {},
     "output_type": "execute_result"
    }
   ],
   "source": [
    "data = np.load(r\"..\\data\\face.npy\")\n",
    "data.shape"
   ]
  },
  {
   "cell_type": "markdown",
   "metadata": {
    "pycharm": {
     "name": "#%% md\n"
    }
   },
   "source": [
    "Haremos dos listas de caritas: una sin modificación, y otra con modificación."
   ]
  },
  {
   "cell_type": "code",
   "execution_count": 4,
   "metadata": {
    "pycharm": {
     "name": "#%%\n"
    }
   },
   "outputs": [
    {
     "name": "stdout",
     "output_type": "stream",
     "text": [
      "CPU times: total: 9.53 s\n",
      "Wall time: 9.58 s\n"
     ]
    },
    {
     "data": {
      "text/plain": [
       "(161666, 161666)"
      ]
     },
     "execution_count": 4,
     "metadata": {},
     "output_type": "execute_result"
    }
   ],
   "source": [
    "%%time\n",
    "\n",
    "CEIL = 50\n",
    "n_faces = len(data)\n",
    "rng = np.random.default_rng(42)\n",
    "\n",
    "\n",
    "# Builder para hacer las caritas\n",
    "dist_draw_builder = DistributionDrawBuilder(\n",
    "    seed=rng,\n",
    ")\n",
    "\n",
    "# Conjunto de caritas originales (distintos soportes)\n",
    "faces_original = list()\n",
    "for i in range(n_faces):\n",
    "    arr = 255 - data[i, :].reshape(28, 28)\n",
    "    dd_arr = dist_draw_builder.create_fromarray(arr)\n",
    "    faces_original.append(dd_arr)\n",
    "    \n",
    "    \n",
    "# Conjuntos de caritas con soporte no-nulo\n",
    "dist_draw_builder.set_ceil(CEIL)\n",
    "    \n",
    "faces_modified = list()\n",
    "for i in range(n_faces):\n",
    "    arr = 255 - data[i, :].reshape(28, 28)\n",
    "    dd_arr = dist_draw_builder.create_fromarray(arr)\n",
    "    faces_modified.append(dd_arr)\n",
    "    \n",
    "len(faces_original), len(faces_modified)"
   ]
  },
  {
   "cell_type": "markdown",
   "metadata": {
    "pycharm": {
     "name": "#%% md\n"
    }
   },
   "source": [
    "`faces_original` son las caritas sin modificar el soporte, mientras que `faces_modified` es con los que tiene soporte no-nulo."
   ]
  },
  {
   "cell_type": "markdown",
   "metadata": {
    "pycharm": {
     "name": "#%% md\n"
    }
   },
   "source": [
    "Obtendremos la data $D = \\{x_i\\}_{i=1}^{n}\\subseteq\\mathcal{X}^n$, y probaremos los métodos para distintos valores de $n$."
   ]
  },
  {
   "cell_type": "code",
   "execution_count": 5,
   "metadata": {
    "pycharm": {
     "name": "#%%\n"
    }
   },
   "outputs": [
    {
     "data": {
      "image/png": "[encoded data removed]",
      "text/plain": [
       "<Figure size 640x480 with 2 Axes>"
      ]
     },
     "metadata": {},
     "output_type": "display_data"
    }
   ],
   "source": [
    "first_face = DistributionDraw.fromarray(\n",
    "    255 - data[0, :].reshape(28, 28),\n",
    "    seed=42\n",
    ")\n",
    "\n",
    "x = first_face.rvs(size=100)\n",
    "\n",
    "plot_histogram_from_points(x, histplot_kwargs=dict(bins=28))\n",
    "plt.show()"
   ]
  },
  {
   "cell_type": "code",
   "execution_count": 6,
   "metadata": {
    "pycharm": {
     "name": "#%%\n"
    }
   },
   "outputs": [],
   "source": [
    "# Tiempo de cálculo del caché"
   ]
  },
  {
   "cell_type": "markdown",
   "metadata": {
    "pycharm": {
     "name": "#%% md\n"
    }
   },
   "source": [
    "De forma implícita, las clases `MetropolisPosteriorPiN` y `GibbsPosteriorPiN` hacen un pre-procesamiento para calcular a modo de caché todas las verosimilitudes. En este notebook se calcularán los tiempos de iniciación para calcular este caché, tanto para cada uno de los diferentes métodos como para la lista de conjunto de caritas originales y modificadas."
   ]
  },
  {
   "cell_type": "code",
   "execution_count": 7,
   "metadata": {
    "pycharm": {
     "name": "#%%\n"
    }
   },
   "outputs": [],
   "source": [
    "%%script false --no-raise-error\n",
    "# %%time\n",
    "# %%script false --no-raise-error\n",
    "\n",
    "\n",
    "def fmt_avg_stdev(avg, stdev):\n",
    "    return f\"{avg:.4f} ± {stdev:.4f}\"\n",
    "\n",
    "\n",
    "resume_df = pd.DataFrame()\n",
    "\n",
    "n_list = [5, 25, 50, 100]\n",
    "\n",
    "for n in n_list:\n",
    "    kwargs = dict(data=x[:n], models=faces_original, seed=rng)\n",
    "    \n",
    "    print(f\"Metropolis Original: {n = }\")\n",
    "    result = %timeit -o MetropolisPosteriorPiN(**kwargs)\n",
    "    resume_df.loc[n, \"Time M. original [seg]\"] = fmt_avg_stdev(result.average, result.stdev)\n",
    "    \n",
    "    print(f\"Gibbs Original: {n = }\")\n",
    "    result = %timeit -o GibbsPosteriorPiN(**kwargs)\n",
    "    resume_df.loc[n, \"Time G. original [seg]\"] = fmt_avg_stdev(result.average, result.stdev)\n",
    "    \n",
    "    kwargs[\"models\"] = faces_modified\n",
    "    \n",
    "    print(f\"Metropolis Modified: {n = }\")\n",
    "    result = %timeit -o MetropolisPosteriorPiN(**kwargs)\n",
    "    resume_df.loc[n, \"Time M. modified [seg]\"] = fmt_avg_stdev(result.average, result.stdev)\n",
    "    \n",
    "    print(f\"Gibbs Modified: {n = }\")\n",
    "    result = %timeit -o GibbsPosteriorPiN(**kwargs)\n",
    "    resume_df.loc[n, \"Time G. modified [seg]\"] = fmt_avg_stdev(result.average, result.stdev)\n",
    "    \n",
    "print(resume_df.to_html())"
   ]
  },
  {
   "cell_type": "markdown",
   "metadata": {
    "pycharm": {
     "name": "#%% md\n"
    }
   },
   "source": [
    "<table border=\"1\" class=\"dataframe\">\n",
    "  <thead>\n",
    "    <tr style=\"text-align: right;\">\n",
    "      <th></th>\n",
    "      <th>Time M. original [seg]</th>\n",
    "      <th>Time G. original [seg]</th>\n",
    "      <th>Time M. modified [seg]</th>\n",
    "      <th>Time G. modified [seg]</th>\n",
    "    </tr>\n",
    "  </thead>\n",
    "  <tbody>\n",
    "    <tr>\n",
    "      <th>5</th>\n",
    "      <td>0.3336 ± 0.0313</td>\n",
    "      <td>0.3104 ± 0.0273</td>\n",
    "      <td>0.6644 ± 0.0747</td>\n",
    "      <td>0.5780 ± 0.0249</td>\n",
    "    </tr>\n",
    "    <tr>\n",
    "      <th>25</th>\n",
    "      <td>0.3312 ± 0.0139</td>\n",
    "      <td>0.3304 ± 0.0190</td>\n",
    "      <td>2.4187 ± 0.0504</td>\n",
    "      <td>2.8125 ± 0.3133</td>\n",
    "    </tr>\n",
    "    <tr>\n",
    "      <th>50</th>\n",
    "      <td>0.4299 ± 0.0807</td>\n",
    "      <td>0.4798 ± 0.1267</td>\n",
    "      <td>4.8916 ± 0.1065</td>\n",
    "      <td>4.8937 ± 0.2163</td>\n",
    "    </tr>\n",
    "    <tr>\n",
    "      <th>100</th>\n",
    "      <td>0.3456 ± 0.0264</td>\n",
    "      <td>0.3423 ± 0.0157</td>\n",
    "      <td>9.1654 ± 0.0452</td>\n",
    "      <td>9.4425 ± 0.3818</td>\n",
    "    </tr>\n",
    "  </tbody>\n",
    "</table>"
   ]
  },
  {
   "cell_type": "markdown",
   "metadata": {
    "pycharm": {
     "name": "#%% md\n"
    }
   },
   "source": [
    "Ahora queremos ver el número de muestras que se samplean de las distribuciones y el tiempo que se demora, como también el tiempo promedio que se demora por cada iteración y por cada método"
   ]
  },
  {
   "cell_type": "code",
   "execution_count": 42,
   "metadata": {
    "pycharm": {
     "name": "#%%\n"
    }
   },
   "outputs": [],
   "source": [
    "# Tables\n",
    "m_num_samples_original = pd.DataFrame()\n",
    "m_total_time_original = pd.DataFrame()\n",
    "\n",
    "g_num_samples_original = pd.DataFrame()\n",
    "g_total_time_original = pd.DataFrame()\n",
    "\n",
    "m_num_samples_modified = pd.DataFrame()\n",
    "m_total_time_modified = pd.DataFrame()\n",
    "\n",
    "g_num_samples_modified = pd.DataFrame()\n",
    "g_total_time_modified = pd.DataFrame()"
   ]
  },
  {
   "cell_type": "code",
   "execution_count": 43,
   "metadata": {
    "pycharm": {
     "name": "#%%\n"
    },
    "scrolled": false
   },
   "outputs": [],
   "source": [
    "%%script false --no-raise-error\n",
    "# %%time\n",
    "\n",
    "# n-k lists\n",
    "n_list = [5, 25, 50, 75]\n",
    "k_list = [1, 50, 100, 500, 1000, 2500]\n",
    "\n",
    "\n",
    "# Iterate over n/k\n",
    "for n, k in itertools.product(n_list, k_list):\n",
    "    kwargs = dict(data=x[:n], models=faces_original, seed=rng)\n",
    "    \n",
    "    \n",
    "    print(f\"Metropolis original {n = }, {k = }\")\n",
    "    mcmc = AlternativeMetropolisPosteriorPiN(**kwargs)\n",
    "    \n",
    "    # Do the experiment\n",
    "    result = %timeit -n1 -o -r1 mcmc.rvs(size=k)\n",
    "    print(f\"{len(mcmc.counter) = }\")\n",
    "    print(f\"{result.average = }\")\n",
    "    m_num_samples_original.loc[n, k] = len(mcmc.counter)\n",
    "    m_total_time_original.loc[n, k] = f\"{result.average:.4f}\"\n",
    "    \n",
    "    \n",
    "    print(f\"Gibbs original {n = }, {k = }\")\n",
    "    mcmc = AlternativeGibbsPosteriorPiN(**kwargs)\n",
    "    \n",
    "    # Do the experiment\n",
    "    result = %timeit -n1 -o -r1 mcmc.rvs(size=k)\n",
    "    print(f\"{len(mcmc.counter) = }\")\n",
    "    print(f\"{result.average = }\")\n",
    "    g_num_samples_original.loc[n, k] = len(mcmc.counter)\n",
    "    g_total_time_original.loc[n, k] = f\"{result.average:.4f}\"\n",
    "    \n",
    "    \n",
    "    \n",
    "    kwargs[\"models\"] = faces_modified\n",
    "    \n",
    "    print(f\"Metropolis modified {n = }, {k = }\")\n",
    "    mcmc = AlternativeMetropolisPosteriorPiN(**kwargs)\n",
    "    \n",
    "    # Do the experiment\n",
    "    result = %timeit -n1 -o -r1 mcmc.rvs(size=k)\n",
    "    print(f\"{len(mcmc.counter) = }\")\n",
    "    print(f\"{result.average = }\")\n",
    "    m_num_samples_modified.loc[n, k] = len(mcmc.counter)\n",
    "    m_total_time_modified.loc[n, k] = f\"{result.average:.4f}\"\n",
    "    \n",
    "    \n",
    "    print(f\"Gibbs modified {n = }, {k = }\")\n",
    "    mcmc = AlternativeGibbsPosteriorPiN(**kwargs)\n",
    "    \n",
    "    # Do the experiment\n",
    "    result = %timeit -n1 -o -r1 mcmc.rvs(size=k)\n",
    "    print(f\"{len(mcmc.counter) = }\")\n",
    "    print(f\"{result.average = }\")\n",
    "    g_num_samples_modified.loc[n, k] = len(mcmc.counter)\n",
    "    g_total_time_modified.loc[n, k] = f\"{result.average:.4f}\"\n",
    "    \n",
    "#     break"
   ]
  },
  {
   "cell_type": "code",
   "execution_count": 44,
   "metadata": {
    "pycharm": {
     "name": "#%%\n"
    }
   },
   "outputs": [
    {
     "name": "stdout",
     "output_type": "stream",
     "text": [
      "<table border=\"1\" class=\"dataframe\">\n",
      "  <thead>\n",
      "    <tr style=\"text-align: right;\">\n",
      "      <th></th>\n",
      "    </tr>\n",
      "  </thead>\n",
      "  <tbody>\n",
      "  </tbody>\n",
      "</table>\n"
     ]
    },
    {
     "data": {
      "text/html": [
       "<div>\n",
       "<style scoped>\n",
       "    .dataframe tbody tr th:only-of-type {\n",
       "        vertical-align: middle;\n",
       "    }\n",
       "\n",
       "    .dataframe tbody tr th {\n",
       "        vertical-align: top;\n",
       "    }\n",
       "\n",
       "    .dataframe thead th {\n",
       "        text-align: right;\n",
       "    }\n",
       "</style>\n",
       "<table border=\"1\" class=\"dataframe\">\n",
       "  <thead>\n",
       "    <tr style=\"text-align: right;\">\n",
       "      <th></th>\n",
       "    </tr>\n",
       "  </thead>\n",
       "  <tbody>\n",
       "  </tbody>\n",
       "</table>\n",
       "</div>"
      ],
      "text/plain": [
       "Empty DataFrame\n",
       "Columns: []\n",
       "Index: []"
      ]
     },
     "execution_count": 44,
     "metadata": {},
     "output_type": "execute_result"
    }
   ],
   "source": [
    "df = m_num_samples_original\n",
    "print(df.to_html())\n",
    "df"
   ]
  },
  {
   "cell_type": "markdown",
   "metadata": {
    "pycharm": {
     "name": "#%% md\n"
    }
   },
   "source": [
    "<table border=\"1\" class=\"dataframe\">\n",
    "  <thead>\n",
    "    <tr style=\"text-align: right;\">\n",
    "      <th></th>\n",
    "      <th>1</th>\n",
    "      <th>50</th>\n",
    "      <th>100</th>\n",
    "      <th>500</th>\n",
    "      <th>1000</th>\n",
    "      <th>2500</th>\n",
    "    </tr>\n",
    "  </thead>\n",
    "  <tbody>\n",
    "    <tr>\n",
    "      <th>5</th>\n",
    "      <td>1.0</td>\n",
    "      <td>12.0</td>\n",
    "      <td>20.0</td>\n",
    "      <td>101.0</td>\n",
    "      <td>195.0</td>\n",
    "      <td>441.0</td>\n",
    "    </tr>\n",
    "    <tr>\n",
    "      <th>25</th>\n",
    "      <td>1.0</td>\n",
    "      <td>3.0</td>\n",
    "      <td>6.0</td>\n",
    "      <td>3.0</td>\n",
    "      <td>5.0</td>\n",
    "      <td>16.0</td>\n",
    "    </tr>\n",
    "    <tr>\n",
    "      <th>50</th>\n",
    "      <td>1.0</td>\n",
    "      <td>2.0</td>\n",
    "      <td>1.0</td>\n",
    "      <td>1.0</td>\n",
    "      <td>1.0</td>\n",
    "      <td>1.0</td>\n",
    "    </tr>\n",
    "    <tr>\n",
    "      <th>75</th>\n",
    "      <td>1.0</td>\n",
    "      <td>1.0</td>\n",
    "      <td>1.0</td>\n",
    "      <td>1.0</td>\n",
    "      <td>1.0</td>\n",
    "      <td>1.0</td>\n",
    "    </tr>\n",
    "  </tbody>\n",
    "</table>"
   ]
  },
  {
   "cell_type": "code",
   "execution_count": 45,
   "metadata": {
    "pycharm": {
     "name": "#%%\n"
    }
   },
   "outputs": [
    {
     "name": "stdout",
     "output_type": "stream",
     "text": [
      "<table border=\"1\" class=\"dataframe\">\n",
      "  <thead>\n",
      "    <tr style=\"text-align: right;\">\n",
      "      <th></th>\n",
      "    </tr>\n",
      "  </thead>\n",
      "  <tbody>\n",
      "  </tbody>\n",
      "</table>\n"
     ]
    },
    {
     "data": {
      "text/html": [
       "<div>\n",
       "<style scoped>\n",
       "    .dataframe tbody tr th:only-of-type {\n",
       "        vertical-align: middle;\n",
       "    }\n",
       "\n",
       "    .dataframe tbody tr th {\n",
       "        vertical-align: top;\n",
       "    }\n",
       "\n",
       "    .dataframe thead th {\n",
       "        text-align: right;\n",
       "    }\n",
       "</style>\n",
       "<table border=\"1\" class=\"dataframe\">\n",
       "  <thead>\n",
       "    <tr style=\"text-align: right;\">\n",
       "      <th></th>\n",
       "    </tr>\n",
       "  </thead>\n",
       "  <tbody>\n",
       "  </tbody>\n",
       "</table>\n",
       "</div>"
      ],
      "text/plain": [
       "Empty DataFrame\n",
       "Columns: []\n",
       "Index: []"
      ]
     },
     "execution_count": 45,
     "metadata": {},
     "output_type": "execute_result"
    }
   ],
   "source": [
    "df = m_total_time_original\n",
    "print(df.to_html())\n",
    "df"
   ]
  },
  {
   "cell_type": "markdown",
   "metadata": {
    "pycharm": {
     "name": "#%% md\n"
    }
   },
   "source": [
    "<table border=\"1\" class=\"dataframe\">\n",
    "  <thead>\n",
    "    <tr style=\"text-align: right;\">\n",
    "      <th></th>\n",
    "      <th>1</th>\n",
    "      <th>50</th>\n",
    "      <th>100</th>\n",
    "      <th>500</th>\n",
    "      <th>1000</th>\n",
    "      <th>2500</th>\n",
    "    </tr>\n",
    "  </thead>\n",
    "  <tbody>\n",
    "    <tr>\n",
    "      <th>5</th>\n",
    "      <td>0.0014</td>\n",
    "      <td>0.0511</td>\n",
    "      <td>0.1043</td>\n",
    "      <td>0.6535</td>\n",
    "      <td>1.1080</td>\n",
    "      <td>2.9345</td>\n",
    "    </tr>\n",
    "    <tr>\n",
    "      <th>25</th>\n",
    "      <td>0.0024</td>\n",
    "      <td>0.0032</td>\n",
    "      <td>0.0116</td>\n",
    "      <td>0.0331</td>\n",
    "      <td>0.0811</td>\n",
    "      <td>0.1687</td>\n",
    "    </tr>\n",
    "    <tr>\n",
    "      <th>50</th>\n",
    "      <td>0.0002</td>\n",
    "      <td>0.0043</td>\n",
    "      <td>0.0136</td>\n",
    "      <td>0.0345</td>\n",
    "      <td>0.0570</td>\n",
    "      <td>0.1401</td>\n",
    "    </tr>\n",
    "    <tr>\n",
    "      <th>75</th>\n",
    "      <td>0.0001</td>\n",
    "      <td>0.0007</td>\n",
    "      <td>0.0008</td>\n",
    "      <td>0.0037</td>\n",
    "      <td>0.0071</td>\n",
    "      <td>0.0177</td>\n",
    "    </tr>\n",
    "  </tbody>\n",
    "</table>"
   ]
  },
  {
   "cell_type": "code",
   "execution_count": 46,
   "metadata": {
    "pycharm": {
     "name": "#%%\n"
    }
   },
   "outputs": [
    {
     "name": "stdout",
     "output_type": "stream",
     "text": [
      "<table border=\"1\" class=\"dataframe\">\n",
      "  <thead>\n",
      "    <tr style=\"text-align: right;\">\n",
      "      <th></th>\n",
      "    </tr>\n",
      "  </thead>\n",
      "  <tbody>\n",
      "  </tbody>\n",
      "</table>\n"
     ]
    },
    {
     "data": {
      "text/html": [
       "<div>\n",
       "<style scoped>\n",
       "    .dataframe tbody tr th:only-of-type {\n",
       "        vertical-align: middle;\n",
       "    }\n",
       "\n",
       "    .dataframe tbody tr th {\n",
       "        vertical-align: top;\n",
       "    }\n",
       "\n",
       "    .dataframe thead th {\n",
       "        text-align: right;\n",
       "    }\n",
       "</style>\n",
       "<table border=\"1\" class=\"dataframe\">\n",
       "  <thead>\n",
       "    <tr style=\"text-align: right;\">\n",
       "      <th></th>\n",
       "    </tr>\n",
       "  </thead>\n",
       "  <tbody>\n",
       "  </tbody>\n",
       "</table>\n",
       "</div>"
      ],
      "text/plain": [
       "Empty DataFrame\n",
       "Columns: []\n",
       "Index: []"
      ]
     },
     "execution_count": 46,
     "metadata": {},
     "output_type": "execute_result"
    }
   ],
   "source": [
    "df = g_num_samples_original\n",
    "print(df.to_html())\n",
    "df"
   ]
  },
  {
   "cell_type": "markdown",
   "metadata": {
    "pycharm": {
     "name": "#%% md\n"
    }
   },
   "source": [
    "<table border=\"1\" class=\"dataframe\">\n",
    "  <thead>\n",
    "    <tr style=\"text-align: right;\">\n",
    "      <th></th>\n",
    "      <th>1</th>\n",
    "      <th>50</th>\n",
    "      <th>100</th>\n",
    "      <th>500</th>\n",
    "      <th>1000</th>\n",
    "      <th>2500</th>\n",
    "    </tr>\n",
    "  </thead>\n",
    "  <tbody>\n",
    "    <tr>\n",
    "      <th>5</th>\n",
    "      <td>1.0</td>\n",
    "      <td>49.0</td>\n",
    "      <td>97.0</td>\n",
    "      <td>403.0</td>\n",
    "      <td>738.0</td>\n",
    "      <td>1405.0</td>\n",
    "    </tr>\n",
    "    <tr>\n",
    "      <th>25</th>\n",
    "      <td>1.0</td>\n",
    "      <td>5.0</td>\n",
    "      <td>4.0</td>\n",
    "      <td>5.0</td>\n",
    "      <td>13.0</td>\n",
    "      <td>15.0</td>\n",
    "    </tr>\n",
    "    <tr>\n",
    "      <th>50</th>\n",
    "      <td>1.0</td>\n",
    "      <td>1.0</td>\n",
    "      <td>1.0</td>\n",
    "      <td>1.0</td>\n",
    "      <td>1.0</td>\n",
    "      <td>1.0</td>\n",
    "    </tr>\n",
    "    <tr>\n",
    "      <th>75</th>\n",
    "      <td>1.0</td>\n",
    "      <td>1.0</td>\n",
    "      <td>1.0</td>\n",
    "      <td>1.0</td>\n",
    "      <td>1.0</td>\n",
    "      <td>1.0</td>\n",
    "    </tr>\n",
    "  </tbody>\n",
    "</table>"
   ]
  },
  {
   "cell_type": "code",
   "execution_count": 47,
   "metadata": {
    "pycharm": {
     "name": "#%%\n"
    }
   },
   "outputs": [
    {
     "name": "stdout",
     "output_type": "stream",
     "text": [
      "<table border=\"1\" class=\"dataframe\">\n",
      "  <thead>\n",
      "    <tr style=\"text-align: right;\">\n",
      "      <th></th>\n",
      "    </tr>\n",
      "  </thead>\n",
      "  <tbody>\n",
      "  </tbody>\n",
      "</table>\n"
     ]
    },
    {
     "data": {
      "text/html": [
       "<div>\n",
       "<style scoped>\n",
       "    .dataframe tbody tr th:only-of-type {\n",
       "        vertical-align: middle;\n",
       "    }\n",
       "\n",
       "    .dataframe tbody tr th {\n",
       "        vertical-align: top;\n",
       "    }\n",
       "\n",
       "    .dataframe thead th {\n",
       "        text-align: right;\n",
       "    }\n",
       "</style>\n",
       "<table border=\"1\" class=\"dataframe\">\n",
       "  <thead>\n",
       "    <tr style=\"text-align: right;\">\n",
       "      <th></th>\n",
       "    </tr>\n",
       "  </thead>\n",
       "  <tbody>\n",
       "  </tbody>\n",
       "</table>\n",
       "</div>"
      ],
      "text/plain": [
       "Empty DataFrame\n",
       "Columns: []\n",
       "Index: []"
      ]
     },
     "execution_count": 47,
     "metadata": {},
     "output_type": "execute_result"
    }
   ],
   "source": [
    "df = g_total_time_original\n",
    "print(df.to_html())\n",
    "df"
   ]
  },
  {
   "cell_type": "markdown",
   "metadata": {
    "pycharm": {
     "name": "#%% md\n"
    }
   },
   "source": [
    "<table border=\"1\" class=\"dataframe\">\n",
    "  <thead>\n",
    "    <tr style=\"text-align: right;\">\n",
    "      <th></th>\n",
    "      <th>1</th>\n",
    "      <th>50</th>\n",
    "      <th>100</th>\n",
    "      <th>500</th>\n",
    "      <th>1000</th>\n",
    "      <th>2500</th>\n",
    "    </tr>\n",
    "  </thead>\n",
    "  <tbody>\n",
    "    <tr>\n",
    "      <th>5</th>\n",
    "      <td>0.0012</td>\n",
    "      <td>0.0610</td>\n",
    "      <td>0.1108</td>\n",
    "      <td>0.6387</td>\n",
    "      <td>1.0874</td>\n",
    "      <td>3.2232</td>\n",
    "    </tr>\n",
    "    <tr>\n",
    "      <th>25</th>\n",
    "      <td>0.0006</td>\n",
    "      <td>0.0029</td>\n",
    "      <td>0.0071</td>\n",
    "      <td>0.0332</td>\n",
    "      <td>0.0568</td>\n",
    "      <td>0.1391</td>\n",
    "    </tr>\n",
    "    <tr>\n",
    "      <th>50</th>\n",
    "      <td>0.0002</td>\n",
    "      <td>0.0043</td>\n",
    "      <td>0.0054</td>\n",
    "      <td>0.0243</td>\n",
    "      <td>0.0459</td>\n",
    "      <td>0.1150</td>\n",
    "    </tr>\n",
    "    <tr>\n",
    "      <th>75</th>\n",
    "      <td>0.0000</td>\n",
    "      <td>0.0004</td>\n",
    "      <td>0.0007</td>\n",
    "      <td>0.0045</td>\n",
    "      <td>0.0075</td>\n",
    "      <td>0.0179</td>\n",
    "    </tr>\n",
    "  </tbody>\n",
    "</table>"
   ]
  },
  {
   "cell_type": "code",
   "execution_count": 48,
   "metadata": {
    "pycharm": {
     "name": "#%%\n"
    }
   },
   "outputs": [
    {
     "name": "stdout",
     "output_type": "stream",
     "text": [
      "<table border=\"1\" class=\"dataframe\">\n",
      "  <thead>\n",
      "    <tr style=\"text-align: right;\">\n",
      "      <th></th>\n",
      "    </tr>\n",
      "  </thead>\n",
      "  <tbody>\n",
      "  </tbody>\n",
      "</table>\n"
     ]
    },
    {
     "data": {
      "text/html": [
       "<div>\n",
       "<style scoped>\n",
       "    .dataframe tbody tr th:only-of-type {\n",
       "        vertical-align: middle;\n",
       "    }\n",
       "\n",
       "    .dataframe tbody tr th {\n",
       "        vertical-align: top;\n",
       "    }\n",
       "\n",
       "    .dataframe thead th {\n",
       "        text-align: right;\n",
       "    }\n",
       "</style>\n",
       "<table border=\"1\" class=\"dataframe\">\n",
       "  <thead>\n",
       "    <tr style=\"text-align: right;\">\n",
       "      <th></th>\n",
       "    </tr>\n",
       "  </thead>\n",
       "  <tbody>\n",
       "  </tbody>\n",
       "</table>\n",
       "</div>"
      ],
      "text/plain": [
       "Empty DataFrame\n",
       "Columns: []\n",
       "Index: []"
      ]
     },
     "execution_count": 48,
     "metadata": {},
     "output_type": "execute_result"
    }
   ],
   "source": [
    "df = m_num_samples_modified\n",
    "print(df.to_html())\n",
    "df"
   ]
  },
  {
   "cell_type": "markdown",
   "metadata": {
    "pycharm": {
     "name": "#%% md\n"
    }
   },
   "source": [
    "<table border=\"1\" class=\"dataframe\">\n",
    "  <thead>\n",
    "    <tr style=\"text-align: right;\">\n",
    "      <th></th>\n",
    "      <th>1</th>\n",
    "      <th>50</th>\n",
    "      <th>100</th>\n",
    "      <th>500</th>\n",
    "      <th>1000</th>\n",
    "      <th>2500</th>\n",
    "    </tr>\n",
    "  </thead>\n",
    "  <tbody>\n",
    "    <tr>\n",
    "      <th>5</th>\n",
    "      <td>1.0</td>\n",
    "      <td>11.0</td>\n",
    "      <td>13.0</td>\n",
    "      <td>87.0</td>\n",
    "      <td>203.0</td>\n",
    "      <td>752.0</td>\n",
    "    </tr>\n",
    "    <tr>\n",
    "      <th>25</th>\n",
    "      <td>1.0</td>\n",
    "      <td>7.0</td>\n",
    "      <td>9.0</td>\n",
    "      <td>1.0</td>\n",
    "      <td>17.0</td>\n",
    "      <td>15.0</td>\n",
    "    </tr>\n",
    "    <tr>\n",
    "      <th>50</th>\n",
    "      <td>1.0</td>\n",
    "      <td>5.0</td>\n",
    "      <td>8.0</td>\n",
    "      <td>8.0</td>\n",
    "      <td>12.0</td>\n",
    "      <td>17.0</td>\n",
    "    </tr>\n",
    "    <tr>\n",
    "      <th>75</th>\n",
    "      <td>1.0</td>\n",
    "      <td>8.0</td>\n",
    "      <td>9.0</td>\n",
    "      <td>14.0</td>\n",
    "      <td>7.0</td>\n",
    "      <td>9.0</td>\n",
    "    </tr>\n",
    "  </tbody>\n",
    "</table>"
   ]
  },
  {
   "cell_type": "code",
   "execution_count": 49,
   "metadata": {
    "pycharm": {
     "name": "#%%\n"
    }
   },
   "outputs": [
    {
     "name": "stdout",
     "output_type": "stream",
     "text": [
      "<table border=\"1\" class=\"dataframe\">\n",
      "  <thead>\n",
      "    <tr style=\"text-align: right;\">\n",
      "      <th></th>\n",
      "    </tr>\n",
      "  </thead>\n",
      "  <tbody>\n",
      "  </tbody>\n",
      "</table>\n"
     ]
    },
    {
     "data": {
      "text/html": [
       "<div>\n",
       "<style scoped>\n",
       "    .dataframe tbody tr th:only-of-type {\n",
       "        vertical-align: middle;\n",
       "    }\n",
       "\n",
       "    .dataframe tbody tr th {\n",
       "        vertical-align: top;\n",
       "    }\n",
       "\n",
       "    .dataframe thead th {\n",
       "        text-align: right;\n",
       "    }\n",
       "</style>\n",
       "<table border=\"1\" class=\"dataframe\">\n",
       "  <thead>\n",
       "    <tr style=\"text-align: right;\">\n",
       "      <th></th>\n",
       "    </tr>\n",
       "  </thead>\n",
       "  <tbody>\n",
       "  </tbody>\n",
       "</table>\n",
       "</div>"
      ],
      "text/plain": [
       "Empty DataFrame\n",
       "Columns: []\n",
       "Index: []"
      ]
     },
     "execution_count": 49,
     "metadata": {},
     "output_type": "execute_result"
    }
   ],
   "source": [
    "df = m_total_time_modified\n",
    "print(df.to_html())\n",
    "df"
   ]
  },
  {
   "cell_type": "markdown",
   "metadata": {
    "pycharm": {
     "name": "#%% md\n"
    }
   },
   "source": [
    "<table border=\"1\" class=\"dataframe\">\n",
    "  <thead>\n",
    "    <tr style=\"text-align: right;\">\n",
    "      <th></th>\n",
    "      <th>1</th>\n",
    "      <th>50</th>\n",
    "      <th>100</th>\n",
    "      <th>500</th>\n",
    "      <th>1000</th>\n",
    "      <th>2500</th>\n",
    "    </tr>\n",
    "  </thead>\n",
    "  <tbody>\n",
    "    <tr>\n",
    "      <th>5</th>\n",
    "      <td>0.0162</td>\n",
    "      <td>0.8749</td>\n",
    "      <td>1.6367</td>\n",
    "      <td>8.2336</td>\n",
    "      <td>17.0771</td>\n",
    "      <td>41.5876</td>\n",
    "    </tr>\n",
    "    <tr>\n",
    "      <th>25</th>\n",
    "      <td>0.0155</td>\n",
    "      <td>0.9267</td>\n",
    "      <td>1.6738</td>\n",
    "      <td>8.7581</td>\n",
    "      <td>16.6361</td>\n",
    "      <td>41.8724</td>\n",
    "    </tr>\n",
    "    <tr>\n",
    "      <th>50</th>\n",
    "      <td>0.0155</td>\n",
    "      <td>0.8342</td>\n",
    "      <td>2.3497</td>\n",
    "      <td>8.8038</td>\n",
    "      <td>18.3098</td>\n",
    "      <td>41.6662</td>\n",
    "    </tr>\n",
    "    <tr>\n",
    "      <th>75</th>\n",
    "      <td>0.0151</td>\n",
    "      <td>0.8028</td>\n",
    "      <td>1.6917</td>\n",
    "      <td>8.4317</td>\n",
    "      <td>16.3477</td>\n",
    "      <td>44.5841</td>\n",
    "    </tr>\n",
    "  </tbody>\n",
    "</table>"
   ]
  },
  {
   "cell_type": "code",
   "execution_count": 50,
   "metadata": {
    "pycharm": {
     "name": "#%%\n"
    }
   },
   "outputs": [
    {
     "name": "stdout",
     "output_type": "stream",
     "text": [
      "<table border=\"1\" class=\"dataframe\">\n",
      "  <thead>\n",
      "    <tr style=\"text-align: right;\">\n",
      "      <th></th>\n",
      "    </tr>\n",
      "  </thead>\n",
      "  <tbody>\n",
      "  </tbody>\n",
      "</table>\n"
     ]
    },
    {
     "data": {
      "text/html": [
       "<div>\n",
       "<style scoped>\n",
       "    .dataframe tbody tr th:only-of-type {\n",
       "        vertical-align: middle;\n",
       "    }\n",
       "\n",
       "    .dataframe tbody tr th {\n",
       "        vertical-align: top;\n",
       "    }\n",
       "\n",
       "    .dataframe thead th {\n",
       "        text-align: right;\n",
       "    }\n",
       "</style>\n",
       "<table border=\"1\" class=\"dataframe\">\n",
       "  <thead>\n",
       "    <tr style=\"text-align: right;\">\n",
       "      <th></th>\n",
       "    </tr>\n",
       "  </thead>\n",
       "  <tbody>\n",
       "  </tbody>\n",
       "</table>\n",
       "</div>"
      ],
      "text/plain": [
       "Empty DataFrame\n",
       "Columns: []\n",
       "Index: []"
      ]
     },
     "execution_count": 50,
     "metadata": {},
     "output_type": "execute_result"
    }
   ],
   "source": [
    "df = g_num_samples_modified\n",
    "print(df.to_html())\n",
    "df"
   ]
  },
  {
   "cell_type": "markdown",
   "metadata": {
    "pycharm": {
     "name": "#%% md\n"
    }
   },
   "source": [
    "<table border=\"1\" class=\"dataframe\">\n",
    "  <thead>\n",
    "    <tr style=\"text-align: right;\">\n",
    "      <th></th>\n",
    "      <th>1</th>\n",
    "      <th>50</th>\n",
    "      <th>100</th>\n",
    "      <th>500</th>\n",
    "      <th>1000</th>\n",
    "      <th>2500</th>\n",
    "    </tr>\n",
    "  </thead>\n",
    "  <tbody>\n",
    "    <tr>\n",
    "      <th>5</th>\n",
    "      <td>1.0</td>\n",
    "      <td>49.0</td>\n",
    "      <td>100.0</td>\n",
    "      <td>496.0</td>\n",
    "      <td>970.0</td>\n",
    "      <td>2364.0</td>\n",
    "    </tr>\n",
    "    <tr>\n",
    "      <th>25</th>\n",
    "      <td>1.0</td>\n",
    "      <td>40.0</td>\n",
    "      <td>66.0</td>\n",
    "      <td>228.0</td>\n",
    "      <td>372.0</td>\n",
    "      <td>654.0</td>\n",
    "    </tr>\n",
    "    <tr>\n",
    "      <th>50</th>\n",
    "      <td>1.0</td>\n",
    "      <td>2.0</td>\n",
    "      <td>3.0</td>\n",
    "      <td>3.0</td>\n",
    "      <td>4.0</td>\n",
    "      <td>4.0</td>\n",
    "    </tr>\n",
    "    <tr>\n",
    "      <th>75</th>\n",
    "      <td>1.0</td>\n",
    "      <td>2.0</td>\n",
    "      <td>2.0</td>\n",
    "      <td>2.0</td>\n",
    "      <td>2.0</td>\n",
    "      <td>2.0</td>\n",
    "    </tr>\n",
    "  </tbody>\n",
    "</table>"
   ]
  },
  {
   "cell_type": "code",
   "execution_count": 51,
   "metadata": {
    "pycharm": {
     "name": "#%%\n"
    }
   },
   "outputs": [
    {
     "name": "stdout",
     "output_type": "stream",
     "text": [
      "<table border=\"1\" class=\"dataframe\">\n",
      "  <thead>\n",
      "    <tr style=\"text-align: right;\">\n",
      "      <th></th>\n",
      "    </tr>\n",
      "  </thead>\n",
      "  <tbody>\n",
      "  </tbody>\n",
      "</table>\n"
     ]
    },
    {
     "data": {
      "text/html": [
       "<div>\n",
       "<style scoped>\n",
       "    .dataframe tbody tr th:only-of-type {\n",
       "        vertical-align: middle;\n",
       "    }\n",
       "\n",
       "    .dataframe tbody tr th {\n",
       "        vertical-align: top;\n",
       "    }\n",
       "\n",
       "    .dataframe thead th {\n",
       "        text-align: right;\n",
       "    }\n",
       "</style>\n",
       "<table border=\"1\" class=\"dataframe\">\n",
       "  <thead>\n",
       "    <tr style=\"text-align: right;\">\n",
       "      <th></th>\n",
       "    </tr>\n",
       "  </thead>\n",
       "  <tbody>\n",
       "  </tbody>\n",
       "</table>\n",
       "</div>"
      ],
      "text/plain": [
       "Empty DataFrame\n",
       "Columns: []\n",
       "Index: []"
      ]
     },
     "execution_count": 51,
     "metadata": {},
     "output_type": "execute_result"
    }
   ],
   "source": [
    "df = g_total_time_modified\n",
    "print(df.to_html())\n",
    "df"
   ]
  },
  {
   "cell_type": "markdown",
   "source": [
    "<table border=\"1\" class=\"dataframe\">\n",
    "  <thead>\n",
    "    <tr style=\"text-align: right;\">\n",
    "      <th></th>\n",
    "      <th>1</th>\n",
    "      <th>50</th>\n",
    "      <th>100</th>\n",
    "      <th>500</th>\n",
    "      <th>1000</th>\n",
    "      <th>2500</th>\n",
    "    </tr>\n",
    "  </thead>\n",
    "  <tbody>\n",
    "    <tr>\n",
    "      <th>5</th>\n",
    "      <td>0.0165</td>\n",
    "      <td>0.8765</td>\n",
    "      <td>1.6155</td>\n",
    "      <td>8.8067</td>\n",
    "      <td>17.6119</td>\n",
    "      <td>48.1437</td>\n",
    "    </tr>\n",
    "    <tr>\n",
    "      <th>25</th>\n",
    "      <td>0.0161</td>\n",
    "      <td>1.0321</td>\n",
    "      <td>1.7492</td>\n",
    "      <td>8.1357</td>\n",
    "      <td>15.9913</td>\n",
    "      <td>45.4067</td>\n",
    "    </tr>\n",
    "    <tr>\n",
    "      <th>50</th>\n",
    "      <td>0.0155</td>\n",
    "      <td>0.8066</td>\n",
    "      <td>1.6997</td>\n",
    "      <td>8.4641</td>\n",
    "      <td>16.3566</td>\n",
    "      <td>40.3777</td>\n",
    "    </tr>\n",
    "    <tr>\n",
    "      <th>75</th>\n",
    "      <td>0.0160</td>\n",
    "      <td>0.8029</td>\n",
    "      <td>1.5783</td>\n",
    "      <td>7.9070</td>\n",
    "      <td>15.9652</td>\n",
    "      <td>40.1593</td>\n",
    "    </tr>\n",
    "  </tbody>\n",
    "</table>"
   ],
   "metadata": {
    "collapsed": false,
    "pycharm": {
     "name": "#%% md\n"
    }
   }
  },
  {
   "cell_type": "code",
   "execution_count": null,
   "metadata": {
    "pycharm": {
     "name": "#%%\n"
    }
   },
   "outputs": [],
   "source": []
  },
  {
   "cell_type": "code",
   "execution_count": null,
   "metadata": {
    "pycharm": {
     "name": "#%%\n"
    }
   },
   "outputs": [],
   "source": []
  },
  {
   "cell_type": "code",
   "execution_count": null,
   "metadata": {
    "pycharm": {
     "name": "#%%\n"
    }
   },
   "outputs": [],
   "source": []
  }
 ],
 "metadata": {
  "kernelspec": {
   "display_name": "Python 3 (ipykernel)",
   "language": "python",
   "name": "python3"
  },
  "language_info": {
   "codemirror_mode": {
    "name": "ipython",
    "version": 3
   },
   "file_extension": ".py",
   "mimetype": "text/x-python",
   "name": "python",
   "nbconvert_exporter": "python",
   "pygments_lexer": "ipython3",
   "version": "3.10.4"
  }
 },
 "nbformat": 4,
 "nbformat_minor": 1
}