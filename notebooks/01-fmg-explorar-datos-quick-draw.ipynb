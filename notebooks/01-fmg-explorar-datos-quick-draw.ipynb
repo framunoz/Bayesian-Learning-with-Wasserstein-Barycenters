{
 "cells": [
  {
   "cell_type": "markdown",
   "metadata": {
    "pycharm": {
     "name": "#%% md\n"
    }
   },
   "source": [
    "# Imports y configuraciones iniciales"
   ]
  },
  {
   "cell_type": "code",
   "execution_count": 1,
   "metadata": {
    "pycharm": {
     "name": "#%%\n"
    }
   },
   "outputs": [],
   "source": [
    "# Ubicarse en el path principal del repositorio\n",
    "import sys\n",
    "sys.path.append('../')"
   ]
  },
  {
   "cell_type": "code",
   "execution_count": 2,
   "metadata": {
    "pycharm": {
     "name": "#%%\n"
    }
   },
   "outputs": [],
   "source": [
    "# !pip install quickdraw"
   ]
  },
  {
   "cell_type": "code",
   "execution_count": 3,
   "metadata": {
    "pycharm": {
     "name": "#%%\n"
    }
   },
   "outputs": [],
   "source": [
    "import numpy as np"
   ]
  },
  {
   "cell_type": "markdown",
   "metadata": {
    "pycharm": {
     "name": "#%% md\n"
    }
   },
   "source": [
    "Obtenemos el arreglo numpy conseguido en [Google cloud](https://console.cloud.google.com/storage/browser/quickdraw_dataset;tab=objects?prefix=&forceOnObjectsSortingFiltering=false)."
   ]
  },
  {
   "cell_type": "code",
   "execution_count": 4,
   "metadata": {
    "pycharm": {
     "name": "#%%\n"
    }
   },
   "outputs": [
    {
     "data": {
      "text/plain": [
       "array([[0, 0, 0, ..., 0, 0, 0],\n",
       "       [0, 0, 0, ..., 0, 0, 0],\n",
       "       [0, 0, 0, ..., 0, 0, 0],\n",
       "       ...,\n",
       "       [0, 0, 0, ..., 0, 0, 0],\n",
       "       [0, 0, 0, ..., 0, 0, 0],\n",
       "       [0, 0, 0, ..., 0, 0, 0]], dtype=uint8)"
      ]
     },
     "execution_count": 4,
     "metadata": {},
     "output_type": "execute_result"
    }
   ],
   "source": [
    "arr = np.load(r\"..\\data\\face.npy\")\n",
    "arr"
   ]
  },
  {
   "cell_type": "code",
   "execution_count": 5,
   "metadata": {
    "pycharm": {
     "name": "#%%\n"
    }
   },
   "outputs": [
    {
     "data": {
      "text/plain": [
       "(161666, 784)"
      ]
     },
     "execution_count": 5,
     "metadata": {},
     "output_type": "execute_result"
    }
   ],
   "source": [
    "arr.shape"
   ]
  },
  {
   "cell_type": "markdown",
   "metadata": {
    "pycharm": {
     "name": "#%% md\n"
    }
   },
   "source": [
    "Notamos que es un arreglo de dimensiones `(161666, 784)`. La primera componente es el número de imágenes que hay en el dataset y el segundo es un arreglo que hay que redimensionarlo a $28\\times28$, pues $\\sqrt{784} = 28$."
   ]
  },
  {
   "cell_type": "code",
   "execution_count": 6,
   "metadata": {
    "pycharm": {
     "name": "#%%\n"
    }
   },
   "outputs": [
    {
     "data": {
      "text/plain": [
       "(28, 28)"
      ]
     },
     "execution_count": 6,
     "metadata": {},
     "output_type": "execute_result"
    }
   ],
   "source": [
    "data = arr[0].reshape(28, 28)\n",
    "data.shape"
   ]
  },
  {
   "cell_type": "markdown",
   "metadata": {
    "pycharm": {
     "name": "#%% md\n"
    }
   },
   "source": [
    "Notamos que es un arreglo de enteros en donde los valores van desde el 0 hasta el 255. Ploteamos el arreglo para tener una mejor visualización."
   ]
  },
  {
   "cell_type": "code",
   "execution_count": 7,
   "metadata": {
    "pycharm": {
     "name": "#%%\n"
    }
   },
   "outputs": [
    {
     "data": {
      "image/png": "[encoded data removed]",
      "text/plain": [
       "<Figure size 640x480 with 1 Axes>"
      ]
     },
     "metadata": {},
     "output_type": "display_data"
    }
   ],
   "source": [
    "from matplotlib import pyplot as plt\n",
    "\n",
    "plt.imshow(data, cmap=\"gray_r\")\n",
    "plt.show()"
   ]
  },
  {
   "cell_type": "markdown",
   "metadata": {
    "pycharm": {
     "name": "#%% md\n"
    }
   },
   "source": [
    "Notamos que la calidad de la imagen no es la esperada. Es por este motivo en que se buscará una alternativa para obtener los datos."
   ]
  },
  {
   "cell_type": "markdown",
   "metadata": {
    "pycharm": {
     "name": "#%% md\n"
    }
   },
   "source": [
    "Sin embargo, dado que podría servir en un futuro, veamos como pasar esta matriz como una imagen `Pillow`"
   ]
  },
  {
   "cell_type": "code",
   "execution_count": 8,
   "metadata": {
    "pycharm": {
     "name": "#%%\n"
    }
   },
   "outputs": [
    {
     "data": {
      "image/png": "[encoded data removed]",
      "text/plain": [
       "<PIL.Image.Image image mode=L size=28x28>"
      ]
     },
     "execution_count": 8,
     "metadata": {},
     "output_type": "execute_result"
    }
   ],
   "source": [
    "import PIL\n",
    "\n",
    "image = PIL.Image.fromarray(255-data)\n",
    "image"
   ]
  },
  {
   "cell_type": "markdown",
   "metadata": {
    "pycharm": {
     "name": "#%% md\n"
    }
   },
   "source": [
    "Después de investigar, se encuentra la API [quickdraw](https://quickdraw.readthedocs.io/en/latest/index.html) para Python, esta librería permite un manejo sencillo de los datos.\n",
    "\n",
    "Las siguientes líneas de código fue resultado de jugar con esta librería."
   ]
  },
  {
   "cell_type": "code",
   "execution_count": 9,
   "metadata": {
    "pycharm": {
     "name": "#%%\n"
    }
   },
   "outputs": [
    {
     "name": "stdout",
     "output_type": "stream",
     "text": [
      "loading anvil drawings\n",
      "load complete\n",
      "QuickDrawing key_id=6589409094795264\n"
     ]
    }
   ],
   "source": [
    "from quickdraw import QuickDrawData\n",
    "\n",
    "qd = QuickDrawData()\n",
    "anvil = qd.get_drawing(\"anvil\")\n",
    "\n",
    "print(anvil)"
   ]
  },
  {
   "cell_type": "code",
   "execution_count": 10,
   "metadata": {
    "pycharm": {
     "name": "#%%\n"
    }
   },
   "outputs": [
    {
     "name": "stdout",
     "output_type": "stream",
     "text": [
      "anvil.name = 'anvil'\n",
      "anvil.key_id = 6589409094795264\n",
      "anvil.countrycode = 'HU'\n",
      "anvil.recognized = True\n",
      "anvil.timestamp = 1488737562\n",
      "anvil.no_of_strokes = 1\n",
      "anvil.image_data = [((40, 100, 116, 117, 71, 66, 65, 112, 151, 186, 188, 152, 152, 167, 237, 255, 238, 10, 0, 8), (53, 53, 56, 125, 127, 136, 153, 152, 157, 157, 127, 126, 63, 56, 56, 0, 4, 4, 15, 44))]\n",
      "anvil.strokes = [[(40, 53), (100, 53), (116, 56), (117, 125), (71, 127), (66, 136), (65, 153), (112, 152), (151, 157), (186, 157), (188, 127), (152, 126), (152, 63), (167, 56), (237, 56), (255, 0), (238, 4), (10, 4), (0, 15), (8, 44)]]\n"
     ]
    }
   ],
   "source": [
    "print(f\"{anvil.name = }\")\n",
    "print(f\"{anvil.key_id = }\")\n",
    "print(f\"{anvil.countrycode = }\")\n",
    "print(f\"{anvil.recognized = }\")\n",
    "print(f\"{anvil.timestamp = }\")\n",
    "print(f\"{anvil.no_of_strokes = }\")\n",
    "print(f\"{anvil.image_data = }\")\n",
    "print(f\"{anvil.strokes = }\")"
   ]
  },
  {
   "cell_type": "code",
   "execution_count": 11,
   "metadata": {
    "pycharm": {
     "name": "#%%\n"
    }
   },
   "outputs": [],
   "source": [
    "# Salva la información de la imagen.\n",
    "# anvil.image.save(\"my_anvil.gif\")"
   ]
  },
  {
   "cell_type": "code",
   "execution_count": 12,
   "metadata": {
    "pycharm": {
     "name": "#%%\n"
    }
   },
   "outputs": [
    {
     "name": "stdout",
     "output_type": "stream",
     "text": [
      "loading anvil drawings\n",
      "load complete\n",
      "QuickDrawing key_id=5355190515400704\n",
      "QuickDrawing key_id=4675518521671680\n",
      "QuickDrawing key_id=4718287013281792\n",
      "QuickDrawing key_id=5620379110342656\n",
      "QuickDrawing key_id=4925900967641088\n",
      "QuickDrawing key_id=4801451488444416\n",
      "QuickDrawing key_id=6721424930635776\n",
      "QuickDrawing key_id=5772297476505600\n",
      "QuickDrawing key_id=5518443702910976\n",
      "QuickDrawing key_id=5715853184073728\n"
     ]
    }
   ],
   "source": [
    "from quickdraw import QuickDrawDataGroup\n",
    "\n",
    "qdg = QuickDrawDataGroup(\"anvil\")\n",
    "for drawing in list(qdg.drawings)[:10]:\n",
    "    print(drawing)"
   ]
  },
  {
   "cell_type": "code",
   "execution_count": 13,
   "metadata": {
    "pycharm": {
     "name": "#%%\n"
    }
   },
   "outputs": [
    {
     "name": "stdout",
     "output_type": "stream",
     "text": [
      "loading anvil drawings\n",
      "load complete\n"
     ]
    }
   ],
   "source": [
    "from quickdraw import QuickDrawData\n",
    "from PIL import Image, ImageDraw\n",
    "\n",
    "qd = QuickDrawData()\n",
    "anvil = qd.get_drawing(\"anvil\")\n",
    "\n",
    "anvil_image = Image.new(\"RGB\", (255,255), color=(255,255,255))\n",
    "anvil_drawing = ImageDraw.Draw(anvil_image)\n",
    "\n",
    "for stroke in anvil.strokes:\n",
    "    anvil_drawing.line(stroke, fill=(0,0,0), width=2)\n",
    "\n",
    "    for coordinate in range(len(stroke)-1):\n",
    "        x1 = stroke[coordinate][0]\n",
    "        y1 = stroke[coordinate][1]\n",
    "        x2 = stroke[coordinate+1][0]\n",
    "        y2 = stroke[coordinate+1][1]\n",
    "        anvil_drawing.line((x1,y1,x2,y2), fill=(0,0,0), width=2)\n",
    "\n",
    "anvil_image.show()"
   ]
  },
  {
   "cell_type": "code",
   "execution_count": 14,
   "metadata": {
    "pycharm": {
     "name": "#%%\n"
    }
   },
   "outputs": [
    {
     "data": {
      "text/plain": [
       "[(2, 23),\n",
       " (3, 97),\n",
       " (38, 103),\n",
       " (108, 101),\n",
       " (112, 115),\n",
       " (119, 172),\n",
       " (117, 198),\n",
       " (113, 208),\n",
       " (100, 221),\n",
       " (89, 226),\n",
       " (49, 232),\n",
       " (47, 243),\n",
       " (58, 247),\n",
       " (140, 255),\n",
       " (188, 254),\n",
       " (217, 247),\n",
       " (230, 219),\n",
       " (225, 212),\n",
       " (181, 196),\n",
       " (170, 183),\n",
       " (159, 158),\n",
       " (152, 130),\n",
       " (149, 82),\n",
       " (150, 78),\n",
       " (161, 74),\n",
       " (250, 60),\n",
       " (254, 46),\n",
       " (238, 13),\n",
       " (213, 4),\n",
       " (187, 0),\n",
       " (39, 5),\n",
       " (7, 11),\n",
       " (0, 32)]"
      ]
     },
     "execution_count": 14,
     "metadata": {},
     "output_type": "execute_result"
    }
   ],
   "source": [
    "stroke"
   ]
  },
  {
   "cell_type": "code",
   "execution_count": 15,
   "metadata": {
    "pycharm": {
     "name": "#%%\n"
    }
   },
   "outputs": [
    {
     "name": "stdout",
     "output_type": "stream",
     "text": [
      "loading anvil drawings\n",
      "load complete\n",
      "QuickDrawing key_id=5932542467244032\n",
      "loading ant drawings\n",
      "load complete\n",
      "QuickDrawing key_id=6072443477164032\n"
     ]
    }
   ],
   "source": [
    "from quickdraw import QuickDrawData\n",
    "\n",
    "qd = QuickDrawData()\n",
    "\n",
    "anvil = qd.get_drawing(\"anvil\")\n",
    "print(anvil)\n",
    "\n",
    "ant = qd.get_drawing(\"ant\")\n",
    "print(ant)"
   ]
  },
  {
   "cell_type": "code",
   "execution_count": 16,
   "metadata": {
    "pycharm": {
     "name": "#%%\n"
    }
   },
   "outputs": [
    {
     "name": "stdout",
     "output_type": "stream",
     "text": [
      "loading anvil drawings\n",
      "load complete\n",
      "QuickDrawing key_id=5355190515400704\n",
      "QuickDrawing key_id=4675518521671680\n",
      "QuickDrawing key_id=4718287013281792\n",
      "QuickDrawing key_id=5620379110342656\n",
      "QuickDrawing key_id=4925900967641088\n",
      "QuickDrawing key_id=4801451488444416\n",
      "QuickDrawing key_id=6721424930635776\n",
      "QuickDrawing key_id=5772297476505600\n",
      "QuickDrawing key_id=5518443702910976\n",
      "QuickDrawing key_id=5715853184073728\n"
     ]
    }
   ],
   "source": [
    "from quickdraw import QuickDrawDataGroup\n",
    "\n",
    "anvils = QuickDrawDataGroup(\"anvil\")\n",
    "for anvil in list(anvils.drawings)[:10]:\n",
    "    print(anvil)"
   ]
  },
  {
   "cell_type": "markdown",
   "metadata": {
    "pycharm": {
     "name": "#%% md\n"
    }
   },
   "source": [
    "A partir de aquí estaremos generando código para nuestros propósitos."
   ]
  },
  {
   "cell_type": "code",
   "execution_count": 17,
   "metadata": {
    "pycharm": {
     "name": "#%%\n"
    }
   },
   "outputs": [
    {
     "name": "stdout",
     "output_type": "stream",
     "text": [
      "loading face drawings\n",
      "load complete\n",
      "QuickDrawing key_id=5152530285723648\n",
      "QuickDrawing key_id=6485643624448000\n",
      "QuickDrawing key_id=5797653046624256\n",
      "QuickDrawing key_id=6263665525260288\n",
      "QuickDrawing key_id=4601828958273536\n",
      "QuickDrawing key_id=5484978555060224\n",
      "QuickDrawing key_id=5450560280985600\n",
      "QuickDrawing key_id=6108140510642176\n",
      "QuickDrawing key_id=5103347696664576\n",
      "QuickDrawing key_id=5108726367256576\n"
     ]
    }
   ],
   "source": [
    "# Obtenemos el grupo de dibujos de la categoría de caritas.\n",
    "faces = QuickDrawDataGroup(\"face\")\n",
    "\n",
    "# Se itera por todas las imágenes para observar la representación de las caras.\n",
    "for face in list(faces.drawings)[:10]:\n",
    "    print(face)"
   ]
  },
  {
   "cell_type": "code",
   "execution_count": 18,
   "metadata": {
    "pycharm": {
     "name": "#%%\n"
    }
   },
   "outputs": [
    {
     "data": {
      "image/png": "[encoded data removed]",
      "text/plain": [
       "<PIL.Image.Image image mode=RGB size=255x255>"
      ]
     },
     "execution_count": 18,
     "metadata": {},
     "output_type": "execute_result"
    }
   ],
   "source": [
    "# Observar cómo se visualiza la property image. Este retorna una instancia de Pillow.\n",
    "face.image"
   ]
  },
  {
   "cell_type": "code",
   "execution_count": 19,
   "metadata": {
    "pycharm": {
     "name": "#%%\n"
    }
   },
   "outputs": [
    {
     "data": {
      "image/png": "[encoded data removed]",
      "text/plain": [
       "<PIL.Image.Image image mode=RGB size=255x255>"
      ]
     },
     "execution_count": 19,
     "metadata": {},
     "output_type": "execute_result"
    }
   ],
   "source": [
    "# Transformar la imagen a arreglo, y visualizar el arreglo.\n",
    "a = np.asarray(face.image)\n",
    "Image.fromarray(a)"
   ]
  },
  {
   "cell_type": "code",
   "execution_count": 20,
   "metadata": {
    "pycharm": {
     "name": "#%%\n"
    }
   },
   "outputs": [
    {
     "data": {
      "text/plain": [
       "(255, 255, 3)"
      ]
     },
     "execution_count": 20,
     "metadata": {},
     "output_type": "execute_result"
    }
   ],
   "source": [
    "# Observar las dimensiones del arreglo.\n",
    "a.shape"
   ]
  },
  {
   "cell_type": "code",
   "execution_count": 21,
   "metadata": {
    "pycharm": {
     "name": "#%%\n"
    }
   },
   "outputs": [
    {
     "name": "stdout",
     "output_type": "stream",
     "text": [
      "loading face drawings\n",
      "load complete\n",
      "qd_data_group.drawing_count = 161666\n"
     ]
    }
   ],
   "source": [
    "from quickdraw import QuickDrawDataGroup\n",
    "\n",
    "DATASET_NAME = \"face\"\n",
    "\n",
    "qd_data_group = QuickDrawDataGroup(DATASET_NAME, max_drawings=None)\n",
    "print(f\"{qd_data_group.drawing_count = }\")"
   ]
  },
  {
   "cell_type": "code",
   "execution_count": 22,
   "metadata": {
    "pycharm": {
     "name": "#%%\n"
    }
   },
   "outputs": [
    {
     "name": "stdout",
     "output_type": "stream",
     "text": [
      "draw.name = 'face'\n",
      "draw.key_id = 5152530285723648\n",
      "draw.countrycode = 'CH'\n",
      "draw.recognized = True\n",
      "draw.timestamp = 1489938759\n",
      "draw.no_of_strokes = 4\n",
      "draw.image_data = [((59, 44, 28, 17, 8, 0, 0, 13, 32, 49, 85, 110, 136, 167, 189, 209, 229, 254, 254, 238, 222, 206, 181, 137, 86, 50, 38), (1, 5, 20, 42, 70, 109, 139, 169, 190, 201, 216, 221, 222, 222, 217, 209, 195, 144, 105, 66, 48, 37, 24, 8, 0, 0, 7)), ((76, 76, 71, 59, 56, 56, 61, 72, 83, 89, 86, 79, 64, 56), (61, 67, 71, 70, 64, 55, 47, 45, 47, 68, 78, 80, 77, 63)), ((176, 166, 146, 133, 130, 157, 192, 198, 196, 190, 177, 157, 139, 131, 129, 132), (82, 86, 85, 75, 64, 51, 50, 59, 78, 87, 95, 96, 90, 81, 72, 71)), ((57, 68, 80, 110, 153, 202, 216, 228, 231), (168, 180, 185, 195, 200, 200, 195, 186, 179))]\n",
      "draw.strokes = [[(59, 1), (44, 5), (28, 20), (17, 42), (8, 70), (0, 109), (0, 139), (13, 169), (32, 190), (49, 201), (85, 216), (110, 221), (136, 222), (167, 222), (189, 217), (209, 209), (229, 195), (254, 144), (254, 105), (238, 66), (222, 48), (206, 37), (181, 24), (137, 8), (86, 0), (50, 0), (38, 7)], [(76, 61), (76, 67), (71, 71), (59, 70), (56, 64), (56, 55), (61, 47), (72, 45), (83, 47), (89, 68), (86, 78), (79, 80), (64, 77), (56, 63)], [(176, 82), (166, 86), (146, 85), (133, 75), (130, 64), (157, 51), (192, 50), (198, 59), (196, 78), (190, 87), (177, 95), (157, 96), (139, 90), (131, 81), (129, 72), (132, 71)], [(57, 168), (68, 180), (80, 185), (110, 195), (153, 200), (202, 200), (216, 195), (228, 186), (231, 179)]]\n"
     ]
    }
   ],
   "source": [
    "draw = qd_data_group.get_drawing(0)\n",
    "print(f\"{draw.name = }\")\n",
    "print(f\"{draw.key_id = }\")\n",
    "print(f\"{draw.countrycode = }\")\n",
    "print(f\"{draw.recognized = }\")\n",
    "print(f\"{draw.timestamp = }\")\n",
    "print(f\"{draw.no_of_strokes = }\")\n",
    "print(f\"{draw.image_data = }\")\n",
    "print(f\"{draw.strokes = }\")"
   ]
  },
  {
   "cell_type": "code",
   "execution_count": 23,
   "metadata": {
    "pycharm": {
     "name": "#%%\n"
    }
   },
   "outputs": [
    {
     "name": "stdout",
     "output_type": "stream",
     "text": [
      "QuickDrawing key_id=5152530285723648\n",
      "QuickDrawing key_id=6485643624448000\n",
      "QuickDrawing key_id=5797653046624256\n",
      "QuickDrawing key_id=6263665525260288\n",
      "QuickDrawing key_id=4601828958273536\n",
      "QuickDrawing key_id=5484978555060224\n",
      "QuickDrawing key_id=5450560280985600\n",
      "QuickDrawing key_id=6108140510642176\n",
      "QuickDrawing key_id=5103347696664576\n",
      "QuickDrawing key_id=5108726367256576\n",
      "QuickDrawing key_id=5299411745767424\n"
     ]
    }
   ],
   "source": [
    "i = 0\n",
    "for drawing in qd_data_group.drawings:\n",
    "    print(drawing)\n",
    "    i += 1\n",
    "    if i > 10: break"
   ]
  },
  {
   "cell_type": "code",
   "execution_count": 24,
   "metadata": {
    "pycharm": {
     "name": "#%%\n"
    }
   },
   "outputs": [
    {
     "name": "stdout",
     "output_type": "stream",
     "text": [
      "loading face drawings\n",
      "load complete\n",
      "qd_data_group.drawing_count = 161666\n"
     ]
    },
    {
     "data": {
      "text/plain": [
       "(255, 255, 3)"
      ]
     },
     "execution_count": 24,
     "metadata": {},
     "output_type": "execute_result"
    }
   ],
   "source": [
    "from quickdraw import QuickDrawDataGroup\n",
    "import numpy as np\n",
    "\n",
    "# Definir el nombre del data set\n",
    "DATASET_NAME = \"face\"\n",
    "\n",
    "# Instanciar la clase\n",
    "qd_data_group = QuickDrawDataGroup(DATASET_NAME, max_drawings=None)\n",
    "print(f\"{qd_data_group.drawing_count = }\")\n",
    "\n",
    "draw = qd_data_group.get_drawing(0)  # Obtener el primer dibujo\n",
    "image = draw.get_image()  # Obtener su imagen Pillow a través del método get_image\n",
    "arr = np.asarray(image)  # Transformarlo en arreglo\n",
    "arr.shape  # Obtener las dimensiones del arreglo"
   ]
  },
  {
   "cell_type": "code",
   "execution_count": 25,
   "metadata": {
    "pycharm": {
     "name": "#%%\n"
    }
   },
   "outputs": [
    {
     "data": {
      "image/png": "[encoded data removed]",
      "text/plain": [
       "<PIL.Image.Image image mode=RGB size=255x255>"
      ]
     },
     "execution_count": 25,
     "metadata": {},
     "output_type": "execute_result"
    }
   ],
   "source": [
    "image"
   ]
  },
  {
   "cell_type": "code",
   "execution_count": 26,
   "metadata": {
    "pycharm": {
     "name": "#%%\n"
    }
   },
   "outputs": [
    {
     "name": "stdout",
     "output_type": "stream",
     "text": [
      "face1.min() = 0.0,\n",
      "face1.max() = 1.0,\n",
      "face1.sum() = 2170.0\n",
      "\n",
      "face1.min() = 0.0,\n",
      "face1.max() = 0.0004608294930875576,\n",
      "face1.sum() = 1.0\n"
     ]
    },
    {
     "data": {
      "text/plain": [
       "<matplotlib.image.AxesImage at 0x12a0afb2ef0>"
      ]
     },
     "execution_count": 26,
     "metadata": {},
     "output_type": "execute_result"
    },
    {
     "data": {
      "image/png": "[encoded data removed]",
      "text/plain": [
       "<Figure size 640x480 with 1 Axes>"
      ]
     },
     "metadata": {},
     "output_type": "display_data"
    }
   ],
   "source": [
    "# Obtener una imagen del rango 0 a 1.\n",
    "#  0 se asigna con el blanco.\n",
    "face1 = 1 - (arr[:, :, 2] / 255)\n",
    "print(f\"{face1.min() = },\\n{face1.max() = },\\n{face1.sum() = }\\n\")\n",
    "\n",
    "# Transformar en distribución\n",
    "face1 /= face1.sum()\n",
    "print(f\"{face1.min() = },\\n{face1.max() = },\\n{face1.sum() = }\")\n",
    "\n",
    "# Plotear\n",
    "plt.imshow(face1, cmap=\"gray_r\")"
   ]
  },
  {
   "cell_type": "code",
   "execution_count": null,
   "metadata": {},
   "outputs": [],
   "source": []
  }
 ],
 "metadata": {
  "kernelspec": {
   "display_name": "Python 3 (ipykernel)",
   "language": "python",
   "name": "python3"
  },
  "language_info": {
   "codemirror_mode": {
    "name": "ipython",
    "version": 3
   },
   "file_extension": ".py",
   "mimetype": "text/x-python",
   "name": "python",
   "nbconvert_exporter": "python",
   "pygments_lexer": "ipython3",
   "version": "3.10.4"
  }
 },
 "nbformat": 4,
 "nbformat_minor": 1
}
