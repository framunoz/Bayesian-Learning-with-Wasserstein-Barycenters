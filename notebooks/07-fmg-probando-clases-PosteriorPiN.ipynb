{
 "cells": [
  {
   "cell_type": "markdown",
   "metadata": {
    "pycharm": {
     "name": "#%% md\n"
    }
   },
   "source": [
    "# Imports y configuraciones básicas"
   ]
  },
  {
   "cell_type": "markdown",
   "metadata": {
    "pycharm": {
     "name": "#%% md\n"
    }
   },
   "source": [
    "Algunos imports que se utilizarán en el resto del notebook"
   ]
  },
  {
   "cell_type": "code",
   "execution_count": null,
   "outputs": [],
   "source": [
    "import matplotlib.pyplot as plt\n",
    "import numpy as np\n",
    "\n",
    "from bwb.distributions import *\n",
    "from bwb.utils import plot_list_of_draws, plot_histogram_from_points\n",
    "\n",
    "import pandas as pd\n",
    "import itertools"
   ],
   "metadata": {
    "collapsed": false,
    "pycharm": {
     "name": "#%%\n"
    }
   }
  },
  {
   "cell_type": "code",
   "execution_count": null,
   "outputs": [],
   "source": [
    "import logging\n",
    "log = logging.getLogger(\"bwb.distributions\")\n",
    "log.setLevel(logging.INFO)"
   ],
   "metadata": {
    "collapsed": false,
    "pycharm": {
     "name": "#%%\n"
    }
   }
  },
  {
   "cell_type": "markdown",
   "source": [
    "Importamos los datos del archivo de Google Cloud"
   ],
   "metadata": {
    "collapsed": false,
    "pycharm": {
     "name": "#%% md\n"
    }
   }
  },
  {
   "cell_type": "code",
   "execution_count": null,
   "outputs": [],
   "source": [
    "data = np.load(r\"..\\data\\face.npy\")\n",
    "data.shape"
   ],
   "metadata": {
    "collapsed": false,
    "pycharm": {
     "name": "#%%\n"
    }
   }
  },
  {
   "cell_type": "markdown",
   "source": [
    "Haremos dos listas de caritas: una sin modificación, y otra con modificación."
   ],
   "metadata": {
    "collapsed": false,
    "pycharm": {
     "name": "#%% md\n"
    }
   }
  },
  {
   "cell_type": "code",
   "execution_count": null,
   "outputs": [],
   "source": [
    "%%time\n",
    "\n",
    "CEIL = 50\n",
    "n_faces = len(data)\n",
    "rng = np.random.default_rng(42)\n",
    "\n",
    "\n",
    "# Builder para hacer las caritas\n",
    "dist_draw_builder = DistributionDrawBuilder(\n",
    "    seed=rng,\n",
    ")\n",
    "\n",
    "# Conjunto de caritas originales (distintos soportes)\n",
    "faces_original = list()\n",
    "for i in range(n_faces):\n",
    "    arr = 255 - data[i, :].reshape(28, 28)\n",
    "    dd_arr = dist_draw_builder.create_fromarray(arr)\n",
    "    faces_original.append(dd_arr)\n",
    "    \n",
    "    \n",
    "# Conjuntos de caritas con soporte no-nulo\n",
    "dist_draw_builder.set_ceil(CEIL)\n",
    "    \n",
    "faces_modified = list()\n",
    "for i in range(n_faces):\n",
    "    arr = 255 - data[i, :].reshape(28, 28)\n",
    "    dd_arr = dist_draw_builder.create_fromarray(arr)\n",
    "    faces_modified.append(dd_arr)\n",
    "    \n",
    "len(faces_original), len(faces_modified)"
   ],
   "metadata": {
    "collapsed": false,
    "pycharm": {
     "name": "#%%\n"
    }
   }
  },
  {
   "cell_type": "markdown",
   "source": [
    "`faces_original` son las caritas sin modificar el soporte, mientras que `faces_modified` es con los que tiene soporte no-nulo."
   ],
   "metadata": {
    "collapsed": false,
    "pycharm": {
     "name": "#%% md\n"
    }
   }
  },
  {
   "cell_type": "code",
   "execution_count": null,
   "outputs": [],
   "source": [
    "plot_list_of_draws(faces_original)"
   ],
   "metadata": {
    "collapsed": false,
    "pycharm": {
     "name": "#%%\n"
    }
   }
  },
  {
   "cell_type": "code",
   "execution_count": null,
   "outputs": [],
   "source": [
    "plot_list_of_draws(faces_modified)"
   ],
   "metadata": {
    "collapsed": false,
    "pycharm": {
     "name": "#%%\n"
    }
   }
  },
  {
   "cell_type": "markdown",
   "source": [
    "Obtendremos la data $D = \\{x_i\\}_{i=1}^{n}\\subseteq\\mathcal{X}^n$, y probaremos los métodos para distintos valores de $n$."
   ],
   "metadata": {
    "collapsed": false,
    "pycharm": {
     "name": "#%% md\n"
    }
   }
  },
  {
   "cell_type": "code",
   "execution_count": null,
   "outputs": [],
   "source": [
    "first_face = DistributionDraw.fromarray(\n",
    "    255 - data[0, :].reshape(28, 28),\n",
    "    seed=42\n",
    ")\n",
    "\n",
    "x = first_face.rvs(size=100)\n",
    "\n",
    "plot_histogram_from_points(x, histplot_kwargs=dict(bins=28))\n",
    "plt.show()"
   ],
   "metadata": {
    "collapsed": false,
    "pycharm": {
     "name": "#%%\n"
    }
   }
  },
  {
   "cell_type": "markdown",
   "source": [
    "# Probando clase `MetropolisPosteriorPiN` datos originales"
   ],
   "metadata": {
    "collapsed": false,
    "pycharm": {
     "name": "#%% md\n"
    }
   }
  },
  {
   "cell_type": "markdown",
   "source": [
    "En esta sección se intentará simular la implementación del algoritmo de *Metropolis* programado en el notebook 05."
   ],
   "metadata": {
    "collapsed": false,
    "pycharm": {
     "name": "#%% md\n"
    }
   }
  },
  {
   "cell_type": "code",
   "execution_count": null,
   "outputs": [],
   "source": [
    "%%time\n",
    "mcmc = MetropolisPosteriorPiN(data=x[:10], models=faces_original, seed=rng)"
   ],
   "metadata": {
    "collapsed": false,
    "pycharm": {
     "name": "#%%\n"
    }
   }
  },
  {
   "cell_type": "markdown",
   "source": [
    "Muestreamos a partir de de esta instancia."
   ],
   "metadata": {
    "collapsed": false,
    "pycharm": {
     "name": "#%% md\n"
    }
   }
  },
  {
   "cell_type": "code",
   "execution_count": null,
   "outputs": [],
   "source": [
    "%%time\n",
    "mcmc.rvs(size=1_000)\n",
    "mcmc"
   ],
   "metadata": {
    "collapsed": false,
    "pycharm": {
     "name": "#%%\n"
    }
   }
  },
  {
   "cell_type": "markdown",
   "source": [
    "Observamos el contador"
   ],
   "metadata": {
    "collapsed": false,
    "pycharm": {
     "name": "#%% md\n"
    }
   }
  },
  {
   "cell_type": "code",
   "execution_count": null,
   "outputs": [],
   "source": [
    "mcmc.counter.most_common()"
   ],
   "metadata": {
    "collapsed": false,
    "pycharm": {
     "name": "#%%\n"
    }
   }
  },
  {
   "cell_type": "markdown",
   "source": [
    "Y mostramos las caras en orden de la más común a la menos común"
   ],
   "metadata": {
    "collapsed": false,
    "pycharm": {
     "name": "#%% md\n"
    }
   }
  },
  {
   "cell_type": "code",
   "execution_count": null,
   "outputs": [],
   "source": [
    "plot_list_of_draws(mcmc.most_common())"
   ],
   "metadata": {
    "collapsed": false,
    "pycharm": {
     "name": "#%%\n"
    }
   }
  },
  {
   "cell_type": "code",
   "execution_count": null,
   "outputs": [],
   "source": [
    "plot_histogram_from_points(x[:10], histplot_kwargs=dict(bins=28))\n",
    "plt.show()"
   ],
   "metadata": {
    "collapsed": false,
    "pycharm": {
     "name": "#%%\n"
    }
   }
  },
  {
   "cell_type": "markdown",
   "source": [
    "# Probando clase `AlternativeMetropolisPosteriorPiN` datos originales"
   ],
   "metadata": {
    "collapsed": false,
    "pycharm": {
     "name": "#%% md\n"
    }
   }
  },
  {
   "cell_type": "markdown",
   "source": [
    "En esta sección se intentará simular la implementación del algoritmo de *Metropolis* programado en el notebook 05."
   ],
   "metadata": {
    "collapsed": false,
    "pycharm": {
     "name": "#%% md\n"
    }
   }
  },
  {
   "cell_type": "code",
   "execution_count": null,
   "outputs": [],
   "source": [
    "%%time\n",
    "mcmc = AlternativeMetropolisPosteriorPiN(data=x[:10], models=faces_original, seed=rng)"
   ],
   "metadata": {
    "collapsed": false,
    "pycharm": {
     "name": "#%%\n"
    }
   }
  },
  {
   "cell_type": "markdown",
   "source": [
    "Muestreamos a partir de de esta instancia."
   ],
   "metadata": {
    "collapsed": false,
    "pycharm": {
     "name": "#%% md\n"
    }
   }
  },
  {
   "cell_type": "code",
   "execution_count": null,
   "outputs": [],
   "source": [
    "%%time\n",
    "mcmc.rvs(size=1_000)\n",
    "mcmc"
   ],
   "metadata": {
    "collapsed": false,
    "pycharm": {
     "name": "#%%\n"
    }
   }
  },
  {
   "cell_type": "markdown",
   "source": [
    "Observamos el contador"
   ],
   "metadata": {
    "collapsed": false,
    "pycharm": {
     "name": "#%% md\n"
    }
   }
  },
  {
   "cell_type": "code",
   "execution_count": null,
   "outputs": [],
   "source": [
    "mcmc.counter.most_common()"
   ],
   "metadata": {
    "collapsed": false,
    "pycharm": {
     "name": "#%%\n"
    }
   }
  },
  {
   "cell_type": "markdown",
   "source": [
    "Y mostramos las caras en orden de la más común a la menos común"
   ],
   "metadata": {
    "collapsed": false,
    "pycharm": {
     "name": "#%% md\n"
    }
   }
  },
  {
   "cell_type": "code",
   "execution_count": null,
   "outputs": [],
   "source": [
    "plot_list_of_draws(mcmc.most_common())"
   ],
   "metadata": {
    "collapsed": false,
    "pycharm": {
     "name": "#%%\n"
    }
   }
  },
  {
   "cell_type": "markdown",
   "source": [
    "# Probando clase `GibbsPosteriorPiN` datos originales"
   ],
   "metadata": {
    "collapsed": false,
    "pycharm": {
     "name": "#%% md\n"
    }
   }
  },
  {
   "cell_type": "markdown",
   "source": [
    "Hacemos lo mismo, pero para la clase `GibbsPosteriorPiN`."
   ],
   "metadata": {
    "collapsed": false,
    "pycharm": {
     "name": "#%% md\n"
    }
   }
  },
  {
   "cell_type": "code",
   "execution_count": null,
   "outputs": [],
   "source": [
    "%%time\n",
    "mcmc = GibbsPosteriorPiN(data=x[:10], models=faces_original, seed=rng)"
   ],
   "metadata": {
    "collapsed": false,
    "pycharm": {
     "name": "#%%\n"
    }
   }
  },
  {
   "cell_type": "markdown",
   "source": [
    "Muestreamos a partir de de esta instancia."
   ],
   "metadata": {
    "collapsed": false,
    "pycharm": {
     "name": "#%% md\n"
    }
   }
  },
  {
   "cell_type": "code",
   "execution_count": null,
   "outputs": [],
   "source": [
    "%%time\n",
    "mcmc.rvs(size=1_000)\n",
    "mcmc"
   ],
   "metadata": {
    "collapsed": false,
    "pycharm": {
     "name": "#%%\n"
    }
   }
  },
  {
   "cell_type": "markdown",
   "source": [
    "Observamos el contador"
   ],
   "metadata": {
    "collapsed": false,
    "pycharm": {
     "name": "#%% md\n"
    }
   }
  },
  {
   "cell_type": "code",
   "execution_count": null,
   "outputs": [],
   "source": [
    "mcmc.counter.most_common()"
   ],
   "metadata": {
    "collapsed": false,
    "pycharm": {
     "name": "#%%\n"
    }
   }
  },
  {
   "cell_type": "code",
   "execution_count": null,
   "outputs": [],
   "source": [
    "plot_list_of_draws(mcmc.most_common())"
   ],
   "metadata": {
    "collapsed": false,
    "pycharm": {
     "name": "#%%\n"
    }
   }
  },
  {
   "cell_type": "markdown",
   "source": [
    "# Probando clase `AlternativeGibbsPosteriorPiN` datos originales"
   ],
   "metadata": {
    "collapsed": false,
    "pycharm": {
     "name": "#%% md\n"
    }
   }
  },
  {
   "cell_type": "markdown",
   "source": [
    "Hacemos lo mismo, pero para la clase `GibbsPosteriorPiN`."
   ],
   "metadata": {
    "collapsed": false,
    "pycharm": {
     "name": "#%% md\n"
    }
   }
  },
  {
   "cell_type": "code",
   "execution_count": null,
   "outputs": [],
   "source": [
    "%%time\n",
    "mcmc = AlternativeGibbsPosteriorPiN(data=x[:10], models=faces_original, seed=rng)"
   ],
   "metadata": {
    "collapsed": false,
    "pycharm": {
     "name": "#%%\n"
    }
   }
  },
  {
   "cell_type": "markdown",
   "source": [
    "Muestreamos a partir de de esta instancia."
   ],
   "metadata": {
    "collapsed": false,
    "pycharm": {
     "name": "#%% md\n"
    }
   }
  },
  {
   "cell_type": "code",
   "execution_count": null,
   "outputs": [],
   "source": [
    "%%time\n",
    "mcmc.rvs(size=1_000)\n",
    "mcmc"
   ],
   "metadata": {
    "collapsed": false,
    "pycharm": {
     "name": "#%%\n"
    }
   }
  },
  {
   "cell_type": "markdown",
   "source": [
    "Observamos el contador"
   ],
   "metadata": {
    "collapsed": false,
    "pycharm": {
     "name": "#%% md\n"
    }
   }
  },
  {
   "cell_type": "code",
   "execution_count": null,
   "outputs": [],
   "source": [
    "mcmc.counter.most_common()"
   ],
   "metadata": {
    "collapsed": false,
    "pycharm": {
     "name": "#%%\n"
    }
   }
  },
  {
   "cell_type": "code",
   "execution_count": null,
   "outputs": [],
   "source": [
    "plot_list_of_draws(mcmc.most_common())"
   ],
   "metadata": {
    "collapsed": false,
    "pycharm": {
     "name": "#%%\n"
    }
   }
  },
  {
   "cell_type": "markdown",
   "source": [
    "# Probando clase `MetropolisPosteriorPiN` datos modificados"
   ],
   "metadata": {
    "collapsed": false,
    "pycharm": {
     "name": "#%% md\n"
    }
   }
  },
  {
   "cell_type": "markdown",
   "source": [
    "En esta sección se intentará simular el algoritmo de *Metropolis* programado en el notebook 06, el que posee los datos modificados con soporte no-nulo."
   ],
   "metadata": {
    "collapsed": false,
    "pycharm": {
     "name": "#%% md\n"
    }
   }
  },
  {
   "cell_type": "code",
   "execution_count": null,
   "outputs": [],
   "source": [
    "%%time\n",
    "mcmc = MetropolisPosteriorPiN(data=x[:10], models=faces_modified, seed=rng)"
   ],
   "metadata": {
    "collapsed": false,
    "pycharm": {
     "name": "#%%\n"
    }
   }
  },
  {
   "cell_type": "markdown",
   "source": [
    "Muestreamos a partir de de esta instancia."
   ],
   "metadata": {
    "collapsed": false,
    "pycharm": {
     "name": "#%% md\n"
    }
   }
  },
  {
   "cell_type": "code",
   "execution_count": null,
   "outputs": [],
   "source": [
    "%%time\n",
    "mcmc.rvs(size=1_000)\n",
    "mcmc"
   ],
   "metadata": {
    "collapsed": false,
    "pycharm": {
     "name": "#%%\n"
    }
   }
  },
  {
   "cell_type": "markdown",
   "source": [
    "Observamos el contador"
   ],
   "metadata": {
    "collapsed": false,
    "pycharm": {
     "name": "#%% md\n"
    }
   }
  },
  {
   "cell_type": "code",
   "execution_count": null,
   "outputs": [],
   "source": [
    "mcmc.counter.most_common()"
   ],
   "metadata": {
    "collapsed": false,
    "pycharm": {
     "name": "#%%\n"
    }
   }
  },
  {
   "cell_type": "code",
   "execution_count": null,
   "outputs": [],
   "source": [
    "plot_list_of_draws(mcmc.most_common())"
   ],
   "metadata": {
    "collapsed": false,
    "pycharm": {
     "name": "#%%\n"
    }
   }
  },
  {
   "cell_type": "code",
   "execution_count": null,
   "outputs": [],
   "source": [
    "plot_histogram_from_points(x[:30], histplot_kwargs=dict(bins=28))\n",
    "plt.show()"
   ],
   "metadata": {
    "collapsed": false,
    "pycharm": {
     "name": "#%%\n"
    }
   }
  },
  {
   "cell_type": "markdown",
   "source": [
    "# Probando clase `GibbsPosteriorPiN` datos modificados"
   ],
   "metadata": {
    "collapsed": false,
    "pycharm": {
     "name": "#%% md\n"
    }
   }
  },
  {
   "cell_type": "markdown",
   "source": [
    "Probamos el algoritmo de Gibbs utilizando los datos modificados."
   ],
   "metadata": {
    "collapsed": false,
    "pycharm": {
     "name": "#%% md\n"
    }
   }
  },
  {
   "cell_type": "code",
   "execution_count": null,
   "outputs": [],
   "source": [
    "%%time\n",
    "mcmc = GibbsPosteriorPiN(data=x[:30], models=faces_modified, seed=rng)"
   ],
   "metadata": {
    "collapsed": false,
    "pycharm": {
     "name": "#%%\n"
    }
   }
  },
  {
   "cell_type": "markdown",
   "source": [
    "Muestreamos a partir de de esta instancia."
   ],
   "metadata": {
    "collapsed": false,
    "pycharm": {
     "name": "#%% md\n"
    }
   }
  },
  {
   "cell_type": "code",
   "execution_count": null,
   "outputs": [],
   "source": [
    "%%time\n",
    "mcmc.rvs(size=1_000)\n",
    "mcmc"
   ],
   "metadata": {
    "collapsed": false,
    "pycharm": {
     "name": "#%%\n"
    }
   }
  },
  {
   "cell_type": "markdown",
   "source": [
    "Observamos el contador"
   ],
   "metadata": {
    "collapsed": false,
    "pycharm": {
     "name": "#%% md\n"
    }
   }
  },
  {
   "cell_type": "code",
   "execution_count": null,
   "outputs": [],
   "source": [
    "mcmc.counter.most_common()"
   ],
   "metadata": {
    "collapsed": false,
    "pycharm": {
     "name": "#%%\n"
    }
   }
  },
  {
   "cell_type": "markdown",
   "source": [
    "Notamos que el algoritmo tiene especial preferencia para la primera cara. Esto tiene sentido, pues es de donde se obtuvieron los datos. Sin embargo, por esta misma razón, se intentará correr el algoritmo con los otros datos, excluyendo la primera cara."
   ],
   "metadata": {
    "collapsed": false,
    "pycharm": {
     "name": "#%% md\n"
    }
   }
  },
  {
   "cell_type": "code",
   "execution_count": null,
   "outputs": [],
   "source": [
    "plot_list_of_draws(mcmc.most_common())"
   ],
   "metadata": {
    "collapsed": false,
    "pycharm": {
     "name": "#%%\n"
    }
   }
  },
  {
   "cell_type": "markdown",
   "source": [
    "# `GibbsPosteriorPiN` con los datos modificacos, sin el primer dibujo"
   ],
   "metadata": {
    "collapsed": false,
    "pycharm": {
     "name": "#%% md\n"
    }
   }
  },
  {
   "cell_type": "code",
   "execution_count": null,
   "outputs": [],
   "source": [
    "%%time\n",
    "mcmc = GibbsPosteriorPiN(data=x[:30], models=faces_modified[1:], seed=rng)"
   ],
   "metadata": {
    "collapsed": false,
    "pycharm": {
     "name": "#%%\n"
    }
   }
  },
  {
   "cell_type": "markdown",
   "source": [
    "Muestreamos a partir de de esta instancia."
   ],
   "metadata": {
    "collapsed": false,
    "pycharm": {
     "name": "#%% md\n"
    }
   }
  },
  {
   "cell_type": "code",
   "execution_count": null,
   "outputs": [],
   "source": [
    "%%time\n",
    "mcmc.rvs(size=1_000)\n",
    "mcmc"
   ],
   "metadata": {
    "collapsed": false,
    "pycharm": {
     "name": "#%%\n"
    }
   }
  },
  {
   "cell_type": "markdown",
   "source": [
    "Observamos el contador"
   ],
   "metadata": {
    "collapsed": false,
    "pycharm": {
     "name": "#%% md\n"
    }
   }
  },
  {
   "cell_type": "code",
   "execution_count": null,
   "outputs": [],
   "source": [
    "mcmc.counter.most_common()"
   ],
   "metadata": {
    "collapsed": false,
    "pycharm": {
     "name": "#%%\n"
    }
   }
  },
  {
   "cell_type": "code",
   "execution_count": null,
   "outputs": [],
   "source": [
    "plot_list_of_draws(mcmc.most_common())"
   ],
   "metadata": {
    "collapsed": false,
    "pycharm": {
     "name": "#%%\n"
    }
   }
  },
  {
   "cell_type": "markdown",
   "source": [
    "Notamos que ahora los sampleos se encuentran más \"equilibrados\". Ahora nos interesaremos en un test de \"estrés\", querremos probar con $n$ alto."
   ],
   "metadata": {
    "collapsed": false,
    "pycharm": {
     "name": "#%% md\n"
    }
   }
  },
  {
   "cell_type": "markdown",
   "source": [
    "# `GibbsPosteriorPiN` con $n=50$ sin la primera cara"
   ],
   "metadata": {
    "collapsed": false,
    "pycharm": {
     "name": "#%% md\n"
    }
   }
  },
  {
   "cell_type": "code",
   "execution_count": null,
   "outputs": [],
   "source": [
    "%%time\n",
    "mcmc = GibbsPosteriorPiN(data=x[:50], models=faces_modified[1:], seed=rng)"
   ],
   "metadata": {
    "collapsed": false,
    "pycharm": {
     "name": "#%%\n"
    }
   }
  },
  {
   "cell_type": "markdown",
   "source": [
    "Muestreamos a partir de de esta instancia."
   ],
   "metadata": {
    "collapsed": false,
    "pycharm": {
     "name": "#%% md\n"
    }
   }
  },
  {
   "cell_type": "code",
   "execution_count": null,
   "outputs": [],
   "source": [
    "%%time\n",
    "mcmc.rvs(size=1_000)\n",
    "mcmc"
   ],
   "metadata": {
    "collapsed": false,
    "pycharm": {
     "name": "#%%\n"
    }
   }
  },
  {
   "cell_type": "markdown",
   "source": [
    "Observamos el contador"
   ],
   "metadata": {
    "collapsed": false,
    "pycharm": {
     "name": "#%% md\n"
    }
   }
  },
  {
   "cell_type": "code",
   "execution_count": null,
   "outputs": [],
   "source": [
    "mcmc.counter.most_common()"
   ],
   "metadata": {
    "collapsed": false,
    "pycharm": {
     "name": "#%%\n"
    }
   }
  },
  {
   "cell_type": "code",
   "execution_count": null,
   "outputs": [],
   "source": [
    "faces_modified[0]"
   ],
   "metadata": {
    "collapsed": false,
    "pycharm": {
     "name": "#%%\n"
    }
   }
  },
  {
   "cell_type": "code",
   "execution_count": null,
   "outputs": [],
   "source": [
    "plot_list_of_draws(mcmc.most_common())"
   ],
   "metadata": {
    "collapsed": false,
    "pycharm": {
     "name": "#%%\n"
    }
   }
  },
  {
   "cell_type": "markdown",
   "source": [
    "# `GibbsPosteriorPiN` con $n=100$ sin la primera cara"
   ],
   "metadata": {
    "collapsed": false,
    "pycharm": {
     "name": "#%% md\n"
    }
   }
  },
  {
   "cell_type": "code",
   "execution_count": null,
   "outputs": [],
   "source": [
    "%%time\n",
    "mcmc = GibbsPosteriorPiN(data=x, models=faces_modified[1:], seed=rng)"
   ],
   "metadata": {
    "collapsed": false,
    "pycharm": {
     "name": "#%%\n"
    }
   }
  },
  {
   "cell_type": "markdown",
   "source": [
    "Muestreamos a partir de de esta instancia."
   ],
   "metadata": {
    "collapsed": false,
    "pycharm": {
     "name": "#%% md\n"
    }
   }
  },
  {
   "cell_type": "code",
   "execution_count": null,
   "outputs": [],
   "source": [
    "%%time\n",
    "mcmc.rvs(size=1_000)\n",
    "mcmc"
   ],
   "metadata": {
    "collapsed": false,
    "pycharm": {
     "name": "#%%\n"
    }
   }
  },
  {
   "cell_type": "markdown",
   "source": [
    "Observamos el contador"
   ],
   "metadata": {
    "collapsed": false,
    "pycharm": {
     "name": "#%% md\n"
    }
   }
  },
  {
   "cell_type": "code",
   "execution_count": null,
   "outputs": [],
   "source": [
    "mcmc.counter.most_common()"
   ],
   "metadata": {
    "collapsed": false,
    "pycharm": {
     "name": "#%%\n"
    }
   }
  },
  {
   "cell_type": "code",
   "execution_count": null,
   "outputs": [],
   "source": [
    "faces_modified[0]"
   ],
   "metadata": {
    "collapsed": false,
    "pycharm": {
     "name": "#%%\n"
    }
   }
  },
  {
   "cell_type": "code",
   "execution_count": null,
   "outputs": [],
   "source": [
    "plot_list_of_draws(mcmc.most_common())"
   ],
   "metadata": {
    "collapsed": false,
    "pycharm": {
     "name": "#%%\n"
    }
   }
  },
  {
   "cell_type": "markdown",
   "source": [
    "# `GibbsPosteriorPiN` con $n=100$ sin la primera cara"
   ],
   "metadata": {
    "collapsed": false,
    "pycharm": {
     "name": "#%% md\n"
    }
   }
  },
  {
   "cell_type": "code",
   "execution_count": null,
   "outputs": [],
   "source": [
    "%%time\n",
    "mcmc = GibbsPosteriorPiN(data=x, models=faces_original, seed=rng)"
   ],
   "metadata": {
    "collapsed": false,
    "pycharm": {
     "name": "#%%\n"
    }
   }
  },
  {
   "cell_type": "markdown",
   "source": [
    "Muestreamos a partir de de esta instancia."
   ],
   "metadata": {
    "collapsed": false,
    "pycharm": {
     "name": "#%% md\n"
    }
   }
  },
  {
   "cell_type": "code",
   "execution_count": null,
   "outputs": [],
   "source": [
    "%%time\n",
    "mcmc.rvs(size=1_000)\n",
    "mcmc"
   ],
   "metadata": {
    "collapsed": false,
    "pycharm": {
     "name": "#%%\n"
    }
   }
  },
  {
   "cell_type": "markdown",
   "source": [
    "Observamos el contador"
   ],
   "metadata": {
    "collapsed": false,
    "pycharm": {
     "name": "#%% md\n"
    }
   }
  },
  {
   "cell_type": "code",
   "execution_count": null,
   "outputs": [],
   "source": [
    "mcmc.counter.most_common()"
   ],
   "metadata": {
    "collapsed": false,
    "pycharm": {
     "name": "#%%\n"
    }
   }
  },
  {
   "cell_type": "code",
   "execution_count": null,
   "outputs": [],
   "source": [
    "faces_modified[0]"
   ],
   "metadata": {
    "collapsed": false,
    "pycharm": {
     "name": "#%%\n"
    }
   }
  },
  {
   "cell_type": "code",
   "execution_count": null,
   "outputs": [],
   "source": [
    "plot_list_of_draws(mcmc.most_common())"
   ],
   "metadata": {
    "collapsed": false,
    "pycharm": {
     "name": "#%%\n"
    }
   }
  },
  {
   "cell_type": "code",
   "execution_count": 43,
   "metadata": {
    "pycharm": {
     "name": "#%%\n"
    },
    "scrolled": true
   },
   "outputs": [
    {
     "name": "stderr",
     "output_type": "stream",
     "text": [
      "2023-01-24 15:14:35,551: INFO [bwb.distributions:243] init PosteriorPiN: n_data=100, n_models=161665\n",
      "2023-01-24 15:14:35,553: INFO [bwb.distributions:460] Executing _first_step\n",
      "2023-01-24 15:14:44,849: INFO [bwb.distributions:467] First model selected: 134615.\n"
     ]
    },
    {
     "name": "stdout",
     "output_type": "stream",
     "text": [
      "CPU times: total: 9.28 s\n",
      "Wall time: 9.3 s\n"
     ]
    }
   ],
   "source": [
    "%%time\n",
    "mcmc = GibbsPosteriorPiN(data=x, models=faces_modified[1:], seed=rng)"
   ]
  },
  {
   "cell_type": "markdown",
   "metadata": {
    "pycharm": {
     "name": "#%% md\n"
    }
   },
   "source": [
    "Muestreamos a partir de de esta instancia."
   ]
  },
  {
   "cell_type": "code",
   "execution_count": 44,
   "metadata": {
    "pycharm": {
     "name": "#%%\n"
    }
   },
   "outputs": [
    {
     "name": "stderr",
     "output_type": "stream",
     "text": [
      "2023-01-24 15:14:44,903: INFO [bwb.distributions:508] i = 1: last_i = 134615 -> next_i = 71038.\n",
      "2023-01-24 15:14:44,928: INFO [bwb.distributions:508] i = 2: last_i = 71038 -> next_i = 150907.\n",
      "2023-01-24 15:14:44,950: INFO [bwb.distributions:508] i = 3: last_i = 150907 -> next_i = 71038.\n",
      "2023-01-24 15:14:44,988: INFO [bwb.distributions:508] i = 5: last_i = 71038 -> next_i = 148766.\n",
      "2023-01-24 15:14:45,009: INFO [bwb.distributions:508] i = 6: last_i = 148766 -> next_i = 150907.\n",
      "2023-01-24 15:14:45,047: INFO [bwb.distributions:508] i = 8: last_i = 150907 -> next_i = 71038.\n",
      "2023-01-24 15:14:45,067: INFO [bwb.distributions:508] i = 9: last_i = 71038 -> next_i = 150907.\n",
      "2023-01-24 15:14:45,128: INFO [bwb.distributions:508] i = 12: last_i = 150907 -> next_i = 71038.\n",
      "2023-01-24 15:14:45,148: INFO [bwb.distributions:508] i = 13: last_i = 71038 -> next_i = 150907.\n",
      "2023-01-24 15:14:45,169: INFO [bwb.distributions:508] i = 14: last_i = 150907 -> next_i = 71038.\n",
      "2023-01-24 15:14:45,192: INFO [bwb.distributions:508] i = 15: last_i = 71038 -> next_i = 150907.\n",
      "2023-01-24 15:14:45,215: INFO [bwb.distributions:508] i = 16: last_i = 150907 -> next_i = 71038.\n",
      "2023-01-24 15:14:45,237: INFO [bwb.distributions:508] i = 17: last_i = 71038 -> next_i = 136493.\n",
      "2023-01-24 15:14:45,279: INFO [bwb.distributions:508] i = 19: last_i = 136493 -> next_i = 71038.\n",
      "2023-01-24 15:14:45,299: INFO [bwb.distributions:508] i = 20: last_i = 71038 -> next_i = 150907.\n",
      "2023-01-24 15:14:45,323: INFO [bwb.distributions:508] i = 21: last_i = 150907 -> next_i = 71038.\n",
      "2023-01-24 15:14:45,351: INFO [bwb.distributions:508] i = 22: last_i = 71038 -> next_i = 150907.\n",
      "2023-01-24 15:14:45,380: INFO [bwb.distributions:508] i = 23: last_i = 150907 -> next_i = 71038.\n",
      "2023-01-24 15:14:45,404: INFO [bwb.distributions:508] i = 24: last_i = 71038 -> next_i = 150907.\n",
      "2023-01-24 15:14:45,432: INFO [bwb.distributions:508] i = 25: last_i = 150907 -> next_i = 148766.\n",
      "2023-01-24 15:14:45,455: INFO [bwb.distributions:508] i = 26: last_i = 148766 -> next_i = 150907.\n",
      "2023-01-24 15:14:45,480: INFO [bwb.distributions:508] i = 27: last_i = 150907 -> next_i = 71038.\n",
      "2023-01-24 15:14:45,509: INFO [bwb.distributions:508] i = 28: last_i = 71038 -> next_i = 148766.\n",
      "2023-01-24 15:14:45,535: INFO [bwb.distributions:508] i = 29: last_i = 148766 -> next_i = 71038.\n",
      "2023-01-24 15:14:45,561: INFO [bwb.distributions:508] i = 30: last_i = 71038 -> next_i = 150907.\n",
      "2023-01-24 15:14:45,587: INFO [bwb.distributions:508] i = 31: last_i = 150907 -> next_i = 136493.\n",
      "2023-01-24 15:14:45,611: INFO [bwb.distributions:508] i = 32: last_i = 136493 -> next_i = 71038.\n",
      "2023-01-24 15:14:45,635: INFO [bwb.distributions:508] i = 33: last_i = 71038 -> next_i = 150907.\n",
      "2023-01-24 15:14:45,660: INFO [bwb.distributions:508] i = 34: last_i = 150907 -> next_i = 71038.\n",
      "2023-01-24 15:14:45,685: INFO [bwb.distributions:508] i = 35: last_i = 71038 -> next_i = 150907.\n",
      "2023-01-24 15:14:45,711: INFO [bwb.distributions:508] i = 36: last_i = 150907 -> next_i = 71038.\n",
      "2023-01-24 15:14:45,738: INFO [bwb.distributions:508] i = 37: last_i = 71038 -> next_i = 128011.\n",
      "2023-01-24 15:14:45,768: INFO [bwb.distributions:508] i = 38: last_i = 128011 -> next_i = 150907.\n",
      "2023-01-24 15:14:45,813: INFO [bwb.distributions:508] i = 40: last_i = 150907 -> next_i = 71038.\n",
      "2023-01-24 15:14:45,839: INFO [bwb.distributions:508] i = 41: last_i = 71038 -> next_i = 65460.\n",
      "2023-01-24 15:14:45,865: INFO [bwb.distributions:508] i = 42: last_i = 65460 -> next_i = 71038.\n",
      "2023-01-24 15:14:45,888: INFO [bwb.distributions:508] i = 43: last_i = 71038 -> next_i = 150907.\n",
      "2023-01-24 15:14:45,913: INFO [bwb.distributions:508] i = 44: last_i = 150907 -> next_i = 65460.\n",
      "2023-01-24 15:14:45,937: INFO [bwb.distributions:508] i = 45: last_i = 65460 -> next_i = 71038.\n",
      "2023-01-24 15:14:45,962: INFO [bwb.distributions:508] i = 46: last_i = 71038 -> next_i = 136493.\n",
      "2023-01-24 15:14:45,986: INFO [bwb.distributions:508] i = 47: last_i = 136493 -> next_i = 150907.\n",
      "2023-01-24 15:14:46,012: INFO [bwb.distributions:508] i = 48: last_i = 150907 -> next_i = 71038.\n",
      "2023-01-24 15:14:46,036: INFO [bwb.distributions:508] i = 49: last_i = 71038 -> next_i = 150907.\n",
      "2023-01-24 15:14:46,057: INFO [bwb.distributions:508] i = 50: last_i = 150907 -> next_i = 71038.\n",
      "2023-01-24 15:14:46,084: INFO [bwb.distributions:508] i = 51: last_i = 71038 -> next_i = 150907.\n",
      "2023-01-24 15:14:46,128: INFO [bwb.distributions:508] i = 53: last_i = 150907 -> next_i = 71038.\n",
      "2023-01-24 15:14:46,152: INFO [bwb.distributions:508] i = 54: last_i = 71038 -> next_i = 150907.\n",
      "2023-01-24 15:14:46,178: INFO [bwb.distributions:508] i = 55: last_i = 150907 -> next_i = 71038.\n",
      "2023-01-24 15:14:46,198: INFO [bwb.distributions:508] i = 56: last_i = 71038 -> next_i = 150907.\n",
      "2023-01-24 15:14:46,244: INFO [bwb.distributions:508] i = 58: last_i = 150907 -> next_i = 148766.\n",
      "2023-01-24 15:14:46,264: INFO [bwb.distributions:508] i = 59: last_i = 148766 -> next_i = 71038.\n",
      "2023-01-24 15:14:46,290: INFO [bwb.distributions:508] i = 60: last_i = 71038 -> next_i = 150907.\n",
      "2023-01-24 15:14:46,316: INFO [bwb.distributions:508] i = 61: last_i = 150907 -> next_i = 71038.\n",
      "2023-01-24 15:14:46,341: INFO [bwb.distributions:508] i = 62: last_i = 71038 -> next_i = 150907.\n",
      "2023-01-24 15:14:46,361: INFO [bwb.distributions:508] i = 63: last_i = 150907 -> next_i = 136493.\n",
      "2023-01-24 15:14:46,384: INFO [bwb.distributions:508] i = 64: last_i = 136493 -> next_i = 71038.\n",
      "2023-01-24 15:14:46,413: INFO [bwb.distributions:508] i = 65: last_i = 71038 -> next_i = 150907.\n",
      "2023-01-24 15:14:46,441: INFO [bwb.distributions:508] i = 66: last_i = 150907 -> next_i = 71038.\n",
      "2023-01-24 15:14:46,468: INFO [bwb.distributions:508] i = 67: last_i = 71038 -> next_i = 150907.\n",
      "2023-01-24 15:14:46,496: INFO [bwb.distributions:508] i = 68: last_i = 150907 -> next_i = 71038.\n",
      "2023-01-24 15:14:46,521: INFO [bwb.distributions:508] i = 69: last_i = 71038 -> next_i = 150907.\n",
      "2023-01-24 15:14:46,553: INFO [bwb.distributions:508] i = 70: last_i = 150907 -> next_i = 71038.\n",
      "2023-01-24 15:14:46,580: INFO [bwb.distributions:508] i = 71: last_i = 71038 -> next_i = 148766.\n",
      "2023-01-24 15:14:46,604: INFO [bwb.distributions:508] i = 72: last_i = 148766 -> next_i = 71038.\n",
      "2023-01-24 15:14:46,629: INFO [bwb.distributions:508] i = 73: last_i = 71038 -> next_i = 136493.\n",
      "2023-01-24 15:14:46,656: INFO [bwb.distributions:508] i = 74: last_i = 136493 -> next_i = 114247.\n",
      "2023-01-24 15:14:46,684: INFO [bwb.distributions:508] i = 75: last_i = 114247 -> next_i = 150907.\n",
      "2023-01-24 15:14:46,706: INFO [bwb.distributions:508] i = 76: last_i = 150907 -> next_i = 136493.\n",
      "2023-01-24 15:14:46,733: INFO [bwb.distributions:508] i = 77: last_i = 136493 -> next_i = 150907.\n",
      "2023-01-24 15:14:46,755: INFO [bwb.distributions:508] i = 78: last_i = 150907 -> next_i = 71038.\n",
      "2023-01-24 15:14:46,805: INFO [bwb.distributions:508] i = 80: last_i = 71038 -> next_i = 136493.\n",
      "2023-01-24 15:14:46,830: INFO [bwb.distributions:508] i = 81: last_i = 136493 -> next_i = 150907.\n",
      "2023-01-24 15:14:46,860: INFO [bwb.distributions:508] i = 82: last_i = 150907 -> next_i = 148766.\n",
      "2023-01-24 15:14:46,886: INFO [bwb.distributions:508] i = 83: last_i = 148766 -> next_i = 71038.\n",
      "2023-01-24 15:14:46,912: INFO [bwb.distributions:508] i = 84: last_i = 71038 -> next_i = 136493.\n",
      "2023-01-24 15:14:46,939: INFO [bwb.distributions:508] i = 85: last_i = 136493 -> next_i = 150907.\n",
      "2023-01-24 15:14:46,963: INFO [bwb.distributions:508] i = 86: last_i = 150907 -> next_i = 71038.\n",
      "2023-01-24 15:14:46,988: INFO [bwb.distributions:508] i = 87: last_i = 71038 -> next_i = 150907.\n",
      "2023-01-24 15:14:47,012: INFO [bwb.distributions:508] i = 88: last_i = 150907 -> next_i = 71038.\n",
      "2023-01-24 15:14:47,038: INFO [bwb.distributions:508] i = 89: last_i = 71038 -> next_i = 91382.\n",
      "2023-01-24 15:14:47,064: INFO [bwb.distributions:508] i = 90: last_i = 91382 -> next_i = 71038.\n",
      "2023-01-24 15:14:47,089: INFO [bwb.distributions:508] i = 91: last_i = 71038 -> next_i = 150907.\n",
      "2023-01-24 15:14:47,113: INFO [bwb.distributions:508] i = 92: last_i = 150907 -> next_i = 71038.\n",
      "2023-01-24 15:14:47,140: INFO [bwb.distributions:508] i = 93: last_i = 71038 -> next_i = 97267.\n",
      "2023-01-24 15:14:47,167: INFO [bwb.distributions:508] i = 94: last_i = 97267 -> next_i = 150907.\n"
     ]
    },
    {
     "name": "stderr",
     "output_type": "stream",
     "text": [
      "2023-01-24 15:14:47,191: INFO [bwb.distributions:508] i = 95: last_i = 150907 -> next_i = 71038.\n",
      "2023-01-24 15:14:47,220: INFO [bwb.distributions:508] i = 96: last_i = 71038 -> next_i = 150907.\n",
      "2023-01-24 15:14:47,244: INFO [bwb.distributions:508] i = 97: last_i = 150907 -> next_i = 71038.\n",
      "2023-01-24 15:14:47,269: INFO [bwb.distributions:508] i = 98: last_i = 71038 -> next_i = 150907.\n",
      "2023-01-24 15:14:47,294: INFO [bwb.distributions:508] i = 99: last_i = 150907 -> next_i = 71038.\n",
      "2023-01-24 15:14:47,316: INFO [bwb.distributions:508] i = 100: last_i = 71038 -> next_i = 150907.\n",
      "2023-01-24 15:14:47,341: INFO [bwb.distributions:508] i = 101: last_i = 150907 -> next_i = 71038.\n",
      "2023-01-24 15:14:47,386: INFO [bwb.distributions:508] i = 103: last_i = 71038 -> next_i = 150907.\n",
      "2023-01-24 15:14:47,406: INFO [bwb.distributions:508] i = 104: last_i = 150907 -> next_i = 38313.\n",
      "2023-01-24 15:14:47,438: INFO [bwb.distributions:508] i = 105: last_i = 38313 -> next_i = 150907.\n",
      "2023-01-24 15:14:47,460: INFO [bwb.distributions:508] i = 106: last_i = 150907 -> next_i = 71038.\n",
      "2023-01-24 15:14:47,483: INFO [bwb.distributions:508] i = 107: last_i = 71038 -> next_i = 150907.\n",
      "2023-01-24 15:14:47,510: INFO [bwb.distributions:508] i = 108: last_i = 150907 -> next_i = 71038.\n",
      "2023-01-24 15:14:47,533: INFO [bwb.distributions:508] i = 109: last_i = 71038 -> next_i = 150907.\n",
      "2023-01-24 15:14:47,568: INFO [bwb.distributions:508] i = 110: last_i = 150907 -> next_i = 71038.\n",
      "2023-01-24 15:14:47,595: INFO [bwb.distributions:508] i = 111: last_i = 71038 -> next_i = 150907.\n",
      "2023-01-24 15:14:47,620: INFO [bwb.distributions:508] i = 112: last_i = 150907 -> next_i = 136493.\n",
      "2023-01-24 15:14:47,646: INFO [bwb.distributions:508] i = 113: last_i = 136493 -> next_i = 150907.\n",
      "2023-01-24 15:14:47,675: INFO [bwb.distributions:508] i = 114: last_i = 150907 -> next_i = 71038.\n",
      "2023-01-24 15:14:47,733: INFO [bwb.distributions:508] i = 116: last_i = 71038 -> next_i = 150907.\n",
      "2023-01-24 15:14:47,763: INFO [bwb.distributions:508] i = 117: last_i = 150907 -> next_i = 148766.\n",
      "2023-01-24 15:14:47,790: INFO [bwb.distributions:508] i = 118: last_i = 148766 -> next_i = 150907.\n",
      "2023-01-24 15:14:47,835: INFO [bwb.distributions:508] i = 120: last_i = 150907 -> next_i = 71038.\n",
      "2023-01-24 15:14:47,856: INFO [bwb.distributions:508] i = 121: last_i = 71038 -> next_i = 136493.\n",
      "2023-01-24 15:14:47,877: INFO [bwb.distributions:508] i = 122: last_i = 136493 -> next_i = 150907.\n",
      "2023-01-24 15:14:47,919: INFO [bwb.distributions:508] i = 123: last_i = 150907 -> next_i = 71038.\n",
      "2023-01-24 15:14:47,941: INFO [bwb.distributions:508] i = 124: last_i = 71038 -> next_i = 136493.\n",
      "2023-01-24 15:14:47,961: INFO [bwb.distributions:508] i = 125: last_i = 136493 -> next_i = 71038.\n",
      "2023-01-24 15:14:48,000: INFO [bwb.distributions:508] i = 127: last_i = 71038 -> next_i = 150907.\n",
      "2023-01-24 15:14:48,020: INFO [bwb.distributions:508] i = 128: last_i = 150907 -> next_i = 136493.\n",
      "2023-01-24 15:14:48,040: INFO [bwb.distributions:508] i = 129: last_i = 136493 -> next_i = 71038.\n",
      "2023-01-24 15:14:48,060: INFO [bwb.distributions:508] i = 130: last_i = 71038 -> next_i = 150907.\n",
      "2023-01-24 15:14:48,079: INFO [bwb.distributions:508] i = 131: last_i = 150907 -> next_i = 71038.\n",
      "2023-01-24 15:14:48,098: INFO [bwb.distributions:508] i = 132: last_i = 71038 -> next_i = 150907.\n",
      "2023-01-24 15:14:48,135: INFO [bwb.distributions:508] i = 134: last_i = 150907 -> next_i = 71038.\n",
      "2023-01-24 15:14:48,156: INFO [bwb.distributions:508] i = 135: last_i = 71038 -> next_i = 136493.\n",
      "2023-01-24 15:14:48,175: INFO [bwb.distributions:508] i = 136: last_i = 136493 -> next_i = 150907.\n",
      "2023-01-24 15:14:48,197: INFO [bwb.distributions:508] i = 137: last_i = 150907 -> next_i = 71038.\n",
      "2023-01-24 15:14:48,216: INFO [bwb.distributions:508] i = 138: last_i = 71038 -> next_i = 150907.\n",
      "2023-01-24 15:14:48,239: INFO [bwb.distributions:508] i = 139: last_i = 150907 -> next_i = 71038.\n",
      "2023-01-24 15:14:48,257: INFO [bwb.distributions:508] i = 140: last_i = 71038 -> next_i = 150907.\n",
      "2023-01-24 15:14:48,276: INFO [bwb.distributions:508] i = 141: last_i = 150907 -> next_i = 71038.\n",
      "2023-01-24 15:14:48,294: INFO [bwb.distributions:508] i = 142: last_i = 71038 -> next_i = 150907.\n",
      "2023-01-24 15:14:48,312: INFO [bwb.distributions:508] i = 143: last_i = 150907 -> next_i = 71038.\n",
      "2023-01-24 15:14:48,330: INFO [bwb.distributions:508] i = 144: last_i = 71038 -> next_i = 150907.\n",
      "2023-01-24 15:14:48,349: INFO [bwb.distributions:508] i = 145: last_i = 150907 -> next_i = 71038.\n",
      "2023-01-24 15:14:48,369: INFO [bwb.distributions:508] i = 146: last_i = 71038 -> next_i = 150907.\n",
      "2023-01-24 15:14:48,388: INFO [bwb.distributions:508] i = 147: last_i = 150907 -> next_i = 71038.\n",
      "2023-01-24 15:14:48,407: INFO [bwb.distributions:508] i = 148: last_i = 71038 -> next_i = 150907.\n",
      "2023-01-24 15:14:48,427: INFO [bwb.distributions:508] i = 149: last_i = 150907 -> next_i = 71038.\n",
      "2023-01-24 15:14:48,445: INFO [bwb.distributions:508] i = 150: last_i = 71038 -> next_i = 150907.\n",
      "2023-01-24 15:14:48,463: INFO [bwb.distributions:508] i = 151: last_i = 150907 -> next_i = 71038.\n",
      "2023-01-24 15:14:48,481: INFO [bwb.distributions:508] i = 152: last_i = 71038 -> next_i = 150907.\n",
      "2023-01-24 15:14:48,500: INFO [bwb.distributions:508] i = 153: last_i = 150907 -> next_i = 71038.\n",
      "2023-01-24 15:14:48,519: INFO [bwb.distributions:508] i = 154: last_i = 71038 -> next_i = 150907.\n",
      "2023-01-24 15:14:48,537: INFO [bwb.distributions:508] i = 155: last_i = 150907 -> next_i = 148766.\n",
      "2023-01-24 15:14:48,555: INFO [bwb.distributions:508] i = 156: last_i = 148766 -> next_i = 150907.\n",
      "2023-01-24 15:14:48,572: INFO [bwb.distributions:508] i = 157: last_i = 150907 -> next_i = 71038.\n",
      "2023-01-24 15:14:48,590: INFO [bwb.distributions:508] i = 158: last_i = 71038 -> next_i = 150907.\n",
      "2023-01-24 15:14:48,609: INFO [bwb.distributions:508] i = 159: last_i = 150907 -> next_i = 71038.\n",
      "2023-01-24 15:14:48,627: INFO [bwb.distributions:508] i = 160: last_i = 71038 -> next_i = 150907.\n",
      "2023-01-24 15:14:48,646: INFO [bwb.distributions:508] i = 161: last_i = 150907 -> next_i = 71038.\n",
      "2023-01-24 15:14:48,665: INFO [bwb.distributions:508] i = 162: last_i = 71038 -> next_i = 136493.\n",
      "2023-01-24 15:14:48,687: INFO [bwb.distributions:508] i = 163: last_i = 136493 -> next_i = 150907.\n",
      "2023-01-24 15:14:48,709: INFO [bwb.distributions:508] i = 164: last_i = 150907 -> next_i = 71038.\n",
      "2023-01-24 15:14:48,730: INFO [bwb.distributions:508] i = 165: last_i = 71038 -> next_i = 150907.\n",
      "2023-01-24 15:14:48,749: INFO [bwb.distributions:508] i = 166: last_i = 150907 -> next_i = 136493.\n",
      "2023-01-24 15:14:48,770: INFO [bwb.distributions:508] i = 167: last_i = 136493 -> next_i = 71038.\n",
      "2023-01-24 15:14:48,789: INFO [bwb.distributions:508] i = 168: last_i = 71038 -> next_i = 150907.\n",
      "2023-01-24 15:14:48,808: INFO [bwb.distributions:508] i = 169: last_i = 150907 -> next_i = 65460.\n",
      "2023-01-24 15:14:48,828: INFO [bwb.distributions:508] i = 170: last_i = 65460 -> next_i = 71038.\n",
      "2023-01-24 15:14:48,847: INFO [bwb.distributions:508] i = 171: last_i = 71038 -> next_i = 150907.\n",
      "2023-01-24 15:14:48,887: INFO [bwb.distributions:508] i = 173: last_i = 150907 -> next_i = 71038.\n",
      "2023-01-24 15:14:48,908: INFO [bwb.distributions:508] i = 174: last_i = 71038 -> next_i = 150907.\n",
      "2023-01-24 15:14:48,927: INFO [bwb.distributions:508] i = 175: last_i = 150907 -> next_i = 71038.\n",
      "2023-01-24 15:14:48,947: INFO [bwb.distributions:508] i = 176: last_i = 71038 -> next_i = 150907.\n",
      "2023-01-24 15:14:48,967: INFO [bwb.distributions:508] i = 177: last_i = 150907 -> next_i = 136493.\n",
      "2023-01-24 15:14:48,987: INFO [bwb.distributions:508] i = 178: last_i = 136493 -> next_i = 71038.\n",
      "2023-01-24 15:14:49,007: INFO [bwb.distributions:508] i = 179: last_i = 71038 -> next_i = 150907.\n",
      "2023-01-24 15:14:49,027: INFO [bwb.distributions:508] i = 180: last_i = 150907 -> next_i = 65460.\n",
      "2023-01-24 15:14:49,060: INFO [bwb.distributions:508] i = 181: last_i = 65460 -> next_i = 136493.\n",
      "2023-01-24 15:14:49,083: INFO [bwb.distributions:508] i = 182: last_i = 136493 -> next_i = 71038.\n",
      "2023-01-24 15:14:49,103: INFO [bwb.distributions:508] i = 183: last_i = 71038 -> next_i = 150907.\n",
      "2023-01-24 15:14:49,123: INFO [bwb.distributions:508] i = 184: last_i = 150907 -> next_i = 71038.\n"
     ]
    },
    {
     "name": "stderr",
     "output_type": "stream",
     "text": [
      "2023-01-24 15:14:49,142: INFO [bwb.distributions:508] i = 185: last_i = 71038 -> next_i = 150907.\n",
      "2023-01-24 15:14:49,163: INFO [bwb.distributions:508] i = 186: last_i = 150907 -> next_i = 71038.\n",
      "2023-01-24 15:14:49,183: INFO [bwb.distributions:508] i = 187: last_i = 71038 -> next_i = 150907.\n",
      "2023-01-24 15:14:49,222: INFO [bwb.distributions:508] i = 189: last_i = 150907 -> next_i = 71038.\n",
      "2023-01-24 15:14:49,242: INFO [bwb.distributions:508] i = 190: last_i = 71038 -> next_i = 150907.\n",
      "2023-01-24 15:14:49,262: INFO [bwb.distributions:508] i = 191: last_i = 150907 -> next_i = 71038.\n",
      "2023-01-24 15:14:49,282: INFO [bwb.distributions:508] i = 192: last_i = 71038 -> next_i = 150907.\n",
      "2023-01-24 15:14:49,321: INFO [bwb.distributions:508] i = 194: last_i = 150907 -> next_i = 148766.\n",
      "2023-01-24 15:14:49,342: INFO [bwb.distributions:508] i = 195: last_i = 148766 -> next_i = 71038.\n",
      "2023-01-24 15:14:49,365: INFO [bwb.distributions:508] i = 196: last_i = 71038 -> next_i = 150907.\n",
      "2023-01-24 15:14:49,386: INFO [bwb.distributions:508] i = 197: last_i = 150907 -> next_i = 71038.\n",
      "2023-01-24 15:14:49,405: INFO [bwb.distributions:508] i = 198: last_i = 71038 -> next_i = 150907.\n",
      "2023-01-24 15:14:49,430: INFO [bwb.distributions:508] i = 199: last_i = 150907 -> next_i = 71038.\n",
      "2023-01-24 15:14:49,450: INFO [bwb.distributions:508] i = 200: last_i = 71038 -> next_i = 150907.\n",
      "2023-01-24 15:14:49,472: INFO [bwb.distributions:508] i = 201: last_i = 150907 -> next_i = 71038.\n",
      "2023-01-24 15:14:49,493: INFO [bwb.distributions:508] i = 202: last_i = 71038 -> next_i = 150907.\n",
      "2023-01-24 15:14:49,520: INFO [bwb.distributions:508] i = 203: last_i = 150907 -> next_i = 71038.\n",
      "2023-01-24 15:14:49,545: INFO [bwb.distributions:508] i = 204: last_i = 71038 -> next_i = 150907.\n",
      "2023-01-24 15:14:49,567: INFO [bwb.distributions:508] i = 205: last_i = 150907 -> next_i = 71038.\n",
      "2023-01-24 15:14:49,587: INFO [bwb.distributions:508] i = 206: last_i = 71038 -> next_i = 150907.\n",
      "2023-01-24 15:14:49,607: INFO [bwb.distributions:508] i = 207: last_i = 150907 -> next_i = 71038.\n",
      "2023-01-24 15:14:49,627: INFO [bwb.distributions:508] i = 208: last_i = 71038 -> next_i = 150907.\n",
      "2023-01-24 15:14:49,650: INFO [bwb.distributions:508] i = 209: last_i = 150907 -> next_i = 71038.\n",
      "2023-01-24 15:14:49,691: INFO [bwb.distributions:508] i = 211: last_i = 71038 -> next_i = 136493.\n",
      "2023-01-24 15:14:49,712: INFO [bwb.distributions:508] i = 212: last_i = 136493 -> next_i = 65460.\n",
      "2023-01-24 15:14:49,737: INFO [bwb.distributions:508] i = 213: last_i = 65460 -> next_i = 71038.\n",
      "2023-01-24 15:14:49,776: INFO [bwb.distributions:508] i = 214: last_i = 71038 -> next_i = 150907.\n",
      "2023-01-24 15:14:49,807: INFO [bwb.distributions:508] i = 215: last_i = 150907 -> next_i = 71038.\n",
      "2023-01-24 15:14:49,843: INFO [bwb.distributions:508] i = 216: last_i = 71038 -> next_i = 150907.\n",
      "2023-01-24 15:14:49,868: INFO [bwb.distributions:508] i = 217: last_i = 150907 -> next_i = 71038.\n",
      "2023-01-24 15:14:49,892: INFO [bwb.distributions:508] i = 218: last_i = 71038 -> next_i = 150907.\n",
      "2023-01-24 15:14:49,935: INFO [bwb.distributions:508] i = 219: last_i = 150907 -> next_i = 136493.\n",
      "2023-01-24 15:14:49,958: INFO [bwb.distributions:508] i = 220: last_i = 136493 -> next_i = 150907.\n",
      "2023-01-24 15:14:49,982: INFO [bwb.distributions:508] i = 221: last_i = 150907 -> next_i = 71038.\n",
      "2023-01-24 15:14:50,004: INFO [bwb.distributions:508] i = 222: last_i = 71038 -> next_i = 150907.\n",
      "2023-01-24 15:14:50,036: INFO [bwb.distributions:508] i = 223: last_i = 150907 -> next_i = 71038.\n",
      "2023-01-24 15:14:50,067: INFO [bwb.distributions:508] i = 224: last_i = 71038 -> next_i = 150907.\n",
      "2023-01-24 15:14:50,098: INFO [bwb.distributions:508] i = 225: last_i = 150907 -> next_i = 71038.\n",
      "2023-01-24 15:14:50,127: INFO [bwb.distributions:508] i = 226: last_i = 71038 -> next_i = 150907.\n",
      "2023-01-24 15:14:50,151: INFO [bwb.distributions:508] i = 227: last_i = 150907 -> next_i = 71038.\n",
      "2023-01-24 15:14:50,189: INFO [bwb.distributions:508] i = 228: last_i = 71038 -> next_i = 150907.\n",
      "2023-01-24 15:14:50,212: INFO [bwb.distributions:508] i = 229: last_i = 150907 -> next_i = 71038.\n",
      "2023-01-24 15:14:50,234: INFO [bwb.distributions:508] i = 230: last_i = 71038 -> next_i = 150907.\n",
      "2023-01-24 15:14:50,279: INFO [bwb.distributions:508] i = 232: last_i = 150907 -> next_i = 71038.\n",
      "2023-01-24 15:14:50,301: INFO [bwb.distributions:508] i = 233: last_i = 71038 -> next_i = 150907.\n",
      "2023-01-24 15:14:50,323: INFO [bwb.distributions:508] i = 234: last_i = 150907 -> next_i = 148766.\n",
      "2023-01-24 15:14:50,362: INFO [bwb.distributions:508] i = 235: last_i = 148766 -> next_i = 150907.\n",
      "2023-01-24 15:14:50,394: INFO [bwb.distributions:508] i = 236: last_i = 150907 -> next_i = 71038.\n",
      "2023-01-24 15:14:50,416: INFO [bwb.distributions:508] i = 237: last_i = 71038 -> next_i = 150907.\n",
      "2023-01-24 15:14:50,458: INFO [bwb.distributions:508] i = 239: last_i = 150907 -> next_i = 71038.\n",
      "2023-01-24 15:14:50,480: INFO [bwb.distributions:508] i = 240: last_i = 71038 -> next_i = 150907.\n",
      "2023-01-24 15:14:50,521: INFO [bwb.distributions:508] i = 242: last_i = 150907 -> next_i = 71038.\n",
      "2023-01-24 15:14:50,542: INFO [bwb.distributions:508] i = 243: last_i = 71038 -> next_i = 83639.\n",
      "2023-01-24 15:14:50,565: INFO [bwb.distributions:508] i = 244: last_i = 83639 -> next_i = 150907.\n",
      "2023-01-24 15:14:50,586: INFO [bwb.distributions:508] i = 245: last_i = 150907 -> next_i = 71038.\n",
      "2023-01-24 15:14:50,620: INFO [bwb.distributions:508] i = 246: last_i = 71038 -> next_i = 150907.\n",
      "2023-01-24 15:14:50,660: INFO [bwb.distributions:508] i = 248: last_i = 150907 -> next_i = 71038.\n",
      "2023-01-24 15:14:50,680: INFO [bwb.distributions:508] i = 249: last_i = 71038 -> next_i = 150907.\n",
      "2023-01-24 15:14:50,705: INFO [bwb.distributions:508] i = 250: last_i = 150907 -> next_i = 71038.\n",
      "2023-01-24 15:14:50,731: INFO [bwb.distributions:508] i = 251: last_i = 71038 -> next_i = 148766.\n",
      "2023-01-24 15:14:50,753: INFO [bwb.distributions:508] i = 252: last_i = 148766 -> next_i = 71038.\n",
      "2023-01-24 15:14:50,774: INFO [bwb.distributions:508] i = 253: last_i = 71038 -> next_i = 136493.\n",
      "2023-01-24 15:14:50,799: INFO [bwb.distributions:508] i = 254: last_i = 136493 -> next_i = 150907.\n",
      "2023-01-24 15:14:50,822: INFO [bwb.distributions:508] i = 255: last_i = 150907 -> next_i = 71038.\n",
      "2023-01-24 15:14:50,865: INFO [bwb.distributions:508] i = 256: last_i = 71038 -> next_i = 150907.\n",
      "2023-01-24 15:14:50,891: INFO [bwb.distributions:508] i = 257: last_i = 150907 -> next_i = 71038.\n",
      "2023-01-24 15:14:50,958: INFO [bwb.distributions:508] i = 260: last_i = 71038 -> next_i = 150907.\n",
      "2023-01-24 15:14:50,978: INFO [bwb.distributions:508] i = 261: last_i = 150907 -> next_i = 71038.\n",
      "2023-01-24 15:14:51,007: INFO [bwb.distributions:508] i = 262: last_i = 71038 -> next_i = 65460.\n",
      "2023-01-24 15:14:51,034: INFO [bwb.distributions:508] i = 263: last_i = 65460 -> next_i = 71038.\n",
      "2023-01-24 15:14:51,059: INFO [bwb.distributions:508] i = 264: last_i = 71038 -> next_i = 150907.\n",
      "2023-01-24 15:14:51,085: INFO [bwb.distributions:508] i = 265: last_i = 150907 -> next_i = 71038.\n",
      "2023-01-24 15:14:51,117: INFO [bwb.distributions:508] i = 266: last_i = 71038 -> next_i = 150907.\n",
      "2023-01-24 15:14:51,141: INFO [bwb.distributions:508] i = 267: last_i = 150907 -> next_i = 71038.\n",
      "2023-01-24 15:14:51,173: INFO [bwb.distributions:508] i = 268: last_i = 71038 -> next_i = 150907.\n",
      "2023-01-24 15:14:51,196: INFO [bwb.distributions:508] i = 269: last_i = 150907 -> next_i = 136493.\n",
      "2023-01-24 15:14:51,218: INFO [bwb.distributions:508] i = 270: last_i = 136493 -> next_i = 148766.\n",
      "2023-01-24 15:14:51,240: INFO [bwb.distributions:508] i = 271: last_i = 148766 -> next_i = 136493.\n",
      "2023-01-24 15:14:51,263: INFO [bwb.distributions:508] i = 272: last_i = 136493 -> next_i = 71038.\n",
      "2023-01-24 15:14:51,285: INFO [bwb.distributions:508] i = 273: last_i = 71038 -> next_i = 150907.\n",
      "2023-01-24 15:14:51,329: INFO [bwb.distributions:508] i = 275: last_i = 150907 -> next_i = 71038.\n",
      "2023-01-24 15:14:51,350: INFO [bwb.distributions:508] i = 276: last_i = 71038 -> next_i = 150907.\n",
      "2023-01-24 15:14:51,373: INFO [bwb.distributions:508] i = 277: last_i = 150907 -> next_i = 65460.\n",
      "2023-01-24 15:14:51,395: INFO [bwb.distributions:508] i = 278: last_i = 65460 -> next_i = 71038.\n"
     ]
    },
    {
     "name": "stderr",
     "output_type": "stream",
     "text": [
      "2023-01-24 15:14:51,424: INFO [bwb.distributions:508] i = 279: last_i = 71038 -> next_i = 150907.\n",
      "2023-01-24 15:14:51,466: INFO [bwb.distributions:508] i = 281: last_i = 150907 -> next_i = 71038.\n",
      "2023-01-24 15:14:51,507: INFO [bwb.distributions:508] i = 283: last_i = 71038 -> next_i = 150907.\n",
      "2023-01-24 15:14:51,528: INFO [bwb.distributions:508] i = 284: last_i = 150907 -> next_i = 71038.\n",
      "2023-01-24 15:14:51,548: INFO [bwb.distributions:508] i = 285: last_i = 71038 -> next_i = 150907.\n",
      "2023-01-24 15:14:51,569: INFO [bwb.distributions:508] i = 286: last_i = 150907 -> next_i = 71038.\n",
      "2023-01-24 15:14:51,590: INFO [bwb.distributions:508] i = 287: last_i = 71038 -> next_i = 65460.\n",
      "2023-01-24 15:14:51,610: INFO [bwb.distributions:508] i = 288: last_i = 65460 -> next_i = 150907.\n",
      "2023-01-24 15:14:51,632: INFO [bwb.distributions:508] i = 289: last_i = 150907 -> next_i = 127086.\n",
      "2023-01-24 15:14:51,654: INFO [bwb.distributions:508] i = 290: last_i = 127086 -> next_i = 71038.\n",
      "2023-01-24 15:14:51,675: INFO [bwb.distributions:508] i = 291: last_i = 71038 -> next_i = 150907.\n",
      "2023-01-24 15:14:51,696: INFO [bwb.distributions:508] i = 292: last_i = 150907 -> next_i = 71038.\n",
      "2023-01-24 15:14:51,717: INFO [bwb.distributions:508] i = 293: last_i = 71038 -> next_i = 150907.\n",
      "2023-01-24 15:14:51,737: INFO [bwb.distributions:508] i = 294: last_i = 150907 -> next_i = 71038.\n",
      "2023-01-24 15:14:51,758: INFO [bwb.distributions:508] i = 295: last_i = 71038 -> next_i = 150907.\n",
      "2023-01-24 15:14:51,785: INFO [bwb.distributions:508] i = 296: last_i = 150907 -> next_i = 71038.\n",
      "2023-01-24 15:14:51,807: INFO [bwb.distributions:508] i = 297: last_i = 71038 -> next_i = 150907.\n",
      "2023-01-24 15:14:51,829: INFO [bwb.distributions:508] i = 298: last_i = 150907 -> next_i = 71038.\n",
      "2023-01-24 15:14:51,850: INFO [bwb.distributions:508] i = 299: last_i = 71038 -> next_i = 136493.\n",
      "2023-01-24 15:14:51,880: INFO [bwb.distributions:508] i = 300: last_i = 136493 -> next_i = 71038.\n",
      "2023-01-24 15:14:51,913: INFO [bwb.distributions:508] i = 301: last_i = 71038 -> next_i = 150907.\n",
      "2023-01-24 15:14:51,935: INFO [bwb.distributions:508] i = 302: last_i = 150907 -> next_i = 136493.\n",
      "2023-01-24 15:14:51,976: INFO [bwb.distributions:508] i = 303: last_i = 136493 -> next_i = 71038.\n",
      "2023-01-24 15:14:52,005: INFO [bwb.distributions:508] i = 304: last_i = 71038 -> next_i = 150907.\n",
      "2023-01-24 15:14:52,031: INFO [bwb.distributions:508] i = 305: last_i = 150907 -> next_i = 136493.\n",
      "2023-01-24 15:14:52,064: INFO [bwb.distributions:508] i = 306: last_i = 136493 -> next_i = 150907.\n",
      "2023-01-24 15:14:52,086: INFO [bwb.distributions:508] i = 307: last_i = 150907 -> next_i = 71038.\n",
      "2023-01-24 15:14:52,120: INFO [bwb.distributions:508] i = 308: last_i = 71038 -> next_i = 150907.\n",
      "2023-01-24 15:14:52,149: INFO [bwb.distributions:508] i = 309: last_i = 150907 -> next_i = 71038.\n",
      "2023-01-24 15:14:52,177: INFO [bwb.distributions:508] i = 310: last_i = 71038 -> next_i = 150907.\n",
      "2023-01-24 15:14:52,200: INFO [bwb.distributions:508] i = 311: last_i = 150907 -> next_i = 71038.\n",
      "2023-01-24 15:14:52,227: INFO [bwb.distributions:508] i = 312: last_i = 71038 -> next_i = 65460.\n",
      "2023-01-24 15:14:52,249: INFO [bwb.distributions:508] i = 313: last_i = 65460 -> next_i = 71038.\n",
      "2023-01-24 15:14:52,273: INFO [bwb.distributions:508] i = 314: last_i = 71038 -> next_i = 136493.\n",
      "2023-01-24 15:14:52,299: INFO [bwb.distributions:508] i = 315: last_i = 136493 -> next_i = 71038.\n",
      "2023-01-24 15:14:52,321: INFO [bwb.distributions:508] i = 316: last_i = 71038 -> next_i = 150907.\n",
      "2023-01-24 15:14:52,345: INFO [bwb.distributions:508] i = 317: last_i = 150907 -> next_i = 71038.\n",
      "2023-01-24 15:14:52,370: INFO [bwb.distributions:508] i = 318: last_i = 71038 -> next_i = 150907.\n",
      "2023-01-24 15:14:52,393: INFO [bwb.distributions:508] i = 319: last_i = 150907 -> next_i = 71038.\n",
      "2023-01-24 15:14:52,417: INFO [bwb.distributions:508] i = 320: last_i = 71038 -> next_i = 150907.\n",
      "2023-01-24 15:14:52,442: INFO [bwb.distributions:508] i = 321: last_i = 150907 -> next_i = 71038.\n",
      "2023-01-24 15:14:52,469: INFO [bwb.distributions:508] i = 322: last_i = 71038 -> next_i = 150907.\n",
      "2023-01-24 15:14:52,493: INFO [bwb.distributions:508] i = 323: last_i = 150907 -> next_i = 71038.\n",
      "2023-01-24 15:14:52,515: INFO [bwb.distributions:508] i = 324: last_i = 71038 -> next_i = 150907.\n",
      "2023-01-24 15:14:52,543: INFO [bwb.distributions:508] i = 325: last_i = 150907 -> next_i = 71038.\n",
      "2023-01-24 15:14:52,565: INFO [bwb.distributions:508] i = 326: last_i = 71038 -> next_i = 148766.\n",
      "2023-01-24 15:14:52,586: INFO [bwb.distributions:508] i = 327: last_i = 148766 -> next_i = 71038.\n",
      "2023-01-24 15:14:52,608: INFO [bwb.distributions:508] i = 328: last_i = 71038 -> next_i = 150907.\n",
      "2023-01-24 15:14:52,629: INFO [bwb.distributions:508] i = 329: last_i = 150907 -> next_i = 71038.\n",
      "2023-01-24 15:14:52,671: INFO [bwb.distributions:508] i = 331: last_i = 71038 -> next_i = 150907.\n",
      "2023-01-24 15:14:52,692: INFO [bwb.distributions:508] i = 332: last_i = 150907 -> next_i = 71038.\n",
      "2023-01-24 15:14:52,713: INFO [bwb.distributions:508] i = 333: last_i = 71038 -> next_i = 150907.\n",
      "2023-01-24 15:14:52,734: INFO [bwb.distributions:508] i = 334: last_i = 150907 -> next_i = 71038.\n",
      "2023-01-24 15:14:52,756: INFO [bwb.distributions:508] i = 335: last_i = 71038 -> next_i = 150907.\n",
      "2023-01-24 15:14:52,779: INFO [bwb.distributions:508] i = 336: last_i = 150907 -> next_i = 71038.\n",
      "2023-01-24 15:14:52,800: INFO [bwb.distributions:508] i = 337: last_i = 71038 -> next_i = 150907.\n",
      "2023-01-24 15:14:52,824: INFO [bwb.distributions:508] i = 338: last_i = 150907 -> next_i = 71038.\n",
      "2023-01-24 15:14:52,846: INFO [bwb.distributions:508] i = 339: last_i = 71038 -> next_i = 150907.\n",
      "2023-01-24 15:14:52,867: INFO [bwb.distributions:508] i = 340: last_i = 150907 -> next_i = 71038.\n",
      "2023-01-24 15:14:52,890: INFO [bwb.distributions:508] i = 341: last_i = 71038 -> next_i = 150907.\n",
      "2023-01-24 15:14:52,915: INFO [bwb.distributions:508] i = 342: last_i = 150907 -> next_i = 71038.\n",
      "2023-01-24 15:14:52,937: INFO [bwb.distributions:508] i = 343: last_i = 71038 -> next_i = 150907.\n",
      "2023-01-24 15:14:52,959: INFO [bwb.distributions:508] i = 344: last_i = 150907 -> next_i = 71038.\n",
      "2023-01-24 15:14:52,982: INFO [bwb.distributions:508] i = 345: last_i = 71038 -> next_i = 150907.\n",
      "2023-01-24 15:14:53,003: INFO [bwb.distributions:508] i = 346: last_i = 150907 -> next_i = 71038.\n",
      "2023-01-24 15:14:53,027: INFO [bwb.distributions:508] i = 347: last_i = 71038 -> next_i = 150907.\n",
      "2023-01-24 15:14:53,060: INFO [bwb.distributions:508] i = 348: last_i = 150907 -> next_i = 71038.\n",
      "2023-01-24 15:14:53,087: INFO [bwb.distributions:508] i = 349: last_i = 71038 -> next_i = 150907.\n",
      "2023-01-24 15:14:53,120: INFO [bwb.distributions:508] i = 350: last_i = 150907 -> next_i = 71038.\n",
      "2023-01-24 15:14:53,143: INFO [bwb.distributions:508] i = 351: last_i = 71038 -> next_i = 150907.\n",
      "2023-01-24 15:14:53,166: INFO [bwb.distributions:508] i = 352: last_i = 150907 -> next_i = 71038.\n",
      "2023-01-24 15:14:53,190: INFO [bwb.distributions:508] i = 353: last_i = 71038 -> next_i = 150907.\n",
      "2023-01-24 15:14:53,218: INFO [bwb.distributions:508] i = 354: last_i = 150907 -> next_i = 71038.\n",
      "2023-01-24 15:14:53,248: INFO [bwb.distributions:508] i = 355: last_i = 71038 -> next_i = 136493.\n",
      "2023-01-24 15:14:53,275: INFO [bwb.distributions:508] i = 356: last_i = 136493 -> next_i = 71038.\n",
      "2023-01-24 15:14:53,299: INFO [bwb.distributions:508] i = 357: last_i = 71038 -> next_i = 150907.\n",
      "2023-01-24 15:14:53,321: INFO [bwb.distributions:508] i = 358: last_i = 150907 -> next_i = 71038.\n",
      "2023-01-24 15:14:53,350: INFO [bwb.distributions:508] i = 359: last_i = 71038 -> next_i = 136493.\n",
      "2023-01-24 15:14:53,376: INFO [bwb.distributions:508] i = 360: last_i = 136493 -> next_i = 71038.\n",
      "2023-01-24 15:14:53,433: INFO [bwb.distributions:508] i = 362: last_i = 71038 -> next_i = 150907.\n",
      "2023-01-24 15:14:53,455: INFO [bwb.distributions:508] i = 363: last_i = 150907 -> next_i = 71038.\n",
      "2023-01-24 15:14:53,482: INFO [bwb.distributions:508] i = 364: last_i = 71038 -> next_i = 150907.\n",
      "2023-01-24 15:14:53,503: INFO [bwb.distributions:508] i = 365: last_i = 150907 -> next_i = 148766.\n",
      "2023-01-24 15:14:53,524: INFO [bwb.distributions:508] i = 366: last_i = 148766 -> next_i = 150907.\n"
     ]
    },
    {
     "name": "stderr",
     "output_type": "stream",
     "text": [
      "2023-01-24 15:14:53,567: INFO [bwb.distributions:508] i = 368: last_i = 150907 -> next_i = 71038.\n",
      "2023-01-24 15:14:53,588: INFO [bwb.distributions:508] i = 369: last_i = 71038 -> next_i = 150907.\n",
      "2023-01-24 15:14:53,611: INFO [bwb.distributions:508] i = 370: last_i = 150907 -> next_i = 71038.\n",
      "2023-01-24 15:14:53,632: INFO [bwb.distributions:508] i = 371: last_i = 71038 -> next_i = 150907.\n",
      "2023-01-24 15:14:53,654: INFO [bwb.distributions:508] i = 372: last_i = 150907 -> next_i = 71038.\n",
      "2023-01-24 15:14:53,677: INFO [bwb.distributions:508] i = 373: last_i = 71038 -> next_i = 150907.\n",
      "2023-01-24 15:14:53,698: INFO [bwb.distributions:508] i = 374: last_i = 150907 -> next_i = 71038.\n",
      "2023-01-24 15:14:53,730: INFO [bwb.distributions:508] i = 375: last_i = 71038 -> next_i = 150907.\n",
      "2023-01-24 15:14:53,751: INFO [bwb.distributions:508] i = 376: last_i = 150907 -> next_i = 71038.\n",
      "2023-01-24 15:14:53,772: INFO [bwb.distributions:508] i = 377: last_i = 71038 -> next_i = 150907.\n",
      "2023-01-24 15:14:53,793: INFO [bwb.distributions:508] i = 378: last_i = 150907 -> next_i = 71038.\n",
      "2023-01-24 15:14:53,819: INFO [bwb.distributions:508] i = 379: last_i = 71038 -> next_i = 65460.\n",
      "2023-01-24 15:14:53,841: INFO [bwb.distributions:508] i = 380: last_i = 65460 -> next_i = 150907.\n",
      "2023-01-24 15:14:53,862: INFO [bwb.distributions:508] i = 381: last_i = 150907 -> next_i = 71038.\n",
      "2023-01-24 15:14:53,883: INFO [bwb.distributions:508] i = 382: last_i = 71038 -> next_i = 136493.\n",
      "2023-01-24 15:14:53,904: INFO [bwb.distributions:508] i = 383: last_i = 136493 -> next_i = 150907.\n",
      "2023-01-24 15:14:53,948: INFO [bwb.distributions:508] i = 385: last_i = 150907 -> next_i = 136493.\n",
      "2023-01-24 15:14:53,968: INFO [bwb.distributions:508] i = 386: last_i = 136493 -> next_i = 71038.\n",
      "2023-01-24 15:14:53,989: INFO [bwb.distributions:508] i = 387: last_i = 71038 -> next_i = 65460.\n",
      "2023-01-24 15:14:54,010: INFO [bwb.distributions:508] i = 388: last_i = 65460 -> next_i = 150907.\n",
      "2023-01-24 15:14:54,031: INFO [bwb.distributions:508] i = 389: last_i = 150907 -> next_i = 71038.\n",
      "2023-01-24 15:14:54,064: INFO [bwb.distributions:508] i = 390: last_i = 71038 -> next_i = 150907.\n",
      "2023-01-24 15:14:54,090: INFO [bwb.distributions:508] i = 391: last_i = 150907 -> next_i = 65460.\n",
      "2023-01-24 15:14:54,113: INFO [bwb.distributions:508] i = 392: last_i = 65460 -> next_i = 71038.\n",
      "2023-01-24 15:14:54,136: INFO [bwb.distributions:508] i = 393: last_i = 71038 -> next_i = 150907.\n",
      "2023-01-24 15:14:54,177: INFO [bwb.distributions:508] i = 394: last_i = 150907 -> next_i = 71038.\n",
      "2023-01-24 15:14:54,200: INFO [bwb.distributions:508] i = 395: last_i = 71038 -> next_i = 150907.\n",
      "2023-01-24 15:14:54,221: INFO [bwb.distributions:508] i = 396: last_i = 150907 -> next_i = 71038.\n",
      "2023-01-24 15:14:54,243: INFO [bwb.distributions:508] i = 397: last_i = 71038 -> next_i = 150907.\n",
      "2023-01-24 15:14:54,265: INFO [bwb.distributions:508] i = 398: last_i = 150907 -> next_i = 71038.\n",
      "2023-01-24 15:14:54,286: INFO [bwb.distributions:508] i = 399: last_i = 71038 -> next_i = 150907.\n",
      "2023-01-24 15:14:54,315: INFO [bwb.distributions:508] i = 400: last_i = 150907 -> next_i = 136493.\n",
      "2023-01-24 15:14:54,346: INFO [bwb.distributions:508] i = 401: last_i = 136493 -> next_i = 71038.\n",
      "2023-01-24 15:14:54,375: INFO [bwb.distributions:508] i = 402: last_i = 71038 -> next_i = 150907.\n",
      "2023-01-24 15:14:54,420: INFO [bwb.distributions:508] i = 404: last_i = 150907 -> next_i = 71038.\n",
      "2023-01-24 15:14:54,450: INFO [bwb.distributions:508] i = 405: last_i = 71038 -> next_i = 150907.\n",
      "2023-01-24 15:14:54,473: INFO [bwb.distributions:508] i = 406: last_i = 150907 -> next_i = 71038.\n",
      "2023-01-24 15:14:54,495: INFO [bwb.distributions:508] i = 407: last_i = 71038 -> next_i = 150907.\n",
      "2023-01-24 15:14:54,516: INFO [bwb.distributions:508] i = 408: last_i = 150907 -> next_i = 148766.\n",
      "2023-01-24 15:14:54,537: INFO [bwb.distributions:508] i = 409: last_i = 148766 -> next_i = 150907.\n",
      "2023-01-24 15:14:54,559: INFO [bwb.distributions:508] i = 410: last_i = 150907 -> next_i = 71038.\n",
      "2023-01-24 15:14:54,610: INFO [bwb.distributions:508] i = 412: last_i = 71038 -> next_i = 150907.\n",
      "2023-01-24 15:14:54,630: INFO [bwb.distributions:508] i = 413: last_i = 150907 -> next_i = 71038.\n",
      "2023-01-24 15:14:54,651: INFO [bwb.distributions:508] i = 414: last_i = 71038 -> next_i = 150907.\n",
      "2023-01-24 15:14:54,671: INFO [bwb.distributions:508] i = 415: last_i = 150907 -> next_i = 71038.\n",
      "2023-01-24 15:14:54,693: INFO [bwb.distributions:508] i = 416: last_i = 71038 -> next_i = 150907.\n",
      "2023-01-24 15:14:54,714: INFO [bwb.distributions:508] i = 417: last_i = 150907 -> next_i = 136493.\n",
      "2023-01-24 15:14:54,735: INFO [bwb.distributions:508] i = 418: last_i = 136493 -> next_i = 71038.\n",
      "2023-01-24 15:14:54,757: INFO [bwb.distributions:508] i = 419: last_i = 71038 -> next_i = 150907.\n",
      "2023-01-24 15:14:54,778: INFO [bwb.distributions:508] i = 420: last_i = 150907 -> next_i = 71038.\n",
      "2023-01-24 15:14:54,799: INFO [bwb.distributions:508] i = 421: last_i = 71038 -> next_i = 136493.\n",
      "2023-01-24 15:14:54,820: INFO [bwb.distributions:508] i = 422: last_i = 136493 -> next_i = 71038.\n",
      "2023-01-24 15:14:54,841: INFO [bwb.distributions:508] i = 423: last_i = 71038 -> next_i = 150907.\n",
      "2023-01-24 15:14:54,862: INFO [bwb.distributions:508] i = 424: last_i = 150907 -> next_i = 71038.\n",
      "2023-01-24 15:14:54,882: INFO [bwb.distributions:508] i = 425: last_i = 71038 -> next_i = 150907.\n",
      "2023-01-24 15:14:54,904: INFO [bwb.distributions:508] i = 426: last_i = 150907 -> next_i = 71038.\n",
      "2023-01-24 15:14:54,930: INFO [bwb.distributions:508] i = 427: last_i = 71038 -> next_i = 150907.\n",
      "2023-01-24 15:14:54,971: INFO [bwb.distributions:508] i = 429: last_i = 150907 -> next_i = 71038.\n",
      "2023-01-24 15:14:54,992: INFO [bwb.distributions:508] i = 430: last_i = 71038 -> next_i = 150907.\n",
      "2023-01-24 15:14:55,012: INFO [bwb.distributions:508] i = 431: last_i = 150907 -> next_i = 71038.\n",
      "2023-01-24 15:14:55,035: INFO [bwb.distributions:508] i = 432: last_i = 71038 -> next_i = 150907.\n",
      "2023-01-24 15:14:55,055: INFO [bwb.distributions:508] i = 433: last_i = 150907 -> next_i = 71038.\n",
      "2023-01-24 15:14:55,077: INFO [bwb.distributions:508] i = 434: last_i = 71038 -> next_i = 150907.\n",
      "2023-01-24 15:14:55,097: INFO [bwb.distributions:508] i = 435: last_i = 150907 -> next_i = 71038.\n",
      "2023-01-24 15:14:55,138: INFO [bwb.distributions:508] i = 437: last_i = 71038 -> next_i = 150907.\n",
      "2023-01-24 15:14:55,170: INFO [bwb.distributions:508] i = 438: last_i = 150907 -> next_i = 65460.\n",
      "2023-01-24 15:14:55,193: INFO [bwb.distributions:508] i = 439: last_i = 65460 -> next_i = 71038.\n",
      "2023-01-24 15:14:55,217: INFO [bwb.distributions:508] i = 440: last_i = 71038 -> next_i = 150907.\n",
      "2023-01-24 15:14:55,261: INFO [bwb.distributions:508] i = 442: last_i = 150907 -> next_i = 71038.\n",
      "2023-01-24 15:14:55,285: INFO [bwb.distributions:508] i = 443: last_i = 71038 -> next_i = 150907.\n",
      "2023-01-24 15:14:55,309: INFO [bwb.distributions:508] i = 444: last_i = 150907 -> next_i = 71038.\n",
      "2023-01-24 15:14:55,330: INFO [bwb.distributions:508] i = 445: last_i = 71038 -> next_i = 150907.\n",
      "2023-01-24 15:14:55,371: INFO [bwb.distributions:508] i = 447: last_i = 150907 -> next_i = 71038.\n",
      "2023-01-24 15:14:55,401: INFO [bwb.distributions:508] i = 448: last_i = 71038 -> next_i = 65460.\n",
      "2023-01-24 15:14:55,431: INFO [bwb.distributions:508] i = 449: last_i = 65460 -> next_i = 150907.\n",
      "2023-01-24 15:14:55,461: INFO [bwb.distributions:508] i = 450: last_i = 150907 -> next_i = 71038.\n",
      "2023-01-24 15:14:55,488: INFO [bwb.distributions:508] i = 451: last_i = 71038 -> next_i = 150907.\n",
      "2023-01-24 15:14:55,511: INFO [bwb.distributions:508] i = 452: last_i = 150907 -> next_i = 71038.\n",
      "2023-01-24 15:14:55,534: INFO [bwb.distributions:508] i = 453: last_i = 71038 -> next_i = 150907.\n",
      "2023-01-24 15:14:55,557: INFO [bwb.distributions:508] i = 454: last_i = 150907 -> next_i = 71038.\n",
      "2023-01-24 15:14:55,580: INFO [bwb.distributions:508] i = 455: last_i = 71038 -> next_i = 150907.\n",
      "2023-01-24 15:14:55,603: INFO [bwb.distributions:508] i = 456: last_i = 150907 -> next_i = 71038.\n",
      "2023-01-24 15:14:55,631: INFO [bwb.distributions:508] i = 457: last_i = 71038 -> next_i = 136493.\n",
      "2023-01-24 15:14:55,657: INFO [bwb.distributions:508] i = 458: last_i = 136493 -> next_i = 150907.\n"
     ]
    },
    {
     "name": "stderr",
     "output_type": "stream",
     "text": [
      "2023-01-24 15:14:55,686: INFO [bwb.distributions:508] i = 459: last_i = 150907 -> next_i = 71038.\n",
      "2023-01-24 15:14:55,709: INFO [bwb.distributions:508] i = 460: last_i = 71038 -> next_i = 150907.\n",
      "2023-01-24 15:14:55,734: INFO [bwb.distributions:508] i = 461: last_i = 150907 -> next_i = 71038.\n",
      "2023-01-24 15:14:55,757: INFO [bwb.distributions:508] i = 462: last_i = 71038 -> next_i = 136493.\n",
      "2023-01-24 15:14:55,780: INFO [bwb.distributions:508] i = 463: last_i = 136493 -> next_i = 71038.\n",
      "2023-01-24 15:14:55,801: INFO [bwb.distributions:508] i = 464: last_i = 71038 -> next_i = 150907.\n",
      "2023-01-24 15:14:55,822: INFO [bwb.distributions:508] i = 465: last_i = 150907 -> next_i = 71038.\n",
      "2023-01-24 15:14:55,848: INFO [bwb.distributions:508] i = 466: last_i = 71038 -> next_i = 150907.\n",
      "2023-01-24 15:14:55,871: INFO [bwb.distributions:508] i = 467: last_i = 150907 -> next_i = 71038.\n",
      "2023-01-24 15:14:55,892: INFO [bwb.distributions:508] i = 468: last_i = 71038 -> next_i = 150907.\n",
      "2023-01-24 15:14:55,915: INFO [bwb.distributions:508] i = 469: last_i = 150907 -> next_i = 148766.\n",
      "2023-01-24 15:14:55,939: INFO [bwb.distributions:508] i = 470: last_i = 148766 -> next_i = 150907.\n",
      "2023-01-24 15:14:55,960: INFO [bwb.distributions:508] i = 471: last_i = 150907 -> next_i = 71038.\n",
      "2023-01-24 15:14:55,981: INFO [bwb.distributions:508] i = 472: last_i = 71038 -> next_i = 148766.\n",
      "2023-01-24 15:14:56,004: INFO [bwb.distributions:508] i = 473: last_i = 148766 -> next_i = 150907.\n",
      "2023-01-24 15:14:56,048: INFO [bwb.distributions:508] i = 475: last_i = 150907 -> next_i = 71038.\n",
      "2023-01-24 15:14:56,068: INFO [bwb.distributions:508] i = 476: last_i = 71038 -> next_i = 150907.\n",
      "2023-01-24 15:14:56,089: INFO [bwb.distributions:508] i = 477: last_i = 150907 -> next_i = 71038.\n",
      "2023-01-24 15:14:56,110: INFO [bwb.distributions:508] i = 478: last_i = 71038 -> next_i = 150907.\n",
      "2023-01-24 15:14:56,130: INFO [bwb.distributions:508] i = 479: last_i = 150907 -> next_i = 136493.\n",
      "2023-01-24 15:14:56,151: INFO [bwb.distributions:508] i = 480: last_i = 136493 -> next_i = 150907.\n",
      "2023-01-24 15:14:56,177: INFO [bwb.distributions:508] i = 481: last_i = 150907 -> next_i = 71038.\n",
      "2023-01-24 15:14:56,198: INFO [bwb.distributions:508] i = 482: last_i = 71038 -> next_i = 150907.\n",
      "2023-01-24 15:14:56,238: INFO [bwb.distributions:508] i = 484: last_i = 150907 -> next_i = 71038.\n",
      "2023-01-24 15:14:56,287: INFO [bwb.distributions:508] i = 486: last_i = 71038 -> next_i = 150907.\n",
      "2023-01-24 15:14:56,329: INFO [bwb.distributions:508] i = 488: last_i = 150907 -> next_i = 71038.\n",
      "2023-01-24 15:14:56,354: INFO [bwb.distributions:508] i = 489: last_i = 71038 -> next_i = 127086.\n",
      "2023-01-24 15:14:56,378: INFO [bwb.distributions:508] i = 490: last_i = 127086 -> next_i = 136493.\n",
      "2023-01-24 15:14:56,403: INFO [bwb.distributions:508] i = 491: last_i = 136493 -> next_i = 71038.\n",
      "2023-01-24 15:14:56,428: INFO [bwb.distributions:508] i = 492: last_i = 71038 -> next_i = 150907.\n",
      "2023-01-24 15:14:56,449: INFO [bwb.distributions:508] i = 493: last_i = 150907 -> next_i = 71038.\n",
      "2023-01-24 15:14:56,471: INFO [bwb.distributions:508] i = 494: last_i = 71038 -> next_i = 150907.\n",
      "2023-01-24 15:14:56,497: INFO [bwb.distributions:508] i = 495: last_i = 150907 -> next_i = 65460.\n",
      "2023-01-24 15:14:56,521: INFO [bwb.distributions:508] i = 496: last_i = 65460 -> next_i = 150907.\n",
      "2023-01-24 15:14:56,551: INFO [bwb.distributions:508] i = 497: last_i = 150907 -> next_i = 71038.\n",
      "2023-01-24 15:14:56,583: INFO [bwb.distributions:508] i = 498: last_i = 71038 -> next_i = 136493.\n",
      "2023-01-24 15:14:56,605: INFO [bwb.distributions:508] i = 499: last_i = 136493 -> next_i = 150907.\n",
      "2023-01-24 15:14:56,628: INFO [bwb.distributions:508] i = 500: last_i = 150907 -> next_i = 71038.\n",
      "2023-01-24 15:14:56,650: INFO [bwb.distributions:508] i = 501: last_i = 71038 -> next_i = 150907.\n",
      "2023-01-24 15:14:56,671: INFO [bwb.distributions:508] i = 502: last_i = 150907 -> next_i = 71038.\n",
      "2023-01-24 15:14:56,692: INFO [bwb.distributions:508] i = 503: last_i = 71038 -> next_i = 136493.\n",
      "2023-01-24 15:14:56,714: INFO [bwb.distributions:508] i = 504: last_i = 136493 -> next_i = 150907.\n",
      "2023-01-24 15:14:56,757: INFO [bwb.distributions:508] i = 506: last_i = 150907 -> next_i = 71038.\n",
      "2023-01-24 15:14:56,778: INFO [bwb.distributions:508] i = 507: last_i = 71038 -> next_i = 150907.\n",
      "2023-01-24 15:14:56,820: INFO [bwb.distributions:508] i = 509: last_i = 150907 -> next_i = 83639.\n",
      "2023-01-24 15:14:56,840: INFO [bwb.distributions:508] i = 510: last_i = 83639 -> next_i = 65460.\n",
      "2023-01-24 15:14:56,865: INFO [bwb.distributions:508] i = 511: last_i = 65460 -> next_i = 71038.\n",
      "2023-01-24 15:14:56,885: INFO [bwb.distributions:508] i = 512: last_i = 71038 -> next_i = 150907.\n",
      "2023-01-24 15:14:56,909: INFO [bwb.distributions:508] i = 513: last_i = 150907 -> next_i = 71038.\n",
      "2023-01-24 15:14:56,931: INFO [bwb.distributions:508] i = 514: last_i = 71038 -> next_i = 150907.\n",
      "2023-01-24 15:14:56,952: INFO [bwb.distributions:508] i = 515: last_i = 150907 -> next_i = 71038.\n",
      "2023-01-24 15:14:56,992: INFO [bwb.distributions:508] i = 517: last_i = 71038 -> next_i = 150907.\n",
      "2023-01-24 15:14:57,013: INFO [bwb.distributions:508] i = 518: last_i = 150907 -> next_i = 71038.\n",
      "2023-01-24 15:14:57,035: INFO [bwb.distributions:508] i = 519: last_i = 71038 -> next_i = 65460.\n",
      "2023-01-24 15:14:57,063: INFO [bwb.distributions:508] i = 520: last_i = 65460 -> next_i = 150907.\n",
      "2023-01-24 15:14:57,084: INFO [bwb.distributions:508] i = 521: last_i = 150907 -> next_i = 136493.\n",
      "2023-01-24 15:14:57,106: INFO [bwb.distributions:508] i = 522: last_i = 136493 -> next_i = 65460.\n",
      "2023-01-24 15:14:57,127: INFO [bwb.distributions:508] i = 523: last_i = 65460 -> next_i = 71038.\n",
      "2023-01-24 15:14:57,147: INFO [bwb.distributions:508] i = 524: last_i = 71038 -> next_i = 150907.\n",
      "2023-01-24 15:14:57,168: INFO [bwb.distributions:508] i = 525: last_i = 150907 -> next_i = 71038.\n",
      "2023-01-24 15:14:57,189: INFO [bwb.distributions:508] i = 526: last_i = 71038 -> next_i = 150907.\n",
      "2023-01-24 15:14:57,210: INFO [bwb.distributions:508] i = 527: last_i = 150907 -> next_i = 71038.\n",
      "2023-01-24 15:14:57,251: INFO [bwb.distributions:508] i = 529: last_i = 71038 -> next_i = 150907.\n",
      "2023-01-24 15:14:57,274: INFO [bwb.distributions:508] i = 530: last_i = 150907 -> next_i = 71038.\n",
      "2023-01-24 15:14:57,296: INFO [bwb.distributions:508] i = 531: last_i = 71038 -> next_i = 150907.\n",
      "2023-01-24 15:14:57,317: INFO [bwb.distributions:508] i = 532: last_i = 150907 -> next_i = 71038.\n",
      "2023-01-24 15:14:57,339: INFO [bwb.distributions:508] i = 533: last_i = 71038 -> next_i = 150907.\n",
      "2023-01-24 15:14:57,366: INFO [bwb.distributions:508] i = 534: last_i = 150907 -> next_i = 71038.\n",
      "2023-01-24 15:14:57,388: INFO [bwb.distributions:508] i = 535: last_i = 71038 -> next_i = 150907.\n",
      "2023-01-24 15:14:57,416: INFO [bwb.distributions:508] i = 536: last_i = 150907 -> next_i = 71038.\n",
      "2023-01-24 15:14:57,461: INFO [bwb.distributions:508] i = 538: last_i = 71038 -> next_i = 150907.\n",
      "2023-01-24 15:14:57,488: INFO [bwb.distributions:508] i = 539: last_i = 150907 -> next_i = 148766.\n",
      "2023-01-24 15:14:57,517: INFO [bwb.distributions:508] i = 540: last_i = 148766 -> next_i = 71038.\n",
      "2023-01-24 15:14:57,538: INFO [bwb.distributions:508] i = 541: last_i = 71038 -> next_i = 150907.\n",
      "2023-01-24 15:14:57,561: INFO [bwb.distributions:508] i = 542: last_i = 150907 -> next_i = 71038.\n",
      "2023-01-24 15:14:57,592: INFO [bwb.distributions:508] i = 543: last_i = 71038 -> next_i = 150907.\n",
      "2023-01-24 15:14:57,627: INFO [bwb.distributions:508] i = 544: last_i = 150907 -> next_i = 71038.\n",
      "2023-01-24 15:14:57,655: INFO [bwb.distributions:508] i = 545: last_i = 71038 -> next_i = 150907.\n",
      "2023-01-24 15:14:57,678: INFO [bwb.distributions:508] i = 546: last_i = 150907 -> next_i = 71038.\n",
      "2023-01-24 15:14:57,702: INFO [bwb.distributions:508] i = 547: last_i = 71038 -> next_i = 150907.\n",
      "2023-01-24 15:14:57,726: INFO [bwb.distributions:508] i = 548: last_i = 150907 -> next_i = 71038.\n",
      "2023-01-24 15:14:57,749: INFO [bwb.distributions:508] i = 549: last_i = 71038 -> next_i = 150907.\n",
      "2023-01-24 15:14:57,773: INFO [bwb.distributions:508] i = 550: last_i = 150907 -> next_i = 71038.\n",
      "2023-01-24 15:14:57,815: INFO [bwb.distributions:508] i = 552: last_i = 71038 -> next_i = 150907.\n"
     ]
    },
    {
     "name": "stderr",
     "output_type": "stream",
     "text": [
      "2023-01-24 15:14:57,836: INFO [bwb.distributions:508] i = 553: last_i = 150907 -> next_i = 71038.\n",
      "2023-01-24 15:14:57,858: INFO [bwb.distributions:508] i = 554: last_i = 71038 -> next_i = 150907.\n",
      "2023-01-24 15:14:57,879: INFO [bwb.distributions:508] i = 555: last_i = 150907 -> next_i = 136493.\n",
      "2023-01-24 15:14:57,901: INFO [bwb.distributions:508] i = 556: last_i = 136493 -> next_i = 71038.\n",
      "2023-01-24 15:14:57,922: INFO [bwb.distributions:508] i = 557: last_i = 71038 -> next_i = 150907.\n",
      "2023-01-24 15:14:57,949: INFO [bwb.distributions:508] i = 558: last_i = 150907 -> next_i = 71038.\n",
      "2023-01-24 15:14:57,970: INFO [bwb.distributions:508] i = 559: last_i = 71038 -> next_i = 150907.\n",
      "2023-01-24 15:14:57,991: INFO [bwb.distributions:508] i = 560: last_i = 150907 -> next_i = 148766.\n",
      "2023-01-24 15:14:58,014: INFO [bwb.distributions:508] i = 561: last_i = 148766 -> next_i = 150907.\n",
      "2023-01-24 15:14:58,036: INFO [bwb.distributions:508] i = 562: last_i = 150907 -> next_i = 71038.\n",
      "2023-01-24 15:14:58,095: INFO [bwb.distributions:508] i = 565: last_i = 71038 -> next_i = 150907.\n",
      "2023-01-24 15:14:58,119: INFO [bwb.distributions:508] i = 566: last_i = 150907 -> next_i = 71038.\n",
      "2023-01-24 15:14:58,143: INFO [bwb.distributions:508] i = 567: last_i = 71038 -> next_i = 148766.\n",
      "2023-01-24 15:14:58,174: INFO [bwb.distributions:508] i = 568: last_i = 148766 -> next_i = 71038.\n",
      "2023-01-24 15:14:58,194: INFO [bwb.distributions:508] i = 569: last_i = 71038 -> next_i = 128011.\n",
      "2023-01-24 15:14:58,214: INFO [bwb.distributions:508] i = 570: last_i = 128011 -> next_i = 150907.\n",
      "2023-01-24 15:14:58,234: INFO [bwb.distributions:508] i = 571: last_i = 150907 -> next_i = 71038.\n",
      "2023-01-24 15:14:58,256: INFO [bwb.distributions:508] i = 572: last_i = 71038 -> next_i = 136493.\n",
      "2023-01-24 15:14:58,276: INFO [bwb.distributions:508] i = 573: last_i = 136493 -> next_i = 71038.\n",
      "2023-01-24 15:14:58,297: INFO [bwb.distributions:508] i = 574: last_i = 71038 -> next_i = 150907.\n",
      "2023-01-24 15:14:58,336: INFO [bwb.distributions:508] i = 576: last_i = 150907 -> next_i = 136493.\n",
      "2023-01-24 15:14:58,358: INFO [bwb.distributions:508] i = 577: last_i = 136493 -> next_i = 150907.\n",
      "2023-01-24 15:14:58,380: INFO [bwb.distributions:508] i = 578: last_i = 150907 -> next_i = 71038.\n",
      "2023-01-24 15:14:58,400: INFO [bwb.distributions:508] i = 579: last_i = 71038 -> next_i = 127086.\n",
      "2023-01-24 15:14:58,427: INFO [bwb.distributions:508] i = 580: last_i = 127086 -> next_i = 150907.\n",
      "2023-01-24 15:14:58,457: INFO [bwb.distributions:508] i = 581: last_i = 150907 -> next_i = 71038.\n",
      "2023-01-24 15:14:58,512: INFO [bwb.distributions:508] i = 583: last_i = 71038 -> next_i = 150907.\n",
      "2023-01-24 15:14:58,550: INFO [bwb.distributions:508] i = 584: last_i = 150907 -> next_i = 71038.\n",
      "2023-01-24 15:14:58,572: INFO [bwb.distributions:508] i = 585: last_i = 71038 -> next_i = 150907.\n",
      "2023-01-24 15:14:58,592: INFO [bwb.distributions:508] i = 586: last_i = 150907 -> next_i = 71038.\n",
      "2023-01-24 15:14:58,652: INFO [bwb.distributions:508] i = 588: last_i = 71038 -> next_i = 150907.\n",
      "2023-01-24 15:14:58,674: INFO [bwb.distributions:508] i = 589: last_i = 150907 -> next_i = 71038.\n",
      "2023-01-24 15:14:58,696: INFO [bwb.distributions:508] i = 590: last_i = 71038 -> next_i = 150907.\n",
      "2023-01-24 15:14:58,718: INFO [bwb.distributions:508] i = 591: last_i = 150907 -> next_i = 148766.\n",
      "2023-01-24 15:14:58,740: INFO [bwb.distributions:508] i = 592: last_i = 148766 -> next_i = 71038.\n",
      "2023-01-24 15:14:58,762: INFO [bwb.distributions:508] i = 593: last_i = 71038 -> next_i = 150907.\n",
      "2023-01-24 15:14:58,787: INFO [bwb.distributions:508] i = 594: last_i = 150907 -> next_i = 71038.\n",
      "2023-01-24 15:14:58,808: INFO [bwb.distributions:508] i = 595: last_i = 71038 -> next_i = 150907.\n",
      "2023-01-24 15:14:58,833: INFO [bwb.distributions:508] i = 596: last_i = 150907 -> next_i = 71038.\n",
      "2023-01-24 15:14:58,853: INFO [bwb.distributions:508] i = 597: last_i = 71038 -> next_i = 150907.\n",
      "2023-01-24 15:14:58,873: INFO [bwb.distributions:508] i = 598: last_i = 150907 -> next_i = 71038.\n",
      "2023-01-24 15:14:58,910: INFO [bwb.distributions:508] i = 600: last_i = 71038 -> next_i = 150907.\n",
      "2023-01-24 15:14:58,930: INFO [bwb.distributions:508] i = 601: last_i = 150907 -> next_i = 71038.\n",
      "2023-01-24 15:14:58,949: INFO [bwb.distributions:508] i = 602: last_i = 71038 -> next_i = 150907.\n",
      "2023-01-24 15:14:58,970: INFO [bwb.distributions:508] i = 603: last_i = 150907 -> next_i = 71038.\n",
      "2023-01-24 15:14:58,989: INFO [bwb.distributions:508] i = 604: last_i = 71038 -> next_i = 150907.\n",
      "2023-01-24 15:14:59,007: INFO [bwb.distributions:508] i = 605: last_i = 150907 -> next_i = 71038.\n",
      "2023-01-24 15:14:59,034: INFO [bwb.distributions:508] i = 606: last_i = 71038 -> next_i = 150907.\n",
      "2023-01-24 15:14:59,053: INFO [bwb.distributions:508] i = 607: last_i = 150907 -> next_i = 71038.\n",
      "2023-01-24 15:14:59,072: INFO [bwb.distributions:508] i = 608: last_i = 71038 -> next_i = 150907.\n",
      "2023-01-24 15:14:59,106: INFO [bwb.distributions:508] i = 609: last_i = 150907 -> next_i = 71038.\n",
      "2023-01-24 15:14:59,125: INFO [bwb.distributions:508] i = 610: last_i = 71038 -> next_i = 150907.\n",
      "2023-01-24 15:14:59,150: INFO [bwb.distributions:508] i = 611: last_i = 150907 -> next_i = 71038.\n",
      "2023-01-24 15:14:59,169: INFO [bwb.distributions:508] i = 612: last_i = 71038 -> next_i = 150907.\n",
      "2023-01-24 15:14:59,188: INFO [bwb.distributions:508] i = 613: last_i = 150907 -> next_i = 136493.\n",
      "2023-01-24 15:14:59,207: INFO [bwb.distributions:508] i = 614: last_i = 136493 -> next_i = 150907.\n",
      "2023-01-24 15:14:59,225: INFO [bwb.distributions:508] i = 615: last_i = 150907 -> next_i = 71038.\n",
      "2023-01-24 15:14:59,244: INFO [bwb.distributions:508] i = 616: last_i = 71038 -> next_i = 150907.\n",
      "2023-01-24 15:14:59,263: INFO [bwb.distributions:508] i = 617: last_i = 150907 -> next_i = 65460.\n",
      "2023-01-24 15:14:59,281: INFO [bwb.distributions:508] i = 618: last_i = 65460 -> next_i = 150907.\n",
      "2023-01-24 15:14:59,301: INFO [bwb.distributions:508] i = 619: last_i = 150907 -> next_i = 71038.\n",
      "2023-01-24 15:14:59,321: INFO [bwb.distributions:508] i = 620: last_i = 71038 -> next_i = 150907.\n",
      "2023-01-24 15:14:59,340: INFO [bwb.distributions:508] i = 621: last_i = 150907 -> next_i = 71038.\n",
      "2023-01-24 15:14:59,358: INFO [bwb.distributions:508] i = 622: last_i = 71038 -> next_i = 150907.\n",
      "2023-01-24 15:14:59,412: INFO [bwb.distributions:508] i = 625: last_i = 150907 -> next_i = 71038.\n",
      "2023-01-24 15:14:59,430: INFO [bwb.distributions:508] i = 626: last_i = 71038 -> next_i = 150907.\n",
      "2023-01-24 15:14:59,450: INFO [bwb.distributions:508] i = 627: last_i = 150907 -> next_i = 71038.\n",
      "2023-01-24 15:14:59,469: INFO [bwb.distributions:508] i = 628: last_i = 71038 -> next_i = 150907.\n",
      "2023-01-24 15:14:59,489: INFO [bwb.distributions:508] i = 629: last_i = 150907 -> next_i = 71038.\n",
      "2023-01-24 15:14:59,507: INFO [bwb.distributions:508] i = 630: last_i = 71038 -> next_i = 150907.\n",
      "2023-01-24 15:14:59,527: INFO [bwb.distributions:508] i = 631: last_i = 150907 -> next_i = 71038.\n",
      "2023-01-24 15:14:59,545: INFO [bwb.distributions:508] i = 632: last_i = 71038 -> next_i = 150907.\n",
      "2023-01-24 15:14:59,566: INFO [bwb.distributions:508] i = 633: last_i = 150907 -> next_i = 71038.\n",
      "2023-01-24 15:14:59,586: INFO [bwb.distributions:508] i = 634: last_i = 71038 -> next_i = 150907.\n",
      "2023-01-24 15:14:59,606: INFO [bwb.distributions:508] i = 635: last_i = 150907 -> next_i = 71038.\n",
      "2023-01-24 15:14:59,626: INFO [bwb.distributions:508] i = 636: last_i = 71038 -> next_i = 150907.\n",
      "2023-01-24 15:14:59,647: INFO [bwb.distributions:508] i = 637: last_i = 150907 -> next_i = 65460.\n",
      "2023-01-24 15:14:59,672: INFO [bwb.distributions:508] i = 638: last_i = 65460 -> next_i = 150907.\n",
      "2023-01-24 15:14:59,711: INFO [bwb.distributions:508] i = 640: last_i = 150907 -> next_i = 71038.\n",
      "2023-01-24 15:14:59,732: INFO [bwb.distributions:508] i = 641: last_i = 71038 -> next_i = 150907.\n",
      "2023-01-24 15:14:59,754: INFO [bwb.distributions:508] i = 642: last_i = 150907 -> next_i = 71038.\n",
      "2023-01-24 15:14:59,810: INFO [bwb.distributions:508] i = 645: last_i = 71038 -> next_i = 150907.\n",
      "2023-01-24 15:14:59,830: INFO [bwb.distributions:508] i = 646: last_i = 150907 -> next_i = 71038.\n",
      "2023-01-24 15:14:59,850: INFO [bwb.distributions:508] i = 647: last_i = 71038 -> next_i = 65460.\n"
     ]
    },
    {
     "name": "stderr",
     "output_type": "stream",
     "text": [
      "2023-01-24 15:14:59,875: INFO [bwb.distributions:508] i = 648: last_i = 65460 -> next_i = 71038.\n",
      "2023-01-24 15:14:59,895: INFO [bwb.distributions:508] i = 649: last_i = 71038 -> next_i = 150907.\n",
      "2023-01-24 15:14:59,937: INFO [bwb.distributions:508] i = 651: last_i = 150907 -> next_i = 148766.\n",
      "2023-01-24 15:14:59,957: INFO [bwb.distributions:508] i = 652: last_i = 148766 -> next_i = 150907.\n",
      "2023-01-24 15:14:59,976: INFO [bwb.distributions:508] i = 653: last_i = 150907 -> next_i = 71038.\n",
      "2023-01-24 15:14:59,995: INFO [bwb.distributions:508] i = 654: last_i = 71038 -> next_i = 150907.\n",
      "2023-01-24 15:15:00,017: INFO [bwb.distributions:508] i = 655: last_i = 150907 -> next_i = 136493.\n",
      "2023-01-24 15:15:00,036: INFO [bwb.distributions:508] i = 656: last_i = 136493 -> next_i = 71038.\n",
      "2023-01-24 15:15:00,056: INFO [bwb.distributions:508] i = 657: last_i = 71038 -> next_i = 150907.\n",
      "2023-01-24 15:15:00,075: INFO [bwb.distributions:508] i = 658: last_i = 150907 -> next_i = 71038.\n",
      "2023-01-24 15:15:00,113: INFO [bwb.distributions:508] i = 660: last_i = 71038 -> next_i = 150907.\n",
      "2023-01-24 15:15:00,134: INFO [bwb.distributions:508] i = 661: last_i = 150907 -> next_i = 71038.\n",
      "2023-01-24 15:15:00,156: INFO [bwb.distributions:508] i = 662: last_i = 71038 -> next_i = 136493.\n",
      "2023-01-24 15:15:00,176: INFO [bwb.distributions:508] i = 663: last_i = 136493 -> next_i = 71038.\n",
      "2023-01-24 15:15:00,196: INFO [bwb.distributions:508] i = 664: last_i = 71038 -> next_i = 150907.\n",
      "2023-01-24 15:15:00,217: INFO [bwb.distributions:508] i = 665: last_i = 150907 -> next_i = 136493.\n",
      "2023-01-24 15:15:00,243: INFO [bwb.distributions:508] i = 666: last_i = 136493 -> next_i = 150907.\n",
      "2023-01-24 15:15:00,263: INFO [bwb.distributions:508] i = 667: last_i = 150907 -> next_i = 71038.\n",
      "2023-01-24 15:15:00,284: INFO [bwb.distributions:508] i = 668: last_i = 71038 -> next_i = 150907.\n",
      "2023-01-24 15:15:00,306: INFO [bwb.distributions:508] i = 669: last_i = 150907 -> next_i = 71038.\n",
      "2023-01-24 15:15:00,326: INFO [bwb.distributions:508] i = 670: last_i = 71038 -> next_i = 150907.\n",
      "2023-01-24 15:15:00,346: INFO [bwb.distributions:508] i = 671: last_i = 150907 -> next_i = 71038.\n",
      "2023-01-24 15:15:00,367: INFO [bwb.distributions:508] i = 672: last_i = 71038 -> next_i = 38313.\n",
      "2023-01-24 15:15:00,386: INFO [bwb.distributions:508] i = 673: last_i = 38313 -> next_i = 148766.\n",
      "2023-01-24 15:15:00,407: INFO [bwb.distributions:508] i = 674: last_i = 148766 -> next_i = 71038.\n",
      "2023-01-24 15:15:00,426: INFO [bwb.distributions:508] i = 675: last_i = 71038 -> next_i = 150907.\n",
      "2023-01-24 15:15:00,446: INFO [bwb.distributions:508] i = 676: last_i = 150907 -> next_i = 71038.\n",
      "2023-01-24 15:15:00,465: INFO [bwb.distributions:508] i = 677: last_i = 71038 -> next_i = 150907.\n",
      "2023-01-24 15:15:00,502: INFO [bwb.distributions:508] i = 679: last_i = 150907 -> next_i = 71038.\n",
      "2023-01-24 15:15:00,560: INFO [bwb.distributions:508] i = 682: last_i = 71038 -> next_i = 150907.\n",
      "2023-01-24 15:15:00,580: INFO [bwb.distributions:508] i = 683: last_i = 150907 -> next_i = 71038.\n",
      "2023-01-24 15:15:00,599: INFO [bwb.distributions:508] i = 684: last_i = 71038 -> next_i = 150907.\n",
      "2023-01-24 15:15:00,617: INFO [bwb.distributions:508] i = 685: last_i = 150907 -> next_i = 71038.\n",
      "2023-01-24 15:15:00,637: INFO [bwb.distributions:508] i = 686: last_i = 71038 -> next_i = 150907.\n",
      "2023-01-24 15:15:00,656: INFO [bwb.distributions:508] i = 687: last_i = 150907 -> next_i = 71038.\n",
      "2023-01-24 15:15:00,674: INFO [bwb.distributions:508] i = 688: last_i = 71038 -> next_i = 150907.\n",
      "2023-01-24 15:15:00,712: INFO [bwb.distributions:508] i = 690: last_i = 150907 -> next_i = 71038.\n",
      "2023-01-24 15:15:00,731: INFO [bwb.distributions:508] i = 691: last_i = 71038 -> next_i = 150907.\n",
      "2023-01-24 15:15:00,772: INFO [bwb.distributions:508] i = 693: last_i = 150907 -> next_i = 71038.\n",
      "2023-01-24 15:15:00,791: INFO [bwb.distributions:508] i = 694: last_i = 71038 -> next_i = 65460.\n",
      "2023-01-24 15:15:00,811: INFO [bwb.distributions:508] i = 695: last_i = 65460 -> next_i = 150907.\n",
      "2023-01-24 15:15:00,831: INFO [bwb.distributions:508] i = 696: last_i = 150907 -> next_i = 136493.\n",
      "2023-01-24 15:15:00,850: INFO [bwb.distributions:508] i = 697: last_i = 136493 -> next_i = 71038.\n",
      "2023-01-24 15:15:00,868: INFO [bwb.distributions:508] i = 698: last_i = 71038 -> next_i = 150907.\n",
      "2023-01-24 15:15:00,906: INFO [bwb.distributions:508] i = 699: last_i = 150907 -> next_i = 71038.\n",
      "2023-01-24 15:15:00,926: INFO [bwb.distributions:508] i = 700: last_i = 71038 -> next_i = 150907.\n",
      "2023-01-24 15:15:00,950: INFO [bwb.distributions:508] i = 701: last_i = 150907 -> next_i = 71038.\n",
      "2023-01-24 15:15:00,970: INFO [bwb.distributions:508] i = 702: last_i = 71038 -> next_i = 150907.\n",
      "2023-01-24 15:15:01,007: INFO [bwb.distributions:508] i = 704: last_i = 150907 -> next_i = 71038.\n",
      "2023-01-24 15:15:01,026: INFO [bwb.distributions:508] i = 705: last_i = 71038 -> next_i = 150907.\n",
      "2023-01-24 15:15:01,045: INFO [bwb.distributions:508] i = 706: last_i = 150907 -> next_i = 71038.\n",
      "2023-01-24 15:15:01,064: INFO [bwb.distributions:508] i = 707: last_i = 71038 -> next_i = 150907.\n",
      "2023-01-24 15:15:01,084: INFO [bwb.distributions:508] i = 708: last_i = 150907 -> next_i = 71038.\n",
      "2023-01-24 15:15:01,106: INFO [bwb.distributions:508] i = 709: last_i = 71038 -> next_i = 65460.\n",
      "2023-01-24 15:15:01,125: INFO [bwb.distributions:508] i = 710: last_i = 65460 -> next_i = 150907.\n",
      "2023-01-24 15:15:01,143: INFO [bwb.distributions:508] i = 711: last_i = 150907 -> next_i = 65460.\n",
      "2023-01-24 15:15:01,167: INFO [bwb.distributions:508] i = 712: last_i = 65460 -> next_i = 71038.\n",
      "2023-01-24 15:15:01,185: INFO [bwb.distributions:508] i = 713: last_i = 71038 -> next_i = 136493.\n",
      "2023-01-24 15:15:01,204: INFO [bwb.distributions:508] i = 714: last_i = 136493 -> next_i = 71038.\n",
      "2023-01-24 15:15:01,223: INFO [bwb.distributions:508] i = 715: last_i = 71038 -> next_i = 150907.\n",
      "2023-01-24 15:15:01,241: INFO [bwb.distributions:508] i = 716: last_i = 150907 -> next_i = 71038.\n",
      "2023-01-24 15:15:01,259: INFO [bwb.distributions:508] i = 717: last_i = 71038 -> next_i = 150907.\n",
      "2023-01-24 15:15:01,278: INFO [bwb.distributions:508] i = 718: last_i = 150907 -> next_i = 71038.\n",
      "2023-01-24 15:15:01,297: INFO [bwb.distributions:508] i = 719: last_i = 71038 -> next_i = 150907.\n",
      "2023-01-24 15:15:01,315: INFO [bwb.distributions:508] i = 720: last_i = 150907 -> next_i = 71038.\n",
      "2023-01-24 15:15:01,334: INFO [bwb.distributions:508] i = 721: last_i = 71038 -> next_i = 150907.\n",
      "2023-01-24 15:15:01,352: INFO [bwb.distributions:508] i = 722: last_i = 150907 -> next_i = 71038.\n",
      "2023-01-24 15:15:01,371: INFO [bwb.distributions:508] i = 723: last_i = 71038 -> next_i = 65460.\n",
      "2023-01-24 15:15:01,390: INFO [bwb.distributions:508] i = 724: last_i = 65460 -> next_i = 71038.\n",
      "2023-01-24 15:15:01,408: INFO [bwb.distributions:508] i = 725: last_i = 71038 -> next_i = 150907.\n",
      "2023-01-24 15:15:01,426: INFO [bwb.distributions:508] i = 726: last_i = 150907 -> next_i = 71038.\n",
      "2023-01-24 15:15:01,462: INFO [bwb.distributions:508] i = 728: last_i = 71038 -> next_i = 150907.\n",
      "2023-01-24 15:15:01,481: INFO [bwb.distributions:508] i = 729: last_i = 150907 -> next_i = 71038.\n",
      "2023-01-24 15:15:01,499: INFO [bwb.distributions:508] i = 730: last_i = 71038 -> next_i = 150907.\n",
      "2023-01-24 15:15:01,518: INFO [bwb.distributions:508] i = 731: last_i = 150907 -> next_i = 71038.\n",
      "2023-01-24 15:15:01,552: INFO [bwb.distributions:508] i = 733: last_i = 71038 -> next_i = 150907.\n",
      "2023-01-24 15:15:01,571: INFO [bwb.distributions:508] i = 734: last_i = 150907 -> next_i = 71038.\n",
      "2023-01-24 15:15:01,591: INFO [bwb.distributions:508] i = 735: last_i = 71038 -> next_i = 150907.\n",
      "2023-01-24 15:15:01,611: INFO [bwb.distributions:508] i = 736: last_i = 150907 -> next_i = 71038.\n",
      "2023-01-24 15:15:01,630: INFO [bwb.distributions:508] i = 737: last_i = 71038 -> next_i = 150907.\n",
      "2023-01-24 15:15:01,648: INFO [bwb.distributions:508] i = 738: last_i = 150907 -> next_i = 71038.\n",
      "2023-01-24 15:15:01,666: INFO [bwb.distributions:508] i = 739: last_i = 71038 -> next_i = 150907.\n",
      "2023-01-24 15:15:01,702: INFO [bwb.distributions:508] i = 741: last_i = 150907 -> next_i = 71038.\n",
      "2023-01-24 15:15:01,720: INFO [bwb.distributions:508] i = 742: last_i = 71038 -> next_i = 150907.\n"
     ]
    },
    {
     "name": "stderr",
     "output_type": "stream",
     "text": [
      "2023-01-24 15:15:01,739: INFO [bwb.distributions:508] i = 743: last_i = 150907 -> next_i = 71038.\n",
      "2023-01-24 15:15:01,774: INFO [bwb.distributions:508] i = 745: last_i = 71038 -> next_i = 150907.\n",
      "2023-01-24 15:15:01,793: INFO [bwb.distributions:508] i = 746: last_i = 150907 -> next_i = 71038.\n",
      "2023-01-24 15:15:01,813: INFO [bwb.distributions:508] i = 747: last_i = 71038 -> next_i = 150907.\n",
      "2023-01-24 15:15:01,834: INFO [bwb.distributions:508] i = 748: last_i = 150907 -> next_i = 148766.\n",
      "2023-01-24 15:15:01,856: INFO [bwb.distributions:508] i = 749: last_i = 148766 -> next_i = 150907.\n",
      "2023-01-24 15:15:01,875: INFO [bwb.distributions:508] i = 750: last_i = 150907 -> next_i = 71038.\n",
      "2023-01-24 15:15:01,947: INFO [bwb.distributions:508] i = 754: last_i = 71038 -> next_i = 150907.\n",
      "2023-01-24 15:15:01,965: INFO [bwb.distributions:508] i = 755: last_i = 150907 -> next_i = 71038.\n",
      "2023-01-24 15:15:01,984: INFO [bwb.distributions:508] i = 756: last_i = 71038 -> next_i = 65460.\n",
      "2023-01-24 15:15:02,004: INFO [bwb.distributions:508] i = 757: last_i = 65460 -> next_i = 150907.\n",
      "2023-01-24 15:15:02,024: INFO [bwb.distributions:508] i = 758: last_i = 150907 -> next_i = 71038.\n",
      "2023-01-24 15:15:02,045: INFO [bwb.distributions:508] i = 759: last_i = 71038 -> next_i = 150907.\n",
      "2023-01-24 15:15:02,063: INFO [bwb.distributions:508] i = 760: last_i = 150907 -> next_i = 71038.\n",
      "2023-01-24 15:15:02,082: INFO [bwb.distributions:508] i = 761: last_i = 71038 -> next_i = 150907.\n",
      "2023-01-24 15:15:02,101: INFO [bwb.distributions:508] i = 762: last_i = 150907 -> next_i = 71038.\n",
      "2023-01-24 15:15:02,121: INFO [bwb.distributions:508] i = 763: last_i = 71038 -> next_i = 150907.\n",
      "2023-01-24 15:15:02,140: INFO [bwb.distributions:508] i = 764: last_i = 150907 -> next_i = 71038.\n",
      "2023-01-24 15:15:02,159: INFO [bwb.distributions:508] i = 765: last_i = 71038 -> next_i = 150907.\n",
      "2023-01-24 15:15:02,178: INFO [bwb.distributions:508] i = 766: last_i = 150907 -> next_i = 71038.\n",
      "2023-01-24 15:15:02,196: INFO [bwb.distributions:508] i = 767: last_i = 71038 -> next_i = 150907.\n",
      "2023-01-24 15:15:02,215: INFO [bwb.distributions:508] i = 768: last_i = 150907 -> next_i = 71038.\n",
      "2023-01-24 15:15:02,234: INFO [bwb.distributions:508] i = 769: last_i = 71038 -> next_i = 150907.\n",
      "2023-01-24 15:15:02,253: INFO [bwb.distributions:508] i = 770: last_i = 150907 -> next_i = 71038.\n",
      "2023-01-24 15:15:02,273: INFO [bwb.distributions:508] i = 771: last_i = 71038 -> next_i = 150907.\n",
      "2023-01-24 15:15:02,291: INFO [bwb.distributions:508] i = 772: last_i = 150907 -> next_i = 71038.\n",
      "2023-01-24 15:15:02,309: INFO [bwb.distributions:508] i = 773: last_i = 71038 -> next_i = 136493.\n",
      "2023-01-24 15:15:02,328: INFO [bwb.distributions:508] i = 774: last_i = 136493 -> next_i = 71038.\n",
      "2023-01-24 15:15:02,346: INFO [bwb.distributions:508] i = 775: last_i = 71038 -> next_i = 127086.\n",
      "2023-01-24 15:15:02,365: INFO [bwb.distributions:508] i = 776: last_i = 127086 -> next_i = 150907.\n",
      "2023-01-24 15:15:02,383: INFO [bwb.distributions:508] i = 777: last_i = 150907 -> next_i = 71038.\n",
      "2023-01-24 15:15:02,402: INFO [bwb.distributions:508] i = 778: last_i = 71038 -> next_i = 150907.\n",
      "2023-01-24 15:15:02,421: INFO [bwb.distributions:508] i = 779: last_i = 150907 -> next_i = 71038.\n",
      "2023-01-24 15:15:02,438: INFO [bwb.distributions:508] i = 780: last_i = 71038 -> next_i = 150907.\n",
      "2023-01-24 15:15:02,456: INFO [bwb.distributions:508] i = 781: last_i = 150907 -> next_i = 71038.\n",
      "2023-01-24 15:15:02,474: INFO [bwb.distributions:508] i = 782: last_i = 71038 -> next_i = 150907.\n",
      "2023-01-24 15:15:02,492: INFO [bwb.distributions:508] i = 783: last_i = 150907 -> next_i = 71038.\n",
      "2023-01-24 15:15:02,510: INFO [bwb.distributions:508] i = 784: last_i = 71038 -> next_i = 150907.\n",
      "2023-01-24 15:15:02,528: INFO [bwb.distributions:508] i = 785: last_i = 150907 -> next_i = 71038.\n",
      "2023-01-24 15:15:02,563: INFO [bwb.distributions:508] i = 787: last_i = 71038 -> next_i = 150907.\n",
      "2023-01-24 15:15:02,581: INFO [bwb.distributions:508] i = 788: last_i = 150907 -> next_i = 148766.\n",
      "2023-01-24 15:15:02,601: INFO [bwb.distributions:508] i = 789: last_i = 148766 -> next_i = 71038.\n",
      "2023-01-24 15:15:02,620: INFO [bwb.distributions:508] i = 790: last_i = 71038 -> next_i = 150907.\n",
      "2023-01-24 15:15:02,639: INFO [bwb.distributions:508] i = 791: last_i = 150907 -> next_i = 71038.\n",
      "2023-01-24 15:15:02,658: INFO [bwb.distributions:508] i = 792: last_i = 71038 -> next_i = 136493.\n",
      "2023-01-24 15:15:02,680: INFO [bwb.distributions:508] i = 793: last_i = 136493 -> next_i = 91946.\n",
      "2023-01-24 15:15:02,701: INFO [bwb.distributions:508] i = 794: last_i = 91946 -> next_i = 148766.\n",
      "2023-01-24 15:15:02,719: INFO [bwb.distributions:508] i = 795: last_i = 148766 -> next_i = 71038.\n",
      "2023-01-24 15:15:02,737: INFO [bwb.distributions:508] i = 796: last_i = 71038 -> next_i = 150907.\n",
      "2023-01-24 15:15:02,756: INFO [bwb.distributions:508] i = 797: last_i = 150907 -> next_i = 71038.\n",
      "2023-01-24 15:15:02,774: INFO [bwb.distributions:508] i = 798: last_i = 71038 -> next_i = 148766.\n",
      "2023-01-24 15:15:02,792: INFO [bwb.distributions:508] i = 799: last_i = 148766 -> next_i = 71038.\n",
      "2023-01-24 15:15:02,811: INFO [bwb.distributions:508] i = 800: last_i = 71038 -> next_i = 150907.\n",
      "2023-01-24 15:15:02,829: INFO [bwb.distributions:508] i = 801: last_i = 150907 -> next_i = 71038.\n",
      "2023-01-24 15:15:02,852: INFO [bwb.distributions:508] i = 802: last_i = 71038 -> next_i = 150907.\n",
      "2023-01-24 15:15:02,874: INFO [bwb.distributions:508] i = 803: last_i = 150907 -> next_i = 71038.\n",
      "2023-01-24 15:15:02,894: INFO [bwb.distributions:508] i = 804: last_i = 71038 -> next_i = 150907.\n",
      "2023-01-24 15:15:02,914: INFO [bwb.distributions:508] i = 805: last_i = 150907 -> next_i = 71038.\n",
      "2023-01-24 15:15:02,936: INFO [bwb.distributions:508] i = 806: last_i = 71038 -> next_i = 150907.\n",
      "2023-01-24 15:15:02,956: INFO [bwb.distributions:508] i = 807: last_i = 150907 -> next_i = 71038.\n",
      "2023-01-24 15:15:02,975: INFO [bwb.distributions:508] i = 808: last_i = 71038 -> next_i = 148766.\n",
      "2023-01-24 15:15:02,994: INFO [bwb.distributions:508] i = 809: last_i = 148766 -> next_i = 150907.\n",
      "2023-01-24 15:15:03,013: INFO [bwb.distributions:508] i = 810: last_i = 150907 -> next_i = 71038.\n",
      "2023-01-24 15:15:03,032: INFO [bwb.distributions:508] i = 811: last_i = 71038 -> next_i = 150907.\n",
      "2023-01-24 15:15:03,052: INFO [bwb.distributions:508] i = 812: last_i = 150907 -> next_i = 71038.\n",
      "2023-01-24 15:15:03,072: INFO [bwb.distributions:508] i = 813: last_i = 71038 -> next_i = 150907.\n",
      "2023-01-24 15:15:03,092: INFO [bwb.distributions:508] i = 814: last_i = 150907 -> next_i = 136493.\n",
      "2023-01-24 15:15:03,112: INFO [bwb.distributions:508] i = 815: last_i = 136493 -> next_i = 150907.\n",
      "2023-01-24 15:15:03,135: INFO [bwb.distributions:508] i = 816: last_i = 150907 -> next_i = 71038.\n",
      "2023-01-24 15:15:03,160: INFO [bwb.distributions:508] i = 817: last_i = 71038 -> next_i = 150907.\n",
      "2023-01-24 15:15:03,197: INFO [bwb.distributions:508] i = 819: last_i = 150907 -> next_i = 136493.\n",
      "2023-01-24 15:15:03,216: INFO [bwb.distributions:508] i = 820: last_i = 136493 -> next_i = 71038.\n",
      "2023-01-24 15:15:03,235: INFO [bwb.distributions:508] i = 821: last_i = 71038 -> next_i = 150907.\n",
      "2023-01-24 15:15:03,254: INFO [bwb.distributions:508] i = 822: last_i = 150907 -> next_i = 83639.\n",
      "2023-01-24 15:15:03,275: INFO [bwb.distributions:508] i = 823: last_i = 83639 -> next_i = 150907.\n",
      "2023-01-24 15:15:03,293: INFO [bwb.distributions:508] i = 824: last_i = 150907 -> next_i = 136493.\n",
      "2023-01-24 15:15:03,312: INFO [bwb.distributions:508] i = 825: last_i = 136493 -> next_i = 150907.\n",
      "2023-01-24 15:15:03,331: INFO [bwb.distributions:508] i = 826: last_i = 150907 -> next_i = 71038.\n",
      "2023-01-24 15:15:03,350: INFO [bwb.distributions:508] i = 827: last_i = 71038 -> next_i = 127086.\n",
      "2023-01-24 15:15:03,369: INFO [bwb.distributions:508] i = 828: last_i = 127086 -> next_i = 71038.\n",
      "2023-01-24 15:15:03,388: INFO [bwb.distributions:508] i = 829: last_i = 71038 -> next_i = 150907.\n",
      "2023-01-24 15:15:03,409: INFO [bwb.distributions:508] i = 830: last_i = 150907 -> next_i = 71038.\n",
      "2023-01-24 15:15:03,429: INFO [bwb.distributions:508] i = 831: last_i = 71038 -> next_i = 150907.\n",
      "2023-01-24 15:15:03,448: INFO [bwb.distributions:508] i = 832: last_i = 150907 -> next_i = 71038.\n"
     ]
    },
    {
     "name": "stderr",
     "output_type": "stream",
     "text": [
      "2023-01-24 15:15:03,467: INFO [bwb.distributions:508] i = 833: last_i = 71038 -> next_i = 150907.\n",
      "2023-01-24 15:15:03,487: INFO [bwb.distributions:508] i = 834: last_i = 150907 -> next_i = 71038.\n",
      "2023-01-24 15:15:03,506: INFO [bwb.distributions:508] i = 835: last_i = 71038 -> next_i = 150907.\n",
      "2023-01-24 15:15:03,525: INFO [bwb.distributions:508] i = 836: last_i = 150907 -> next_i = 71038.\n",
      "2023-01-24 15:15:03,544: INFO [bwb.distributions:508] i = 837: last_i = 71038 -> next_i = 150907.\n",
      "2023-01-24 15:15:03,563: INFO [bwb.distributions:508] i = 838: last_i = 150907 -> next_i = 71038.\n",
      "2023-01-24 15:15:03,581: INFO [bwb.distributions:508] i = 839: last_i = 71038 -> next_i = 150907.\n",
      "2023-01-24 15:15:03,601: INFO [bwb.distributions:508] i = 840: last_i = 150907 -> next_i = 71038.\n",
      "2023-01-24 15:15:03,619: INFO [bwb.distributions:508] i = 841: last_i = 71038 -> next_i = 150907.\n",
      "2023-01-24 15:15:03,638: INFO [bwb.distributions:508] i = 842: last_i = 150907 -> next_i = 71038.\n",
      "2023-01-24 15:15:03,657: INFO [bwb.distributions:508] i = 843: last_i = 71038 -> next_i = 65460.\n",
      "2023-01-24 15:15:03,676: INFO [bwb.distributions:508] i = 844: last_i = 65460 -> next_i = 150907.\n",
      "2023-01-24 15:15:03,695: INFO [bwb.distributions:508] i = 845: last_i = 150907 -> next_i = 136493.\n",
      "2023-01-24 15:15:03,714: INFO [bwb.distributions:508] i = 846: last_i = 136493 -> next_i = 150907.\n",
      "2023-01-24 15:15:03,735: INFO [bwb.distributions:508] i = 847: last_i = 150907 -> next_i = 71038.\n",
      "2023-01-24 15:15:03,753: INFO [bwb.distributions:508] i = 848: last_i = 71038 -> next_i = 150907.\n",
      "2023-01-24 15:15:03,773: INFO [bwb.distributions:508] i = 849: last_i = 150907 -> next_i = 65460.\n",
      "2023-01-24 15:15:03,792: INFO [bwb.distributions:508] i = 850: last_i = 65460 -> next_i = 71038.\n",
      "2023-01-24 15:15:03,810: INFO [bwb.distributions:508] i = 851: last_i = 71038 -> next_i = 148766.\n",
      "2023-01-24 15:15:03,828: INFO [bwb.distributions:508] i = 852: last_i = 148766 -> next_i = 150907.\n",
      "2023-01-24 15:15:03,846: INFO [bwb.distributions:508] i = 853: last_i = 150907 -> next_i = 71038.\n",
      "2023-01-24 15:15:03,864: INFO [bwb.distributions:508] i = 854: last_i = 71038 -> next_i = 150907.\n",
      "2023-01-24 15:15:03,884: INFO [bwb.distributions:508] i = 855: last_i = 150907 -> next_i = 71038.\n",
      "2023-01-24 15:15:03,903: INFO [bwb.distributions:508] i = 856: last_i = 71038 -> next_i = 150907.\n",
      "2023-01-24 15:15:03,921: INFO [bwb.distributions:508] i = 857: last_i = 150907 -> next_i = 71038.\n",
      "2023-01-24 15:15:03,959: INFO [bwb.distributions:508] i = 859: last_i = 71038 -> next_i = 150907.\n",
      "2023-01-24 15:15:03,983: INFO [bwb.distributions:508] i = 860: last_i = 150907 -> next_i = 71038.\n",
      "2023-01-24 15:15:04,006: INFO [bwb.distributions:508] i = 861: last_i = 71038 -> next_i = 150907.\n",
      "2023-01-24 15:15:04,044: INFO [bwb.distributions:508] i = 863: last_i = 150907 -> next_i = 71038.\n",
      "2023-01-24 15:15:04,080: INFO [bwb.distributions:508] i = 865: last_i = 71038 -> next_i = 150907.\n",
      "2023-01-24 15:15:04,099: INFO [bwb.distributions:508] i = 866: last_i = 150907 -> next_i = 71038.\n",
      "2023-01-24 15:15:04,118: INFO [bwb.distributions:508] i = 867: last_i = 71038 -> next_i = 150907.\n",
      "2023-01-24 15:15:04,139: INFO [bwb.distributions:508] i = 868: last_i = 150907 -> next_i = 71038.\n",
      "2023-01-24 15:15:04,163: INFO [bwb.distributions:508] i = 869: last_i = 71038 -> next_i = 150907.\n",
      "2023-01-24 15:15:04,183: INFO [bwb.distributions:508] i = 870: last_i = 150907 -> next_i = 71038.\n",
      "2023-01-24 15:15:04,202: INFO [bwb.distributions:508] i = 871: last_i = 71038 -> next_i = 150907.\n",
      "2023-01-24 15:15:04,221: INFO [bwb.distributions:508] i = 872: last_i = 150907 -> next_i = 71038.\n",
      "2023-01-24 15:15:04,240: INFO [bwb.distributions:508] i = 873: last_i = 71038 -> next_i = 150907.\n",
      "2023-01-24 15:15:04,259: INFO [bwb.distributions:508] i = 874: last_i = 150907 -> next_i = 71038.\n",
      "2023-01-24 15:15:04,278: INFO [bwb.distributions:508] i = 875: last_i = 71038 -> next_i = 150907.\n",
      "2023-01-24 15:15:04,296: INFO [bwb.distributions:508] i = 876: last_i = 150907 -> next_i = 136493.\n",
      "2023-01-24 15:15:04,316: INFO [bwb.distributions:508] i = 877: last_i = 136493 -> next_i = 71038.\n",
      "2023-01-24 15:15:04,336: INFO [bwb.distributions:508] i = 878: last_i = 71038 -> next_i = 150907.\n",
      "2023-01-24 15:15:04,355: INFO [bwb.distributions:508] i = 879: last_i = 150907 -> next_i = 71038.\n",
      "2023-01-24 15:15:04,374: INFO [bwb.distributions:508] i = 880: last_i = 71038 -> next_i = 150907.\n",
      "2023-01-24 15:15:04,393: INFO [bwb.distributions:508] i = 881: last_i = 150907 -> next_i = 71038.\n",
      "2023-01-24 15:15:04,413: INFO [bwb.distributions:508] i = 882: last_i = 71038 -> next_i = 150907.\n",
      "2023-01-24 15:15:04,438: INFO [bwb.distributions:508] i = 883: last_i = 150907 -> next_i = 71038.\n",
      "2023-01-24 15:15:04,478: INFO [bwb.distributions:508] i = 885: last_i = 71038 -> next_i = 150907.\n",
      "2023-01-24 15:15:04,497: INFO [bwb.distributions:508] i = 886: last_i = 150907 -> next_i = 71038.\n",
      "2023-01-24 15:15:04,516: INFO [bwb.distributions:508] i = 887: last_i = 71038 -> next_i = 150907.\n",
      "2023-01-24 15:15:04,536: INFO [bwb.distributions:508] i = 888: last_i = 150907 -> next_i = 136493.\n",
      "2023-01-24 15:15:04,554: INFO [bwb.distributions:508] i = 889: last_i = 136493 -> next_i = 150907.\n",
      "2023-01-24 15:15:04,575: INFO [bwb.distributions:508] i = 890: last_i = 150907 -> next_i = 71038.\n",
      "2023-01-24 15:15:04,594: INFO [bwb.distributions:508] i = 891: last_i = 71038 -> next_i = 148766.\n",
      "2023-01-24 15:15:04,613: INFO [bwb.distributions:508] i = 892: last_i = 148766 -> next_i = 71038.\n",
      "2023-01-24 15:15:04,650: INFO [bwb.distributions:508] i = 894: last_i = 71038 -> next_i = 136493.\n",
      "2023-01-24 15:15:04,669: INFO [bwb.distributions:508] i = 895: last_i = 136493 -> next_i = 148766.\n",
      "2023-01-24 15:15:04,687: INFO [bwb.distributions:508] i = 896: last_i = 148766 -> next_i = 71038.\n",
      "2023-01-24 15:15:04,706: INFO [bwb.distributions:508] i = 897: last_i = 71038 -> next_i = 150907.\n",
      "2023-01-24 15:15:04,725: INFO [bwb.distributions:508] i = 898: last_i = 150907 -> next_i = 136493.\n",
      "2023-01-24 15:15:04,744: INFO [bwb.distributions:508] i = 899: last_i = 136493 -> next_i = 150907.\n",
      "2023-01-24 15:15:04,763: INFO [bwb.distributions:508] i = 900: last_i = 150907 -> next_i = 148766.\n",
      "2023-01-24 15:15:04,783: INFO [bwb.distributions:508] i = 901: last_i = 148766 -> next_i = 150907.\n",
      "2023-01-24 15:15:04,802: INFO [bwb.distributions:508] i = 902: last_i = 150907 -> next_i = 71038.\n",
      "2023-01-24 15:15:04,820: INFO [bwb.distributions:508] i = 903: last_i = 71038 -> next_i = 150907.\n",
      "2023-01-24 15:15:04,838: INFO [bwb.distributions:508] i = 904: last_i = 150907 -> next_i = 71038.\n",
      "2023-01-24 15:15:04,857: INFO [bwb.distributions:508] i = 905: last_i = 71038 -> next_i = 150907.\n",
      "2023-01-24 15:15:04,875: INFO [bwb.distributions:508] i = 906: last_i = 150907 -> next_i = 71038.\n",
      "2023-01-24 15:15:04,894: INFO [bwb.distributions:508] i = 907: last_i = 71038 -> next_i = 150907.\n",
      "2023-01-24 15:15:04,912: INFO [bwb.distributions:508] i = 908: last_i = 150907 -> next_i = 71038.\n",
      "2023-01-24 15:15:04,931: INFO [bwb.distributions:508] i = 909: last_i = 71038 -> next_i = 150907.\n",
      "2023-01-24 15:15:04,949: INFO [bwb.distributions:508] i = 910: last_i = 150907 -> next_i = 136493.\n",
      "2023-01-24 15:15:04,971: INFO [bwb.distributions:508] i = 911: last_i = 136493 -> next_i = 71038.\n",
      "2023-01-24 15:15:04,989: INFO [bwb.distributions:508] i = 912: last_i = 71038 -> next_i = 150907.\n",
      "2023-01-24 15:15:05,009: INFO [bwb.distributions:508] i = 913: last_i = 150907 -> next_i = 71038.\n",
      "2023-01-24 15:15:05,034: INFO [bwb.distributions:508] i = 914: last_i = 71038 -> next_i = 136493.\n",
      "2023-01-24 15:15:05,056: INFO [bwb.distributions:508] i = 915: last_i = 136493 -> next_i = 150907.\n",
      "2023-01-24 15:15:05,077: INFO [bwb.distributions:508] i = 916: last_i = 150907 -> next_i = 71038.\n",
      "2023-01-24 15:15:05,102: INFO [bwb.distributions:508] i = 917: last_i = 71038 -> next_i = 150907.\n",
      "2023-01-24 15:15:05,121: INFO [bwb.distributions:508] i = 918: last_i = 150907 -> next_i = 71038.\n",
      "2023-01-24 15:15:05,141: INFO [bwb.distributions:508] i = 919: last_i = 71038 -> next_i = 150907.\n",
      "2023-01-24 15:15:05,164: INFO [bwb.distributions:508] i = 920: last_i = 150907 -> next_i = 71038.\n",
      "2023-01-24 15:15:05,202: INFO [bwb.distributions:508] i = 922: last_i = 71038 -> next_i = 150907.\n"
     ]
    },
    {
     "name": "stderr",
     "output_type": "stream",
     "text": [
      "2023-01-24 15:15:05,223: INFO [bwb.distributions:508] i = 923: last_i = 150907 -> next_i = 71038.\n",
      "2023-01-24 15:15:05,243: INFO [bwb.distributions:508] i = 924: last_i = 71038 -> next_i = 148766.\n",
      "2023-01-24 15:15:05,264: INFO [bwb.distributions:508] i = 925: last_i = 148766 -> next_i = 71038.\n",
      "2023-01-24 15:15:05,286: INFO [bwb.distributions:508] i = 926: last_i = 71038 -> next_i = 150907.\n",
      "2023-01-24 15:15:05,306: INFO [bwb.distributions:508] i = 927: last_i = 150907 -> next_i = 71038.\n",
      "2023-01-24 15:15:05,325: INFO [bwb.distributions:508] i = 928: last_i = 71038 -> next_i = 150907.\n",
      "2023-01-24 15:15:05,345: INFO [bwb.distributions:508] i = 929: last_i = 150907 -> next_i = 71038.\n",
      "2023-01-24 15:15:05,364: INFO [bwb.distributions:508] i = 930: last_i = 71038 -> next_i = 150907.\n",
      "2023-01-24 15:15:05,384: INFO [bwb.distributions:508] i = 931: last_i = 150907 -> next_i = 71038.\n",
      "2023-01-24 15:15:05,407: INFO [bwb.distributions:508] i = 932: last_i = 71038 -> next_i = 150907.\n",
      "2023-01-24 15:15:05,443: INFO [bwb.distributions:508] i = 934: last_i = 150907 -> next_i = 71038.\n",
      "2023-01-24 15:15:05,462: INFO [bwb.distributions:508] i = 935: last_i = 71038 -> next_i = 136493.\n",
      "2023-01-24 15:15:05,481: INFO [bwb.distributions:508] i = 936: last_i = 136493 -> next_i = 150907.\n",
      "2023-01-24 15:15:05,499: INFO [bwb.distributions:508] i = 937: last_i = 150907 -> next_i = 71038.\n",
      "2023-01-24 15:15:05,518: INFO [bwb.distributions:508] i = 938: last_i = 71038 -> next_i = 150907.\n",
      "2023-01-24 15:15:05,537: INFO [bwb.distributions:508] i = 939: last_i = 150907 -> next_i = 38313.\n",
      "2023-01-24 15:15:05,555: INFO [bwb.distributions:508] i = 940: last_i = 38313 -> next_i = 136493.\n",
      "2023-01-24 15:15:05,573: INFO [bwb.distributions:508] i = 941: last_i = 136493 -> next_i = 150907.\n",
      "2023-01-24 15:15:05,592: INFO [bwb.distributions:508] i = 942: last_i = 150907 -> next_i = 71038.\n",
      "2023-01-24 15:15:05,611: INFO [bwb.distributions:508] i = 943: last_i = 71038 -> next_i = 150907.\n",
      "2023-01-24 15:15:05,630: INFO [bwb.distributions:508] i = 944: last_i = 150907 -> next_i = 71038.\n",
      "2023-01-24 15:15:05,647: INFO [bwb.distributions:508] i = 945: last_i = 71038 -> next_i = 150907.\n",
      "2023-01-24 15:15:05,666: INFO [bwb.distributions:508] i = 946: last_i = 150907 -> next_i = 71038.\n",
      "2023-01-24 15:15:05,685: INFO [bwb.distributions:508] i = 947: last_i = 71038 -> next_i = 150907.\n",
      "2023-01-24 15:15:05,704: INFO [bwb.distributions:508] i = 948: last_i = 150907 -> next_i = 71038.\n",
      "2023-01-24 15:15:05,757: INFO [bwb.distributions:508] i = 951: last_i = 71038 -> next_i = 150907.\n",
      "2023-01-24 15:15:05,791: INFO [bwb.distributions:508] i = 953: last_i = 150907 -> next_i = 71038.\n",
      "2023-01-24 15:15:05,809: INFO [bwb.distributions:508] i = 954: last_i = 71038 -> next_i = 150907.\n",
      "2023-01-24 15:15:05,828: INFO [bwb.distributions:508] i = 955: last_i = 150907 -> next_i = 71038.\n",
      "2023-01-24 15:15:05,846: INFO [bwb.distributions:508] i = 956: last_i = 71038 -> next_i = 150907.\n",
      "2023-01-24 15:15:05,866: INFO [bwb.distributions:508] i = 957: last_i = 150907 -> next_i = 71038.\n",
      "2023-01-24 15:15:05,888: INFO [bwb.distributions:508] i = 958: last_i = 71038 -> next_i = 150907.\n",
      "2023-01-24 15:15:05,907: INFO [bwb.distributions:508] i = 959: last_i = 150907 -> next_i = 71038.\n",
      "2023-01-24 15:15:05,925: INFO [bwb.distributions:508] i = 960: last_i = 71038 -> next_i = 150907.\n",
      "2023-01-24 15:15:05,943: INFO [bwb.distributions:508] i = 961: last_i = 150907 -> next_i = 136493.\n",
      "2023-01-24 15:15:05,961: INFO [bwb.distributions:508] i = 962: last_i = 136493 -> next_i = 150907.\n",
      "2023-01-24 15:15:05,979: INFO [bwb.distributions:508] i = 963: last_i = 150907 -> next_i = 71038.\n",
      "2023-01-24 15:15:05,997: INFO [bwb.distributions:508] i = 964: last_i = 71038 -> next_i = 150907.\n",
      "2023-01-24 15:15:06,015: INFO [bwb.distributions:508] i = 965: last_i = 150907 -> next_i = 71038.\n",
      "2023-01-24 15:15:06,033: INFO [bwb.distributions:508] i = 966: last_i = 71038 -> next_i = 150907.\n",
      "2023-01-24 15:15:06,052: INFO [bwb.distributions:508] i = 967: last_i = 150907 -> next_i = 71038.\n",
      "2023-01-24 15:15:06,070: INFO [bwb.distributions:508] i = 968: last_i = 71038 -> next_i = 136493.\n",
      "2023-01-24 15:15:06,089: INFO [bwb.distributions:508] i = 969: last_i = 136493 -> next_i = 71038.\n",
      "2023-01-24 15:15:06,112: INFO [bwb.distributions:508] i = 970: last_i = 71038 -> next_i = 150907.\n",
      "2023-01-24 15:15:06,141: INFO [bwb.distributions:508] i = 971: last_i = 150907 -> next_i = 71038.\n",
      "2023-01-24 15:15:06,162: INFO [bwb.distributions:508] i = 972: last_i = 71038 -> next_i = 150907.\n",
      "2023-01-24 15:15:06,182: INFO [bwb.distributions:508] i = 973: last_i = 150907 -> next_i = 71038.\n",
      "2023-01-24 15:15:06,200: INFO [bwb.distributions:508] i = 974: last_i = 71038 -> next_i = 150907.\n",
      "2023-01-24 15:15:06,255: INFO [bwb.distributions:508] i = 977: last_i = 150907 -> next_i = 71038.\n",
      "2023-01-24 15:15:06,274: INFO [bwb.distributions:508] i = 978: last_i = 71038 -> next_i = 150907.\n",
      "2023-01-24 15:15:06,294: INFO [bwb.distributions:508] i = 979: last_i = 150907 -> next_i = 136493.\n",
      "2023-01-24 15:15:06,318: INFO [bwb.distributions:508] i = 980: last_i = 136493 -> next_i = 150907.\n",
      "2023-01-24 15:15:06,338: INFO [bwb.distributions:508] i = 981: last_i = 150907 -> next_i = 71038.\n",
      "2023-01-24 15:15:06,357: INFO [bwb.distributions:508] i = 982: last_i = 71038 -> next_i = 91946.\n",
      "2023-01-24 15:15:06,377: INFO [bwb.distributions:508] i = 983: last_i = 91946 -> next_i = 150907.\n",
      "2023-01-24 15:15:06,396: INFO [bwb.distributions:508] i = 984: last_i = 150907 -> next_i = 136493.\n",
      "2023-01-24 15:15:06,416: INFO [bwb.distributions:508] i = 985: last_i = 136493 -> next_i = 150907.\n",
      "2023-01-24 15:15:06,452: INFO [bwb.distributions:508] i = 987: last_i = 150907 -> next_i = 71038.\n",
      "2023-01-24 15:15:06,472: INFO [bwb.distributions:508] i = 988: last_i = 71038 -> next_i = 150907.\n",
      "2023-01-24 15:15:06,491: INFO [bwb.distributions:508] i = 989: last_i = 150907 -> next_i = 71038.\n",
      "2023-01-24 15:15:06,513: INFO [bwb.distributions:508] i = 990: last_i = 71038 -> next_i = 150907.\n",
      "2023-01-24 15:15:06,532: INFO [bwb.distributions:508] i = 991: last_i = 150907 -> next_i = 71038.\n",
      "2023-01-24 15:15:06,552: INFO [bwb.distributions:508] i = 992: last_i = 71038 -> next_i = 150907.\n",
      "2023-01-24 15:15:06,572: INFO [bwb.distributions:508] i = 993: last_i = 150907 -> next_i = 71038.\n",
      "2023-01-24 15:15:06,591: INFO [bwb.distributions:508] i = 994: last_i = 71038 -> next_i = 150907.\n",
      "2023-01-24 15:15:06,613: INFO [bwb.distributions:508] i = 995: last_i = 150907 -> next_i = 71038.\n",
      "2023-01-24 15:15:06,635: INFO [bwb.distributions:508] i = 996: last_i = 71038 -> next_i = 150907.\n",
      "2023-01-24 15:15:06,655: INFO [bwb.distributions:508] i = 997: last_i = 150907 -> next_i = 71038.\n",
      "2023-01-24 15:15:06,675: INFO [bwb.distributions:508] i = 998: last_i = 71038 -> next_i = 150907.\n",
      "2023-01-24 15:15:06,713: INFO [bwb.distributions:508] i = 1000: last_i = 150907 -> next_i = 71038.\n"
     ]
    },
    {
     "name": "stdout",
     "output_type": "stream",
     "text": [
      "CPU times: total: 22.1 s\n",
      "Wall time: 21.8 s\n"
     ]
    },
    {
     "data": {
      "text/plain": [
       "GibbsPosteriorPiN(n_data=100, n_models=161665, n_samples=1000, last_i=71038, likelihood_sum=9.0517e-267)"
      ]
     },
     "execution_count": 44,
     "metadata": {},
     "output_type": "execute_result"
    }
   ],
   "source": [
    "%%time\n",
    "mcmc.rvs(size=1_000)\n",
    "mcmc"
   ]
  },
  {
   "cell_type": "markdown",
   "metadata": {
    "pycharm": {
     "name": "#%% md\n"
    }
   },
   "source": [
    "Observamos el contador"
   ]
  },
  {
   "cell_type": "code",
   "execution_count": 45,
   "metadata": {
    "pycharm": {
     "name": "#%%\n"
    }
   },
   "outputs": [
    {
     "data": {
      "text/plain": [
       "[(150907, 428),\n",
       " (71038, 424),\n",
       " (136493, 68),\n",
       " (148766, 33),\n",
       " (65460, 28),\n",
       " (127086, 5),\n",
       " (38313, 3),\n",
       " (83639, 3),\n",
       " (134615, 2),\n",
       " (128011, 2),\n",
       " (91946, 2),\n",
       " (114247, 1),\n",
       " (91382, 1),\n",
       " (97267, 1)]"
      ]
     },
     "execution_count": 45,
     "metadata": {},
     "output_type": "execute_result"
    }
   ],
   "source": [
    "mcmc.counter.most_common()"
   ]
  },
  {
   "cell_type": "code",
   "execution_count": 46,
   "metadata": {
    "pycharm": {
     "name": "#%%\n"
    }
   },
   "outputs": [
    {
     "data": {
      "image/png": "[encoded data removed]",
      "text/plain": [
       "<bwb.distributions.DistributionDraw at 0x26f1bfe0070>"
      ]
     },
     "execution_count": 46,
     "metadata": {},
     "output_type": "execute_result"
    }
   ],
   "source": [
    "faces_modified[0]"
   ]
  },
  {
   "cell_type": "code",
   "execution_count": 47,
   "metadata": {
    "pycharm": {
     "name": "#%%\n"
    },
    "scrolled": false
   },
   "outputs": [
    {
     "data": {
      "text/html": [
       "\n",
       "    <style>\n",
       "        #ipyplot-html-viewer-toggle-Ggqf5ztzgznmzjoq8e35rX {\n",
       "            position: absolute;\n",
       "            top: -9999px;\n",
       "            left: -9999px;\n",
       "            visibility: hidden;\n",
       "        }\n",
       "\n",
       "        #ipyplot-html-viewer-label-Ggqf5ztzgznmzjoq8e35rX { \n",
       "            position: relative;\n",
       "            display: inline-block;\n",
       "            cursor: pointer;\n",
       "            color: blue;\n",
       "            text-decoration: underline;\n",
       "        }\n",
       "\n",
       "        #ipyplot-html-viewer-textarea-Ggqf5ztzgznmzjoq8e35rX {\n",
       "            background: lightgrey;\n",
       "            width: 100%;\n",
       "            height: 0px;\n",
       "            display: none;\n",
       "        }\n",
       "\n",
       "        #ipyplot-html-viewer-toggle-Ggqf5ztzgznmzjoq8e35rX:checked ~ #ipyplot-html-viewer-textarea-Ggqf5ztzgznmzjoq8e35rX {\n",
       "            height: 200px;\n",
       "            display: block;\n",
       "        }\n",
       "\n",
       "        #ipyplot-html-viewer-toggle-Ggqf5ztzgznmzjoq8e35rX:checked + #ipyplot-html-viewer-label-Ggqf5ztzgznmzjoq8e35rX:after {\n",
       "            content: \"hide html\";\n",
       "            position: absolute;\n",
       "            top: 0;\n",
       "            left: 0;\n",
       "            right: 0;\n",
       "            bottom: 0;\n",
       "            background: white;\n",
       "            cursor: pointer;\n",
       "            color: blue;\n",
       "            text-decoration: underline;\n",
       "        }\n",
       "    </style>\n",
       "    <div>\n",
       "        <input type=\"checkbox\" id=\"ipyplot-html-viewer-toggle-Ggqf5ztzgznmzjoq8e35rX\">\n",
       "        <label id=\"ipyplot-html-viewer-label-Ggqf5ztzgznmzjoq8e35rX\" for=\"ipyplot-html-viewer-toggle-Ggqf5ztzgznmzjoq8e35rX\">show html</label>\n",
       "        <textarea id=\"ipyplot-html-viewer-textarea-Ggqf5ztzgznmzjoq8e35rX\" readonly>\n",
       "            \n",
       "        <style>\n",
       "        #ipyplot-imgs-container-div-eVkw6YwZBFumCYRoyUW5GK {\n",
       "            width: 100%;\n",
       "            height: 100%;\n",
       "            margin: 0%;\n",
       "            overflow: auto;\n",
       "            position: relative;\n",
       "            overflow-y: scroll;\n",
       "        }\n",
       "\n",
       "        div.ipyplot-placeholder-div-eVkw6YwZBFumCYRoyUW5GK {\n",
       "            width: 75px;\n",
       "            display: inline-block;\n",
       "            margin: 3px;\n",
       "            position: relative;\n",
       "        }\n",
       "\n",
       "        div.ipyplot-content-div-eVkw6YwZBFumCYRoyUW5GK {\n",
       "            width: 75px;\n",
       "            background: white;\n",
       "            display: inline-block;\n",
       "            vertical-align: top;\n",
       "            text-align: center;\n",
       "            position: relative;\n",
       "            border: 2px solid #ddd;\n",
       "            top: 0;\n",
       "            left: 0;\n",
       "        }\n",
       "\n",
       "        div.ipyplot-content-div-eVkw6YwZBFumCYRoyUW5GK span.ipyplot-img-close {\n",
       "            display: none;\n",
       "        }\n",
       "\n",
       "        div.ipyplot-content-div-eVkw6YwZBFumCYRoyUW5GK span {\n",
       "            width: 100%;\n",
       "            height: 100%;\n",
       "            position: absolute;\n",
       "            top: 0;\n",
       "            left: 0;\n",
       "        }\n",
       "\n",
       "        div.ipyplot-content-div-eVkw6YwZBFumCYRoyUW5GK img {\n",
       "            width: 75px;\n",
       "        }\n",
       "\n",
       "        div.ipyplot-content-div-eVkw6YwZBFumCYRoyUW5GK span.ipyplot-img-close:hover {\n",
       "            cursor: zoom-out;\n",
       "        }\n",
       "        div.ipyplot-content-div-eVkw6YwZBFumCYRoyUW5GK span.ipyplot-img-expand:hover {\n",
       "            cursor: zoom-in;\n",
       "        }\n",
       "\n",
       "        div[id^=ipyplot-content-div-eVkw6YwZBFumCYRoyUW5GK]:target {\n",
       "            transform: scale(2.5);\n",
       "            transform-origin: left top;\n",
       "            z-index: 5000;\n",
       "            top: 0;\n",
       "            left: 0;\n",
       "            position: absolute;\n",
       "        }\n",
       "\n",
       "        div[id^=ipyplot-content-div-eVkw6YwZBFumCYRoyUW5GK]:target span.ipyplot-img-close {\n",
       "            display: block;\n",
       "        }\n",
       "\n",
       "        div[id^=ipyplot-content-div-eVkw6YwZBFumCYRoyUW5GK]:target span.ipyplot-img-expand {\n",
       "            display: none;\n",
       "        }\n",
       "        </style>\n",
       "    <div id=\"ipyplot-imgs-container-div-eVkw6YwZBFumCYRoyUW5GK\">\n",
       "    <div class=\"ipyplot-placeholder-div-eVkw6YwZBFumCYRoyUW5GK\">\n",
       "        <div id=\"ipyplot-content-div-eVkw6YwZBFumCYRoyUW5GK-ZyrMM2WBTT9TFuTEZgKzEk\" class=\"ipyplot-content-div-eVkw6YwZBFumCYRoyUW5GK\">\n",
       "            <h4 style=\"font-size: 12px; word-wrap: break-word;\">0</h4>\n",
       "            <img src=\"data:image/png;base64,iVBORw0KGgoAAAANSUhEUgAAABwAAAAcCAAAAABXZoBIAAABo0lEQVR4nGM8y4AbMOGRQ0g+/YApyQKhjrS/YGDgrndGlWQ8y8DAwBD8wMNr1a1XDIyilh5maDqtBA8dLZL1VXrL827vRgatcB8kne5vNs3bkJALFTm1dTtPmQfcQb8cn2+YoPkPKmnWeMq7ugMmefxT+1oT2XLT1F9Q6e3/q9dNhUp2ubC+dvrJ4HB1JURuZutynsqFEMkbj6oZ5oSrex34ycXAMPUsA8NrbgaxQL5OBgYGJob7jHwMDAwMzT3rghkYdp1jYIh6w2XAULwGJfgc5RkYGL5zMjAonT3MwODJtQw9bC98EIAxbQ4wMDAxcP2H8Zstkl1g/mdwuMDAwMJgwfBMCsLXNrDjhxti//epNBMDO88BKD/IFyHHwMZ4hYGJgcH6IANW8I+BiYHB7dw77LIMTAwMDoZ+87FLMZ5lYGCYP/e7io+7GIpUz/ITrJDIZji/bdcXBkYuE4kHtswMDAwMdw+973CApgQGBgaGP3cbPutcesnPxMDAwCBhlscAT0MMDAws6krfOvaV7UMymgWJzfaHwa4C2V5GyhM1NgAABfR0Ew4Y9QQAAAAASUVORK5CYII=\"/>\n",
       "            <a href=\"#!\">\n",
       "                <span class=\"ipyplot-img-close\"/>\n",
       "            </a>\n",
       "            <a href=\"#ipyplot-content-div-eVkw6YwZBFumCYRoyUW5GK-ZyrMM2WBTT9TFuTEZgKzEk\">\n",
       "                <span class=\"ipyplot-img-expand\"/>\n",
       "            </a>\n",
       "        </div>\n",
       "    </div>\n",
       "    \n",
       "    <div class=\"ipyplot-placeholder-div-eVkw6YwZBFumCYRoyUW5GK\">\n",
       "        <div id=\"ipyplot-content-div-eVkw6YwZBFumCYRoyUW5GK-Te4PPWDiLWqF9BSxuKWCsF\" class=\"ipyplot-content-div-eVkw6YwZBFumCYRoyUW5GK\">\n",
       "            <h4 style=\"font-size: 12px; word-wrap: break-word;\">1</h4>\n",
       "            <img src=\"data:image/png;base64,iVBORw0KGgoAAAANSUhEUgAAABwAAAAcCAAAAABXZoBIAAABsklEQVR4nH3SS0hbQRSA4f+Oj0USbyT4CAhxoS0URA0BX6Egti40O0WauiytQgRRxEKKohsXIrpRLNSF2TUpKroprWC0uNL2FsG2VFHxAUERxVoMNFqvi0RzuUZnM8x8c5hzZo6kcPcQ95gGVVUN6zA5NntnAbAV1pbqcf1VyugDuFhbVTxGt+caJQVQnY/7b477xtOnkjT4TP2gver53kf5JqGRXT+Hrnjs+0d18WwDHkG9PNkNXLY7HH7GTA3XeBqugbNG+w7g3BpuGvjJ9FFzDIOpGeDu/dYF+5GZimbC4F8ZiZYSLAM6ncaHYMVTuUceZPV2N1oQsFwFUFEEMHH8br7FAtQUtICk7LsWDQnedacuaBb8IpGRi4LAkogAjAgyASj/ewtlBFY2YD2SdgtNCJLsPfDVrKcIMgL6fn/n39mgDtcwIyD7acfpC+8nx5uQFvvtsS97+aPNzeLQruzMz8+zQijwJWflc1oU8b3Naq3mz8zS5mE0l3M1YItFAt65/8X1T1LPD0LHq0vbouE1xBGWJxcuADBUuUqiW5K2qU8uMaVI8XWyxkjXlXNvx18BuLx/KN0I5+kAAAAASUVORK5CYII=\"/>\n",
       "            <a href=\"#!\">\n",
       "                <span class=\"ipyplot-img-close\"/>\n",
       "            </a>\n",
       "            <a href=\"#ipyplot-content-div-eVkw6YwZBFumCYRoyUW5GK-Te4PPWDiLWqF9BSxuKWCsF\">\n",
       "                <span class=\"ipyplot-img-expand\"/>\n",
       "            </a>\n",
       "        </div>\n",
       "    </div>\n",
       "    \n",
       "    <div class=\"ipyplot-placeholder-div-eVkw6YwZBFumCYRoyUW5GK\">\n",
       "        <div id=\"ipyplot-content-div-eVkw6YwZBFumCYRoyUW5GK-mfqsCayC3xkE357QHzxH57\" class=\"ipyplot-content-div-eVkw6YwZBFumCYRoyUW5GK\">\n",
       "            <h4 style=\"font-size: 12px; word-wrap: break-word;\">2</h4>\n",
       "            <img src=\"data:image/png;base64,iVBORw0KGgoAAAANSUhEUgAAABwAAAAcCAAAAABXZoBIAAABn0lEQVR4nLXSQUhTcRzA8e/793jDhtgyY7sk6qFg25MyKMRbmoIdCgcSRpdgZEGESKSHDnWIoIgOM5CmGAoWhDSyi8guKSh7xJRg5SEHM6XAnm0dfFvTw3tbm1Pp0u/y//P/wP/34/f7SRp7h9jH/hUjkRKUrfPZ2B+qGhXbQXutu6IYgy9s/fWD2QTJjL6O916tiZIGXIt1X/n72fL9qDqcx1vR9/aiXPHbqUnFLOjrzKCdM4+mfuSxesLVbFX73H0cMq/vXrTIvwovD98w8UMH4IRy01q0C53wdE4DwepmGzA50hsCYGP95ohxlZpzT0CQwAbguawAoLCWOqpA6xLIGMVdKesbeiNGQc0aikx6R898PgCqWDgtSjAfKQQKkNwNnQhqgOuBEgpLJxAcYx5PqARfNYCAU2P0bfkL3rVFGIjcAQFdMzD+paHnow7wfajD/2mlK/iwzpxKu/wWZgMxQD6weei8Oh1WH1dizfPSt9azDoeRTv9OGmWJqbjrwUnIIe/GP2dzGY80t3mtq1Swt7/0n7rUVLCP0v9Z6m06r3gnMCfyQgAAAABJRU5ErkJggg==\"/>\n",
       "            <a href=\"#!\">\n",
       "                <span class=\"ipyplot-img-close\"/>\n",
       "            </a>\n",
       "            <a href=\"#ipyplot-content-div-eVkw6YwZBFumCYRoyUW5GK-mfqsCayC3xkE357QHzxH57\">\n",
       "                <span class=\"ipyplot-img-expand\"/>\n",
       "            </a>\n",
       "        </div>\n",
       "    </div>\n",
       "    \n",
       "    <div class=\"ipyplot-placeholder-div-eVkw6YwZBFumCYRoyUW5GK\">\n",
       "        <div id=\"ipyplot-content-div-eVkw6YwZBFumCYRoyUW5GK-UwMEMR3D7Hk6sdDdqj7KCA\" class=\"ipyplot-content-div-eVkw6YwZBFumCYRoyUW5GK\">\n",
       "            <h4 style=\"font-size: 12px; word-wrap: break-word;\">3</h4>\n",
       "            <img src=\"data:image/png;base64,iVBORw0KGgoAAAANSUhEUgAAABwAAAAcCAAAAABXZoBIAAABwklEQVR4nJ2SUUhTYRiGn3N2jEHmMU1dCKWeCEToxkIiQ8xALwTJ6ZWSpOmqC6Emw0B2UwqGY2LeBBE4h7kuxFAcCMMbQUxEYpSCDAyU0AtFRLcxdV6c/uMRyov+q+/9nv/j5fv/V1rk30c+h6GY6r3fF9Mu/RUmBwJxgGz7UwNKuufRq9nLrVUq29VxrB2PzsA5Z67rjt5YX/Cv1bhN0DNS99pk5fUX+g041uMpA2JWQWP1ByEBSxzNBMLZQ2PXjeE6ZVTf053RDO/CPjaAl6UVAIFfH3U41QEo96soAnZj0U7A0uYDZH4kKwDX5+ADFfBa44sAT/bnQGETALs9ogGoM502AO59uIuCeDANWFBvpnh06XicSJFJNW0Y6jLKIpaQSefY6FRHTDejyFy1fhEyWKBMncIEMtR+ErKvLDl5CvORwbkzLizfVtYLFEFDBlq6V3E3AlS+KSd8G4Cha3pMnj1s2k1b7v8zMpgHcBB8Lv6zbcV52Jf5oviC9G3050QWUKP6jCR4R2yO2ZlDsNzqzYThQdtXDAiu0JVirTBHA6bfb7U3YIZsj89/TwBgKe/VW9KZUEdXjiD9hpDSfyf+BPrIgiLUF8v1AAAAAElFTkSuQmCC\"/>\n",
       "            <a href=\"#!\">\n",
       "                <span class=\"ipyplot-img-close\"/>\n",
       "            </a>\n",
       "            <a href=\"#ipyplot-content-div-eVkw6YwZBFumCYRoyUW5GK-UwMEMR3D7Hk6sdDdqj7KCA\">\n",
       "                <span class=\"ipyplot-img-expand\"/>\n",
       "            </a>\n",
       "        </div>\n",
       "    </div>\n",
       "    \n",
       "    <div class=\"ipyplot-placeholder-div-eVkw6YwZBFumCYRoyUW5GK\">\n",
       "        <div id=\"ipyplot-content-div-eVkw6YwZBFumCYRoyUW5GK-dPDuho3ZtHDh28JjKUsFqH\" class=\"ipyplot-content-div-eVkw6YwZBFumCYRoyUW5GK\">\n",
       "            <h4 style=\"font-size: 12px; word-wrap: break-word;\">4</h4>\n",
       "            <img src=\"data:image/png;base64,iVBORw0KGgoAAAANSUhEUgAAABwAAAAcCAAAAABXZoBIAAAB6ElEQVR4nJ2SS0hUURjHf/c6TnPnoSMXjOmhJUNEOyuoRQ9oUbSI0mnIkoZeNGj4IoukoQjDiIoKIloEA5ZEFBmmSJGbNiZ2yGwRTWGKjo8ZaKS5kEZzaTF37oxQLvpW539+53D+5/v+kuDfJS/CFocWcxV9GbM6Vm9V/gKvPZ9TV2nz4ynvxXUmlNKGaj407LEDTJz75G1fsgAGRjvVzPE7YUvLvhwYmOy2ZV8KCjbeM93eiPTkMOqWdY0eMm9uuLKTpqEfJWE3MF5QCKnt29oAhGi2CeEvPNNW6hSiEiDvgHgiNQkhZOiogJ5jVbs8CtqzIy8uq6nH/rKWm+9AJjkVAGl4wP/xPk73w/Y8lZIxfHsbQGaaYgj21epvVkDf2aFQhMnTcGFuEAtJgOpqw6rPZ7r+nYEAnP/yPUG3JyNVZPJNWLbJAtOGiLMSmfVEDX38dXxLV7khHhUoyNhKWyFZ9Qo4+vb2coPNPGgESfBtf82J3hCu+sr0/tf3A7FTjeV30+3rDR1sHqmbkXR1TXF8WCNfR9/dmplKf/2Oqzy99dNR9MtqT8Z0hxY8mZ1npFYLHHaNdA6mcDnHJjZfV3KTQEc4gVLkVrSotvaSd0ESAKY+J2Zn5+1LK6zmx7Pp85itMev/Q/0HWmGfRjsfu00AAAAASUVORK5CYII=\"/>\n",
       "            <a href=\"#!\">\n",
       "                <span class=\"ipyplot-img-close\"/>\n",
       "            </a>\n",
       "            <a href=\"#ipyplot-content-div-eVkw6YwZBFumCYRoyUW5GK-dPDuho3ZtHDh28JjKUsFqH\">\n",
       "                <span class=\"ipyplot-img-expand\"/>\n",
       "            </a>\n",
       "        </div>\n",
       "    </div>\n",
       "    \n",
       "    <div class=\"ipyplot-placeholder-div-eVkw6YwZBFumCYRoyUW5GK\">\n",
       "        <div id=\"ipyplot-content-div-eVkw6YwZBFumCYRoyUW5GK-ZhB9MT7yy7rSPyFunF7qL4\" class=\"ipyplot-content-div-eVkw6YwZBFumCYRoyUW5GK\">\n",
       "            <h4 style=\"font-size: 12px; word-wrap: break-word;\">5</h4>\n",
       "            <img src=\"data:image/png;base64,iVBORw0KGgoAAAANSUhEUgAAABwAAAAcCAAAAABXZoBIAAABvElEQVR4nH2SS0hUURiAv3u9iOZopDFDEIiCIDaBL3qpi66PHMQWKiIYBKGgjC/cCLoQJ9RFESKOC0FUcEDScRG5ECRfuFErSUQba6XIzXwNpgjm2OLOHe+V9N+c853v/Ofn/PzCZ64O8RqHFNitHoVZIv8v29wAt0seJuikoNa0nTbKsD/4/phHzWZDzbNs04QM3Kp+jX3XZjfIHPOwH+N4NTSgPD28kC2CS3/X6o61bWm0/aHl0s96kwu8fqqzpsHv/iUVzwE675Wq9OP7O2B5xKmiT809bAIk9okCZNn/rPIcSutxvpQzkfir70kQUQsbO4lgLW7NRORML0V8YnRKEFDr/YlozNRqQojgufSsZyYgASQDVe+YIwIgIPGEr0kaj1/c+3aehogpvZ25vJruNf/psbq8fRCOBE22j5uK8qU3JOPk19YfuPkJmF0ZBRHMFc13nCbirQdhj+0dBTiAsbqSaHUSyoMdDdMu19pdS/De1GJuOnT1VZahTcLQm9Si7E23Z5uYrBx4se54RkCy1D/nu1+YD6CM91hcoegkMD86qfYjvKhK+6l+qNe9QMINXYd0EYcxrp34f6dGgLRC5hPrAAAAAElFTkSuQmCC\"/>\n",
       "            <a href=\"#!\">\n",
       "                <span class=\"ipyplot-img-close\"/>\n",
       "            </a>\n",
       "            <a href=\"#ipyplot-content-div-eVkw6YwZBFumCYRoyUW5GK-ZhB9MT7yy7rSPyFunF7qL4\">\n",
       "                <span class=\"ipyplot-img-expand\"/>\n",
       "            </a>\n",
       "        </div>\n",
       "    </div>\n",
       "    \n",
       "    <div class=\"ipyplot-placeholder-div-eVkw6YwZBFumCYRoyUW5GK\">\n",
       "        <div id=\"ipyplot-content-div-eVkw6YwZBFumCYRoyUW5GK-35pdyU9HC2JYt8qPi2Cecs\" class=\"ipyplot-content-div-eVkw6YwZBFumCYRoyUW5GK\">\n",
       "            <h4 style=\"font-size: 12px; word-wrap: break-word;\">6</h4>\n",
       "            <img src=\"data:image/png;base64,iVBORw0KGgoAAAANSUhEUgAAABwAAAAcCAAAAABXZoBIAAABvElEQVR4nLXSX0hTYRjH8e85O7r+OGVg5YWEJBoTRR16sQxLVMIpiIIoCipe9EcQpbsoEJuIILVBgVZ3ol4NLCIwBZ1XoqhwSPyDA9GbUOQQs9HmynlxztmOQt753ry8fOB53vf3PsIK/1/iBXYxStquLC5uJltv2ouTDCioPRv9Ul5e8NeeP2oqcNYKZ7BlZ6hEq7A07zu+N2CJo2tqLtFQTXbtPBrQL7Tx2WM08r3v5ZI1DYeKikEJGNjxrbwjDCIo8nNQKst0iewCrzPbQIQ3t+/CKNc1W3XUvwQ+bm8jwXQ/8IxsDfuirAAWdrMkDk4eAuYe4FVOM/xLiNgAuIrID8x6t6l04KkpxQ1AChLHeh4MmkqBmhoAvou5SMSsLPzC8Jq3ThApjB6qx4B9vaEoBECQ/kAfiNy6Ma7ik33/fc8VgHBFy5dhNdvREV/izzQhXjHYdBT8YFfja71Tj9sxGzPPg4Bq6q9UZA27x5wugN+fvFw7GikghofO6l65K1SVEfFtpdoWMiZMxBG5M/lx3VevItgdM3Ot3XoDbUwYnBTKLViXV63vbJxHmJz5G/qT3p5vCEK4nKE+BW+JhpiPKWdsAAAAAElFTkSuQmCC\"/>\n",
       "            <a href=\"#!\">\n",
       "                <span class=\"ipyplot-img-close\"/>\n",
       "            </a>\n",
       "            <a href=\"#ipyplot-content-div-eVkw6YwZBFumCYRoyUW5GK-35pdyU9HC2JYt8qPi2Cecs\">\n",
       "                <span class=\"ipyplot-img-expand\"/>\n",
       "            </a>\n",
       "        </div>\n",
       "    </div>\n",
       "    \n",
       "    <div class=\"ipyplot-placeholder-div-eVkw6YwZBFumCYRoyUW5GK\">\n",
       "        <div id=\"ipyplot-content-div-eVkw6YwZBFumCYRoyUW5GK-Nshh7VGNvsfLdSBRhbRRb3\" class=\"ipyplot-content-div-eVkw6YwZBFumCYRoyUW5GK\">\n",
       "            <h4 style=\"font-size: 12px; word-wrap: break-word;\">7</h4>\n",
       "            <img src=\"data:image/png;base64,iVBORw0KGgoAAAANSUhEUgAAABwAAAAcCAAAAABXZoBIAAAB9klEQVR4nJ2SW0iTcRiHn+/bZ9MtteYcYkiMkkUii0XMArMWFYSYMlcwFxTUBpZFZF6UXQSJQQeKThYUOClYkZoH7ACi1F39s12EkkWY0MCWpSaj2mYXNvt2oRe9Vz94eM8/STB/yAuwhaGSEN2tbyCzzGNUQWm2Z/MVTcmOxQTvh72OlVIy9A4c3wXAmTZgqc+lgq4f/ux/xUKBwExVTQI2NfemjRvUkzy4aLs2C9+55XjKL8VV+zexjPKTY07XYZBhz4zbVoCu7SrAxIBvTUVrtenIPUBmMKrtKr3hi1g+4N+41rFf1jxUpqjU3AXEY7IKNQBnH+UBWrLTTS+FOJAuhAzkvI1JKbJr64XR1A0l5swv63pkcE9NozCGn2AoUoE/o/PO85jJuVcPkEFYr/ANsFphsOlgbr16n6/L5w4/6imuSuh+AL4jU8QwwCfC3gYAxkuPAWBGQbHW2V+E9h2qHSEXIHA+vh24qTMjCbDbXsWR7Q7LCm2859Zny9ATIxQd3Q1CiBNS/TLQaQE05d2rC4UQ+VlCCAVwisZTrztWXdZNRjFQ9/4Z7Pz5dO6fl1o2bTk3aVhCauSj/nb+iDetXeWE4epoTc7QbyZ0BZs53WG/rrYJNLbHircZDdORvs5FDetJhtDfEowDeZWeZA/NE/9v6j+E3KRcxtwf1wAAAABJRU5ErkJggg==\"/>\n",
       "            <a href=\"#!\">\n",
       "                <span class=\"ipyplot-img-close\"/>\n",
       "            </a>\n",
       "            <a href=\"#ipyplot-content-div-eVkw6YwZBFumCYRoyUW5GK-Nshh7VGNvsfLdSBRhbRRb3\">\n",
       "                <span class=\"ipyplot-img-expand\"/>\n",
       "            </a>\n",
       "        </div>\n",
       "    </div>\n",
       "    \n",
       "    <div class=\"ipyplot-placeholder-div-eVkw6YwZBFumCYRoyUW5GK\">\n",
       "        <div id=\"ipyplot-content-div-eVkw6YwZBFumCYRoyUW5GK-Xu4x7UNkJdFMnxADq9YWSC\" class=\"ipyplot-content-div-eVkw6YwZBFumCYRoyUW5GK\">\n",
       "            <h4 style=\"font-size: 12px; word-wrap: break-word;\">8</h4>\n",
       "            <img src=\"data:image/png;base64,iVBORw0KGgoAAAANSUhEUgAAABwAAAAcCAAAAABXZoBIAAABqklEQVR4nH2SSyhEURzGf/d2R2YMFhpSipQ0HhsWHnksJJmsZTJT5BGlRiQRRaKElZ2IyTMiWRBGlMLCFDYeeaWEUh6RMsNY3LljRpmz+n/ndx7f+Z9PsPP/EP0w/1DyFtZBF6gyzCluLdgBFvs/QC2+W/Kfnh6XDtST0b+wacuUwPfA13NBDwCNe6taBQ4PzcYAYK+eigeg4npDMTRikRmp5U65GNG2uQ1NCqXA7GVMCXWKNcOye+eQGeBirg+AUQOA/laGD29lAC0BBQCYHtYBvcsJSBwJagB2gbtIVNsaQMdxMog4vbpQNQ4aALRL/X86xH2UUoUvkJUuonG5dTO4ohWYosWBSC47ALzbJgiJVWCUoygbCdKtmQBBzb2Hm783hHaCCLX7CwAUz+wbzgC4SZMXSJBU363LBojbrDRKaYk4p2N51cgQ82ODNQGAYcf6mg0MrZzEo/xn+4qp3udN5NYYlZh0dc3n7XqzAYcRT4YKt3Pqqj48rGa6G8+xALeWq7DM8mB4Oe8JHIvwhXC6M38HIBR1yBPCn1B/qhA8wrfxEOAt/Ib6B+3WeAAeucsDAAAAAElFTkSuQmCC\"/>\n",
       "            <a href=\"#!\">\n",
       "                <span class=\"ipyplot-img-close\"/>\n",
       "            </a>\n",
       "            <a href=\"#ipyplot-content-div-eVkw6YwZBFumCYRoyUW5GK-Xu4x7UNkJdFMnxADq9YWSC\">\n",
       "                <span class=\"ipyplot-img-expand\"/>\n",
       "            </a>\n",
       "        </div>\n",
       "    </div>\n",
       "    \n",
       "    <div class=\"ipyplot-placeholder-div-eVkw6YwZBFumCYRoyUW5GK\">\n",
       "        <div id=\"ipyplot-content-div-eVkw6YwZBFumCYRoyUW5GK-PB7rVtQPMNddF6yLdhoZS9\" class=\"ipyplot-content-div-eVkw6YwZBFumCYRoyUW5GK\">\n",
       "            <h4 style=\"font-size: 12px; word-wrap: break-word;\">9</h4>\n",
       "            <img src=\"data:image/png;base64,iVBORw0KGgoAAAANSUhEUgAAABwAAAAcCAAAAABXZoBIAAABz0lEQVR4nH2SW0jTcRTHP/+f/0xwpaXhJQWH+iB7EPo3cvNS1EtCPohuiwjJIgR7aMEE/8aGeCl9qQdDsp4G0UiakdqNREQxBfkViEVeUCFEKjBoGBQGPezacJ6XA+dzbpzzVSSJTezBonDDbR7bioNKqK1jBUA5bjsTA9WgO5U1kvrXkDQ91JrhLo+rdH5+HQ64XxbdKoydOT11L5LdOZ5ub46Fel1RdFDagG+jYjYCW1LawG82t8CipmlVj59XXxsAQEovj6SU2D0Z52SOZfjZFTplNzeklCrc10rgB03pC2ts3jlK85tNzgZ6atJQYaYPOJTZUDbq4EBTcW7mNwPYnrTfRbCOFeCFZa7RyURj3ve3VgegT4JKIHQNHYCG8NIaU5WCn4nO/hvBTiKYjOAki7vDfQgw+uOin3wfAfajQl1/Gzx4WvohiLb/gM3EuHIMRbJzQq+HymSbAkB26dZVfwG1pi5UUK/3mErocL335AVrXcYCfF+8oX/enBg5zJq+LExWozB4FyZZuuA6H3725fmLTtieeTf7FXL786my9BLR0KvbwnM6sm7gEn6iEHoHj9RrBwFWh+aKffwH+fVwNChNUW63Egd3sT0V/w/78YhRCoo+3wAAAABJRU5ErkJggg==\"/>\n",
       "            <a href=\"#!\">\n",
       "                <span class=\"ipyplot-img-close\"/>\n",
       "            </a>\n",
       "            <a href=\"#ipyplot-content-div-eVkw6YwZBFumCYRoyUW5GK-PB7rVtQPMNddF6yLdhoZS9\">\n",
       "                <span class=\"ipyplot-img-expand\"/>\n",
       "            </a>\n",
       "        </div>\n",
       "    </div>\n",
       "    \n",
       "    <div class=\"ipyplot-placeholder-div-eVkw6YwZBFumCYRoyUW5GK\">\n",
       "        <div id=\"ipyplot-content-div-eVkw6YwZBFumCYRoyUW5GK-S8PVKwTmvf86NXeAZ55eNf\" class=\"ipyplot-content-div-eVkw6YwZBFumCYRoyUW5GK\">\n",
       "            <h4 style=\"font-size: 12px; word-wrap: break-word;\">10</h4>\n",
       "            <img src=\"data:image/png;base64,iVBORw0KGgoAAAANSUhEUgAAABwAAAAcCAAAAABXZoBIAAAB90lEQVR4nJ2SW0iTYQCGn/9PbC5z9rthxVIDa0oggyaJdMAyIsmQKCxCR1lKTYvaVRfrAAWVEI6kde4iVmCQIOYwgkaoXeiakKGmg+E2I5JF2bKwti7+f4cbvei9eb+P5zvwvd8reFhY4iJscZgmm/vD+KRqCboNpaaU5YIHGDvxfWlRzjz6WW+IVdaKVOht+iuP28sYMYO2rTgJd83om0PtMYSY+RT+jzenOdkQv3N45uxhdq+1lfDSNvywoEB6/fxWep2ys8ZwDdf5wcmObyU79x9o2RoBIXZjmww3PjBSXVrZAnS4XmnHGvdlWt/NuVUgEsQI07X9gKhV/fZefbLdn5m7rhYQ8QEIviI1unuaFxqy/qxxdR97/MWZSKja1tdmt3aafli4mDd731JJ/V0QPENNHmCgdQryLTsY7/2lPaiGn1t6tWksA6C8U0nFYJBdzfsKUYEABM6lxq5CJI+h+FQvx4j5DkA2IhidiaCvy66bgAi5iND4xgdcGE0eOLESnqklRNi02QJM3U6wy5+bmXMcld9ppwasfa0KO93lUFFXeET5bPZGrpS9PZO9R/oaDg1Kj/Q0jA7EmwCXuorr13f3zEtSTlV51OFc8TQrCQna3dH01fr85dFw/yfN8UPJDska8QeCgXBGhqmqMKVDC+r/S/0PnK+eN4RRIfwAAAAASUVORK5CYII=\"/>\n",
       "            <a href=\"#!\">\n",
       "                <span class=\"ipyplot-img-close\"/>\n",
       "            </a>\n",
       "            <a href=\"#ipyplot-content-div-eVkw6YwZBFumCYRoyUW5GK-S8PVKwTmvf86NXeAZ55eNf\">\n",
       "                <span class=\"ipyplot-img-expand\"/>\n",
       "            </a>\n",
       "        </div>\n",
       "    </div>\n",
       "    \n",
       "    <div class=\"ipyplot-placeholder-div-eVkw6YwZBFumCYRoyUW5GK\">\n",
       "        <div id=\"ipyplot-content-div-eVkw6YwZBFumCYRoyUW5GK-eVKEnVzxbPDyJ6n85Eq6hv\" class=\"ipyplot-content-div-eVkw6YwZBFumCYRoyUW5GK\">\n",
       "            <h4 style=\"font-size: 12px; word-wrap: break-word;\">11</h4>\n",
       "            <img src=\"data:image/png;base64,iVBORw0KGgoAAAANSUhEUgAAABwAAAAcCAAAAABXZoBIAAAB20lEQVR4nJ2SS0hUYRTHf991zMh0JBF8BAWGLgykfNDAkIiLpCJMTDGmhcxKUcaQJFCQqFHchFTQY6K54ZQIqehCU1IjknDixqSVUBZE+FhMIQ69bLy5uPfOzCVq0Vkdzu87/+/POUco/D2kfzAzXJ1ZMkFLJFu5+zAE8Zt58p+d54/766YUpVp9b581akI3VPG9swCAsMU96Dhrkq3+OR75p83eIppjZM8ExyD4VOclPb3XotD5aRw8R1xvAfyT2N3eEUN2ZG4ynqsyUg54bqnQcWLpYolV67zsSAYfcAF6VeAbzj3dmmz/hgsIWxLUTDgFkAL1E5rswDGAm9O/h7dBU+ntvfmlULa9rxahUHAnX3P5IiEvOrqu54NILKIzDl4pN9DLQ2UfN5FQI4/l1/eNtP3XfmZNW5HTPA2LAIwup+8gjEQ2AY1thIJvMrIA6OYk7EQo1P/wYopA62ce+QYeI0HL3BA8m9bbAzdOOzNF0Tu5GSywz3Up9fCTB4axjN1Fa4lVjZUV+j57fOdqcAYgOelrolimOG6m3I2xbO/1XR22eV9wHWtWSujDfFKXDaKX0D6W22QDFu5NqHZHoVY0IF/a/ADkOo5GbIuYo361Yo07EDsV8d8XvwVe35OlX7p4RQAAAABJRU5ErkJggg==\"/>\n",
       "            <a href=\"#!\">\n",
       "                <span class=\"ipyplot-img-close\"/>\n",
       "            </a>\n",
       "            <a href=\"#ipyplot-content-div-eVkw6YwZBFumCYRoyUW5GK-eVKEnVzxbPDyJ6n85Eq6hv\">\n",
       "                <span class=\"ipyplot-img-expand\"/>\n",
       "            </a>\n",
       "        </div>\n",
       "    </div>\n",
       "    \n",
       "    <div class=\"ipyplot-placeholder-div-eVkw6YwZBFumCYRoyUW5GK\">\n",
       "        <div id=\"ipyplot-content-div-eVkw6YwZBFumCYRoyUW5GK-NdWvpFFSdGLAJZoUzdtR79\" class=\"ipyplot-content-div-eVkw6YwZBFumCYRoyUW5GK\">\n",
       "            <h4 style=\"font-size: 12px; word-wrap: break-word;\">12</h4>\n",
       "            <img src=\"data:image/png;base64,iVBORw0KGgoAAAANSUhEUgAAABwAAAAcCAAAAABXZoBIAAAB60lEQVR4nIWSX0hTURzHP+fuCqUZ9SCI26IggmENK5YuCCkwRlBiIhFGKJhEAx2VkFnQg5L10kuUtT01H5IKVwZiaqZsziXHhOopyIGOMqVYI+jP9PZwr+7uITsv5/f7fc6P7zm/7xGSfy9lDbY2VI19ZCj2DXIdxz0mKHTNmhlXmUtZWIiOLu285MiGjZ8erTMKU4HYrnabSfPZ1PUbK6f33Alplb5Mp+auj8wPxLeuar2/mPI7jM4zthNzi67qvuBHAxb3l9fFjc69Pr/VmxwetSwdSlru6rwlMg5C8rYut7gLrb+oZLpjw4w9+HofQI3SA1I+ZpNsF1iolVKey1FZ39so5QQBqcIit3iqCXv8HUTvp7ecCldRdDSHFCo8KXHS9WC8wHcgrQ6mrb1U++eveT6zHyFxtx7TL/G8M8z3jQCUXomHhlFI/T5ovCBUBjojLR42gMoc+XpBvunOzHx2+SQofFnJL+clw0b4h6oooFDOmF65V+htHtTDDxQas22LDUFDwOQjZ38EDVc68ith9shkhg1Mtmb89Pxsq2iKiN15icQvOitGWuq9JrNv9mz3lsZeLFvtNnvBhVe15zFBUlfDqtvp3Eai++Xm2zvIgkDf2PRXwHH68Kq2yPrUGsKcquYkG/3nU/8F+zujKFHMF7IAAAAASUVORK5CYII=\"/>\n",
       "            <a href=\"#!\">\n",
       "                <span class=\"ipyplot-img-close\"/>\n",
       "            </a>\n",
       "            <a href=\"#ipyplot-content-div-eVkw6YwZBFumCYRoyUW5GK-NdWvpFFSdGLAJZoUzdtR79\">\n",
       "                <span class=\"ipyplot-img-expand\"/>\n",
       "            </a>\n",
       "        </div>\n",
       "    </div>\n",
       "    \n",
       "    <div class=\"ipyplot-placeholder-div-eVkw6YwZBFumCYRoyUW5GK\">\n",
       "        <div id=\"ipyplot-content-div-eVkw6YwZBFumCYRoyUW5GK-VaNQNNC2w55kkKgZCgEj3J\" class=\"ipyplot-content-div-eVkw6YwZBFumCYRoyUW5GK\">\n",
       "            <h4 style=\"font-size: 12px; word-wrap: break-word;\">13</h4>\n",
       "            <img src=\"data:image/png;base64,iVBORw0KGgoAAAANSUhEUgAAABwAAAAcCAAAAABXZoBIAAAB5klEQVR4nJ2SXUhTcRjGfzsey50jE9yInBS0i+iD0BTNgojCwjLtg4wS6mIWyIqGkEESjqKLQAM3kCT6ogTnTR9EBUMWkVsttIuDQSYI2yD1pGFri7UiujhHz0Tyovfq/7y/i/fP8zymYf49whJsaSjOv9TQtDoj26s2G9Ck31QufJGsNms6Ghcq69Y6FsCLgWq3XdsM9L9HaGwxYMPUyfBI7h6PhvtuzWJ+btFvulL+Q7+dhTeSHcDgkyBm84qDQe23wUiPfY30KbIvDnS6g8gls1utjRpsP7aaZNlgRNkIL/wr6Uiddva3j6YRwJPfCnKs6PhoDdypnHQpUumqP5tQECDQDLinJnrPV8D44ZfFD9rYH4KfiKiZWmBbGPBFrxf4cmIn9gKQRuQrubohZ5SrPLqZuV2oyWJEEnNmfXxbXkFBq65G2IBAcg6uW/8tavgatoHIFobLNd2bnUhfAwjI268BO2YWpvUq4QIBLo2/AclvADUGvmpAAFt9i0rtUwMefUzb58saxFNWN3A24Xyns1M557oC9/LmI/PeP3DEO5S3uySf6R65++6zzp1ZYQ+5lzU5xl5/yCDV7Lryw1ua3QToepgyOezLk4n496pufWcyevsrpExkLJaieonFcPH8f6n/AnQTmg0+GP6KAAAAAElFTkSuQmCC\"/>\n",
       "            <a href=\"#!\">\n",
       "                <span class=\"ipyplot-img-close\"/>\n",
       "            </a>\n",
       "            <a href=\"#ipyplot-content-div-eVkw6YwZBFumCYRoyUW5GK-VaNQNNC2w55kkKgZCgEj3J\">\n",
       "                <span class=\"ipyplot-img-expand\"/>\n",
       "            </a>\n",
       "        </div>\n",
       "    </div>\n",
       "    </div>\n",
       "        </textarea>\n",
       "    </div>\n",
       "    "
      ],
      "text/plain": [
       "<IPython.core.display.HTML object>"
      ]
     },
     "metadata": {},
     "output_type": "display_data"
    },
    {
     "data": {
      "text/html": [
       "\n",
       "        <style>\n",
       "        #ipyplot-imgs-container-div-eVkw6YwZBFumCYRoyUW5GK {\n",
       "            width: 100%;\n",
       "            height: 100%;\n",
       "            margin: 0%;\n",
       "            overflow: auto;\n",
       "            position: relative;\n",
       "            overflow-y: scroll;\n",
       "        }\n",
       "\n",
       "        div.ipyplot-placeholder-div-eVkw6YwZBFumCYRoyUW5GK {\n",
       "            width: 75px;\n",
       "            display: inline-block;\n",
       "            margin: 3px;\n",
       "            position: relative;\n",
       "        }\n",
       "\n",
       "        div.ipyplot-content-div-eVkw6YwZBFumCYRoyUW5GK {\n",
       "            width: 75px;\n",
       "            background: white;\n",
       "            display: inline-block;\n",
       "            vertical-align: top;\n",
       "            text-align: center;\n",
       "            position: relative;\n",
       "            border: 2px solid #ddd;\n",
       "            top: 0;\n",
       "            left: 0;\n",
       "        }\n",
       "\n",
       "        div.ipyplot-content-div-eVkw6YwZBFumCYRoyUW5GK span.ipyplot-img-close {\n",
       "            display: none;\n",
       "        }\n",
       "\n",
       "        div.ipyplot-content-div-eVkw6YwZBFumCYRoyUW5GK span {\n",
       "            width: 100%;\n",
       "            height: 100%;\n",
       "            position: absolute;\n",
       "            top: 0;\n",
       "            left: 0;\n",
       "        }\n",
       "\n",
       "        div.ipyplot-content-div-eVkw6YwZBFumCYRoyUW5GK img {\n",
       "            width: 75px;\n",
       "        }\n",
       "\n",
       "        div.ipyplot-content-div-eVkw6YwZBFumCYRoyUW5GK span.ipyplot-img-close:hover {\n",
       "            cursor: zoom-out;\n",
       "        }\n",
       "        div.ipyplot-content-div-eVkw6YwZBFumCYRoyUW5GK span.ipyplot-img-expand:hover {\n",
       "            cursor: zoom-in;\n",
       "        }\n",
       "\n",
       "        div[id^=ipyplot-content-div-eVkw6YwZBFumCYRoyUW5GK]:target {\n",
       "            transform: scale(2.5);\n",
       "            transform-origin: left top;\n",
       "            z-index: 5000;\n",
       "            top: 0;\n",
       "            left: 0;\n",
       "            position: absolute;\n",
       "        }\n",
       "\n",
       "        div[id^=ipyplot-content-div-eVkw6YwZBFumCYRoyUW5GK]:target span.ipyplot-img-close {\n",
       "            display: block;\n",
       "        }\n",
       "\n",
       "        div[id^=ipyplot-content-div-eVkw6YwZBFumCYRoyUW5GK]:target span.ipyplot-img-expand {\n",
       "            display: none;\n",
       "        }\n",
       "        </style>\n",
       "    <div id=\"ipyplot-imgs-container-div-eVkw6YwZBFumCYRoyUW5GK\">\n",
       "    <div class=\"ipyplot-placeholder-div-eVkw6YwZBFumCYRoyUW5GK\">\n",
       "        <div id=\"ipyplot-content-div-eVkw6YwZBFumCYRoyUW5GK-ZyrMM2WBTT9TFuTEZgKzEk\" class=\"ipyplot-content-div-eVkw6YwZBFumCYRoyUW5GK\">\n",
       "            <h4 style=\"font-size: 12px; word-wrap: break-word;\">0</h4>\n",
       "            <img src=\"data:image/png;base64,iVBORw0KGgoAAAANSUhEUgAAABwAAAAcCAAAAABXZoBIAAABo0lEQVR4nGM8y4AbMOGRQ0g+/YApyQKhjrS/YGDgrndGlWQ8y8DAwBD8wMNr1a1XDIyilh5maDqtBA8dLZL1VXrL827vRgatcB8kne5vNs3bkJALFTm1dTtPmQfcQb8cn2+YoPkPKmnWeMq7ugMmefxT+1oT2XLT1F9Q6e3/q9dNhUp2ubC+dvrJ4HB1JURuZutynsqFEMkbj6oZ5oSrex34ycXAMPUsA8NrbgaxQL5OBgYGJob7jHwMDAwMzT3rghkYdp1jYIh6w2XAULwGJfgc5RkYGL5zMjAonT3MwODJtQw9bC98EIAxbQ4wMDAxcP2H8Zstkl1g/mdwuMDAwMJgwfBMCsLXNrDjhxti//epNBMDO88BKD/IFyHHwMZ4hYGJgcH6IANW8I+BiYHB7dw77LIMTAwMDoZ+87FLMZ5lYGCYP/e7io+7GIpUz/ITrJDIZji/bdcXBkYuE4kHtswMDAwMdw+973CApgQGBgaGP3cbPutcesnPxMDAwCBhlscAT0MMDAws6krfOvaV7UMymgWJzfaHwa4C2V5GyhM1NgAABfR0Ew4Y9QQAAAAASUVORK5CYII=\"/>\n",
       "            <a href=\"#!\">\n",
       "                <span class=\"ipyplot-img-close\"/>\n",
       "            </a>\n",
       "            <a href=\"#ipyplot-content-div-eVkw6YwZBFumCYRoyUW5GK-ZyrMM2WBTT9TFuTEZgKzEk\">\n",
       "                <span class=\"ipyplot-img-expand\"/>\n",
       "            </a>\n",
       "        </div>\n",
       "    </div>\n",
       "    \n",
       "    <div class=\"ipyplot-placeholder-div-eVkw6YwZBFumCYRoyUW5GK\">\n",
       "        <div id=\"ipyplot-content-div-eVkw6YwZBFumCYRoyUW5GK-Te4PPWDiLWqF9BSxuKWCsF\" class=\"ipyplot-content-div-eVkw6YwZBFumCYRoyUW5GK\">\n",
       "            <h4 style=\"font-size: 12px; word-wrap: break-word;\">1</h4>\n",
       "            <img src=\"data:image/png;base64,iVBORw0KGgoAAAANSUhEUgAAABwAAAAcCAAAAABXZoBIAAABsklEQVR4nH3SS0hbQRSA4f+Oj0USbyT4CAhxoS0URA0BX6Egti40O0WauiytQgRRxEKKohsXIrpRLNSF2TUpKroprWC0uNL2FsG2VFHxAUERxVoMNFqvi0RzuUZnM8x8c5hzZo6kcPcQ95gGVVUN6zA5NntnAbAV1pbqcf1VyugDuFhbVTxGt+caJQVQnY/7b477xtOnkjT4TP2gver53kf5JqGRXT+Hrnjs+0d18WwDHkG9PNkNXLY7HH7GTA3XeBqugbNG+w7g3BpuGvjJ9FFzDIOpGeDu/dYF+5GZimbC4F8ZiZYSLAM6ncaHYMVTuUceZPV2N1oQsFwFUFEEMHH8br7FAtQUtICk7LsWDQnedacuaBb8IpGRi4LAkogAjAgyASj/ewtlBFY2YD2SdgtNCJLsPfDVrKcIMgL6fn/n39mgDtcwIyD7acfpC+8nx5uQFvvtsS97+aPNzeLQruzMz8+zQijwJWflc1oU8b3Naq3mz8zS5mE0l3M1YItFAt65/8X1T1LPD0LHq0vbouE1xBGWJxcuADBUuUqiW5K2qU8uMaVI8XWyxkjXlXNvx18BuLx/KN0I5+kAAAAASUVORK5CYII=\"/>\n",
       "            <a href=\"#!\">\n",
       "                <span class=\"ipyplot-img-close\"/>\n",
       "            </a>\n",
       "            <a href=\"#ipyplot-content-div-eVkw6YwZBFumCYRoyUW5GK-Te4PPWDiLWqF9BSxuKWCsF\">\n",
       "                <span class=\"ipyplot-img-expand\"/>\n",
       "            </a>\n",
       "        </div>\n",
       "    </div>\n",
       "    \n",
       "    <div class=\"ipyplot-placeholder-div-eVkw6YwZBFumCYRoyUW5GK\">\n",
       "        <div id=\"ipyplot-content-div-eVkw6YwZBFumCYRoyUW5GK-mfqsCayC3xkE357QHzxH57\" class=\"ipyplot-content-div-eVkw6YwZBFumCYRoyUW5GK\">\n",
       "            <h4 style=\"font-size: 12px; word-wrap: break-word;\">2</h4>\n",
       "            <img src=\"data:image/png;base64,iVBORw0KGgoAAAANSUhEUgAAABwAAAAcCAAAAABXZoBIAAABn0lEQVR4nLXSQUhTcRzA8e/793jDhtgyY7sk6qFg25MyKMRbmoIdCgcSRpdgZEGESKSHDnWIoIgOM5CmGAoWhDSyi8guKSh7xJRg5SEHM6XAnm0dfFvTw3tbm1Pp0u/y//P/wP/34/f7SRp7h9jH/hUjkRKUrfPZ2B+qGhXbQXutu6IYgy9s/fWD2QTJjL6O916tiZIGXIt1X/n72fL9qDqcx1vR9/aiXPHbqUnFLOjrzKCdM4+mfuSxesLVbFX73H0cMq/vXrTIvwovD98w8UMH4IRy01q0C53wdE4DwepmGzA50hsCYGP95ohxlZpzT0CQwAbguawAoLCWOqpA6xLIGMVdKesbeiNGQc0aikx6R898PgCqWDgtSjAfKQQKkNwNnQhqgOuBEgpLJxAcYx5PqARfNYCAU2P0bfkL3rVFGIjcAQFdMzD+paHnow7wfajD/2mlK/iwzpxKu/wWZgMxQD6weei8Oh1WH1dizfPSt9azDoeRTv9OGmWJqbjrwUnIIe/GP2dzGY80t3mtq1Swt7/0n7rUVLCP0v9Z6m06r3gnMCfyQgAAAABJRU5ErkJggg==\"/>\n",
       "            <a href=\"#!\">\n",
       "                <span class=\"ipyplot-img-close\"/>\n",
       "            </a>\n",
       "            <a href=\"#ipyplot-content-div-eVkw6YwZBFumCYRoyUW5GK-mfqsCayC3xkE357QHzxH57\">\n",
       "                <span class=\"ipyplot-img-expand\"/>\n",
       "            </a>\n",
       "        </div>\n",
       "    </div>\n",
       "    \n",
       "    <div class=\"ipyplot-placeholder-div-eVkw6YwZBFumCYRoyUW5GK\">\n",
       "        <div id=\"ipyplot-content-div-eVkw6YwZBFumCYRoyUW5GK-UwMEMR3D7Hk6sdDdqj7KCA\" class=\"ipyplot-content-div-eVkw6YwZBFumCYRoyUW5GK\">\n",
       "            <h4 style=\"font-size: 12px; word-wrap: break-word;\">3</h4>\n",
       "            <img src=\"data:image/png;base64,iVBORw0KGgoAAAANSUhEUgAAABwAAAAcCAAAAABXZoBIAAABwklEQVR4nJ2SUUhTYRiGn3N2jEHmMU1dCKWeCEToxkIiQ8xALwTJ6ZWSpOmqC6Emw0B2UwqGY2LeBBE4h7kuxFAcCMMbQUxEYpSCDAyU0AtFRLcxdV6c/uMRyov+q+/9nv/j5fv/V1rk30c+h6GY6r3fF9Mu/RUmBwJxgGz7UwNKuufRq9nLrVUq29VxrB2PzsA5Z67rjt5YX/Cv1bhN0DNS99pk5fUX+g041uMpA2JWQWP1ByEBSxzNBMLZQ2PXjeE6ZVTf053RDO/CPjaAl6UVAIFfH3U41QEo96soAnZj0U7A0uYDZH4kKwDX5+ADFfBa44sAT/bnQGETALs9ogGoM502AO59uIuCeDANWFBvpnh06XicSJFJNW0Y6jLKIpaQSefY6FRHTDejyFy1fhEyWKBMncIEMtR+ErKvLDl5CvORwbkzLizfVtYLFEFDBlq6V3E3AlS+KSd8G4Cha3pMnj1s2k1b7v8zMpgHcBB8Lv6zbcV52Jf5oviC9G3050QWUKP6jCR4R2yO2ZlDsNzqzYThQdtXDAiu0JVirTBHA6bfb7U3YIZsj89/TwBgKe/VW9KZUEdXjiD9hpDSfyf+BPrIgiLUF8v1AAAAAElFTkSuQmCC\"/>\n",
       "            <a href=\"#!\">\n",
       "                <span class=\"ipyplot-img-close\"/>\n",
       "            </a>\n",
       "            <a href=\"#ipyplot-content-div-eVkw6YwZBFumCYRoyUW5GK-UwMEMR3D7Hk6sdDdqj7KCA\">\n",
       "                <span class=\"ipyplot-img-expand\"/>\n",
       "            </a>\n",
       "        </div>\n",
       "    </div>\n",
       "    \n",
       "    <div class=\"ipyplot-placeholder-div-eVkw6YwZBFumCYRoyUW5GK\">\n",
       "        <div id=\"ipyplot-content-div-eVkw6YwZBFumCYRoyUW5GK-dPDuho3ZtHDh28JjKUsFqH\" class=\"ipyplot-content-div-eVkw6YwZBFumCYRoyUW5GK\">\n",
       "            <h4 style=\"font-size: 12px; word-wrap: break-word;\">4</h4>\n",
       "            <img src=\"data:image/png;base64,iVBORw0KGgoAAAANSUhEUgAAABwAAAAcCAAAAABXZoBIAAAB6ElEQVR4nJ2SS0hUURjHf/c6TnPnoSMXjOmhJUNEOyuoRQ9oUbSI0mnIkoZeNGj4IoukoQjDiIoKIloEA5ZEFBmmSJGbNiZ2yGwRTWGKjo8ZaKS5kEZzaTF37oxQLvpW539+53D+5/v+kuDfJS/CFocWcxV9GbM6Vm9V/gKvPZ9TV2nz4ynvxXUmlNKGaj407LEDTJz75G1fsgAGRjvVzPE7YUvLvhwYmOy2ZV8KCjbeM93eiPTkMOqWdY0eMm9uuLKTpqEfJWE3MF5QCKnt29oAhGi2CeEvPNNW6hSiEiDvgHgiNQkhZOiogJ5jVbs8CtqzIy8uq6nH/rKWm+9AJjkVAGl4wP/xPk73w/Y8lZIxfHsbQGaaYgj21epvVkDf2aFQhMnTcGFuEAtJgOpqw6rPZ7r+nYEAnP/yPUG3JyNVZPJNWLbJAtOGiLMSmfVEDX38dXxLV7khHhUoyNhKWyFZ9Qo4+vb2coPNPGgESfBtf82J3hCu+sr0/tf3A7FTjeV30+3rDR1sHqmbkXR1TXF8WCNfR9/dmplKf/2Oqzy99dNR9MtqT8Z0hxY8mZ1npFYLHHaNdA6mcDnHJjZfV3KTQEc4gVLkVrSotvaSd0ESAKY+J2Zn5+1LK6zmx7Pp85itMev/Q/0HWmGfRjsfu00AAAAASUVORK5CYII=\"/>\n",
       "            <a href=\"#!\">\n",
       "                <span class=\"ipyplot-img-close\"/>\n",
       "            </a>\n",
       "            <a href=\"#ipyplot-content-div-eVkw6YwZBFumCYRoyUW5GK-dPDuho3ZtHDh28JjKUsFqH\">\n",
       "                <span class=\"ipyplot-img-expand\"/>\n",
       "            </a>\n",
       "        </div>\n",
       "    </div>\n",
       "    \n",
       "    <div class=\"ipyplot-placeholder-div-eVkw6YwZBFumCYRoyUW5GK\">\n",
       "        <div id=\"ipyplot-content-div-eVkw6YwZBFumCYRoyUW5GK-ZhB9MT7yy7rSPyFunF7qL4\" class=\"ipyplot-content-div-eVkw6YwZBFumCYRoyUW5GK\">\n",
       "            <h4 style=\"font-size: 12px; word-wrap: break-word;\">5</h4>\n",
       "            <img src=\"data:image/png;base64,iVBORw0KGgoAAAANSUhEUgAAABwAAAAcCAAAAABXZoBIAAABvElEQVR4nH2SS0hUURiAv3u9iOZopDFDEIiCIDaBL3qpi66PHMQWKiIYBKGgjC/cCLoQJ9RFESKOC0FUcEDScRG5ECRfuFErSUQba6XIzXwNpgjm2OLOHe+V9N+c853v/Ofn/PzCZ64O8RqHFNitHoVZIv8v29wAt0seJuikoNa0nTbKsD/4/phHzWZDzbNs04QM3Kp+jX3XZjfIHPOwH+N4NTSgPD28kC2CS3/X6o61bWm0/aHl0s96kwu8fqqzpsHv/iUVzwE675Wq9OP7O2B5xKmiT809bAIk9okCZNn/rPIcSutxvpQzkfir70kQUQsbO4lgLW7NRORML0V8YnRKEFDr/YlozNRqQojgufSsZyYgASQDVe+YIwIgIPGEr0kaj1/c+3aehogpvZ25vJruNf/psbq8fRCOBE22j5uK8qU3JOPk19YfuPkJmF0ZBRHMFc13nCbirQdhj+0dBTiAsbqSaHUSyoMdDdMu19pdS/De1GJuOnT1VZahTcLQm9Si7E23Z5uYrBx4se54RkCy1D/nu1+YD6CM91hcoegkMD86qfYjvKhK+6l+qNe9QMINXYd0EYcxrp34f6dGgLRC5hPrAAAAAElFTkSuQmCC\"/>\n",
       "            <a href=\"#!\">\n",
       "                <span class=\"ipyplot-img-close\"/>\n",
       "            </a>\n",
       "            <a href=\"#ipyplot-content-div-eVkw6YwZBFumCYRoyUW5GK-ZhB9MT7yy7rSPyFunF7qL4\">\n",
       "                <span class=\"ipyplot-img-expand\"/>\n",
       "            </a>\n",
       "        </div>\n",
       "    </div>\n",
       "    \n",
       "    <div class=\"ipyplot-placeholder-div-eVkw6YwZBFumCYRoyUW5GK\">\n",
       "        <div id=\"ipyplot-content-div-eVkw6YwZBFumCYRoyUW5GK-35pdyU9HC2JYt8qPi2Cecs\" class=\"ipyplot-content-div-eVkw6YwZBFumCYRoyUW5GK\">\n",
       "            <h4 style=\"font-size: 12px; word-wrap: break-word;\">6</h4>\n",
       "            <img src=\"data:image/png;base64,iVBORw0KGgoAAAANSUhEUgAAABwAAAAcCAAAAABXZoBIAAABvElEQVR4nLXSX0hTYRjH8e85O7r+OGVg5YWEJBoTRR16sQxLVMIpiIIoCipe9EcQpbsoEJuIILVBgVZ3ol4NLCIwBZ1XoqhwSPyDA9GbUOQQs9HmynlxztmOQt753ry8fOB53vf3PsIK/1/iBXYxStquLC5uJltv2ouTDCioPRv9Ul5e8NeeP2oqcNYKZ7BlZ6hEq7A07zu+N2CJo2tqLtFQTXbtPBrQL7Tx2WM08r3v5ZI1DYeKikEJGNjxrbwjDCIo8nNQKst0iewCrzPbQIQ3t+/CKNc1W3XUvwQ+bm8jwXQ/8IxsDfuirAAWdrMkDk4eAuYe4FVOM/xLiNgAuIrID8x6t6l04KkpxQ1AChLHeh4MmkqBmhoAvou5SMSsLPzC8Jq3ThApjB6qx4B9vaEoBECQ/kAfiNy6Ma7ik33/fc8VgHBFy5dhNdvREV/izzQhXjHYdBT8YFfja71Tj9sxGzPPg4Bq6q9UZA27x5wugN+fvFw7GikghofO6l65K1SVEfFtpdoWMiZMxBG5M/lx3VevItgdM3Ot3XoDbUwYnBTKLViXV63vbJxHmJz5G/qT3p5vCEK4nKE+BW+JhpiPKWdsAAAAAElFTkSuQmCC\"/>\n",
       "            <a href=\"#!\">\n",
       "                <span class=\"ipyplot-img-close\"/>\n",
       "            </a>\n",
       "            <a href=\"#ipyplot-content-div-eVkw6YwZBFumCYRoyUW5GK-35pdyU9HC2JYt8qPi2Cecs\">\n",
       "                <span class=\"ipyplot-img-expand\"/>\n",
       "            </a>\n",
       "        </div>\n",
       "    </div>\n",
       "    \n",
       "    <div class=\"ipyplot-placeholder-div-eVkw6YwZBFumCYRoyUW5GK\">\n",
       "        <div id=\"ipyplot-content-div-eVkw6YwZBFumCYRoyUW5GK-Nshh7VGNvsfLdSBRhbRRb3\" class=\"ipyplot-content-div-eVkw6YwZBFumCYRoyUW5GK\">\n",
       "            <h4 style=\"font-size: 12px; word-wrap: break-word;\">7</h4>\n",
       "            <img src=\"data:image/png;base64,iVBORw0KGgoAAAANSUhEUgAAABwAAAAcCAAAAABXZoBIAAAB9klEQVR4nJ2SW0iTcRiHn+/bZ9MtteYcYkiMkkUii0XMArMWFYSYMlcwFxTUBpZFZF6UXQSJQQeKThYUOClYkZoH7ACi1F39s12EkkWY0MCWpSaj2mYXNvt2oRe9Vz94eM8/STB/yAuwhaGSEN2tbyCzzGNUQWm2Z/MVTcmOxQTvh72OlVIy9A4c3wXAmTZgqc+lgq4f/ux/xUKBwExVTQI2NfemjRvUkzy4aLs2C9+55XjKL8VV+zexjPKTY07XYZBhz4zbVoCu7SrAxIBvTUVrtenIPUBmMKrtKr3hi1g+4N+41rFf1jxUpqjU3AXEY7IKNQBnH+UBWrLTTS+FOJAuhAzkvI1JKbJr64XR1A0l5swv63pkcE9NozCGn2AoUoE/o/PO85jJuVcPkEFYr/ANsFphsOlgbr16n6/L5w4/6imuSuh+AL4jU8QwwCfC3gYAxkuPAWBGQbHW2V+E9h2qHSEXIHA+vh24qTMjCbDbXsWR7Q7LCm2859Zny9ATIxQd3Q1CiBNS/TLQaQE05d2rC4UQ+VlCCAVwisZTrztWXdZNRjFQ9/4Z7Pz5dO6fl1o2bTk3aVhCauSj/nb+iDetXeWE4epoTc7QbyZ0BZs53WG/rrYJNLbHircZDdORvs5FDetJhtDfEowDeZWeZA/NE/9v6j+E3KRcxtwf1wAAAABJRU5ErkJggg==\"/>\n",
       "            <a href=\"#!\">\n",
       "                <span class=\"ipyplot-img-close\"/>\n",
       "            </a>\n",
       "            <a href=\"#ipyplot-content-div-eVkw6YwZBFumCYRoyUW5GK-Nshh7VGNvsfLdSBRhbRRb3\">\n",
       "                <span class=\"ipyplot-img-expand\"/>\n",
       "            </a>\n",
       "        </div>\n",
       "    </div>\n",
       "    \n",
       "    <div class=\"ipyplot-placeholder-div-eVkw6YwZBFumCYRoyUW5GK\">\n",
       "        <div id=\"ipyplot-content-div-eVkw6YwZBFumCYRoyUW5GK-Xu4x7UNkJdFMnxADq9YWSC\" class=\"ipyplot-content-div-eVkw6YwZBFumCYRoyUW5GK\">\n",
       "            <h4 style=\"font-size: 12px; word-wrap: break-word;\">8</h4>\n",
       "            <img src=\"data:image/png;base64,iVBORw0KGgoAAAANSUhEUgAAABwAAAAcCAAAAABXZoBIAAABqklEQVR4nH2SSyhEURzGf/d2R2YMFhpSipQ0HhsWHnksJJmsZTJT5BGlRiQRRaKElZ2IyTMiWRBGlMLCFDYeeaWEUh6RMsNY3LljRpmz+n/ndx7f+Z9PsPP/EP0w/1DyFtZBF6gyzCluLdgBFvs/QC2+W/Kfnh6XDtST0b+wacuUwPfA13NBDwCNe6taBQ4PzcYAYK+eigeg4npDMTRikRmp5U65GNG2uQ1NCqXA7GVMCXWKNcOye+eQGeBirg+AUQOA/laGD29lAC0BBQCYHtYBvcsJSBwJagB2gbtIVNsaQMdxMog4vbpQNQ4aALRL/X86xH2UUoUvkJUuonG5dTO4ohWYosWBSC47ALzbJgiJVWCUoygbCdKtmQBBzb2Hm783hHaCCLX7CwAUz+wbzgC4SZMXSJBU363LBojbrDRKaYk4p2N51cgQ82ODNQGAYcf6mg0MrZzEo/xn+4qp3udN5NYYlZh0dc3n7XqzAYcRT4YKt3Pqqj48rGa6G8+xALeWq7DM8mB4Oe8JHIvwhXC6M38HIBR1yBPCn1B/qhA8wrfxEOAt/Ib6B+3WeAAeucsDAAAAAElFTkSuQmCC\"/>\n",
       "            <a href=\"#!\">\n",
       "                <span class=\"ipyplot-img-close\"/>\n",
       "            </a>\n",
       "            <a href=\"#ipyplot-content-div-eVkw6YwZBFumCYRoyUW5GK-Xu4x7UNkJdFMnxADq9YWSC\">\n",
       "                <span class=\"ipyplot-img-expand\"/>\n",
       "            </a>\n",
       "        </div>\n",
       "    </div>\n",
       "    \n",
       "    <div class=\"ipyplot-placeholder-div-eVkw6YwZBFumCYRoyUW5GK\">\n",
       "        <div id=\"ipyplot-content-div-eVkw6YwZBFumCYRoyUW5GK-PB7rVtQPMNddF6yLdhoZS9\" class=\"ipyplot-content-div-eVkw6YwZBFumCYRoyUW5GK\">\n",
       "            <h4 style=\"font-size: 12px; word-wrap: break-word;\">9</h4>\n",
       "            <img src=\"data:image/png;base64,iVBORw0KGgoAAAANSUhEUgAAABwAAAAcCAAAAABXZoBIAAABz0lEQVR4nH2SW0jTcRTHP/+f/0xwpaXhJQWH+iB7EPo3cvNS1EtCPohuiwjJIgR7aMEE/8aGeCl9qQdDsp4G0UiakdqNREQxBfkViEVeUCFEKjBoGBQGPezacJ6XA+dzbpzzVSSJTezBonDDbR7bioNKqK1jBUA5bjsTA9WgO5U1kvrXkDQ91JrhLo+rdH5+HQ64XxbdKoydOT11L5LdOZ5ub46Fel1RdFDagG+jYjYCW1LawG82t8CipmlVj59XXxsAQEovj6SU2D0Z52SOZfjZFTplNzeklCrc10rgB03pC2ts3jlK85tNzgZ6atJQYaYPOJTZUDbq4EBTcW7mNwPYnrTfRbCOFeCFZa7RyURj3ve3VgegT4JKIHQNHYCG8NIaU5WCn4nO/hvBTiKYjOAki7vDfQgw+uOin3wfAfajQl1/Gzx4WvohiLb/gM3EuHIMRbJzQq+HymSbAkB26dZVfwG1pi5UUK/3mErocL335AVrXcYCfF+8oX/enBg5zJq+LExWozB4FyZZuuA6H3725fmLTtieeTf7FXL786my9BLR0KvbwnM6sm7gEn6iEHoHj9RrBwFWh+aKffwH+fVwNChNUW63Egd3sT0V/w/78YhRCoo+3wAAAABJRU5ErkJggg==\"/>\n",
       "            <a href=\"#!\">\n",
       "                <span class=\"ipyplot-img-close\"/>\n",
       "            </a>\n",
       "            <a href=\"#ipyplot-content-div-eVkw6YwZBFumCYRoyUW5GK-PB7rVtQPMNddF6yLdhoZS9\">\n",
       "                <span class=\"ipyplot-img-expand\"/>\n",
       "            </a>\n",
       "        </div>\n",
       "    </div>\n",
       "    \n",
       "    <div class=\"ipyplot-placeholder-div-eVkw6YwZBFumCYRoyUW5GK\">\n",
       "        <div id=\"ipyplot-content-div-eVkw6YwZBFumCYRoyUW5GK-S8PVKwTmvf86NXeAZ55eNf\" class=\"ipyplot-content-div-eVkw6YwZBFumCYRoyUW5GK\">\n",
       "            <h4 style=\"font-size: 12px; word-wrap: break-word;\">10</h4>\n",
       "            <img src=\"data:image/png;base64,iVBORw0KGgoAAAANSUhEUgAAABwAAAAcCAAAAABXZoBIAAAB90lEQVR4nJ2SW0iTYQCGn/9PbC5z9rthxVIDa0oggyaJdMAyIsmQKCxCR1lKTYvaVRfrAAWVEI6kde4iVmCQIOYwgkaoXeiakKGmg+E2I5JF2bKwti7+f4cbvei9eb+P5zvwvd8reFhY4iJscZgmm/vD+KRqCboNpaaU5YIHGDvxfWlRzjz6WW+IVdaKVOht+iuP28sYMYO2rTgJd83om0PtMYSY+RT+jzenOdkQv3N45uxhdq+1lfDSNvywoEB6/fxWep2ys8ZwDdf5wcmObyU79x9o2RoBIXZjmww3PjBSXVrZAnS4XmnHGvdlWt/NuVUgEsQI07X9gKhV/fZefbLdn5m7rhYQ8QEIviI1unuaFxqy/qxxdR97/MWZSKja1tdmt3aafli4mDd731JJ/V0QPENNHmCgdQryLTsY7/2lPaiGn1t6tWksA6C8U0nFYJBdzfsKUYEABM6lxq5CJI+h+FQvx4j5DkA2IhidiaCvy66bgAi5iND4xgdcGE0eOLESnqklRNi02QJM3U6wy5+bmXMcld9ppwasfa0KO93lUFFXeET5bPZGrpS9PZO9R/oaDg1Kj/Q0jA7EmwCXuorr13f3zEtSTlV51OFc8TQrCQna3dH01fr85dFw/yfN8UPJDska8QeCgXBGhqmqMKVDC+r/S/0PnK+eN4RRIfwAAAAASUVORK5CYII=\"/>\n",
       "            <a href=\"#!\">\n",
       "                <span class=\"ipyplot-img-close\"/>\n",
       "            </a>\n",
       "            <a href=\"#ipyplot-content-div-eVkw6YwZBFumCYRoyUW5GK-S8PVKwTmvf86NXeAZ55eNf\">\n",
       "                <span class=\"ipyplot-img-expand\"/>\n",
       "            </a>\n",
       "        </div>\n",
       "    </div>\n",
       "    \n",
       "    <div class=\"ipyplot-placeholder-div-eVkw6YwZBFumCYRoyUW5GK\">\n",
       "        <div id=\"ipyplot-content-div-eVkw6YwZBFumCYRoyUW5GK-eVKEnVzxbPDyJ6n85Eq6hv\" class=\"ipyplot-content-div-eVkw6YwZBFumCYRoyUW5GK\">\n",
       "            <h4 style=\"font-size: 12px; word-wrap: break-word;\">11</h4>\n",
       "            <img src=\"data:image/png;base64,iVBORw0KGgoAAAANSUhEUgAAABwAAAAcCAAAAABXZoBIAAAB20lEQVR4nJ2SS0hUYRTHf991zMh0JBF8BAWGLgykfNDAkIiLpCJMTDGmhcxKUcaQJFCQqFHchFTQY6K54ZQIqehCU1IjknDixqSVUBZE+FhMIQ69bLy5uPfOzCVq0Vkdzu87/+/POUco/D2kfzAzXJ1ZMkFLJFu5+zAE8Zt58p+d54/766YUpVp9b581akI3VPG9swCAsMU96Dhrkq3+OR75p83eIppjZM8ExyD4VOclPb3XotD5aRw8R1xvAfyT2N3eEUN2ZG4ynqsyUg54bqnQcWLpYolV67zsSAYfcAF6VeAbzj3dmmz/hgsIWxLUTDgFkAL1E5rswDGAm9O/h7dBU+ntvfmlULa9rxahUHAnX3P5IiEvOrqu54NILKIzDl4pN9DLQ2UfN5FQI4/l1/eNtP3XfmZNW5HTPA2LAIwup+8gjEQ2AY1thIJvMrIA6OYk7EQo1P/wYopA62ce+QYeI0HL3BA8m9bbAzdOOzNF0Tu5GSywz3Up9fCTB4axjN1Fa4lVjZUV+j57fOdqcAYgOelrolimOG6m3I2xbO/1XR22eV9wHWtWSujDfFKXDaKX0D6W22QDFu5NqHZHoVY0IF/a/ADkOo5GbIuYo361Yo07EDsV8d8XvwVe35OlX7p4RQAAAABJRU5ErkJggg==\"/>\n",
       "            <a href=\"#!\">\n",
       "                <span class=\"ipyplot-img-close\"/>\n",
       "            </a>\n",
       "            <a href=\"#ipyplot-content-div-eVkw6YwZBFumCYRoyUW5GK-eVKEnVzxbPDyJ6n85Eq6hv\">\n",
       "                <span class=\"ipyplot-img-expand\"/>\n",
       "            </a>\n",
       "        </div>\n",
       "    </div>\n",
       "    \n",
       "    <div class=\"ipyplot-placeholder-div-eVkw6YwZBFumCYRoyUW5GK\">\n",
       "        <div id=\"ipyplot-content-div-eVkw6YwZBFumCYRoyUW5GK-NdWvpFFSdGLAJZoUzdtR79\" class=\"ipyplot-content-div-eVkw6YwZBFumCYRoyUW5GK\">\n",
       "            <h4 style=\"font-size: 12px; word-wrap: break-word;\">12</h4>\n",
       "            <img src=\"data:image/png;base64,iVBORw0KGgoAAAANSUhEUgAAABwAAAAcCAAAAABXZoBIAAAB60lEQVR4nIWSX0hTURzHP+fuCqUZ9SCI26IggmENK5YuCCkwRlBiIhFGKJhEAx2VkFnQg5L10kuUtT01H5IKVwZiaqZsziXHhOopyIGOMqVYI+jP9PZwr+7uITsv5/f7fc6P7zm/7xGSfy9lDbY2VI19ZCj2DXIdxz0mKHTNmhlXmUtZWIiOLu285MiGjZ8erTMKU4HYrnabSfPZ1PUbK6f33Alplb5Mp+auj8wPxLeuar2/mPI7jM4zthNzi67qvuBHAxb3l9fFjc69Pr/VmxwetSwdSlru6rwlMg5C8rYut7gLrb+oZLpjw4w9+HofQI3SA1I+ZpNsF1iolVKey1FZ39so5QQBqcIit3iqCXv8HUTvp7ecCldRdDSHFCo8KXHS9WC8wHcgrQ6mrb1U++eveT6zHyFxtx7TL/G8M8z3jQCUXomHhlFI/T5ovCBUBjojLR42gMoc+XpBvunOzHx2+SQofFnJL+clw0b4h6oooFDOmF65V+htHtTDDxQas22LDUFDwOQjZ38EDVc68ith9shkhg1Mtmb89Pxsq2iKiN15icQvOitGWuq9JrNv9mz3lsZeLFvtNnvBhVe15zFBUlfDqtvp3Eai++Xm2zvIgkDf2PRXwHH68Kq2yPrUGsKcquYkG/3nU/8F+zujKFHMF7IAAAAASUVORK5CYII=\"/>\n",
       "            <a href=\"#!\">\n",
       "                <span class=\"ipyplot-img-close\"/>\n",
       "            </a>\n",
       "            <a href=\"#ipyplot-content-div-eVkw6YwZBFumCYRoyUW5GK-NdWvpFFSdGLAJZoUzdtR79\">\n",
       "                <span class=\"ipyplot-img-expand\"/>\n",
       "            </a>\n",
       "        </div>\n",
       "    </div>\n",
       "    \n",
       "    <div class=\"ipyplot-placeholder-div-eVkw6YwZBFumCYRoyUW5GK\">\n",
       "        <div id=\"ipyplot-content-div-eVkw6YwZBFumCYRoyUW5GK-VaNQNNC2w55kkKgZCgEj3J\" class=\"ipyplot-content-div-eVkw6YwZBFumCYRoyUW5GK\">\n",
       "            <h4 style=\"font-size: 12px; word-wrap: break-word;\">13</h4>\n",
       "            <img src=\"data:image/png;base64,iVBORw0KGgoAAAANSUhEUgAAABwAAAAcCAAAAABXZoBIAAAB5klEQVR4nJ2SXUhTcRjGfzsey50jE9yInBS0i+iD0BTNgojCwjLtg4wS6mIWyIqGkEESjqKLQAM3kCT6ogTnTR9EBUMWkVsttIuDQSYI2yD1pGFri7UiujhHz0Tyovfq/7y/i/fP8zymYf49whJsaSjOv9TQtDoj26s2G9Ck31QufJGsNms6Ghcq69Y6FsCLgWq3XdsM9L9HaGwxYMPUyfBI7h6PhvtuzWJ+btFvulL+Q7+dhTeSHcDgkyBm84qDQe23wUiPfY30KbIvDnS6g8gls1utjRpsP7aaZNlgRNkIL/wr6Uiddva3j6YRwJPfCnKs6PhoDdypnHQpUumqP5tQECDQDLinJnrPV8D44ZfFD9rYH4KfiKiZWmBbGPBFrxf4cmIn9gKQRuQrubohZ5SrPLqZuV2oyWJEEnNmfXxbXkFBq65G2IBAcg6uW/8tavgatoHIFobLNd2bnUhfAwjI268BO2YWpvUq4QIBLo2/AclvADUGvmpAAFt9i0rtUwMefUzb58saxFNWN3A24Xyns1M557oC9/LmI/PeP3DEO5S3uySf6R65++6zzp1ZYQ+5lzU5xl5/yCDV7Lryw1ua3QToepgyOezLk4n496pufWcyevsrpExkLJaieonFcPH8f6n/AnQTmg0+GP6KAAAAAElFTkSuQmCC\"/>\n",
       "            <a href=\"#!\">\n",
       "                <span class=\"ipyplot-img-close\"/>\n",
       "            </a>\n",
       "            <a href=\"#ipyplot-content-div-eVkw6YwZBFumCYRoyUW5GK-VaNQNNC2w55kkKgZCgEj3J\">\n",
       "                <span class=\"ipyplot-img-expand\"/>\n",
       "            </a>\n",
       "        </div>\n",
       "    </div>\n",
       "    </div>"
      ],
      "text/plain": [
       "<IPython.core.display.HTML object>"
      ]
     },
     "metadata": {},
     "output_type": "display_data"
    }
   ],
   "source": [
    "plot_list_of_draws(mcmc.most_common())"
   ]
  },
  {
   "cell_type": "markdown",
   "metadata": {
    "pycharm": {
     "name": "#%% md\n"
    }
   },
   "source": [
    "# `GibbsPosteriorPiN` con $n=100$ sin la primera cara"
   ]
  },
  {
   "cell_type": "code",
   "execution_count": 48,
   "metadata": {
    "pycharm": {
     "name": "#%%\n"
    },
    "scrolled": true
   },
   "outputs": [
    {
     "name": "stderr",
     "output_type": "stream",
     "text": [
      "2023-01-24 15:15:06,850: INFO [bwb.distributions:243] init PosteriorPiN: n_data=100, n_models=161666\n",
      "2023-01-24 15:15:06,852: INFO [bwb.distributions:460] Executing _first_step\n",
      "C:\\Users\\asoln\\PycharmProjects\\PersonalProjects\\Bayesian-Learning-with-Wasserstein-Barycenters\\bwb\\distributions.py:263: UserWarning: The likelihood support has only one element.\n",
      "  warnings.warn(\"The likelihood support has only one element.\")\n",
      "2023-01-24 15:15:07,621: INFO [bwb.distributions:467] First model selected: 0.\n"
     ]
    },
    {
     "name": "stdout",
     "output_type": "stream",
     "text": [
      "CPU times: total: 672 ms\n",
      "Wall time: 772 ms\n"
     ]
    }
   ],
   "source": [
    "%%time\n",
    "mcmc = GibbsPosteriorPiN(data=x, models=faces_original, seed=rng)"
   ]
  },
  {
   "cell_type": "markdown",
   "metadata": {
    "pycharm": {
     "name": "#%% md\n"
    }
   },
   "source": [
    "Muestreamos a partir de de esta instancia."
   ]
  },
  {
   "cell_type": "code",
   "execution_count": 49,
   "metadata": {
    "pycharm": {
     "name": "#%%\n"
    }
   },
   "outputs": [
    {
     "name": "stdout",
     "output_type": "stream",
     "text": [
      "CPU times: total: 19.3 s\n",
      "Wall time: 19.5 s\n"
     ]
    },
    {
     "data": {
      "text/plain": [
       "GibbsPosteriorPiN(n_data=100, n_models=161666, n_samples=1000, last_i=0, likelihood_sum=3.9950e-238)"
      ]
     },
     "execution_count": 49,
     "metadata": {},
     "output_type": "execute_result"
    }
   ],
   "source": [
    "%%time\n",
    "mcmc.rvs(size=1_000)\n",
    "mcmc"
   ]
  },
  {
   "cell_type": "markdown",
   "metadata": {
    "pycharm": {
     "name": "#%% md\n"
    }
   },
   "source": [
    "Observamos el contador"
   ]
  },
  {
   "cell_type": "code",
   "execution_count": 50,
   "metadata": {
    "pycharm": {
     "name": "#%%\n"
    }
   },
   "outputs": [
    {
     "data": {
      "text/plain": [
       "[(0, 1001)]"
      ]
     },
     "execution_count": 50,
     "metadata": {},
     "output_type": "execute_result"
    }
   ],
   "source": [
    "mcmc.counter.most_common()"
   ]
  },
  {
   "cell_type": "code",
   "execution_count": 51,
   "metadata": {
    "pycharm": {
     "name": "#%%\n"
    }
   },
   "outputs": [
    {
     "data": {
      "image/png": "[encoded data removed]",
      "text/plain": [
       "<bwb.distributions.DistributionDraw at 0x26f1bfe0070>"
      ]
     },
     "execution_count": 51,
     "metadata": {},
     "output_type": "execute_result"
    }
   ],
   "source": [
    "faces_modified[0]"
   ]
  },
  {
   "cell_type": "code",
   "execution_count": 52,
   "metadata": {
    "pycharm": {
     "name": "#%%\n"
    },
    "scrolled": false
   },
   "outputs": [
    {
     "data": {
      "text/html": [
       "\n",
       "    <style>\n",
       "        #ipyplot-html-viewer-toggle-gpKB3ZN9Y9THz2nSixJH9T {\n",
       "            position: absolute;\n",
       "            top: -9999px;\n",
       "            left: -9999px;\n",
       "            visibility: hidden;\n",
       "        }\n",
       "\n",
       "        #ipyplot-html-viewer-label-gpKB3ZN9Y9THz2nSixJH9T { \n",
       "            position: relative;\n",
       "            display: inline-block;\n",
       "            cursor: pointer;\n",
       "            color: blue;\n",
       "            text-decoration: underline;\n",
       "        }\n",
       "\n",
       "        #ipyplot-html-viewer-textarea-gpKB3ZN9Y9THz2nSixJH9T {\n",
       "            background: lightgrey;\n",
       "            width: 100%;\n",
       "            height: 0px;\n",
       "            display: none;\n",
       "        }\n",
       "\n",
       "        #ipyplot-html-viewer-toggle-gpKB3ZN9Y9THz2nSixJH9T:checked ~ #ipyplot-html-viewer-textarea-gpKB3ZN9Y9THz2nSixJH9T {\n",
       "            height: 200px;\n",
       "            display: block;\n",
       "        }\n",
       "\n",
       "        #ipyplot-html-viewer-toggle-gpKB3ZN9Y9THz2nSixJH9T:checked + #ipyplot-html-viewer-label-gpKB3ZN9Y9THz2nSixJH9T:after {\n",
       "            content: \"hide html\";\n",
       "            position: absolute;\n",
       "            top: 0;\n",
       "            left: 0;\n",
       "            right: 0;\n",
       "            bottom: 0;\n",
       "            background: white;\n",
       "            cursor: pointer;\n",
       "            color: blue;\n",
       "            text-decoration: underline;\n",
       "        }\n",
       "    </style>\n",
       "    <div>\n",
       "        <input type=\"checkbox\" id=\"ipyplot-html-viewer-toggle-gpKB3ZN9Y9THz2nSixJH9T\">\n",
       "        <label id=\"ipyplot-html-viewer-label-gpKB3ZN9Y9THz2nSixJH9T\" for=\"ipyplot-html-viewer-toggle-gpKB3ZN9Y9THz2nSixJH9T\">show html</label>\n",
       "        <textarea id=\"ipyplot-html-viewer-textarea-gpKB3ZN9Y9THz2nSixJH9T\" readonly>\n",
       "            \n",
       "        <style>\n",
       "        #ipyplot-imgs-container-div-ZDDFRZo6xfxkAEjxoB4Xju {\n",
       "            width: 100%;\n",
       "            height: 100%;\n",
       "            margin: 0%;\n",
       "            overflow: auto;\n",
       "            position: relative;\n",
       "            overflow-y: scroll;\n",
       "        }\n",
       "\n",
       "        div.ipyplot-placeholder-div-ZDDFRZo6xfxkAEjxoB4Xju {\n",
       "            width: 75px;\n",
       "            display: inline-block;\n",
       "            margin: 3px;\n",
       "            position: relative;\n",
       "        }\n",
       "\n",
       "        div.ipyplot-content-div-ZDDFRZo6xfxkAEjxoB4Xju {\n",
       "            width: 75px;\n",
       "            background: white;\n",
       "            display: inline-block;\n",
       "            vertical-align: top;\n",
       "            text-align: center;\n",
       "            position: relative;\n",
       "            border: 2px solid #ddd;\n",
       "            top: 0;\n",
       "            left: 0;\n",
       "        }\n",
       "\n",
       "        div.ipyplot-content-div-ZDDFRZo6xfxkAEjxoB4Xju span.ipyplot-img-close {\n",
       "            display: none;\n",
       "        }\n",
       "\n",
       "        div.ipyplot-content-div-ZDDFRZo6xfxkAEjxoB4Xju span {\n",
       "            width: 100%;\n",
       "            height: 100%;\n",
       "            position: absolute;\n",
       "            top: 0;\n",
       "            left: 0;\n",
       "        }\n",
       "\n",
       "        div.ipyplot-content-div-ZDDFRZo6xfxkAEjxoB4Xju img {\n",
       "            width: 75px;\n",
       "        }\n",
       "\n",
       "        div.ipyplot-content-div-ZDDFRZo6xfxkAEjxoB4Xju span.ipyplot-img-close:hover {\n",
       "            cursor: zoom-out;\n",
       "        }\n",
       "        div.ipyplot-content-div-ZDDFRZo6xfxkAEjxoB4Xju span.ipyplot-img-expand:hover {\n",
       "            cursor: zoom-in;\n",
       "        }\n",
       "\n",
       "        div[id^=ipyplot-content-div-ZDDFRZo6xfxkAEjxoB4Xju]:target {\n",
       "            transform: scale(2.5);\n",
       "            transform-origin: left top;\n",
       "            z-index: 5000;\n",
       "            top: 0;\n",
       "            left: 0;\n",
       "            position: absolute;\n",
       "        }\n",
       "\n",
       "        div[id^=ipyplot-content-div-ZDDFRZo6xfxkAEjxoB4Xju]:target span.ipyplot-img-close {\n",
       "            display: block;\n",
       "        }\n",
       "\n",
       "        div[id^=ipyplot-content-div-ZDDFRZo6xfxkAEjxoB4Xju]:target span.ipyplot-img-expand {\n",
       "            display: none;\n",
       "        }\n",
       "        </style>\n",
       "    <div id=\"ipyplot-imgs-container-div-ZDDFRZo6xfxkAEjxoB4Xju\">\n",
       "    <div class=\"ipyplot-placeholder-div-ZDDFRZo6xfxkAEjxoB4Xju\">\n",
       "        <div id=\"ipyplot-content-div-ZDDFRZo6xfxkAEjxoB4Xju-5DgVHfFMABP4j7BSi6ZsUH\" class=\"ipyplot-content-div-ZDDFRZo6xfxkAEjxoB4Xju\">\n",
       "            <h4 style=\"font-size: 12px; word-wrap: break-word;\">0</h4>\n",
       "            <img src=\"data:image/png;base64,iVBORw0KGgoAAAANSUhEUgAAABwAAAAcCAAAAABXZoBIAAABvUlEQVR4nJ3ST0iTcRzH8fezP200iB6NtFJGMXxyiSQRZBgUMRKiiJrHPNWhW3YbQR0C8WDQIUZlBR46TAqDPEizIAYetMWyQHexzIPRQVCQWc+e59NhY5ugBn1P3x8vvvDj8/0aYuvybGPbow+ATN887Ii0Woc762vQEDDf4cQsCvn8gvzdVy8EKyrpT0vjZ0mS1rJ3DrH75s/SS0h6RlqVcjPXAqHbhQpaXdLjM7ExSdJMeiTZ44nOljHHsPLeFqNN0vuzAE3jzU0/SnjXv6wJjsOiUoQffpwdJjNXf9SRPDDRZdJ5cBps8sTje2ccGqwnubeAijsTkqYutyakNAAhy1YxfFFCOV5V/zq4C2j/Iume97vQcxaqqML4yw+2JC2SlI8V9tQkFjxXbur4/a+tBFjeDAR4OO97uhm+IQpSvGFd9qNVbSjnyDFXSJNGr7sUPP2r1oo3eF0KfpA+Z9QfuPSiOt1PxJUMAYmBE/cbh1LffAeaw/u84L77xEhPadnS6H46htam+693R+tM0wyFjFuOypOwnkpO+dvazQA4XydXow9ilRsCIDuWnVuxgcjJK6dqDmzrhP4X/wIoZyGCBryiqgAAAABJRU5ErkJggg==\"/>\n",
       "            <a href=\"#!\">\n",
       "                <span class=\"ipyplot-img-close\"/>\n",
       "            </a>\n",
       "            <a href=\"#ipyplot-content-div-ZDDFRZo6xfxkAEjxoB4Xju-5DgVHfFMABP4j7BSi6ZsUH\">\n",
       "                <span class=\"ipyplot-img-expand\"/>\n",
       "            </a>\n",
       "        </div>\n",
       "    </div>\n",
       "    </div>\n",
       "        </textarea>\n",
       "    </div>\n",
       "    "
      ],
      "text/plain": [
       "<IPython.core.display.HTML object>"
      ]
     },
     "metadata": {},
     "output_type": "display_data"
    },
    {
     "data": {
      "text/html": [
       "\n",
       "        <style>\n",
       "        #ipyplot-imgs-container-div-ZDDFRZo6xfxkAEjxoB4Xju {\n",
       "            width: 100%;\n",
       "            height: 100%;\n",
       "            margin: 0%;\n",
       "            overflow: auto;\n",
       "            position: relative;\n",
       "            overflow-y: scroll;\n",
       "        }\n",
       "\n",
       "        div.ipyplot-placeholder-div-ZDDFRZo6xfxkAEjxoB4Xju {\n",
       "            width: 75px;\n",
       "            display: inline-block;\n",
       "            margin: 3px;\n",
       "            position: relative;\n",
       "        }\n",
       "\n",
       "        div.ipyplot-content-div-ZDDFRZo6xfxkAEjxoB4Xju {\n",
       "            width: 75px;\n",
       "            background: white;\n",
       "            display: inline-block;\n",
       "            vertical-align: top;\n",
       "            text-align: center;\n",
       "            position: relative;\n",
       "            border: 2px solid #ddd;\n",
       "            top: 0;\n",
       "            left: 0;\n",
       "        }\n",
       "\n",
       "        div.ipyplot-content-div-ZDDFRZo6xfxkAEjxoB4Xju span.ipyplot-img-close {\n",
       "            display: none;\n",
       "        }\n",
       "\n",
       "        div.ipyplot-content-div-ZDDFRZo6xfxkAEjxoB4Xju span {\n",
       "            width: 100%;\n",
       "            height: 100%;\n",
       "            position: absolute;\n",
       "            top: 0;\n",
       "            left: 0;\n",
       "        }\n",
       "\n",
       "        div.ipyplot-content-div-ZDDFRZo6xfxkAEjxoB4Xju img {\n",
       "            width: 75px;\n",
       "        }\n",
       "\n",
       "        div.ipyplot-content-div-ZDDFRZo6xfxkAEjxoB4Xju span.ipyplot-img-close:hover {\n",
       "            cursor: zoom-out;\n",
       "        }\n",
       "        div.ipyplot-content-div-ZDDFRZo6xfxkAEjxoB4Xju span.ipyplot-img-expand:hover {\n",
       "            cursor: zoom-in;\n",
       "        }\n",
       "\n",
       "        div[id^=ipyplot-content-div-ZDDFRZo6xfxkAEjxoB4Xju]:target {\n",
       "            transform: scale(2.5);\n",
       "            transform-origin: left top;\n",
       "            z-index: 5000;\n",
       "            top: 0;\n",
       "            left: 0;\n",
       "            position: absolute;\n",
       "        }\n",
       "\n",
       "        div[id^=ipyplot-content-div-ZDDFRZo6xfxkAEjxoB4Xju]:target span.ipyplot-img-close {\n",
       "            display: block;\n",
       "        }\n",
       "\n",
       "        div[id^=ipyplot-content-div-ZDDFRZo6xfxkAEjxoB4Xju]:target span.ipyplot-img-expand {\n",
       "            display: none;\n",
       "        }\n",
       "        </style>\n",
       "    <div id=\"ipyplot-imgs-container-div-ZDDFRZo6xfxkAEjxoB4Xju\">\n",
       "    <div class=\"ipyplot-placeholder-div-ZDDFRZo6xfxkAEjxoB4Xju\">\n",
       "        <div id=\"ipyplot-content-div-ZDDFRZo6xfxkAEjxoB4Xju-5DgVHfFMABP4j7BSi6ZsUH\" class=\"ipyplot-content-div-ZDDFRZo6xfxkAEjxoB4Xju\">\n",
       "            <h4 style=\"font-size: 12px; word-wrap: break-word;\">0</h4>\n",
       "            <img src=\"data:image/png;base64,iVBORw0KGgoAAAANSUhEUgAAABwAAAAcCAAAAABXZoBIAAABvUlEQVR4nJ3ST0iTcRzH8fezP200iB6NtFJGMXxyiSQRZBgUMRKiiJrHPNWhW3YbQR0C8WDQIUZlBR46TAqDPEizIAYetMWyQHexzIPRQVCQWc+e59NhY5ugBn1P3x8vvvDj8/0aYuvybGPbow+ATN887Ii0Woc762vQEDDf4cQsCvn8gvzdVy8EKyrpT0vjZ0mS1rJ3DrH75s/SS0h6RlqVcjPXAqHbhQpaXdLjM7ExSdJMeiTZ44nOljHHsPLeFqNN0vuzAE3jzU0/SnjXv6wJjsOiUoQffpwdJjNXf9SRPDDRZdJ5cBps8sTje2ccGqwnubeAijsTkqYutyakNAAhy1YxfFFCOV5V/zq4C2j/Iume97vQcxaqqML4yw+2JC2SlI8V9tQkFjxXbur4/a+tBFjeDAR4OO97uhm+IQpSvGFd9qNVbSjnyDFXSJNGr7sUPP2r1oo3eF0KfpA+Z9QfuPSiOt1PxJUMAYmBE/cbh1LffAeaw/u84L77xEhPadnS6H46htam+693R+tM0wyFjFuOypOwnkpO+dvazQA4XydXow9ilRsCIDuWnVuxgcjJK6dqDmzrhP4X/wIoZyGCBryiqgAAAABJRU5ErkJggg==\"/>\n",
       "            <a href=\"#!\">\n",
       "                <span class=\"ipyplot-img-close\"/>\n",
       "            </a>\n",
       "            <a href=\"#ipyplot-content-div-ZDDFRZo6xfxkAEjxoB4Xju-5DgVHfFMABP4j7BSi6ZsUH\">\n",
       "                <span class=\"ipyplot-img-expand\"/>\n",
       "            </a>\n",
       "        </div>\n",
       "    </div>\n",
       "    </div>"
      ],
      "text/plain": [
       "<IPython.core.display.HTML object>"
      ]
     },
     "metadata": {},
     "output_type": "display_data"
    }
   ],
   "source": [
    "plot_list_of_draws(mcmc.most_common())"
   ]
  },
  {
   "cell_type": "code",
   "execution_count": null,
   "metadata": {
    "pycharm": {
     "name": "#%%\n"
    }
   },
   "outputs": [],
   "source": []
  }
 ],
 "metadata": {
  "kernelspec": {
   "display_name": "Python 3 (ipykernel)",
   "language": "python",
   "name": "python3"
  },
  "language_info": {
   "codemirror_mode": {
    "name": "ipython",
    "version": 3
   },
   "file_extension": ".py",
   "mimetype": "text/x-python",
   "name": "python",
   "nbconvert_exporter": "python",
   "pygments_lexer": "ipython3",
   "version": "3.10.4"
  }
 },
 "nbformat": 4,
 "nbformat_minor": 1
}