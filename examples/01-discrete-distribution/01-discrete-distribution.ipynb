{
 "cells": [
  {
   "cell_type": "code",
   "execution_count": null,
   "metadata": {},
   "outputs": [],
   "source": [
    "# %cd ~/codeProjects/pythonProjects/Bayesian-Learning-with-Wasserstein-Barycenters"
   ]
  },
  {
   "cell_type": "markdown",
   "metadata": {
    "jupyter": {
     "outputs_hidden": false
    },
    "pycharm": {
     "name": "#%% md\n"
    }
   },
   "source": [
    "This notebook is to present some examples of the `DiscreteDistribution` class. This class is an Adapter of the `pyro.distributions.Categorical` class, where you can also choose the support that this distribution has.\n",
    "\n",
    "The reason that this class extends the Pyro library, is for future compatibility with this library and Pytorch."
   ]
  },
  {
   "cell_type": "code",
   "execution_count": null,
   "metadata": {
    "jupyter": {
     "outputs_hidden": false
    },
    "pycharm": {
     "name": "#%%\n"
    }
   },
   "outputs": [],
   "source": [
    "import torch\n",
    "\n",
    "torch.zeros(tuple(torch.tensor((2, 3))))"
   ]
  },
  {
   "cell_type": "code",
   "execution_count": null,
   "metadata": {
    "jupyter": {
     "outputs_hidden": false
    },
    "pycharm": {
     "name": "#%%\n"
    }
   },
   "outputs": [],
   "source": [
    "import torch\n",
    "from bwb.distributions import DiscreteDistribution\n",
    "\n",
    "\n",
    "torch.manual_seed(42)\n",
    "\n",
    "ddist = DiscreteDistribution(weights=torch.tensor([0.1, 0.3, 0.6]))\n",
    "ddist.sample((10,))"
   ]
  },
  {
   "cell_type": "code",
   "execution_count": null,
   "metadata": {
    "jupyter": {
     "outputs_hidden": false
    },
    "pycharm": {
     "name": "#%%\n"
    }
   },
   "outputs": [],
   "source": [
    "from torch.distributions.categorical import Categorical\n",
    "\n",
    "cat = Categorical(torch.tensor([2, 3, 0, 4, 0]))\n",
    "cat.probs.nonzero()"
   ]
  },
  {
   "cell_type": "markdown",
   "metadata": {
    "jupyter": {
     "outputs_hidden": false
    },
    "pycharm": {
     "name": "#%% md\n"
    }
   },
   "source": [
    "Additionally, you can specify the desired support for this distribution."
   ]
  },
  {
   "cell_type": "code",
   "execution_count": null,
   "metadata": {
    "jupyter": {
     "outputs_hidden": false
    },
    "pycharm": {
     "name": "#%%\n"
    }
   },
   "outputs": [],
   "source": [
    "ddist = DiscreteDistribution(\n",
    "    weights=torch.tensor([0.3, 0.7]), support=torch.tensor([4, 2])\n",
    ")\n",
    "print(f\"{ddist.sample((15,))}\")\n",
    "print(f\"{ddist.sample_((15,))}\")"
   ]
  },
  {
   "cell_type": "markdown",
   "metadata": {
    "jupyter": {
     "outputs_hidden": false
    },
    "pycharm": {
     "name": "#%% md\n"
    }
   },
   "source": [
    "Esta clase se hizo con la intención de funcionar como clase base para la siguiente distribución: `DistributionDraw`. Esta distribución se genera a partir de una imagen, la cual se puede construir a partir de un arreglo de grayscales."
   ]
  },
  {
   "cell_type": "code",
   "execution_count": null,
   "metadata": {
    "jupyter": {
     "outputs_hidden": false
    },
    "pycharm": {
     "name": "#%%\n"
    }
   },
   "outputs": [],
   "source": [
    "import numpy as np\n",
    "\n",
    "arr_image = np.array(\n",
    "    [0, 0, 0, 0, 0, 0, 0, 0, 0, 0, 0, 0, 0, 0, 0, 0, 0, 0, 0, 0, 0, 0, 0, 0, 0, 0, 0, 0, 0,\n",
    "     0, 0, 0, 0, 0, 0, 0, 0, 0, 0, 0, 0, 0, 0, 0, 0, 0, 0, 0, 0, 0, 0, 0, 0, 0, 0, 0, 0, 0,\n",
    "     0, 0, 0, 0, 0, 0, 0, 0, 0, 0, 0, 0, 0, 0, 0, 0, 0, 0, 0, 0, 0, 0, 0, 0, 0, 0, 0, 0, 0,\n",
    "     0, 0, 61, 204, 238, 238, 238, 232, 196, 155, 116, 76, 19, 0, 0, 0, 0, 0, 0, 0, 0, 0, 0,\n",
    "     0, 0, 0, 0, 0, 0, 34, 241, 244, 175, 136, 136, 145, 184, 223, 254, 255, 250, 178, 85, 8,\n",
    "     0, 0, 0, 0, 0, 0, 0, 0, 0, 0, 0, 0, 5, 217, 231, 46, 0, 0, 0, 0, 0, 0, 10, 50, 129, 221,\n",
    "     255, 239, 143, 23, 0, 0, 0, 0, 0, 0, 0, 0, 0, 0, 98, 255, 68, 0, 0, 0, 0, 0, 0, 0, 0, 0,\n",
    "     0, 1, 60, 155, 248, 244, 132, 8, 0, 0, 0, 0, 0, 0, 0, 0, 216, 195, 0, 0, 102, 190, 186,\n",
    "     75, 0, 0, 0, 0, 0, 45, 68, 85, 105, 170, 253, 213, 40, 0, 0, 0, 0, 0, 0, 47, 255, 94, 0,\n",
    "     38, 252, 217, 254, 211, 0, 0, 0, 65, 188, 255, 255, 255, 255, 227, 71, 226, 227, 29, 0,\n",
    "     0, 0, 0, 0, 128, 250, 17, 0, 67, 255, 202, 255, 255, 28, 0, 86, 255, 224, 107, 51, 40,\n",
    "     94, 255, 60, 39, 236, 207, 2, 0, 0, 0, 0, 196, 190, 0, 0, 10, 222, 255, 255, 255, 33, 0,\n",
    "     125, 255, 140, 23, 29, 86, 97, 255, 37, 0, 82, 255, 72, 0, 0, 0, 3, 245, 134, 0, 0, 0,\n",
    "     53, 173, 214, 134, 0, 0, 68, 255, 255, 255, 255, 255, 244, 216, 4, 0, 3, 224, 177, 0, 0,\n",
    "     0, 47, 255, 82, 0, 0, 0, 0, 0, 0, 0, 0, 0, 0, 115, 241, 255, 255, 255, 209, 44, 0, 0, 0,\n",
    "     124, 252, 31, 0, 0, 97, 255, 30, 0, 0, 0, 0, 0, 0, 0, 0, 0, 0, 0, 8, 71, 83, 62, 4, 0,\n",
    "     0, 0, 0, 28, 255, 105, 0, 0, 112, 255, 10, 0, 0, 0, 0, 0, 0, 0, 0, 0, 0, 0, 0, 0, 0, 0,\n",
    "     0, 0, 0, 0, 0, 10, 255, 112, 0, 0, 112, 255, 10, 0, 0, 0, 0, 0, 0, 0, 0, 0, 0, 0, 0, 0,\n",
    "     0, 0, 0, 0, 0, 0, 0, 10, 255, 112, 0, 0, 105, 255, 28, 0, 0, 0, 0, 0, 0, 0, 0, 0, 0, 0,\n",
    "     0, 0, 0, 0, 0, 0, 0, 0, 0, 11, 255, 112, 0, 0, 30, 251, 128, 0, 0, 0, 0, 0, 0, 0, 0, 0,\n",
    "     0, 0, 0, 0, 0, 0, 0, 0, 0, 0, 0, 88, 255, 70, 0, 0, 0, 171, 232, 7, 0, 4, 103, 13, 0, 0,\n",
    "     0, 0, 0, 0, 0, 0, 0, 0, 0, 0, 0, 0, 2, 212, 204, 1, 0, 0, 0, 57, 254, 161, 1, 24, 247,\n",
    "     191, 21, 0, 0, 0, 0, 0, 0, 0, 0, 0, 0, 0, 0, 3, 150, 255, 79, 0, 0, 0, 0, 0, 115, 255,\n",
    "     142, 2, 80, 250, 248, 175, 90, 13, 0, 0, 0, 0, 0, 0, 0, 0, 0, 121, 255, 219, 1, 0, 0, 0,\n",
    "     0, 0, 0, 135, 255, 199, 58, 34, 135, 222, 255, 251, 224, 195, 164, 139, 136, 136, 136,\n",
    "     138, 205, 255, 255, 85, 0, 0, 0, 0, 0, 0, 0, 0, 80, 229, 255, 206, 100, 10, 52, 121,\n",
    "     154, 183, 213, 237, 238, 238, 238, 244, 244, 254, 141, 2, 0, 0, 0, 0, 0, 0, 0, 0, 0, 8,\n",
    "     95, 201, 255, 250, 206, 160, 143, 136, 136, 136, 139, 183, 241, 255, 213, 69, 0, 0, 0,\n",
    "     0, 0, 0, 0, 0, 0, 0, 0, 0, 0, 0, 51, 127, 178, 218, 233, 238, 238, 238, 238, 202, 144,\n",
    "     61, 0, 0, 0, 0, 0, 0, 0, 0, 0, 0, 0, 0, 0, 0, 0, 0, 0, 0, 0, 0, 0, 0, 0, 0, 0, 0, 0, 0,\n",
    "     0, 0, 0, 0, 0, 0, 0, 0, 0, 0, 0, 0, 0, 0, 0, 0, 0, 0, 0, 0, 0, 0, 0, 0, 0, 0, 0, 0, 0,\n",
    "     0, 0, 0, 0, 0, 0, 0, 0, 0, 0, 0, 0, 0, 0, 0, 0, 0, 0, 0, 0, 0, 0, 0, 0, 0, 0, 0, 0, 0, 0,\n",
    "     0, 0, 0, 0])  # fmt: skip"
   ]
  },
  {
   "cell_type": "code",
   "execution_count": null,
   "metadata": {
    "jupyter": {
     "outputs_hidden": false
    },
    "pycharm": {
     "name": "#%%\n"
    }
   },
   "outputs": [],
   "source": [
    "import warnings\n",
    "from bwb.distributions import DistributionDraw\n",
    "\n",
    "with warnings.catch_warnings(record=True) as w:\n",
    "    # Cause all warnings to always be triggered.\n",
    "    warnings.simplefilter(\"always\")\n",
    "    # Trigger a warning.\n",
    "    ddraw = DistributionDraw(torch.tensor(arr_image).to(torch.float), (28, 28))\n",
    "\n",
    "\n",
    "ddraw"
   ]
  },
  {
   "cell_type": "code",
   "execution_count": null,
   "metadata": {},
   "outputs": [],
   "source": [
    "ddraw.sample((10,)).dtype"
   ]
  },
  {
   "cell_type": "code",
   "execution_count": null,
   "metadata": {},
   "outputs": [],
   "source": [
    "ddraw.original_support"
   ]
  },
  {
   "cell_type": "markdown",
   "metadata": {
    "jupyter": {
     "outputs_hidden": false
    },
    "pycharm": {
     "name": "#%% md\n"
    }
   },
   "source": [
    "Teniendo esto, se puede samplear a partir de esta distribución."
   ]
  },
  {
   "cell_type": "code",
   "execution_count": null,
   "metadata": {},
   "outputs": [],
   "source": [
    "torch.backends.cudnn.deterministic = True\n",
    "from pathlib import Path\n",
    "from icecream import ic\n",
    "\n",
    "DS_NAME = \"data\"\n",
    "\n",
    "CURR_PATH = Path().absolute()\n",
    "ic(CURR_PATH)\n",
    "BASE_PATH = CURR_PATH.parent.parent\n",
    "ic(BASE_PATH)\n",
    "DATA_PATH = BASE_PATH / \"data\"\n",
    "ic(DATA_PATH)\n",
    "WGAN_PATH = BASE_PATH / \"wgan_gp\"\n",
    "ic(WGAN_PATH)\n",
    "NETS_PATH = WGAN_PATH / \"networks\"\n",
    "ic(NETS_PATH)\n",
    "IMGS_PATH = CURR_PATH / \"imgs\"\n",
    "# IMGS_PATH.mkdir(parents=True, exist_ok=True)\n",
    "ic(IMGS_PATH)"
   ]
  },
  {
   "cell_type": "code",
   "execution_count": null,
   "metadata": {},
   "outputs": [],
   "source": [
    "from pathlib import Path\n",
    "\n",
    "\n",
    "def save_fig_gen(save_figs: bool, imgs_path: Path, verbose=False):\n",
    "    \"\"\"Return a function with the imgs_path fixed\"\"\"\n",
    "    # Making the directory in the case that this does not exist.\n",
    "    if verbose and not imgs_path.exists():\n",
    "        print(f\"Creating directory {imgs_path}...\")\n",
    "        imgs_path.mkdir(parents=True, exist_ok=True)\n",
    "\n",
    "    def save_fig_(fig_, name_to_save: str):\n",
    "        \"\"\"Save the figure with the name\"\"\"\n",
    "        if save_figs:\n",
    "            if verbose:\n",
    "                print(f\"Saving figures with name {name_to_save}\")\n",
    "            PATH_TO_SAVE = imgs_path / name_to_save\n",
    "            kwargs = dict(\n",
    "                bbox_inches=\"tight\",\n",
    "            )\n",
    "            fig_.savefig(PATH_TO_SAVE.with_suffix(\".pdf\"), **kwargs)\n",
    "            fig_.savefig(PATH_TO_SAVE.with_suffix(\".png\"), **kwargs)\n",
    "\n",
    "    return save_fig_\n",
    "\n",
    "\n",
    "save_fig = save_fig_gen(\n",
    "    save_figs=True,\n",
    "    imgs_path=IMGS_PATH,\n",
    "    verbose=True,\n",
    ")"
   ]
  },
  {
   "cell_type": "code",
   "execution_count": null,
   "metadata": {},
   "outputs": [],
   "source": [
    "import bwb.utils.plotters as plotters\n",
    "\n",
    "fig, _ = plotters.plot_draw(ddraw, title=\"Imagen a ser muestreada\")\n",
    "save_fig(fig, \"face_distrib\")"
   ]
  },
  {
   "cell_type": "code",
   "execution_count": null,
   "metadata": {},
   "outputs": [],
   "source": [
    "import matplotlib.pyplot as plt\n",
    "\n",
    "data = ddraw.sample((1_000,))\n",
    "\n",
    "shape = ddraw.shape\n",
    "data_coords = (\n",
    "    ddraw.enumerate_support_()[data].cpu().numpy()\n",
    ")  # + np.random.randn(len(data), 2) * 0.001\n",
    "\n",
    "fig, _ = plotters.plot_histogram_from_points(\n",
    "    data_coords,\n",
    "    rotate=True,\n",
    "    shape=shape,\n",
    "    histplot_kwargs=dict(bins=shape[0]),\n",
    "    title=r\"Histograma con $n=1000$ datos\",\n",
    ")\n",
    "save_fig(fig, \"face_hist\")\n",
    "plt.show()"
   ]
  }
 ],
 "metadata": {
  "kernelspec": {
   "display_name": "Python 3 (ipykernel)",
   "language": "python",
   "name": "python3"
  },
  "language_info": {
   "codemirror_mode": {
    "name": "ipython",
    "version": 3
   },
   "file_extension": ".py",
   "mimetype": "text/x-python",
   "name": "python",
   "nbconvert_exporter": "python",
   "pygments_lexer": "ipython3",
   "version": "3.12.2"
  }
 },
 "nbformat": 4,
 "nbformat_minor": 4
}
