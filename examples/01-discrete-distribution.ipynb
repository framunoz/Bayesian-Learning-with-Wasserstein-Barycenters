{
 "cells": [
  {
   "cell_type": "markdown",
   "source": [
    "This notebook is to present some examples of the `DiscreteDistribution` class. This class is an Adapter of the `pyro.distributions.Categorical` class, where you can also choose the support that this distribution has.\n",
    "\n",
    "The reason that this class extends the Pyro library, is for future compatibility with this library and Pytorch."
   ],
   "metadata": {
    "collapsed": false,
    "pycharm": {
     "name": "#%% md\n"
    }
   }
  },
  {
   "cell_type": "code",
   "execution_count": 1,
   "outputs": [
    {
     "data": {
      "text/plain": "tensor([0, 0, 1, 0, 2, 2, 2, 2, 0, 1])"
     },
     "execution_count": 1,
     "metadata": {},
     "output_type": "execute_result"
    }
   ],
   "source": [
    "import torch\n",
    "from bwb.distributions import DiscreteDistribution\n",
    "\n",
    "\n",
    "torch.manual_seed(42)\n",
    "\n",
    "ddist = DiscreteDistribution(pk=[0.1, 0.3, 0.6])\n",
    "ddist.sample((10,))"
   ],
   "metadata": {
    "collapsed": false,
    "pycharm": {
     "name": "#%%\n"
    }
   }
  },
  {
   "cell_type": "markdown",
   "source": [
    "Additionally, you can specify the desired support for this distribution."
   ],
   "metadata": {
    "collapsed": false,
    "pycharm": {
     "name": "#%% md\n"
    }
   }
  },
  {
   "cell_type": "code",
   "execution_count": 15,
   "outputs": [
    {
     "name": "stdout",
     "output_type": "stream",
     "text": [
      "tensor([1, 1, 1, 1, 1, 1, 1, 1, 1, 1, 1, 1, 1, 1, 0])\n",
      "tensor([4, 2, 2, 2, 2, 2, 2, 2, 2, 2, 2, 2, 4, 2, 2])\n"
     ]
    }
   ],
   "source": [
    "ddist = DiscreteDistribution(pk=[0.05, 0.95], xk=[4, 2])\n",
    "print(f\"{ddist.sample((15,))}\")\n",
    "print(f\"{ddist.sample_((15,))}\")"
   ],
   "metadata": {
    "collapsed": false,
    "pycharm": {
     "name": "#%%\n"
    }
   }
  },
  {
   "cell_type": "markdown",
   "source": [
    "Esta clase se hizo con la intención de funcionar como clase base para la siguiente distribución: `DistributionDraw`. Esta distribución se genera a partir de una imagen, la cual se puede construir a partir de un arreglo de grayscales."
   ],
   "metadata": {
    "collapsed": false,
    "pycharm": {
     "name": "#%% md\n"
    }
   }
  },
  {
   "cell_type": "code",
   "execution_count": 17,
   "outputs": [],
   "source": [
    "import numpy as np\n",
    "\n",
    "arr_image = np.array(\n",
    "    [0, 0, 0, 0, 0, 0, 0, 0, 0, 0, 0, 0, 0,\n",
    "     0, 0, 0, 0, 0, 0, 0, 0, 0, 0, 0, 0, 0,\n",
    "     0, 0, 0, 0, 0, 0, 0, 0, 0, 0, 0, 0, 0,\n",
    "     0, 0, 0, 0, 0, 0, 0, 0, 0, 0, 0, 0, 0,\n",
    "     0, 0, 0, 0, 0, 0, 0, 0, 0, 0, 0, 0, 0,\n",
    "     0, 0, 0, 0, 0, 0, 0, 0, 0, 0, 0, 0, 0,\n",
    "     0, 0, 0, 0, 0, 0, 0, 0, 0, 0, 0, 61, 204,\n",
    "     238, 238, 238, 232, 196, 155, 116, 76, 19, 0, 0, 0, 0,\n",
    "     0, 0, 0, 0, 0, 0, 0, 0, 0, 0, 0, 0, 34,\n",
    "     241, 244, 175, 136, 136, 145, 184, 223, 254, 255, 250, 178, 85,\n",
    "     8, 0, 0, 0, 0, 0, 0, 0, 0, 0, 0, 0, 0,\n",
    "     5, 217, 231, 46, 0, 0, 0, 0, 0, 0, 10, 50, 129,\n",
    "     221, 255, 239, 143, 23, 0, 0, 0, 0, 0, 0, 0, 0,\n",
    "     0, 0, 98, 255, 68, 0, 0, 0, 0, 0, 0, 0, 0,\n",
    "     0, 0, 1, 60, 155, 248, 244, 132, 8, 0, 0, 0, 0,\n",
    "     0, 0, 0, 0, 216, 195, 0, 0, 102, 190, 186, 75, 0,\n",
    "     0, 0, 0, 0, 45, 68, 85, 105, 170, 253, 213, 40, 0,\n",
    "     0, 0, 0, 0, 0, 47, 255, 94, 0, 38, 252, 217, 254,\n",
    "     211, 0, 0, 0, 65, 188, 255, 255, 255, 255, 227, 71, 226,\n",
    "     227, 29, 0, 0, 0, 0, 0, 128, 250, 17, 0, 67, 255,\n",
    "     202, 255, 255, 28, 0, 86, 255, 224, 107, 51, 40, 94, 255,\n",
    "     60, 39, 236, 207, 2, 0, 0, 0, 0, 196, 190, 0, 0,\n",
    "     10, 222, 255, 255, 255, 33, 0, 125, 255, 140, 23, 29, 86,\n",
    "     97, 255, 37, 0, 82, 255, 72, 0, 0, 0, 3, 245, 134,\n",
    "     0, 0, 0, 53, 173, 214, 134, 0, 0, 68, 255, 255, 255,\n",
    "     255, 255, 244, 216, 4, 0, 3, 224, 177, 0, 0, 0, 47,\n",
    "     255, 82, 0, 0, 0, 0, 0, 0, 0, 0, 0, 0, 115,\n",
    "     241, 255, 255, 255, 209, 44, 0, 0, 0, 124, 252, 31, 0,\n",
    "     0, 97, 255, 30, 0, 0, 0, 0, 0, 0, 0, 0, 0,\n",
    "     0, 0, 8, 71, 83, 62, 4, 0, 0, 0, 0, 28, 255,\n",
    "     105, 0, 0, 112, 255, 10, 0, 0, 0, 0, 0, 0, 0,\n",
    "     0, 0, 0, 0, 0, 0, 0, 0, 0, 0, 0, 0, 0,\n",
    "     10, 255, 112, 0, 0, 112, 255, 10, 0, 0, 0, 0, 0,\n",
    "     0, 0, 0, 0, 0, 0, 0, 0, 0, 0, 0, 0, 0,\n",
    "     0, 0, 10, 255, 112, 0, 0, 105, 255, 28, 0, 0, 0,\n",
    "     0, 0, 0, 0, 0, 0, 0, 0, 0, 0, 0, 0, 0,\n",
    "     0, 0, 0, 0, 11, 255, 112, 0, 0, 30, 251, 128, 0,\n",
    "     0, 0, 0, 0, 0, 0, 0, 0, 0, 0, 0, 0, 0,\n",
    "     0, 0, 0, 0, 0, 0, 88, 255, 70, 0, 0, 0, 171,\n",
    "     232, 7, 0, 4, 103, 13, 0, 0, 0, 0, 0, 0, 0,\n",
    "     0, 0, 0, 0, 0, 0, 0, 2, 212, 204, 1, 0, 0,\n",
    "     0, 57, 254, 161, 1, 24, 247, 191, 21, 0, 0, 0, 0,\n",
    "     0, 0, 0, 0, 0, 0, 0, 0, 3, 150, 255, 79, 0,\n",
    "     0, 0, 0, 0, 115, 255, 142, 2, 80, 250, 248, 175, 90,\n",
    "     13, 0, 0, 0, 0, 0, 0, 0, 0, 0, 121, 255, 219,\n",
    "     1, 0, 0, 0, 0, 0, 0, 135, 255, 199, 58, 34, 135,\n",
    "     222, 255, 251, 224, 195, 164, 139, 136, 136, 136, 138, 205, 255,\n",
    "     255, 85, 0, 0, 0, 0, 0, 0, 0, 0, 80, 229, 255,\n",
    "     206, 100, 10, 52, 121, 154, 183, 213, 237, 238, 238, 238, 244,\n",
    "     244, 254, 141, 2, 0, 0, 0, 0, 0, 0, 0, 0, 0,\n",
    "     8, 95, 201, 255, 250, 206, 160, 143, 136, 136, 136, 139, 183,\n",
    "     241, 255, 213, 69, 0, 0, 0, 0, 0, 0, 0, 0, 0,\n",
    "     0, 0, 0, 0, 0, 51, 127, 178, 218, 233, 238, 238, 238,\n",
    "     238, 202, 144, 61, 0, 0, 0, 0, 0, 0, 0, 0, 0,\n",
    "     0, 0, 0, 0, 0, 0, 0, 0, 0, 0, 0, 0, 0,\n",
    "     0, 0, 0, 0, 0, 0, 0, 0, 0, 0, 0, 0, 0,\n",
    "     0, 0, 0, 0, 0, 0, 0, 0, 0, 0, 0, 0, 0,\n",
    "     0, 0, 0, 0, 0, 0, 0, 0, 0, 0, 0, 0, 0,\n",
    "     0, 0, 0, 0, 0, 0, 0, 0, 0, 0, 0, 0, 0,\n",
    "     0, 0, 0, 0, 0, 0, 0, 0, 0, 0, 0, 0, 0,\n",
    "     0, 0, 0, 0]).reshape(28, 28)"
   ],
   "metadata": {
    "collapsed": false,
    "pycharm": {
     "name": "#%%\n"
    }
   }
  },
  {
   "cell_type": "code",
   "execution_count": 18,
   "outputs": [
    {
     "data": {
      "text/plain": "DistributionDraw(probs: torch.Size([784]))",
      "image/png": "[encoded data removed]"
     },
     "execution_count": 18,
     "metadata": {},
     "output_type": "execute_result"
    }
   ],
   "source": [
    "from bwb.distributions import DistributionDraw\n",
    "\n",
    "ddraw = DistributionDraw(arr_image)\n",
    "ddraw"
   ],
   "metadata": {
    "collapsed": false,
    "pycharm": {
     "name": "#%%\n"
    }
   }
  },
  {
   "cell_type": "markdown",
   "source": [
    "Teniendo esto, se puede samplear a partir de esta distribución."
   ],
   "metadata": {
    "collapsed": false,
    "pycharm": {
     "name": "#%% md\n"
    }
   }
  }
 ],
 "metadata": {
  "kernelspec": {
   "display_name": "Python 3",
   "language": "python",
   "name": "python3"
  },
  "language_info": {
   "codemirror_mode": {
    "name": "ipython",
    "version": 2
   },
   "file_extension": ".py",
   "mimetype": "text/x-python",
   "name": "python",
   "nbconvert_exporter": "python",
   "pygments_lexer": "ipython2",
   "version": "2.7.6"
  }
 },
 "nbformat": 4,
 "nbformat_minor": 0
}