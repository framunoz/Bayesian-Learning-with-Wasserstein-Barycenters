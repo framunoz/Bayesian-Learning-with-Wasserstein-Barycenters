{
 "cells": [
  {
   "cell_type": "code",
   "execution_count": 1,
   "metadata": {
    "collapsed": true,
    "pycharm": {
     "name": "#%%\n"
    }
   },
   "outputs": [
    {
     "data": {
      "text/plain": "<bwb.distributions.posterior_distributions.explicit_posterior.ExplicitPosteriorPiN at 0x1ac1ffeddb0>"
     },
     "execution_count": 1,
     "metadata": {},
     "output_type": "execute_result"
    }
   ],
   "source": [
    "import torch\n",
    "import numpy as np\n",
    "\n",
    "from bwb.distributions.distribution_draw import DistributionDraw, DistributionDrawBuilder\n",
    "from bwb.distributions.posterior_distributions.explicit_posterior import ExplicitPosteriorPiN\n",
    "\n",
    "expl_posterior = ExplicitPosteriorPiN()\n",
    "expl_posterior"
   ]
  },
  {
   "cell_type": "code",
   "execution_count": 11,
   "outputs": [
    {
     "data": {
      "text/plain": "array([1., 1., 1., ..., 1., 1., 1.])"
     },
     "execution_count": 11,
     "metadata": {},
     "output_type": "execute_result"
    }
   ],
   "source": [
    "models_array = np.load(r\"..\\data\\face.npy\")\n",
    "models_array = models_array / np.sum(models_array, 1).reshape(-1, 1)\n",
    "models_array.sum(1)"
   ],
   "metadata": {
    "collapsed": false,
    "pycharm": {
     "name": "#%%\n"
    }
   }
  },
  {
   "cell_type": "code",
   "execution_count": 2,
   "outputs": [
    {
     "name": "stdout",
     "output_type": "stream",
     "text": [
      "n_faces = 161666\n",
      "CPU times: total: 4.39 s\n",
      "Wall time: 4.45 s\n"
     ]
    },
    {
     "data": {
      "text/plain": "array([DistributionDraw(probs: torch.Size([784])),\n       DistributionDraw(probs: torch.Size([784])),\n       DistributionDraw(probs: torch.Size([784])), ...,\n       DistributionDraw(probs: torch.Size([784])),\n       DistributionDraw(probs: torch.Size([784])),\n       DistributionDraw(probs: torch.Size([784]))], dtype=object)"
     },
     "execution_count": 2,
     "metadata": {},
     "output_type": "execute_result"
    }
   ],
   "source": [
    "%%time\n",
    "\n",
    "models_array = np.load(r\"..\\data\\face.npy\")\n",
    "n_faces, _ = models_array.shape\n",
    "print(f\"{n_faces = }\")\n",
    "\n",
    "faces = DistributionDrawBuilder((28, 28)).create_from_array(models_array[:10_000])\n",
    "\n",
    "faces"
   ],
   "metadata": {
    "collapsed": false,
    "pycharm": {
     "name": "#%%\n"
    }
   }
  },
  {
   "cell_type": "code",
   "execution_count": 3,
   "outputs": [
    {
     "data": {
      "text/plain": "DistributionDraw(probs: torch.Size([784]))",
      "image/png": "[encoded data removed]"
     },
     "execution_count": 3,
     "metadata": {},
     "output_type": "execute_result"
    }
   ],
   "source": [
    "faces[0]"
   ],
   "metadata": {
    "collapsed": false,
    "pycharm": {
     "name": "#%%\n"
    }
   }
  },
  {
   "cell_type": "code",
   "execution_count": 4,
   "outputs": [
    {
     "data": {
      "text/plain": "tensor([564, 634, 293, 217, 632, 629, 310, 653, 316, 186])"
     },
     "execution_count": 4,
     "metadata": {},
     "output_type": "execute_result"
    }
   ],
   "source": [
    "x = faces[0].sample((10,))\n",
    "x"
   ],
   "metadata": {
    "collapsed": false,
    "pycharm": {
     "name": "#%%\n"
    }
   }
  },
  {
   "cell_type": "code",
   "execution_count": 5,
   "outputs": [
    {
     "name": "stdout",
     "output_type": "stream",
     "text": [
      "CPU times: total: 453 ms\n",
      "Wall time: 422 ms\n"
     ]
    },
    {
     "data": {
      "text/plain": "<bwb.distributions.posterior_distributions.explicit_posterior.ExplicitPosteriorPiN at 0x1ac1ffeddb0>"
     },
     "execution_count": 5,
     "metadata": {},
     "output_type": "execute_result"
    }
   ],
   "source": [
    "%%time\n",
    "expl_posterior.fit(x, faces)"
   ],
   "metadata": {
    "collapsed": false,
    "pycharm": {
     "name": "#%%\n"
    }
   }
  },
  {
   "cell_type": "code",
   "execution_count": 6,
   "outputs": [],
   "source": [
    "expl_posterior.rvs(size=8_000_000, seed=42)"
   ],
   "metadata": {
    "collapsed": false,
    "pycharm": {
     "name": "#%%\n"
    }
   }
  },
  {
   "cell_type": "code",
   "execution_count": 7,
   "outputs": [
    {
     "data": {
      "text/plain": "3.3569213000009768"
     },
     "execution_count": 7,
     "metadata": {},
     "output_type": "execute_result"
    }
   ],
   "source": [
    "expl_posterior.total_time"
   ],
   "metadata": {
    "collapsed": false,
    "pycharm": {
     "name": "#%%\n"
    }
   }
  },
  {
   "cell_type": "code",
   "execution_count": 8,
   "outputs": [
    {
     "data": {
      "text/plain": "(0.0, 3.3569213000009768)"
     },
     "execution_count": 8,
     "metadata": {},
     "output_type": "execute_result"
    }
   ],
   "source": [
    "expl_posterior2 = ExplicitPosteriorPiN()\n",
    "expl_posterior2.total_time, expl_posterior.total_time"
   ],
   "metadata": {
    "collapsed": false,
    "pycharm": {
     "name": "#%%\n"
    }
   }
  },
  {
   "cell_type": "code",
   "execution_count": 10,
   "outputs": [
    {
     "name": "stdout",
     "output_type": "stream",
     "text": [
      "This ExplicitPosteriorPiN instance is not fitted yet. Call 'fit' with appropriate arguments before using this estimator.\n"
     ]
    }
   ],
   "source": [
    "try:\n",
    "    expl_posterior2.draw()\n",
    "except Exception as e:\n",
    "    print(e)"
   ],
   "metadata": {
    "collapsed": false,
    "pycharm": {
     "name": "#%%\n"
    }
   }
  },
  {
   "cell_type": "code",
   "execution_count": null,
   "outputs": [],
   "source": [
    "expl_posterior.samples_history"
   ],
   "metadata": {
    "collapsed": false,
    "pycharm": {
     "name": "#%%\n"
    }
   }
  },
  {
   "cell_type": "code",
   "execution_count": null,
   "outputs": [],
   "source": [
    "print(expl_posterior.samples_counter.total())\n",
    "expl_posterior.draw()\n",
    "print(expl_posterior.samples_counter.total())"
   ],
   "metadata": {
    "collapsed": false,
    "pycharm": {
     "name": "#%%\n"
    }
   }
  }
 ],
 "metadata": {
  "kernelspec": {
   "display_name": "Python 3",
   "language": "python",
   "name": "python3"
  },
  "language_info": {
   "codemirror_mode": {
    "name": "ipython",
    "version": 2
   },
   "file_extension": ".py",
   "mimetype": "text/x-python",
   "name": "python",
   "nbconvert_exporter": "python",
   "pygments_lexer": "ipython2",
   "version": "2.7.6"
  }
 },
 "nbformat": 4,
 "nbformat_minor": 0
}