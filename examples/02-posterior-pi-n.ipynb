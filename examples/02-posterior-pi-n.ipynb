{
 "cells": [
  {
   "cell_type": "code",
   "execution_count": 1,
   "metadata": {
    "collapsed": true,
    "pycharm": {
     "name": "#%%\n"
    }
   },
   "outputs": [
    {
     "data": {
      "text/plain": "ExplicitPosteriorPiN()"
     },
     "execution_count": 1,
     "metadata": {},
     "output_type": "execute_result"
    }
   ],
   "source": [
    "import numpy as np\n",
    "\n",
    "from bwb.distributions.data_loaders import DistributionDrawDataLoader\n",
    "from bwb.distributions import ExplicitPosteriorPiN\n",
    "\n",
    "expl_posterior = ExplicitPosteriorPiN()\n",
    "expl_posterior"
   ]
  },
  {
   "cell_type": "code",
   "execution_count": 2,
   "outputs": [
    {
     "name": "stdout",
     "output_type": "stream",
     "text": [
      "n_faces = 161666\n",
      "CPU times: total: 14 s\n",
      "Wall time: 7.12 s\n"
     ]
    }
   ],
   "source": [
    "%%time\n",
    "\n",
    "models_array = np.load(r\"..\\data\\face.npy\")\n",
    "n_faces, _ = models_array.shape\n",
    "print(f\"{n_faces = }\")\n",
    "\n",
    "faces = DistributionDrawDataLoader(models_array, (28, 28))"
   ],
   "metadata": {
    "collapsed": false,
    "pycharm": {
     "name": "#%%\n"
    }
   }
  },
  {
   "cell_type": "code",
   "execution_count": 5,
   "outputs": [
    {
     "data": {
      "text/plain": "DistributionDraw(shape: (28, 28))",
      "image/png": "[encoded data removed]"
     },
     "execution_count": 5,
     "metadata": {},
     "output_type": "execute_result"
    }
   ],
   "source": [
    "face0 = faces[0]\n",
    "face0"
   ],
   "metadata": {
    "collapsed": false,
    "pycharm": {
     "name": "#%%\n"
    }
   }
  },
  {
   "cell_type": "code",
   "execution_count": 4,
   "outputs": [
    {
     "data": {
      "text/plain": "tensor([663, 187, 353, 597, 233, 242, 117, 634, 601, 337])"
     },
     "execution_count": 4,
     "metadata": {},
     "output_type": "execute_result"
    }
   ],
   "source": [
    "x = faces[0].sample((10,))\n",
    "x"
   ],
   "metadata": {
    "collapsed": false,
    "pycharm": {
     "name": "#%%\n"
    }
   }
  },
  {
   "cell_type": "code",
   "execution_count": 6,
   "outputs": [
    {
     "name": "stdout",
     "output_type": "stream",
     "text": [
      "CPU times: total: 141 ms\n",
      "Wall time: 64 ms\n"
     ]
    },
    {
     "data": {
      "text/plain": "ExplicitPosteriorPiN(n_data=10, n_models=161666)"
     },
     "execution_count": 6,
     "metadata": {},
     "output_type": "execute_result"
    }
   ],
   "source": [
    "%%time\n",
    "expl_posterior.fit(x, faces)"
   ],
   "metadata": {
    "collapsed": false,
    "pycharm": {
     "name": "#%%\n"
    }
   }
  },
  {
   "cell_type": "code",
   "execution_count": 7,
   "outputs": [
    {
     "name": "stdout",
     "output_type": "stream",
     "text": [
      "CPU times: total: 46.9 ms\n",
      "Wall time: 63 ms\n"
     ]
    },
    {
     "data": {
      "text/plain": "[DistributionDraw(shape: (28, 28)),\n DistributionDraw(shape: (28, 28)),\n DistributionDraw(shape: (28, 28)),\n DistributionDraw(shape: (28, 28)),\n DistributionDraw(shape: (28, 28)),\n DistributionDraw(shape: (28, 28)),\n DistributionDraw(shape: (28, 28)),\n DistributionDraw(shape: (28, 28)),\n DistributionDraw(shape: (28, 28)),\n DistributionDraw(shape: (28, 28)),\n DistributionDraw(shape: (28, 28)),\n DistributionDraw(shape: (28, 28)),\n DistributionDraw(shape: (28, 28)),\n DistributionDraw(shape: (28, 28)),\n DistributionDraw(shape: (28, 28)),\n DistributionDraw(shape: (28, 28)),\n DistributionDraw(shape: (28, 28)),\n DistributionDraw(shape: (28, 28)),\n DistributionDraw(shape: (28, 28)),\n DistributionDraw(shape: (28, 28)),\n DistributionDraw(shape: (28, 28)),\n DistributionDraw(shape: (28, 28)),\n DistributionDraw(shape: (28, 28)),\n DistributionDraw(shape: (28, 28)),\n DistributionDraw(shape: (28, 28)),\n DistributionDraw(shape: (28, 28)),\n DistributionDraw(shape: (28, 28)),\n DistributionDraw(shape: (28, 28)),\n DistributionDraw(shape: (28, 28)),\n DistributionDraw(shape: (28, 28)),\n DistributionDraw(shape: (28, 28)),\n DistributionDraw(shape: (28, 28)),\n DistributionDraw(shape: (28, 28)),\n DistributionDraw(shape: (28, 28)),\n DistributionDraw(shape: (28, 28)),\n DistributionDraw(shape: (28, 28)),\n DistributionDraw(shape: (28, 28)),\n DistributionDraw(shape: (28, 28)),\n DistributionDraw(shape: (28, 28)),\n DistributionDraw(shape: (28, 28)),\n DistributionDraw(shape: (28, 28)),\n DistributionDraw(shape: (28, 28)),\n DistributionDraw(shape: (28, 28)),\n DistributionDraw(shape: (28, 28)),\n DistributionDraw(shape: (28, 28)),\n DistributionDraw(shape: (28, 28)),\n DistributionDraw(shape: (28, 28)),\n DistributionDraw(shape: (28, 28)),\n DistributionDraw(shape: (28, 28)),\n DistributionDraw(shape: (28, 28)),\n DistributionDraw(shape: (28, 28)),\n DistributionDraw(shape: (28, 28)),\n DistributionDraw(shape: (28, 28)),\n DistributionDraw(shape: (28, 28)),\n DistributionDraw(shape: (28, 28)),\n DistributionDraw(shape: (28, 28)),\n DistributionDraw(shape: (28, 28)),\n DistributionDraw(shape: (28, 28)),\n DistributionDraw(shape: (28, 28)),\n DistributionDraw(shape: (28, 28)),\n DistributionDraw(shape: (28, 28)),\n DistributionDraw(shape: (28, 28)),\n DistributionDraw(shape: (28, 28)),\n DistributionDraw(shape: (28, 28)),\n DistributionDraw(shape: (28, 28)),\n DistributionDraw(shape: (28, 28)),\n DistributionDraw(shape: (28, 28)),\n DistributionDraw(shape: (28, 28)),\n DistributionDraw(shape: (28, 28)),\n DistributionDraw(shape: (28, 28)),\n DistributionDraw(shape: (28, 28)),\n DistributionDraw(shape: (28, 28)),\n DistributionDraw(shape: (28, 28)),\n DistributionDraw(shape: (28, 28)),\n DistributionDraw(shape: (28, 28)),\n DistributionDraw(shape: (28, 28)),\n DistributionDraw(shape: (28, 28)),\n DistributionDraw(shape: (28, 28)),\n DistributionDraw(shape: (28, 28)),\n DistributionDraw(shape: (28, 28)),\n DistributionDraw(shape: (28, 28)),\n DistributionDraw(shape: (28, 28)),\n DistributionDraw(shape: (28, 28)),\n DistributionDraw(shape: (28, 28)),\n DistributionDraw(shape: (28, 28)),\n DistributionDraw(shape: (28, 28)),\n DistributionDraw(shape: (28, 28)),\n DistributionDraw(shape: (28, 28)),\n DistributionDraw(shape: (28, 28)),\n DistributionDraw(shape: (28, 28)),\n DistributionDraw(shape: (28, 28)),\n DistributionDraw(shape: (28, 28)),\n DistributionDraw(shape: (28, 28)),\n DistributionDraw(shape: (28, 28)),\n DistributionDraw(shape: (28, 28)),\n DistributionDraw(shape: (28, 28)),\n DistributionDraw(shape: (28, 28)),\n DistributionDraw(shape: (28, 28)),\n DistributionDraw(shape: (28, 28)),\n DistributionDraw(shape: (28, 28)),\n DistributionDraw(shape: (28, 28)),\n DistributionDraw(shape: (28, 28)),\n DistributionDraw(shape: (28, 28)),\n DistributionDraw(shape: (28, 28)),\n DistributionDraw(shape: (28, 28)),\n DistributionDraw(shape: (28, 28)),\n DistributionDraw(shape: (28, 28)),\n DistributionDraw(shape: (28, 28)),\n DistributionDraw(shape: (28, 28)),\n DistributionDraw(shape: (28, 28)),\n DistributionDraw(shape: (28, 28)),\n DistributionDraw(shape: (28, 28)),\n DistributionDraw(shape: (28, 28)),\n DistributionDraw(shape: (28, 28)),\n DistributionDraw(shape: (28, 28)),\n DistributionDraw(shape: (28, 28)),\n DistributionDraw(shape: (28, 28)),\n DistributionDraw(shape: (28, 28)),\n DistributionDraw(shape: (28, 28)),\n DistributionDraw(shape: (28, 28)),\n DistributionDraw(shape: (28, 28)),\n DistributionDraw(shape: (28, 28)),\n DistributionDraw(shape: (28, 28)),\n DistributionDraw(shape: (28, 28)),\n DistributionDraw(shape: (28, 28)),\n DistributionDraw(shape: (28, 28)),\n DistributionDraw(shape: (28, 28)),\n DistributionDraw(shape: (28, 28)),\n DistributionDraw(shape: (28, 28)),\n DistributionDraw(shape: (28, 28)),\n DistributionDraw(shape: (28, 28)),\n DistributionDraw(shape: (28, 28)),\n DistributionDraw(shape: (28, 28)),\n DistributionDraw(shape: (28, 28)),\n DistributionDraw(shape: (28, 28)),\n DistributionDraw(shape: (28, 28)),\n DistributionDraw(shape: (28, 28)),\n DistributionDraw(shape: (28, 28)),\n DistributionDraw(shape: (28, 28)),\n DistributionDraw(shape: (28, 28)),\n DistributionDraw(shape: (28, 28)),\n DistributionDraw(shape: (28, 28)),\n DistributionDraw(shape: (28, 28)),\n DistributionDraw(shape: (28, 28)),\n DistributionDraw(shape: (28, 28)),\n DistributionDraw(shape: (28, 28)),\n DistributionDraw(shape: (28, 28)),\n DistributionDraw(shape: (28, 28)),\n DistributionDraw(shape: (28, 28)),\n DistributionDraw(shape: (28, 28)),\n DistributionDraw(shape: (28, 28)),\n DistributionDraw(shape: (28, 28)),\n DistributionDraw(shape: (28, 28)),\n DistributionDraw(shape: (28, 28)),\n DistributionDraw(shape: (28, 28)),\n DistributionDraw(shape: (28, 28)),\n DistributionDraw(shape: (28, 28)),\n DistributionDraw(shape: (28, 28)),\n DistributionDraw(shape: (28, 28)),\n DistributionDraw(shape: (28, 28)),\n DistributionDraw(shape: (28, 28)),\n DistributionDraw(shape: (28, 28)),\n DistributionDraw(shape: (28, 28)),\n DistributionDraw(shape: (28, 28)),\n DistributionDraw(shape: (28, 28)),\n DistributionDraw(shape: (28, 28)),\n DistributionDraw(shape: (28, 28)),\n DistributionDraw(shape: (28, 28)),\n DistributionDraw(shape: (28, 28)),\n DistributionDraw(shape: (28, 28)),\n DistributionDraw(shape: (28, 28)),\n DistributionDraw(shape: (28, 28)),\n DistributionDraw(shape: (28, 28)),\n DistributionDraw(shape: (28, 28)),\n DistributionDraw(shape: (28, 28)),\n DistributionDraw(shape: (28, 28)),\n DistributionDraw(shape: (28, 28)),\n DistributionDraw(shape: (28, 28)),\n DistributionDraw(shape: (28, 28)),\n DistributionDraw(shape: (28, 28)),\n DistributionDraw(shape: (28, 28)),\n DistributionDraw(shape: (28, 28)),\n DistributionDraw(shape: (28, 28)),\n DistributionDraw(shape: (28, 28)),\n DistributionDraw(shape: (28, 28)),\n DistributionDraw(shape: (28, 28)),\n DistributionDraw(shape: (28, 28)),\n DistributionDraw(shape: (28, 28)),\n DistributionDraw(shape: (28, 28)),\n DistributionDraw(shape: (28, 28)),\n DistributionDraw(shape: (28, 28)),\n DistributionDraw(shape: (28, 28)),\n DistributionDraw(shape: (28, 28)),\n DistributionDraw(shape: (28, 28)),\n DistributionDraw(shape: (28, 28)),\n DistributionDraw(shape: (28, 28)),\n DistributionDraw(shape: (28, 28)),\n DistributionDraw(shape: (28, 28)),\n DistributionDraw(shape: (28, 28)),\n DistributionDraw(shape: (28, 28)),\n DistributionDraw(shape: (28, 28)),\n DistributionDraw(shape: (28, 28)),\n DistributionDraw(shape: (28, 28)),\n DistributionDraw(shape: (28, 28)),\n DistributionDraw(shape: (28, 28)),\n DistributionDraw(shape: (28, 28)),\n DistributionDraw(shape: (28, 28)),\n DistributionDraw(shape: (28, 28)),\n DistributionDraw(shape: (28, 28)),\n DistributionDraw(shape: (28, 28)),\n DistributionDraw(shape: (28, 28)),\n DistributionDraw(shape: (28, 28)),\n DistributionDraw(shape: (28, 28)),\n DistributionDraw(shape: (28, 28)),\n DistributionDraw(shape: (28, 28)),\n DistributionDraw(shape: (28, 28)),\n DistributionDraw(shape: (28, 28)),\n DistributionDraw(shape: (28, 28)),\n DistributionDraw(shape: (28, 28)),\n DistributionDraw(shape: (28, 28)),\n DistributionDraw(shape: (28, 28)),\n DistributionDraw(shape: (28, 28)),\n DistributionDraw(shape: (28, 28)),\n DistributionDraw(shape: (28, 28)),\n DistributionDraw(shape: (28, 28)),\n DistributionDraw(shape: (28, 28)),\n DistributionDraw(shape: (28, 28)),\n DistributionDraw(shape: (28, 28)),\n DistributionDraw(shape: (28, 28)),\n DistributionDraw(shape: (28, 28)),\n DistributionDraw(shape: (28, 28)),\n DistributionDraw(shape: (28, 28)),\n DistributionDraw(shape: (28, 28)),\n DistributionDraw(shape: (28, 28)),\n DistributionDraw(shape: (28, 28)),\n DistributionDraw(shape: (28, 28)),\n DistributionDraw(shape: (28, 28)),\n DistributionDraw(shape: (28, 28)),\n DistributionDraw(shape: (28, 28)),\n DistributionDraw(shape: (28, 28)),\n DistributionDraw(shape: (28, 28)),\n DistributionDraw(shape: (28, 28)),\n DistributionDraw(shape: (28, 28)),\n DistributionDraw(shape: (28, 28)),\n DistributionDraw(shape: (28, 28)),\n DistributionDraw(shape: (28, 28)),\n DistributionDraw(shape: (28, 28)),\n DistributionDraw(shape: (28, 28)),\n DistributionDraw(shape: (28, 28)),\n DistributionDraw(shape: (28, 28)),\n DistributionDraw(shape: (28, 28)),\n DistributionDraw(shape: (28, 28)),\n DistributionDraw(shape: (28, 28)),\n DistributionDraw(shape: (28, 28)),\n DistributionDraw(shape: (28, 28)),\n DistributionDraw(shape: (28, 28)),\n DistributionDraw(shape: (28, 28)),\n DistributionDraw(shape: (28, 28)),\n DistributionDraw(shape: (28, 28)),\n DistributionDraw(shape: (28, 28)),\n DistributionDraw(shape: (28, 28)),\n DistributionDraw(shape: (28, 28)),\n DistributionDraw(shape: (28, 28)),\n DistributionDraw(shape: (28, 28)),\n DistributionDraw(shape: (28, 28)),\n DistributionDraw(shape: (28, 28)),\n DistributionDraw(shape: (28, 28)),\n DistributionDraw(shape: (28, 28)),\n DistributionDraw(shape: (28, 28)),\n DistributionDraw(shape: (28, 28)),\n DistributionDraw(shape: (28, 28)),\n DistributionDraw(shape: (28, 28)),\n DistributionDraw(shape: (28, 28)),\n DistributionDraw(shape: (28, 28)),\n DistributionDraw(shape: (28, 28)),\n DistributionDraw(shape: (28, 28)),\n DistributionDraw(shape: (28, 28)),\n DistributionDraw(shape: (28, 28)),\n DistributionDraw(shape: (28, 28)),\n DistributionDraw(shape: (28, 28)),\n DistributionDraw(shape: (28, 28)),\n DistributionDraw(shape: (28, 28)),\n DistributionDraw(shape: (28, 28)),\n DistributionDraw(shape: (28, 28)),\n DistributionDraw(shape: (28, 28)),\n DistributionDraw(shape: (28, 28)),\n DistributionDraw(shape: (28, 28)),\n DistributionDraw(shape: (28, 28)),\n DistributionDraw(shape: (28, 28)),\n DistributionDraw(shape: (28, 28)),\n DistributionDraw(shape: (28, 28)),\n DistributionDraw(shape: (28, 28)),\n DistributionDraw(shape: (28, 28)),\n DistributionDraw(shape: (28, 28)),\n DistributionDraw(shape: (28, 28)),\n DistributionDraw(shape: (28, 28)),\n DistributionDraw(shape: (28, 28)),\n DistributionDraw(shape: (28, 28)),\n DistributionDraw(shape: (28, 28)),\n DistributionDraw(shape: (28, 28)),\n DistributionDraw(shape: (28, 28)),\n DistributionDraw(shape: (28, 28)),\n DistributionDraw(shape: (28, 28)),\n DistributionDraw(shape: (28, 28)),\n DistributionDraw(shape: (28, 28)),\n DistributionDraw(shape: (28, 28)),\n DistributionDraw(shape: (28, 28)),\n DistributionDraw(shape: (28, 28)),\n DistributionDraw(shape: (28, 28)),\n DistributionDraw(shape: (28, 28)),\n DistributionDraw(shape: (28, 28)),\n DistributionDraw(shape: (28, 28)),\n DistributionDraw(shape: (28, 28)),\n DistributionDraw(shape: (28, 28)),\n DistributionDraw(shape: (28, 28)),\n DistributionDraw(shape: (28, 28)),\n DistributionDraw(shape: (28, 28)),\n DistributionDraw(shape: (28, 28)),\n DistributionDraw(shape: (28, 28)),\n DistributionDraw(shape: (28, 28)),\n DistributionDraw(shape: (28, 28)),\n DistributionDraw(shape: (28, 28)),\n DistributionDraw(shape: (28, 28)),\n DistributionDraw(shape: (28, 28)),\n DistributionDraw(shape: (28, 28)),\n DistributionDraw(shape: (28, 28)),\n DistributionDraw(shape: (28, 28)),\n DistributionDraw(shape: (28, 28)),\n DistributionDraw(shape: (28, 28)),\n DistributionDraw(shape: (28, 28)),\n DistributionDraw(shape: (28, 28)),\n DistributionDraw(shape: (28, 28)),\n DistributionDraw(shape: (28, 28)),\n DistributionDraw(shape: (28, 28)),\n DistributionDraw(shape: (28, 28)),\n DistributionDraw(shape: (28, 28)),\n DistributionDraw(shape: (28, 28)),\n DistributionDraw(shape: (28, 28)),\n DistributionDraw(shape: (28, 28)),\n DistributionDraw(shape: (28, 28)),\n DistributionDraw(shape: (28, 28)),\n DistributionDraw(shape: (28, 28)),\n DistributionDraw(shape: (28, 28)),\n DistributionDraw(shape: (28, 28)),\n DistributionDraw(shape: (28, 28)),\n DistributionDraw(shape: (28, 28)),\n DistributionDraw(shape: (28, 28)),\n DistributionDraw(shape: (28, 28)),\n DistributionDraw(shape: (28, 28)),\n DistributionDraw(shape: (28, 28)),\n DistributionDraw(shape: (28, 28)),\n DistributionDraw(shape: (28, 28)),\n DistributionDraw(shape: (28, 28)),\n DistributionDraw(shape: (28, 28)),\n DistributionDraw(shape: (28, 28)),\n DistributionDraw(shape: (28, 28)),\n DistributionDraw(shape: (28, 28)),\n DistributionDraw(shape: (28, 28)),\n DistributionDraw(shape: (28, 28)),\n DistributionDraw(shape: (28, 28)),\n DistributionDraw(shape: (28, 28)),\n DistributionDraw(shape: (28, 28)),\n DistributionDraw(shape: (28, 28)),\n DistributionDraw(shape: (28, 28)),\n DistributionDraw(shape: (28, 28)),\n DistributionDraw(shape: (28, 28)),\n DistributionDraw(shape: (28, 28)),\n DistributionDraw(shape: (28, 28)),\n DistributionDraw(shape: (28, 28)),\n DistributionDraw(shape: (28, 28)),\n DistributionDraw(shape: (28, 28)),\n DistributionDraw(shape: (28, 28)),\n DistributionDraw(shape: (28, 28)),\n DistributionDraw(shape: (28, 28)),\n DistributionDraw(shape: (28, 28)),\n DistributionDraw(shape: (28, 28)),\n DistributionDraw(shape: (28, 28)),\n DistributionDraw(shape: (28, 28)),\n DistributionDraw(shape: (28, 28)),\n DistributionDraw(shape: (28, 28)),\n DistributionDraw(shape: (28, 28)),\n DistributionDraw(shape: (28, 28)),\n DistributionDraw(shape: (28, 28)),\n DistributionDraw(shape: (28, 28)),\n DistributionDraw(shape: (28, 28)),\n DistributionDraw(shape: (28, 28)),\n DistributionDraw(shape: (28, 28)),\n DistributionDraw(shape: (28, 28)),\n DistributionDraw(shape: (28, 28)),\n DistributionDraw(shape: (28, 28)),\n DistributionDraw(shape: (28, 28)),\n DistributionDraw(shape: (28, 28)),\n DistributionDraw(shape: (28, 28)),\n DistributionDraw(shape: (28, 28)),\n DistributionDraw(shape: (28, 28)),\n DistributionDraw(shape: (28, 28)),\n DistributionDraw(shape: (28, 28)),\n DistributionDraw(shape: (28, 28)),\n DistributionDraw(shape: (28, 28)),\n DistributionDraw(shape: (28, 28)),\n DistributionDraw(shape: (28, 28)),\n DistributionDraw(shape: (28, 28)),\n DistributionDraw(shape: (28, 28)),\n DistributionDraw(shape: (28, 28)),\n DistributionDraw(shape: (28, 28)),\n DistributionDraw(shape: (28, 28)),\n DistributionDraw(shape: (28, 28)),\n DistributionDraw(shape: (28, 28)),\n DistributionDraw(shape: (28, 28)),\n DistributionDraw(shape: (28, 28)),\n DistributionDraw(shape: (28, 28)),\n DistributionDraw(shape: (28, 28)),\n DistributionDraw(shape: (28, 28)),\n DistributionDraw(shape: (28, 28)),\n DistributionDraw(shape: (28, 28)),\n DistributionDraw(shape: (28, 28)),\n DistributionDraw(shape: (28, 28)),\n DistributionDraw(shape: (28, 28)),\n DistributionDraw(shape: (28, 28)),\n DistributionDraw(shape: (28, 28)),\n DistributionDraw(shape: (28, 28)),\n DistributionDraw(shape: (28, 28)),\n DistributionDraw(shape: (28, 28)),\n DistributionDraw(shape: (28, 28)),\n DistributionDraw(shape: (28, 28)),\n DistributionDraw(shape: (28, 28)),\n DistributionDraw(shape: (28, 28)),\n DistributionDraw(shape: (28, 28)),\n DistributionDraw(shape: (28, 28)),\n DistributionDraw(shape: (28, 28)),\n DistributionDraw(shape: (28, 28)),\n DistributionDraw(shape: (28, 28)),\n DistributionDraw(shape: (28, 28)),\n DistributionDraw(shape: (28, 28)),\n DistributionDraw(shape: (28, 28)),\n DistributionDraw(shape: (28, 28)),\n DistributionDraw(shape: (28, 28)),\n DistributionDraw(shape: (28, 28)),\n DistributionDraw(shape: (28, 28)),\n DistributionDraw(shape: (28, 28)),\n DistributionDraw(shape: (28, 28)),\n DistributionDraw(shape: (28, 28)),\n DistributionDraw(shape: (28, 28)),\n DistributionDraw(shape: (28, 28)),\n DistributionDraw(shape: (28, 28)),\n DistributionDraw(shape: (28, 28)),\n DistributionDraw(shape: (28, 28)),\n DistributionDraw(shape: (28, 28)),\n DistributionDraw(shape: (28, 28)),\n DistributionDraw(shape: (28, 28)),\n DistributionDraw(shape: (28, 28)),\n DistributionDraw(shape: (28, 28)),\n DistributionDraw(shape: (28, 28)),\n DistributionDraw(shape: (28, 28)),\n DistributionDraw(shape: (28, 28)),\n DistributionDraw(shape: (28, 28)),\n DistributionDraw(shape: (28, 28)),\n DistributionDraw(shape: (28, 28)),\n DistributionDraw(shape: (28, 28)),\n DistributionDraw(shape: (28, 28)),\n DistributionDraw(shape: (28, 28)),\n DistributionDraw(shape: (28, 28)),\n DistributionDraw(shape: (28, 28)),\n DistributionDraw(shape: (28, 28)),\n DistributionDraw(shape: (28, 28)),\n DistributionDraw(shape: (28, 28)),\n DistributionDraw(shape: (28, 28)),\n DistributionDraw(shape: (28, 28)),\n DistributionDraw(shape: (28, 28)),\n DistributionDraw(shape: (28, 28)),\n DistributionDraw(shape: (28, 28)),\n DistributionDraw(shape: (28, 28)),\n DistributionDraw(shape: (28, 28)),\n DistributionDraw(shape: (28, 28)),\n DistributionDraw(shape: (28, 28)),\n DistributionDraw(shape: (28, 28)),\n DistributionDraw(shape: (28, 28)),\n DistributionDraw(shape: (28, 28)),\n DistributionDraw(shape: (28, 28)),\n DistributionDraw(shape: (28, 28)),\n DistributionDraw(shape: (28, 28)),\n DistributionDraw(shape: (28, 28)),\n DistributionDraw(shape: (28, 28)),\n DistributionDraw(shape: (28, 28)),\n DistributionDraw(shape: (28, 28)),\n DistributionDraw(shape: (28, 28)),\n DistributionDraw(shape: (28, 28)),\n DistributionDraw(shape: (28, 28)),\n DistributionDraw(shape: (28, 28)),\n DistributionDraw(shape: (28, 28)),\n DistributionDraw(shape: (28, 28)),\n DistributionDraw(shape: (28, 28)),\n DistributionDraw(shape: (28, 28)),\n DistributionDraw(shape: (28, 28)),\n DistributionDraw(shape: (28, 28)),\n DistributionDraw(shape: (28, 28)),\n DistributionDraw(shape: (28, 28)),\n DistributionDraw(shape: (28, 28)),\n DistributionDraw(shape: (28, 28)),\n DistributionDraw(shape: (28, 28)),\n DistributionDraw(shape: (28, 28)),\n DistributionDraw(shape: (28, 28)),\n DistributionDraw(shape: (28, 28)),\n DistributionDraw(shape: (28, 28)),\n DistributionDraw(shape: (28, 28)),\n DistributionDraw(shape: (28, 28)),\n DistributionDraw(shape: (28, 28)),\n DistributionDraw(shape: (28, 28)),\n DistributionDraw(shape: (28, 28)),\n DistributionDraw(shape: (28, 28)),\n DistributionDraw(shape: (28, 28)),\n DistributionDraw(shape: (28, 28)),\n DistributionDraw(shape: (28, 28)),\n DistributionDraw(shape: (28, 28)),\n DistributionDraw(shape: (28, 28)),\n DistributionDraw(shape: (28, 28)),\n DistributionDraw(shape: (28, 28)),\n DistributionDraw(shape: (28, 28)),\n DistributionDraw(shape: (28, 28)),\n DistributionDraw(shape: (28, 28)),\n DistributionDraw(shape: (28, 28)),\n DistributionDraw(shape: (28, 28)),\n DistributionDraw(shape: (28, 28)),\n DistributionDraw(shape: (28, 28)),\n DistributionDraw(shape: (28, 28)),\n DistributionDraw(shape: (28, 28)),\n DistributionDraw(shape: (28, 28)),\n DistributionDraw(shape: (28, 28)),\n DistributionDraw(shape: (28, 28)),\n DistributionDraw(shape: (28, 28)),\n DistributionDraw(shape: (28, 28)),\n DistributionDraw(shape: (28, 28)),\n DistributionDraw(shape: (28, 28)),\n DistributionDraw(shape: (28, 28)),\n DistributionDraw(shape: (28, 28)),\n DistributionDraw(shape: (28, 28)),\n DistributionDraw(shape: (28, 28)),\n DistributionDraw(shape: (28, 28)),\n DistributionDraw(shape: (28, 28)),\n DistributionDraw(shape: (28, 28)),\n DistributionDraw(shape: (28, 28)),\n DistributionDraw(shape: (28, 28)),\n DistributionDraw(shape: (28, 28)),\n DistributionDraw(shape: (28, 28)),\n DistributionDraw(shape: (28, 28)),\n DistributionDraw(shape: (28, 28)),\n DistributionDraw(shape: (28, 28)),\n DistributionDraw(shape: (28, 28)),\n DistributionDraw(shape: (28, 28)),\n DistributionDraw(shape: (28, 28)),\n DistributionDraw(shape: (28, 28)),\n DistributionDraw(shape: (28, 28)),\n DistributionDraw(shape: (28, 28)),\n DistributionDraw(shape: (28, 28)),\n DistributionDraw(shape: (28, 28)),\n DistributionDraw(shape: (28, 28)),\n DistributionDraw(shape: (28, 28)),\n DistributionDraw(shape: (28, 28)),\n DistributionDraw(shape: (28, 28)),\n DistributionDraw(shape: (28, 28)),\n DistributionDraw(shape: (28, 28)),\n DistributionDraw(shape: (28, 28)),\n DistributionDraw(shape: (28, 28)),\n DistributionDraw(shape: (28, 28)),\n DistributionDraw(shape: (28, 28)),\n DistributionDraw(shape: (28, 28)),\n DistributionDraw(shape: (28, 28)),\n DistributionDraw(shape: (28, 28)),\n DistributionDraw(shape: (28, 28)),\n DistributionDraw(shape: (28, 28)),\n DistributionDraw(shape: (28, 28)),\n DistributionDraw(shape: (28, 28)),\n DistributionDraw(shape: (28, 28)),\n DistributionDraw(shape: (28, 28)),\n DistributionDraw(shape: (28, 28)),\n DistributionDraw(shape: (28, 28)),\n DistributionDraw(shape: (28, 28)),\n DistributionDraw(shape: (28, 28)),\n DistributionDraw(shape: (28, 28)),\n DistributionDraw(shape: (28, 28)),\n DistributionDraw(shape: (28, 28)),\n DistributionDraw(shape: (28, 28)),\n DistributionDraw(shape: (28, 28)),\n DistributionDraw(shape: (28, 28)),\n DistributionDraw(shape: (28, 28)),\n DistributionDraw(shape: (28, 28)),\n DistributionDraw(shape: (28, 28)),\n DistributionDraw(shape: (28, 28)),\n DistributionDraw(shape: (28, 28)),\n DistributionDraw(shape: (28, 28)),\n DistributionDraw(shape: (28, 28)),\n DistributionDraw(shape: (28, 28)),\n DistributionDraw(shape: (28, 28)),\n DistributionDraw(shape: (28, 28)),\n DistributionDraw(shape: (28, 28)),\n DistributionDraw(shape: (28, 28)),\n DistributionDraw(shape: (28, 28)),\n DistributionDraw(shape: (28, 28)),\n DistributionDraw(shape: (28, 28)),\n DistributionDraw(shape: (28, 28)),\n DistributionDraw(shape: (28, 28)),\n DistributionDraw(shape: (28, 28)),\n DistributionDraw(shape: (28, 28)),\n DistributionDraw(shape: (28, 28)),\n DistributionDraw(shape: (28, 28)),\n DistributionDraw(shape: (28, 28)),\n DistributionDraw(shape: (28, 28)),\n DistributionDraw(shape: (28, 28)),\n DistributionDraw(shape: (28, 28)),\n DistributionDraw(shape: (28, 28)),\n DistributionDraw(shape: (28, 28)),\n DistributionDraw(shape: (28, 28)),\n DistributionDraw(shape: (28, 28)),\n DistributionDraw(shape: (28, 28)),\n DistributionDraw(shape: (28, 28)),\n DistributionDraw(shape: (28, 28)),\n DistributionDraw(shape: (28, 28)),\n DistributionDraw(shape: (28, 28)),\n DistributionDraw(shape: (28, 28)),\n DistributionDraw(shape: (28, 28)),\n DistributionDraw(shape: (28, 28)),\n DistributionDraw(shape: (28, 28)),\n DistributionDraw(shape: (28, 28)),\n DistributionDraw(shape: (28, 28)),\n DistributionDraw(shape: (28, 28)),\n DistributionDraw(shape: (28, 28)),\n DistributionDraw(shape: (28, 28)),\n DistributionDraw(shape: (28, 28)),\n DistributionDraw(shape: (28, 28)),\n DistributionDraw(shape: (28, 28)),\n DistributionDraw(shape: (28, 28)),\n DistributionDraw(shape: (28, 28)),\n DistributionDraw(shape: (28, 28)),\n DistributionDraw(shape: (28, 28)),\n DistributionDraw(shape: (28, 28)),\n DistributionDraw(shape: (28, 28)),\n DistributionDraw(shape: (28, 28)),\n DistributionDraw(shape: (28, 28)),\n DistributionDraw(shape: (28, 28)),\n DistributionDraw(shape: (28, 28)),\n DistributionDraw(shape: (28, 28)),\n DistributionDraw(shape: (28, 28)),\n DistributionDraw(shape: (28, 28)),\n DistributionDraw(shape: (28, 28)),\n DistributionDraw(shape: (28, 28)),\n DistributionDraw(shape: (28, 28)),\n DistributionDraw(shape: (28, 28)),\n DistributionDraw(shape: (28, 28)),\n DistributionDraw(shape: (28, 28)),\n DistributionDraw(shape: (28, 28)),\n DistributionDraw(shape: (28, 28)),\n DistributionDraw(shape: (28, 28)),\n DistributionDraw(shape: (28, 28)),\n DistributionDraw(shape: (28, 28)),\n DistributionDraw(shape: (28, 28)),\n DistributionDraw(shape: (28, 28)),\n DistributionDraw(shape: (28, 28)),\n DistributionDraw(shape: (28, 28)),\n DistributionDraw(shape: (28, 28)),\n DistributionDraw(shape: (28, 28)),\n DistributionDraw(shape: (28, 28)),\n DistributionDraw(shape: (28, 28)),\n DistributionDraw(shape: (28, 28)),\n DistributionDraw(shape: (28, 28)),\n DistributionDraw(shape: (28, 28)),\n DistributionDraw(shape: (28, 28)),\n DistributionDraw(shape: (28, 28)),\n DistributionDraw(shape: (28, 28)),\n DistributionDraw(shape: (28, 28)),\n DistributionDraw(shape: (28, 28)),\n DistributionDraw(shape: (28, 28)),\n DistributionDraw(shape: (28, 28)),\n DistributionDraw(shape: (28, 28)),\n DistributionDraw(shape: (28, 28)),\n DistributionDraw(shape: (28, 28)),\n DistributionDraw(shape: (28, 28)),\n DistributionDraw(shape: (28, 28)),\n DistributionDraw(shape: (28, 28)),\n DistributionDraw(shape: (28, 28)),\n DistributionDraw(shape: (28, 28)),\n DistributionDraw(shape: (28, 28)),\n DistributionDraw(shape: (28, 28)),\n DistributionDraw(shape: (28, 28)),\n DistributionDraw(shape: (28, 28)),\n DistributionDraw(shape: (28, 28)),\n DistributionDraw(shape: (28, 28)),\n DistributionDraw(shape: (28, 28)),\n DistributionDraw(shape: (28, 28)),\n DistributionDraw(shape: (28, 28)),\n DistributionDraw(shape: (28, 28)),\n DistributionDraw(shape: (28, 28)),\n DistributionDraw(shape: (28, 28)),\n DistributionDraw(shape: (28, 28)),\n DistributionDraw(shape: (28, 28)),\n DistributionDraw(shape: (28, 28)),\n DistributionDraw(shape: (28, 28)),\n DistributionDraw(shape: (28, 28)),\n DistributionDraw(shape: (28, 28)),\n DistributionDraw(shape: (28, 28)),\n DistributionDraw(shape: (28, 28)),\n DistributionDraw(shape: (28, 28)),\n DistributionDraw(shape: (28, 28)),\n DistributionDraw(shape: (28, 28)),\n DistributionDraw(shape: (28, 28)),\n DistributionDraw(shape: (28, 28)),\n DistributionDraw(shape: (28, 28)),\n DistributionDraw(shape: (28, 28)),\n DistributionDraw(shape: (28, 28)),\n DistributionDraw(shape: (28, 28)),\n DistributionDraw(shape: (28, 28)),\n DistributionDraw(shape: (28, 28)),\n DistributionDraw(shape: (28, 28)),\n DistributionDraw(shape: (28, 28)),\n DistributionDraw(shape: (28, 28)),\n DistributionDraw(shape: (28, 28)),\n DistributionDraw(shape: (28, 28)),\n DistributionDraw(shape: (28, 28)),\n DistributionDraw(shape: (28, 28)),\n DistributionDraw(shape: (28, 28)),\n DistributionDraw(shape: (28, 28)),\n DistributionDraw(shape: (28, 28)),\n DistributionDraw(shape: (28, 28)),\n DistributionDraw(shape: (28, 28)),\n DistributionDraw(shape: (28, 28)),\n DistributionDraw(shape: (28, 28)),\n DistributionDraw(shape: (28, 28)),\n DistributionDraw(shape: (28, 28)),\n DistributionDraw(shape: (28, 28)),\n DistributionDraw(shape: (28, 28)),\n DistributionDraw(shape: (28, 28)),\n DistributionDraw(shape: (28, 28)),\n DistributionDraw(shape: (28, 28)),\n DistributionDraw(shape: (28, 28)),\n DistributionDraw(shape: (28, 28)),\n DistributionDraw(shape: (28, 28)),\n DistributionDraw(shape: (28, 28)),\n DistributionDraw(shape: (28, 28)),\n DistributionDraw(shape: (28, 28)),\n DistributionDraw(shape: (28, 28)),\n DistributionDraw(shape: (28, 28)),\n DistributionDraw(shape: (28, 28)),\n DistributionDraw(shape: (28, 28)),\n DistributionDraw(shape: (28, 28)),\n DistributionDraw(shape: (28, 28)),\n DistributionDraw(shape: (28, 28)),\n DistributionDraw(shape: (28, 28)),\n DistributionDraw(shape: (28, 28)),\n DistributionDraw(shape: (28, 28)),\n DistributionDraw(shape: (28, 28)),\n DistributionDraw(shape: (28, 28)),\n DistributionDraw(shape: (28, 28)),\n DistributionDraw(shape: (28, 28)),\n DistributionDraw(shape: (28, 28)),\n DistributionDraw(shape: (28, 28)),\n DistributionDraw(shape: (28, 28)),\n DistributionDraw(shape: (28, 28)),\n DistributionDraw(shape: (28, 28)),\n DistributionDraw(shape: (28, 28)),\n DistributionDraw(shape: (28, 28)),\n DistributionDraw(shape: (28, 28)),\n DistributionDraw(shape: (28, 28)),\n DistributionDraw(shape: (28, 28)),\n DistributionDraw(shape: (28, 28)),\n DistributionDraw(shape: (28, 28)),\n DistributionDraw(shape: (28, 28)),\n DistributionDraw(shape: (28, 28)),\n DistributionDraw(shape: (28, 28)),\n DistributionDraw(shape: (28, 28)),\n DistributionDraw(shape: (28, 28)),\n DistributionDraw(shape: (28, 28)),\n DistributionDraw(shape: (28, 28)),\n DistributionDraw(shape: (28, 28)),\n DistributionDraw(shape: (28, 28)),\n DistributionDraw(shape: (28, 28)),\n DistributionDraw(shape: (28, 28)),\n DistributionDraw(shape: (28, 28)),\n DistributionDraw(shape: (28, 28)),\n DistributionDraw(shape: (28, 28)),\n DistributionDraw(shape: (28, 28)),\n DistributionDraw(shape: (28, 28)),\n DistributionDraw(shape: (28, 28)),\n DistributionDraw(shape: (28, 28)),\n DistributionDraw(shape: (28, 28)),\n DistributionDraw(shape: (28, 28)),\n DistributionDraw(shape: (28, 28)),\n DistributionDraw(shape: (28, 28)),\n DistributionDraw(shape: (28, 28)),\n DistributionDraw(shape: (28, 28)),\n DistributionDraw(shape: (28, 28)),\n DistributionDraw(shape: (28, 28)),\n DistributionDraw(shape: (28, 28)),\n DistributionDraw(shape: (28, 28)),\n DistributionDraw(shape: (28, 28)),\n DistributionDraw(shape: (28, 28)),\n DistributionDraw(shape: (28, 28)),\n DistributionDraw(shape: (28, 28)),\n DistributionDraw(shape: (28, 28)),\n DistributionDraw(shape: (28, 28)),\n DistributionDraw(shape: (28, 28)),\n DistributionDraw(shape: (28, 28)),\n DistributionDraw(shape: (28, 28)),\n DistributionDraw(shape: (28, 28)),\n DistributionDraw(shape: (28, 28)),\n DistributionDraw(shape: (28, 28)),\n DistributionDraw(shape: (28, 28)),\n DistributionDraw(shape: (28, 28)),\n DistributionDraw(shape: (28, 28)),\n DistributionDraw(shape: (28, 28)),\n DistributionDraw(shape: (28, 28)),\n DistributionDraw(shape: (28, 28)),\n DistributionDraw(shape: (28, 28)),\n DistributionDraw(shape: (28, 28)),\n DistributionDraw(shape: (28, 28)),\n DistributionDraw(shape: (28, 28)),\n DistributionDraw(shape: (28, 28)),\n DistributionDraw(shape: (28, 28)),\n DistributionDraw(shape: (28, 28)),\n DistributionDraw(shape: (28, 28)),\n DistributionDraw(shape: (28, 28)),\n DistributionDraw(shape: (28, 28)),\n DistributionDraw(shape: (28, 28)),\n DistributionDraw(shape: (28, 28)),\n DistributionDraw(shape: (28, 28)),\n DistributionDraw(shape: (28, 28)),\n DistributionDraw(shape: (28, 28)),\n DistributionDraw(shape: (28, 28)),\n DistributionDraw(shape: (28, 28)),\n DistributionDraw(shape: (28, 28)),\n DistributionDraw(shape: (28, 28)),\n DistributionDraw(shape: (28, 28)),\n DistributionDraw(shape: (28, 28)),\n DistributionDraw(shape: (28, 28)),\n DistributionDraw(shape: (28, 28)),\n DistributionDraw(shape: (28, 28)),\n DistributionDraw(shape: (28, 28)),\n DistributionDraw(shape: (28, 28)),\n DistributionDraw(shape: (28, 28)),\n DistributionDraw(shape: (28, 28)),\n DistributionDraw(shape: (28, 28)),\n DistributionDraw(shape: (28, 28)),\n DistributionDraw(shape: (28, 28)),\n DistributionDraw(shape: (28, 28)),\n DistributionDraw(shape: (28, 28)),\n DistributionDraw(shape: (28, 28)),\n DistributionDraw(shape: (28, 28)),\n DistributionDraw(shape: (28, 28)),\n DistributionDraw(shape: (28, 28)),\n DistributionDraw(shape: (28, 28)),\n DistributionDraw(shape: (28, 28)),\n DistributionDraw(shape: (28, 28)),\n DistributionDraw(shape: (28, 28)),\n DistributionDraw(shape: (28, 28)),\n DistributionDraw(shape: (28, 28)),\n DistributionDraw(shape: (28, 28)),\n DistributionDraw(shape: (28, 28)),\n DistributionDraw(shape: (28, 28)),\n DistributionDraw(shape: (28, 28)),\n DistributionDraw(shape: (28, 28)),\n DistributionDraw(shape: (28, 28)),\n DistributionDraw(shape: (28, 28)),\n DistributionDraw(shape: (28, 28)),\n DistributionDraw(shape: (28, 28)),\n DistributionDraw(shape: (28, 28)),\n DistributionDraw(shape: (28, 28)),\n DistributionDraw(shape: (28, 28)),\n DistributionDraw(shape: (28, 28)),\n DistributionDraw(shape: (28, 28)),\n DistributionDraw(shape: (28, 28)),\n DistributionDraw(shape: (28, 28)),\n DistributionDraw(shape: (28, 28)),\n DistributionDraw(shape: (28, 28)),\n DistributionDraw(shape: (28, 28)),\n DistributionDraw(shape: (28, 28)),\n DistributionDraw(shape: (28, 28)),\n DistributionDraw(shape: (28, 28)),\n DistributionDraw(shape: (28, 28)),\n DistributionDraw(shape: (28, 28)),\n DistributionDraw(shape: (28, 28)),\n DistributionDraw(shape: (28, 28)),\n DistributionDraw(shape: (28, 28)),\n DistributionDraw(shape: (28, 28)),\n DistributionDraw(shape: (28, 28)),\n DistributionDraw(shape: (28, 28)),\n DistributionDraw(shape: (28, 28)),\n DistributionDraw(shape: (28, 28)),\n DistributionDraw(shape: (28, 28)),\n DistributionDraw(shape: (28, 28)),\n DistributionDraw(shape: (28, 28)),\n DistributionDraw(shape: (28, 28)),\n DistributionDraw(shape: (28, 28)),\n DistributionDraw(shape: (28, 28)),\n DistributionDraw(shape: (28, 28)),\n DistributionDraw(shape: (28, 28)),\n DistributionDraw(shape: (28, 28)),\n DistributionDraw(shape: (28, 28)),\n DistributionDraw(shape: (28, 28)),\n DistributionDraw(shape: (28, 28)),\n DistributionDraw(shape: (28, 28)),\n DistributionDraw(shape: (28, 28)),\n DistributionDraw(shape: (28, 28)),\n DistributionDraw(shape: (28, 28)),\n DistributionDraw(shape: (28, 28)),\n DistributionDraw(shape: (28, 28)),\n DistributionDraw(shape: (28, 28)),\n DistributionDraw(shape: (28, 28)),\n DistributionDraw(shape: (28, 28)),\n DistributionDraw(shape: (28, 28)),\n DistributionDraw(shape: (28, 28)),\n DistributionDraw(shape: (28, 28)),\n DistributionDraw(shape: (28, 28)),\n DistributionDraw(shape: (28, 28)),\n DistributionDraw(shape: (28, 28)),\n DistributionDraw(shape: (28, 28)),\n DistributionDraw(shape: (28, 28)),\n DistributionDraw(shape: (28, 28)),\n DistributionDraw(shape: (28, 28)),\n DistributionDraw(shape: (28, 28)),\n DistributionDraw(shape: (28, 28)),\n DistributionDraw(shape: (28, 28)),\n DistributionDraw(shape: (28, 28)),\n DistributionDraw(shape: (28, 28)),\n DistributionDraw(shape: (28, 28)),\n DistributionDraw(shape: (28, 28)),\n DistributionDraw(shape: (28, 28)),\n DistributionDraw(shape: (28, 28)),\n DistributionDraw(shape: (28, 28)),\n DistributionDraw(shape: (28, 28)),\n DistributionDraw(shape: (28, 28)),\n DistributionDraw(shape: (28, 28)),\n DistributionDraw(shape: (28, 28)),\n DistributionDraw(shape: (28, 28)),\n DistributionDraw(shape: (28, 28)),\n DistributionDraw(shape: (28, 28)),\n DistributionDraw(shape: (28, 28)),\n DistributionDraw(shape: (28, 28)),\n DistributionDraw(shape: (28, 28)),\n DistributionDraw(shape: (28, 28)),\n DistributionDraw(shape: (28, 28)),\n DistributionDraw(shape: (28, 28)),\n DistributionDraw(shape: (28, 28)),\n DistributionDraw(shape: (28, 28)),\n DistributionDraw(shape: (28, 28)),\n DistributionDraw(shape: (28, 28)),\n DistributionDraw(shape: (28, 28)),\n DistributionDraw(shape: (28, 28)),\n DistributionDraw(shape: (28, 28)),\n DistributionDraw(shape: (28, 28)),\n DistributionDraw(shape: (28, 28)),\n DistributionDraw(shape: (28, 28)),\n DistributionDraw(shape: (28, 28)),\n DistributionDraw(shape: (28, 28)),\n DistributionDraw(shape: (28, 28)),\n DistributionDraw(shape: (28, 28)),\n DistributionDraw(shape: (28, 28)),\n DistributionDraw(shape: (28, 28)),\n DistributionDraw(shape: (28, 28)),\n DistributionDraw(shape: (28, 28)),\n DistributionDraw(shape: (28, 28)),\n DistributionDraw(shape: (28, 28)),\n DistributionDraw(shape: (28, 28)),\n DistributionDraw(shape: (28, 28)),\n DistributionDraw(shape: (28, 28)),\n DistributionDraw(shape: (28, 28)),\n DistributionDraw(shape: (28, 28)),\n DistributionDraw(shape: (28, 28)),\n DistributionDraw(shape: (28, 28)),\n DistributionDraw(shape: (28, 28)),\n DistributionDraw(shape: (28, 28)),\n DistributionDraw(shape: (28, 28)),\n DistributionDraw(shape: (28, 28)),\n DistributionDraw(shape: (28, 28)),\n DistributionDraw(shape: (28, 28)),\n DistributionDraw(shape: (28, 28)),\n DistributionDraw(shape: (28, 28)),\n DistributionDraw(shape: (28, 28)),\n DistributionDraw(shape: (28, 28)),\n DistributionDraw(shape: (28, 28)),\n DistributionDraw(shape: (28, 28)),\n DistributionDraw(shape: (28, 28)),\n DistributionDraw(shape: (28, 28)),\n DistributionDraw(shape: (28, 28)),\n DistributionDraw(shape: (28, 28)),\n DistributionDraw(shape: (28, 28)),\n DistributionDraw(shape: (28, 28)),\n DistributionDraw(shape: (28, 28)),\n DistributionDraw(shape: (28, 28)),\n DistributionDraw(shape: (28, 28)),\n DistributionDraw(shape: (28, 28)),\n DistributionDraw(shape: (28, 28)),\n DistributionDraw(shape: (28, 28)),\n DistributionDraw(shape: (28, 28)),\n DistributionDraw(shape: (28, 28)),\n DistributionDraw(shape: (28, 28)),\n DistributionDraw(shape: (28, 28)),\n DistributionDraw(shape: (28, 28)),\n DistributionDraw(shape: (28, 28)),\n DistributionDraw(shape: (28, 28)),\n DistributionDraw(shape: (28, 28)),\n DistributionDraw(shape: (28, 28)),\n DistributionDraw(shape: (28, 28))]"
     },
     "execution_count": 7,
     "metadata": {},
     "output_type": "execute_result"
    }
   ],
   "source": [
    "%%time\n",
    "expl_posterior.rvs(size=1000, seed=42)"
   ],
   "metadata": {
    "collapsed": false,
    "pycharm": {
     "name": "#%%\n"
    }
   }
  },
  {
   "cell_type": "code",
   "execution_count": 8,
   "outputs": [
    {
     "data": {
      "text/plain": "0.06307400000514463"
     },
     "execution_count": 8,
     "metadata": {},
     "output_type": "execute_result"
    }
   ],
   "source": [
    "expl_posterior.total_time"
   ],
   "metadata": {
    "collapsed": false,
    "pycharm": {
     "name": "#%%\n"
    }
   }
  },
  {
   "cell_type": "code",
   "execution_count": 9,
   "outputs": [
    {
     "data": {
      "text/plain": "(0.0, 0.06307400000514463)"
     },
     "execution_count": 9,
     "metadata": {},
     "output_type": "execute_result"
    }
   ],
   "source": [
    "expl_posterior2 = ExplicitPosteriorPiN()\n",
    "expl_posterior2.total_time, expl_posterior.total_time"
   ],
   "metadata": {
    "collapsed": false,
    "pycharm": {
     "name": "#%%\n"
    }
   }
  },
  {
   "cell_type": "code",
   "execution_count": 10,
   "outputs": [
    {
     "name": "stdout",
     "output_type": "stream",
     "text": [
      "This ExplicitPosteriorPiN instance is not fitted yet. Call 'fit' with appropriate arguments before using this estimator.\n"
     ]
    }
   ],
   "source": [
    "try:\n",
    "    expl_posterior2.draw()\n",
    "except Exception as e:\n",
    "    print(e)"
   ],
   "metadata": {
    "collapsed": false,
    "pycharm": {
     "name": "#%%\n"
    }
   }
  },
  {
   "cell_type": "code",
   "execution_count": 11,
   "outputs": [
    {
     "data": {
      "text/plain": "89"
     },
     "execution_count": 11,
     "metadata": {},
     "output_type": "execute_result"
    }
   ],
   "source": [
    "len(expl_posterior.samples_counter)"
   ],
   "metadata": {
    "collapsed": false,
    "pycharm": {
     "name": "#%%\n"
    }
   }
  },
  {
   "cell_type": "code",
   "execution_count": 12,
   "outputs": [
    {
     "name": "stdout",
     "output_type": "stream",
     "text": [
      "1000\n",
      "1001\n"
     ]
    }
   ],
   "source": [
    "print(expl_posterior.samples_counter.total())\n",
    "expl_posterior.draw()\n",
    "print(expl_posterior.samples_counter.total())"
   ],
   "metadata": {
    "collapsed": false,
    "pycharm": {
     "name": "#%%\n"
    }
   }
  },
  {
   "cell_type": "code",
   "execution_count": 15,
   "outputs": [
    {
     "data": {
      "text/plain": "DistributionDraw(shape: (28, 28))",
      "image/png": "[encoded data removed]"
     },
     "execution_count": 15,
     "metadata": {},
     "output_type": "execute_result"
    }
   ],
   "source": [
    "expl_posterior.draw()"
   ],
   "metadata": {
    "collapsed": false,
    "pycharm": {
     "name": "#%%\n"
    }
   }
  },
  {
   "cell_type": "code",
   "execution_count": null,
   "outputs": [],
   "source": [],
   "metadata": {
    "collapsed": false,
    "pycharm": {
     "name": "#%%\n"
    }
   }
  }
 ],
 "metadata": {
  "kernelspec": {
   "display_name": "Python 3",
   "language": "python",
   "name": "python3"
  },
  "language_info": {
   "codemirror_mode": {
    "name": "ipython",
    "version": 2
   },
   "file_extension": ".py",
   "mimetype": "text/x-python",
   "name": "python",
   "nbconvert_exporter": "python",
   "pygments_lexer": "ipython2",
   "version": "2.7.6"
  }
 },
 "nbformat": 4,
 "nbformat_minor": 0
}