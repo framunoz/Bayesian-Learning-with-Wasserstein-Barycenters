{
 "cells": [
  {
   "attachments": {},
   "cell_type": "markdown",
   "metadata": {
    "pycharm": {
     "name": "#%% md\n"
    }
   },
   "source": [
    "# Importaciones generales"
   ]
  },
  {
   "cell_type": "code",
   "execution_count": 1,
   "metadata": {
    "ExecuteTime": {
     "end_time": "2024-04-18T01:56:29.499192Z",
     "start_time": "2024-04-18T01:56:29.486402Z"
    }
   },
   "source": [
    "\n",
    "%cd ~/codeProjects/pythonProjects/Bayesian-Learning-with-Wasserstein-Barycenters\n",
    "# %cd D:\\CodeProjects\\Python\\Bayesian-Learning-with-Wasserstein-Barycenters\\\n",
    "# Soy una nueva linea"
   ],
   "outputs": []
  },
  {
   "cell_type": "code",
   "execution_count": 2,
   "metadata": {
    "pycharm": {
     "name": "#%%\n"
    },
    "ExecuteTime": {
     "end_time": "2024-04-18T01:56:35.215818Z",
     "start_time": "2024-04-18T01:56:30.346084Z"
    }
   },
   "source": [
    "\n",
    "\n",
    "from torch import linalg as LA\n",
    "\n",
    "from bwb import sgdw, utils\n",
    "from bwb.distributions import *\n",
    "from bwb.distributions.data_loaders import *\n",
    "from bwb.geodesics import *\n",
    "from bwb.transports import *"
   ],
   "outputs": []
  },
  {
   "cell_type": "code",
   "execution_count": 3,
   "metadata": {
    "pycharm": {
     "name": "#%%\n"
    },
    "ExecuteTime": {
     "end_time": "2024-04-18T01:56:35.244317Z",
     "start_time": "2024-04-18T01:56:35.219528Z"
    }
   },
   "source": [
    "import logging\n",
    "from bwb.logging import log_config\n",
    "import time\n",
    "from pathlib import Path\n",
    "\n",
    "# Remove the handlers\n",
    "log_config.remove_all_handlers()\n",
    "\n",
    "# Define and add FileHandler\n",
    "LOG_PATH = Path(\"logs\") / f\"notebook_{time.strftime('%Y%m%d_%H%M%S')}.log\"\n",
    "fh = logging.FileHandler(LOG_PATH)\n",
    "log_config.set_default_formatter(fh)\n",
    "log_config.add_handler(fh)\n",
    "\n",
    "_log = log_config.get_logger(\"notebook\")\n",
    "print(_log.level)\n",
    "log_config.set_level(level=logging.DEBUG, name=\"notebook\")\n",
    "log_config.set_level(level=logging.INFO, name=\"bwb.utils\")\n",
    "log_config.set_level(level=logging.DEBUG, name=\"bwb.sgdw.sgdw\")\n",
    "log_config.set_level(level=logging.INFO, name=\"bwb.transports\")"
   ],
   "outputs": []
  },
  {
   "cell_type": "code",
   "execution_count": 4,
   "metadata": {
    "ExecuteTime": {
     "end_time": "2024-04-18T01:56:35.372023Z",
     "start_time": "2024-04-18T01:56:35.247268Z"
    }
   },
   "source": [
    "_log.level"
   ],
   "outputs": []
  },
  {
   "attachments": {},
   "cell_type": "markdown",
   "metadata": {
    "pycharm": {
     "name": "#%% md\n"
    }
   },
   "source": [
    "# Cargar datos"
   ]
  },
  {
   "cell_type": "code",
   "execution_count": 5,
   "metadata": {
    "ExecuteTime": {
     "end_time": "2024-04-18T01:56:35.462197Z",
     "start_time": "2024-04-18T01:56:35.376790Z"
    }
   },
   "source": [
    "CURRENT_PATH = Path(\".\")\n",
    "DATA_PATH = CURRENT_PATH / Path(\"data\")\n",
    "FACE_PATH = DATA_PATH / Path(\"face.npy\")\n",
    "FACE_PATH"
   ],
   "outputs": []
  },
  {
   "cell_type": "code",
   "execution_count": 6,
   "metadata": {
    "pycharm": {
     "name": "#%%\n"
    },
    "ExecuteTime": {
     "end_time": "2024-04-18T01:56:35.756041Z",
     "start_time": "2024-04-18T01:56:35.465179Z"
    }
   },
   "source": [
    "arr = np.load(FACE_PATH)\n",
    "arr.shape"
   ],
   "outputs": []
  },
  {
   "cell_type": "code",
   "execution_count": 7,
   "metadata": {
    "pycharm": {
     "name": "#%%\n"
    },
    "ExecuteTime": {
     "end_time": "2024-04-18T01:56:37.531951Z",
     "start_time": "2024-04-18T01:56:35.759083Z"
    }
   },
   "source": [
    "shape = (28, 28)\n",
    "faces = DistributionDrawDataLoader(arr, shape)\n",
    "faces"
   ],
   "outputs": []
  },
  {
   "cell_type": "code",
   "execution_count": 8,
   "metadata": {
    "pycharm": {
     "name": "#%%\n"
    },
    "scrolled": true,
    "ExecuteTime": {
     "end_time": "2024-04-18T01:56:37.827570Z",
     "start_time": "2024-04-18T01:56:37.535036Z"
    }
   },
   "source": [
    "first_face = faces[0]\n",
    "first_face"
   ],
   "outputs": []
  },
  {
   "cell_type": "code",
   "execution_count": 9,
   "metadata": {
    "pycharm": {
     "name": "#%%\n"
    },
    "ExecuteTime": {
     "end_time": "2024-04-18T01:56:37.882698Z",
     "start_time": "2024-04-18T01:56:37.829921Z"
    }
   },
   "source": [
    "max_images = 36\n",
    "faces_list = []\n",
    "for k in range(max_images):\n",
    "    faces_list.append(faces[k])"
   ],
   "outputs": []
  },
  {
   "cell_type": "code",
   "execution_count": 10,
   "metadata": {
    "collapsed": false,
    "pycharm": {
     "name": "#%%\n"
    },
    "ExecuteTime": {
     "end_time": "2024-04-18T01:56:44.160416Z",
     "start_time": "2024-04-18T01:56:37.886326Z"
    }
   },
   "source": [
    "utils.plot_list_of_draws(faces_list, max_images=max_images)"
   ],
   "outputs": []
  },
  {
   "attachments": {},
   "cell_type": "markdown",
   "metadata": {
    "pycharm": {
     "name": "#%% md\n"
    }
   },
   "source": [
    "## Construir Posterior"
   ]
  },
  {
   "cell_type": "code",
   "execution_count": 11,
   "metadata": {
    "pycharm": {
     "name": "#%%\n"
    },
    "ExecuteTime": {
     "end_time": "2024-04-18T01:56:44.171737Z",
     "start_time": "2024-04-18T01:56:44.163927Z"
    }
   },
   "source": [
    "x = first_face.sample((3,))\n",
    "x"
   ],
   "outputs": []
  },
  {
   "cell_type": "code",
   "execution_count": 12,
   "metadata": {
    "ExecuteTime": {
     "end_time": "2024-04-18T01:56:44.182155Z",
     "start_time": "2024-04-18T01:56:44.173604Z"
    }
   },
   "source": [
    "from bwb.config import config\n",
    "\n",
    "gen = torch.Generator(device=config.device).manual_seed(2147483647)\n",
    "gen.initial_seed()\n",
    "# gen.seed()\n",
    "gen.initial_seed()"
   ],
   "outputs": []
  },
  {
   "cell_type": "code",
   "execution_count": 13,
   "metadata": {
    "pycharm": {
     "name": "#%%\n"
    },
    "ExecuteTime": {
     "end_time": "2024-04-18T01:56:44.198281Z",
     "start_time": "2024-04-18T01:56:44.183705Z"
    }
   },
   "source": [
    "%%time\n",
    "pi_n: ExplicitPosteriorSampler[DistributionDraw] = ExplicitPosteriorSampler().fit(data=x, models=faces)\n",
    "pi_n"
   ],
   "outputs": []
  },
  {
   "attachments": {},
   "cell_type": "markdown",
   "metadata": {
    "pycharm": {
     "name": "#%% md\n"
    }
   },
   "source": [
    "# Calcular baricentros"
   ]
  },
  {
   "attachments": {},
   "cell_type": "markdown",
   "metadata": {
    "pycharm": {
     "name": "#%% md\n"
    }
   },
   "source": [
    "## Definir $\\gamma_k$"
   ]
  },
  {
   "attachments": {},
   "cell_type": "markdown",
   "metadata": {
    "pycharm": {
     "name": "#%% md\n"
    }
   },
   "source": [
    "Aquí se utiliza una función de la forma\n",
    "\\begin{equation*}\n",
    "    \\gamma_k = \\frac{a}{(b^{1/c} + k)^c}\n",
    "\\end{equation*}\n",
    "\n",
    "Con $a > 0$, $b \\geq 0$ y $0.5 < c \\leq 1$\n",
    "\n",
    "La idea es que cuando $k=0$, $\\gamma_0 = \\frac{a}{b}$ es la proporción entre $a$ y $b$, permitiendo ajustar el valor inicial."
   ]
  },
  {
   "cell_type": "code",
   "execution_count": 1,
   "metadata": {
    "pycharm": {
     "name": "#%%\n"
    },
    "ExecuteTime": {
     "end_time": "2024-04-19T07:30:28.057278Z",
     "start_time": "2024-04-19T07:30:28.051270Z"
    }
   },
   "source": [
    "class Gamma:\n",
    "    def __init__(self, a=1, b=0, c=1):\n",
    "        self.a = a\n",
    "        self.b = b\n",
    "        self.c = c\n",
    "\n",
    "    def __call__(self, k):\n",
    "        return self.a / (self.b ** (1 / self.c) + k) ** self.c"
   ],
   "outputs": []
  },
  {
   "cell_type": "code",
   "execution_count": 3,
   "metadata": {
    "pycharm": {
     "name": "#%%\n"
    },
    "ExecuteTime": {
     "end_time": "2024-04-19T07:30:52.830622Z",
     "start_time": "2024-04-19T07:30:52.824874Z"
    }
   },
   "source": [
    "window = 3\n",
    "\n",
    "a_ = 0.5\n",
    "params = dict(a=a_, b=a_+0.1, c=0.51)\n",
    "gamma = Gamma(**params)\n",
    "\n",
    "for t in range(window):\n",
    "    print(f\"{t = }; {gamma(t) = :.8f}\")\n",
    "print()\n",
    "\n",
    "init = 300\n",
    "for t in range(init, init + window):\n",
    "    print(f\"{t = }; {gamma(t) = :.8f}\")\n",
    "print()\n",
    "\n",
    "init = 500\n",
    "for t in range(init, init + window):\n",
    "    print(f\"{t = }; {gamma(t) = :.8f}\")\n",
    "print()\n",
    "\n",
    "init = 3_000\n",
    "for t in range(init, init + window):\n",
    "    print(f\"{t = }; {gamma(t) = :.8f}\")\n",
    "print()\n",
    "\n",
    "init = 10_000\n",
    "for t in range(init, init + window):\n",
    "    print(f\"{t = }; {gamma(t) = :.8f}\")"
   ],
   "outputs": []
  },
  {
   "attachments": {},
   "cell_type": "markdown",
   "metadata": {
    "pycharm": {
     "name": "#%% md\n"
    }
   },
   "source": [
    "## Baricentro con 50 caras, 3 datos"
   ]
  },
  {
   "cell_type": "code",
   "execution_count": 16,
   "metadata": {
    "pycharm": {
     "name": "#%%\n"
    },
    "ExecuteTime": {
     "end_time": "2024-04-18T01:56:44.226789Z",
     "start_time": "2024-04-18T01:56:44.218538Z"
    }
   },
   "source": [
    "faces = DistributionDrawDataLoader(arr[:100, :], shape)\n",
    "faces"
   ],
   "outputs": []
  },
  {
   "cell_type": "code",
   "execution_count": 17,
   "metadata": {
    "pycharm": {
     "name": "#%%\n"
    },
    "ExecuteTime": {
     "end_time": "2024-04-18T01:56:44.237775Z",
     "start_time": "2024-04-18T01:56:44.229238Z"
    }
   },
   "source": [
    "x = first_face.sample((3,))\n",
    "x"
   ],
   "outputs": []
  },
  {
   "cell_type": "code",
   "execution_count": 18,
   "metadata": {
    "pycharm": {
     "name": "#%%\n"
    },
    "ExecuteTime": {
     "end_time": "2024-04-18T01:56:44.248245Z",
     "start_time": "2024-04-18T01:56:44.239934Z"
    }
   },
   "source": [
    "pi_n: ExplicitPosteriorSampler[DistributionDraw] = ExplicitPosteriorSampler().fit(data=x, models=faces)\n",
    "pi_n"
   ],
   "outputs": []
  },
  {
   "cell_type": "code",
   "execution_count": 19,
   "metadata": {
    "pycharm": {
     "name": "#%%\n"
    },
    "ExecuteTime": {
     "end_time": "2024-04-18T01:56:44.266943Z",
     "start_time": "2024-04-18T01:56:44.250160Z"
    }
   },
   "source": [
    "probs = pi_n.probabilities_\n",
    "torch.round(pi_n.probabilities_[torch.round(probs, decimals=4) > 0] * 100, decimals=2)"
   ],
   "outputs": []
  },
  {
   "cell_type": "code",
   "execution_count": 20,
   "metadata": {
    "pycharm": {
     "name": "#%%\n"
    },
    "ExecuteTime": {
     "end_time": "2024-04-18T01:56:44.273138Z",
     "start_time": "2024-04-18T01:56:44.269558Z"
    }
   },
   "source": [
    "transport = EMDTransport(max_iter=250_000)"
   ],
   "outputs": []
  },
  {
   "cell_type": "code",
   "execution_count": 21,
   "metadata": {
    "pycharm": {
     "name": "#%%\n"
    },
    "ExecuteTime": {
     "end_time": "2024-04-18T01:56:44.932426Z",
     "start_time": "2024-04-18T01:56:44.275143Z"
    }
   },
   "source": [
    "X_k, m, pos_hist, samples_hist = sgdw.sgdw.compute_bwb_discrete_distribution(\n",
    "    transport=transport,\n",
    "    distrib_sampler=pi_n,\n",
    "    learning_rate=Gamma(**params),\n",
    "    batch_size=1,\n",
    "    alpha=0.01,\n",
    "    tol=0.,\n",
    "    max_iter=500,\n",
    "    max_time=0.5,\n",
    "    position_history=True,\n",
    "    distrib_sampler_history=True,\n",
    "    report_every=20\n",
    ")"
   ],
   "outputs": []
  },
  {
   "attachments": {},
   "cell_type": "markdown",
   "metadata": {
    "pycharm": {
     "name": "#%% md\n"
    }
   },
   "source": [
    "### Primeras iteraciones"
   ]
  },
  {
   "cell_type": "code",
   "execution_count": 22,
   "metadata": {
    "pycharm": {
     "name": "#%%\n"
    },
    "ExecuteTime": {
     "end_time": "2024-04-18T01:56:47.099534Z",
     "start_time": "2024-04-18T01:56:44.935091Z"
    }
   },
   "source": [
    "utils.plot_list_of_draws([DistributionDraw(m, shape, X) for X in pos_hist[:36]], max_images=36)"
   ],
   "outputs": []
  },
  {
   "cell_type": "code",
   "execution_count": 23,
   "metadata": {
    "pycharm": {
     "name": "#%%\n"
    },
    "scrolled": false,
    "ExecuteTime": {
     "end_time": "2024-04-18T01:56:47.996764Z",
     "start_time": "2024-04-18T01:56:47.101577Z"
    }
   },
   "source": [
    "utils.plot_list_of_draws([x[0] for x in samples_hist], max_images=33)"
   ],
   "outputs": []
  },
  {
   "attachments": {},
   "cell_type": "markdown",
   "metadata": {
    "pycharm": {
     "name": "#%% md\n"
    }
   },
   "source": [
    "### Últimas iteraciones"
   ]
  },
  {
   "cell_type": "code",
   "execution_count": 24,
   "metadata": {
    "pycharm": {
     "name": "#%%\n"
    },
    "ExecuteTime": {
     "end_time": "2024-04-18T01:56:49.877902Z",
     "start_time": "2024-04-18T01:56:47.998545Z"
    }
   },
   "source": [
    "utils.plot_list_of_draws([DistributionDraw(m, shape, X) for X in pos_hist[-36:]], max_images=36)"
   ],
   "outputs": []
  },
  {
   "cell_type": "code",
   "execution_count": 25,
   "metadata": {
    "pycharm": {
     "name": "#%%\n"
    },
    "scrolled": false,
    "ExecuteTime": {
     "end_time": "2024-04-18T01:56:49.895831Z",
     "start_time": "2024-04-18T01:56:49.879727Z"
    }
   },
   "source": [
    "utils.plot_list_of_draws([x[0] for x in samples_hist[-33:]], max_images=33)"
   ],
   "outputs": []
  },
  {
   "cell_type": "markdown",
   "metadata": {},
   "source": [
    "## Baricentro usando la clase, con 50 caras y 3 datos"
   ]
  },
  {
   "cell_type": "code",
   "execution_count": 26,
   "metadata": {
    "collapsed": false,
    "ExecuteTime": {
     "end_time": "2024-04-18T01:56:49.904058Z",
     "start_time": "2024-04-18T01:56:49.897727Z"
    }
   },
   "source": [
    "dd_sgdw = sgdw.DiscreteDistributionSGDW(\n",
    "    transport=transport,\n",
    "    distr_sampler=pi_n,\n",
    "    learning_rate=Gamma(**params),\n",
    "    batch_size=1,\n",
    "    alpha=0.01,\n",
    "    tol=0.,\n",
    "    max_iter=500,\n",
    "    max_time=10,\n",
    "    report_every=20\n",
    ")\n"
   ],
   "outputs": []
  },
  {
   "cell_type": "code",
   "source": [
    "dd_sgdw.hist"
   ],
   "metadata": {
    "collapsed": false,
    "ExecuteTime": {
     "end_time": "2024-04-18T01:56:49.911570Z",
     "start_time": "2024-04-18T01:56:49.906172Z"
    }
   },
   "execution_count": 27,
   "outputs": []
  },
  {
   "cell_type": "code",
   "source": [
    "\n"
   ],
   "metadata": {
    "collapsed": false,
    "ExecuteTime": {
     "end_time": "2024-04-18T01:56:49.917074Z",
     "start_time": "2024-04-18T01:56:49.914107Z"
    }
   },
   "execution_count": 27,
   "outputs": []
  },
  {
   "cell_type": "code",
   "source": [
    "# from bwb.sgdw.plotters import PlotterComparison\n",
    "\n",
    "# plotter = PlotterComparison(dd_sgdw)\n",
    "\n",
    "print(dd_sgdw.iter_params)\n",
    "bar, hist = dd_sgdw.run(\n",
    "    pos_wgt_hist=True,\n",
    "    distr_samp_hist=True,\n",
    ")\n",
    "# out, out2 = dd_sgdw.run(pos_wgt_hist=True, distr_hist=True)\n",
    "print(dd_sgdw.iter_params)\n",
    "pos_wgt_hist, distr_samp_hist = hist.pos_wgt, hist.distr_samp"
   ],
   "metadata": {
    "ExecuteTime": {
     "end_time": "2024-04-18T01:57:00.268455Z",
     "start_time": "2024-04-18T01:56:49.922670Z"
    }
   },
   "execution_count": 28,
   "outputs": []
  },
  {
   "cell_type": "code",
   "source": [
    "import matplotlib.pyplot as plt\n",
    "\n",
    "row, col = 3, 12\n",
    "factor = 1.5\n",
    "\n",
    "fig, axes = plt.subplots(row, col, figsize=(col * factor, row * factor), subplot_kw={\"xticks\": [], \"yticks\": []})\n",
    "\n",
    "fig.suptitle(\"TITULO\")\n",
    "\n",
    "for j in range(col):\n",
    "    img: DistributionDraw = hist.distr_samp[j][0]\n",
    "    ax1, ax2, ax3 = axes[0, j], axes[1, j], axes[2, j]\n",
    "    # ax1.set_axis_off()\n",
    "    if j == 0:\n",
    "        ax1.set_ylabel(\"Abcde\")\n",
    "        ax2.set_ylabel(\"Fghi\")\n",
    "        ax3.set_ylabel(\"Jklm\")\n",
    "\n",
    "    ax1.imshow(img.image, cmap=\"binary\")\n",
    "    ax2.imshow(img.image, cmap=\"binary_r\")\n",
    "    ax3.imshow(img.image, cmap=\"binary_r\")\n",
    "    ax1.set_title(f\"$k={j}$\")\n",
    "    ax3.set_title(f\"$k={j}$\")\n",
    "\n",
    "plt.tight_layout(w_pad=0.1)"
   ],
   "metadata": {
    "collapsed": false,
    "ExecuteTime": {
     "end_time": "2024-04-18T01:57:01.961477Z",
     "start_time": "2024-04-18T01:57:00.271121Z"
    }
   },
   "execution_count": 29,
   "outputs": []
  },
  {
   "cell_type": "code",
   "source": [
    "img.image"
   ],
   "metadata": {
    "collapsed": false,
    "ExecuteTime": {
     "end_time": "2024-04-18T01:57:01.970973Z",
     "start_time": "2024-04-18T01:57:01.963540Z"
    }
   },
   "execution_count": 30,
   "outputs": []
  },
  {
   "cell_type": "code",
   "execution_count": 31,
   "metadata": {
    "ExecuteTime": {
     "end_time": "2024-04-18T01:57:01.978551Z",
     "start_time": "2024-04-18T01:57:01.973514Z"
    }
   },
   "source": [
    "dd_sgdw.iter_params"
   ],
   "outputs": []
  },
  {
   "cell_type": "code",
   "execution_count": 32,
   "metadata": {
    "ExecuteTime": {
     "end_time": "2024-04-18T01:57:02.069319Z",
     "start_time": "2024-04-18T01:57:01.980790Z"
    }
   },
   "source": [
    "DistributionDraw.from_discrete_distribution(bar, shape)"
   ],
   "outputs": []
  },
  {
   "cell_type": "markdown",
   "metadata": {},
   "source": [
    "### Primeras iteraciones"
   ]
  },
  {
   "cell_type": "code",
   "execution_count": 33,
   "metadata": {
    "ExecuteTime": {
     "end_time": "2024-04-18T01:57:05.459295Z",
     "start_time": "2024-04-18T01:57:02.071503Z"
    }
   },
   "source": [
    "utils.plot_list_of_draws([DistributionDraw(m, shape, X) for (X, m) in pos_wgt_hist[:36]], max_images=36)"
   ],
   "outputs": []
  },
  {
   "cell_type": "code",
   "execution_count": 34,
   "metadata": {
    "ExecuteTime": {
     "end_time": "2024-04-18T01:57:05.822729Z",
     "start_time": "2024-04-18T01:57:05.461056Z"
    }
   },
   "source": [
    "utils.plot_list_of_draws([x[0] for x in distr_samp_hist[:33]], max_images=33)"
   ],
   "outputs": []
  },
  {
   "cell_type": "markdown",
   "metadata": {},
   "source": [
    "### Últimas iteraciones"
   ]
  },
  {
   "cell_type": "code",
   "execution_count": 35,
   "metadata": {
    "ExecuteTime": {
     "end_time": "2024-04-18T01:57:09.275367Z",
     "start_time": "2024-04-18T01:57:05.824482Z"
    }
   },
   "source": [
    "utils.plot_list_of_draws([DistributionDraw(m, shape, X) for (X, m) in pos_wgt_hist[-36:]], max_images=36)"
   ],
   "outputs": []
  },
  {
   "cell_type": "code",
   "execution_count": 36,
   "metadata": {
    "ExecuteTime": {
     "end_time": "2024-04-18T01:57:09.426630Z",
     "start_time": "2024-04-18T01:57:09.277253Z"
    }
   },
   "source": [
    "utils.plot_list_of_draws([x[0] for x in distr_samp_hist[-33:]], max_images=33)"
   ],
   "outputs": []
  },
  {
   "cell_type": "markdown",
   "metadata": {},
   "source": [
    "## Baricentro utilizando la GAN"
   ]
  },
  {
   "cell_type": "code",
   "execution_count": 37,
   "metadata": {
    "ExecuteTime": {
     "end_time": "2024-04-18T01:57:09.551288Z",
     "start_time": "2024-04-18T01:57:09.429251Z"
    }
   },
   "source": [
    "from wgan_gp.wgan_gp_vae.model_resnet import Generator, Encoder, LatentDistribution\n",
    "import torch\n",
    "\n",
    "device = torch.device(\"cuda\" if torch.cuda.is_available() else \"cpu\")\n",
    "\n",
    "NOISE = \"norm\"\n",
    "LATENT_DIM = 128\n",
    "CHANNELS_IMG = 1\n",
    "NUM_FILTERS = [256, 128, 64, 32]\n",
    "\n",
    "G = Generator(LATENT_DIM, CHANNELS_IMG, latent_distr=NOISE).to(device)\n",
    "E = Encoder(LATENT_DIM, CHANNELS_IMG).to(device)\n",
    "noise_sampler = LatentDistribution(NOISE, LATENT_DIM, device)\n",
    "\n",
    "CURR_PATH = Path(\".\")\n",
    "NETS_PATH = CURR_PATH / \"wgan_gp\" / \"networks\"\n",
    "\n",
    "FACE_PATH = NETS_PATH / f\"cleaned_clustered_zDim128_norm_bs_128\"\n",
    "# FACE_PATH = NETS_PATH / f\"_resnet_face_zDim{LATENT_DIM}_{NOISE}_bs_128_cleaned_augmented_WAE_WGAN_loss_l1_32p32\"\n",
    "# FACE_PATH = NETS_PATH / f\"_resnet_face_zDim{LATENT_DIM}_{NOISE}_bs_128_cleaned_sin_contorno_augmented_WAE_WGAN_loss_l1_32p32\"\n",
    "\n",
    "from wgan_gp.wgan_gp_vae.utils import load_checkpoint\n",
    "\n",
    "load_checkpoint(G, FACE_PATH, \"generator\", device)\n",
    "load_checkpoint(E, FACE_PATH, \"encoder\", device)\n",
    "\n",
    "G.eval();\n",
    "E.eval()\n",
    "print()"
   ],
   "outputs": []
  },
  {
   "cell_type": "code",
   "execution_count": 38,
   "metadata": {
    "ExecuteTime": {
     "end_time": "2024-04-18T01:57:09.559911Z",
     "start_time": "2024-04-18T01:57:09.553992Z"
    }
   },
   "source": [
    "noise_sampler"
   ],
   "outputs": []
  },
  {
   "cell_type": "code",
   "execution_count": 39,
   "metadata": {
    "ExecuteTime": {
     "end_time": "2024-04-18T01:57:09.566742Z",
     "start_time": "2024-04-18T01:57:09.562015Z"
    }
   },
   "source": [
    "z_ = torch.zeros((1,), device=\"cuda\")\n",
    "# # z = G.sample_noise(100, type_as=z_)\n",
    "# G_script = torch.jit.script(G)\n",
    "# # G_script(z)\n",
    "# G, G_ = torch.jit.freeze(G_script), G\n",
    "# G\n",
    "G_ = G"
   ],
   "outputs": []
  },
  {
   "cell_type": "code",
   "execution_count": 40,
   "metadata": {
    "ExecuteTime": {
     "end_time": "2024-04-18T01:57:09.581993Z",
     "start_time": "2024-04-18T01:57:09.570267Z"
    }
   },
   "source": [
    "with torch.cuda.amp.autocast():\n",
    "    z = noise_sampler(1)\n",
    "    print(z.dtype)"
   ],
   "outputs": []
  },
  {
   "cell_type": "code",
   "execution_count": 41,
   "metadata": {
    "ExecuteTime": {
     "end_time": "2024-04-18T01:57:10.063598Z",
     "start_time": "2024-04-18T01:57:09.584185Z"
    }
   },
   "source": [
    "from bwb.distributions import DistributionDraw\n",
    "from torchvision import disable_beta_transforms_warning\n",
    "\n",
    "disable_beta_transforms_warning()\n",
    "\n",
    "import torchvision.transforms.v2 as T\n",
    "\n",
    "with torch.cuda.amp.autocast():\n",
    "    z = noise_sampler(1)\n",
    "    m = G(z)\n",
    "    print(m.dtype)\n",
    "print(m.dtype)\n",
    "transform_in = T.Compose(\n",
    "    [\n",
    "        T.Lambda(lambda x: x / torch.max(x)),\n",
    "        T.ToPILImage(),\n",
    "        T.Resize(32),\n",
    "        T.ToImageTensor(),\n",
    "        T.ConvertImageDtype(torch.float32),\n",
    "        T.Normalize((0.5,), (0.5,)),\n",
    "    ]\n",
    ")\n",
    "transform_out = T.Compose(\n",
    "    [\n",
    "        T.ToDtype(torch.float64),\n",
    "        T.Lambda(lambda x: x.squeeze()),\n",
    "        T.Lambda(lambda x: x - torch.min(x)),\n",
    "        T.Lambda(lambda x: x / torch.sum(x)),\n",
    "        T.Lambda(lambda x: DistributionDraw.from_grayscale_weights(x)),\n",
    "    ]\n",
    ")\n",
    "out: DistributionDraw = transform_out(m)\n",
    "print(out.dtype)\n",
    "out"
   ],
   "outputs": []
  },
  {
   "cell_type": "code",
   "execution_count": 42,
   "metadata": {
    "ExecuteTime": {
     "end_time": "2024-04-18T01:57:10.070906Z",
     "start_time": "2024-04-18T01:57:10.065341Z"
    }
   },
   "source": [
    "\n",
    "z = noise_sampler(1)\n",
    "for v in z:\n",
    "    print(v.unsqueeze(0).shape)\n"
   ],
   "outputs": []
  },
  {
   "cell_type": "code",
   "execution_count": 43,
   "metadata": {
    "ExecuteTime": {
     "end_time": "2024-04-18T01:57:10.164730Z",
     "start_time": "2024-04-18T01:57:10.072862Z"
    }
   },
   "source": [
    "pi_n: GeneratorDistribSampler[DistributionDraw] = GeneratorDistribSampler()\n",
    "pi_n.fit(generator=G, noise_sampler=noise_sampler, transform_out=transform_out)\n",
    "pi_n.draw()"
   ],
   "outputs": []
  },
  {
   "cell_type": "code",
   "execution_count": 44,
   "metadata": {
    "ExecuteTime": {
     "end_time": "2024-04-18T01:57:10.182782Z",
     "start_time": "2024-04-18T01:57:10.166473Z"
    }
   },
   "source": [
    "pi_n.draw()"
   ],
   "outputs": []
  },
  {
   "cell_type": "code",
   "execution_count": 45,
   "metadata": {
    "ExecuteTime": {
     "end_time": "2024-04-18T01:57:10.508018Z",
     "start_time": "2024-04-18T01:57:10.185300Z"
    }
   },
   "source": [
    "mu_k, dist_hist, samples_hist = sgdw.sgdw.compute_bwb_distribution_draw(\n",
    "    distrib_sampler=pi_n,\n",
    "    learning_rate=Gamma(**params),\n",
    "    reg=3e-3,\n",
    "    max_iter=100,\n",
    "    max_time=1,\n",
    "    distribution_history=True,\n",
    "    distrib_sampler_history=True,\n",
    ")"
   ],
   "outputs": []
  },
  {
   "cell_type": "code",
   "execution_count": null,
   "metadata": {},
   "source": [
    "max_images = 22 * 4\n",
    "utils.plot_list_of_draws(dist_hist, max_images=max_images)"
   ],
   "outputs": []
  },
  {
   "cell_type": "code",
   "execution_count": null,
   "metadata": {},
   "source": [
    "utils.plot_list_of_draws([x[0] for x in samples_hist], max_images=max_images)"
   ],
   "outputs": []
  },
  {
   "cell_type": "code",
   "execution_count": null,
   "metadata": {},
   "source": [
    "utils.plot_list_of_draws(dist_hist[-max_images:], max_images=max_images)"
   ],
   "outputs": []
  },
  {
   "cell_type": "code",
   "execution_count": null,
   "metadata": {},
   "source": [
    "utils.plot_list_of_draws([x[0] for x in samples_hist[-max_images:]], max_images=max_images)"
   ],
   "outputs": []
  },
  {
   "cell_type": "markdown",
   "metadata": {},
   "source": [
    "## Baricentro utilizando la GAN, y utilizando la clase"
   ]
  },
  {
   "cell_type": "code",
   "execution_count": 46,
   "metadata": {
    "ExecuteTime": {
     "end_time": "2024-04-18T01:57:32.925999Z",
     "start_time": "2024-04-18T01:57:32.913590Z"
    }
   },
   "source": [
    "dist_draw_sgdw = sgdw.DebiesedDistributionDrawSGDW(\n",
    "    distr_sampler=pi_n,\n",
    "    learning_rate=Gamma(**params),\n",
    "    max_iter=500,\n",
    "    # max_time=10,\n",
    "    report_every=10,\n",
    ")\n",
    "dist_draw_sgdw.det_params"
   ],
   "outputs": []
  },
  {
   "cell_type": "code",
   "source": [
    "from bwb.sgdw.plotters import Plotter\n",
    "from bwb.distributions import DistributionDraw\n",
    "from bwb.sgdw.sgdw import BaseSGDW\n",
    "from bwb.utils import _DistributionT\n",
    "from bwb.sgdw.utils import _PosWgt\n",
    "\n",
    "\n",
    "# noinspection PyShadowingNames\n",
    "class PlotterComparison(Plotter[DistributionDraw, torch.Tensor]):\n",
    "\n",
    "    def __init__(\n",
    "        self,\n",
    "        sgdw: BaseSGDW[_DistributionT, _PosWgt],\n",
    "        plot_every=50,\n",
    "        n_cols=12,\n",
    "        n_rows=1,\n",
    "        factor=1.5,\n",
    "        cmap=\"binary\"\n",
    "    ):\n",
    "        super().__init__(sgdw, plot_every, n_cols, n_rows, factor, cmap)\n",
    "        if n_rows * n_cols > plot_every:\n",
    "            msg = f\"'plot_every' should not be less than n_rows * n_cols. Currently: {plot_every = } < {n_rows * n_cols = }\"\n",
    "            raise ValueError(msg)\n",
    "        self.pos_wgt_hist = True\n",
    "        self.pos_wgt_samp_hist = True\n",
    "\n",
    "    def plot(self, init: int = None):\n",
    "        create_distr = self.sgdw.create_distribution\n",
    "        max_imgs = self.n_rows * self.n_cols\n",
    "        max_k = self.sgdw.iter_params.k\n",
    "        init = max_k - max_imgs + 1 if init is None else init\n",
    "\n",
    "        row, col = self.n_rows * 2, self.n_cols\n",
    "\n",
    "        fig, ax = plt.subplots(\n",
    "            row, col, figsize=(col * self.factor, row * self.factor),\n",
    "            subplot_kw={\"xticks\": [], \"yticks\": []}\n",
    "        )\n",
    "\n",
    "        fig.suptitle(\"SGDW\")\n",
    "\n",
    "        for i in range(self.n_rows):\n",
    "            for j in range(self.n_cols):\n",
    "                k = init + j + i * self.n_cols\n",
    "                # print(f\"{i = }, {j = }, {k = }\")\n",
    "                ax0, ax1 = ax[i * 2, j], ax[i * 2 + 1, j]\n",
    "\n",
    "                # Label the y-axis\n",
    "                if j == 0:\n",
    "                    ax0.set_ylabel(\"Sample\")\n",
    "                    ax1.set_ylabel(\"Step\")\n",
    "\n",
    "                # Plot the sample\n",
    "                fig_sample: DistributionDraw = create_distr(hist.pos_wgt_samp[k][0])\n",
    "                ax0.imshow(fig_sample.image, cmap=self.cmap)\n",
    "                ax0.set_title(f\"$k={k}$\")\n",
    "\n",
    "                # Plot the step\n",
    "                fig_step: DistributionDraw = create_distr(hist.pos_wgt[k])\n",
    "                ax1.imshow(fig_step.image, cmap=self.cmap)\n",
    "\n",
    "        plt.tight_layout(pad=0.3)\n",
    "\n",
    "        plt.show()\n",
    "\n",
    "        return fig, ax\n",
    "\n",
    "\n",
    "dist_draw_sgdw = sgdw.DebiesedDistributionDrawSGDW(\n",
    "    distr_sampler=pi_n,\n",
    "    step_scheduler=Gamma(**params),\n",
    "    max_iter=100,\n",
    "    # max_time=10,\n",
    "    report_every=10,\n",
    ").set_geodesic_params(\n",
    "    reg=0.01,\n",
    "    stop_thr=1e-3,\n",
    ")\n",
    "\n",
    "plotter = PlotterComparison(dist_draw_sgdw, plot_every=30, n_cols=12, n_rows=2, cmap=\"binary_r\")\n",
    "\n",
    "bar, hist = plotter.run(\n",
    "    # distr_hist=True,\n",
    "    # distr_samp_hist=True,\n",
    "    include_dict=dict(total_time=True),\n",
    "    # include_time=True,\n",
    ")\n",
    "dist_hist, samples_hist = hist.distr, hist.distr_samp"
   ],
   "metadata": {
    "collapsed": false,
    "ExecuteTime": {
     "end_time": "2024-04-18T02:40:43.381377Z",
     "start_time": "2024-04-18T02:40:13.611269Z"
    }
   },
   "execution_count": 71,
   "outputs": []
  },
  {
   "cell_type": "code",
   "source": [
    "fig, _ = plotter.plot(10)"
   ],
   "metadata": {
    "collapsed": false,
    "ExecuteTime": {
     "end_time": "2024-04-18T02:43:24.648146Z",
     "start_time": "2024-04-18T02:43:22.642739Z"
    }
   },
   "execution_count": 72,
   "outputs": []
  },
  {
   "cell_type": "code",
   "execution_count": 50,
   "metadata": {
    "ExecuteTime": {
     "end_time": "2024-04-18T01:59:32.559969Z",
     "start_time": "2024-04-18T01:59:22.960402Z"
    }
   },
   "source": [
    "dist_draw_sgdw.set_geodesic_params(\n",
    "    reg=0.01,\n",
    "    stop_thr=1e-3,\n",
    ")\n",
    "\n",
    "plotter = PlotterComparison(dist_draw_sgdw, plot_every=30, n_rows=2, cmap=\"binary_r\")\n",
    "\n",
    "bar, hist = plotter.run(\n",
    "    distr_hist=True,\n",
    "    distr_samp_hist=True,\n",
    "    include_dict=dict(total_time=True),\n",
    "    # include_time=True,\n",
    ")\n",
    "dist_hist, samples_hist = hist.distr, hist.distr_samp"
   ],
   "outputs": []
  },
  {
   "cell_type": "code",
   "execution_count": 59,
   "metadata": {},
   "source": [
    "Gamma(**params)(10000)"
   ],
   "outputs": []
  },
  {
   "cell_type": "code",
   "execution_count": 47,
   "metadata": {},
   "source": [
    "import ot\n",
    "\n",
    "ot.__version__"
   ],
   "outputs": []
  },
  {
   "cell_type": "code",
   "execution_count": 48,
   "metadata": {},
   "source": [
    "bar"
   ],
   "outputs": []
  },
  {
   "cell_type": "code",
   "execution_count": 49,
   "metadata": {},
   "source": [
    "max_images = 22 * 4\n",
    "utils.plot_list_of_draws(dist_hist, max_images=max_images)"
   ],
   "outputs": []
  },
  {
   "cell_type": "code",
   "execution_count": 50,
   "metadata": {},
   "source": [
    "utils.plot_list_of_draws([x[0] for x in samples_hist], max_images=max_images)"
   ],
   "outputs": []
  },
  {
   "cell_type": "code",
   "execution_count": 51,
   "metadata": {},
   "source": [
    "utils.plot_list_of_draws(dist_hist[-max_images:], max_images=max_images)"
   ],
   "outputs": []
  },
  {
   "cell_type": "code",
   "execution_count": 52,
   "metadata": {},
   "source": [
    "utils.plot_list_of_draws([x[0] for x in samples_hist[-max_images:]], max_images=max_images)"
   ],
   "outputs": []
  },
  {
   "cell_type": "code",
   "execution_count": null,
   "metadata": {},
   "source": [],
   "outputs": []
  },
  {
   "cell_type": "code",
   "execution_count": null,
   "metadata": {},
   "source": [],
   "outputs": []
  },
  {
   "cell_type": "code",
   "execution_count": null,
   "metadata": {},
   "source": [],
   "outputs": []
  },
  {
   "cell_type": "code",
   "execution_count": null,
   "metadata": {},
   "source": [],
   "outputs": []
  },
  {
   "cell_type": "code",
   "execution_count": 85,
   "metadata": {},
   "source": [
    "# X_k, m, pos_hist, samples_hist = sgdw.compute_bwb_discrete_distribution(\n",
    "#     transport=transport,\n",
    "#     distrib_sampler=pi_n,\n",
    "#     learning_rate=Gamma(**params),\n",
    "#     batch_size=1,\n",
    "#     alpha=1e-6,\n",
    "#     tol=0.,\n",
    "#     max_iter=500,\n",
    "#     max_time=30,\n",
    "#     position_history=True,\n",
    "#     distrib_sampler_history=True,\n",
    "#     report_every=20\n",
    "# )"
   ],
   "outputs": []
  },
  {
   "cell_type": "markdown",
   "metadata": {},
   "source": [
    "### Primeras iteraciones"
   ]
  },
  {
   "cell_type": "code",
   "execution_count": 86,
   "metadata": {},
   "source": [
    "# utils.plot_list_of_draws([DistributionDraw(m, shape, X) for X in pos_hist[:36]], max_images=36)"
   ],
   "outputs": []
  },
  {
   "cell_type": "code",
   "execution_count": 87,
   "metadata": {},
   "source": [
    "# utils.plot_list_of_draws([x[0] for x in samples_hist], max_images=33)"
   ],
   "outputs": []
  },
  {
   "cell_type": "markdown",
   "metadata": {},
   "source": [
    "# Baricentro usando métodos convolucionales, con 50 caras, 3 datos"
   ]
  },
  {
   "cell_type": "code",
   "execution_count": null,
   "metadata": {},
   "source": [
    "mu_k, dist_hist, samples_hist = sgdw.compute_bwb_distribution_draw(\n",
    "    distrib_sampler=pi_n,\n",
    "    learning_rate=Gamma(**params),\n",
    "    reg=3e-3,\n",
    "    max_iter=500,\n",
    "    max_time=30,\n",
    "    distribution_history=True,\n",
    "    distrib_sampler_history=True,\n",
    ")"
   ],
   "outputs": []
  },
  {
   "cell_type": "code",
   "execution_count": null,
   "metadata": {},
   "source": [
    "max_images = 38\n",
    "utils.plot_list_of_draws(dist_hist, max_images=max_images)"
   ],
   "outputs": []
  },
  {
   "cell_type": "code",
   "execution_count": null,
   "metadata": {},
   "source": [
    "utils.plot_list_of_draws([x[0] for x in samples_hist], max_images=max_images)"
   ],
   "outputs": []
  },
  {
   "cell_type": "code",
   "execution_count": null,
   "metadata": {},
   "source": [
    "utils.plot_list_of_draws(dist_hist[-max_images:], max_images=max_images)"
   ],
   "outputs": []
  },
  {
   "cell_type": "code",
   "execution_count": null,
   "metadata": {},
   "source": [
    "utils.plot_list_of_draws([x[0] for x in samples_hist[-max_images:]], max_images=max_images)"
   ],
   "outputs": []
  },
  {
   "cell_type": "markdown",
   "metadata": {},
   "source": [
    "# Baricentro usando métodos convolucionales y proyección sobre la variedad, con 50 caras, 3 datos"
   ]
  },
  {
   "cell_type": "code",
   "execution_count": null,
   "metadata": {},
   "source": [
    "import torch\n",
    "from wgan_gp.wgan_gp_vae.model import Generator, Encoder\n",
    "from wgan_gp.wgan_gp_vae.utils import load_checkpoint\n",
    "from wgan_gp.wgan_gp_vae.utils import ProjectorOnManifold\n",
    "import torchvision.transforms as transforms\n",
    "\n",
    "device = torch.device(\"cuda\" if torch.cuda.is_available() else \"cpu\")\n",
    "\n",
    "LATENT_DIM = 100\n",
    "CHANNELS_IMG = 1\n",
    "NUM_FILTERS = [256, 128, 64, 32]\n",
    "\n",
    "G = Generator(LATENT_DIM, CHANNELS_IMG, NUM_FILTERS).to(device)\n",
    "E = Encoder(LATENT_DIM, CHANNELS_IMG, NUM_FILTERS[::-1]).to(device)\n",
    "\n",
    "CURR_PATH = Path(\".\")\n",
    "NETS_PATH = CURR_PATH / \"wgan_gp\" / \"networks\"\n",
    "FACE_PATH = NETS_PATH / \"face\"\n",
    "\n",
    "DATA_PATH = CURR_PATH / \"data\" / \"face.npy\"\n",
    "\n",
    "load_checkpoint(G, FACE_PATH, \"generator\", device)\n",
    "load_checkpoint(E, FACE_PATH, \"encoder\", device)\n",
    "\n",
    "proj = ProjectorOnManifold(\n",
    "    E, G,\n",
    "    transform_in=transforms.Compose(\n",
    "        [\n",
    "            # From pdf to grayscale\n",
    "            transforms.Lambda(lambda x: x / torch.max(x)),\n",
    "            transforms.ToPILImage(),\n",
    "            transforms.Resize((64, 64)),\n",
    "            transforms.ToTensor(),\n",
    "            transforms.Normalize(\n",
    "                [0.5 for _ in range(1)],\n",
    "                [0.5 for _ in range(1)],\n",
    "            ),\n",
    "        ]\n",
    "    ),\n",
    "    transform_out=transforms.Compose(\n",
    "        [\n",
    "            # Ensure the range is in [0, 1]\n",
    "            transforms.Lambda(lambda x: x - torch.min(x)),\n",
    "            transforms.Lambda(lambda x: x / torch.max(x)),\n",
    "            transforms.ToPILImage(),\n",
    "            transforms.Resize((28, 28)),\n",
    "            transforms.ToTensor(),\n",
    "            transforms.Lambda(lambda x: x / torch.sum(x)),\n",
    "            transforms.Lambda(lambda x: x.squeeze(0)),\n",
    "        ]\n",
    "    )\n",
    ")"
   ],
   "outputs": []
  },
  {
   "cell_type": "code",
   "execution_count": null,
   "metadata": {},
   "source": [
    "mu_k, dist_hist, samples_hist = sgdw.compute_bwb_distribution_draw_projected(\n",
    "    distrib_sampler=pi_n,\n",
    "    projector=proj,\n",
    "    learning_rate=Gamma(**params),\n",
    "    reg=2e-3,\n",
    "    max_iter=500,\n",
    "    max_time=30,\n",
    "    distribution_history=True,\n",
    "    distrib_sampler_history=True,\n",
    ")"
   ],
   "outputs": []
  },
  {
   "cell_type": "code",
   "execution_count": null,
   "metadata": {},
   "source": [
    "max_images = 17 * 3\n",
    "utils.plot_list_of_draws(dist_hist, max_images=max_images)"
   ],
   "outputs": []
  },
  {
   "cell_type": "code",
   "execution_count": null,
   "metadata": {},
   "source": [
    "utils.plot_list_of_draws([x[0] for x in samples_hist], max_images=max_images)"
   ],
   "outputs": []
  },
  {
   "cell_type": "code",
   "execution_count": null,
   "metadata": {},
   "source": [
    "utils.plot_list_of_draws(dist_hist[-max_images:], max_images=max_images)"
   ],
   "outputs": []
  },
  {
   "cell_type": "code",
   "execution_count": null,
   "metadata": {},
   "source": [
    "utils.plot_list_of_draws([x[0] for x in samples_hist[-max_images:]], max_images=max_images)"
   ],
   "outputs": []
  },
  {
   "attachments": {},
   "cell_type": "markdown",
   "metadata": {
    "pycharm": {
     "name": "#%% md\n"
    }
   },
   "source": []
  },
  {
   "cell_type": "code",
   "execution_count": null,
   "metadata": {
    "pycharm": {
     "name": "#%%\n"
    }
   },
   "source": [
    "%%time\n",
    "geod = BarycentricProjGeodesic(EMDTransport(max_iter=250_000))\n",
    "eps = 0.\n",
    "max_time_iter = 10\n",
    "max_iter = float(\"inf\")\n",
    "alpha = 1\n",
    "\n",
    "# Camino de baricentros\n",
    "position_historial = []\n",
    "\n",
    "# Paso 1: samplear un mu_0\n",
    "mu_0 = pi_n.draw()\n",
    "\n",
    "# Calcular las masas y ubicaciones\n",
    "X_k, m = utils.partition(X=mu_0.enumerate_nz_support_(), mu=mu_0.nz_probs, alpha=alpha)\n",
    "position_historial.append(X_k)\n",
    "\n",
    "_log.debug(f\"{len(X_k) = }\")\n",
    "\n",
    "k = 0\n",
    "tic, toc = time.time(), time.time()\n",
    "\n",
    "while k < max_iter and toc - tic < max_time_iter:\n",
    "    _log.debug(\"=\" * 10 + f\" {k = }, Δt = {toc - tic:.4f} [seg] \" + \"=\" * 10)\n",
    "    # Paso 2: Samplear \\tilde\\mu_k\n",
    "    t_mu_k: DistributionDraw = pi_n.draw()\n",
    "    t_X_k, t_m_k = t_mu_k.enumerate_nz_support_(), t_mu_k.nz_probs\n",
    "\n",
    "    # Calcular transporte óptimo\n",
    "    geod.fit(\n",
    "        Xs=X_k, mu_s=m,\n",
    "        Xt=t_X_k, mu_t=t_m_k,\n",
    "    )\n",
    "    T_X_k = geod.transport.transform(X_k)\n",
    "    _log.debug(f\"{T_X_k.shape = }\")\n",
    "\n",
    "    # Calcular la distribución de mu_{k+1}\n",
    "    gamma_k = gamma(k);\n",
    "    _log.debug(f\"{gamma_k = :.6f}\")\n",
    "    X_kp1, _ = geod.interpolate(gamma_k)\n",
    "    _log.debug(f\"{X_kp1.shape = }\")\n",
    "\n",
    "    # Calcular la distancia de Wasserstein\n",
    "    diff = X_k - T_X_k\n",
    "    dist = float((gamma_k ** 2) * torch.sum(m * LA.norm(diff, dim=1) ** 2))\n",
    "    _log.debug(f\"{dist = :.8f}\")\n",
    "\n",
    "    while dist < eps:\n",
    "        break\n",
    "\n",
    "    position_historial.append(X_kp1)\n",
    "\n",
    "    k += 1\n",
    "    X_k = X_kp1\n",
    "    toc = time.time()"
   ],
   "outputs": []
  },
  {
   "cell_type": "code",
   "execution_count": null,
   "metadata": {
    "pycharm": {
     "name": "#%%\n"
    }
   },
   "source": [
    "eps = 0.\n",
    "alpha = 1. / 10\n",
    "transp = EMDTransport()\n",
    "max_time_iter = 10  # 60 * 60  # Una hora\n",
    "max_iter = float(\"inf\")\n",
    "\n",
    "# Camino de baricentros\n",
    "position_historial = []\n",
    "\n",
    "# Paso 1: samplear un mu_0\n",
    "mu_0 = pi_n.draw()\n",
    "\n",
    "# Calcular las masas y ubicaciones\n",
    "X, m_ = [], []\n",
    "min_w, max_w = mu_0.nz_probs.min(), mu_0.nz_probs.max()\n",
    "\n",
    "for x, w, n in zip(\n",
    "    mu_0.enumerate_nz_support_(), mu_0.nz_probs,\n",
    "    torch.ceil(alpha * mu_0.nz_probs / min_w).to(int)\n",
    "):\n",
    "    for _ in range(n):\n",
    "        X.append(x.reshape(1, -1))\n",
    "        m_.append(w / n)\n",
    "\n",
    "X_k = torch.cat(X, 0)\n",
    "m = torch.as_tensor(m_, dtype=mu_0.dtype, device=mu_0.device)\n",
    "position_historial.append(X_k)\n",
    "\n",
    "_log.debug(f\"{len(X_k) = }\")\n",
    "\n",
    "k = 0\n",
    "\n",
    "tic, toc = time.time(), time.time()\n",
    "\n",
    "while k < max_iter and toc - tic < max_time_iter:\n",
    "    _log.debug(\"\\n\" + \"=\" * 10 + f\" {k = }, Δt = {toc - tic:.4f} [seg] \" + \"=\" * 10)\n",
    "    # Paso 2: Samplear \\tilde\\mu_k\n",
    "    t_mu_k: DistributionDraw = pi_n.draw()\n",
    "    t_X_k, t_m_k = t_mu_k.enumerate_nz_support_(), t_mu_k.nz_probs\n",
    "\n",
    "    # Calcular transporte óptimo\n",
    "    transp.fit(\n",
    "        Xs=X_k, mu_s=m,\n",
    "        Xt=t_X_k, mu_t=t_m_k,\n",
    "    )\n",
    "    T_X_k = transp.transform(X_k)\n",
    "    _log.debug(f\"{T_X_k.shape = }\")\n",
    "\n",
    "    # Calcular la distribución de mu_{k+1}\n",
    "    gamma_k = gamma(k);\n",
    "    _log.debug(f\"{gamma_k = :.6f}\")\n",
    "    X_kp1 = (\n",
    "                1 - gamma_k) * X_k + gamma_k * T_X_k  # Basta con calcular las transformaciones, porque los pesos son los mismos\n",
    "    _log.debug(f\"{X_kp1.shape = }\")\n",
    "\n",
    "    # Calcular la distancia de Wasserstein\n",
    "    diff = X_k - T_X_k\n",
    "    dist = float((gamma_k ** 2) * torch.sum(m * LA.norm(diff, dim=1) ** 2))\n",
    "    _log.debug(f\"{dist = :.8f}\")\n",
    "\n",
    "    while dist < eps:\n",
    "        break\n",
    "\n",
    "    position_historial.append(X_kp1)\n",
    "\n",
    "    k += 1\n",
    "    X_k = X_kp1\n",
    "    toc = time.time()"
   ],
   "outputs": []
  },
  {
   "cell_type": "code",
   "execution_count": null,
   "metadata": {
    "pycharm": {
     "name": "#%%\n"
    }
   },
   "source": [
    "reshaped_positions = []\n",
    "n_coord, n_dim = position_historial[0].shape\n",
    "for p in position_historial:\n",
    "    p_reshape = p.reshape(n_coord, 1, n_dim)\n",
    "    reshaped_positions.append(p_reshape)"
   ],
   "outputs": []
  },
  {
   "cell_type": "code",
   "execution_count": null,
   "metadata": {
    "pycharm": {
     "name": "#%%\n"
    }
   },
   "source": [
    "positions_historial_batch = torch.cat(reshaped_positions, dim=1)"
   ],
   "outputs": []
  },
  {
   "cell_type": "code",
   "execution_count": null,
   "metadata": {
    "pycharm": {
     "name": "#%%\n"
    }
   },
   "source": [
    "positions_historial_batch.shape"
   ],
   "outputs": []
  },
  {
   "cell_type": "code",
   "execution_count": null,
   "metadata": {
    "pycharm": {
     "name": "#%%\n"
    }
   },
   "source": [
    "import pickle\n",
    "from pathlib import Path\n",
    "import os\n",
    "\n",
    "SAVE = False\n",
    "\n",
    "PICKLES_PATH = Path(\"./pickles\")\n",
    "\n",
    "POSITION_HISTORIAL_PATH = PICKLES_PATH / \"postion_historial.dat\"\n",
    "WEIGHTS_PATH = PICKLES_PATH / \"weights.dat\"\n",
    "\n",
    "if not PICKLES_PATH.exists(): PICKLES_PATH.mkdir()\n",
    "\n",
    "if SAVE:\n",
    "    if POSITION_HISTORIAL_PATH.exists():\n",
    "        os.remove(POSITION_HISTORIAL_PATH)\n",
    "\n",
    "    if WEIGHTS_PATH.exists():\n",
    "        os.remove(WEIGHTS_PATH)\n",
    "\n",
    "    with POSITION_HISTORIAL_PATH.open(\"wb\") as f:\n",
    "        pickle.dump(positions_historial_batch, f)\n",
    "\n",
    "    with WEIGHTS_PATH.open(\"wb\") as f:\n",
    "        pickle.dump(m, f)\n",
    "\n",
    "PICKLES_PATH.exists()"
   ],
   "outputs": []
  },
  {
   "cell_type": "code",
   "execution_count": null,
   "metadata": {
    "pycharm": {
     "name": "#%%\n"
    }
   },
   "source": [
    "import pickle\n",
    "from pathlib import Path\n",
    "\n",
    "d = 2\n",
    "PICKLES_PATH = Path(\"./pickles\")\n",
    "POSITION_HISTORIAL_PATH = PICKLES_PATH / f\"postion_historial{d}.dat\"\n",
    "WEIGHTS_PATH = PICKLES_PATH / f\"weights{d}.dat\"\n",
    "\n",
    "with POSITION_HISTORIAL_PATH.open(\"rb\") as f:\n",
    "    new_position_historial = pickle.load(f)\n",
    "\n",
    "with WEIGHTS_PATH.open(\"rb\") as f:\n",
    "    m = pickle.load(f)\n",
    "\n",
    "new_position_historial, m"
   ],
   "outputs": []
  },
  {
   "cell_type": "code",
   "execution_count": null,
   "metadata": {
    "pycharm": {
     "name": "#%%\n"
    }
   },
   "source": [
    "len(new_position_historial)"
   ],
   "outputs": []
  },
  {
   "cell_type": "code",
   "execution_count": null,
   "metadata": {
    "pycharm": {
     "name": "#%%\n"
    }
   },
   "source": [
    "new_position_historial[0].shape, new_position_historial[1].shape, new_position_historial[2].shape"
   ],
   "outputs": []
  },
  {
   "cell_type": "code",
   "execution_count": null,
   "metadata": {
    "pycharm": {
     "name": "#%%\n"
    }
   },
   "source": [
    "new_position_historial = new_position_historial[1:]"
   ],
   "outputs": []
  },
  {
   "cell_type": "code",
   "execution_count": null,
   "metadata": {
    "pycharm": {
     "name": "#%%\n"
    }
   },
   "source": [
    "%%time\n",
    "reshaped_positions = []\n",
    "n_coord, n_dim = new_position_historial[0].shape\n",
    "for p in new_position_historial:\n",
    "    p_reshape = p.reshape(n_coord, 1, n_dim)\n",
    "    reshaped_positions.append(p_reshape)"
   ],
   "outputs": []
  },
  {
   "cell_type": "code",
   "execution_count": null,
   "metadata": {
    "pycharm": {
     "name": "#%%\n"
    }
   },
   "source": [
    "%%time\n",
    "positions_historial_batch = torch.cat(reshaped_positions, dim=1)"
   ],
   "outputs": []
  },
  {
   "cell_type": "code",
   "execution_count": null,
   "metadata": {
    "pycharm": {
     "name": "#%%\n"
    }
   },
   "source": [
    "positions_historial_batch.shape"
   ],
   "outputs": []
  },
  {
   "cell_type": "code",
   "execution_count": null,
   "metadata": {
    "pycharm": {
     "name": "#%%\n"
    }
   },
   "source": [
    "m.shape"
   ],
   "outputs": []
  },
  {
   "cell_type": "code",
   "execution_count": null,
   "metadata": {
    "pycharm": {
     "name": "#%%\n"
    }
   },
   "source": [
    "# position_historial = new_position_historial\n",
    "# position_historial[:, 0, :].shape"
   ],
   "outputs": []
  },
  {
   "cell_type": "code",
   "execution_count": null,
   "metadata": {
    "pycharm": {
     "name": "#%%\n"
    }
   },
   "source": [
    "# pos_hist_rounded = torch.round(positions_historial_batch)\n",
    "# pos_hist_ind = (pos_hist_rounded[:, :, 0] * m + pos_hist_rounded[:, :, 1]).to(int)\n",
    "# pos_hist_ind"
   ],
   "outputs": []
  },
  {
   "cell_type": "code",
   "execution_count": null,
   "metadata": {
    "pycharm": {
     "name": "#%%\n"
    }
   },
   "source": [
    "# pos_hist_ind.shape"
   ],
   "outputs": []
  },
  {
   "cell_type": "code",
   "execution_count": null,
   "metadata": {
    "pycharm": {
     "name": "#%%\n"
    }
   },
   "source": [
    "# m.shape"
   ],
   "outputs": []
  },
  {
   "cell_type": "code",
   "execution_count": null,
   "metadata": {
    "pycharm": {
     "name": "#%%\n"
    }
   },
   "source": [
    "# to_return = torch.zeros((13, 28*28))\n",
    "#\n",
    "# for w, p in zip(m, pos_hist_ind):\n",
    "#     for i, pp in enumerate(p):\n",
    "#         to_return[i, pp] += w"
   ],
   "outputs": []
  },
  {
   "cell_type": "code",
   "execution_count": null,
   "metadata": {
    "pycharm": {
     "name": "#%%\n"
    }
   },
   "source": [
    "# to_return.sum(1)"
   ],
   "outputs": []
  },
  {
   "cell_type": "code",
   "execution_count": null,
   "metadata": {
    "pycharm": {
     "name": "#%%\n"
    }
   },
   "source": [
    "def position_to_weights(positions, weights, shape):\n",
    "    positions, weights = torch.as_tensor(positions), torch.as_tensor(weights)\n",
    "\n",
    "    n, m = shape\n",
    "    n_coord, n_pos, n_dim = positions.shape\n",
    "\n",
    "    to_return = torch.zeros((n_pos, n * m))\n",
    "    pos_rounded = torch.round(positions)\n",
    "    pos_ind = (pos_rounded[:, :, 0] * m + pos_rounded[:, :, 1]).to(int)\n",
    "\n",
    "    for w, p in zip(weights, pos_ind):\n",
    "        for i, pp in enumerate(p):\n",
    "            to_return[i, pp] += w\n",
    "\n",
    "    return to_return\n",
    "\n",
    "\n",
    "# ptw = position_to_weights([[0, 0], [0, 0], [1, 0], [1, 1]], [0.2, 0.3, 0.1, 0.4], (2, 2))\n",
    "# ptw\n",
    "\n",
    "ptw = position_to_weights(positions_historial_batch[:, :10, :], m, (28, 28))"
   ],
   "outputs": []
  },
  {
   "cell_type": "code",
   "execution_count": null,
   "metadata": {
    "pycharm": {
     "name": "#%%\n"
    }
   },
   "source": [
    "def position_to_list_of_dd(positions, weights, shape, i, j):\n",
    "    return [DistributionDraw(w, shape) for w in position_to_weights(positions[:, i:j, :], weights, shape)]\n",
    "\n",
    "\n",
    "list_dd = position_to_list_of_dd(positions_historial_batch[:, :10, :], m, (28, 28), 0, 10)\n",
    "list_dd"
   ],
   "outputs": []
  },
  {
   "cell_type": "code",
   "execution_count": null,
   "metadata": {
    "pycharm": {
     "name": "#%%\n"
    }
   },
   "source": [
    "from bwb.utils import plot_list_of_draws\n",
    "\n",
    "list_dd = position_to_list_of_dd(positions_historial_batch, m, (28, 28), 0, 36)\n",
    "plot_list_of_draws(list_dd)"
   ],
   "outputs": []
  },
  {
   "cell_type": "code",
   "execution_count": null,
   "metadata": {
    "pycharm": {
     "name": "#%%\n"
    }
   },
   "source": [
    "list_dd = position_to_list_of_dd(positions_historial_batch, m, (28, 28), 36, 72)\n",
    "plot_list_of_draws(list_dd)"
   ],
   "outputs": []
  },
  {
   "cell_type": "code",
   "execution_count": null,
   "metadata": {
    "pycharm": {
     "name": "#%%\n"
    }
   },
   "source": [
    "list_dd = position_to_list_of_dd(positions_historial_batch, m, (28, 28), -37, -1)\n",
    "plot_list_of_draws(list_dd)"
   ],
   "outputs": []
  },
  {
   "cell_type": "code",
   "execution_count": null,
   "metadata": {
    "pycharm": {
     "name": "#%%\n"
    }
   },
   "source": [
    "n_coord, n_pos, n_dim = positions_historial_batch.shape\n",
    "to_return = torch.zeros((n_pos, 28 * 28))\n",
    "pos_rounded = torch.round(positions_historial_batch)\n",
    "pos_ind = (pos_rounded[:, :, 0] * 28 + pos_rounded[:, :, 1]).to(int)\n",
    "\n",
    "gen = zip(m, pos_ind)\n",
    "w, p = next(gen)\n",
    "w.shape, p.shape"
   ],
   "outputs": []
  },
  {
   "cell_type": "code",
   "execution_count": null,
   "metadata": {
    "pycharm": {
     "name": "#%%\n"
    }
   },
   "source": [
    "to_return[:, 0].shape"
   ],
   "outputs": []
  },
  {
   "cell_type": "code",
   "execution_count": null,
   "metadata": {
    "pycharm": {
     "name": "#%%\n"
    }
   },
   "source": [],
   "outputs": []
  },
  {
   "cell_type": "code",
   "execution_count": null,
   "metadata": {
    "pycharm": {
     "name": "#%%\n"
    }
   },
   "source": [
    "ptw"
   ],
   "outputs": []
  },
  {
   "cell_type": "code",
   "execution_count": null,
   "metadata": {
    "pycharm": {
     "name": "#%%\n"
    }
   },
   "source": [
    "%%time\n",
    "historial_bsgd = torch.concat([position_to_weights(p, m, (28, 28)).reshape((1, -1)) for p in new_position_historial], 0)"
   ],
   "outputs": []
  },
  {
   "cell_type": "code",
   "execution_count": null,
   "metadata": {
    "pycharm": {
     "name": "#%%\n"
    }
   },
   "source": [
    "dddl = DistributionDrawDataLoader(\n",
    "\n",
    ")"
   ],
   "outputs": []
  },
  {
   "cell_type": "code",
   "execution_count": null,
   "metadata": {
    "pycharm": {
     "name": "#%%\n"
    }
   },
   "source": [
    "arr = torch.arange(28 * 28)\n",
    "# arr = torch.reshape(arr, (28, 28))"
   ],
   "outputs": []
  },
  {
   "cell_type": "code",
   "execution_count": null,
   "metadata": {
    "pycharm": {
     "name": "#%%\n"
    }
   },
   "source": [
    "pos = torch.round(new_position_historial[-1][:10]).to(int)\n",
    "pos_ind = pos[:, 0] * 28 + pos[:, 1]\n",
    "# for p in map(tuple, pos):\n",
    "#     print(arr[p])\n",
    "# pos_ind\n",
    "\n",
    "arr[pos_ind]"
   ],
   "outputs": []
  }
 ],
 "metadata": {
  "kernelspec": {
   "display_name": "Python 3 (ipykernel)",
   "language": "python",
   "name": "python3"
  },
  "language_info": {
   "codemirror_mode": {
    "name": "ipython",
    "version": 3
   },
   "file_extension": ".py",
   "mimetype": "text/x-python",
   "name": "python",
   "nbconvert_exporter": "python",
   "pygments_lexer": "ipython3",
   "version": "3.10.12"
  }
 },
 "nbformat": 4,
 "nbformat_minor": 1
}
