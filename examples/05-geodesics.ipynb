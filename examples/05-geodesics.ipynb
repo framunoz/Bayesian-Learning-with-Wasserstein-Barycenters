{
 "cells": [
  {
   "cell_type": "markdown",
   "metadata": {
    "pycharm": {
     "name": "#%% md\n"
    }
   },
   "source": [
    "# Geodésicas\n",
    "Se buscará obtener las geodésicas y baricentros de la misma forma que en el ejemplo [Convolutional Wasserstein Barycenter](https://pythonot.github.io/auto_examples/barycenters/plot_convolutional_barycenter.html#sphx-glr-auto-examples-barycenters-plot-convolutional-barycenter-py), para luego obtener geodésicas implementadas en esta librería."
   ]
  },
  {
   "cell_type": "code",
   "execution_count": 24,
   "metadata": {
    "pycharm": {
     "name": "#%%\n"
    }
   },
   "outputs": [
    {
     "data": {
      "text/plain": "<Logger notebook (DEBUG)>"
     },
     "execution_count": 24,
     "metadata": {},
     "output_type": "execute_result"
    }
   ],
   "source": [
    "from pathlib import Path\n",
    "\n",
    "import matplotlib.pyplot as plt\n",
    "import numpy as np\n",
    "import ot\n",
    "import torch\n",
    "from PIL import Image\n",
    "# noinspection PyUnresolvedReferences\n",
    "from PIL.Image import Resampling\n",
    "\n",
    "# noinspection PyProtectedMember\n",
    "from bwb import logging\n",
    "from bwb import transports as tpt\n",
    "from bwb.distributions import *\n",
    "from bwb.geodesics import *\n",
    "\n",
    "_log = logging.get_logger(\"notebook\")\n",
    "logging.set_level(logging.DEBUG)\n",
    "_log"
   ]
  },
  {
   "cell_type": "code",
   "execution_count": 25,
   "metadata": {
    "pycharm": {
     "name": "#%%\n"
    }
   },
   "outputs": [],
   "source": [
    "main_path = Path(\"..\")\n",
    "\n",
    "data_path = main_path / \"data\"\n",
    "data_images_path = data_path / \"images\"\n",
    "shapes_path = data_images_path / \"shapes\"\n",
    "pot_shapes_path = data_images_path / \"pot_shapes\"\n",
    "\n",
    "img_path = Path(\"img\")"
   ]
  },
  {
   "cell_type": "code",
   "execution_count": 26,
   "metadata": {
    "pycharm": {
     "name": "#%%\n"
    }
   },
   "outputs": [],
   "source": [
    "resolution = 128\n",
    "size = (resolution, resolution)\n",
    "resample = Resampling.LANCZOS"
   ]
  },
  {
   "cell_type": "code",
   "execution_count": 27,
   "metadata": {
    "pycharm": {
     "name": "#%%\n"
    }
   },
   "outputs": [],
   "source": [
    "# # noinspection PyTypeChecker\n",
    "# f1 = 1 - np.asarray(Image.open(pot_shapes_path / 'redcross.png').resize(size, resample))[:, :, 2] / 255\n",
    "# # noinspection PyTypeChecker\n",
    "# f2 = 1 - np.asarray(Image.open(pot_shapes_path / 'tooth.png').resize(size, resample))[:, :, 2] / 255\n",
    "# # noinspection PyTypeChecker\n",
    "# f3 = 1 - np.asarray(Image.open(pot_shapes_path / 'heart.png').resize(size, resample))[:, :, 2] / 255\n",
    "# # noinspection PyTypeChecker\n",
    "# f4 = 1 - np.asarray(Image.open(pot_shapes_path / 'duck.png').resize(size, resample))[:, :, 2] / 255"
   ]
  },
  {
   "cell_type": "code",
   "execution_count": 28,
   "metadata": {
    "pycharm": {
     "name": "#%%\n"
    }
   },
   "outputs": [],
   "source": [
    "# noinspection PyTypeChecker\n",
    "f1 = 1 - np.asarray(Image.open(shapes_path / 'shape1filled.png').resize(size, resample))[:, :, 2] / 255\n",
    "# noinspection PyTypeChecker\n",
    "f2 = 1 - np.asarray(Image.open(shapes_path / 'shape2filled.png').resize(size, resample))[:, :, 2] / 255\n",
    "# noinspection PyTypeChecker\n",
    "f3 = 1 - np.asarray(Image.open(shapes_path / 'shape3filled.png').resize(size, resample))[:, :, 2] / 255\n",
    "# noinspection PyTypeChecker\n",
    "f4 = 1 - np.asarray(Image.open(shapes_path / 'shape4filled.png').resize(size, resample))[:, :, 2] / 255"
   ]
  },
  {
   "cell_type": "code",
   "execution_count": 29,
   "metadata": {
    "pycharm": {
     "name": "#%%\n"
    }
   },
   "outputs": [],
   "source": [
    "f1 = f1 / np.sum(f1)\n",
    "f2 = f2 / np.sum(f2)\n",
    "f3 = f3 / np.sum(f3)\n",
    "f4 = f4 / np.sum(f4)\n",
    "A = np.array([f1, f2, f3, f4])\n",
    "\n",
    "nb_images = 5\n",
    "\n",
    "# those are the four corners coordinates that will be interpolated by bilinear\n",
    "# interpolation\n",
    "v1 = np.array((1, 0, 0, 0))\n",
    "v2 = np.array((0, 1, 0, 0))\n",
    "v3 = np.array((0, 0, 1, 0))\n",
    "v4 = np.array((0, 0, 0, 1))"
   ]
  },
  {
   "cell_type": "code",
   "execution_count": 30,
   "metadata": {
    "pycharm": {
     "name": "#%%\n"
    }
   },
   "outputs": [],
   "source": [
    "additional_info = f\"resol-{resolution}-nb-images-{nb_images}\""
   ]
  },
  {
   "cell_type": "code",
   "execution_count": null,
   "metadata": {
    "pycharm": {
     "name": "#%%\n",
     "is_executing": true
    }
   },
   "outputs": [
    {
     "name": "stderr",
     "output_type": "stream",
     "text": [
      "2023-05-11 09:08:50,937: DEBUG [notebook:38]\n",
      "> i = 0, j = 0 ==> Total time: 0.0020 [seg]\n",
      "2023-05-11 09:08:55,315: DEBUG [notebook:38]\n",
      "> i = 0, j = 1 ==> Total time: 4.3740 [seg]\n",
      "2023-05-11 09:08:59,050: DEBUG [notebook:38]\n",
      "> i = 0, j = 2 ==> Total time: 3.7342 [seg]\n",
      "2023-05-11 09:09:03,028: DEBUG [notebook:38]\n",
      "> i = 0, j = 3 ==> Total time: 3.9784 [seg]\n",
      "2023-05-11 09:09:03,030: DEBUG [notebook:38]\n",
      "> i = 0, j = 4 ==> Total time: 0.0010 [seg]\n",
      "2023-05-11 09:09:06,708: DEBUG [notebook:38]\n",
      "> i = 1, j = 0 ==> Total time: 3.6766 [seg]\n"
     ]
    }
   ],
   "source": [
    "%%time\n",
    "import time\n",
    "\n",
    "fig, axes = plt.subplots(nb_images, nb_images, figsize=(7, 7))\n",
    "cm = 'Blues'\n",
    "# regularization parameter\n",
    "reg = 4e-3\n",
    "# reg = 2e-3\n",
    "tic_ = time.time()\n",
    "for i in range(nb_images):\n",
    "    for j in range(nb_images):\n",
    "        tic = time.time()\n",
    "\n",
    "        tx = float(i) / (nb_images - 1)\n",
    "        ty = float(j) / (nb_images - 1)\n",
    "\n",
    "        # weights are constructed by bilinear interpolation\n",
    "        tmp1 = (1 - tx) * v1 + tx * v2\n",
    "        tmp2 = (1 - tx) * v3 + tx * v4\n",
    "        weights = (1 - ty) * tmp1 + ty * tmp2\n",
    "\n",
    "        if i == 0 and j == 0:\n",
    "            axes[i, j].imshow(f1, cmap=cm)\n",
    "        elif i == 0 and j == (nb_images - 1):\n",
    "            axes[i, j].imshow(f3, cmap=cm)\n",
    "        elif i == (nb_images - 1) and j == 0:\n",
    "            axes[i, j].imshow(f2, cmap=cm)\n",
    "        elif i == (nb_images - 1) and j == (nb_images - 1):\n",
    "            axes[i, j].imshow(f4, cmap=cm)\n",
    "        else:\n",
    "            # call to barycenter computation\n",
    "            axes[i, j].imshow(\n",
    "                ot.bregman.convolutional_barycenter2d(A, reg, weights),\n",
    "                cmap=cm\n",
    "            )\n",
    "        axes[i, j].axis('off')\n",
    "\n",
    "        toc = time.time()\n",
    "        _log.debug(f\"{i = }, {j = } ==> Total time: {toc - tic:.4f} [seg]\")\n",
    "toc_ = time.time()\n",
    "d_time = f\"\\nΔt={toc_-tic_:.1f}[seg]\"\n",
    "\n",
    "plt.suptitle(f'Convolutional Wasserstein Barycenters in POT. {d_time}')\n",
    "\n",
    "plt.tight_layout()\n",
    "plt.savefig(img_path / f\"{additional_info}-conv-wasserstein-bar.png\", dpi=400)\n",
    "plt.show()"
   ]
  },
  {
   "cell_type": "markdown",
   "metadata": {
    "pycharm": {
     "name": "#%% md\n"
    }
   },
   "source": [
    "# Utilizando geodésicas\n",
    "Ahora que tenemos los resultados replicados del notebook de ejemplo, se procederá a replicar los resultados utilizando las clases creadas en esta librería, sólo calculando las geodésicas de par a par."
   ]
  },
  {
   "cell_type": "code",
   "execution_count": null,
   "metadata": {
    "pycharm": {
     "name": "#%%\n",
     "is_executing": true
    }
   },
   "outputs": [],
   "source": [
    "original_shape = f1.shape\n",
    "\n",
    "dd1 = DistributionDraw.from_weights(f1.reshape(-1), original_shape)\n",
    "dd2 = DistributionDraw.from_weights(f2.reshape(-1), original_shape)\n",
    "dd3 = DistributionDraw.from_weights(f3.reshape(-1), original_shape)\n",
    "dd4 = DistributionDraw.from_weights(f4.reshape(-1), original_shape)"
   ]
  },
  {
   "cell_type": "markdown",
   "metadata": {
    "pycharm": {
     "name": "#%% md\n"
    }
   },
   "source": [
    "Ahora se realizarán las matrices que serán graficadas"
   ]
  },
  {
   "cell_type": "code",
   "execution_count": null,
   "metadata": {
    "pycharm": {
     "name": "#%%\n",
     "is_executing": true
    }
   },
   "outputs": [],
   "source": [
    "%%time\n",
    "geodesic12 = McCannGeodesic(tpt.EMDTransport(max_iter=250_000)).fit_wd(dd_s=dd1, dd_t=dd2)\n",
    "geodesic13 = McCannGeodesic(tpt.EMDTransport(max_iter=250_000)).fit_wd(dd_s=dd1, dd_t=dd3)\n",
    "geodesic34 = McCannGeodesic(tpt.EMDTransport(max_iter=250_000)).fit_wd(dd_s=dd3, dd_t=dd4)\n",
    "geodesic24 = McCannGeodesic(tpt.EMDTransport(max_iter=250_000)).fit_wd(dd_s=dd2, dd_t=dd4)"
   ]
  },
  {
   "cell_type": "code",
   "execution_count": null,
   "metadata": {
    "pycharm": {
     "name": "#%%\n",
     "is_executing": true
    },
    "scrolled": false
   },
   "outputs": [],
   "source": [
    "%%time\n",
    "import time\n",
    "\n",
    "fig, axes = plt.subplots(nb_images, nb_images, figsize=(7, 7))\n",
    "cm = 'Blues'\n",
    "tic_ = time.time()\n",
    "for i in range(nb_images):\n",
    "    for j in range(nb_images):\n",
    "        tic = time.time()\n",
    "\n",
    "        tx = float(i) / (nb_images - 1)\n",
    "        ty = float(j) / (nb_images - 1)\n",
    "\n",
    "        # weights are constructed by bilinear interpolation\n",
    "        tmp1 = (1 - tx) * v1 + tx * v2\n",
    "        tmp2 = (1 - tx) * v3 + tx * v4\n",
    "        weights = (1 - ty) * tmp1 + ty * tmp2\n",
    "\n",
    "        axes_ij = axes[i, j]\n",
    "\n",
    "        if i == 0 and j == 0:\n",
    "            axes_ij.imshow(f1, cmap=cm)\n",
    "        elif i == 0 and j == (nb_images - 1):\n",
    "            axes_ij.imshow(f3, cmap=cm)\n",
    "        elif i == (nb_images - 1) and j == 0:\n",
    "            axes_ij.imshow(f2, cmap=cm)\n",
    "        elif i == (nb_images - 1) and j == (nb_images - 1):\n",
    "            axes_ij.imshow(f4, cmap=cm)\n",
    "        elif i == 0:\n",
    "            dd_t = DistributionDraw(*geodesic13.interpolate(ty), original_shape)\n",
    "            axes_ij.imshow(dd_t.grayscale, cmap=cm)\n",
    "        elif i == (nb_images - 1):\n",
    "            dd_t = DistributionDraw(*geodesic24.interpolate(ty), original_shape)\n",
    "            axes_ij.imshow(dd_t.grayscale, cmap=cm)\n",
    "        elif j == 0:\n",
    "            dd_t = DistributionDraw(*geodesic12.interpolate(tx), original_shape)\n",
    "            axes_ij.imshow(dd_t.grayscale, cmap=cm)\n",
    "        elif j == (nb_images - 1):\n",
    "            dd_t = DistributionDraw(*geodesic34.interpolate(tx), original_shape)\n",
    "            axes_ij.imshow(dd_t.grayscale, cmap=cm)\n",
    "        else:\n",
    "            axes_ij.imshow(np.zeros(original_shape), cmap=cm)\n",
    "        axes_ij.axis('off')\n",
    "\n",
    "        toc = time.time()\n",
    "        _log.debug(f\"{i = }, {j = } ==> Total time: {toc - tic:.4f} [seg]\")\n",
    "toc_ = time.time()\n",
    "d_time = f\"\\nΔt={toc_-tic_:.1f}[seg]\"\n",
    "\n",
    "plt.suptitle(f'McCann Interpolation with EMD Transport. {d_time}')\n",
    "\n",
    "plt.tight_layout()\n",
    "plt.savefig(img_path / f\"{additional_info}-mccaan-interpolation-emd.png\", dpi=800)\n",
    "plt.show()"
   ]
  },
  {
   "cell_type": "markdown",
   "metadata": {
    "pycharm": {
     "name": "#%% md\n"
    }
   },
   "source": [
    "# Interpolación con la proyección baricéntrica"
   ]
  },
  {
   "cell_type": "code",
   "execution_count": null,
   "metadata": {
    "pycharm": {
     "name": "#%%\n",
     "is_executing": true
    }
   },
   "outputs": [],
   "source": [
    "%%time\n",
    "geodesic12 = BarycentricProjGeodesic(tpt.EMDTransport(max_iter=250_000)).fit_wd(dd_s=dd1, dd_t=dd2)\n",
    "geodesic13 = BarycentricProjGeodesic(tpt.EMDTransport(max_iter=250_000)).fit_wd(dd_s=dd1, dd_t=dd3)\n",
    "geodesic34 = BarycentricProjGeodesic(tpt.EMDTransport(max_iter=250_000)).fit_wd(dd_s=dd3, dd_t=dd4)\n",
    "geodesic24 = BarycentricProjGeodesic(tpt.EMDTransport(max_iter=250_000)).fit_wd(dd_s=dd2, dd_t=dd4)"
   ]
  },
  {
   "cell_type": "code",
   "execution_count": null,
   "metadata": {
    "pycharm": {
     "name": "#%%\n",
     "is_executing": true
    },
    "scrolled": false
   },
   "outputs": [],
   "source": [
    "%%time\n",
    "import time\n",
    "\n",
    "fig, axes = plt.subplots(nb_images, nb_images, figsize=(7, 7))\n",
    "cm = 'Blues'\n",
    "tic_ = time.time()\n",
    "for i in range(nb_images):\n",
    "    for j in range(nb_images):\n",
    "        tic = time.time()\n",
    "\n",
    "        tx = float(i) / (nb_images - 1)\n",
    "        ty = float(j) / (nb_images - 1)\n",
    "\n",
    "        # weights are constructed by bilinear interpolation\n",
    "        tmp1 = (1 - tx) * v1 + tx * v2\n",
    "        tmp2 = (1 - tx) * v3 + tx * v4\n",
    "        weights = (1 - ty) * tmp1 + ty * tmp2\n",
    "\n",
    "        axes_ij = axes[i, j]\n",
    "\n",
    "        if i == 0 and j == 0:\n",
    "            axes_ij.imshow(f1, cmap=cm)\n",
    "        elif i == 0 and j == (nb_images - 1):\n",
    "            axes_ij.imshow(f3, cmap=cm)\n",
    "        elif i == (nb_images - 1) and j == 0:\n",
    "            axes_ij.imshow(f2, cmap=cm)\n",
    "        elif i == (nb_images - 1) and j == (nb_images - 1):\n",
    "            axes_ij.imshow(f4, cmap=cm)\n",
    "        elif i == 0:\n",
    "            dd_t = DistributionDraw(*geodesic13.interpolate(ty), original_shape)\n",
    "            axes_ij.imshow(dd_t.grayscale, cmap=cm)\n",
    "        elif i == (nb_images - 1):\n",
    "            dd_t = DistributionDraw(*geodesic24.interpolate(ty), original_shape)\n",
    "            axes_ij.imshow(dd_t.grayscale, cmap=cm)\n",
    "        elif j == 0:\n",
    "            dd_t = DistributionDraw(*geodesic12.interpolate(tx), original_shape)\n",
    "            axes_ij.imshow(dd_t.grayscale, cmap=cm)\n",
    "        elif j == (nb_images - 1):\n",
    "            dd_t = DistributionDraw(*geodesic34.interpolate(tx), original_shape)\n",
    "            axes_ij.imshow(dd_t.grayscale, cmap=cm)\n",
    "        else:\n",
    "            axes_ij.imshow(np.zeros(original_shape), cmap=cm)\n",
    "        axes_ij.axis('off')\n",
    "\n",
    "        toc = time.time()\n",
    "        _log.debug(f\"{i = }, {j = } ==> Total time: {toc - tic:.4f} [seg]\")\n",
    "toc_ = time.time()\n",
    "d_time = f\"\\nΔt={toc_-tic_:.1f}[seg]\"\n",
    "plt.suptitle(f'Barycentric Projection Interpolation with EMD Transport. {d_time}')\n",
    "plt.tight_layout()\n",
    "plt.savefig(img_path / f\"{additional_info}-barycentric-proj-interpolation-emd.png\", dpi=800)\n",
    "plt.show()"
   ]
  },
  {
   "cell_type": "markdown",
   "source": [
    "# Interpolación con la proyección baricéntrica particionada"
   ],
   "metadata": {
    "collapsed": false,
    "pycharm": {
     "name": "#%% md\n"
    }
   }
  },
  {
   "cell_type": "code",
   "execution_count": null,
   "outputs": [],
   "source": [
    "%%time\n",
    "geodesic12 = PartitionedBarycentricProjGeodesic(\n",
    "    tpt.EMDTransport(max_iter=250_000), alpha=0.1\n",
    ").fit_wd(dd_s=dd1, dd_t=dd2)\n",
    "geodesic13 = PartitionedBarycentricProjGeodesic(\n",
    "    tpt.EMDTransport(max_iter=250_000), alpha=0.1\n",
    ").fit_wd(dd_s=dd1, dd_t=dd3)\n",
    "geodesic34 = PartitionedBarycentricProjGeodesic(\n",
    "    tpt.EMDTransport(max_iter=250_000), alpha=0.1\n",
    ").fit_wd(dd_s=dd3, dd_t=dd4)\n",
    "geodesic24 = PartitionedBarycentricProjGeodesic(\n",
    "    tpt.EMDTransport(max_iter=250_000), alpha=0.1\n",
    ").fit_wd(dd_s=dd2, dd_t=dd4)"
   ],
   "metadata": {
    "collapsed": false,
    "pycharm": {
     "name": "#%%\n",
     "is_executing": true
    }
   }
  },
  {
   "cell_type": "code",
   "execution_count": null,
   "outputs": [],
   "source": [
    "%%time\n",
    "import time\n",
    "\n",
    "fig, axes = plt.subplots(nb_images, nb_images, figsize=(7, 7))\n",
    "cm = 'Blues'\n",
    "tic_ = time.time()\n",
    "for i in range(nb_images):\n",
    "    for j in range(nb_images):\n",
    "        tic = time.time()\n",
    "\n",
    "        tx = float(i) / (nb_images - 1)\n",
    "        ty = float(j) / (nb_images - 1)\n",
    "\n",
    "        # weights are constructed by bilinear interpolation\n",
    "        tmp1 = (1 - tx) * v1 + tx * v2\n",
    "        tmp2 = (1 - tx) * v3 + tx * v4\n",
    "        weights = (1 - ty) * tmp1 + ty * tmp2\n",
    "\n",
    "        axes_ij = axes[i, j]\n",
    "\n",
    "        if i == 0 and j == 0:\n",
    "            axes_ij.imshow(f1, cmap=cm)\n",
    "        elif i == 0 and j == (nb_images - 1):\n",
    "            axes_ij.imshow(f3, cmap=cm)\n",
    "        elif i == (nb_images - 1) and j == 0:\n",
    "            axes_ij.imshow(f2, cmap=cm)\n",
    "        elif i == (nb_images - 1) and j == (nb_images - 1):\n",
    "            axes_ij.imshow(f4, cmap=cm)\n",
    "        elif i == 0:\n",
    "            dd_t = DistributionDraw(*geodesic13.interpolate(ty), original_shape)\n",
    "            axes_ij.imshow(dd_t.grayscale, cmap=cm)\n",
    "        elif i == (nb_images - 1):\n",
    "            dd_t = DistributionDraw(*geodesic24.interpolate(ty), original_shape)\n",
    "            axes_ij.imshow(dd_t.grayscale, cmap=cm)\n",
    "        elif j == 0:\n",
    "            dd_t = DistributionDraw(*geodesic12.interpolate(tx), original_shape)\n",
    "            axes_ij.imshow(dd_t.grayscale, cmap=cm)\n",
    "        elif j == (nb_images - 1):\n",
    "            dd_t = DistributionDraw(*geodesic34.interpolate(tx), original_shape)\n",
    "            axes_ij.imshow(dd_t.grayscale, cmap=cm)\n",
    "        else:\n",
    "            axes_ij.imshow(np.zeros(original_shape), cmap=cm)\n",
    "        axes_ij.axis('off')\n",
    "\n",
    "        toc = time.time()\n",
    "        _log.debug(f\"{i = }, {j = } ==> Total time: {toc - tic:.4f} [seg]\")\n",
    "toc_ = time.time()\n",
    "d_time = f\"\\nΔt={toc_-tic_:.1f}[seg]\"\n",
    "plt.suptitle(f'Partitioned Barycentric Projection Interpolation with EMD Transport. {d_time}')\n",
    "plt.tight_layout()\n",
    "plt.savefig(img_path / f\"{additional_info}-barycentric-proj-interpolation-emd.png\", dpi=800)\n",
    "plt.show()"
   ],
   "metadata": {
    "collapsed": false,
    "pycharm": {
     "name": "#%%\n",
     "is_executing": true
    }
   }
  },
  {
   "cell_type": "markdown",
   "source": [
    "# Interpolación con Sinkhorn"
   ],
   "metadata": {
    "collapsed": false,
    "pycharm": {
     "name": "#%% md\n"
    }
   }
  },
  {
   "cell_type": "code",
   "execution_count": null,
   "metadata": {
    "pycharm": {
     "name": "#%%\n",
     "is_executing": true
    }
   },
   "outputs": [],
   "source": [
    "%%time\n",
    "kwargs = {\n",
    "    \"max_iter\": 250_000,\n",
    "    \"reg_e\": 1e-3,\n",
    "    \"norm\": \"max\"\n",
    "}"
   ]
  },
  {
   "cell_type": "code",
   "execution_count": null,
   "metadata": {
    "pycharm": {
     "name": "#%%\n",
     "is_executing": true
    },
    "scrolled": false
   },
   "outputs": [],
   "source": [
    "%%time\n",
    "geodesic12 = McCannGeodesic(tpt.SinkhornTransport(**kwargs)).fit_wd(dd_s=dd1, dd_t=dd2)"
   ]
  },
  {
   "cell_type": "code",
   "execution_count": null,
   "metadata": {
    "pycharm": {
     "name": "#%%\n",
     "is_executing": true
    }
   },
   "outputs": [],
   "source": [
    "interp_param = {}\n",
    "# interp_param = {\n",
    "#     \"rtol\": ,\n",
    "#     \"atol\": 0,\n",
    "# }\n",
    "\n",
    "DistributionDraw(*geodesic12.interpolate(0.5, **interp_param), original_shape)"
   ]
  },
  {
   "cell_type": "code",
   "execution_count": null,
   "metadata": {
    "pycharm": {
     "name": "#%%\n",
     "is_executing": true
    }
   },
   "outputs": [],
   "source": [
    "%%time\n",
    "geodesic13 = McCannGeodesic(tpt.SinkhornTransport(**kwargs)).fit_wd(dd_s=dd1, dd_t=dd3)"
   ]
  },
  {
   "cell_type": "code",
   "execution_count": null,
   "metadata": {
    "pycharm": {
     "name": "#%%\n",
     "is_executing": true
    }
   },
   "outputs": [],
   "source": [
    "%%time\n",
    "geodesic34 = McCannGeodesic(tpt.SinkhornTransport(**kwargs)).fit_wd(dd_s=dd3, dd_t=dd4)"
   ]
  },
  {
   "cell_type": "code",
   "execution_count": null,
   "metadata": {
    "pycharm": {
     "name": "#%%\n",
     "is_executing": true
    }
   },
   "outputs": [],
   "source": [
    "%%time\n",
    "geodesic24 = McCannGeodesic(tpt.SinkhornTransport(**kwargs)).fit_wd(dd_s=dd2, dd_t=dd4)"
   ]
  },
  {
   "cell_type": "code",
   "execution_count": null,
   "metadata": {
    "pycharm": {
     "name": "#%%\n",
     "is_executing": true
    },
    "scrolled": false
   },
   "outputs": [],
   "source": [
    "%%time\n",
    "import time\n",
    "\n",
    "\n",
    "fig, axes = plt.subplots(nb_images, nb_images, figsize=(7, 7))\n",
    "cm = 'Blues'\n",
    "tic_ = time.time()\n",
    "for i in range(nb_images):\n",
    "    for j in range(nb_images):\n",
    "        tic = time.time()\n",
    "\n",
    "        tx = float(i) / (nb_images - 1)\n",
    "        ty = float(j) / (nb_images - 1)\n",
    "\n",
    "        # weights are constructed by bilinear interpolation\n",
    "        tmp1 = (1 - tx) * v1 + tx * v2\n",
    "        tmp2 = (1 - tx) * v3 + tx * v4\n",
    "        weights = (1 - ty) * tmp1 + ty * tmp2\n",
    "\n",
    "        axes_ij = axes[i, j]\n",
    "\n",
    "        if i == 0 and j == 0:\n",
    "            axes_ij.imshow(f1, cmap=cm)\n",
    "        elif i == 0 and j == (nb_images - 1):\n",
    "            axes_ij.imshow(f3, cmap=cm)\n",
    "        elif i == (nb_images - 1) and j == 0:\n",
    "            axes_ij.imshow(f2, cmap=cm)\n",
    "        elif i == (nb_images - 1) and j == (nb_images - 1):\n",
    "            axes_ij.imshow(f4, cmap=cm)\n",
    "        elif i == 0:\n",
    "            dd_t = DistributionDraw(*geodesic13.interpolate(ty, **interp_param), original_shape)\n",
    "            axes_ij.imshow(dd_t.grayscale, cmap=cm)\n",
    "        elif i == (nb_images - 1):\n",
    "            dd_t = DistributionDraw(*geodesic24.interpolate(ty, **interp_param), original_shape)\n",
    "            axes_ij.imshow(dd_t.grayscale, cmap=cm)\n",
    "        elif j == 0:\n",
    "            dd_t = DistributionDraw(*geodesic12.interpolate(tx, **interp_param), original_shape)\n",
    "            axes_ij.imshow(dd_t.grayscale, cmap=cm)\n",
    "        elif j == (nb_images - 1):\n",
    "            dd_t = DistributionDraw(*geodesic34.interpolate(tx, **interp_param), original_shape)\n",
    "            axes_ij.imshow(dd_t.grayscale, cmap=cm)\n",
    "        else:\n",
    "            axes_ij.imshow(np.zeros(original_shape), cmap=cm)\n",
    "        axes_ij.axis('off')\n",
    "\n",
    "        toc = time.time()\n",
    "        _log.debug(f\"{i = }, {j = } ==> Total time: {toc - tic:.4f} [seg]\")\n",
    "toc_ = time.time()\n",
    "d_time = f\"\\nΔt={toc_-tic_:.1f}[seg]\"\n",
    "plt.suptitle(f'McCann Interpolation with Sinkhorn Transport. {d_time}')\n",
    "plt.tight_layout()\n",
    "plt.savefig(img_path / f\"{additional_info}-mccaan-interpolation-sinkhorn.png\", dpi=800)\n",
    "plt.show()"
   ]
  },
  {
   "cell_type": "code",
   "execution_count": null,
   "metadata": {
    "pycharm": {
     "name": "#%%\n",
     "is_executing": true
    }
   },
   "outputs": [],
   "source": []
  }
 ],
 "metadata": {
  "kernelspec": {
   "display_name": "Python 3 (ipykernel)",
   "language": "python",
   "name": "python3"
  },
  "language_info": {
   "codemirror_mode": {
    "name": "ipython",
    "version": 3
   },
   "file_extension": ".py",
   "mimetype": "text/x-python",
   "name": "python",
   "nbconvert_exporter": "python",
   "pygments_lexer": "ipython3",
   "version": "3.10.4"
  }
 },
 "nbformat": 4,
 "nbformat_minor": 1
}