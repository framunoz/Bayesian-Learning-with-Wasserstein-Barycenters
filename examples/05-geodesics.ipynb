{
 "cells": [
  {
   "cell_type": "markdown",
   "source": [
    "# Geodésicas\n",
    "Se buscará obtener las geodésicas y baricentros de la misma forma que en el ejemplo [Convolutional Wasserstein Barycenter](https://pythonot.github.io/auto_examples/barycenters/plot_convolutional_barycenter.html#sphx-glr-auto-examples-barycenters-plot-convolutional-barycenter-py), para luego obtener geodésicas implementadas en esta librería."
   ],
   "metadata": {
    "collapsed": false,
    "pycharm": {
     "name": "#%% md\n"
    }
   }
  },
  {
   "cell_type": "code",
   "execution_count": 1,
   "outputs": [],
   "source": [
    "from pathlib import Path\n",
    "\n",
    "import matplotlib.pyplot as plt\n",
    "import numpy as np\n",
    "import ot\n",
    "import torch\n",
    "from PIL import Image\n",
    "# noinspection PyUnresolvedReferences\n",
    "from PIL.Image import Resampling\n",
    "\n",
    "# noinspection PyProtectedMember\n",
    "from bwb import _logging\n",
    "from bwb import transports as trnsp\n",
    "from bwb.distributions import *\n",
    "from bwb.geodesics import *\n",
    "\n",
    "_log = _logging.get_logger(__name__)\n",
    "_logging.set_level(_logging.DEBUG)\n",
    "_log"
   ],
   "metadata": {
    "collapsed": false,
    "pycharm": {
     "name": "#%%\n"
    }
   }
  },
  {
   "cell_type": "code",
   "execution_count": 2,
   "outputs": [],
   "source": [
    "main_path = Path(\"..\")\n",
    "\n",
    "data_path = main_path / \"data\"\n",
    "data_images_path = data_path / \"images\"\n",
    "shapes_path = data_images_path / \"shapes\"\n",
    "pot_shapes_path = data_images_path / \"pot_shapes\"\n",
    "\n",
    "img_path = Path(\"img\")"
   ],
   "metadata": {
    "collapsed": false,
    "pycharm": {
     "name": "#%%\n"
    }
   }
  },
  {
   "cell_type": "code",
   "execution_count": 3,
   "outputs": [],
   "source": [
    "resolution = 128\n",
    "size = (resolution, resolution)\n",
    "resample = Resampling.LANCZOS"
   ],
   "metadata": {
    "collapsed": false,
    "pycharm": {
     "name": "#%%\n"
    }
   }
  },
  {
   "cell_type": "code",
   "execution_count": 4,
   "outputs": [],
   "source": [
    "# # noinspection PyTypeChecker\n",
    "# f1 = 1 - np.asarray(Image.open(pot_shapes_path / 'redcross.png').resize(size, resample))[:, :, 2] / 255\n",
    "# # noinspection PyTypeChecker\n",
    "# f2 = 1 - np.asarray(Image.open(pot_shapes_path / 'tooth.png').resize(size, resample))[:, :, 2] / 255\n",
    "# # noinspection PyTypeChecker\n",
    "# f3 = 1 - np.asarray(Image.open(pot_shapes_path / 'heart.png').resize(size, resample))[:, :, 2] / 255\n",
    "# # noinspection PyTypeChecker\n",
    "# f4 = 1 - np.asarray(Image.open(pot_shapes_path / 'duck.png').resize(size, resample))[:, :, 2] / 255"
   ],
   "metadata": {
    "collapsed": false,
    "pycharm": {
     "name": "#%%\n"
    }
   }
  },
  {
   "cell_type": "code",
   "execution_count": 5,
   "outputs": [],
   "source": [
    "# noinspection PyTypeChecker\n",
    "f1 = 1 - np.asarray(Image.open(shapes_path / 'shape1filled.png').resize(size, resample))[:, :, 2] / 255\n",
    "# noinspection PyTypeChecker\n",
    "f2 = 1 - np.asarray(Image.open(shapes_path / 'shape2filled.png').resize(size, resample))[:, :, 2] / 255\n",
    "# noinspection PyTypeChecker\n",
    "f3 = 1 - np.asarray(Image.open(shapes_path / 'shape3filled.png').resize(size, resample))[:, :, 2] / 255\n",
    "# noinspection PyTypeChecker\n",
    "f4 = 1 - np.asarray(Image.open(shapes_path / 'shape4filled.png').resize(size, resample))[:, :, 2] / 255"
   ],
   "metadata": {
    "collapsed": false,
    "pycharm": {
     "name": "#%%\n"
    }
   }
  },
  {
   "cell_type": "code",
   "execution_count": 6,
   "outputs": [],
   "source": [
    "f1 = f1 / np.sum(f1)\n",
    "f2 = f2 / np.sum(f2)\n",
    "f3 = f3 / np.sum(f3)\n",
    "f4 = f4 / np.sum(f4)\n",
    "A = np.array([f1, f2, f3, f4])\n",
    "\n",
    "nb_images = 5\n",
    "\n",
    "# those are the four corners coordinates that will be interpolated by bilinear\n",
    "# interpolation\n",
    "v1 = np.array((1, 0, 0, 0))\n",
    "v2 = np.array((0, 1, 0, 0))\n",
    "v3 = np.array((0, 0, 1, 0))\n",
    "v4 = np.array((0, 0, 0, 1))"
   ],
   "metadata": {
    "collapsed": false,
    "pycharm": {
     "name": "#%%\n"
    }
   }
  },
  {
   "cell_type": "code",
   "execution_count": 7,
   "outputs": [],
   "source": [
    "additional_info = f\"resol-{resolution}-nb-images-{nb_images}\""
   ],
   "metadata": {
    "collapsed": false,
    "pycharm": {
     "name": "#%%\n"
    }
   }
  },
  {
   "cell_type": "code",
   "execution_count": 8,
   "outputs": [
    {
     "name": "stderr",
     "output_type": "stream",
     "text": [
      "2023-05-06 19:34:46,160: DEBUG [__main__:38]\n",
      "> i = 0, j = 0 ==> Total time: 0.0010 [seg]\n",
      "2023-05-06 19:34:49,422: DEBUG [__main__:38]\n",
      "> i = 0, j = 1 ==> Total time: 3.2592 [seg]\n"
     ]
    },
    {
     "ename": "KeyboardInterrupt",
     "evalue": "",
     "output_type": "error",
     "traceback": [
      "\u001B[1;31m---------------------------------------------------------------------------\u001B[0m",
      "\u001B[1;31mKeyboardInterrupt\u001B[0m                         Traceback (most recent call last)",
      "File \u001B[1;32m<timed exec>:32\u001B[0m\n",
      "File \u001B[1;32m~\\PycharmProjects\\PersonalProjects\\Bayesian-Learning-with-Wasserstein-Barycenters\\venv\\lib\\site-packages\\ot\\bregman.py:2015\u001B[0m, in \u001B[0;36mconvolutional_barycenter2d\u001B[1;34m(A, reg, weights, method, numItermax, stopThr, verbose, log, warn, **kwargs)\u001B[0m\n\u001B[0;32m   1951\u001B[0m \u001B[38;5;124mr\u001B[39m\u001B[38;5;124;03m\"\"\"Compute the entropic regularized wasserstein barycenter of distributions :math:`\\mathbf{A}`\u001B[39;00m\n\u001B[0;32m   1952\u001B[0m \u001B[38;5;124;03mwhere :math:`\\mathbf{A}` is a collection of 2D images.\u001B[39;00m\n\u001B[0;32m   1953\u001B[0m \n\u001B[1;32m   (...)\u001B[0m\n\u001B[0;32m   2011\u001B[0m \u001B[38;5;124;03m    International Conference on Machine Learning, PMLR 119:4692-4701, 2020\u001B[39;00m\n\u001B[0;32m   2012\u001B[0m \u001B[38;5;124;03m\"\"\"\u001B[39;00m\n\u001B[0;32m   2014\u001B[0m \u001B[38;5;28;01mif\u001B[39;00m method\u001B[38;5;241m.\u001B[39mlower() \u001B[38;5;241m==\u001B[39m \u001B[38;5;124m'\u001B[39m\u001B[38;5;124msinkhorn\u001B[39m\u001B[38;5;124m'\u001B[39m:\n\u001B[1;32m-> 2015\u001B[0m     \u001B[38;5;28;01mreturn\u001B[39;00m _convolutional_barycenter2d(A, reg, weights\u001B[38;5;241m=\u001B[39mweights,\n\u001B[0;32m   2016\u001B[0m                                        numItermax\u001B[38;5;241m=\u001B[39mnumItermax,\n\u001B[0;32m   2017\u001B[0m                                        stopThr\u001B[38;5;241m=\u001B[39mstopThr, verbose\u001B[38;5;241m=\u001B[39mverbose,\n\u001B[0;32m   2018\u001B[0m                                        log\u001B[38;5;241m=\u001B[39mlog, warn\u001B[38;5;241m=\u001B[39mwarn,\n\u001B[0;32m   2019\u001B[0m                                        \u001B[38;5;241m*\u001B[39m\u001B[38;5;241m*\u001B[39mkwargs)\n\u001B[0;32m   2020\u001B[0m \u001B[38;5;28;01melif\u001B[39;00m method\u001B[38;5;241m.\u001B[39mlower() \u001B[38;5;241m==\u001B[39m \u001B[38;5;124m'\u001B[39m\u001B[38;5;124msinkhorn_log\u001B[39m\u001B[38;5;124m'\u001B[39m:\n\u001B[0;32m   2021\u001B[0m     \u001B[38;5;28;01mreturn\u001B[39;00m _convolutional_barycenter2d_log(A, reg, weights\u001B[38;5;241m=\u001B[39mweights,\n\u001B[0;32m   2022\u001B[0m                                            numItermax\u001B[38;5;241m=\u001B[39mnumItermax,\n\u001B[0;32m   2023\u001B[0m                                            stopThr\u001B[38;5;241m=\u001B[39mstopThr, verbose\u001B[38;5;241m=\u001B[39mverbose,\n\u001B[0;32m   2024\u001B[0m                                            log\u001B[38;5;241m=\u001B[39mlog, warn\u001B[38;5;241m=\u001B[39mwarn,\n\u001B[0;32m   2025\u001B[0m                                            \u001B[38;5;241m*\u001B[39m\u001B[38;5;241m*\u001B[39mkwargs)\n",
      "File \u001B[1;32m~\\PycharmProjects\\PersonalProjects\\Bayesian-Learning-with-Wasserstein-Barycenters\\venv\\lib\\site-packages\\ot\\bregman.py:2077\u001B[0m, in \u001B[0;36m_convolutional_barycenter2d\u001B[1;34m(A, reg, weights, numItermax, stopThr, stabThr, verbose, log, warn)\u001B[0m\n\u001B[0;32m   2074\u001B[0m U \u001B[38;5;241m=\u001B[39m A \u001B[38;5;241m/\u001B[39m KV\n\u001B[0;32m   2075\u001B[0m KU \u001B[38;5;241m=\u001B[39m convol_imgs(U)\n\u001B[0;32m   2076\u001B[0m bar \u001B[38;5;241m=\u001B[39m nx\u001B[38;5;241m.\u001B[39mexp(\n\u001B[1;32m-> 2077\u001B[0m     \u001B[43mnx\u001B[49m\u001B[38;5;241;43m.\u001B[39;49m\u001B[43msum\u001B[49m\u001B[43m(\u001B[49m\u001B[43mweights\u001B[49m\u001B[43m[\u001B[49m\u001B[43m:\u001B[49m\u001B[43m,\u001B[49m\u001B[43m \u001B[49m\u001B[38;5;28;43;01mNone\u001B[39;49;00m\u001B[43m,\u001B[49m\u001B[43m \u001B[49m\u001B[38;5;28;43;01mNone\u001B[39;49;00m\u001B[43m]\u001B[49m\u001B[43m \u001B[49m\u001B[38;5;241;43m*\u001B[39;49m\u001B[43m \u001B[49m\u001B[43mnx\u001B[49m\u001B[38;5;241;43m.\u001B[39;49m\u001B[43mlog\u001B[49m\u001B[43m(\u001B[49m\u001B[43mKU\u001B[49m\u001B[43m \u001B[49m\u001B[38;5;241;43m+\u001B[39;49m\u001B[43m \u001B[49m\u001B[43mstabThr\u001B[49m\u001B[43m)\u001B[49m\u001B[43m,\u001B[49m\u001B[43m \u001B[49m\u001B[43maxis\u001B[49m\u001B[38;5;241;43m=\u001B[39;49m\u001B[38;5;241;43m0\u001B[39;49m\u001B[43m)\u001B[49m\n\u001B[0;32m   2078\u001B[0m )\n\u001B[0;32m   2079\u001B[0m \u001B[38;5;28;01mif\u001B[39;00m ii \u001B[38;5;241m%\u001B[39m \u001B[38;5;241m10\u001B[39m \u001B[38;5;241m==\u001B[39m \u001B[38;5;241m9\u001B[39m:\n\u001B[0;32m   2080\u001B[0m     err \u001B[38;5;241m=\u001B[39m nx\u001B[38;5;241m.\u001B[39msum(nx\u001B[38;5;241m.\u001B[39mstd(V \u001B[38;5;241m*\u001B[39m KU, axis\u001B[38;5;241m=\u001B[39m\u001B[38;5;241m0\u001B[39m))\n",
      "File \u001B[1;32m~\\PycharmProjects\\PersonalProjects\\Bayesian-Learning-with-Wasserstein-Barycenters\\venv\\lib\\site-packages\\ot\\backend.py:942\u001B[0m, in \u001B[0;36mNumpyBackend.sum\u001B[1;34m(self, a, axis, keepdims)\u001B[0m\n\u001B[0;32m    941\u001B[0m \u001B[38;5;28;01mdef\u001B[39;00m \u001B[38;5;21msum\u001B[39m(\u001B[38;5;28mself\u001B[39m, a, axis\u001B[38;5;241m=\u001B[39m\u001B[38;5;28;01mNone\u001B[39;00m, keepdims\u001B[38;5;241m=\u001B[39m\u001B[38;5;28;01mFalse\u001B[39;00m):\n\u001B[1;32m--> 942\u001B[0m     \u001B[38;5;28;01mreturn\u001B[39;00m \u001B[43mnp\u001B[49m\u001B[38;5;241;43m.\u001B[39;49m\u001B[43msum\u001B[49m\u001B[43m(\u001B[49m\u001B[43ma\u001B[49m\u001B[43m,\u001B[49m\u001B[43m \u001B[49m\u001B[43maxis\u001B[49m\u001B[43m,\u001B[49m\u001B[43m \u001B[49m\u001B[43mkeepdims\u001B[49m\u001B[38;5;241;43m=\u001B[39;49m\u001B[43mkeepdims\u001B[49m\u001B[43m)\u001B[49m\n",
      "File \u001B[1;32m<__array_function__ internals>:200\u001B[0m, in \u001B[0;36msum\u001B[1;34m(*args, **kwargs)\u001B[0m\n",
      "File \u001B[1;32m~\\PycharmProjects\\PersonalProjects\\Bayesian-Learning-with-Wasserstein-Barycenters\\venv\\lib\\site-packages\\numpy\\core\\fromnumeric.py:2324\u001B[0m, in \u001B[0;36msum\u001B[1;34m(a, axis, dtype, out, keepdims, initial, where)\u001B[0m\n\u001B[0;32m   2321\u001B[0m         \u001B[38;5;28;01mreturn\u001B[39;00m out\n\u001B[0;32m   2322\u001B[0m     \u001B[38;5;28;01mreturn\u001B[39;00m res\n\u001B[1;32m-> 2324\u001B[0m \u001B[38;5;28;01mreturn\u001B[39;00m \u001B[43m_wrapreduction\u001B[49m\u001B[43m(\u001B[49m\u001B[43ma\u001B[49m\u001B[43m,\u001B[49m\u001B[43m \u001B[49m\u001B[43mnp\u001B[49m\u001B[38;5;241;43m.\u001B[39;49m\u001B[43madd\u001B[49m\u001B[43m,\u001B[49m\u001B[43m \u001B[49m\u001B[38;5;124;43m'\u001B[39;49m\u001B[38;5;124;43msum\u001B[39;49m\u001B[38;5;124;43m'\u001B[39;49m\u001B[43m,\u001B[49m\u001B[43m \u001B[49m\u001B[43maxis\u001B[49m\u001B[43m,\u001B[49m\u001B[43m \u001B[49m\u001B[43mdtype\u001B[49m\u001B[43m,\u001B[49m\u001B[43m \u001B[49m\u001B[43mout\u001B[49m\u001B[43m,\u001B[49m\u001B[43m \u001B[49m\u001B[43mkeepdims\u001B[49m\u001B[38;5;241;43m=\u001B[39;49m\u001B[43mkeepdims\u001B[49m\u001B[43m,\u001B[49m\n\u001B[0;32m   2325\u001B[0m \u001B[43m                      \u001B[49m\u001B[43minitial\u001B[49m\u001B[38;5;241;43m=\u001B[39;49m\u001B[43minitial\u001B[49m\u001B[43m,\u001B[49m\u001B[43m \u001B[49m\u001B[43mwhere\u001B[49m\u001B[38;5;241;43m=\u001B[39;49m\u001B[43mwhere\u001B[49m\u001B[43m)\u001B[49m\n",
      "File \u001B[1;32m~\\PycharmProjects\\PersonalProjects\\Bayesian-Learning-with-Wasserstein-Barycenters\\venv\\lib\\site-packages\\numpy\\core\\fromnumeric.py:86\u001B[0m, in \u001B[0;36m_wrapreduction\u001B[1;34m(obj, ufunc, method, axis, dtype, out, **kwargs)\u001B[0m\n\u001B[0;32m     83\u001B[0m         \u001B[38;5;28;01melse\u001B[39;00m:\n\u001B[0;32m     84\u001B[0m             \u001B[38;5;28;01mreturn\u001B[39;00m reduction(axis\u001B[38;5;241m=\u001B[39maxis, out\u001B[38;5;241m=\u001B[39mout, \u001B[38;5;241m*\u001B[39m\u001B[38;5;241m*\u001B[39mpasskwargs)\n\u001B[1;32m---> 86\u001B[0m \u001B[38;5;28;01mreturn\u001B[39;00m ufunc\u001B[38;5;241m.\u001B[39mreduce(obj, axis, dtype, out, \u001B[38;5;241m*\u001B[39m\u001B[38;5;241m*\u001B[39mpasskwargs)\n",
      "\u001B[1;31mKeyboardInterrupt\u001B[0m: "
     ]
    },
    {
     "data": {
      "text/plain": "<Figure size 700x700 with 25 Axes>",
      "image/png": "[encoded data removed]"
     },
     "metadata": {},
     "output_type": "display_data"
    }
   ],
   "source": [
    "%%time\n",
    "import time\n",
    "\n",
    "fig, axes = plt.subplots(nb_images, nb_images, figsize=(7, 7))\n",
    "cm = 'Blues'\n",
    "# regularization parameter\n",
    "reg = 4e-3\n",
    "# reg = 2e-3\n",
    "tic_ = time.time()\n",
    "for i in range(nb_images):\n",
    "    for j in range(nb_images):\n",
    "        tic = time.time()\n",
    "\n",
    "        tx = float(i) / (nb_images - 1)\n",
    "        ty = float(j) / (nb_images - 1)\n",
    "\n",
    "        # weights are constructed by bilinear interpolation\n",
    "        tmp1 = (1 - tx) * v1 + tx * v2\n",
    "        tmp2 = (1 - tx) * v3 + tx * v4\n",
    "        weights = (1 - ty) * tmp1 + ty * tmp2\n",
    "\n",
    "        if i == 0 and j == 0:\n",
    "            axes[i, j].imshow(f1, cmap=cm)\n",
    "        elif i == 0 and j == (nb_images - 1):\n",
    "            axes[i, j].imshow(f3, cmap=cm)\n",
    "        elif i == (nb_images - 1) and j == 0:\n",
    "            axes[i, j].imshow(f2, cmap=cm)\n",
    "        elif i == (nb_images - 1) and j == (nb_images - 1):\n",
    "            axes[i, j].imshow(f4, cmap=cm)\n",
    "        else:\n",
    "            # call to barycenter computation\n",
    "            axes[i, j].imshow(\n",
    "                ot.bregman.convolutional_barycenter2d(A, reg, weights),\n",
    "                cmap=cm\n",
    "            )\n",
    "        axes[i, j].axis('off')\n",
    "\n",
    "        toc = time.time()\n",
    "        _log.debug(f\"{i = }, {j = } ==> Total time: {toc - tic:.4f} [seg]\")\n",
    "toc_ = time.time()\n",
    "d_time = f\"\\nΔt={toc_-tic_:.1f}[seg]\"\n",
    "\n",
    "plt.suptitle(f'Convolutional Wasserstein Barycenters in POT. {d_time}')\n",
    "\n",
    "plt.tight_layout()\n",
    "plt.savefig(img_path / f\"{additional_info}-conv-wasserstein-bar.png\", dpi=400)\n",
    "plt.show()"
   ],
   "metadata": {
    "collapsed": false,
    "pycharm": {
     "name": "#%%\n"
    }
   }
  },
  {
   "cell_type": "markdown",
   "source": [
    "# Utilizando geodésicas\n",
    "Ahora que tenemos los resultados replicados del notebook de ejemplo, se procederá a replicar los resultados utilizando las clases creadas en esta librería, sólo calculando las geodésicas de par a par."
   ],
   "metadata": {
    "collapsed": false,
    "pycharm": {
     "name": "#%% md\n"
    }
   }
  },
  {
   "cell_type": "code",
   "execution_count": 9,
   "outputs": [],
   "source": [
    "original_shape = f1.shape\n",
    "\n",
    "dd1 = DistributionDraw.from_weights(f1.reshape(-1), original_shape)\n",
    "dd2 = DistributionDraw.from_weights(f2.reshape(-1), original_shape)\n",
    "dd3 = DistributionDraw.from_weights(f3.reshape(-1), original_shape)\n",
    "dd4 = DistributionDraw.from_weights(f4.reshape(-1), original_shape)"
   ],
   "metadata": {
    "collapsed": false,
    "pycharm": {
     "name": "#%%\n"
    }
   }
  },
  {
   "cell_type": "markdown",
   "source": [
    "Ahora se realizarán las matrices que serán graficadas"
   ],
   "metadata": {
    "collapsed": false,
    "pycharm": {
     "name": "#%% md\n"
    }
   }
  },
  {
   "cell_type": "code",
   "execution_count": 10,
   "outputs": [
    {
     "name": "stderr",
     "output_type": "stream",
     "text": [
      "2023-05-06 19:34:53,825: DEBUG [bwb._protocols:56]\n",
      "> Fitting with distribution from the FitWithDistribution Protocol.\n",
      "2023-05-06 19:34:53,856: DEBUG [bwb.geodesics:38]\n",
      "> Fitting with measure from the BaseGeodesic class.\n",
      "2023-05-06 19:34:53,858: DEBUG [bwb.transports:96]\n",
      "> Adjusting with a measure from the EMDTransport class\n",
      "2023-05-06 19:34:53,859: DEBUG [bwb.transports:97]\n",
      "> Shapes: Xs.shape=torch.Size([8804, 2]), Xt.shape=torch.Size([2486, 2])\n",
      "2023-05-06 19:35:08,064: DEBUG [bwb.transports:158]\n",
      "> The function 'fit_wm' takes 14.2059 [seg]\n",
      "2023-05-06 19:35:08,068: DEBUG [bwb.geodesics:59]\n",
      "> Using the method _fit.\n",
      "2023-05-06 19:35:08,070: DEBUG [bwb.geodesics:61]\n",
      "> n=8804, dim_0=2\n",
      "2023-05-06 19:35:08,071: DEBUG [bwb.geodesics:63]\n",
      "> m=2486, dim_1=2\n",
      "2023-05-06 19:35:08,074: DEBUG [bwb.geodesics:158]\n",
      "> The function 'fit_wm' takes 14.2174 [seg]\n",
      "2023-05-06 19:35:08,076: DEBUG [bwb.geodesics:158]\n",
      "> The function 'fit' takes 14.2507 [seg]\n",
      "2023-05-06 19:35:08,078: DEBUG [bwb._protocols:56]\n",
      "> Fitting with distribution from the FitWithDistribution Protocol.\n",
      "2023-05-06 19:35:08,084: DEBUG [bwb.geodesics:38]\n",
      "> Fitting with measure from the BaseGeodesic class.\n",
      "2023-05-06 19:35:08,086: DEBUG [bwb.transports:96]\n",
      "> Adjusting with a measure from the EMDTransport class\n",
      "2023-05-06 19:35:08,087: DEBUG [bwb.transports:97]\n",
      "> Shapes: Xs.shape=torch.Size([8804, 2]), Xt.shape=torch.Size([3490, 2])\n",
      "2023-05-06 19:35:30,460: DEBUG [bwb.transports:158]\n",
      "> The function 'fit_wm' takes 22.3749 [seg]\n",
      "2023-05-06 19:35:30,464: DEBUG [bwb.geodesics:59]\n",
      "> Using the method _fit.\n",
      "2023-05-06 19:35:30,466: DEBUG [bwb.geodesics:61]\n",
      "> n=8804, dim_0=2\n",
      "2023-05-06 19:35:30,468: DEBUG [bwb.geodesics:63]\n",
      "> m=3490, dim_1=2\n",
      "2023-05-06 19:35:30,478: DEBUG [bwb.geodesics:158]\n",
      "> The function 'fit_wm' takes 22.3951 [seg]\n",
      "2023-05-06 19:35:30,479: DEBUG [bwb.geodesics:158]\n",
      "> The function 'fit' takes 22.4017 [seg]\n",
      "2023-05-06 19:35:30,481: DEBUG [bwb._protocols:56]\n",
      "> Fitting with distribution from the FitWithDistribution Protocol.\n",
      "2023-05-06 19:35:30,519: DEBUG [bwb.geodesics:38]\n",
      "> Fitting with measure from the BaseGeodesic class.\n",
      "2023-05-06 19:35:30,521: DEBUG [bwb.transports:96]\n",
      "> Adjusting with a measure from the EMDTransport class\n",
      "2023-05-06 19:35:30,523: DEBUG [bwb.transports:97]\n",
      "> Shapes: Xs.shape=torch.Size([3490, 2]), Xt.shape=torch.Size([4415, 2])\n",
      "2023-05-06 19:35:37,982: DEBUG [bwb.transports:158]\n",
      "> The function 'fit_wm' takes 7.4614 [seg]\n",
      "2023-05-06 19:35:37,984: DEBUG [bwb.geodesics:59]\n",
      "> Using the method _fit.\n",
      "2023-05-06 19:35:37,984: DEBUG [bwb.geodesics:61]\n",
      "> n=3490, dim_0=2\n",
      "2023-05-06 19:35:37,985: DEBUG [bwb.geodesics:63]\n",
      "> m=4415, dim_1=2\n",
      "2023-05-06 19:35:37,987: DEBUG [bwb.geodesics:158]\n",
      "> The function 'fit_wm' takes 7.4674 [seg]\n",
      "2023-05-06 19:35:37,990: DEBUG [bwb.geodesics:158]\n",
      "> The function 'fit' takes 7.5091 [seg]\n",
      "2023-05-06 19:35:37,991: DEBUG [bwb._protocols:56]\n",
      "> Fitting with distribution from the FitWithDistribution Protocol.\n",
      "2023-05-06 19:35:37,994: DEBUG [bwb.geodesics:38]\n",
      "> Fitting with measure from the BaseGeodesic class.\n",
      "2023-05-06 19:35:37,996: DEBUG [bwb.transports:96]\n",
      "> Adjusting with a measure from the EMDTransport class\n",
      "2023-05-06 19:35:37,997: DEBUG [bwb.transports:97]\n",
      "> Shapes: Xs.shape=torch.Size([2486, 2]), Xt.shape=torch.Size([4415, 2])\n",
      "2023-05-06 19:35:43,877: DEBUG [bwb.transports:158]\n",
      "> The function 'fit_wm' takes 5.8809 [seg]\n",
      "2023-05-06 19:35:43,878: DEBUG [bwb.geodesics:59]\n",
      "> Using the method _fit.\n",
      "2023-05-06 19:35:43,880: DEBUG [bwb.geodesics:61]\n",
      "> n=2486, dim_0=2\n",
      "2023-05-06 19:35:43,880: DEBUG [bwb.geodesics:63]\n",
      "> m=4415, dim_1=2\n",
      "2023-05-06 19:35:43,881: DEBUG [bwb.geodesics:158]\n",
      "> The function 'fit_wm' takes 5.8872 [seg]\n",
      "2023-05-06 19:35:43,883: DEBUG [bwb.geodesics:158]\n",
      "> The function 'fit' takes 5.8922 [seg]\n"
     ]
    },
    {
     "name": "stdout",
     "output_type": "stream",
     "text": [
      "CPU times: total: 53.1 s\n",
      "Wall time: 50.1 s\n"
     ]
    }
   ],
   "source": [
    "%%time\n",
    "geodesic12 = McCannGeodesic(trnsp.EMDTransport(max_iter=250_000)).fit(dd_s=dd1, dd_t=dd2)\n",
    "geodesic13 = McCannGeodesic(trnsp.EMDTransport(max_iter=250_000)).fit(dd_s=dd1, dd_t=dd3)\n",
    "geodesic34 = McCannGeodesic(trnsp.EMDTransport(max_iter=250_000)).fit(dd_s=dd3, dd_t=dd4)\n",
    "geodesic24 = McCannGeodesic(trnsp.EMDTransport(max_iter=250_000)).fit(dd_s=dd2, dd_t=dd4)"
   ],
   "metadata": {
    "collapsed": false,
    "pycharm": {
     "name": "#%%\n"
    }
   }
  },
  {
   "cell_type": "code",
   "execution_count": 11,
   "outputs": [
    {
     "data": {
      "text/plain": "array([[ 0,  1,  2,  3],\n       [ 4,  5,  6,  7],\n       [ 8,  9, 10, 11]])"
     },
     "execution_count": 11,
     "metadata": {},
     "output_type": "execute_result"
    }
   ],
   "source": [
    "M = np.arange(12).reshape((3, 4))\n",
    "M[np.array([1, 0]), np.array([2, 2])]\n",
    "M"
   ],
   "metadata": {
    "collapsed": false,
    "pycharm": {
     "name": "#%%\n"
    }
   }
  },
  {
   "cell_type": "code",
   "execution_count": null,
   "outputs": [
    {
     "name": "stderr",
     "output_type": "stream",
     "text": [
      "2023-05-06 19:35:45,139: DEBUG [__main__:45]\n",
      "> i = 0, j = 0 ==> Total time: 0.0040 [seg]\n",
      "2023-05-06 19:35:45,140: DEBUG [bwb.geodesics:77]\n",
      "> Interpolating with t=0.25\n",
      "2023-05-06 19:35:46,522: DEBUG [bwb.geodesics:80]\n",
      "> X.shape = torch.Size([8804, 3490, 2])\n",
      "2023-05-06 19:35:46,537: DEBUG [bwb.geodesics:82]\n",
      "> coupling.shape = torch.Size([8804, 3490])\n",
      "2023-05-06 19:35:52,834: DEBUG [bwb.geodesics:87]\n",
      "> nz_coord[0].shape = torch.Size([11984])\n",
      "2023-05-06 19:35:52,958: DEBUG [bwb.geodesics:89]\n",
      "> X_to_return.shape = torch.Size([11984, 2])\n",
      "2023-05-06 19:35:52,977: DEBUG [bwb.geodesics:91]\n",
      "> weights.shape = torch.Size([11984])\n",
      "2023-05-06 19:35:53,023: DEBUG [bwb.geodesics:92]\n",
      "> weights.sum() = 0.9998\n",
      "2023-05-06 19:35:53,127: DEBUG [bwb.geodesics:158]\n",
      "> The function 'interpolate' takes 7.9861 [seg]\n",
      "2023-05-06 19:35:57,494: DEBUG [bwb._logging:158]\n",
      "> The function 'grayscale' takes 4.2647 [seg]\n",
      "2023-05-06 19:35:57,557: DEBUG [__main__:45]\n",
      "> i = 0, j = 1 ==> Total time: 12.4175 [seg]\n",
      "2023-05-06 19:35:57,562: DEBUG [bwb.geodesics:77]\n",
      "> Interpolating with t=0.50\n",
      "2023-05-06 19:35:57,791: DEBUG [bwb.geodesics:80]\n",
      "> X.shape = torch.Size([8804, 3490, 2])\n",
      "2023-05-06 19:35:57,792: DEBUG [bwb.geodesics:82]\n",
      "> coupling.shape = torch.Size([8804, 3490])\n"
     ]
    },
    {
     "ename": "KeyboardInterrupt",
     "evalue": "",
     "output_type": "error",
     "traceback": [
      "\u001B[1;31m---------------------------------------------------------------------------\u001B[0m",
      "\u001B[1;31mKeyboardInterrupt\u001B[0m                         Traceback (most recent call last)",
      "File \u001B[1;32m<timed exec>:29\u001B[0m\n",
      "File \u001B[1;32m~\\PycharmProjects\\PersonalProjects\\Bayesian-Learning-with-Wasserstein-Barycenters\\bwb\\_logging.py:156\u001B[0m, in \u001B[0;36mregister_total_time.<locals>.decorator_register_total_time.<locals>.timeit_wrapper\u001B[1;34m(*args, **kwargs)\u001B[0m\n\u001B[0;32m    153\u001B[0m \u001B[38;5;129m@functools\u001B[39m\u001B[38;5;241m.\u001B[39mwraps(func)\n\u001B[0;32m    154\u001B[0m \u001B[38;5;28;01mdef\u001B[39;00m \u001B[38;5;21mtimeit_wrapper\u001B[39m(\u001B[38;5;241m*\u001B[39margs, \u001B[38;5;241m*\u001B[39m\u001B[38;5;241m*\u001B[39mkwargs):\n\u001B[0;32m    155\u001B[0m     tic \u001B[38;5;241m=\u001B[39m time\u001B[38;5;241m.\u001B[39mperf_counter()\n\u001B[1;32m--> 156\u001B[0m     result \u001B[38;5;241m=\u001B[39m func(\u001B[38;5;241m*\u001B[39margs, \u001B[38;5;241m*\u001B[39m\u001B[38;5;241m*\u001B[39mkwargs)\n\u001B[0;32m    157\u001B[0m     toc \u001B[38;5;241m=\u001B[39m time\u001B[38;5;241m.\u001B[39mperf_counter()\n\u001B[0;32m    158\u001B[0m     logger\u001B[38;5;241m.\u001B[39mdebug(\u001B[38;5;124mf\u001B[39m\u001B[38;5;124m\"\u001B[39m\u001B[38;5;124mThe function \u001B[39m\u001B[38;5;124m'\u001B[39m\u001B[38;5;132;01m{\u001B[39;00mfunc\u001B[38;5;241m.\u001B[39m\u001B[38;5;18m__name__\u001B[39m\u001B[38;5;132;01m}\u001B[39;00m\u001B[38;5;124m'\u001B[39m\u001B[38;5;124m takes \u001B[39m\u001B[38;5;132;01m{\u001B[39;00mtoc \u001B[38;5;241m-\u001B[39m tic\u001B[38;5;132;01m:\u001B[39;00m\u001B[38;5;124m.4f\u001B[39m\u001B[38;5;132;01m}\u001B[39;00m\u001B[38;5;124m [seg]\u001B[39m\u001B[38;5;124m\"\u001B[39m)\n",
      "File \u001B[1;32m~\\PycharmProjects\\PersonalProjects\\Bayesian-Learning-with-Wasserstein-Barycenters\\bwb\\geodesics.py:84\u001B[0m, in \u001B[0;36mMcCannGeodesic.interpolate\u001B[1;34m(self, t, rtol, atol)\u001B[0m\n\u001B[0;32m     81\u001B[0m coupling \u001B[38;5;241m=\u001B[39m \u001B[38;5;28mself\u001B[39m\u001B[38;5;241m.\u001B[39mcoupling_\n\u001B[0;32m     82\u001B[0m _log\u001B[38;5;241m.\u001B[39mdebug(\u001B[38;5;124mf\u001B[39m\u001B[38;5;124m\"\u001B[39m\u001B[38;5;132;01m{\u001B[39;00mcoupling\u001B[38;5;241m.\u001B[39mshape \u001B[38;5;132;01m= }\u001B[39;00m\u001B[38;5;124m\"\u001B[39m)\n\u001B[0;32m     83\u001B[0m nz_coord \u001B[38;5;241m=\u001B[39m torch\u001B[38;5;241m.\u001B[39mnonzero(\n\u001B[1;32m---> 84\u001B[0m     \u001B[38;5;241m~\u001B[39m\u001B[43mtorch\u001B[49m\u001B[38;5;241;43m.\u001B[39;49m\u001B[43misclose\u001B[49m\u001B[43m(\u001B[49m\u001B[43mtorch\u001B[49m\u001B[38;5;241;43m.\u001B[39;49m\u001B[43mzeros_like\u001B[49m\u001B[43m(\u001B[49m\u001B[43mcoupling\u001B[49m\u001B[43m)\u001B[49m\u001B[43m,\u001B[49m\u001B[43m \u001B[49m\u001B[43mcoupling\u001B[49m\u001B[43m,\u001B[49m\u001B[43m \u001B[49m\u001B[43mrtol\u001B[49m\u001B[38;5;241;43m=\u001B[39;49m\u001B[43mrtol\u001B[49m\u001B[43m,\u001B[49m\u001B[43m \u001B[49m\u001B[43matol\u001B[49m\u001B[38;5;241;43m=\u001B[39;49m\u001B[43matol\u001B[49m\u001B[43m)\u001B[49m,\n\u001B[0;32m     85\u001B[0m     as_tuple\u001B[38;5;241m=\u001B[39m\u001B[38;5;28;01mTrue\u001B[39;00m\n\u001B[0;32m     86\u001B[0m )\n\u001B[0;32m     87\u001B[0m _log\u001B[38;5;241m.\u001B[39mdebug(\u001B[38;5;124mf\u001B[39m\u001B[38;5;124m\"\u001B[39m\u001B[38;5;132;01m{\u001B[39;00mnz_coord[\u001B[38;5;241m0\u001B[39m]\u001B[38;5;241m.\u001B[39mshape \u001B[38;5;132;01m= }\u001B[39;00m\u001B[38;5;124m\"\u001B[39m)\n\u001B[0;32m     88\u001B[0m X_to_return \u001B[38;5;241m=\u001B[39m X[nz_coord]\n",
      "\u001B[1;31mKeyboardInterrupt\u001B[0m: "
     ]
    },
    {
     "name": "stdout",
     "output_type": "stream",
     "text": [
      "Error in callback <function flush_figures at 0x0000018F15596710> (for post_execute):\n"
     ]
    }
   ],
   "source": [
    "%%time\n",
    "import time\n",
    "\n",
    "fig, axes = plt.subplots(nb_images, nb_images, figsize=(7, 7))\n",
    "cm = 'Blues'\n",
    "tic_ = time.time()\n",
    "for i in range(nb_images):\n",
    "    for j in range(nb_images):\n",
    "        tic = time.time()\n",
    "\n",
    "        tx = float(i) / (nb_images - 1)\n",
    "        ty = float(j) / (nb_images - 1)\n",
    "\n",
    "        # weights are constructed by bilinear interpolation\n",
    "        tmp1 = (1 - tx) * v1 + tx * v2\n",
    "        tmp2 = (1 - tx) * v3 + tx * v4\n",
    "        weights = (1 - ty) * tmp1 + ty * tmp2\n",
    "\n",
    "        axes_ij = axes[i, j]\n",
    "\n",
    "        if i == 0 and j == 0:\n",
    "            axes_ij.imshow(f1, cmap=cm)\n",
    "        elif i == 0 and j == (nb_images - 1):\n",
    "            axes_ij.imshow(f3, cmap=cm)\n",
    "        elif i == (nb_images - 1) and j == 0:\n",
    "            axes_ij.imshow(f2, cmap=cm)\n",
    "        elif i == (nb_images - 1) and j == (nb_images - 1):\n",
    "            axes_ij.imshow(f4, cmap=cm)\n",
    "        elif i == 0:\n",
    "            dd_t = DistributionDraw(*geodesic13.interpolate(ty), original_shape)\n",
    "            axes_ij.imshow(dd_t.grayscale, cmap=cm)\n",
    "        elif i == (nb_images - 1):\n",
    "            dd_t = DistributionDraw(*geodesic24.interpolate(ty), original_shape)\n",
    "            axes_ij.imshow(dd_t.grayscale, cmap=cm)\n",
    "        elif j == 0:\n",
    "            dd_t = DistributionDraw(*geodesic12.interpolate(tx), original_shape)\n",
    "            axes_ij.imshow(dd_t.grayscale, cmap=cm)\n",
    "        elif j == (nb_images - 1):\n",
    "            dd_t = DistributionDraw(*geodesic34.interpolate(tx), original_shape)\n",
    "            axes_ij.imshow(dd_t.grayscale, cmap=cm)\n",
    "        else:\n",
    "            axes_ij.imshow(np.zeros(original_shape), cmap=cm)\n",
    "        axes_ij.axis('off')\n",
    "\n",
    "        toc = time.time()\n",
    "        _log.debug(f\"{i = }, {j = } ==> Total time: {toc - tic:.4f} [seg]\")\n",
    "toc_ = time.time()\n",
    "d_time = f\"\\nΔt={toc_-tic_:.1f}[seg]\"\n",
    "\n",
    "plt.suptitle(f'McCann Interpolation with EMD Transport. {d_time}')\n",
    "\n",
    "plt.tight_layout()\n",
    "plt.savefig(img_path / f\"{additional_info}-mccaan-interpolation-emd.png\", dpi=800)\n",
    "plt.show()"
   ],
   "metadata": {
    "collapsed": false,
    "pycharm": {
     "name": "#%%\n"
    }
   }
  },
  {
   "cell_type": "markdown",
   "source": [
    "# Interpolación con la proyección baricéntrica"
   ],
   "metadata": {
    "collapsed": false,
    "pycharm": {
     "name": "#%% md\n"
    }
   }
  },
  {
   "cell_type": "code",
   "execution_count": 13,
   "outputs": [
    {
     "name": "stderr",
     "output_type": "stream",
     "text": [
      "2023-05-06 19:36:01,993: DEBUG [bwb._protocols:56]\n",
      "> Fitting with distribution from the FitWithDistribution Protocol.\n",
      "2023-05-06 19:36:02,014: DEBUG [bwb.geodesics:38]\n",
      "> Fitting with measure from the BaseGeodesic class.\n",
      "2023-05-06 19:36:02,015: DEBUG [bwb.transports:96]\n",
      "> Adjusting with a measure from the EMDTransport class\n",
      "2023-05-06 19:36:02,016: DEBUG [bwb.transports:97]\n",
      "> Shapes: Xs.shape=torch.Size([8804, 2]), Xt.shape=torch.Size([2486, 2])\n",
      "\n",
      "KeyboardInterrupt\n",
      "\n"
     ]
    }
   ],
   "source": [
    "%%time\n",
    "geodesic12 = BarycentricProjGeodesic(trnsp.EMDTransport(max_iter=250_000)).fit(dd_s=dd1, dd_t=dd2)\n",
    "geodesic13 = BarycentricProjGeodesic(trnsp.EMDTransport(max_iter=250_000)).fit(dd_s=dd1, dd_t=dd3)\n",
    "geodesic34 = BarycentricProjGeodesic(trnsp.EMDTransport(max_iter=250_000)).fit(dd_s=dd3, dd_t=dd4)\n",
    "geodesic24 = BarycentricProjGeodesic(trnsp.EMDTransport(max_iter=250_000)).fit(dd_s=dd2, dd_t=dd4)"
   ],
   "metadata": {
    "collapsed": false,
    "pycharm": {
     "name": "#%%\n"
    }
   }
  },
  {
   "cell_type": "code",
   "execution_count": 14,
   "outputs": [
    {
     "name": "stderr",
     "output_type": "stream",
     "text": [
      "\n",
      "KeyboardInterrupt\n",
      "\n"
     ]
    },
    {
     "name": "stdout",
     "output_type": "stream",
     "text": [
      "Error in callback <function _draw_all_if_interactive at 0x0000018F7BF104C0> (for post_execute):\n"
     ]
    },
    {
     "ename": "KeyboardInterrupt",
     "evalue": "",
     "output_type": "error",
     "traceback": [
      "\u001B[1;31m---------------------------------------------------------------------------\u001B[0m",
      "\u001B[1;31mKeyboardInterrupt\u001B[0m                         Traceback (most recent call last)",
      "File \u001B[1;32m~\\PycharmProjects\\PersonalProjects\\Bayesian-Learning-with-Wasserstein-Barycenters\\venv\\lib\\site-packages\\matplotlib\\pyplot.py:119\u001B[0m, in \u001B[0;36m_draw_all_if_interactive\u001B[1;34m()\u001B[0m\n\u001B[0;32m    117\u001B[0m \u001B[38;5;28;01mdef\u001B[39;00m \u001B[38;5;21m_draw_all_if_interactive\u001B[39m():\n\u001B[0;32m    118\u001B[0m     \u001B[38;5;28;01mif\u001B[39;00m matplotlib\u001B[38;5;241m.\u001B[39mis_interactive():\n\u001B[1;32m--> 119\u001B[0m         \u001B[43mdraw_all\u001B[49m\u001B[43m(\u001B[49m\u001B[43m)\u001B[49m\n",
      "File \u001B[1;32m~\\PycharmProjects\\PersonalProjects\\Bayesian-Learning-with-Wasserstein-Barycenters\\venv\\lib\\site-packages\\matplotlib\\_pylab_helpers.py:132\u001B[0m, in \u001B[0;36mGcf.draw_all\u001B[1;34m(cls, force)\u001B[0m\n\u001B[0;32m    130\u001B[0m \u001B[38;5;28;01mfor\u001B[39;00m manager \u001B[38;5;129;01min\u001B[39;00m \u001B[38;5;28mcls\u001B[39m\u001B[38;5;241m.\u001B[39mget_all_fig_managers():\n\u001B[0;32m    131\u001B[0m     \u001B[38;5;28;01mif\u001B[39;00m force \u001B[38;5;129;01mor\u001B[39;00m manager\u001B[38;5;241m.\u001B[39mcanvas\u001B[38;5;241m.\u001B[39mfigure\u001B[38;5;241m.\u001B[39mstale:\n\u001B[1;32m--> 132\u001B[0m         \u001B[43mmanager\u001B[49m\u001B[38;5;241;43m.\u001B[39;49m\u001B[43mcanvas\u001B[49m\u001B[38;5;241;43m.\u001B[39;49m\u001B[43mdraw_idle\u001B[49m\u001B[43m(\u001B[49m\u001B[43m)\u001B[49m\n",
      "File \u001B[1;32m~\\PycharmProjects\\PersonalProjects\\Bayesian-Learning-with-Wasserstein-Barycenters\\venv\\lib\\site-packages\\matplotlib\\backend_bases.py:2054\u001B[0m, in \u001B[0;36mFigureCanvasBase.draw_idle\u001B[1;34m(self, *args, **kwargs)\u001B[0m\n\u001B[0;32m   2052\u001B[0m \u001B[38;5;28;01mif\u001B[39;00m \u001B[38;5;129;01mnot\u001B[39;00m \u001B[38;5;28mself\u001B[39m\u001B[38;5;241m.\u001B[39m_is_idle_drawing:\n\u001B[0;32m   2053\u001B[0m     \u001B[38;5;28;01mwith\u001B[39;00m \u001B[38;5;28mself\u001B[39m\u001B[38;5;241m.\u001B[39m_idle_draw_cntx():\n\u001B[1;32m-> 2054\u001B[0m         \u001B[38;5;28mself\u001B[39m\u001B[38;5;241m.\u001B[39mdraw(\u001B[38;5;241m*\u001B[39margs, \u001B[38;5;241m*\u001B[39m\u001B[38;5;241m*\u001B[39mkwargs)\n",
      "File \u001B[1;32m~\\PycharmProjects\\PersonalProjects\\Bayesian-Learning-with-Wasserstein-Barycenters\\venv\\lib\\site-packages\\matplotlib\\backends\\backend_agg.py:405\u001B[0m, in \u001B[0;36mFigureCanvasAgg.draw\u001B[1;34m(self)\u001B[0m\n\u001B[0;32m    401\u001B[0m \u001B[38;5;66;03m# Acquire a lock on the shared font cache.\u001B[39;00m\n\u001B[0;32m    402\u001B[0m \u001B[38;5;28;01mwith\u001B[39;00m RendererAgg\u001B[38;5;241m.\u001B[39mlock, \\\n\u001B[0;32m    403\u001B[0m      (\u001B[38;5;28mself\u001B[39m\u001B[38;5;241m.\u001B[39mtoolbar\u001B[38;5;241m.\u001B[39m_wait_cursor_for_draw_cm() \u001B[38;5;28;01mif\u001B[39;00m \u001B[38;5;28mself\u001B[39m\u001B[38;5;241m.\u001B[39mtoolbar\n\u001B[0;32m    404\u001B[0m       \u001B[38;5;28;01melse\u001B[39;00m nullcontext()):\n\u001B[1;32m--> 405\u001B[0m     \u001B[38;5;28;43mself\u001B[39;49m\u001B[38;5;241;43m.\u001B[39;49m\u001B[43mfigure\u001B[49m\u001B[38;5;241;43m.\u001B[39;49m\u001B[43mdraw\u001B[49m\u001B[43m(\u001B[49m\u001B[38;5;28;43mself\u001B[39;49m\u001B[38;5;241;43m.\u001B[39;49m\u001B[43mrenderer\u001B[49m\u001B[43m)\u001B[49m\n\u001B[0;32m    406\u001B[0m     \u001B[38;5;66;03m# A GUI class may be need to update a window using this draw, so\u001B[39;00m\n\u001B[0;32m    407\u001B[0m     \u001B[38;5;66;03m# don't forget to call the superclass.\u001B[39;00m\n\u001B[0;32m    408\u001B[0m     \u001B[38;5;28msuper\u001B[39m()\u001B[38;5;241m.\u001B[39mdraw()\n",
      "File \u001B[1;32m~\\PycharmProjects\\PersonalProjects\\Bayesian-Learning-with-Wasserstein-Barycenters\\venv\\lib\\site-packages\\matplotlib\\artist.py:74\u001B[0m, in \u001B[0;36m_finalize_rasterization.<locals>.draw_wrapper\u001B[1;34m(artist, renderer, *args, **kwargs)\u001B[0m\n\u001B[0;32m     72\u001B[0m \u001B[38;5;129m@wraps\u001B[39m(draw)\n\u001B[0;32m     73\u001B[0m \u001B[38;5;28;01mdef\u001B[39;00m \u001B[38;5;21mdraw_wrapper\u001B[39m(artist, renderer, \u001B[38;5;241m*\u001B[39margs, \u001B[38;5;241m*\u001B[39m\u001B[38;5;241m*\u001B[39mkwargs):\n\u001B[1;32m---> 74\u001B[0m     result \u001B[38;5;241m=\u001B[39m draw(artist, renderer, \u001B[38;5;241m*\u001B[39margs, \u001B[38;5;241m*\u001B[39m\u001B[38;5;241m*\u001B[39mkwargs)\n\u001B[0;32m     75\u001B[0m     \u001B[38;5;28;01mif\u001B[39;00m renderer\u001B[38;5;241m.\u001B[39m_rasterizing:\n\u001B[0;32m     76\u001B[0m         renderer\u001B[38;5;241m.\u001B[39mstop_rasterizing()\n",
      "File \u001B[1;32m~\\PycharmProjects\\PersonalProjects\\Bayesian-Learning-with-Wasserstein-Barycenters\\venv\\lib\\site-packages\\matplotlib\\artist.py:51\u001B[0m, in \u001B[0;36mallow_rasterization.<locals>.draw_wrapper\u001B[1;34m(artist, renderer)\u001B[0m\n\u001B[0;32m     48\u001B[0m     \u001B[38;5;28;01mif\u001B[39;00m artist\u001B[38;5;241m.\u001B[39mget_agg_filter() \u001B[38;5;129;01mis\u001B[39;00m \u001B[38;5;129;01mnot\u001B[39;00m \u001B[38;5;28;01mNone\u001B[39;00m:\n\u001B[0;32m     49\u001B[0m         renderer\u001B[38;5;241m.\u001B[39mstart_filter()\n\u001B[1;32m---> 51\u001B[0m     \u001B[38;5;28;01mreturn\u001B[39;00m \u001B[43mdraw\u001B[49m\u001B[43m(\u001B[49m\u001B[43martist\u001B[49m\u001B[43m,\u001B[49m\u001B[43m \u001B[49m\u001B[43mrenderer\u001B[49m\u001B[43m)\u001B[49m\n\u001B[0;32m     52\u001B[0m \u001B[38;5;28;01mfinally\u001B[39;00m:\n\u001B[0;32m     53\u001B[0m     \u001B[38;5;28;01mif\u001B[39;00m artist\u001B[38;5;241m.\u001B[39mget_agg_filter() \u001B[38;5;129;01mis\u001B[39;00m \u001B[38;5;129;01mnot\u001B[39;00m \u001B[38;5;28;01mNone\u001B[39;00m:\n",
      "File \u001B[1;32m~\\PycharmProjects\\PersonalProjects\\Bayesian-Learning-with-Wasserstein-Barycenters\\venv\\lib\\site-packages\\matplotlib\\figure.py:3071\u001B[0m, in \u001B[0;36mFigure.draw\u001B[1;34m(self, renderer)\u001B[0m\n\u001B[0;32m   3068\u001B[0m         \u001B[38;5;66;03m# ValueError can occur when resizing a window.\u001B[39;00m\n\u001B[0;32m   3070\u001B[0m \u001B[38;5;28mself\u001B[39m\u001B[38;5;241m.\u001B[39mpatch\u001B[38;5;241m.\u001B[39mdraw(renderer)\n\u001B[1;32m-> 3071\u001B[0m \u001B[43mmimage\u001B[49m\u001B[38;5;241;43m.\u001B[39;49m\u001B[43m_draw_list_compositing_images\u001B[49m\u001B[43m(\u001B[49m\n\u001B[0;32m   3072\u001B[0m \u001B[43m    \u001B[49m\u001B[43mrenderer\u001B[49m\u001B[43m,\u001B[49m\u001B[43m \u001B[49m\u001B[38;5;28;43mself\u001B[39;49m\u001B[43m,\u001B[49m\u001B[43m \u001B[49m\u001B[43martists\u001B[49m\u001B[43m,\u001B[49m\u001B[43m \u001B[49m\u001B[38;5;28;43mself\u001B[39;49m\u001B[38;5;241;43m.\u001B[39;49m\u001B[43msuppressComposite\u001B[49m\u001B[43m)\u001B[49m\n\u001B[0;32m   3074\u001B[0m \u001B[38;5;28;01mfor\u001B[39;00m sfig \u001B[38;5;129;01min\u001B[39;00m \u001B[38;5;28mself\u001B[39m\u001B[38;5;241m.\u001B[39msubfigs:\n\u001B[0;32m   3075\u001B[0m     sfig\u001B[38;5;241m.\u001B[39mdraw(renderer)\n",
      "File \u001B[1;32m~\\PycharmProjects\\PersonalProjects\\Bayesian-Learning-with-Wasserstein-Barycenters\\venv\\lib\\site-packages\\matplotlib\\image.py:131\u001B[0m, in \u001B[0;36m_draw_list_compositing_images\u001B[1;34m(renderer, parent, artists, suppress_composite)\u001B[0m\n\u001B[0;32m    129\u001B[0m \u001B[38;5;28;01mif\u001B[39;00m not_composite \u001B[38;5;129;01mor\u001B[39;00m \u001B[38;5;129;01mnot\u001B[39;00m has_images:\n\u001B[0;32m    130\u001B[0m     \u001B[38;5;28;01mfor\u001B[39;00m a \u001B[38;5;129;01min\u001B[39;00m artists:\n\u001B[1;32m--> 131\u001B[0m         \u001B[43ma\u001B[49m\u001B[38;5;241;43m.\u001B[39;49m\u001B[43mdraw\u001B[49m\u001B[43m(\u001B[49m\u001B[43mrenderer\u001B[49m\u001B[43m)\u001B[49m\n\u001B[0;32m    132\u001B[0m \u001B[38;5;28;01melse\u001B[39;00m:\n\u001B[0;32m    133\u001B[0m     \u001B[38;5;66;03m# Composite any adjacent images together\u001B[39;00m\n\u001B[0;32m    134\u001B[0m     image_group \u001B[38;5;241m=\u001B[39m []\n",
      "File \u001B[1;32m~\\PycharmProjects\\PersonalProjects\\Bayesian-Learning-with-Wasserstein-Barycenters\\venv\\lib\\site-packages\\matplotlib\\artist.py:51\u001B[0m, in \u001B[0;36mallow_rasterization.<locals>.draw_wrapper\u001B[1;34m(artist, renderer)\u001B[0m\n\u001B[0;32m     48\u001B[0m     \u001B[38;5;28;01mif\u001B[39;00m artist\u001B[38;5;241m.\u001B[39mget_agg_filter() \u001B[38;5;129;01mis\u001B[39;00m \u001B[38;5;129;01mnot\u001B[39;00m \u001B[38;5;28;01mNone\u001B[39;00m:\n\u001B[0;32m     49\u001B[0m         renderer\u001B[38;5;241m.\u001B[39mstart_filter()\n\u001B[1;32m---> 51\u001B[0m     \u001B[38;5;28;01mreturn\u001B[39;00m \u001B[43mdraw\u001B[49m\u001B[43m(\u001B[49m\u001B[43martist\u001B[49m\u001B[43m,\u001B[49m\u001B[43m \u001B[49m\u001B[43mrenderer\u001B[49m\u001B[43m)\u001B[49m\n\u001B[0;32m     52\u001B[0m \u001B[38;5;28;01mfinally\u001B[39;00m:\n\u001B[0;32m     53\u001B[0m     \u001B[38;5;28;01mif\u001B[39;00m artist\u001B[38;5;241m.\u001B[39mget_agg_filter() \u001B[38;5;129;01mis\u001B[39;00m \u001B[38;5;129;01mnot\u001B[39;00m \u001B[38;5;28;01mNone\u001B[39;00m:\n",
      "File \u001B[1;32m~\\PycharmProjects\\PersonalProjects\\Bayesian-Learning-with-Wasserstein-Barycenters\\venv\\lib\\site-packages\\matplotlib\\axes\\_base.py:3100\u001B[0m, in \u001B[0;36m_AxesBase.draw\u001B[1;34m(self, renderer)\u001B[0m\n\u001B[0;32m   3097\u001B[0m \u001B[38;5;66;03m# the patch draws the background rectangle -- the frame below\u001B[39;00m\n\u001B[0;32m   3098\u001B[0m \u001B[38;5;66;03m# will draw the edges\u001B[39;00m\n\u001B[0;32m   3099\u001B[0m \u001B[38;5;28;01mif\u001B[39;00m \u001B[38;5;28mself\u001B[39m\u001B[38;5;241m.\u001B[39maxison \u001B[38;5;129;01mand\u001B[39;00m \u001B[38;5;28mself\u001B[39m\u001B[38;5;241m.\u001B[39m_frameon:\n\u001B[1;32m-> 3100\u001B[0m     \u001B[38;5;28;43mself\u001B[39;49m\u001B[38;5;241;43m.\u001B[39;49m\u001B[43mpatch\u001B[49m\u001B[38;5;241;43m.\u001B[39;49m\u001B[43mdraw\u001B[49m\u001B[43m(\u001B[49m\u001B[43mrenderer\u001B[49m\u001B[43m)\u001B[49m\n\u001B[0;32m   3102\u001B[0m \u001B[38;5;28;01mif\u001B[39;00m artists_rasterized:\n\u001B[0;32m   3103\u001B[0m     \u001B[38;5;28;01mfor\u001B[39;00m a \u001B[38;5;129;01min\u001B[39;00m artists_rasterized:\n",
      "File \u001B[1;32m~\\PycharmProjects\\PersonalProjects\\Bayesian-Learning-with-Wasserstein-Barycenters\\venv\\lib\\site-packages\\matplotlib\\artist.py:51\u001B[0m, in \u001B[0;36mallow_rasterization.<locals>.draw_wrapper\u001B[1;34m(artist, renderer)\u001B[0m\n\u001B[0;32m     48\u001B[0m     \u001B[38;5;28;01mif\u001B[39;00m artist\u001B[38;5;241m.\u001B[39mget_agg_filter() \u001B[38;5;129;01mis\u001B[39;00m \u001B[38;5;129;01mnot\u001B[39;00m \u001B[38;5;28;01mNone\u001B[39;00m:\n\u001B[0;32m     49\u001B[0m         renderer\u001B[38;5;241m.\u001B[39mstart_filter()\n\u001B[1;32m---> 51\u001B[0m     \u001B[38;5;28;01mreturn\u001B[39;00m \u001B[43mdraw\u001B[49m\u001B[43m(\u001B[49m\u001B[43martist\u001B[49m\u001B[43m,\u001B[49m\u001B[43m \u001B[49m\u001B[43mrenderer\u001B[49m\u001B[43m)\u001B[49m\n\u001B[0;32m     52\u001B[0m \u001B[38;5;28;01mfinally\u001B[39;00m:\n\u001B[0;32m     53\u001B[0m     \u001B[38;5;28;01mif\u001B[39;00m artist\u001B[38;5;241m.\u001B[39mget_agg_filter() \u001B[38;5;129;01mis\u001B[39;00m \u001B[38;5;129;01mnot\u001B[39;00m \u001B[38;5;28;01mNone\u001B[39;00m:\n",
      "File \u001B[1;32m~\\PycharmProjects\\PersonalProjects\\Bayesian-Learning-with-Wasserstein-Barycenters\\venv\\lib\\site-packages\\matplotlib\\patches.py:588\u001B[0m, in \u001B[0;36mPatch.draw\u001B[1;34m(self, renderer)\u001B[0m\n\u001B[0;32m    586\u001B[0m transform \u001B[38;5;241m=\u001B[39m \u001B[38;5;28mself\u001B[39m\u001B[38;5;241m.\u001B[39mget_transform()\n\u001B[0;32m    587\u001B[0m tpath \u001B[38;5;241m=\u001B[39m transform\u001B[38;5;241m.\u001B[39mtransform_path_non_affine(path)\n\u001B[1;32m--> 588\u001B[0m affine \u001B[38;5;241m=\u001B[39m \u001B[43mtransform\u001B[49m\u001B[38;5;241;43m.\u001B[39;49m\u001B[43mget_affine\u001B[49m\u001B[43m(\u001B[49m\u001B[43m)\u001B[49m\n\u001B[0;32m    589\u001B[0m \u001B[38;5;28mself\u001B[39m\u001B[38;5;241m.\u001B[39m_draw_paths_with_artist_properties(\n\u001B[0;32m    590\u001B[0m     renderer,\n\u001B[0;32m    591\u001B[0m     [(tpath, affine,\n\u001B[1;32m   (...)\u001B[0m\n\u001B[0;32m    594\u001B[0m       \u001B[38;5;66;03m# transparent, but do if it is None.\u001B[39;00m\n\u001B[0;32m    595\u001B[0m       \u001B[38;5;28mself\u001B[39m\u001B[38;5;241m.\u001B[39m_facecolor \u001B[38;5;28;01mif\u001B[39;00m \u001B[38;5;28mself\u001B[39m\u001B[38;5;241m.\u001B[39m_facecolor[\u001B[38;5;241m3\u001B[39m] \u001B[38;5;28;01melse\u001B[39;00m \u001B[38;5;28;01mNone\u001B[39;00m)])\n",
      "File \u001B[1;32m~\\PycharmProjects\\PersonalProjects\\Bayesian-Learning-with-Wasserstein-Barycenters\\venv\\lib\\site-packages\\matplotlib\\transforms.py:2446\u001B[0m, in \u001B[0;36mCompositeGenericTransform.get_affine\u001B[1;34m(self)\u001B[0m\n\u001B[0;32m   2444\u001B[0m     \u001B[38;5;28;01mreturn\u001B[39;00m \u001B[38;5;28mself\u001B[39m\u001B[38;5;241m.\u001B[39m_b\u001B[38;5;241m.\u001B[39mget_affine()\n\u001B[0;32m   2445\u001B[0m \u001B[38;5;28;01melse\u001B[39;00m:\n\u001B[1;32m-> 2446\u001B[0m     \u001B[38;5;28;01mreturn\u001B[39;00m Affine2D(\u001B[43mnp\u001B[49m\u001B[38;5;241;43m.\u001B[39;49m\u001B[43mdot\u001B[49m\u001B[43m(\u001B[49m\u001B[38;5;28;43mself\u001B[39;49m\u001B[38;5;241;43m.\u001B[39;49m\u001B[43m_b\u001B[49m\u001B[38;5;241;43m.\u001B[39;49m\u001B[43mget_affine\u001B[49m\u001B[43m(\u001B[49m\u001B[43m)\u001B[49m\u001B[38;5;241;43m.\u001B[39;49m\u001B[43mget_matrix\u001B[49m\u001B[43m(\u001B[49m\u001B[43m)\u001B[49m\u001B[43m,\u001B[49m\n\u001B[0;32m   2447\u001B[0m \u001B[43m                           \u001B[49m\u001B[38;5;28;43mself\u001B[39;49m\u001B[38;5;241;43m.\u001B[39;49m\u001B[43m_a\u001B[49m\u001B[38;5;241;43m.\u001B[39;49m\u001B[43mget_affine\u001B[49m\u001B[43m(\u001B[49m\u001B[43m)\u001B[49m\u001B[38;5;241;43m.\u001B[39;49m\u001B[43mget_matrix\u001B[49m\u001B[43m(\u001B[49m\u001B[43m)\u001B[49m\u001B[43m)\u001B[49m)\n",
      "File \u001B[1;32m<__array_function__ internals>:200\u001B[0m, in \u001B[0;36mdot\u001B[1;34m(*args, **kwargs)\u001B[0m\n",
      "\u001B[1;31mKeyboardInterrupt\u001B[0m: "
     ]
    },
    {
     "data": {
      "text/plain": "<Figure size 700x700 with 13 Axes>",
      "image/png": "[encoded data removed]"
     },
     "metadata": {},
     "output_type": "display_data"
    }
   ],
   "source": [
    "%%time\n",
    "import time\n",
    "\n",
    "fig, axes = plt.subplots(nb_images, nb_images, figsize=(7, 7))\n",
    "cm = 'Blues'\n",
    "tic_ = time.time()\n",
    "for i in range(nb_images):\n",
    "    for j in range(nb_images):\n",
    "        tic = time.time()\n",
    "\n",
    "        tx = float(i) / (nb_images - 1)\n",
    "        ty = float(j) / (nb_images - 1)\n",
    "\n",
    "        # weights are constructed by bilinear interpolation\n",
    "        tmp1 = (1 - tx) * v1 + tx * v2\n",
    "        tmp2 = (1 - tx) * v3 + tx * v4\n",
    "        weights = (1 - ty) * tmp1 + ty * tmp2\n",
    "\n",
    "        axes_ij = axes[i, j]\n",
    "\n",
    "        if i == 0 and j == 0:\n",
    "            axes_ij.imshow(f1, cmap=cm)\n",
    "        elif i == 0 and j == (nb_images - 1):\n",
    "            axes_ij.imshow(f3, cmap=cm)\n",
    "        elif i == (nb_images - 1) and j == 0:\n",
    "            axes_ij.imshow(f2, cmap=cm)\n",
    "        elif i == (nb_images - 1) and j == (nb_images - 1):\n",
    "            axes_ij.imshow(f4, cmap=cm)\n",
    "        elif i == 0:\n",
    "            dd_t = DistributionDraw(*geodesic13.interpolate(ty), original_shape)\n",
    "            axes_ij.imshow(dd_t.grayscale, cmap=cm)\n",
    "        elif i == (nb_images - 1):\n",
    "            dd_t = DistributionDraw(*geodesic24.interpolate(ty), original_shape)\n",
    "            axes_ij.imshow(dd_t.grayscale, cmap=cm)\n",
    "        elif j == 0:\n",
    "            dd_t = DistributionDraw(*geodesic12.interpolate(tx), original_shape)\n",
    "            axes_ij.imshow(dd_t.grayscale, cmap=cm)\n",
    "        elif j == (nb_images - 1):\n",
    "            dd_t = DistributionDraw(*geodesic34.interpolate(tx), original_shape)\n",
    "            axes_ij.imshow(dd_t.grayscale, cmap=cm)\n",
    "        else:\n",
    "            axes_ij.imshow(np.zeros(original_shape), cmap=cm)\n",
    "        axes_ij.axis('off')\n",
    "\n",
    "        toc = time.time()\n",
    "        _log.debug(f\"{i = }, {j = } ==> Total time: {toc - tic:.4f} [seg]\")\n",
    "toc_ = time.time()\n",
    "d_time = f\"\\nΔt={toc_-tic_:.1f}[seg]\"\n",
    "plt.suptitle(f'Barycentric Projection Interpolation with EMD Transport. {d_time}')\n",
    "plt.tight_layout()\n",
    "plt.savefig(img_path / f\"{additional_info}-barycentric-proj-interpolation-emd.png\", dpi=800)\n",
    "plt.show()"
   ],
   "metadata": {
    "collapsed": false,
    "pycharm": {
     "name": "#%%\n"
    }
   }
  },
  {
   "cell_type": "code",
   "execution_count": 14,
   "outputs": [],
   "source": [],
   "metadata": {
    "collapsed": false,
    "pycharm": {
     "name": "#%%\n"
    }
   }
  },
  {
   "cell_type": "markdown",
   "source": [
    "# Interpolación con Sinkhorn"
   ],
   "metadata": {
    "collapsed": false,
    "pycharm": {
     "name": "#%% md\n"
    }
   }
  },
  {
   "cell_type": "code",
   "execution_count": 15,
   "outputs": [
    {
     "name": "stderr",
     "output_type": "stream",
     "text": [
      "2023-05-06 19:36:06,353: DEBUG [bwb._logging:158]\n",
      "> The function 'grayscale' takes 0.0011 [seg]\n"
     ]
    },
    {
     "data": {
      "text/plain": "DistributionDraw(shape: (128, 128))",
      "image/png": "[encoded data removed]"
     },
     "execution_count": 15,
     "metadata": {},
     "output_type": "execute_result"
    }
   ],
   "source": [
    "dd1"
   ],
   "metadata": {
    "collapsed": false,
    "pycharm": {
     "name": "#%%\n"
    }
   }
  },
  {
   "cell_type": "code",
   "execution_count": 16,
   "outputs": [
    {
     "name": "stderr",
     "output_type": "stream",
     "text": [
      "2023-05-06 19:36:06,380: DEBUG [bwb._logging:158]\n",
      "> The function 'grayscale' takes 0.0007 [seg]\n"
     ]
    },
    {
     "data": {
      "text/plain": "DistributionDraw(shape: (128, 128))",
      "image/png": "[encoded data removed]"
     },
     "execution_count": 16,
     "metadata": {},
     "output_type": "execute_result"
    }
   ],
   "source": [
    "dd2"
   ],
   "metadata": {
    "collapsed": false,
    "pycharm": {
     "name": "#%%\n"
    }
   }
  },
  {
   "cell_type": "code",
   "execution_count": 17,
   "outputs": [
    {
     "name": "stdout",
     "output_type": "stream",
     "text": [
      "CPU times: total: 0 ns\n",
      "Wall time: 0 ns\n"
     ]
    }
   ],
   "source": [
    "%%time\n",
    "kwargs = {\n",
    "    \"max_iter\": 250_000,\n",
    "    \"reg_e\": 1e-3,\n",
    "    \"verbose\": True,\n",
    "    \"norm\": \"max\"\n",
    "}"
   ],
   "metadata": {
    "collapsed": false,
    "pycharm": {
     "name": "#%%\n"
    }
   }
  },
  {
   "cell_type": "code",
   "execution_count": 17,
   "outputs": [],
   "source": [],
   "metadata": {
    "collapsed": false,
    "pycharm": {
     "name": "#%%\n"
    }
   }
  },
  {
   "cell_type": "code",
   "execution_count": 18,
   "outputs": [
    {
     "name": "stderr",
     "output_type": "stream",
     "text": [
      "2023-05-06 19:36:06,427: DEBUG [bwb._protocols:56]\n",
      "> Fitting with distribution from the FitWithDistribution Protocol.\n",
      "2023-05-06 19:36:06,432: DEBUG [bwb.geodesics:38]\n",
      "> Fitting with measure from the BaseGeodesic class.\n",
      "2023-05-06 19:36:06,434: DEBUG [bwb.transports:40]\n",
      "> Adjusting with a measure from the SinkhornTransport class\n"
     ]
    },
    {
     "name": "stdout",
     "output_type": "stream",
     "text": [
      "It.  |Err         \n",
      "-------------------\n",
      "    0|5.665597e-02|\n",
      "   10|1.606199e-02|\n",
      "   20|9.323817e-03|\n",
      "   30|6.024416e-03|\n",
      "   40|4.005877e-03|\n",
      "   50|2.684535e-03|\n",
      "   60|1.802216e-03|\n",
      "   70|1.209978e-03|\n",
      "   80|8.121508e-04|\n",
      "   90|5.450455e-04|\n",
      "  100|3.658346e-04|\n",
      "  110|2.456705e-04|\n",
      "  120|1.651385e-04|\n",
      "  130|1.111895e-04|\n",
      "  140|7.506432e-05|\n",
      "  150|5.088927e-05|\n",
      "  160|3.472925e-05|\n",
      "  170|2.394955e-05|\n",
      "  180|1.678615e-05|\n",
      "  190|1.205587e-05|\n",
      "It.  |Err         \n",
      "-------------------\n",
      "  200|8.960266e-06|\n",
      "  210|6.953955e-06|\n",
      "  220|5.659674e-06|\n",
      "  230|4.817226e-06|\n",
      "  240|4.252602e-06|\n",
      "  250|3.855196e-06|\n",
      "  260|3.558152e-06|\n",
      "  270|3.322411e-06|\n",
      "  280|3.125459e-06|\n",
      "  290|2.954249e-06|\n",
      "  300|2.801075e-06|\n",
      "  310|2.661257e-06|\n",
      "  320|2.531857e-06|\n",
      "  330|2.410961e-06|\n",
      "  340|2.297276e-06|\n",
      "  350|2.189896e-06|\n",
      "  360|2.088157e-06|\n",
      "  370|1.991558e-06|\n",
      "  380|1.899700e-06|\n",
      "  390|1.812261e-06|\n",
      "It.  |Err         \n",
      "-------------------\n",
      "  400|1.728968e-06|\n",
      "  410|1.649584e-06|\n",
      "  420|1.573898e-06|\n",
      "  430|1.501720e-06|\n",
      "  440|1.432875e-06|\n",
      "  450|1.367201e-06|\n",
      "  460|1.304547e-06|\n",
      "  470|1.244771e-06|\n",
      "  480|1.187737e-06|\n",
      "  490|1.133319e-06|\n",
      "  500|1.081396e-06|\n",
      "  510|1.031852e-06|\n",
      "  520|9.845781e-07|\n",
      "  530|9.394699e-07|\n",
      "  540|8.964282e-07|\n",
      "  550|8.553581e-07|\n",
      "  560|8.161692e-07|\n",
      "  570|7.787755e-07|\n",
      "  580|7.430946e-07|\n",
      "  590|7.090480e-07|\n",
      "It.  |Err         \n",
      "-------------------\n",
      "  600|6.765611e-07|\n",
      "  610|6.455623e-07|\n",
      "  620|6.159834e-07|\n",
      "  630|5.877596e-07|\n",
      "  640|5.608287e-07|\n",
      "  650|5.351314e-07|\n",
      "  660|5.106115e-07|\n",
      "  670|4.872148e-07|\n",
      "  680|4.648900e-07|\n",
      "  690|4.435879e-07|\n",
      "  700|4.232618e-07|\n",
      "  710|4.038670e-07|\n",
      "  720|3.853607e-07|\n",
      "  730|3.677023e-07|\n",
      "  740|3.508530e-07|\n",
      "  750|3.347757e-07|\n",
      "  760|3.194349e-07|\n",
      "  770|3.047971e-07|\n",
      "  780|2.908300e-07|\n",
      "  790|2.775028e-07|\n",
      "It.  |Err         \n",
      "-------------------\n",
      "  800|2.647863e-07|\n",
      "  810|2.526525e-07|\n",
      "  820|2.410746e-07|\n",
      "  830|2.300273e-07|\n",
      "  840|2.194861e-07|\n",
      "  850|2.094280e-07|\n",
      "  860|1.998308e-07|\n",
      "  870|1.906733e-07|\n",
      "  880|1.819354e-07|\n",
      "  890|1.735980e-07|\n",
      "  900|1.656426e-07|\n",
      "  910|1.580517e-07|\n",
      "  920|1.508087e-07|\n",
      "  930|1.438976e-07|\n",
      "  940|1.373032e-07|\n",
      "  950|1.310110e-07|\n",
      "  960|1.250071e-07|\n",
      "  970|1.192784e-07|\n",
      "  980|1.138121e-07|\n",
      "  990|1.085964e-07|\n",
      "It.  |Err         \n",
      "-------------------\n",
      " 1000|1.036197e-07|\n",
      " 1010|9.887103e-08|\n",
      " 1020|9.433999e-08|\n",
      " 1030|9.001658e-08|\n",
      " 1040|8.589130e-08|\n",
      " 1050|8.195507e-08|\n",
      " 1060|7.819923e-08|\n"
     ]
    },
    {
     "ename": "KeyboardInterrupt",
     "evalue": "",
     "output_type": "error",
     "traceback": [
      "\u001B[1;31m---------------------------------------------------------------------------\u001B[0m",
      "\u001B[1;31mKeyboardInterrupt\u001B[0m                         Traceback (most recent call last)",
      "File \u001B[1;32m<timed exec>:1\u001B[0m\n",
      "File \u001B[1;32m~\\PycharmProjects\\PersonalProjects\\Bayesian-Learning-with-Wasserstein-Barycenters\\bwb\\_logging.py:156\u001B[0m, in \u001B[0;36mregister_total_time.<locals>.decorator_register_total_time.<locals>.timeit_wrapper\u001B[1;34m(*args, **kwargs)\u001B[0m\n\u001B[0;32m    153\u001B[0m \u001B[38;5;129m@functools\u001B[39m\u001B[38;5;241m.\u001B[39mwraps(func)\n\u001B[0;32m    154\u001B[0m \u001B[38;5;28;01mdef\u001B[39;00m \u001B[38;5;21mtimeit_wrapper\u001B[39m(\u001B[38;5;241m*\u001B[39margs, \u001B[38;5;241m*\u001B[39m\u001B[38;5;241m*\u001B[39mkwargs):\n\u001B[0;32m    155\u001B[0m     tic \u001B[38;5;241m=\u001B[39m time\u001B[38;5;241m.\u001B[39mperf_counter()\n\u001B[1;32m--> 156\u001B[0m     result \u001B[38;5;241m=\u001B[39m func(\u001B[38;5;241m*\u001B[39margs, \u001B[38;5;241m*\u001B[39m\u001B[38;5;241m*\u001B[39mkwargs)\n\u001B[0;32m    157\u001B[0m     toc \u001B[38;5;241m=\u001B[39m time\u001B[38;5;241m.\u001B[39mperf_counter()\n\u001B[0;32m    158\u001B[0m     logger\u001B[38;5;241m.\u001B[39mdebug(\u001B[38;5;124mf\u001B[39m\u001B[38;5;124m\"\u001B[39m\u001B[38;5;124mThe function \u001B[39m\u001B[38;5;124m'\u001B[39m\u001B[38;5;132;01m{\u001B[39;00mfunc\u001B[38;5;241m.\u001B[39m\u001B[38;5;18m__name__\u001B[39m\u001B[38;5;132;01m}\u001B[39;00m\u001B[38;5;124m'\u001B[39m\u001B[38;5;124m takes \u001B[39m\u001B[38;5;132;01m{\u001B[39;00mtoc \u001B[38;5;241m-\u001B[39m tic\u001B[38;5;132;01m:\u001B[39;00m\u001B[38;5;124m.4f\u001B[39m\u001B[38;5;132;01m}\u001B[39;00m\u001B[38;5;124m [seg]\u001B[39m\u001B[38;5;124m\"\u001B[39m)\n",
      "File \u001B[1;32m~\\PycharmProjects\\PersonalProjects\\Bayesian-Learning-with-Wasserstein-Barycenters\\bwb\\geodesics.py:49\u001B[0m, in \u001B[0;36mBaseGeodesic.fit\u001B[1;34m(self, dd_s, dd_t)\u001B[0m\n\u001B[0;32m     43\u001B[0m \u001B[38;5;129m@_logging\u001B[39m\u001B[38;5;241m.\u001B[39mregister_total_time(_log)\n\u001B[0;32m     44\u001B[0m \u001B[38;5;28;01mdef\u001B[39;00m \u001B[38;5;21mfit\u001B[39m(\n\u001B[0;32m     45\u001B[0m         \u001B[38;5;28mself\u001B[39m,\n\u001B[0;32m     46\u001B[0m         dd_s: DiscreteDistribution \u001B[38;5;241m=\u001B[39m \u001B[38;5;28;01mNone\u001B[39;00m,\n\u001B[0;32m     47\u001B[0m         dd_t: DiscreteDistribution \u001B[38;5;241m=\u001B[39m \u001B[38;5;28;01mNone\u001B[39;00m,\n\u001B[0;32m     48\u001B[0m ):\n\u001B[1;32m---> 49\u001B[0m     \u001B[38;5;28;01mreturn\u001B[39;00m \u001B[38;5;28;43mself\u001B[39;49m\u001B[38;5;241;43m.\u001B[39;49m\u001B[43mfit_wd\u001B[49m\u001B[43m(\u001B[49m\u001B[43mdd_s\u001B[49m\u001B[38;5;241;43m=\u001B[39;49m\u001B[43mdd_s\u001B[49m\u001B[43m,\u001B[49m\u001B[43m \u001B[49m\u001B[43mdd_t\u001B[49m\u001B[38;5;241;43m=\u001B[39;49m\u001B[43mdd_t\u001B[49m\u001B[43m)\u001B[49m\n",
      "File \u001B[1;32m~\\PycharmProjects\\PersonalProjects\\Bayesian-Learning-with-Wasserstein-Barycenters\\bwb\\_protocols.py:61\u001B[0m, in \u001B[0;36mFitWithDistribution.fit_wd\u001B[1;34m(self, dd_s, ys, dd_t, yt)\u001B[0m\n\u001B[0;32m     58\u001B[0m Xs, Xt \u001B[38;5;241m=\u001B[39m dd_s\u001B[38;5;241m.\u001B[39menumerate_nz_support_(), dd_t\u001B[38;5;241m.\u001B[39menumerate_nz_support_()\n\u001B[0;32m     59\u001B[0m mu_s, mu_t \u001B[38;5;241m=\u001B[39m dd_s\u001B[38;5;241m.\u001B[39mnz_probs, dd_t\u001B[38;5;241m.\u001B[39mnz_probs\n\u001B[1;32m---> 61\u001B[0m \u001B[38;5;28;01mreturn\u001B[39;00m \u001B[38;5;28;43mself\u001B[39;49m\u001B[38;5;241;43m.\u001B[39;49m\u001B[43mfit_wm\u001B[49m\u001B[43m(\u001B[49m\u001B[43mXs\u001B[49m\u001B[43m,\u001B[49m\u001B[43m \u001B[49m\u001B[43mys\u001B[49m\u001B[43m,\u001B[49m\u001B[43m \u001B[49m\u001B[43mmu_s\u001B[49m\u001B[43m,\u001B[49m\u001B[43m \u001B[49m\u001B[43mXt\u001B[49m\u001B[43m,\u001B[49m\u001B[43m \u001B[49m\u001B[43myt\u001B[49m\u001B[43m,\u001B[49m\u001B[43m \u001B[49m\u001B[43mmu_t\u001B[49m\u001B[43m)\u001B[49m\n",
      "File \u001B[1;32m~\\PycharmProjects\\PersonalProjects\\Bayesian-Learning-with-Wasserstein-Barycenters\\bwb\\_logging.py:156\u001B[0m, in \u001B[0;36mregister_total_time.<locals>.decorator_register_total_time.<locals>.timeit_wrapper\u001B[1;34m(*args, **kwargs)\u001B[0m\n\u001B[0;32m    153\u001B[0m \u001B[38;5;129m@functools\u001B[39m\u001B[38;5;241m.\u001B[39mwraps(func)\n\u001B[0;32m    154\u001B[0m \u001B[38;5;28;01mdef\u001B[39;00m \u001B[38;5;21mtimeit_wrapper\u001B[39m(\u001B[38;5;241m*\u001B[39margs, \u001B[38;5;241m*\u001B[39m\u001B[38;5;241m*\u001B[39mkwargs):\n\u001B[0;32m    155\u001B[0m     tic \u001B[38;5;241m=\u001B[39m time\u001B[38;5;241m.\u001B[39mperf_counter()\n\u001B[1;32m--> 156\u001B[0m     result \u001B[38;5;241m=\u001B[39m func(\u001B[38;5;241m*\u001B[39margs, \u001B[38;5;241m*\u001B[39m\u001B[38;5;241m*\u001B[39mkwargs)\n\u001B[0;32m    157\u001B[0m     toc \u001B[38;5;241m=\u001B[39m time\u001B[38;5;241m.\u001B[39mperf_counter()\n\u001B[0;32m    158\u001B[0m     logger\u001B[38;5;241m.\u001B[39mdebug(\u001B[38;5;124mf\u001B[39m\u001B[38;5;124m\"\u001B[39m\u001B[38;5;124mThe function \u001B[39m\u001B[38;5;124m'\u001B[39m\u001B[38;5;132;01m{\u001B[39;00mfunc\u001B[38;5;241m.\u001B[39m\u001B[38;5;18m__name__\u001B[39m\u001B[38;5;132;01m}\u001B[39;00m\u001B[38;5;124m'\u001B[39m\u001B[38;5;124m takes \u001B[39m\u001B[38;5;132;01m{\u001B[39;00mtoc \u001B[38;5;241m-\u001B[39m tic\u001B[38;5;132;01m:\u001B[39;00m\u001B[38;5;124m.4f\u001B[39m\u001B[38;5;132;01m}\u001B[39;00m\u001B[38;5;124m [seg]\u001B[39m\u001B[38;5;124m\"\u001B[39m)\n",
      "File \u001B[1;32m~\\PycharmProjects\\PersonalProjects\\Bayesian-Learning-with-Wasserstein-Barycenters\\bwb\\geodesics.py:39\u001B[0m, in \u001B[0;36mBaseGeodesic.fit_wm\u001B[1;34m(self, Xs, ys, mu_s, Xt, yt, mu_t)\u001B[0m\n\u001B[0;32m     32\u001B[0m \u001B[38;5;129m@_logging\u001B[39m\u001B[38;5;241m.\u001B[39mregister_total_time(_log)\n\u001B[0;32m     33\u001B[0m \u001B[38;5;28;01mdef\u001B[39;00m \u001B[38;5;21mfit_wm\u001B[39m(\n\u001B[0;32m     34\u001B[0m         \u001B[38;5;28mself\u001B[39m,\n\u001B[0;32m     35\u001B[0m         Xs\u001B[38;5;241m=\u001B[39m\u001B[38;5;28;01mNone\u001B[39;00m, ys\u001B[38;5;241m=\u001B[39m\u001B[38;5;28;01mNone\u001B[39;00m, mu_s\u001B[38;5;241m=\u001B[39m\u001B[38;5;28;01mNone\u001B[39;00m,\n\u001B[0;32m     36\u001B[0m         Xt\u001B[38;5;241m=\u001B[39m\u001B[38;5;28;01mNone\u001B[39;00m, yt\u001B[38;5;241m=\u001B[39m\u001B[38;5;28;01mNone\u001B[39;00m, mu_t\u001B[38;5;241m=\u001B[39m\u001B[38;5;28;01mNone\u001B[39;00m,\n\u001B[0;32m     37\u001B[0m ):\n\u001B[0;32m     38\u001B[0m     _log\u001B[38;5;241m.\u001B[39mdebug(\u001B[38;5;124mf\u001B[39m\u001B[38;5;124m\"\u001B[39m\u001B[38;5;124mFitting with measure from the BaseGeodesic class.\u001B[39m\u001B[38;5;124m\"\u001B[39m)\n\u001B[1;32m---> 39\u001B[0m     \u001B[38;5;28;43mself\u001B[39;49m\u001B[38;5;241;43m.\u001B[39;49m\u001B[43mtransport\u001B[49m\u001B[38;5;241;43m.\u001B[39;49m\u001B[43mfit_wm\u001B[49m\u001B[43m(\u001B[49m\u001B[43mXs\u001B[49m\u001B[38;5;241;43m=\u001B[39;49m\u001B[43mXs\u001B[49m\u001B[43m,\u001B[49m\u001B[43m \u001B[49m\u001B[43mys\u001B[49m\u001B[38;5;241;43m=\u001B[39;49m\u001B[43mys\u001B[49m\u001B[43m,\u001B[49m\u001B[43m \u001B[49m\u001B[43mmu_s\u001B[49m\u001B[38;5;241;43m=\u001B[39;49m\u001B[43mmu_s\u001B[49m\u001B[43m,\u001B[49m\u001B[43m \u001B[49m\u001B[43mXt\u001B[49m\u001B[38;5;241;43m=\u001B[39;49m\u001B[43mXt\u001B[49m\u001B[43m,\u001B[49m\u001B[43m \u001B[49m\u001B[43myt\u001B[49m\u001B[38;5;241;43m=\u001B[39;49m\u001B[43myt\u001B[49m\u001B[43m,\u001B[49m\u001B[43m \u001B[49m\u001B[43mmu_t\u001B[49m\u001B[38;5;241;43m=\u001B[39;49m\u001B[43mmu_t\u001B[49m\u001B[43m)\u001B[49m\n\u001B[0;32m     40\u001B[0m     \u001B[38;5;28mself\u001B[39m\u001B[38;5;241m.\u001B[39m_fit(Xs, mu_s, Xt, mu_t)\n\u001B[0;32m     41\u001B[0m     \u001B[38;5;28;01mreturn\u001B[39;00m \u001B[38;5;28mself\u001B[39m\n",
      "File \u001B[1;32m~\\PycharmProjects\\PersonalProjects\\Bayesian-Learning-with-Wasserstein-Barycenters\\bwb\\_logging.py:156\u001B[0m, in \u001B[0;36mregister_total_time.<locals>.decorator_register_total_time.<locals>.timeit_wrapper\u001B[1;34m(*args, **kwargs)\u001B[0m\n\u001B[0;32m    153\u001B[0m \u001B[38;5;129m@functools\u001B[39m\u001B[38;5;241m.\u001B[39mwraps(func)\n\u001B[0;32m    154\u001B[0m \u001B[38;5;28;01mdef\u001B[39;00m \u001B[38;5;21mtimeit_wrapper\u001B[39m(\u001B[38;5;241m*\u001B[39margs, \u001B[38;5;241m*\u001B[39m\u001B[38;5;241m*\u001B[39mkwargs):\n\u001B[0;32m    155\u001B[0m     tic \u001B[38;5;241m=\u001B[39m time\u001B[38;5;241m.\u001B[39mperf_counter()\n\u001B[1;32m--> 156\u001B[0m     result \u001B[38;5;241m=\u001B[39m func(\u001B[38;5;241m*\u001B[39margs, \u001B[38;5;241m*\u001B[39m\u001B[38;5;241m*\u001B[39mkwargs)\n\u001B[0;32m    157\u001B[0m     toc \u001B[38;5;241m=\u001B[39m time\u001B[38;5;241m.\u001B[39mperf_counter()\n\u001B[0;32m    158\u001B[0m     logger\u001B[38;5;241m.\u001B[39mdebug(\u001B[38;5;124mf\u001B[39m\u001B[38;5;124m\"\u001B[39m\u001B[38;5;124mThe function \u001B[39m\u001B[38;5;124m'\u001B[39m\u001B[38;5;132;01m{\u001B[39;00mfunc\u001B[38;5;241m.\u001B[39m\u001B[38;5;18m__name__\u001B[39m\u001B[38;5;132;01m}\u001B[39;00m\u001B[38;5;124m'\u001B[39m\u001B[38;5;124m takes \u001B[39m\u001B[38;5;132;01m{\u001B[39;00mtoc \u001B[38;5;241m-\u001B[39m tic\u001B[38;5;132;01m:\u001B[39;00m\u001B[38;5;124m.4f\u001B[39m\u001B[38;5;132;01m}\u001B[39;00m\u001B[38;5;124m [seg]\u001B[39m\u001B[38;5;124m\"\u001B[39m)\n",
      "File \u001B[1;32m~\\PycharmProjects\\PersonalProjects\\Bayesian-Learning-with-Wasserstein-Barycenters\\bwb\\transports.py:53\u001B[0m, in \u001B[0;36mSinkhornTransport.fit_wm\u001B[1;34m(self, Xs, ys, mu_s, Xt, yt, mu_t)\u001B[0m\n\u001B[0;32m     50\u001B[0m     \u001B[38;5;28mself\u001B[39m\u001B[38;5;241m.\u001B[39mmu_t \u001B[38;5;241m=\u001B[39m mu_t\n\u001B[0;32m     52\u001B[0m \u001B[38;5;66;03m# coupling estimation\u001B[39;00m\n\u001B[1;32m---> 53\u001B[0m returned_ \u001B[38;5;241m=\u001B[39m \u001B[43msinkhorn\u001B[49m\u001B[43m(\u001B[49m\n\u001B[0;32m     54\u001B[0m \u001B[43m    \u001B[49m\u001B[43ma\u001B[49m\u001B[38;5;241;43m=\u001B[39;49m\u001B[38;5;28;43mself\u001B[39;49m\u001B[38;5;241;43m.\u001B[39;49m\u001B[43mmu_s\u001B[49m\u001B[43m,\u001B[49m\u001B[43m \u001B[49m\u001B[43mb\u001B[49m\u001B[38;5;241;43m=\u001B[39;49m\u001B[38;5;28;43mself\u001B[39;49m\u001B[38;5;241;43m.\u001B[39;49m\u001B[43mmu_t\u001B[49m\u001B[43m,\u001B[49m\u001B[43m \u001B[49m\u001B[43mM\u001B[49m\u001B[38;5;241;43m=\u001B[39;49m\u001B[38;5;28;43mself\u001B[39;49m\u001B[38;5;241;43m.\u001B[39;49m\u001B[43mcost_\u001B[49m\u001B[43m,\u001B[49m\u001B[43m \u001B[49m\u001B[43mreg\u001B[49m\u001B[38;5;241;43m=\u001B[39;49m\u001B[38;5;28;43mself\u001B[39;49m\u001B[38;5;241;43m.\u001B[39;49m\u001B[43mreg_e\u001B[49m\u001B[43m,\u001B[49m\n\u001B[0;32m     55\u001B[0m \u001B[43m    \u001B[49m\u001B[43mnumItermax\u001B[49m\u001B[38;5;241;43m=\u001B[39;49m\u001B[38;5;28;43mself\u001B[39;49m\u001B[38;5;241;43m.\u001B[39;49m\u001B[43mmax_iter\u001B[49m\u001B[43m,\u001B[49m\u001B[43m \u001B[49m\u001B[43mstopThr\u001B[49m\u001B[38;5;241;43m=\u001B[39;49m\u001B[38;5;28;43mself\u001B[39;49m\u001B[38;5;241;43m.\u001B[39;49m\u001B[43mtol\u001B[49m\u001B[43m,\u001B[49m\n\u001B[0;32m     56\u001B[0m \u001B[43m    \u001B[49m\u001B[43mverbose\u001B[49m\u001B[38;5;241;43m=\u001B[39;49m\u001B[38;5;28;43mself\u001B[39;49m\u001B[38;5;241;43m.\u001B[39;49m\u001B[43mverbose\u001B[49m\u001B[43m,\u001B[49m\u001B[43m \u001B[49m\u001B[43mlog\u001B[49m\u001B[38;5;241;43m=\u001B[39;49m\u001B[38;5;28;43mself\u001B[39;49m\u001B[38;5;241;43m.\u001B[39;49m\u001B[43mlog\u001B[49m\u001B[43m)\u001B[49m\n\u001B[0;32m     58\u001B[0m \u001B[38;5;66;03m# deal with the value of log\u001B[39;00m\n\u001B[0;32m     59\u001B[0m \u001B[38;5;28;01mif\u001B[39;00m \u001B[38;5;28mself\u001B[39m\u001B[38;5;241m.\u001B[39mlog:\n",
      "File \u001B[1;32m~\\PycharmProjects\\PersonalProjects\\Bayesian-Learning-with-Wasserstein-Barycenters\\venv\\lib\\site-packages\\ot\\bregman.py:157\u001B[0m, in \u001B[0;36msinkhorn\u001B[1;34m(a, b, M, reg, method, numItermax, stopThr, verbose, log, warn, **kwargs)\u001B[0m\n\u001B[0;32m     30\u001B[0m \u001B[38;5;124mr\u001B[39m\u001B[38;5;124;03m\"\"\"\u001B[39;00m\n\u001B[0;32m     31\u001B[0m \u001B[38;5;124;03mSolve the entropic regularization optimal transport problem and return the OT matrix\u001B[39;00m\n\u001B[0;32m     32\u001B[0m \n\u001B[1;32m   (...)\u001B[0m\n\u001B[0;32m    153\u001B[0m \n\u001B[0;32m    154\u001B[0m \u001B[38;5;124;03m\"\"\"\u001B[39;00m\n\u001B[0;32m    156\u001B[0m \u001B[38;5;28;01mif\u001B[39;00m method\u001B[38;5;241m.\u001B[39mlower() \u001B[38;5;241m==\u001B[39m \u001B[38;5;124m'\u001B[39m\u001B[38;5;124msinkhorn\u001B[39m\u001B[38;5;124m'\u001B[39m:\n\u001B[1;32m--> 157\u001B[0m     \u001B[38;5;28;01mreturn\u001B[39;00m sinkhorn_knopp(a, b, M, reg, numItermax\u001B[38;5;241m=\u001B[39mnumItermax,\n\u001B[0;32m    158\u001B[0m                           stopThr\u001B[38;5;241m=\u001B[39mstopThr, verbose\u001B[38;5;241m=\u001B[39mverbose, log\u001B[38;5;241m=\u001B[39mlog,\n\u001B[0;32m    159\u001B[0m                           warn\u001B[38;5;241m=\u001B[39mwarn,\n\u001B[0;32m    160\u001B[0m                           \u001B[38;5;241m*\u001B[39m\u001B[38;5;241m*\u001B[39mkwargs)\n\u001B[0;32m    161\u001B[0m \u001B[38;5;28;01melif\u001B[39;00m method\u001B[38;5;241m.\u001B[39mlower() \u001B[38;5;241m==\u001B[39m \u001B[38;5;124m'\u001B[39m\u001B[38;5;124msinkhorn_log\u001B[39m\u001B[38;5;124m'\u001B[39m:\n\u001B[0;32m    162\u001B[0m     \u001B[38;5;28;01mreturn\u001B[39;00m sinkhorn_log(a, b, M, reg, numItermax\u001B[38;5;241m=\u001B[39mnumItermax,\n\u001B[0;32m    163\u001B[0m                         stopThr\u001B[38;5;241m=\u001B[39mstopThr, verbose\u001B[38;5;241m=\u001B[39mverbose, log\u001B[38;5;241m=\u001B[39mlog,\n\u001B[0;32m    164\u001B[0m                         warn\u001B[38;5;241m=\u001B[39mwarn,\n\u001B[0;32m    165\u001B[0m                         \u001B[38;5;241m*\u001B[39m\u001B[38;5;241m*\u001B[39mkwargs)\n",
      "File \u001B[1;32m~\\PycharmProjects\\PersonalProjects\\Bayesian-Learning-with-Wasserstein-Barycenters\\venv\\lib\\site-packages\\ot\\bregman.py:485\u001B[0m, in \u001B[0;36msinkhorn_knopp\u001B[1;34m(a, b, M, reg, numItermax, stopThr, verbose, log, warn, **kwargs)\u001B[0m\n\u001B[0;32m    483\u001B[0m KtransposeU \u001B[38;5;241m=\u001B[39m nx\u001B[38;5;241m.\u001B[39mdot(K\u001B[38;5;241m.\u001B[39mT, u)\n\u001B[0;32m    484\u001B[0m v \u001B[38;5;241m=\u001B[39m b \u001B[38;5;241m/\u001B[39m KtransposeU\n\u001B[1;32m--> 485\u001B[0m u \u001B[38;5;241m=\u001B[39m \u001B[38;5;241m1.\u001B[39m \u001B[38;5;241m/\u001B[39m \u001B[43mnx\u001B[49m\u001B[38;5;241;43m.\u001B[39;49m\u001B[43mdot\u001B[49m\u001B[43m(\u001B[49m\u001B[43mKp\u001B[49m\u001B[43m,\u001B[49m\u001B[43m \u001B[49m\u001B[43mv\u001B[49m\u001B[43m)\u001B[49m\n\u001B[0;32m    487\u001B[0m \u001B[38;5;28;01mif\u001B[39;00m (nx\u001B[38;5;241m.\u001B[39many(KtransposeU \u001B[38;5;241m==\u001B[39m \u001B[38;5;241m0\u001B[39m)\n\u001B[0;32m    488\u001B[0m         \u001B[38;5;129;01mor\u001B[39;00m nx\u001B[38;5;241m.\u001B[39many(nx\u001B[38;5;241m.\u001B[39misnan(u)) \u001B[38;5;129;01mor\u001B[39;00m nx\u001B[38;5;241m.\u001B[39many(nx\u001B[38;5;241m.\u001B[39misnan(v))\n\u001B[0;32m    489\u001B[0m         \u001B[38;5;129;01mor\u001B[39;00m nx\u001B[38;5;241m.\u001B[39many(nx\u001B[38;5;241m.\u001B[39misinf(u)) \u001B[38;5;129;01mor\u001B[39;00m nx\u001B[38;5;241m.\u001B[39many(nx\u001B[38;5;241m.\u001B[39misinf(v))):\n\u001B[0;32m    490\u001B[0m     \u001B[38;5;66;03m# we have reached the machine precision\u001B[39;00m\n\u001B[0;32m    491\u001B[0m     \u001B[38;5;66;03m# come back to previous solution and quit loop\u001B[39;00m\n\u001B[0;32m    492\u001B[0m     warnings\u001B[38;5;241m.\u001B[39mwarn(\u001B[38;5;124m'\u001B[39m\u001B[38;5;124mWarning: numerical errors at iteration \u001B[39m\u001B[38;5;132;01m%d\u001B[39;00m\u001B[38;5;124m'\u001B[39m \u001B[38;5;241m%\u001B[39m ii)\n",
      "File \u001B[1;32m~\\PycharmProjects\\PersonalProjects\\Bayesian-Learning-with-Wasserstein-Barycenters\\venv\\lib\\site-packages\\ot\\backend.py:1640\u001B[0m, in \u001B[0;36mTorchBackend.dot\u001B[1;34m(self, a, b)\u001B[0m\n\u001B[0;32m   1639\u001B[0m \u001B[38;5;28;01mdef\u001B[39;00m \u001B[38;5;21mdot\u001B[39m(\u001B[38;5;28mself\u001B[39m, a, b):\n\u001B[1;32m-> 1640\u001B[0m     \u001B[38;5;28;01mreturn\u001B[39;00m \u001B[43mtorch\u001B[49m\u001B[38;5;241;43m.\u001B[39;49m\u001B[43mmatmul\u001B[49m\u001B[43m(\u001B[49m\u001B[43ma\u001B[49m\u001B[43m,\u001B[49m\u001B[43m \u001B[49m\u001B[43mb\u001B[49m\u001B[43m)\u001B[49m\n",
      "\u001B[1;31mKeyboardInterrupt\u001B[0m: "
     ]
    }
   ],
   "source": [
    "%%time\n",
    "geodesic12 = McCannGeodesic(trnsp.SinkhornTransport(**kwargs)).fit(dd_s=dd1, dd_t=dd2)"
   ],
   "metadata": {
    "collapsed": false,
    "pycharm": {
     "name": "#%%\n"
    }
   }
  },
  {
   "cell_type": "code",
   "execution_count": 19,
   "outputs": [
    {
     "data": {
      "text/plain": "tensor([[  490.,   449.,   410.,  ..., 11156., 11225., 11296.],\n        [  533.,   490.,   449.,  ..., 11089., 11156., 11225.],\n        [  578.,   533.,   490.,  ..., 11024., 11089., 11156.],\n        ...,\n        [11024., 10961., 10900.,  ...,   578.,   625.,   674.],\n        [11089., 11024., 10961.,  ...,   533.,   578.,   625.],\n        [11156., 11089., 11024.,  ...,   490.,   533.,   578.]],\n       dtype=torch.float64)"
     },
     "execution_count": 19,
     "metadata": {},
     "output_type": "execute_result"
    }
   ],
   "source": [
    "geodesic12.transport.cost_"
   ],
   "metadata": {
    "collapsed": false,
    "pycharm": {
     "name": "#%%\n"
    }
   }
  },
  {
   "cell_type": "code",
   "execution_count": 20,
   "outputs": [
    {
     "data": {
      "text/plain": "<matplotlib.image.AxesImage at 0x18f64d109a0>"
     },
     "execution_count": 20,
     "metadata": {},
     "output_type": "execute_result"
    },
    {
     "data": {
      "text/plain": "<Figure size 640x480 with 1 Axes>",
      "image/png": "[encoded data removed]"
     },
     "metadata": {},
     "output_type": "display_data"
    }
   ],
   "source": [
    "plt.imshow(geodesic12.transport.coupling_, cmap=cm)"
   ],
   "metadata": {
    "collapsed": false,
    "pycharm": {
     "name": "#%%\n"
    }
   }
  },
  {
   "cell_type": "code",
   "execution_count": 21,
   "outputs": [
    {
     "name": "stderr",
     "output_type": "stream",
     "text": [
      "2023-05-06 19:36:48,450: DEBUG [bwb.geodesics:77]\n",
      "> Interpolating with t=0.50\n",
      "2023-05-06 19:36:48,725: DEBUG [bwb.geodesics:80]\n",
      "> X.shape = torch.Size([8804, 2486, 2])\n",
      "2023-05-06 19:36:48,728: DEBUG [bwb.geodesics:82]\n",
      "> coupling.shape = torch.Size([8804, 2486])\n",
      "2023-05-06 19:36:51,183: DEBUG [bwb.geodesics:87]\n",
      "> nz_coord[0].shape = torch.Size([11005])\n",
      "2023-05-06 19:36:51,198: DEBUG [bwb.geodesics:89]\n",
      "> X_to_return.shape = torch.Size([11005, 2])\n",
      "2023-05-06 19:36:51,203: DEBUG [bwb.geodesics:91]\n",
      "> weights.shape = torch.Size([11005])\n",
      "2023-05-06 19:36:51,212: DEBUG [bwb.geodesics:92]\n",
      "> weights.sum() = 0.9998\n",
      "2023-05-06 19:36:51,277: DEBUG [bwb.geodesics:158]\n",
      "> The function 'interpolate' takes 2.8278 [seg]\n",
      "2023-05-06 19:36:51,315: DEBUG [bwb._logging:158]\n",
      "> The function 'grayscale' takes 0.0069 [seg]\n"
     ]
    },
    {
     "data": {
      "text/plain": "DistributionDraw(shape: (128, 128))",
      "image/png": "[encoded data removed]"
     },
     "execution_count": 21,
     "metadata": {},
     "output_type": "execute_result"
    }
   ],
   "source": [
    "interp_param = {}\n",
    "# interp_param = {\n",
    "#     \"rtol\": ,\n",
    "#     \"atol\": 0,\n",
    "# }\n",
    "\n",
    "DistributionDraw(*geodesic12.interpolate(0.5, **interp_param), original_shape)"
   ],
   "metadata": {
    "collapsed": false,
    "pycharm": {
     "name": "#%%\n"
    }
   }
  },
  {
   "cell_type": "code",
   "execution_count": 22,
   "outputs": [
    {
     "name": "stderr",
     "output_type": "stream",
     "text": [
      "2023-05-06 19:36:51,351: DEBUG [bwb._protocols:56]\n",
      "> Fitting with distribution from the FitWithDistribution Protocol.\n",
      "2023-05-06 19:36:51,367: DEBUG [bwb.geodesics:38]\n",
      "> Fitting with measure from the BaseGeodesic class.\n",
      "2023-05-06 19:36:51,369: DEBUG [bwb.transports:40]\n",
      "> Adjusting with a measure from the SinkhornTransport class\n"
     ]
    },
    {
     "name": "stdout",
     "output_type": "stream",
     "text": [
      "It.  |Err         \n",
      "-------------------\n",
      "    0|2.349616e-02|\n",
      "   10|6.916419e-03|\n",
      "   20|4.554454e-03|\n",
      "   30|3.037762e-03|\n",
      "   40|2.026787e-03|\n",
      "   50|1.359416e-03|\n",
      "   60|9.229293e-04|\n",
      "   70|6.400583e-04|\n",
      "   80|4.584143e-04|\n",
      "   90|3.424355e-04|\n",
      "  100|2.679479e-04|\n",
      "  110|2.188059e-04|\n"
     ]
    },
    {
     "name": "stderr",
     "output_type": "stream",
     "text": [
      "\n",
      "KeyboardInterrupt\n",
      "\n"
     ]
    }
   ],
   "source": [
    "%%time\n",
    "geodesic13 = McCannGeodesic(trnsp.SinkhornTransport(**kwargs)).fit(dd_s=dd1, dd_t=dd3)"
   ],
   "metadata": {
    "collapsed": false,
    "pycharm": {
     "name": "#%%\n"
    }
   }
  },
  {
   "cell_type": "code",
   "execution_count": 23,
   "outputs": [
    {
     "name": "stderr",
     "output_type": "stream",
     "text": [
      "2023-05-06 19:37:03,411: DEBUG [bwb._protocols:56]\n",
      "> Fitting with distribution from the FitWithDistribution Protocol.\n",
      "\n",
      "KeyboardInterrupt\n",
      "\n"
     ]
    }
   ],
   "source": [
    "%%time\n",
    "geodesic34 = McCannGeodesic(trnsp.SinkhornTransport(**kwargs)).fit(dd_s=dd3, dd_t=dd4)"
   ],
   "metadata": {
    "collapsed": false,
    "pycharm": {
     "name": "#%%\n"
    }
   }
  },
  {
   "cell_type": "code",
   "execution_count": 24,
   "outputs": [
    {
     "name": "stderr",
     "output_type": "stream",
     "text": [
      "2023-05-06 19:37:03,765: DEBUG [bwb._protocols:56]\n",
      "> Fitting with distribution from the FitWithDistribution Protocol.\n",
      "\n",
      "KeyboardInterrupt\n",
      "\n"
     ]
    }
   ],
   "source": [
    "%%time\n",
    "geodesic24 = McCannGeodesic(trnsp.SinkhornTransport(**kwargs)).fit(dd_s=dd2, dd_t=dd4)"
   ],
   "metadata": {
    "collapsed": false,
    "pycharm": {
     "name": "#%%\n"
    }
   }
  },
  {
   "cell_type": "code",
   "execution_count": 25,
   "outputs": [
    {
     "ename": "KeyboardInterrupt",
     "evalue": "",
     "output_type": "error",
     "traceback": [
      "\u001B[1;31m---------------------------------------------------------------------------\u001B[0m",
      "\u001B[1;31mKeyboardInterrupt\u001B[0m                         Traceback (most recent call last)",
      "File \u001B[1;32m<timed exec>:5\u001B[0m\n",
      "File \u001B[1;32m~\\PycharmProjects\\PersonalProjects\\Bayesian-Learning-with-Wasserstein-Barycenters\\venv\\lib\\site-packages\\matplotlib\\pyplot.py:1443\u001B[0m, in \u001B[0;36msubplots\u001B[1;34m(nrows, ncols, sharex, sharey, squeeze, width_ratios, height_ratios, subplot_kw, gridspec_kw, **fig_kw)\u001B[0m\n\u001B[0;32m   1299\u001B[0m \u001B[38;5;124;03m\"\"\"\u001B[39;00m\n\u001B[0;32m   1300\u001B[0m \u001B[38;5;124;03mCreate a figure and a set of subplots.\u001B[39;00m\n\u001B[0;32m   1301\u001B[0m \n\u001B[1;32m   (...)\u001B[0m\n\u001B[0;32m   1440\u001B[0m \n\u001B[0;32m   1441\u001B[0m \u001B[38;5;124;03m\"\"\"\u001B[39;00m\n\u001B[0;32m   1442\u001B[0m fig \u001B[38;5;241m=\u001B[39m figure(\u001B[38;5;241m*\u001B[39m\u001B[38;5;241m*\u001B[39mfig_kw)\n\u001B[1;32m-> 1443\u001B[0m axs \u001B[38;5;241m=\u001B[39m \u001B[43mfig\u001B[49m\u001B[38;5;241;43m.\u001B[39;49m\u001B[43msubplots\u001B[49m\u001B[43m(\u001B[49m\u001B[43mnrows\u001B[49m\u001B[38;5;241;43m=\u001B[39;49m\u001B[43mnrows\u001B[49m\u001B[43m,\u001B[49m\u001B[43m \u001B[49m\u001B[43mncols\u001B[49m\u001B[38;5;241;43m=\u001B[39;49m\u001B[43mncols\u001B[49m\u001B[43m,\u001B[49m\u001B[43m \u001B[49m\u001B[43msharex\u001B[49m\u001B[38;5;241;43m=\u001B[39;49m\u001B[43msharex\u001B[49m\u001B[43m,\u001B[49m\u001B[43m \u001B[49m\u001B[43msharey\u001B[49m\u001B[38;5;241;43m=\u001B[39;49m\u001B[43msharey\u001B[49m\u001B[43m,\u001B[49m\n\u001B[0;32m   1444\u001B[0m \u001B[43m                   \u001B[49m\u001B[43msqueeze\u001B[49m\u001B[38;5;241;43m=\u001B[39;49m\u001B[43msqueeze\u001B[49m\u001B[43m,\u001B[49m\u001B[43m \u001B[49m\u001B[43msubplot_kw\u001B[49m\u001B[38;5;241;43m=\u001B[39;49m\u001B[43msubplot_kw\u001B[49m\u001B[43m,\u001B[49m\n\u001B[0;32m   1445\u001B[0m \u001B[43m                   \u001B[49m\u001B[43mgridspec_kw\u001B[49m\u001B[38;5;241;43m=\u001B[39;49m\u001B[43mgridspec_kw\u001B[49m\u001B[43m,\u001B[49m\u001B[43m \u001B[49m\u001B[43mheight_ratios\u001B[49m\u001B[38;5;241;43m=\u001B[39;49m\u001B[43mheight_ratios\u001B[49m\u001B[43m,\u001B[49m\n\u001B[0;32m   1446\u001B[0m \u001B[43m                   \u001B[49m\u001B[43mwidth_ratios\u001B[49m\u001B[38;5;241;43m=\u001B[39;49m\u001B[43mwidth_ratios\u001B[49m\u001B[43m)\u001B[49m\n\u001B[0;32m   1447\u001B[0m \u001B[38;5;28;01mreturn\u001B[39;00m fig, axs\n",
      "File \u001B[1;32m~\\PycharmProjects\\PersonalProjects\\Bayesian-Learning-with-Wasserstein-Barycenters\\venv\\lib\\site-packages\\matplotlib\\figure.py:894\u001B[0m, in \u001B[0;36mFigureBase.subplots\u001B[1;34m(self, nrows, ncols, sharex, sharey, squeeze, width_ratios, height_ratios, subplot_kw, gridspec_kw)\u001B[0m\n\u001B[0;32m    891\u001B[0m     gridspec_kw[\u001B[38;5;124m'\u001B[39m\u001B[38;5;124mwidth_ratios\u001B[39m\u001B[38;5;124m'\u001B[39m] \u001B[38;5;241m=\u001B[39m width_ratios\n\u001B[0;32m    893\u001B[0m gs \u001B[38;5;241m=\u001B[39m \u001B[38;5;28mself\u001B[39m\u001B[38;5;241m.\u001B[39madd_gridspec(nrows, ncols, figure\u001B[38;5;241m=\u001B[39m\u001B[38;5;28mself\u001B[39m, \u001B[38;5;241m*\u001B[39m\u001B[38;5;241m*\u001B[39mgridspec_kw)\n\u001B[1;32m--> 894\u001B[0m axs \u001B[38;5;241m=\u001B[39m \u001B[43mgs\u001B[49m\u001B[38;5;241;43m.\u001B[39;49m\u001B[43msubplots\u001B[49m\u001B[43m(\u001B[49m\u001B[43msharex\u001B[49m\u001B[38;5;241;43m=\u001B[39;49m\u001B[43msharex\u001B[49m\u001B[43m,\u001B[49m\u001B[43m \u001B[49m\u001B[43msharey\u001B[49m\u001B[38;5;241;43m=\u001B[39;49m\u001B[43msharey\u001B[49m\u001B[43m,\u001B[49m\u001B[43m \u001B[49m\u001B[43msqueeze\u001B[49m\u001B[38;5;241;43m=\u001B[39;49m\u001B[43msqueeze\u001B[49m\u001B[43m,\u001B[49m\n\u001B[0;32m    895\u001B[0m \u001B[43m                  \u001B[49m\u001B[43msubplot_kw\u001B[49m\u001B[38;5;241;43m=\u001B[39;49m\u001B[43msubplot_kw\u001B[49m\u001B[43m)\u001B[49m\n\u001B[0;32m    896\u001B[0m \u001B[38;5;28;01mreturn\u001B[39;00m axs\n",
      "File \u001B[1;32m~\\PycharmProjects\\PersonalProjects\\Bayesian-Learning-with-Wasserstein-Barycenters\\venv\\lib\\site-packages\\matplotlib\\gridspec.py:308\u001B[0m, in \u001B[0;36mGridSpecBase.subplots\u001B[1;34m(self, sharex, sharey, squeeze, subplot_kw)\u001B[0m\n\u001B[0;32m    306\u001B[0m         subplot_kw[\u001B[38;5;124m\"\u001B[39m\u001B[38;5;124msharex\u001B[39m\u001B[38;5;124m\"\u001B[39m] \u001B[38;5;241m=\u001B[39m shared_with[sharex]\n\u001B[0;32m    307\u001B[0m         subplot_kw[\u001B[38;5;124m\"\u001B[39m\u001B[38;5;124msharey\u001B[39m\u001B[38;5;124m\"\u001B[39m] \u001B[38;5;241m=\u001B[39m shared_with[sharey]\n\u001B[1;32m--> 308\u001B[0m         axarr[row, col] \u001B[38;5;241m=\u001B[39m figure\u001B[38;5;241m.\u001B[39madd_subplot(\n\u001B[0;32m    309\u001B[0m             \u001B[38;5;28mself\u001B[39m[row, col], \u001B[38;5;241m*\u001B[39m\u001B[38;5;241m*\u001B[39msubplot_kw)\n\u001B[0;32m    311\u001B[0m \u001B[38;5;66;03m# turn off redundant tick labeling\u001B[39;00m\n\u001B[0;32m    312\u001B[0m \u001B[38;5;28;01mif\u001B[39;00m sharex \u001B[38;5;129;01min\u001B[39;00m [\u001B[38;5;124m\"\u001B[39m\u001B[38;5;124mcol\u001B[39m\u001B[38;5;124m\"\u001B[39m, \u001B[38;5;124m\"\u001B[39m\u001B[38;5;124mall\u001B[39m\u001B[38;5;124m\"\u001B[39m]:\n",
      "File \u001B[1;32m~\\PycharmProjects\\PersonalProjects\\Bayesian-Learning-with-Wasserstein-Barycenters\\venv\\lib\\site-packages\\matplotlib\\figure.py:745\u001B[0m, in \u001B[0;36mFigureBase.add_subplot\u001B[1;34m(self, *args, **kwargs)\u001B[0m\n\u001B[0;32m    742\u001B[0m         args \u001B[38;5;241m=\u001B[39m \u001B[38;5;28mtuple\u001B[39m(\u001B[38;5;28mmap\u001B[39m(\u001B[38;5;28mint\u001B[39m, \u001B[38;5;28mstr\u001B[39m(args[\u001B[38;5;241m0\u001B[39m])))\n\u001B[0;32m    743\u001B[0m     projection_class, pkw \u001B[38;5;241m=\u001B[39m \u001B[38;5;28mself\u001B[39m\u001B[38;5;241m.\u001B[39m_process_projection_requirements(\n\u001B[0;32m    744\u001B[0m         \u001B[38;5;241m*\u001B[39margs, \u001B[38;5;241m*\u001B[39m\u001B[38;5;241m*\u001B[39mkwargs)\n\u001B[1;32m--> 745\u001B[0m     ax \u001B[38;5;241m=\u001B[39m subplot_class_factory(projection_class)(\u001B[38;5;28mself\u001B[39m, \u001B[38;5;241m*\u001B[39margs, \u001B[38;5;241m*\u001B[39m\u001B[38;5;241m*\u001B[39mpkw)\n\u001B[0;32m    746\u001B[0m     key \u001B[38;5;241m=\u001B[39m (projection_class, pkw)\n\u001B[0;32m    747\u001B[0m \u001B[38;5;28;01mreturn\u001B[39;00m \u001B[38;5;28mself\u001B[39m\u001B[38;5;241m.\u001B[39m_add_axes_internal(ax, key)\n",
      "File \u001B[1;32m~\\PycharmProjects\\PersonalProjects\\Bayesian-Learning-with-Wasserstein-Barycenters\\venv\\lib\\site-packages\\matplotlib\\axes\\_subplots.py:34\u001B[0m, in \u001B[0;36mSubplotBase.__init__\u001B[1;34m(self, fig, *args, **kwargs)\u001B[0m\n\u001B[0;32m     15\u001B[0m \u001B[38;5;124;03m\"\"\"\u001B[39;00m\n\u001B[0;32m     16\u001B[0m \u001B[38;5;124;03mParameters\u001B[39;00m\n\u001B[0;32m     17\u001B[0m \u001B[38;5;124;03m----------\u001B[39;00m\n\u001B[1;32m   (...)\u001B[0m\n\u001B[0;32m     31\u001B[0m \u001B[38;5;124;03m    Keyword arguments are passed to the Axes (sub)class constructor.\u001B[39;00m\n\u001B[0;32m     32\u001B[0m \u001B[38;5;124;03m\"\"\"\u001B[39;00m\n\u001B[0;32m     33\u001B[0m \u001B[38;5;66;03m# _axes_class is set in the subplot_class_factory\u001B[39;00m\n\u001B[1;32m---> 34\u001B[0m \u001B[38;5;28mself\u001B[39m\u001B[38;5;241m.\u001B[39m_axes_class\u001B[38;5;241m.\u001B[39m\u001B[38;5;21m__init__\u001B[39m(\u001B[38;5;28mself\u001B[39m, fig, [\u001B[38;5;241m0\u001B[39m, \u001B[38;5;241m0\u001B[39m, \u001B[38;5;241m1\u001B[39m, \u001B[38;5;241m1\u001B[39m], \u001B[38;5;241m*\u001B[39m\u001B[38;5;241m*\u001B[39mkwargs)\n\u001B[0;32m     35\u001B[0m \u001B[38;5;66;03m# This will also update the axes position.\u001B[39;00m\n\u001B[0;32m     36\u001B[0m \u001B[38;5;28mself\u001B[39m\u001B[38;5;241m.\u001B[39mset_subplotspec(SubplotSpec\u001B[38;5;241m.\u001B[39m_from_subplot_args(fig, args))\n",
      "File \u001B[1;32m~\\PycharmProjects\\PersonalProjects\\Bayesian-Learning-with-Wasserstein-Barycenters\\venv\\lib\\site-packages\\matplotlib\\axes\\_base.py:653\u001B[0m, in \u001B[0;36m_AxesBase.__init__\u001B[1;34m(self, fig, rect, facecolor, frameon, sharex, sharey, label, xscale, yscale, box_aspect, **kwargs)\u001B[0m\n\u001B[0;32m    650\u001B[0m \u001B[38;5;28mself\u001B[39m\u001B[38;5;241m.\u001B[39mset_axisbelow(mpl\u001B[38;5;241m.\u001B[39mrcParams[\u001B[38;5;124m'\u001B[39m\u001B[38;5;124maxes.axisbelow\u001B[39m\u001B[38;5;124m'\u001B[39m])\n\u001B[0;32m    652\u001B[0m \u001B[38;5;28mself\u001B[39m\u001B[38;5;241m.\u001B[39m_rasterization_zorder \u001B[38;5;241m=\u001B[39m \u001B[38;5;28;01mNone\u001B[39;00m\n\u001B[1;32m--> 653\u001B[0m \u001B[38;5;28;43mself\u001B[39;49m\u001B[38;5;241;43m.\u001B[39;49m\u001B[43mclear\u001B[49m\u001B[43m(\u001B[49m\u001B[43m)\u001B[49m\n\u001B[0;32m    655\u001B[0m \u001B[38;5;66;03m# funcs used to format x and y - fall back on major formatters\u001B[39;00m\n\u001B[0;32m    656\u001B[0m \u001B[38;5;28mself\u001B[39m\u001B[38;5;241m.\u001B[39mfmt_xdata \u001B[38;5;241m=\u001B[39m \u001B[38;5;28;01mNone\u001B[39;00m\n",
      "File \u001B[1;32m~\\PycharmProjects\\PersonalProjects\\Bayesian-Learning-with-Wasserstein-Barycenters\\venv\\lib\\site-packages\\matplotlib\\axes\\_base.py:1348\u001B[0m, in \u001B[0;36m_AxesBase.clear\u001B[1;34m(self)\u001B[0m\n\u001B[0;32m   1346\u001B[0m     \u001B[38;5;28mself\u001B[39m\u001B[38;5;241m.\u001B[39mcla()\n\u001B[0;32m   1347\u001B[0m \u001B[38;5;28;01melse\u001B[39;00m:\n\u001B[1;32m-> 1348\u001B[0m     \u001B[38;5;28;43mself\u001B[39;49m\u001B[38;5;241;43m.\u001B[39;49m\u001B[43m__clear\u001B[49m\u001B[43m(\u001B[49m\u001B[43m)\u001B[49m\n",
      "File \u001B[1;32m~\\PycharmProjects\\PersonalProjects\\Bayesian-Learning-with-Wasserstein-Barycenters\\venv\\lib\\site-packages\\matplotlib\\axes\\_base.py:1276\u001B[0m, in \u001B[0;36m_AxesBase.__clear\u001B[1;34m(self)\u001B[0m\n\u001B[0;32m   1273\u001B[0m \u001B[38;5;28mself\u001B[39m\u001B[38;5;241m.\u001B[39mlegend_ \u001B[38;5;241m=\u001B[39m \u001B[38;5;28;01mNone\u001B[39;00m\n\u001B[0;32m   1274\u001B[0m \u001B[38;5;28mself\u001B[39m\u001B[38;5;241m.\u001B[39mcontainers \u001B[38;5;241m=\u001B[39m []\n\u001B[1;32m-> 1276\u001B[0m \u001B[38;5;28;43mself\u001B[39;49m\u001B[38;5;241;43m.\u001B[39;49m\u001B[43mgrid\u001B[49m\u001B[43m(\u001B[49m\u001B[38;5;28;43;01mFalse\u001B[39;49;00m\u001B[43m)\u001B[49m  \u001B[38;5;66;03m# Disable grid on init to use rcParameter\u001B[39;00m\n\u001B[0;32m   1277\u001B[0m \u001B[38;5;28mself\u001B[39m\u001B[38;5;241m.\u001B[39mgrid(\u001B[38;5;28mself\u001B[39m\u001B[38;5;241m.\u001B[39m_gridOn, which\u001B[38;5;241m=\u001B[39mmpl\u001B[38;5;241m.\u001B[39mrcParams[\u001B[38;5;124m'\u001B[39m\u001B[38;5;124maxes.grid.which\u001B[39m\u001B[38;5;124m'\u001B[39m],\n\u001B[0;32m   1278\u001B[0m           axis\u001B[38;5;241m=\u001B[39mmpl\u001B[38;5;241m.\u001B[39mrcParams[\u001B[38;5;124m'\u001B[39m\u001B[38;5;124maxes.grid.axis\u001B[39m\u001B[38;5;124m'\u001B[39m])\n\u001B[0;32m   1279\u001B[0m props \u001B[38;5;241m=\u001B[39m font_manager\u001B[38;5;241m.\u001B[39mFontProperties(\n\u001B[0;32m   1280\u001B[0m     size\u001B[38;5;241m=\u001B[39mmpl\u001B[38;5;241m.\u001B[39mrcParams[\u001B[38;5;124m'\u001B[39m\u001B[38;5;124maxes.titlesize\u001B[39m\u001B[38;5;124m'\u001B[39m],\n\u001B[0;32m   1281\u001B[0m     weight\u001B[38;5;241m=\u001B[39mmpl\u001B[38;5;241m.\u001B[39mrcParams[\u001B[38;5;124m'\u001B[39m\u001B[38;5;124maxes.titleweight\u001B[39m\u001B[38;5;124m'\u001B[39m])\n",
      "File \u001B[1;32m~\\PycharmProjects\\PersonalProjects\\Bayesian-Learning-with-Wasserstein-Barycenters\\venv\\lib\\site-packages\\matplotlib\\_api\\deprecation.py:297\u001B[0m, in \u001B[0;36mrename_parameter.<locals>.wrapper\u001B[1;34m(*args, **kwargs)\u001B[0m\n\u001B[0;32m    292\u001B[0m     warn_deprecated(\n\u001B[0;32m    293\u001B[0m         since, message\u001B[38;5;241m=\u001B[39m\u001B[38;5;124mf\u001B[39m\u001B[38;5;124m\"\u001B[39m\u001B[38;5;124mThe \u001B[39m\u001B[38;5;132;01m{\u001B[39;00mold\u001B[38;5;132;01m!r}\u001B[39;00m\u001B[38;5;124m parameter of \u001B[39m\u001B[38;5;132;01m{\u001B[39;00mfunc\u001B[38;5;241m.\u001B[39m\u001B[38;5;18m__name__\u001B[39m\u001B[38;5;132;01m}\u001B[39;00m\u001B[38;5;124m() \u001B[39m\u001B[38;5;124m\"\u001B[39m\n\u001B[0;32m    294\u001B[0m         \u001B[38;5;124mf\u001B[39m\u001B[38;5;124m\"\u001B[39m\u001B[38;5;124mhas been renamed \u001B[39m\u001B[38;5;132;01m{\u001B[39;00mnew\u001B[38;5;132;01m!r}\u001B[39;00m\u001B[38;5;124m since Matplotlib \u001B[39m\u001B[38;5;132;01m{\u001B[39;00msince\u001B[38;5;132;01m}\u001B[39;00m\u001B[38;5;124m; support \u001B[39m\u001B[38;5;124m\"\u001B[39m\n\u001B[0;32m    295\u001B[0m         \u001B[38;5;124mf\u001B[39m\u001B[38;5;124m\"\u001B[39m\u001B[38;5;124mfor the old name will be dropped %(removal)s.\u001B[39m\u001B[38;5;124m\"\u001B[39m)\n\u001B[0;32m    296\u001B[0m     kwargs[new] \u001B[38;5;241m=\u001B[39m kwargs\u001B[38;5;241m.\u001B[39mpop(old)\n\u001B[1;32m--> 297\u001B[0m \u001B[38;5;28;01mreturn\u001B[39;00m func(\u001B[38;5;241m*\u001B[39margs, \u001B[38;5;241m*\u001B[39m\u001B[38;5;241m*\u001B[39mkwargs)\n",
      "File \u001B[1;32m~\\PycharmProjects\\PersonalProjects\\Bayesian-Learning-with-Wasserstein-Barycenters\\venv\\lib\\site-packages\\matplotlib\\axes\\_base.py:3240\u001B[0m, in \u001B[0;36m_AxesBase.grid\u001B[1;34m(self, visible, which, axis, **kwargs)\u001B[0m\n\u001B[0;32m   3238\u001B[0m     \u001B[38;5;28mself\u001B[39m\u001B[38;5;241m.\u001B[39mxaxis\u001B[38;5;241m.\u001B[39mgrid(visible, which\u001B[38;5;241m=\u001B[39mwhich, \u001B[38;5;241m*\u001B[39m\u001B[38;5;241m*\u001B[39mkwargs)\n\u001B[0;32m   3239\u001B[0m \u001B[38;5;28;01mif\u001B[39;00m axis \u001B[38;5;129;01min\u001B[39;00m [\u001B[38;5;124m'\u001B[39m\u001B[38;5;124my\u001B[39m\u001B[38;5;124m'\u001B[39m, \u001B[38;5;124m'\u001B[39m\u001B[38;5;124mboth\u001B[39m\u001B[38;5;124m'\u001B[39m]:\n\u001B[1;32m-> 3240\u001B[0m     \u001B[38;5;28mself\u001B[39m\u001B[38;5;241m.\u001B[39myaxis\u001B[38;5;241m.\u001B[39mgrid(visible, which\u001B[38;5;241m=\u001B[39mwhich, \u001B[38;5;241m*\u001B[39m\u001B[38;5;241m*\u001B[39mkwargs)\n",
      "File \u001B[1;32m~\\PycharmProjects\\PersonalProjects\\Bayesian-Learning-with-Wasserstein-Barycenters\\venv\\lib\\site-packages\\matplotlib\\_api\\deprecation.py:297\u001B[0m, in \u001B[0;36mrename_parameter.<locals>.wrapper\u001B[1;34m(*args, **kwargs)\u001B[0m\n\u001B[0;32m    292\u001B[0m     warn_deprecated(\n\u001B[0;32m    293\u001B[0m         since, message\u001B[38;5;241m=\u001B[39m\u001B[38;5;124mf\u001B[39m\u001B[38;5;124m\"\u001B[39m\u001B[38;5;124mThe \u001B[39m\u001B[38;5;132;01m{\u001B[39;00mold\u001B[38;5;132;01m!r}\u001B[39;00m\u001B[38;5;124m parameter of \u001B[39m\u001B[38;5;132;01m{\u001B[39;00mfunc\u001B[38;5;241m.\u001B[39m\u001B[38;5;18m__name__\u001B[39m\u001B[38;5;132;01m}\u001B[39;00m\u001B[38;5;124m() \u001B[39m\u001B[38;5;124m\"\u001B[39m\n\u001B[0;32m    294\u001B[0m         \u001B[38;5;124mf\u001B[39m\u001B[38;5;124m\"\u001B[39m\u001B[38;5;124mhas been renamed \u001B[39m\u001B[38;5;132;01m{\u001B[39;00mnew\u001B[38;5;132;01m!r}\u001B[39;00m\u001B[38;5;124m since Matplotlib \u001B[39m\u001B[38;5;132;01m{\u001B[39;00msince\u001B[38;5;132;01m}\u001B[39;00m\u001B[38;5;124m; support \u001B[39m\u001B[38;5;124m\"\u001B[39m\n\u001B[0;32m    295\u001B[0m         \u001B[38;5;124mf\u001B[39m\u001B[38;5;124m\"\u001B[39m\u001B[38;5;124mfor the old name will be dropped %(removal)s.\u001B[39m\u001B[38;5;124m\"\u001B[39m)\n\u001B[0;32m    296\u001B[0m     kwargs[new] \u001B[38;5;241m=\u001B[39m kwargs\u001B[38;5;241m.\u001B[39mpop(old)\n\u001B[1;32m--> 297\u001B[0m \u001B[38;5;28;01mreturn\u001B[39;00m func(\u001B[38;5;241m*\u001B[39margs, \u001B[38;5;241m*\u001B[39m\u001B[38;5;241m*\u001B[39mkwargs)\n",
      "File \u001B[1;32m~\\PycharmProjects\\PersonalProjects\\Bayesian-Learning-with-Wasserstein-Barycenters\\venv\\lib\\site-packages\\matplotlib\\axis.py:1593\u001B[0m, in \u001B[0;36mAxis.grid\u001B[1;34m(self, visible, which, **kwargs)\u001B[0m\n\u001B[0;32m   1590\u001B[0m \u001B[38;5;28;01mif\u001B[39;00m which \u001B[38;5;129;01min\u001B[39;00m [\u001B[38;5;124m'\u001B[39m\u001B[38;5;124mmajor\u001B[39m\u001B[38;5;124m'\u001B[39m, \u001B[38;5;124m'\u001B[39m\u001B[38;5;124mboth\u001B[39m\u001B[38;5;124m'\u001B[39m]:\n\u001B[0;32m   1591\u001B[0m     gridkw[\u001B[38;5;124m'\u001B[39m\u001B[38;5;124mgridOn\u001B[39m\u001B[38;5;124m'\u001B[39m] \u001B[38;5;241m=\u001B[39m (\u001B[38;5;129;01mnot\u001B[39;00m \u001B[38;5;28mself\u001B[39m\u001B[38;5;241m.\u001B[39m_major_tick_kw[\u001B[38;5;124m'\u001B[39m\u001B[38;5;124mgridOn\u001B[39m\u001B[38;5;124m'\u001B[39m]\n\u001B[0;32m   1592\u001B[0m                         \u001B[38;5;28;01mif\u001B[39;00m visible \u001B[38;5;129;01mis\u001B[39;00m \u001B[38;5;28;01mNone\u001B[39;00m \u001B[38;5;28;01melse\u001B[39;00m visible)\n\u001B[1;32m-> 1593\u001B[0m     \u001B[38;5;28mself\u001B[39m\u001B[38;5;241m.\u001B[39mset_tick_params(which\u001B[38;5;241m=\u001B[39m\u001B[38;5;124m'\u001B[39m\u001B[38;5;124mmajor\u001B[39m\u001B[38;5;124m'\u001B[39m, \u001B[38;5;241m*\u001B[39m\u001B[38;5;241m*\u001B[39mgridkw)\n\u001B[0;32m   1594\u001B[0m \u001B[38;5;28mself\u001B[39m\u001B[38;5;241m.\u001B[39mstale \u001B[38;5;241m=\u001B[39m \u001B[38;5;28;01mTrue\u001B[39;00m\n",
      "File \u001B[1;32m~\\PycharmProjects\\PersonalProjects\\Bayesian-Learning-with-Wasserstein-Barycenters\\venv\\lib\\site-packages\\matplotlib\\axis.py:940\u001B[0m, in \u001B[0;36mAxis.set_tick_params\u001B[1;34m(self, which, reset, **kwargs)\u001B[0m\n\u001B[0;32m    938\u001B[0m \u001B[38;5;28;01mif\u001B[39;00m which \u001B[38;5;129;01min\u001B[39;00m [\u001B[38;5;124m'\u001B[39m\u001B[38;5;124mmajor\u001B[39m\u001B[38;5;124m'\u001B[39m, \u001B[38;5;124m'\u001B[39m\u001B[38;5;124mboth\u001B[39m\u001B[38;5;124m'\u001B[39m]:\n\u001B[0;32m    939\u001B[0m     \u001B[38;5;28mself\u001B[39m\u001B[38;5;241m.\u001B[39m_major_tick_kw\u001B[38;5;241m.\u001B[39mupdate(kwtrans)\n\u001B[1;32m--> 940\u001B[0m     \u001B[38;5;28;01mfor\u001B[39;00m tick \u001B[38;5;129;01min\u001B[39;00m \u001B[38;5;28;43mself\u001B[39;49m\u001B[38;5;241;43m.\u001B[39;49m\u001B[43mmajorTicks\u001B[49m:\n\u001B[0;32m    941\u001B[0m         tick\u001B[38;5;241m.\u001B[39m_apply_params(\u001B[38;5;241m*\u001B[39m\u001B[38;5;241m*\u001B[39mkwtrans)\n\u001B[0;32m    942\u001B[0m \u001B[38;5;28;01mif\u001B[39;00m which \u001B[38;5;129;01min\u001B[39;00m [\u001B[38;5;124m'\u001B[39m\u001B[38;5;124mminor\u001B[39m\u001B[38;5;124m'\u001B[39m, \u001B[38;5;124m'\u001B[39m\u001B[38;5;124mboth\u001B[39m\u001B[38;5;124m'\u001B[39m]:\n",
      "File \u001B[1;32m~\\PycharmProjects\\PersonalProjects\\Bayesian-Learning-with-Wasserstein-Barycenters\\venv\\lib\\site-packages\\matplotlib\\axis.py:600\u001B[0m, in \u001B[0;36m_LazyTickList.__get__\u001B[1;34m(self, instance, cls)\u001B[0m\n\u001B[0;32m    598\u001B[0m     instance\u001B[38;5;241m.\u001B[39mmajorTicks \u001B[38;5;241m=\u001B[39m []\n\u001B[0;32m    599\u001B[0m     tick \u001B[38;5;241m=\u001B[39m instance\u001B[38;5;241m.\u001B[39m_get_tick(major\u001B[38;5;241m=\u001B[39m\u001B[38;5;28;01mTrue\u001B[39;00m)\n\u001B[1;32m--> 600\u001B[0m     \u001B[43minstance\u001B[49m\u001B[38;5;241;43m.\u001B[39;49m\u001B[43mmajorTicks\u001B[49m\u001B[38;5;241m.\u001B[39mappend(tick)\n\u001B[0;32m    601\u001B[0m     \u001B[38;5;28;01mreturn\u001B[39;00m instance\u001B[38;5;241m.\u001B[39mmajorTicks\n\u001B[0;32m    602\u001B[0m \u001B[38;5;28;01melse\u001B[39;00m:\n",
      "File \u001B[1;32m~\\PycharmProjects\\PersonalProjects\\Bayesian-Learning-with-Wasserstein-Barycenters\\venv\\lib\\site-packages\\matplotlib\\axis.py:599\u001B[0m, in \u001B[0;36m_LazyTickList.__get__\u001B[1;34m(self, instance, cls)\u001B[0m\n\u001B[0;32m    597\u001B[0m \u001B[38;5;28;01mif\u001B[39;00m \u001B[38;5;28mself\u001B[39m\u001B[38;5;241m.\u001B[39m_major:\n\u001B[0;32m    598\u001B[0m     instance\u001B[38;5;241m.\u001B[39mmajorTicks \u001B[38;5;241m=\u001B[39m []\n\u001B[1;32m--> 599\u001B[0m     tick \u001B[38;5;241m=\u001B[39m \u001B[43minstance\u001B[49m\u001B[38;5;241;43m.\u001B[39;49m\u001B[43m_get_tick\u001B[49m\u001B[43m(\u001B[49m\u001B[43mmajor\u001B[49m\u001B[38;5;241;43m=\u001B[39;49m\u001B[38;5;28;43;01mTrue\u001B[39;49;00m\u001B[43m)\u001B[49m\n\u001B[0;32m    600\u001B[0m     instance\u001B[38;5;241m.\u001B[39mmajorTicks\u001B[38;5;241m.\u001B[39mappend(tick)\n\u001B[0;32m    601\u001B[0m     \u001B[38;5;28;01mreturn\u001B[39;00m instance\u001B[38;5;241m.\u001B[39mmajorTicks\n",
      "File \u001B[1;32m~\\PycharmProjects\\PersonalProjects\\Bayesian-Learning-with-Wasserstein-Barycenters\\venv\\lib\\site-packages\\matplotlib\\axis.py:1483\u001B[0m, in \u001B[0;36mAxis._get_tick\u001B[1;34m(self, major)\u001B[0m\n\u001B[0;32m   1479\u001B[0m     \u001B[38;5;28;01mraise\u001B[39;00m \u001B[38;5;167;01mNotImplementedError\u001B[39;00m(\n\u001B[0;32m   1480\u001B[0m         \u001B[38;5;124mf\u001B[39m\u001B[38;5;124m\"\u001B[39m\u001B[38;5;124mThe Axis subclass \u001B[39m\u001B[38;5;132;01m{\u001B[39;00m\u001B[38;5;28mself\u001B[39m\u001B[38;5;241m.\u001B[39m\u001B[38;5;18m__class__\u001B[39m\u001B[38;5;241m.\u001B[39m\u001B[38;5;18m__name__\u001B[39m\u001B[38;5;132;01m}\u001B[39;00m\u001B[38;5;124m must define \u001B[39m\u001B[38;5;124m\"\u001B[39m\n\u001B[0;32m   1481\u001B[0m         \u001B[38;5;124m\"\u001B[39m\u001B[38;5;124m_tick_class or reimplement _get_tick()\u001B[39m\u001B[38;5;124m\"\u001B[39m)\n\u001B[0;32m   1482\u001B[0m tick_kw \u001B[38;5;241m=\u001B[39m \u001B[38;5;28mself\u001B[39m\u001B[38;5;241m.\u001B[39m_major_tick_kw \u001B[38;5;28;01mif\u001B[39;00m major \u001B[38;5;28;01melse\u001B[39;00m \u001B[38;5;28mself\u001B[39m\u001B[38;5;241m.\u001B[39m_minor_tick_kw\n\u001B[1;32m-> 1483\u001B[0m \u001B[38;5;28;01mreturn\u001B[39;00m \u001B[38;5;28mself\u001B[39m\u001B[38;5;241m.\u001B[39m_tick_class(\u001B[38;5;28mself\u001B[39m\u001B[38;5;241m.\u001B[39maxes, \u001B[38;5;241m0\u001B[39m, major\u001B[38;5;241m=\u001B[39mmajor, \u001B[38;5;241m*\u001B[39m\u001B[38;5;241m*\u001B[39mtick_kw)\n",
      "File \u001B[1;32m~\\PycharmProjects\\PersonalProjects\\Bayesian-Learning-with-Wasserstein-Barycenters\\venv\\lib\\site-packages\\matplotlib\\axis.py:483\u001B[0m, in \u001B[0;36mYTick.__init__\u001B[1;34m(self, *args, **kwargs)\u001B[0m\n\u001B[0;32m    482\u001B[0m \u001B[38;5;28;01mdef\u001B[39;00m \u001B[38;5;21m__init__\u001B[39m(\u001B[38;5;28mself\u001B[39m, \u001B[38;5;241m*\u001B[39margs, \u001B[38;5;241m*\u001B[39m\u001B[38;5;241m*\u001B[39mkwargs):\n\u001B[1;32m--> 483\u001B[0m     \u001B[38;5;28msuper\u001B[39m()\u001B[38;5;241m.\u001B[39m\u001B[38;5;21m__init__\u001B[39m(\u001B[38;5;241m*\u001B[39margs, \u001B[38;5;241m*\u001B[39m\u001B[38;5;241m*\u001B[39mkwargs)\n\u001B[0;32m    484\u001B[0m     \u001B[38;5;66;03m# x in axes coords, y in data coords\u001B[39;00m\n\u001B[0;32m    485\u001B[0m     ax \u001B[38;5;241m=\u001B[39m \u001B[38;5;28mself\u001B[39m\u001B[38;5;241m.\u001B[39maxes\n",
      "File \u001B[1;32m~\\PycharmProjects\\PersonalProjects\\Bayesian-Learning-with-Wasserstein-Barycenters\\venv\\lib\\site-packages\\matplotlib\\axis.py:172\u001B[0m, in \u001B[0;36mTick.__init__\u001B[1;34m(self, axes, loc, size, width, color, tickdir, pad, labelsize, labelcolor, zorder, gridOn, tick1On, tick2On, label1On, label2On, major, labelrotation, grid_color, grid_linestyle, grid_linewidth, grid_alpha, **kwargs)\u001B[0m\n\u001B[0;32m    161\u001B[0m \u001B[38;5;28mself\u001B[39m\u001B[38;5;241m.\u001B[39mtick2line \u001B[38;5;241m=\u001B[39m mlines\u001B[38;5;241m.\u001B[39mLine2D(\n\u001B[0;32m    162\u001B[0m     [], [],\n\u001B[0;32m    163\u001B[0m     color\u001B[38;5;241m=\u001B[39mcolor, linestyle\u001B[38;5;241m=\u001B[39m\u001B[38;5;124m\"\u001B[39m\u001B[38;5;124mnone\u001B[39m\u001B[38;5;124m\"\u001B[39m, zorder\u001B[38;5;241m=\u001B[39mzorder, visible\u001B[38;5;241m=\u001B[39mtick2On,\n\u001B[0;32m    164\u001B[0m     markeredgecolor\u001B[38;5;241m=\u001B[39mcolor, markersize\u001B[38;5;241m=\u001B[39msize, markeredgewidth\u001B[38;5;241m=\u001B[39mwidth,\n\u001B[0;32m    165\u001B[0m )\n\u001B[0;32m    166\u001B[0m \u001B[38;5;28mself\u001B[39m\u001B[38;5;241m.\u001B[39mgridline \u001B[38;5;241m=\u001B[39m mlines\u001B[38;5;241m.\u001B[39mLine2D(\n\u001B[0;32m    167\u001B[0m     [], [],\n\u001B[0;32m    168\u001B[0m     color\u001B[38;5;241m=\u001B[39mgrid_color, alpha\u001B[38;5;241m=\u001B[39mgrid_alpha, visible\u001B[38;5;241m=\u001B[39mgridOn,\n\u001B[0;32m    169\u001B[0m     linestyle\u001B[38;5;241m=\u001B[39mgrid_linestyle, linewidth\u001B[38;5;241m=\u001B[39mgrid_linewidth, marker\u001B[38;5;241m=\u001B[39m\u001B[38;5;124m\"\u001B[39m\u001B[38;5;124m\"\u001B[39m,\n\u001B[0;32m    170\u001B[0m     \u001B[38;5;241m*\u001B[39m\u001B[38;5;241m*\u001B[39mgrid_kw,\n\u001B[0;32m    171\u001B[0m )\n\u001B[1;32m--> 172\u001B[0m \u001B[38;5;28;43mself\u001B[39;49m\u001B[38;5;241;43m.\u001B[39;49m\u001B[43mgridline\u001B[49m\u001B[38;5;241;43m.\u001B[39;49m\u001B[43mget_path\u001B[49m\u001B[43m(\u001B[49m\u001B[43m)\u001B[49m\u001B[38;5;241m.\u001B[39m_interpolation_steps \u001B[38;5;241m=\u001B[39m \\\n\u001B[0;32m    173\u001B[0m     GRIDLINE_INTERPOLATION_STEPS\n\u001B[0;32m    174\u001B[0m \u001B[38;5;28mself\u001B[39m\u001B[38;5;241m.\u001B[39mlabel1 \u001B[38;5;241m=\u001B[39m mtext\u001B[38;5;241m.\u001B[39mText(\n\u001B[0;32m    175\u001B[0m     np\u001B[38;5;241m.\u001B[39mnan, np\u001B[38;5;241m.\u001B[39mnan,\n\u001B[0;32m    176\u001B[0m     fontsize\u001B[38;5;241m=\u001B[39mlabelsize, color\u001B[38;5;241m=\u001B[39mlabelcolor, visible\u001B[38;5;241m=\u001B[39mlabel1On,\n\u001B[0;32m    177\u001B[0m     rotation\u001B[38;5;241m=\u001B[39m\u001B[38;5;28mself\u001B[39m\u001B[38;5;241m.\u001B[39m_labelrotation[\u001B[38;5;241m1\u001B[39m])\n\u001B[0;32m    178\u001B[0m \u001B[38;5;28mself\u001B[39m\u001B[38;5;241m.\u001B[39mlabel2 \u001B[38;5;241m=\u001B[39m mtext\u001B[38;5;241m.\u001B[39mText(\n\u001B[0;32m    179\u001B[0m     np\u001B[38;5;241m.\u001B[39mnan, np\u001B[38;5;241m.\u001B[39mnan,\n\u001B[0;32m    180\u001B[0m     fontsize\u001B[38;5;241m=\u001B[39mlabelsize, color\u001B[38;5;241m=\u001B[39mlabelcolor, visible\u001B[38;5;241m=\u001B[39mlabel2On,\n\u001B[0;32m    181\u001B[0m     rotation\u001B[38;5;241m=\u001B[39m\u001B[38;5;28mself\u001B[39m\u001B[38;5;241m.\u001B[39m_labelrotation[\u001B[38;5;241m1\u001B[39m])\n",
      "File \u001B[1;32m~\\PycharmProjects\\PersonalProjects\\Bayesian-Learning-with-Wasserstein-Barycenters\\venv\\lib\\site-packages\\matplotlib\\lines.py:1031\u001B[0m, in \u001B[0;36mLine2D.get_path\u001B[1;34m(self)\u001B[0m\n\u001B[0;32m   1029\u001B[0m \u001B[38;5;124;03m\"\"\"Return the `~matplotlib.path.Path` associated with this line.\"\"\"\u001B[39;00m\n\u001B[0;32m   1030\u001B[0m \u001B[38;5;28;01mif\u001B[39;00m \u001B[38;5;28mself\u001B[39m\u001B[38;5;241m.\u001B[39m_invalidy \u001B[38;5;129;01mor\u001B[39;00m \u001B[38;5;28mself\u001B[39m\u001B[38;5;241m.\u001B[39m_invalidx:\n\u001B[1;32m-> 1031\u001B[0m     \u001B[38;5;28;43mself\u001B[39;49m\u001B[38;5;241;43m.\u001B[39;49m\u001B[43mrecache\u001B[49m\u001B[43m(\u001B[49m\u001B[43m)\u001B[49m\n\u001B[0;32m   1032\u001B[0m \u001B[38;5;28;01mreturn\u001B[39;00m \u001B[38;5;28mself\u001B[39m\u001B[38;5;241m.\u001B[39m_path\n",
      "File \u001B[1;32m~\\PycharmProjects\\PersonalProjects\\Bayesian-Learning-with-Wasserstein-Barycenters\\venv\\lib\\site-packages\\matplotlib\\lines.py:668\u001B[0m, in \u001B[0;36mLine2D.recache\u001B[1;34m(self, always)\u001B[0m\n\u001B[0;32m    665\u001B[0m \u001B[38;5;28;01melse\u001B[39;00m:\n\u001B[0;32m    666\u001B[0m     y \u001B[38;5;241m=\u001B[39m \u001B[38;5;28mself\u001B[39m\u001B[38;5;241m.\u001B[39m_y\n\u001B[1;32m--> 668\u001B[0m \u001B[38;5;28mself\u001B[39m\u001B[38;5;241m.\u001B[39m_xy \u001B[38;5;241m=\u001B[39m \u001B[43mnp\u001B[49m\u001B[38;5;241;43m.\u001B[39;49m\u001B[43mcolumn_stack\u001B[49m\u001B[43m(\u001B[49m\u001B[43mnp\u001B[49m\u001B[38;5;241;43m.\u001B[39;49m\u001B[43mbroadcast_arrays\u001B[49m\u001B[43m(\u001B[49m\u001B[43mx\u001B[49m\u001B[43m,\u001B[49m\u001B[43m \u001B[49m\u001B[43my\u001B[49m\u001B[43m)\u001B[49m\u001B[43m)\u001B[49m\u001B[38;5;241;43m.\u001B[39;49m\u001B[43mastype\u001B[49m\u001B[43m(\u001B[49m\u001B[38;5;28;43mfloat\u001B[39;49m\u001B[43m)\u001B[49m\n\u001B[0;32m    669\u001B[0m \u001B[38;5;28mself\u001B[39m\u001B[38;5;241m.\u001B[39m_x, \u001B[38;5;28mself\u001B[39m\u001B[38;5;241m.\u001B[39m_y \u001B[38;5;241m=\u001B[39m \u001B[38;5;28mself\u001B[39m\u001B[38;5;241m.\u001B[39m_xy\u001B[38;5;241m.\u001B[39mT  \u001B[38;5;66;03m# views\u001B[39;00m\n\u001B[0;32m    671\u001B[0m \u001B[38;5;28mself\u001B[39m\u001B[38;5;241m.\u001B[39m_subslice \u001B[38;5;241m=\u001B[39m \u001B[38;5;28;01mFalse\u001B[39;00m\n",
      "\u001B[1;31mKeyboardInterrupt\u001B[0m: "
     ]
    },
    {
     "data": {
      "text/plain": "<Figure size 700x700 with 0 Axes>"
     },
     "metadata": {},
     "output_type": "display_data"
    }
   ],
   "source": [
    "%%time\n",
    "import time\n",
    "\n",
    "\n",
    "\n",
    "fig, axes = plt.subplots(nb_images, nb_images, figsize=(7, 7))\n",
    "cm = 'Blues'\n",
    "tic_ = time.time()\n",
    "for i in range(nb_images):\n",
    "    for j in range(nb_images):\n",
    "        tic = time.time()\n",
    "\n",
    "        tx = float(i) / (nb_images - 1)\n",
    "        ty = float(j) / (nb_images - 1)\n",
    "\n",
    "        # weights are constructed by bilinear interpolation\n",
    "        tmp1 = (1 - tx) * v1 + tx * v2\n",
    "        tmp2 = (1 - tx) * v3 + tx * v4\n",
    "        weights = (1 - ty) * tmp1 + ty * tmp2\n",
    "\n",
    "        axes_ij = axes[i, j]\n",
    "\n",
    "        if i == 0 and j == 0:\n",
    "            axes_ij.imshow(f1, cmap=cm)\n",
    "        elif i == 0 and j == (nb_images - 1):\n",
    "            axes_ij.imshow(f3, cmap=cm)\n",
    "        elif i == (nb_images - 1) and j == 0:\n",
    "            axes_ij.imshow(f2, cmap=cm)\n",
    "        elif i == (nb_images - 1) and j == (nb_images - 1):\n",
    "            axes_ij.imshow(f4, cmap=cm)\n",
    "        elif i == 0:\n",
    "            dd_t = DistributionDraw(*geodesic13.interpolate(ty, **interp_param), original_shape)\n",
    "            axes_ij.imshow(dd_t.grayscale, cmap=cm)\n",
    "        elif i == (nb_images - 1):\n",
    "            dd_t = DistributionDraw(*geodesic24.interpolate(ty, **interp_param), original_shape)\n",
    "            axes_ij.imshow(dd_t.grayscale, cmap=cm)\n",
    "        elif j == 0:\n",
    "            dd_t = DistributionDraw(*geodesic12.interpolate(tx, **interp_param), original_shape)\n",
    "            axes_ij.imshow(dd_t.grayscale, cmap=cm)\n",
    "        elif j == (nb_images - 1):\n",
    "            dd_t = DistributionDraw(*geodesic34.interpolate(tx, **interp_param), original_shape)\n",
    "            axes_ij.imshow(dd_t.grayscale, cmap=cm)\n",
    "        else:\n",
    "            axes_ij.imshow(np.zeros(original_shape), cmap=cm)\n",
    "        axes_ij.axis('off')\n",
    "\n",
    "        toc = time.time()\n",
    "        _log.debug(f\"{i = }, {j = } ==> Total time: {toc - tic:.4f} [seg]\")\n",
    "toc_ = time.time()\n",
    "d_time = f\"\\nΔt={toc_-tic_:.1f}[seg]\"\n",
    "plt.suptitle(f'McCann Interpolation with Sinkhorn Transport. {d_time}')\n",
    "plt.tight_layout()\n",
    "plt.savefig(img_path / f\"{additional_info}-mccaan-interpolation-sinkhorn.png\", dpi=800)\n",
    "plt.show()"
   ],
   "metadata": {
    "collapsed": false,
    "pycharm": {
     "name": "#%%\n"
    }
   }
  },
  {
   "cell_type": "code",
   "execution_count": 25,
   "outputs": [],
   "source": [],
   "metadata": {
    "collapsed": false,
    "pycharm": {
     "name": "#%%\n"
    }
   }
  }
 ],
 "metadata": {
  "kernelspec": {
   "display_name": "Python 3",
   "language": "python",
   "name": "python3"
  },
  "language_info": {
   "codemirror_mode": {
    "name": "ipython",
    "version": 2
   },
   "file_extension": ".py",
   "mimetype": "text/x-python",
   "name": "python",
   "nbconvert_exporter": "python",
   "pygments_lexer": "ipython2",
   "version": "2.7.6"
  }
 },
 "nbformat": 4,
 "nbformat_minor": 0
}