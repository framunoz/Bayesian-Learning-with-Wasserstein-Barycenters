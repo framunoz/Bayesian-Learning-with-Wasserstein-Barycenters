{
 "cells": [
  {
   "cell_type": "code",
   "execution_count": null,
   "metadata": {},
   "outputs": [],
   "source": [
    "%cd ~/codeProjects/pythonProjects/Bayesian-Learning-with-Wasserstein-Barycenters\n",
    "\n",
    "# %cd D:\\CodeProjects\\Python\\Bayesian-Learning-with-Wasserstein-Barycenters\\\n",
    "# Soy una nueva linea"
   ]
  },
  {
   "cell_type": "code",
   "execution_count": null,
   "metadata": {},
   "outputs": [],
   "source": [
    "import torch\n",
    "\n",
    "device = torch.device(\"cuda\" if torch.cuda.is_available() else \"cpu\")\n",
    "device"
   ]
  },
  {
   "cell_type": "code",
   "execution_count": null,
   "metadata": {},
   "outputs": [],
   "source": [
    "from wgan_gp.wgan_gp_vae.model_resnet import Generator, Encoder"
   ]
  },
  {
   "cell_type": "code",
   "execution_count": null,
   "metadata": {},
   "outputs": [],
   "source": [
    "LATENT_DIM = 128\n",
    "CHANNELS_IMG = 1\n",
    "NUM_FILTERS = [256, 128, 64, 32]\n",
    "\n",
    "G = Generator(LATENT_DIM, CHANNELS_IMG).to(device)\n",
    "E = Encoder(LATENT_DIM, CHANNELS_IMG).to(device)"
   ]
  },
  {
   "cell_type": "code",
   "execution_count": null,
   "metadata": {},
   "outputs": [],
   "source": [
    "from pathlib import Path\n",
    "\n",
    "\n",
    "CURR_PATH = Path(\".\")\n",
    "NETS_PATH = CURR_PATH / \"wgan_gp\" / \"networks\"\n",
    "# FACE_PATH = NETS_PATH / \"face_zDim128_gauss_recognized_augmented_WAE_WGAN_loss_mse_64p64\"\n",
    "FACE_PATH = (\n",
    "    NETS_PATH\n",
    "    / \"_resnet_face_zDim128_gauss_bs_128_recognized_augmented_WAE_WGAN_loss_l1_32p32\"\n",
    ")\n",
    "# FACE_PATH = NETS_PATH / \"face_zDim128_gauss_recognized_augmented_WAE_WGAN_64p64\"\n",
    "# FACE_PATH = NETS_PATH / \"face_zDim128_gauss_recognized_augmented_64p64\"\n",
    "Path(\"./wgan_gp/networks/\")\n",
    "\n",
    "DATA_PATH = CURR_PATH / \"data\" / \"face_recognized.npy\"\n",
    "\n",
    "\n",
    "DATA_PATH, FACE_PATH"
   ]
  },
  {
   "cell_type": "code",
   "execution_count": null,
   "metadata": {},
   "outputs": [],
   "source": [
    "from wgan_gp.wgan_gp_vae.utils import load_checkpoint\n",
    "\n",
    "load_checkpoint(G, FACE_PATH, \"generator\", device)\n",
    "load_checkpoint(E, FACE_PATH, \"encoder\", device)"
   ]
  },
  {
   "cell_type": "code",
   "execution_count": null,
   "metadata": {},
   "outputs": [],
   "source": [
    "from bwb.distributions.data_loaders import *"
   ]
  },
  {
   "cell_type": "code",
   "execution_count": null,
   "metadata": {},
   "outputs": [],
   "source": [
    "import numpy as np\n",
    "\n",
    "arr = np.load(DATA_PATH)\n",
    "arr.shape"
   ]
  },
  {
   "cell_type": "code",
   "execution_count": null,
   "metadata": {},
   "outputs": [],
   "source": [
    "faces = DistributionDrawDataLoader(arr, (28, 28))\n",
    "faces"
   ]
  },
  {
   "cell_type": "code",
   "execution_count": null,
   "metadata": {},
   "outputs": [],
   "source": [
    "first_face = faces[0]\n",
    "first_face"
   ]
  },
  {
   "cell_type": "code",
   "execution_count": null,
   "metadata": {},
   "outputs": [],
   "source": [
    "import torchvision.transforms as transforms\n",
    "\n",
    "transform_in = transforms.Compose([\n",
    "    # From pdf to grayscale\n",
    "    transforms.Lambda(lambda x: x / torch.max(x)),\n",
    "    # transforms.Lambda(lambda x: x),\n",
    "    transforms.ToPILImage(),\n",
    "    transforms.Resize((32, 32)),\n",
    "    transforms.ToTensor(),\n",
    "    transforms.Normalize(\n",
    "        [0.5 for _ in range(1)],\n",
    "        [0.5 for _ in range(1)],\n",
    "    ),\n",
    "])\n",
    "transform_in(first_face.grayscale_weights)"
   ]
  },
  {
   "cell_type": "code",
   "execution_count": null,
   "metadata": {},
   "outputs": [],
   "source": [
    "from wgan_gp.wgan_gp_vae.utils import ProjectorOnManifold\n",
    "\n",
    "proj = ProjectorOnManifold(\n",
    "    E,\n",
    "    G,\n",
    "    transform_in=transforms.Compose([\n",
    "        # From pdf to grayscale\n",
    "        transforms.Lambda(lambda x: x / torch.max(x)),\n",
    "        # transforms.Lambda(lambda x: x),\n",
    "        transforms.ToPILImage(),\n",
    "        transforms.Resize((32, 32)),\n",
    "        transforms.ToTensor(),\n",
    "        transforms.Normalize(\n",
    "            [0.5 for _ in range(1)],\n",
    "            [0.5 for _ in range(1)],\n",
    "        ),\n",
    "    ]),\n",
    "    transform_out=transforms.Compose([\n",
    "        # Ensure the range is in [0, 1]\n",
    "        transforms.Lambda(lambda x: x - torch.min(x)),\n",
    "        transforms.Lambda(lambda x: x / torch.max(x)),\n",
    "        transforms.Lambda(lambda x: 1 - x),\n",
    "        transforms.ToPILImage(),\n",
    "        # transforms.Resize((28, 28)),\n",
    "        # transforms.ToTensor(),\n",
    "        # transforms.Lambda(lambda x: x / torch.sum(x)),\n",
    "        # transforms.Lambda(lambda x: x.squeeze(0)),\n",
    "    ]),\n",
    ")"
   ]
  },
  {
   "cell_type": "code",
   "execution_count": null,
   "metadata": {},
   "outputs": [],
   "source": [
    "proj._transform_in(first_face.grayscale_weights)"
   ]
  },
  {
   "cell_type": "code",
   "execution_count": null,
   "metadata": {},
   "outputs": [],
   "source": [
    "import requests\n",
    "import io\n",
    "\n",
    "response = requests.get(\n",
    "    \"https://storage.googleapis.com/quickdraw_dataset/full/numpy_bitmap/cat.npy\"\n",
    ")\n",
    "response.raise_for_status()\n",
    "data = np.load(io.BytesIO(response.content))  # Works!"
   ]
  },
  {
   "cell_type": "code",
   "execution_count": null,
   "metadata": {},
   "outputs": [],
   "source": [
    "cats = DistributionDrawDataLoader(data, (28, 28))\n",
    "cats[1]"
   ]
  },
  {
   "cell_type": "code",
   "execution_count": null,
   "metadata": {},
   "outputs": [],
   "source": [
    "cat = cats[9]\n",
    "cat"
   ]
  },
  {
   "cell_type": "code",
   "execution_count": null,
   "metadata": {},
   "outputs": [],
   "source": [
    "proj(cat.grayscale_weights)"
   ]
  },
  {
   "cell_type": "code",
   "execution_count": null,
   "metadata": {},
   "outputs": [],
   "source": [
    "from quickdraw_dataset import QuickDraw\n",
    "import torchvision.transforms as T\n",
    "from bwb.distributions import DistributionDraw\n",
    "\n",
    "ds = QuickDraw(\n",
    "    Path(\"./data\"),\n",
    "    category=\"cat\",\n",
    "    recognized=True,\n",
    "    download=True,\n",
    "    transform=T.Compose([\n",
    "        T.ToTensor(),\n",
    "        T.Lambda(lambda x: x.squeeze()),\n",
    "        T.Lambda(lambda x: DistributionDraw.from_grayscale_weights(x)),\n",
    "    ]),\n",
    ")\n",
    "ds[0][0]\n",
    "# proj(ds[0][0])"
   ]
  },
  {
   "cell_type": "code",
   "execution_count": null,
   "metadata": {},
   "outputs": [],
   "source": [
    "max_images = 4 * 9\n",
    "cats_list = []\n",
    "cats_projected_list = []\n",
    "for k in range(max_images):\n",
    "    cat = ds[k][0]\n",
    "    cats_list.append(cat)\n",
    "    cats_projected_list.append(proj(cat.grayscale_weights))"
   ]
  },
  {
   "cell_type": "code",
   "execution_count": null,
   "metadata": {},
   "outputs": [],
   "source": [
    "from bwb import utils\n",
    "\n",
    "\n",
    "utils.plot_list_of_draws(cats_list, max_images=max_images)"
   ]
  },
  {
   "cell_type": "code",
   "execution_count": null,
   "metadata": {},
   "outputs": [],
   "source": [
    "utils.plot_list_of_images(cats_projected_list, max_images=max_images)"
   ]
  }
 ],
 "metadata": {
  "kernelspec": {
   "display_name": ".venv",
   "language": "python",
   "name": "python3"
  },
  "language_info": {
   "codemirror_mode": {
    "name": "ipython",
    "version": 3
   },
   "file_extension": ".py",
   "mimetype": "text/x-python",
   "name": "python",
   "nbconvert_exporter": "python",
   "pygments_lexer": "ipython3",
   "version": "3.10.12"
  }
 },
 "nbformat": 4,
 "nbformat_minor": 2
}
