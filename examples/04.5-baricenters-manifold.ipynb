{
 "cells": [
  {
   "cell_type": "markdown",
   "metadata": {},
   "source": [
    "# Importaciones Generales"
   ]
  },
  {
   "cell_type": "code",
   "execution_count": 1,
   "metadata": {},
   "outputs": [
    {
     "name": "stdout",
     "output_type": "stream",
     "text": [
      "/home/fmunoz/codeProjects/pythonProjects/Bayesian-Learning-with-Wasserstein-Barycenters\n"
     ]
    }
   ],
   "source": [
    "%cd ~/codeProjects/pythonProjects/Bayesian-Learning-with-Wasserstein-Barycenters\n",
    "# %cd D:\\CodeProjects\\Python\\Bayesian-Learning-with-Wasserstein-Barycenters\\"
   ]
  },
  {
   "cell_type": "code",
   "execution_count": 2,
   "metadata": {},
   "outputs": [],
   "source": [
    "from bwb.distributions import *\n",
    "from bwb.distributions.data_loaders import *\n",
    "from bwb.transports import *\n",
    "from bwb.geodesics import *\n",
    "from bwb import utils\n",
    "from bwb import sgdw"
   ]
  },
  {
   "cell_type": "markdown",
   "metadata": {},
   "source": [
    "## Configuración del Logger"
   ]
  },
  {
   "cell_type": "code",
   "execution_count": 3,
   "metadata": {},
   "outputs": [],
   "source": [
    "import time\n",
    "from pathlib import Path\n",
    "\n",
    "\n",
    "# Whether to clean the logs directory\n",
    "CLEAN_LOGS = False\n",
    "\n",
    "# Create the logs directory\n",
    "LOG_PATH = Path(\"logs\") / f\"notebook_{time.strftime('%Y%m%d_%H%M%S')}.log\"\n",
    "if not LOG_PATH.parent.exists():\n",
    "    LOG_PATH.parent.mkdir()\n",
    "\n",
    "# Clean the logs\n",
    "if CLEAN_LOGS:\n",
    "    for log_file in Path(\"logs\").glob(\"*.log\"):\n",
    "        log_file.unlink()"
   ]
  },
  {
   "cell_type": "code",
   "execution_count": 4,
   "metadata": {},
   "outputs": [],
   "source": [
    "import logging\n",
    "from bwb.logging import log_config\n",
    "\n",
    "\n",
    "# Remove the handlers\n",
    "log_config.remove_all_handlers()\n",
    "\n",
    "# Define and add FileHandler\n",
    "fh = logging.FileHandler(LOG_PATH)\n",
    "log_config.set_default_formatter(fh)\n",
    "log_config.add_handler(fh)\n",
    "\n",
    "\n",
    "_log = log_config.get_logger(\"notebook\")\n",
    "log_config.set_level(level=logging.DEBUG, name=\"notebook\")\n",
    "log_config.set_level(level=logging.INFO, name=\"bwb.utils\")\n",
    "log_config.set_level(level=logging.DEBUG, name=\"bwb.sgdw\")\n",
    "log_config.set_level(level=logging.INFO, name=\"bwb.transports\")"
   ]
  },
  {
   "cell_type": "markdown",
   "metadata": {},
   "source": [
    "# Importar las redes neuronales"
   ]
  },
  {
   "cell_type": "code",
   "execution_count": 5,
   "metadata": {},
   "outputs": [
    {
     "name": "stdout",
     "output_type": "stream",
     "text": [
      "\n"
     ]
    }
   ],
   "source": [
    "from wgan_gp.wgan_gp_vae.model_resnet import Generator, Encoder, LatentDistribution\n",
    "import torch\n",
    "from wgan_gp.wgan_gp_vae.utils import load_checkpoint\n",
    "\n",
    "\n",
    "device = torch.device(\"cuda\" if torch.cuda.is_available() else \"cpu\")\n",
    "\n",
    "NOISE = \"norm\"\n",
    "LATENT_DIM = 128\n",
    "CHANNELS_IMG = 1\n",
    "NUM_FILTERS = [256, 128, 64, 32]\n",
    "\n",
    "noise_sampler = LatentDistribution(NOISE, LATENT_DIM, device)\n",
    "\n",
    "CURR_PATH = Path(\".\")\n",
    "NETS_PATH = CURR_PATH / \"wgan_gp\" / \"networks\" \n",
    "\n",
    "DS_NAME = \"data\"\n",
    "\n",
    "G = Generator(LATENT_DIM, CHANNELS_IMG, latent_distr=NOISE).to(device)\n",
    "E = Encoder(LATENT_DIM, CHANNELS_IMG).to(device)\n",
    "\n",
    "FACE_PATH = NETS_PATH / f\"cleaned_{DS_NAME}_zDim{LATENT_DIM}_{NOISE}_bs_128\"\n",
    "\n",
    "load_checkpoint(G, FACE_PATH, \"generator\", device)\n",
    "load_checkpoint(E, FACE_PATH, \"encoder\", device)\n",
    "\n",
    "G.eval(); E.eval()\n",
    "print()"
   ]
  },
  {
   "cell_type": "code",
   "execution_count": 6,
   "metadata": {},
   "outputs": [
    {
     "data": {
      "text/plain": [
       "LatentDistribution(name=norm, z_dim=128, device=cuda)"
      ]
     },
     "execution_count": 6,
     "metadata": {},
     "output_type": "execute_result"
    }
   ],
   "source": [
    "noise_sampler"
   ]
  },
  {
   "cell_type": "code",
   "execution_count": 7,
   "metadata": {},
   "outputs": [
    {
     "name": "stdout",
     "output_type": "stream",
     "text": [
      "torch.float64\n"
     ]
    },
    {
     "data": {
      "image/png": "[encoded data removed]",
      "text/plain": [
       "DistributionDraw(shape: torch.Size([32, 32]))"
      ]
     },
     "execution_count": 7,
     "metadata": {},
     "output_type": "execute_result"
    }
   ],
   "source": [
    "from bwb.distributions import DistributionDraw\n",
    "from torchvision import disable_beta_transforms_warning\n",
    "disable_beta_transforms_warning()\n",
    "\n",
    "import torchvision.transforms.v2 as T\n",
    "\n",
    "\n",
    "z = noise_sampler(1)\n",
    "m = G(z)\n",
    "\n",
    "transform_in = T.Compose([\n",
    "    T.Lambda(lambda x: x / torch.max(x)),\n",
    "    T.ToPILImage(),\n",
    "    T.Resize(32),\n",
    "    T.ToImageTensor(),\n",
    "    T.ConvertImageDtype(torch.float32),\n",
    "    T.Normalize((0.5,), (0.5,)),\n",
    "])\n",
    "\n",
    "transform_out = T.Compose([\n",
    "    T.ToDtype(torch.float64),\n",
    "    T.Lambda(lambda x: x.squeeze()),\n",
    "    T.Lambda(lambda x: x - torch.min(x)),\n",
    "    T.Lambda(lambda x: x / torch.sum(x)),\n",
    "    T.Lambda(lambda x: DistributionDraw.from_grayscale_weights(x)),\n",
    "])\n",
    "\n",
    "out: DistributionDraw = transform_out(m)\n",
    "print(out.dtype)\n",
    "out"
   ]
  },
  {
   "cell_type": "markdown",
   "metadata": {},
   "source": [
    "## Proyector"
   ]
  },
  {
   "cell_type": "code",
   "execution_count": 8,
   "metadata": {},
   "outputs": [],
   "source": [
    "from wgan_gp.wgan_gp_vae.utils import ProjectorOnManifold\n",
    "import torchvision.transforms as T\n",
    "\n",
    "transform_in_proj = T.Compose([\n",
    "    # From pdf to grayscale\n",
    "    T.Lambda(lambda x: x / torch.max(x)),\n",
    "    T.ToPILImage(),\n",
    "    T.Resize((32, 32)),\n",
    "    T.ToTensor(),\n",
    "    T.Normalize(\n",
    "        [0.5 for _ in range(1)],\n",
    "        [0.5 for _ in range(1)],\n",
    "    ),\n",
    "])\n",
    "\n",
    "transform_out_proj = T.Compose([\n",
    "    # Ensure the range is in [0, 1]\n",
    "    T.Lambda(lambda x: x - torch.min(x)),\n",
    "    T.Lambda(lambda x: x / torch.max(x)),\n",
    "    T.Lambda(lambda x: x / torch.sum(x)),\n",
    "    T.Lambda(lambda x: x.squeeze(0)),\n",
    "])\n",
    "\n",
    "proj = ProjectorOnManifold(\n",
    "    E, G, \n",
    "    transform_in=transform_in_proj,\n",
    "    transform_out=transform_out_proj,\n",
    ")"
   ]
  },
  {
   "cell_type": "markdown",
   "metadata": {},
   "source": [
    "## Obtener Dataset"
   ]
  },
  {
   "cell_type": "code",
   "execution_count": 9,
   "metadata": {},
   "outputs": [],
   "source": [
    "import multiprocessing as mp\n",
    "from bwb.config import config\n",
    "from torch.utils.data import DataLoader\n",
    "from bwb.utils import _ArrayLike\n",
    "import bwb.distributions as dist\n",
    "\n",
    "class DatasetWrapper:\n",
    "    def __init__(self, dataset, dataloader_args=None, device=None, dtype=None, eps=None):\n",
    "        self.dataset = dataset\n",
    "\n",
    "        self.dataloader_args = dataloader_args or dict()\n",
    "        default_args = dict(batch_size=1024, shuffle=False, num_workers=mp.cpu_count())\n",
    "        for key, value in default_args.items():\n",
    "            self.dataloader_args.setdefault(key, value)\n",
    "\n",
    "        self.device = torch.device(device or config.device)\n",
    "        # If we are working in cuda\n",
    "        if self.device.type == \"cuda\":\n",
    "            self.dataloader_args.setdefault(\"pin_memory\", True)\n",
    "\n",
    "        self.dtype = dtype or config.dtype\n",
    "\n",
    "        self.eps = eps or config.eps\n",
    "\n",
    "    def __len__(self):\n",
    "        return len(self.dataset)\n",
    "\n",
    "    def compute_likelihood(self, data: _ArrayLike, **kwargs) -> torch.Tensor:\n",
    "        dataloader = DataLoader(self.dataset, **self.dataloader_args)\n",
    "        data = torch.as_tensor(data, device=self.device).reshape(1, -1)\n",
    "\n",
    "        likelihoods = []\n",
    "\n",
    "        for features, _ in dataloader:\n",
    "            # Transfer the features to the appropriate device\n",
    "            features = torch.as_tensor(features, device=self.device, dtype=self.dtype)\n",
    "            # Flatten the features\n",
    "            features = features.reshape(features.size(0), -1)\n",
    "            # Normalize the features\n",
    "            features = features / features.sum(dim=1, keepdim=True)\n",
    "            # Compute the log of the features\n",
    "            features = torch.log(features + self.eps)\n",
    "            # Compute the likelihood\n",
    "            evaluations = torch.take_along_dim(features, data, 1)\n",
    "            likelihood = torch.exp(evaluations.sum(dim=1))\n",
    "\n",
    "            likelihoods.append(likelihood)\n",
    "\n",
    "        likelihood_cache = torch.cat(likelihoods, dim=0)\n",
    "\n",
    "        probabilities = likelihood_cache / (likelihood_cache.sum() + self.eps)\n",
    "\n",
    "        return probabilities\n",
    "    \n",
    "    def get(self, i: int, **kwargs) -> dist.DistributionDraw:\n",
    "        return dist.DistributionDraw.from_grayscale_weights(self.dataset[i][0])"
   ]
  },
  {
   "cell_type": "code",
   "execution_count": 10,
   "metadata": {},
   "outputs": [],
   "source": [
    "import quick_torch as qt\n",
    "\n",
    "def get_ds(file_path, transform):\n",
    "    categories = [qt.Category.FACE]\n",
    "    dataset_ = qt.QuickDraw(\n",
    "        root=\"dataset\",\n",
    "        categories=categories,\n",
    "        transform=transform,\n",
    "        download=True,\n",
    "        recognized=True,\n",
    "    )\n",
    "    print(len(dataset_))\n",
    "    path_dataset = Path(file_path)\n",
    "    dataset_.data = np.load(path_dataset).reshape(-1, 28, 28)\n",
    "    dataset_.targets = np.ones(len(dataset_.data), dtype=int)\n",
    "    dataset = dataset_.get_train_data()\n",
    "    len(dataset)\n",
    "\n",
    "    return DatasetWrapper(dataset)\n",
    "\n",
    "transform_ds = T.Compose([\n",
    "    T.Resize((32, 32)),\n",
    "    T.ToTensor(),\n",
    "    T.Lambda(lambda x: x.squeeze()),\n",
    "])"
   ]
  },
  {
   "cell_type": "markdown",
   "metadata": {},
   "source": [
    "## CTES"
   ]
  },
  {
   "cell_type": "code",
   "execution_count": 11,
   "metadata": {},
   "outputs": [],
   "source": [
    "REPORT_EVERY = 100\n",
    "MAX_ITER = 20_000\n",
    "MAX_IMGS = 22 * 4\n",
    "# MAX_ITER = MAX_IMGS"
   ]
  },
  {
   "cell_type": "markdown",
   "metadata": {},
   "source": [
    "## Definir $\\gamma_k$"
   ]
  },
  {
   "cell_type": "markdown",
   "metadata": {},
   "source": [
    "Aquí se utiliza una función de la forma\n",
    "\\begin{equation*}\n",
    "    \\gamma_k = \\frac{a}{(b^{1/c} + k)^c}\n",
    "\\end{equation*}\n",
    "\n",
    "Con $a > 0$, $b \\geq 0$ y $0.5 < c \\leq 1$\n",
    "\n",
    "La idea es que cuando $k=0$, $\\gamma_0 = \\frac{a}{b}$ es la proporción entre $a$ y $b$, permitiendo ajustar el valor inicial."
   ]
  },
  {
   "cell_type": "code",
   "execution_count": 12,
   "metadata": {},
   "outputs": [
    {
     "name": "stdout",
     "output_type": "stream",
     "text": [
      "t = 0; gamma(t) = 99.75%\n",
      "t = 1; gamma(t) = 96.79%\n",
      "t = 2; gamma(t) = 94.07%\n",
      "\n",
      "t = 300; gamma(t) = 22.50%\n",
      "t = 301; gamma(t) = 22.46%\n",
      "t = 302; gamma(t) = 22.43%\n",
      "\n",
      "t = 500; gamma(t) = 17.61%\n",
      "t = 501; gamma(t) = 17.59%\n",
      "t = 502; gamma(t) = 17.57%\n",
      "\n",
      "t = 1_000; gamma(t) = 12.55%\n",
      "t = 1_001; gamma(t) = 12.54%\n",
      "t = 1_002; gamma(t) = 12.54%\n",
      "\n",
      "t = 3_000; gamma(t) = 7.28%\n",
      "t = 3_001; gamma(t) = 7.28%\n",
      "t = 3_002; gamma(t) = 7.28%\n",
      "\n",
      "t = 10_000; gamma(t) = 4.00%\n",
      "t = 10_001; gamma(t) = 4.00%\n",
      "t = 10_002; gamma(t) = 4.00%\n",
      "\n",
      "t = 20_000; gamma(t) = 2.83%\n",
      "t = 20_001; gamma(t) = 2.83%\n",
      "t = 20_002; gamma(t) = 2.83%\n",
      "\n",
      "t = 50_000; gamma(t) = 1.79%\n",
      "t = 50_001; gamma(t) = 1.79%\n",
      "t = 50_002; gamma(t) = 1.79%\n",
      "\n",
      "t = 100_000; gamma(t) = 1.26%\n",
      "t = 100_001; gamma(t) = 1.26%\n",
      "t = 100_002; gamma(t) = 1.26%\n"
     ]
    }
   ],
   "source": [
    "from bwb.sgdw import Gamma\n",
    "window = 3\n",
    "\n",
    "def test_gamma(gamma):\n",
    "\n",
    "    for t in range(window):\n",
    "        print(f\"{t = :_}; {gamma(t) = :.2%}\")\n",
    "    print()\n",
    "\n",
    "    init = 300\n",
    "    for t in range(init, init+window):\n",
    "        print(f\"{t = :_}; {gamma(t) = :.2%}\")\n",
    "    print()\n",
    "\n",
    "    init = 500\n",
    "    for t in range(init, init+window):\n",
    "        print(f\"{t = :_}; {gamma(t) = :.2%}\")\n",
    "    print()\n",
    "\n",
    "    init = 1_000\n",
    "    for t in range(init, init+window):\n",
    "        print(f\"{t = :_}; {gamma(t) = :.2%}\")\n",
    "    print()\n",
    "\n",
    "    init = 3_000\n",
    "    for t in range(init, init+window):\n",
    "        print(f\"{t = :_}; {gamma(t) = :.2%}\")\n",
    "    print()\n",
    "\n",
    "    init = 10_000\n",
    "    for t in range(init, init+window):\n",
    "        print(f\"{t = :_}; {gamma(t) = :.2%}\")\n",
    "    print()\n",
    "\n",
    "    init = 20_000\n",
    "    for t in range(init, init+window):\n",
    "        print(f\"{t = :_}; {gamma(t) = :.2%}\")\n",
    "    print()\n",
    "\n",
    "    init = 50_000\n",
    "    for t in range(init, init+window):\n",
    "        print(f\"{t = :_}; {gamma(t) = :.2%}\")\n",
    "    print()\n",
    "\n",
    "    init = 100_000\n",
    "    for t in range(init, init+window):\n",
    "        print(f\"{t = :_}; {gamma(t) = :.2%}\")\n",
    "\n",
    "\n",
    "_a = 4\n",
    "params = dict(a=_a, b=_a+1e-2, c=0.5+1e-5)\n",
    "# params = dict(a=1, b=1, c=1)\n",
    "\n",
    "gamma = Gamma(**params)\n",
    "\n",
    "test_gamma(Gamma(**params))"
   ]
  },
  {
   "cell_type": "markdown",
   "metadata": {},
   "source": [
    "# Variedad de caritas 1: Caras normales"
   ]
  },
  {
   "cell_type": "markdown",
   "metadata": {},
   "source": [
    "## Baricentro de la red"
   ]
  },
  {
   "cell_type": "markdown",
   "metadata": {},
   "source": [
    "### Versión sin proyectar"
   ]
  },
  {
   "cell_type": "code",
   "execution_count": 13,
   "metadata": {},
   "outputs": [
    {
     "data": {
      "image/png": "[encoded data removed]",
      "text/plain": [
       "DistributionDraw(shape: torch.Size([32, 32]))"
      ]
     },
     "execution_count": 13,
     "metadata": {},
     "output_type": "execute_result"
    }
   ],
   "source": [
    "DS_NAME = \"data\"\n",
    "\n",
    "G = Generator(LATENT_DIM, CHANNELS_IMG, latent_distr=NOISE).to(device)\n",
    "E = Encoder(LATENT_DIM, CHANNELS_IMG).to(device)\n",
    "\n",
    "FACE_PATH = NETS_PATH / f\"cleaned_{DS_NAME}_zDim{LATENT_DIM}_{NOISE}_bs_128\"\n",
    "\n",
    "load_checkpoint(G, FACE_PATH, \"generator\", device)\n",
    "load_checkpoint(E, FACE_PATH, \"encoder\", device)\n",
    "\n",
    "G.eval(); E.eval()\n",
    "\n",
    "pi_n: GeneratorDistribSampler[DistributionDraw] = GeneratorDistribSampler()\n",
    "pi_n.fit(generator=G, noise_sampler=noise_sampler, transform_out=transform_out)\n",
    "pi_n.draw()"
   ]
  },
  {
   "cell_type": "code",
   "execution_count": 14,
   "metadata": {},
   "outputs": [
    {
     "data": {
      "text/plain": [
       "(DetentionParameters(tol=0.00e+00, max_iter=20_000, max_time=∞),\n",
       " History(pos_wgt=False, distr=False, distr_samp=False, len=0))"
      ]
     },
     "execution_count": 14,
     "metadata": {},
     "output_type": "execute_result"
    }
   ],
   "source": [
    "dist_draw_sgdw = sgdw.DebiesedDistributionDrawSGDW(\n",
    "    distr_sampler=pi_n,\n",
    "    learning_rate=Gamma(**params),\n",
    "    max_iter=MAX_ITER,\n",
    "    report_every=REPORT_EVERY,\n",
    ").set_geodesic_params(\n",
    "    reg=1e-2,\n",
    "    stopThr=1e-3,\n",
    ")\n",
    "dist_draw_sgdw.det_params, dist_draw_sgdw.hist"
   ]
  },
  {
   "cell_type": "code",
   "execution_count": 15,
   "metadata": {},
   "outputs": [],
   "source": [
    "_log.info(f\"Running SGD-Wasserstein with {DS_NAME} GAN bar. without proj.\")\n",
    "bar, hist = dist_draw_sgdw.run(\n",
    "    distr_hist=True,\n",
    "    distr_samp_hist=True,\n",
    "    include_time=True,\n",
    ")"
   ]
  },
  {
   "cell_type": "code",
   "execution_count": null,
   "metadata": {},
   "outputs": [],
   "source": [
    "bar"
   ]
  },
  {
   "cell_type": "code",
   "execution_count": null,
   "metadata": {},
   "outputs": [],
   "source": [
    "utils.plot_list_of_draws(hist.distr, max_images=MAX_IMGS)\n",
    "utils.plot_list_of_draws([x[0] for x in hist.distr_samp], max_images=MAX_IMGS)"
   ]
  },
  {
   "cell_type": "code",
   "execution_count": null,
   "metadata": {},
   "outputs": [],
   "source": [
    "utils.plot_list_of_draws(hist.distr[-MAX_IMGS:], max_images=MAX_IMGS)\n",
    "utils.plot_list_of_draws([x[0] for x in hist.distr_samp[-MAX_IMGS:]], max_images=MAX_IMGS)"
   ]
  },
  {
   "cell_type": "markdown",
   "metadata": {},
   "source": [
    "### Versión proyectada"
   ]
  },
  {
   "cell_type": "code",
   "execution_count": null,
   "metadata": {},
   "outputs": [],
   "source": [
    "proj = ProjectorOnManifold(\n",
    "    E, G, \n",
    "    transform_in=transform_in_proj,\n",
    "    transform_out=transform_out_proj,\n",
    ")"
   ]
  },
  {
   "cell_type": "code",
   "execution_count": null,
   "metadata": {},
   "outputs": [],
   "source": [
    "face = pi_n.draw()\n",
    "face"
   ]
  },
  {
   "cell_type": "code",
   "execution_count": null,
   "metadata": {},
   "outputs": [],
   "source": [
    "DistributionDraw.from_grayscale_weights(proj(face.grayscale_weights))"
   ]
  },
  {
   "cell_type": "code",
   "execution_count": null,
   "metadata": {},
   "outputs": [],
   "source": [
    "dist_draw_sgdw = sgdw.DebiesedDistributionDrawSGDW(\n",
    "    distr_sampler=pi_n,\n",
    "    projector=proj,\n",
    "    learning_rate=Gamma(**params),\n",
    "    max_iter=MAX_ITER,\n",
    "    report_every=REPORT_EVERY,\n",
    ").set_geodesic_params(\n",
    "    reg=1e-2,\n",
    "    stopThr=1e-3,\n",
    ")\n",
    "dist_draw_sgdw.det_params, dist_draw_sgdw.hist"
   ]
  },
  {
   "cell_type": "code",
   "execution_count": null,
   "metadata": {},
   "outputs": [],
   "source": [
    "_log.info(f\"Running SGD-Wasserstein with {DS_NAME} GAN bar. with proj.\")\n",
    "bar, hist = dist_draw_sgdw.run(\n",
    "    distr_hist=True,\n",
    "    distr_samp_hist=True,\n",
    "    include_time=True,\n",
    ")"
   ]
  },
  {
   "cell_type": "code",
   "execution_count": null,
   "metadata": {},
   "outputs": [],
   "source": [
    "bar"
   ]
  },
  {
   "cell_type": "code",
   "execution_count": null,
   "metadata": {},
   "outputs": [],
   "source": [
    "utils.plot_list_of_draws(hist.distr, max_images=MAX_IMGS)\n",
    "utils.plot_list_of_draws([x[0] for x in hist.distr_samp], max_images=MAX_IMGS)"
   ]
  },
  {
   "cell_type": "markdown",
   "metadata": {},
   "source": [
    "## Baricentro de las imágenes"
   ]
  },
  {
   "cell_type": "markdown",
   "metadata": {},
   "source": [
    "### Versión sin proyectar"
   ]
  },
  {
   "cell_type": "code",
   "execution_count": null,
   "metadata": {},
   "outputs": [],
   "source": [
    "DS_PATH = Path(\"./wgan_gp/dataset\") / \"cleaned\" / f\"{DS_NAME}.npy\"\n",
    "models = get_ds(DS_PATH, transform_ds)\n",
    "models.get(1)"
   ]
  },
  {
   "cell_type": "code",
   "execution_count": null,
   "metadata": {},
   "outputs": [],
   "source": [
    "pi_n: UniformDiscreteSampler[DistributionDraw] = UniformDiscreteSampler().fit(models=models)\n",
    "pi_n.draw()"
   ]
  },
  {
   "cell_type": "code",
   "execution_count": null,
   "metadata": {},
   "outputs": [],
   "source": [
    "dist_draw_sgdw = sgdw.DebiesedDistributionDrawSGDW(\n",
    "    distr_sampler=pi_n,\n",
    "    learning_rate=Gamma(**params),\n",
    "    max_iter=MAX_ITER,\n",
    "    report_every=REPORT_EVERY,\n",
    ").set_geodesic_params(\n",
    "    reg=1e-2,\n",
    "    stopThr=1e-3,\n",
    ")\n",
    "dist_draw_sgdw.det_params, dist_draw_sgdw.hist"
   ]
  },
  {
   "cell_type": "code",
   "execution_count": null,
   "metadata": {},
   "outputs": [],
   "source": [
    "_log.info(f\"Running SGD-Wasserstein with {DS_NAME} DS bar. without proj.\")\n",
    "bar, hist = dist_draw_sgdw.run(\n",
    "    distr_hist=True,\n",
    "    distr_samp_hist=True,\n",
    "    include_time=True,\n",
    ")"
   ]
  },
  {
   "cell_type": "code",
   "execution_count": null,
   "metadata": {},
   "outputs": [],
   "source": [
    "bar"
   ]
  },
  {
   "cell_type": "code",
   "execution_count": null,
   "metadata": {},
   "outputs": [],
   "source": [
    "utils.plot_list_of_draws(hist.distr, max_images=MAX_IMGS)\n",
    "utils.plot_list_of_draws([x[0] for x in hist.distr_samp], max_images=MAX_IMGS)"
   ]
  },
  {
   "cell_type": "code",
   "execution_count": null,
   "metadata": {},
   "outputs": [],
   "source": [
    "utils.plot_list_of_draws(hist.distr[-MAX_IMGS:], max_images=MAX_IMGS)\n",
    "utils.plot_list_of_draws([x[0] for x in hist.distr_samp[-MAX_IMGS:]], max_images=MAX_IMGS)"
   ]
  },
  {
   "cell_type": "markdown",
   "metadata": {},
   "source": [
    "### Versión Proyectada"
   ]
  },
  {
   "cell_type": "code",
   "execution_count": null,
   "metadata": {},
   "outputs": [],
   "source": [
    "proj = ProjectorOnManifold(\n",
    "    E, G, \n",
    "    transform_in=transform_in_proj,\n",
    "    transform_out=transform_out_proj,\n",
    ")"
   ]
  },
  {
   "cell_type": "code",
   "execution_count": null,
   "metadata": {},
   "outputs": [],
   "source": [
    "face = pi_n.draw()\n",
    "face"
   ]
  },
  {
   "cell_type": "code",
   "execution_count": null,
   "metadata": {},
   "outputs": [],
   "source": [
    "DistributionDraw.from_grayscale_weights(proj(face.grayscale_weights))"
   ]
  },
  {
   "cell_type": "code",
   "execution_count": null,
   "metadata": {},
   "outputs": [],
   "source": [
    "dist_draw_sgdw = sgdw.DebiesedDistributionDrawSGDW(\n",
    "    distr_sampler=pi_n,\n",
    "    projector=proj,\n",
    "    learning_rate=Gamma(**params),\n",
    "    max_iter=MAX_ITER,\n",
    "    report_every=REPORT_EVERY,\n",
    ").set_geodesic_params(\n",
    "    reg=1e-2,\n",
    "    stopThr=1e-3,\n",
    ")\n",
    "dist_draw_sgdw.det_params, dist_draw_sgdw.hist"
   ]
  },
  {
   "cell_type": "code",
   "execution_count": null,
   "metadata": {},
   "outputs": [],
   "source": [
    "_log.info(f\"Running SGD-Wasserstein with {DS_NAME} DS bar. with proj.\")\n",
    "bar, hist = dist_draw_sgdw.run(\n",
    "    distr_hist=True,\n",
    "    distr_samp_hist=True,\n",
    "    include_time=True,\n",
    ")"
   ]
  },
  {
   "cell_type": "code",
   "execution_count": null,
   "metadata": {},
   "outputs": [],
   "source": [
    "bar"
   ]
  },
  {
   "cell_type": "code",
   "execution_count": null,
   "metadata": {},
   "outputs": [],
   "source": [
    "utils.plot_list_of_draws(hist.distr, max_images=MAX_IMGS)\n",
    "utils.plot_list_of_draws([x[0] for x in hist.distr_samp], max_images=MAX_IMGS)"
   ]
  },
  {
   "cell_type": "markdown",
   "metadata": {},
   "source": [
    "---\n",
    "\n",
    "Hasta aquí termina!"
   ]
  },
  {
   "cell_type": "markdown",
   "metadata": {},
   "source": [
    "# Variedad de caritas 2: Caras sin contorno"
   ]
  },
  {
   "cell_type": "markdown",
   "metadata": {},
   "source": [
    "## Baricentro de la red"
   ]
  },
  {
   "cell_type": "markdown",
   "metadata": {},
   "source": [
    "### Versión sin proyectar"
   ]
  },
  {
   "cell_type": "code",
   "execution_count": null,
   "metadata": {},
   "outputs": [],
   "source": [
    "DS_NAME = \"data_sin_contorno\"\n",
    "\n",
    "G = Generator(LATENT_DIM, CHANNELS_IMG, latent_distr=NOISE).to(device)\n",
    "E = Encoder(LATENT_DIM, CHANNELS_IMG).to(device)\n",
    "\n",
    "FACE_PATH = NETS_PATH / f\"cleaned_{DS_NAME}_zDim{LATENT_DIM}_{NOISE}_bs_128\"\n",
    "\n",
    "load_checkpoint(G, FACE_PATH, \"generator\", device)\n",
    "load_checkpoint(E, FACE_PATH, \"encoder\", device)\n",
    "\n",
    "G.eval(); E.eval()\n",
    "\n",
    "pi_n: GeneratorDistribSampler[DistributionDraw] = GeneratorDistribSampler()\n",
    "pi_n.fit(generator=G, noise_sampler=noise_sampler, transform_out=transform_out)\n",
    "pi_n.draw()"
   ]
  },
  {
   "cell_type": "code",
   "execution_count": null,
   "metadata": {},
   "outputs": [],
   "source": [
    "dist_draw_sgdw = sgdw.DebiesedDistributionDrawSGDW(\n",
    "    distr_sampler=pi_n,\n",
    "    learning_rate=Gamma(**params),\n",
    "    max_iter=MAX_ITER,\n",
    "    report_every=REPORT_EVERY,\n",
    ").set_geodesic_params(\n",
    "    reg=1e-2,\n",
    "    stopThr=1e-3,\n",
    ")\n",
    "dist_draw_sgdw.det_params, dist_draw_sgdw.hist"
   ]
  },
  {
   "cell_type": "code",
   "execution_count": null,
   "metadata": {},
   "outputs": [],
   "source": [
    "_log.info(f\"Running SGD-Wasserstein with {DS_NAME} GAN bar. without proj.\")\n",
    "bar, hist = dist_draw_sgdw.run(\n",
    "    distr_hist=True,\n",
    "    distr_samp_hist=True,\n",
    "    include_time=True,\n",
    ")"
   ]
  },
  {
   "cell_type": "code",
   "execution_count": null,
   "metadata": {},
   "outputs": [],
   "source": [
    "bar"
   ]
  },
  {
   "cell_type": "code",
   "execution_count": null,
   "metadata": {},
   "outputs": [],
   "source": [
    "utils.plot_list_of_draws(hist.distr, max_images=MAX_IMGS)\n",
    "utils.plot_list_of_draws([x[0] for x in hist.distr_samp], max_images=MAX_IMGS)"
   ]
  },
  {
   "cell_type": "code",
   "execution_count": null,
   "metadata": {},
   "outputs": [],
   "source": [
    "utils.plot_list_of_draws(hist.distr[-MAX_IMGS:], max_images=MAX_IMGS)\n",
    "utils.plot_list_of_draws([x[0] for x in hist.distr_samp[-MAX_IMGS:]], max_images=MAX_IMGS)"
   ]
  },
  {
   "cell_type": "markdown",
   "metadata": {},
   "source": [
    "### Versión proyectada"
   ]
  },
  {
   "cell_type": "code",
   "execution_count": null,
   "metadata": {},
   "outputs": [],
   "source": [
    "proj = ProjectorOnManifold(\n",
    "    E, G, \n",
    "    transform_in=transform_in_proj,\n",
    "    transform_out=transform_out_proj,\n",
    ")"
   ]
  },
  {
   "cell_type": "code",
   "execution_count": null,
   "metadata": {},
   "outputs": [],
   "source": [
    "face = pi_n.draw()\n",
    "face"
   ]
  },
  {
   "cell_type": "code",
   "execution_count": null,
   "metadata": {},
   "outputs": [],
   "source": [
    "DistributionDraw.from_grayscale_weights(proj(face.grayscale_weights))"
   ]
  },
  {
   "cell_type": "code",
   "execution_count": null,
   "metadata": {},
   "outputs": [],
   "source": [
    "dist_draw_sgdw = sgdw.DebiesedDistributionDrawSGDW(\n",
    "    distr_sampler=pi_n,\n",
    "    projector=proj,\n",
    "    learning_rate=Gamma(**params),\n",
    "    max_iter=MAX_ITER,\n",
    "    report_every=REPORT_EVERY,\n",
    ").set_geodesic_params(\n",
    "    reg=1e-2,\n",
    "    stopThr=1e-3,\n",
    ")\n",
    "dist_draw_sgdw.det_params, dist_draw_sgdw.hist"
   ]
  },
  {
   "cell_type": "code",
   "execution_count": null,
   "metadata": {},
   "outputs": [],
   "source": [
    "_log.info(f\"Running SGD-Wasserstein with {DS_NAME} GAN bar. with proj.\")\n",
    "bar, hist = dist_draw_sgdw.run(\n",
    "    distr_hist=True,\n",
    "    distr_samp_hist=True,\n",
    "    include_time=True,\n",
    ")"
   ]
  },
  {
   "cell_type": "code",
   "execution_count": null,
   "metadata": {},
   "outputs": [],
   "source": [
    "bar"
   ]
  },
  {
   "cell_type": "code",
   "execution_count": null,
   "metadata": {},
   "outputs": [],
   "source": [
    "utils.plot_list_of_draws(hist.distr, max_images=MAX_IMGS)\n",
    "utils.plot_list_of_draws([x[0] for x in hist.distr_samp], max_images=MAX_IMGS)"
   ]
  },
  {
   "cell_type": "markdown",
   "metadata": {},
   "source": [
    "## Baricentro de las imágenes"
   ]
  },
  {
   "cell_type": "markdown",
   "metadata": {},
   "source": [
    "### Versión sin proyectar"
   ]
  },
  {
   "cell_type": "code",
   "execution_count": null,
   "metadata": {},
   "outputs": [],
   "source": [
    "DS_PATH = Path(\"./wgan_gp/dataset\") / \"cleaned\" / f\"{DS_NAME}.npy\"\n",
    "models = get_ds(DS_PATH, transform_ds)\n",
    "models.get(1)"
   ]
  },
  {
   "cell_type": "code",
   "execution_count": null,
   "metadata": {},
   "outputs": [],
   "source": [
    "pi_n: UniformDiscreteSampler[DistributionDraw] = UniformDiscreteSampler().fit(models=models)\n",
    "pi_n.draw()"
   ]
  },
  {
   "cell_type": "code",
   "execution_count": null,
   "metadata": {},
   "outputs": [],
   "source": [
    "dist_draw_sgdw = sgdw.DebiesedDistributionDrawSGDW(\n",
    "    distr_sampler=pi_n,\n",
    "    learning_rate=Gamma(**params),\n",
    "    max_iter=MAX_ITER,\n",
    "    report_every=REPORT_EVERY,\n",
    ").set_geodesic_params(\n",
    "    reg=1e-2,\n",
    "    stopThr=1e-3,\n",
    ")\n",
    "dist_draw_sgdw.det_params, dist_draw_sgdw.hist"
   ]
  },
  {
   "cell_type": "code",
   "execution_count": null,
   "metadata": {},
   "outputs": [],
   "source": [
    "_log.info(f\"Running SGD-Wasserstein with {DS_NAME} DS bar. without proj.\")\n",
    "bar, hist = dist_draw_sgdw.run(\n",
    "    distr_hist=True,\n",
    "    distr_samp_hist=True,\n",
    "    include_time=True,\n",
    ")"
   ]
  },
  {
   "cell_type": "code",
   "execution_count": null,
   "metadata": {},
   "outputs": [],
   "source": [
    "bar"
   ]
  },
  {
   "cell_type": "code",
   "execution_count": null,
   "metadata": {},
   "outputs": [],
   "source": [
    "utils.plot_list_of_draws(hist.distr, max_images=MAX_IMGS)\n",
    "utils.plot_list_of_draws([x[0] for x in hist.distr_samp], max_images=MAX_IMGS)"
   ]
  },
  {
   "cell_type": "code",
   "execution_count": null,
   "metadata": {},
   "outputs": [],
   "source": [
    "utils.plot_list_of_draws(hist.distr[-MAX_IMGS:], max_images=MAX_IMGS)\n",
    "utils.plot_list_of_draws([x[0] for x in hist.distr_samp[-MAX_IMGS:]], max_images=MAX_IMGS)"
   ]
  },
  {
   "cell_type": "markdown",
   "metadata": {},
   "source": [
    "### Versión Proyectada"
   ]
  },
  {
   "cell_type": "code",
   "execution_count": null,
   "metadata": {},
   "outputs": [],
   "source": [
    "proj = ProjectorOnManifold(\n",
    "    E, G, \n",
    "    transform_in=transform_in_proj,\n",
    "    transform_out=transform_out_proj,\n",
    ")"
   ]
  },
  {
   "cell_type": "code",
   "execution_count": null,
   "metadata": {},
   "outputs": [],
   "source": [
    "face = pi_n.draw()\n",
    "face"
   ]
  },
  {
   "cell_type": "code",
   "execution_count": null,
   "metadata": {},
   "outputs": [],
   "source": [
    "DistributionDraw.from_grayscale_weights(proj(face.grayscale_weights))"
   ]
  },
  {
   "cell_type": "code",
   "execution_count": null,
   "metadata": {},
   "outputs": [],
   "source": [
    "dist_draw_sgdw = sgdw.DebiesedDistributionDrawSGDW(\n",
    "    distr_sampler=pi_n,\n",
    "    projector=proj,\n",
    "    learning_rate=Gamma(**params),\n",
    "    max_iter=MAX_ITER,\n",
    "    report_every=REPORT_EVERY,\n",
    ").set_geodesic_params(\n",
    "    reg=1e-2,\n",
    "    stopThr=1e-3,\n",
    ")\n",
    "dist_draw_sgdw.det_params, dist_draw_sgdw.hist"
   ]
  },
  {
   "cell_type": "code",
   "execution_count": null,
   "metadata": {},
   "outputs": [],
   "source": [
    "_log.info(f\"Running SGD-Wasserstein with {DS_NAME} DS bar. with proj.\")\n",
    "bar, hist = dist_draw_sgdw.run(\n",
    "    distr_hist=True,\n",
    "    distr_samp_hist=True,\n",
    "    include_time=True,\n",
    ")"
   ]
  },
  {
   "cell_type": "code",
   "execution_count": null,
   "metadata": {},
   "outputs": [],
   "source": [
    "bar"
   ]
  },
  {
   "cell_type": "code",
   "execution_count": null,
   "metadata": {},
   "outputs": [],
   "source": [
    "utils.plot_list_of_draws(hist.distr, max_images=MAX_IMGS)\n",
    "utils.plot_list_of_draws([x[0] for x in hist.distr_samp], max_images=MAX_IMGS)"
   ]
  },
  {
   "cell_type": "markdown",
   "metadata": {},
   "source": [
    "---\n",
    "\n",
    "Hasta aquí termina!"
   ]
  },
  {
   "cell_type": "markdown",
   "metadata": {},
   "source": [
    "# Variedad de caritas 3: Caras sin contorno arriba"
   ]
  },
  {
   "cell_type": "markdown",
   "metadata": {},
   "source": [
    "## Baricentro de la red"
   ]
  },
  {
   "cell_type": "markdown",
   "metadata": {},
   "source": [
    "### Versión sin proyectar"
   ]
  },
  {
   "cell_type": "code",
   "execution_count": null,
   "metadata": {},
   "outputs": [],
   "source": [
    "DS_NAME = \"data_sin_contorno_arriba\"\n",
    "\n",
    "G = Generator(LATENT_DIM, CHANNELS_IMG, latent_distr=NOISE).to(device)\n",
    "E = Encoder(LATENT_DIM, CHANNELS_IMG).to(device)\n",
    "\n",
    "FACE_PATH = NETS_PATH / f\"cleaned_{DS_NAME}_zDim{LATENT_DIM}_{NOISE}_bs_128\"\n",
    "\n",
    "load_checkpoint(G, FACE_PATH, \"generator\", device)\n",
    "load_checkpoint(E, FACE_PATH, \"encoder\", device)\n",
    "\n",
    "G.eval(); E.eval()\n",
    "\n",
    "pi_n: GeneratorDistribSampler[DistributionDraw] = GeneratorDistribSampler()\n",
    "pi_n.fit(generator=G, noise_sampler=noise_sampler, transform_out=transform_out)\n",
    "pi_n.draw()"
   ]
  },
  {
   "cell_type": "code",
   "execution_count": null,
   "metadata": {},
   "outputs": [],
   "source": [
    "dist_draw_sgdw = sgdw.DebiesedDistributionDrawSGDW(\n",
    "    distr_sampler=pi_n,\n",
    "    learning_rate=Gamma(**params),\n",
    "    max_iter=MAX_ITER,\n",
    "    report_every=REPORT_EVERY,\n",
    ").set_geodesic_params(\n",
    "    reg=1e-2,\n",
    "    stopThr=1e-3,\n",
    ")\n",
    "dist_draw_sgdw.det_params, dist_draw_sgdw.hist"
   ]
  },
  {
   "cell_type": "code",
   "execution_count": null,
   "metadata": {},
   "outputs": [],
   "source": [
    "_log.info(f\"Running SGD-Wasserstein with {DS_NAME} GAN bar. without proj.\")\n",
    "bar, hist = dist_draw_sgdw.run(\n",
    "    distr_hist=True,\n",
    "    distr_samp_hist=True,\n",
    "    include_time=True,\n",
    ")"
   ]
  },
  {
   "cell_type": "code",
   "execution_count": null,
   "metadata": {},
   "outputs": [],
   "source": [
    "bar"
   ]
  },
  {
   "cell_type": "code",
   "execution_count": null,
   "metadata": {},
   "outputs": [],
   "source": [
    "utils.plot_list_of_draws(hist.distr, max_images=MAX_IMGS)\n",
    "utils.plot_list_of_draws([x[0] for x in hist.distr_samp], max_images=MAX_IMGS)"
   ]
  },
  {
   "cell_type": "code",
   "execution_count": null,
   "metadata": {},
   "outputs": [],
   "source": [
    "utils.plot_list_of_draws(hist.distr[-MAX_IMGS:], max_images=MAX_IMGS)\n",
    "utils.plot_list_of_draws([x[0] for x in hist.distr_samp[-MAX_IMGS:]], max_images=MAX_IMGS)"
   ]
  },
  {
   "cell_type": "markdown",
   "metadata": {},
   "source": [
    "### Versión proyectada"
   ]
  },
  {
   "cell_type": "code",
   "execution_count": null,
   "metadata": {},
   "outputs": [],
   "source": [
    "proj = ProjectorOnManifold(\n",
    "    E, G, \n",
    "    transform_in=transform_in_proj,\n",
    "    transform_out=transform_out_proj,\n",
    ")"
   ]
  },
  {
   "cell_type": "code",
   "execution_count": null,
   "metadata": {},
   "outputs": [],
   "source": [
    "face = pi_n.draw()\n",
    "face"
   ]
  },
  {
   "cell_type": "code",
   "execution_count": null,
   "metadata": {},
   "outputs": [],
   "source": [
    "DistributionDraw.from_grayscale_weights(proj(face.grayscale_weights))"
   ]
  },
  {
   "cell_type": "code",
   "execution_count": null,
   "metadata": {},
   "outputs": [],
   "source": [
    "dist_draw_sgdw = sgdw.DebiesedDistributionDrawSGDW(\n",
    "    distr_sampler=pi_n,\n",
    "    projector=proj,\n",
    "    learning_rate=Gamma(**params),\n",
    "    max_iter=MAX_ITER,\n",
    "    report_every=REPORT_EVERY,\n",
    ").set_geodesic_params(\n",
    "    reg=1e-2,\n",
    "    stopThr=1e-3,\n",
    ")\n",
    "dist_draw_sgdw.det_params, dist_draw_sgdw.hist"
   ]
  },
  {
   "cell_type": "code",
   "execution_count": null,
   "metadata": {},
   "outputs": [],
   "source": [
    "_log.info(f\"Running SGD-Wasserstein with {DS_NAME} GAN bar. with proj.\")\n",
    "bar, hist = dist_draw_sgdw.run(\n",
    "    distr_hist=True,\n",
    "    distr_samp_hist=True,\n",
    "    include_time=True,\n",
    ")"
   ]
  },
  {
   "cell_type": "code",
   "execution_count": null,
   "metadata": {},
   "outputs": [],
   "source": [
    "bar"
   ]
  },
  {
   "cell_type": "code",
   "execution_count": null,
   "metadata": {},
   "outputs": [],
   "source": [
    "utils.plot_list_of_draws(hist.distr, max_images=MAX_IMGS)\n",
    "utils.plot_list_of_draws([x[0] for x in hist.distr_samp], max_images=MAX_IMGS)"
   ]
  },
  {
   "cell_type": "markdown",
   "metadata": {},
   "source": [
    "## Baricentro de las imágenes"
   ]
  },
  {
   "cell_type": "markdown",
   "metadata": {},
   "source": [
    "### Versión sin proyectar"
   ]
  },
  {
   "cell_type": "code",
   "execution_count": null,
   "metadata": {},
   "outputs": [],
   "source": [
    "DS_PATH = Path(\"./wgan_gp/dataset\") / \"cleaned\" / f\"{DS_NAME}.npy\"\n",
    "models = get_ds(DS_PATH, transform_ds)\n",
    "models.get(1)"
   ]
  },
  {
   "cell_type": "code",
   "execution_count": null,
   "metadata": {},
   "outputs": [],
   "source": [
    "pi_n: UniformDiscreteSampler[DistributionDraw] = UniformDiscreteSampler().fit(models=models)\n",
    "pi_n.draw()"
   ]
  },
  {
   "cell_type": "code",
   "execution_count": null,
   "metadata": {},
   "outputs": [],
   "source": [
    "dist_draw_sgdw = sgdw.DebiesedDistributionDrawSGDW(\n",
    "    distr_sampler=pi_n,\n",
    "    learning_rate=Gamma(**params),\n",
    "    max_iter=MAX_ITER,\n",
    "    report_every=REPORT_EVERY,\n",
    ").set_geodesic_params(\n",
    "    reg=1e-2,\n",
    "    stopThr=1e-3,\n",
    ")\n",
    "dist_draw_sgdw.det_params, dist_draw_sgdw.hist"
   ]
  },
  {
   "cell_type": "code",
   "execution_count": null,
   "metadata": {},
   "outputs": [],
   "source": [
    "_log.info(f\"Running SGD-Wasserstein with {DS_NAME} DS bar. without proj.\")\n",
    "bar, hist = dist_draw_sgdw.run(\n",
    "    distr_hist=True,\n",
    "    distr_samp_hist=True,\n",
    "    include_time=True,\n",
    ")"
   ]
  },
  {
   "cell_type": "code",
   "execution_count": null,
   "metadata": {},
   "outputs": [],
   "source": [
    "bar"
   ]
  },
  {
   "cell_type": "code",
   "execution_count": null,
   "metadata": {},
   "outputs": [],
   "source": [
    "utils.plot_list_of_draws(hist.distr, max_images=MAX_IMGS)\n",
    "utils.plot_list_of_draws([x[0] for x in hist.distr_samp], max_images=MAX_IMGS)"
   ]
  },
  {
   "cell_type": "code",
   "execution_count": null,
   "metadata": {},
   "outputs": [],
   "source": [
    "utils.plot_list_of_draws(hist.distr[-MAX_IMGS:], max_images=MAX_IMGS)\n",
    "utils.plot_list_of_draws([x[0] for x in hist.distr_samp[-MAX_IMGS:]], max_images=MAX_IMGS)"
   ]
  },
  {
   "cell_type": "markdown",
   "metadata": {},
   "source": [
    "### Versión Proyectada"
   ]
  },
  {
   "cell_type": "code",
   "execution_count": null,
   "metadata": {},
   "outputs": [],
   "source": [
    "proj = ProjectorOnManifold(\n",
    "    E, G, \n",
    "    transform_in=transform_in_proj,\n",
    "    transform_out=transform_out_proj,\n",
    ")"
   ]
  },
  {
   "cell_type": "code",
   "execution_count": null,
   "metadata": {},
   "outputs": [],
   "source": [
    "face = pi_n.draw()\n",
    "face"
   ]
  },
  {
   "cell_type": "code",
   "execution_count": null,
   "metadata": {},
   "outputs": [],
   "source": [
    "DistributionDraw.from_grayscale_weights(proj(face.grayscale_weights))"
   ]
  },
  {
   "cell_type": "code",
   "execution_count": null,
   "metadata": {},
   "outputs": [],
   "source": [
    "dist_draw_sgdw = sgdw.DebiesedDistributionDrawSGDW(\n",
    "    distr_sampler=pi_n,\n",
    "    projector=proj,\n",
    "    learning_rate=Gamma(**params),\n",
    "    max_iter=MAX_ITER,\n",
    "    report_every=REPORT_EVERY,\n",
    ").set_geodesic_params(\n",
    "    reg=1e-2,\n",
    "    stopThr=1e-3,\n",
    ")\n",
    "dist_draw_sgdw.det_params, dist_draw_sgdw.hist"
   ]
  },
  {
   "cell_type": "code",
   "execution_count": null,
   "metadata": {},
   "outputs": [],
   "source": [
    "_log.info(f\"Running SGD-Wasserstein with {DS_NAME} DS bar. with proj.\")\n",
    "bar, hist = dist_draw_sgdw.run(\n",
    "    distr_hist=True,\n",
    "    distr_samp_hist=True,\n",
    "    include_time=True,\n",
    ")"
   ]
  },
  {
   "cell_type": "code",
   "execution_count": null,
   "metadata": {},
   "outputs": [],
   "source": [
    "bar"
   ]
  },
  {
   "cell_type": "code",
   "execution_count": null,
   "metadata": {},
   "outputs": [],
   "source": [
    "utils.plot_list_of_draws(hist.distr, max_images=MAX_IMGS)\n",
    "utils.plot_list_of_draws([x[0] for x in hist.distr_samp], max_images=MAX_IMGS)"
   ]
  },
  {
   "cell_type": "markdown",
   "metadata": {},
   "source": [
    "---\n",
    "\n",
    "Hasta aquí termina!"
   ]
  }
 ],
 "metadata": {
  "kernelspec": {
   "display_name": ".venv",
   "language": "python",
   "name": "python3"
  },
  "language_info": {
   "codemirror_mode": {
    "name": "ipython",
    "version": 3
   },
   "file_extension": ".py",
   "mimetype": "text/x-python",
   "name": "python",
   "nbconvert_exporter": "python",
   "pygments_lexer": "ipython3",
   "version": "3.10.12"
  }
 },
 "nbformat": 4,
 "nbformat_minor": 2
}
