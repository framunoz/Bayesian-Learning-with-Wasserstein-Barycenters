{
 "cells": [
  {
   "cell_type": "markdown",
   "metadata": {},
   "source": [
    "# Constantes"
   ]
  },
  {
   "cell_type": "code",
   "execution_count": null,
   "metadata": {},
   "outputs": [],
   "source": [
    "# Whether to clean the logs directory\n",
    "CLEAN_LOGS = True\n",
    "\n",
    "S_k = 25\n",
    "PROJ_EVERY = 3\n",
    "REPORT_EVERY = 100\n",
    "MAX_ITER = 5_000\n",
    "MAX_ITER_PROJ = MAX_ITER\n",
    "MAX_IMGS = 22 * 4\n",
    "# MAX_ITER = MAX_IMGS; REPORT_EVERY = 5  # Descomentar para debuguear\n",
    "MAX_ITER = MAX_IMGS  # Descomentar para debuguear"
   ]
  },
  {
   "cell_type": "markdown",
   "metadata": {},
   "source": [
    "# Importaciones Generales"
   ]
  },
  {
   "cell_type": "code",
   "execution_count": null,
   "metadata": {},
   "outputs": [],
   "source": [
    "%cd ~/codeProjects/pythonProjects/Bayesian-Learning-with-Wasserstein-Barycenters\n",
    "# %cd D:\\CodeProjects\\Python\\Bayesian-Learning-with-Wasserstein-Barycenters\\"
   ]
  },
  {
   "cell_type": "code",
   "execution_count": null,
   "metadata": {},
   "outputs": [],
   "source": [
    "from bwb import sgdw, utils\n",
    "from bwb.distributions import *\n",
    "from bwb.transports import *"
   ]
  },
  {
   "cell_type": "code",
   "execution_count": null,
   "metadata": {
    "collapsed": false,
    "jupyter": {
     "outputs_hidden": false
    }
   },
   "outputs": [],
   "source": [
    "sgdw.De"
   ]
  },
  {
   "cell_type": "markdown",
   "metadata": {
    "jp-MarkdownHeadingCollapsed": true
   },
   "source": [
    "## Configuración del Logger"
   ]
  },
  {
   "cell_type": "code",
   "execution_count": null,
   "metadata": {},
   "outputs": [],
   "source": [
    "import time\n",
    "from pathlib import Path\n",
    "\n",
    "\n",
    "# Create the logs directory\n",
    "LOG_PATH = Path(\"logs\") / f\"notebook_{time.strftime('%Y%m%d_%H%M%S')}.log\"\n",
    "if not LOG_PATH.parent.exists():\n",
    "    LOG_PATH.parent.mkdir()\n",
    "\n",
    "# Clean the logs\n",
    "if CLEAN_LOGS:\n",
    "    for log_file in Path(\"logs\").glob(\"*.log\"):\n",
    "        log_file.unlink()"
   ]
  },
  {
   "cell_type": "code",
   "execution_count": null,
   "metadata": {},
   "outputs": [],
   "source": [
    "import logging\n",
    "from bwb._logging import log_config\n",
    "\n",
    "\n",
    "# Remove the handlers\n",
    "log_config.remove_all_handlers()\n",
    "\n",
    "# Define and add FileHandler\n",
    "fh = logging.FileHandler(LOG_PATH)\n",
    "log_config.set_default_formatter(fh)\n",
    "log_config.add_handler(fh)\n",
    "\n",
    "\n",
    "_log = log_config.get_logger(\"notebook\")\n",
    "log_config.set_level(level=logging.DEBUG, name=\"notebook\")\n",
    "log_config.set_level(level=logging.INFO, name=\"bwb.utils\")\n",
    "log_config.set_level(level=logging.DEBUG, name=\"bwb.sgdw\")\n",
    "log_config.set_level(level=logging.INFO, name=\"bwb.transports\")"
   ]
  },
  {
   "cell_type": "code",
   "execution_count": null,
   "metadata": {},
   "outputs": [],
   "source": [
    "# Set the default options for the report\n",
    "INCLUDE_OPTIONS: sgdw.ReportOptions = {\n",
    "    \"dt\": False,\n",
    "    \"dt_per_iter\": True,\n",
    "    \"iter\": True,\n",
    "    \"step_schd\": True,\n",
    "    \"total_time\": True,\n",
    "    \"w_dist\": False,\n",
    "}\n",
    "\n",
    "sgdw.Report.INCLUDE_OPTIONS = INCLUDE_OPTIONS"
   ]
  },
  {
   "cell_type": "markdown",
   "metadata": {
    "jp-MarkdownHeadingCollapsed": true
   },
   "source": [
    "# Importar las redes neuronales"
   ]
  },
  {
   "cell_type": "code",
   "execution_count": null,
   "metadata": {},
   "outputs": [],
   "source": [
    "from wgan_gp.wgan_gp_vae.model_resnet import Generator, Encoder, LatentDistribution\n",
    "import torch\n",
    "from wgan_gp.wgan_gp_vae.utils import load_checkpoint\n",
    "\n",
    "\n",
    "device = torch.device(\"cuda\" if torch.cuda.is_available() else \"cpu\")\n",
    "\n",
    "NOISE = \"norm\"\n",
    "LATENT_DIM = 128\n",
    "CHANNELS_IMG = 1\n",
    "NUM_FILTERS = [256, 128, 64, 32]\n",
    "\n",
    "noise_sampler = LatentDistribution(NOISE, LATENT_DIM, device)\n",
    "\n",
    "CURR_PATH = Path(\".\")\n",
    "NETS_PATH = CURR_PATH / \"wgan_gp\" / \"networks\" \n",
    "\n",
    "DS_NAME = \"data\"\n",
    "\n",
    "G = Generator(LATENT_DIM, CHANNELS_IMG, latent_distr=NOISE).to(device)\n",
    "E = Encoder(LATENT_DIM, CHANNELS_IMG).to(device)\n",
    "\n",
    "FACE_PATH = NETS_PATH / f\"cleaned_{DS_NAME}_zDim{LATENT_DIM}_{NOISE}_bs_128\"\n",
    "\n",
    "load_checkpoint(G, FACE_PATH, \"generator\", device)\n",
    "load_checkpoint(E, FACE_PATH, \"encoder\", device)\n",
    "\n",
    "G.eval(); E.eval()\n",
    "print()"
   ]
  },
  {
   "cell_type": "code",
   "execution_count": null,
   "metadata": {},
   "outputs": [],
   "source": [
    "noise_sampler"
   ]
  },
  {
   "cell_type": "code",
   "execution_count": null,
   "metadata": {},
   "outputs": [],
   "source": [
    "from bwb.distributions import DistributionDraw\n",
    "from torchvision import disable_beta_transforms_warning\n",
    "disable_beta_transforms_warning()\n",
    "\n",
    "import torchvision.transforms.v2 as T\n",
    "\n",
    "\n",
    "z = noise_sampler(1)\n",
    "m = G(z)\n",
    "\n",
    "transform_in = T.Compose([\n",
    "    T.Lambda(lambda x: x / torch.max(x)),\n",
    "    T.ToPILImage(),\n",
    "    T.Resize(32),\n",
    "    T.ToImage(),\n",
    "    T.ConvertImageDtype(torch.float32),\n",
    "    T.Normalize((0.5,), (0.5,)),\n",
    "])\n",
    "\n",
    "transform_out = T.Compose([\n",
    "    T.ToDtype(torch.float64),\n",
    "    T.Lambda(lambda x: x.squeeze()),\n",
    "    T.Lambda(lambda x: x - torch.min(x)),\n",
    "    T.Lambda(lambda x: x / torch.sum(x)),\n",
    "    T.Lambda(lambda x: DistributionDraw.from_grayscale_weights(x)),\n",
    "])\n",
    "\n",
    "out: DistributionDraw = transform_out(m)\n",
    "print(out.dtype)\n",
    "out"
   ]
  },
  {
   "cell_type": "markdown",
   "metadata": {},
   "source": [
    "# Proyector"
   ]
  },
  {
   "cell_type": "code",
   "execution_count": null,
   "metadata": {},
   "outputs": [],
   "source": [
    "from wgan_gp.wgan_gp_vae.utils import ProjectorOnManifold\n",
    "import torchvision.transforms as T\n",
    "\n",
    "transform_in_proj = T.Compose([\n",
    "    # From pdf to grayscale\n",
    "    T.Lambda(lambda x: x / torch.max(x)),\n",
    "    T.ToPILImage(),\n",
    "    T.Resize((32, 32)),\n",
    "    T.ToTensor(),\n",
    "    T.Normalize(\n",
    "        [0.5 for _ in range(1)],\n",
    "        [0.5 for _ in range(1)],\n",
    "    ),\n",
    "])\n",
    "\n",
    "transform_out_proj = T.Compose([\n",
    "    # Ensure the range is in [0, 1]\n",
    "    T.Lambda(lambda x: x - torch.min(x)),\n",
    "    T.Lambda(lambda x: x / torch.max(x)),\n",
    "    T.Lambda(lambda x: x / torch.sum(x)),\n",
    "    T.Lambda(lambda x: x.squeeze(0)),\n",
    "])\n",
    "\n",
    "proj = ProjectorOnManifold(\n",
    "    E, G, \n",
    "    transform_in=transform_in_proj,\n",
    "    transform_out=transform_out_proj,\n",
    ")"
   ]
  },
  {
   "cell_type": "markdown",
   "metadata": {
    "jp-MarkdownHeadingCollapsed": true
   },
   "source": [
    "# Obtener Dataset"
   ]
  },
  {
   "cell_type": "code",
   "execution_count": null,
   "metadata": {},
   "outputs": [],
   "source": [
    "\n",
    "import bwb.distributions as dist\n",
    "\n",
    "class DatasetWrapper:\n",
    "    def __init__(self, dataset):\n",
    "        self.dataset = dataset\n",
    "\n",
    "    def __len__(self):\n",
    "        return len(self.dataset)\n",
    "    \n",
    "    def get(self, i: int, **kwargs) -> dist.DistributionDraw:\n",
    "        return dist.DistributionDraw.from_grayscale_weights(self.dataset[i][0])"
   ]
  },
  {
   "cell_type": "code",
   "execution_count": null,
   "metadata": {},
   "outputs": [],
   "source": [
    "import quick_torch as qt\n",
    "\n",
    "def get_ds(file_path, transform):\n",
    "    categories = [qt.Category.FACE]\n",
    "    dataset_ = qt.QuickDraw(\n",
    "        root=\"dataset\",\n",
    "        categories=categories,\n",
    "        transform=transform,\n",
    "        download=True,\n",
    "        recognized=True,\n",
    "    )\n",
    "    print(len(dataset_))\n",
    "    path_dataset = Path(file_path)\n",
    "    dataset_.data = np.load(path_dataset).reshape(-1, 28, 28)\n",
    "    dataset_.targets = np.ones(len(dataset_.data), dtype=int)\n",
    "    dataset = dataset_.get_train_data()\n",
    "    len(dataset)\n",
    "\n",
    "    return DatasetWrapper(dataset)\n",
    "\n",
    "transform_ds = T.Compose([\n",
    "    T.Resize((32, 32)),\n",
    "    T.ToTensor(),\n",
    "    T.Lambda(lambda x: x.squeeze()),\n",
    "])"
   ]
  },
  {
   "cell_type": "markdown",
   "metadata": {
    "jp-MarkdownHeadingCollapsed": true
   },
   "source": [
    "# Definir $\\gamma_k$"
   ]
  },
  {
   "cell_type": "markdown",
   "metadata": {},
   "source": [
    "Aquí se utiliza una función de la forma\n",
    "\\begin{equation*}\n",
    "    \\gamma_k = \\frac{a}{(b^{1/c} + k)^c}\n",
    "\\end{equation*}\n",
    "\n",
    "Con $a > 0$, $b \\geq 0$ y $0.5 < c \\leq 1$\n",
    "\n",
    "La idea es que cuando $k=0$, $\\gamma_0 = \\frac{a}{b}$ es la proporción entre $a$ y $b$, permitiendo ajustar el valor inicial."
   ]
  },
  {
   "cell_type": "code",
   "execution_count": null,
   "metadata": {},
   "outputs": [],
   "source": [
    "from bwb.sgdw import Gamma\n",
    "window = 5\n",
    "\n",
    "def test_gamma(gamma):\n",
    "\n",
    "    for t in range(window):\n",
    "        print(f\"{t = :_}; {gamma(t) = :.2%}\")\n",
    "    print()\n",
    "\n",
    "    init = 50\n",
    "    for t in range(init, init+window):\n",
    "        print(f\"{t = :_}; {gamma(t) = :.2%}\")\n",
    "    print()\n",
    "\n",
    "    init = 100\n",
    "    for t in range(init, init+window):\n",
    "        print(f\"{t = :_}; {gamma(t) = :.2%}\")\n",
    "    print()\n",
    "\n",
    "    init = 300\n",
    "    for t in range(init, init+window):\n",
    "        print(f\"{t = :_}; {gamma(t) = :.2%}\")\n",
    "    print()\n",
    "\n",
    "    init = 500\n",
    "    for t in range(init, init+window):\n",
    "        print(f\"{t = :_}; {gamma(t) = :.2%}\")\n",
    "    print()\n",
    "\n",
    "    init = 1_000\n",
    "    for t in range(init, init+window):\n",
    "        print(f\"{t = :_}; {gamma(t) = :.2%}\")\n",
    "    print()\n",
    "\n",
    "    init = 3_000\n",
    "    for t in range(init, init+window):\n",
    "        print(f\"{t = :_}; {gamma(t) = :.2%}\")\n",
    "    print()\n",
    "\n",
    "    init = 5_000\n",
    "    for t in range(init, init+window):\n",
    "        print(f\"{t = :_}; {gamma(t) = :.2%}\")\n",
    "    print()\n",
    "\n",
    "    # init = 10_000\n",
    "    # for t in range(init, init+window):\n",
    "    #     print(f\"{t = :_}; {gamma(t) = :.2%}\")\n",
    "    # print()\n",
    "\n",
    "    # init = 20_000\n",
    "    # for t in range(init, init+window):\n",
    "    #     print(f\"{t = :_}; {gamma(t) = :.2%}\")\n",
    "    # print()\n",
    "\n",
    "    # init = 50_000\n",
    "    # for t in range(init, init+window):\n",
    "    #     print(f\"{t = :_}; {gamma(t) = :.2%}\")\n",
    "    # print()\n",
    "\n",
    "    # init = 100_000\n",
    "    # for t in range(init, init+window):\n",
    "    #     print(f\"{t = :_}; {gamma(t) = :.2%}\")\n",
    "\n",
    "\n",
    "_a = 3\n",
    "_eps = 0.2\n",
    "params = dict(a=_a, b=_a+1e-2, c=0.5+_eps)\n",
    "# params = dict(a=1, b=1, c=1)\n",
    "\n",
    "gamma = Gamma(**params)\n",
    "\n",
    "test_gamma(Gamma(**params))"
   ]
  },
  {
   "cell_type": "markdown",
   "metadata": {},
   "source": [
    "# Variedad de caritas 1: Caras normales"
   ]
  },
  {
   "cell_type": "markdown",
   "metadata": {},
   "source": [
    "## Baricentro de la red"
   ]
  },
  {
   "cell_type": "markdown",
   "metadata": {
    "jp-MarkdownHeadingCollapsed": true
   },
   "source": [
    "### Versión sin proyectar"
   ]
  },
  {
   "cell_type": "code",
   "execution_count": null,
   "metadata": {},
   "outputs": [],
   "source": [
    "DS_NAME = \"data\"\n",
    "\n",
    "G = Generator(LATENT_DIM, CHANNELS_IMG, latent_distr=NOISE).to(device)\n",
    "E = Encoder(LATENT_DIM, CHANNELS_IMG).to(device)\n",
    "\n",
    "FACE_PATH = NETS_PATH / f\"cleaned_{DS_NAME}_zDim{LATENT_DIM}_{NOISE}_bs_128\"\n",
    "\n",
    "load_checkpoint(G, FACE_PATH, \"generator\", device)\n",
    "load_checkpoint(E, FACE_PATH, \"encoder\", device)\n",
    "\n",
    "G.eval(); E.eval()\n",
    "\n",
    "pi_n: GeneratorDistribSampler[DistributionDraw] = GeneratorDistribSampler()\n",
    "pi_n.fit(generator=G, noise_sampler=noise_sampler, transform_out=transform_out)\n",
    "pi_n.draw()"
   ]
  },
  {
   "cell_type": "code",
   "execution_count": null,
   "metadata": {},
   "outputs": [],
   "source": [
    "dist_draw_sgdw = sgdw.DebiesedDistributionDrawSGDW(\n",
    "    distr_sampler=pi_n,\n",
    "    learning_rate=Gamma(**params),\n",
    "    batch_size=S_k,\n",
    "    max_iter=MAX_ITER,\n",
    "    report_every=REPORT_EVERY,\n",
    ").set_geodesic_params(\n",
    "    reg=1e-2,\n",
    "    stopThr=1e-3,\n",
    ")\n"
   ]
  },
  {
   "cell_type": "code",
   "execution_count": null,
   "metadata": {},
   "outputs": [],
   "source": [
    "_log.info(f\"Running SGD-Wasserstein with {DS_NAME} GAN bar. without proj.\")\n",
    "bar, hist = dist_draw_sgdw.run(\n",
    "    distr_hist=True,\n",
    "    distr_samp_hist=True,\n",
    ")\n",
    "dist_draw_sgdw.iter_params"
   ]
  },
  {
   "cell_type": "code",
   "execution_count": null,
   "metadata": {},
   "outputs": [],
   "source": [
    "bar"
   ]
  },
  {
   "cell_type": "code",
   "execution_count": null,
   "metadata": {},
   "outputs": [],
   "source": [
    "utils.plot_list_of_draws(hist.distr, max_images=MAX_IMGS)\n",
    "utils.plot_list_of_draws([x[0] for x in hist.distr_samp], max_images=MAX_IMGS)"
   ]
  },
  {
   "cell_type": "code",
   "execution_count": null,
   "metadata": {},
   "outputs": [],
   "source": [
    "utils.plot_list_of_draws(hist.distr[-MAX_IMGS:], max_images=MAX_IMGS)\n",
    "utils.plot_list_of_draws([x[0] for x in hist.distr_samp[-MAX_IMGS:]], max_images=MAX_IMGS)"
   ]
  },
  {
   "cell_type": "markdown",
   "metadata": {},
   "source": [
    "### Versión proyectada"
   ]
  },
  {
   "cell_type": "markdown",
   "metadata": {},
   "source": [
    "#### Iteración 1"
   ]
  },
  {
   "cell_type": "code",
   "execution_count": null,
   "metadata": {},
   "outputs": [],
   "source": [
    "proj = ProjectorOnManifold(\n",
    "    E, G, \n",
    "    transform_in=transform_in_proj,\n",
    "    transform_out=transform_out_proj,\n",
    ")"
   ]
  },
  {
   "cell_type": "code",
   "execution_count": null,
   "metadata": {},
   "outputs": [],
   "source": [
    "face = pi_n.draw()\n",
    "face"
   ]
  },
  {
   "cell_type": "code",
   "execution_count": null,
   "metadata": {},
   "outputs": [],
   "source": [
    "DistributionDraw.from_grayscale_weights(proj(face.grayscale_weights))"
   ]
  },
  {
   "cell_type": "code",
   "execution_count": null,
   "metadata": {},
   "outputs": [],
   "source": [
    "dist_draw_sgdw = sgdw.DebiesedDistributionDrawSGDW(\n",
    "    distr_sampler=pi_n,\n",
    "    projector=proj,\n",
    "    proj_every=PROJ_EVERY,\n",
    "    learning_rate=Gamma(**params),\n",
    "    batch_size=S_k,\n",
    "    max_iter=MAX_ITER_PROJ,\n",
    "    report_every=REPORT_EVERY,\n",
    ").set_geodesic_params(\n",
    "    reg=1e-2,\n",
    "    stopThr=1e-3,\n",
    ")\n",
    "dist_draw_sgdw.det_params, dist_draw_sgdw.hist"
   ]
  },
  {
   "cell_type": "code",
   "execution_count": null,
   "metadata": {},
   "outputs": [],
   "source": [
    "_log.info(f\"Running SGD-Wasserstein with {DS_NAME} GAN bar. with proj. Iter 1\")\n",
    "bar, hist = dist_draw_sgdw.run(\n",
    "    distr_hist=True,\n",
    "    distr_samp_hist=True,\n",
    ")\n",
    "dist_draw_sgdw.iter_params"
   ]
  },
  {
   "cell_type": "code",
   "execution_count": null,
   "metadata": {},
   "outputs": [],
   "source": [
    "bar"
   ]
  },
  {
   "cell_type": "code",
   "execution_count": null,
   "metadata": {},
   "outputs": [],
   "source": [
    "utils.plot_list_of_draws(hist.distr, max_images=MAX_IMGS)\n",
    "utils.plot_list_of_draws([x[0] for x in hist.distr_samp], max_images=MAX_IMGS)"
   ]
  },
  {
   "cell_type": "code",
   "execution_count": null,
   "metadata": {},
   "outputs": [],
   "source": [
    "utils.plot_list_of_draws(hist.distr[-MAX_IMGS:], max_images=MAX_IMGS)\n",
    "utils.plot_list_of_draws([x[0] for x in hist.distr_samp[-MAX_IMGS:]], max_images=MAX_IMGS)"
   ]
  },
  {
   "cell_type": "markdown",
   "metadata": {},
   "source": [
    "#### Iteración 2"
   ]
  },
  {
   "cell_type": "code",
   "execution_count": null,
   "metadata": {},
   "outputs": [],
   "source": [
    "_log.info(f\"Running SGD-Wasserstein with {DS_NAME} GAN bar. with proj. Iter 2\")\n",
    "bar, hist = dist_draw_sgdw.run(\n",
    "    distr_hist=True,\n",
    "    distr_samp_hist=True,\n",
    ")\n",
    "dist_draw_sgdw.iter_params"
   ]
  },
  {
   "cell_type": "code",
   "execution_count": null,
   "metadata": {},
   "outputs": [],
   "source": [
    "bar"
   ]
  },
  {
   "cell_type": "code",
   "execution_count": null,
   "metadata": {},
   "outputs": [],
   "source": [
    "utils.plot_list_of_draws(hist.distr, max_images=MAX_IMGS)\n",
    "utils.plot_list_of_draws([x[0] for x in hist.distr_samp], max_images=MAX_IMGS)"
   ]
  },
  {
   "cell_type": "code",
   "execution_count": null,
   "metadata": {},
   "outputs": [],
   "source": [
    "utils.plot_list_of_draws(hist.distr[-MAX_IMGS:], max_images=MAX_IMGS)\n",
    "utils.plot_list_of_draws([x[0] for x in hist.distr_samp[-MAX_IMGS:]], max_images=MAX_IMGS)"
   ]
  },
  {
   "cell_type": "markdown",
   "metadata": {},
   "source": [
    "#### Iteración 3"
   ]
  },
  {
   "cell_type": "code",
   "execution_count": null,
   "metadata": {},
   "outputs": [],
   "source": [
    "_log.info(f\"Running SGD-Wasserstein with {DS_NAME} GAN bar. with proj. Iter 3\")\n",
    "bar, hist = dist_draw_sgdw.run(\n",
    "    distr_hist=True,\n",
    "    distr_samp_hist=True,\n",
    ")\n",
    "dist_draw_sgdw.iter_params"
   ]
  },
  {
   "cell_type": "code",
   "execution_count": null,
   "metadata": {},
   "outputs": [],
   "source": [
    "bar"
   ]
  },
  {
   "cell_type": "code",
   "execution_count": null,
   "metadata": {},
   "outputs": [],
   "source": [
    "utils.plot_list_of_draws(hist.distr, max_images=MAX_IMGS)\n",
    "utils.plot_list_of_draws([x[0] for x in hist.distr_samp], max_images=MAX_IMGS)"
   ]
  },
  {
   "cell_type": "code",
   "execution_count": null,
   "metadata": {},
   "outputs": [],
   "source": [
    "utils.plot_list_of_draws(hist.distr[-MAX_IMGS:], max_images=MAX_IMGS)\n",
    "utils.plot_list_of_draws([x[0] for x in hist.distr_samp[-MAX_IMGS:]], max_images=MAX_IMGS)"
   ]
  },
  {
   "cell_type": "markdown",
   "metadata": {},
   "source": [
    "#### Iteración 4"
   ]
  },
  {
   "cell_type": "code",
   "execution_count": null,
   "metadata": {},
   "outputs": [],
   "source": [
    "_log.info(f\"Running SGD-Wasserstein with {DS_NAME} GAN bar. with proj. Iter 4\")\n",
    "bar, hist = dist_draw_sgdw.run(\n",
    "    distr_hist=True,\n",
    "    distr_samp_hist=True,\n",
    ")\n",
    "dist_draw_sgdw.iter_params"
   ]
  },
  {
   "cell_type": "code",
   "execution_count": null,
   "metadata": {},
   "outputs": [],
   "source": [
    "bar"
   ]
  },
  {
   "cell_type": "code",
   "execution_count": null,
   "metadata": {},
   "outputs": [],
   "source": [
    "utils.plot_list_of_draws(hist.distr, max_images=MAX_IMGS)\n",
    "utils.plot_list_of_draws([x[0] for x in hist.distr_samp], max_images=MAX_IMGS)"
   ]
  },
  {
   "cell_type": "code",
   "execution_count": null,
   "metadata": {},
   "outputs": [],
   "source": [
    "utils.plot_list_of_draws(hist.distr[-MAX_IMGS:], max_images=MAX_IMGS)\n",
    "utils.plot_list_of_draws([x[0] for x in hist.distr_samp[-MAX_IMGS:]], max_images=MAX_IMGS)"
   ]
  },
  {
   "cell_type": "markdown",
   "metadata": {},
   "source": [
    "#### Iteración 5"
   ]
  },
  {
   "cell_type": "code",
   "execution_count": null,
   "metadata": {},
   "outputs": [],
   "source": [
    "_log.info(f\"Running SGD-Wasserstein with {DS_NAME} GAN bar. with proj. Iter 5\")\n",
    "bar, hist = dist_draw_sgdw.run(\n",
    "    distr_hist=True,\n",
    "    distr_samp_hist=True,\n",
    ")\n",
    "dist_draw_sgdw.iter_params"
   ]
  },
  {
   "cell_type": "code",
   "execution_count": null,
   "metadata": {},
   "outputs": [],
   "source": [
    "bar"
   ]
  },
  {
   "cell_type": "code",
   "execution_count": null,
   "metadata": {},
   "outputs": [],
   "source": [
    "utils.plot_list_of_draws(hist.distr, max_images=MAX_IMGS)\n",
    "utils.plot_list_of_draws([x[0] for x in hist.distr_samp], max_images=MAX_IMGS)"
   ]
  },
  {
   "cell_type": "code",
   "execution_count": null,
   "metadata": {},
   "outputs": [],
   "source": [
    "utils.plot_list_of_draws(hist.distr[-MAX_IMGS:], max_images=MAX_IMGS)\n",
    "utils.plot_list_of_draws([x[0] for x in hist.distr_samp[-MAX_IMGS:]], max_images=MAX_IMGS)"
   ]
  },
  {
   "cell_type": "markdown",
   "metadata": {},
   "source": [
    "## Baricentro de las imágenes"
   ]
  },
  {
   "cell_type": "markdown",
   "metadata": {},
   "source": [
    "### Versión sin proyectar"
   ]
  },
  {
   "cell_type": "code",
   "execution_count": null,
   "metadata": {},
   "outputs": [],
   "source": [
    "DS_PATH = Path(\"./wgan_gp/dataset\") / \"cleaned\" / f\"{DS_NAME}.npy\"\n",
    "models = get_ds(DS_PATH, transform_ds)\n",
    "models.get(1)"
   ]
  },
  {
   "cell_type": "code",
   "execution_count": null,
   "metadata": {},
   "outputs": [],
   "source": [
    "pi_n: UniformDiscreteSampler[DistributionDraw] = UniformDiscreteSampler().fit(models=models)\n",
    "pi_n.draw()"
   ]
  },
  {
   "cell_type": "code",
   "execution_count": null,
   "metadata": {},
   "outputs": [],
   "source": [
    "dist_draw_sgdw = sgdw.DebiesedDistributionDrawSGDW(\n",
    "    distr_sampler=pi_n,\n",
    "    learning_rate=Gamma(**params),\n",
    "    batch_size=S_k,\n",
    "    max_iter=MAX_ITER,\n",
    "    report_every=REPORT_EVERY,\n",
    ").set_geodesic_params(\n",
    "    reg=1e-2,\n",
    "    stopThr=1e-3,\n",
    ")\n",
    "dist_draw_sgdw.det_params, dist_draw_sgdw.hist"
   ]
  },
  {
   "cell_type": "code",
   "execution_count": null,
   "metadata": {},
   "outputs": [],
   "source": [
    "_log.info(f\"Running SGD-Wasserstein with {DS_NAME} DS bar. without proj.\")\n",
    "bar, hist = dist_draw_sgdw.run(\n",
    "    distr_hist=True,\n",
    "    distr_samp_hist=True,\n",
    ")\n",
    "dist_draw_sgdw.iter_params"
   ]
  },
  {
   "cell_type": "code",
   "execution_count": null,
   "metadata": {},
   "outputs": [],
   "source": [
    "bar"
   ]
  },
  {
   "cell_type": "code",
   "execution_count": null,
   "metadata": {},
   "outputs": [],
   "source": [
    "utils.plot_list_of_draws(hist.distr, max_images=MAX_IMGS)\n",
    "utils.plot_list_of_draws([x[0] for x in hist.distr_samp], max_images=MAX_IMGS)"
   ]
  },
  {
   "cell_type": "code",
   "execution_count": null,
   "metadata": {},
   "outputs": [],
   "source": [
    "utils.plot_list_of_draws(hist.distr[-MAX_IMGS:], max_images=MAX_IMGS)\n",
    "utils.plot_list_of_draws([x[0] for x in hist.distr_samp[-MAX_IMGS:]], max_images=MAX_IMGS)"
   ]
  },
  {
   "cell_type": "markdown",
   "metadata": {},
   "source": [
    "### Versión Proyectada"
   ]
  },
  {
   "cell_type": "markdown",
   "metadata": {},
   "source": [
    "#### Iteración 1"
   ]
  },
  {
   "cell_type": "code",
   "execution_count": null,
   "metadata": {},
   "outputs": [],
   "source": [
    "proj = ProjectorOnManifold(\n",
    "    E, G, \n",
    "    transform_in=transform_in_proj,\n",
    "    transform_out=transform_out_proj,\n",
    ")"
   ]
  },
  {
   "cell_type": "code",
   "execution_count": null,
   "metadata": {},
   "outputs": [],
   "source": [
    "face = pi_n.draw()\n",
    "face"
   ]
  },
  {
   "cell_type": "code",
   "execution_count": null,
   "metadata": {},
   "outputs": [],
   "source": [
    "DistributionDraw.from_grayscale_weights(proj(face.grayscale_weights))"
   ]
  },
  {
   "cell_type": "code",
   "execution_count": null,
   "metadata": {},
   "outputs": [],
   "source": [
    "dist_draw_sgdw = sgdw.DebiesedDistributionDrawSGDW(\n",
    "    distr_sampler=pi_n,\n",
    "    projector=proj,\n",
    "    proj_every=PROJ_EVERY,\n",
    "    learning_rate=Gamma(**params),\n",
    "    batch_size=S_k,\n",
    "    max_iter=MAX_ITER_PROJ,\n",
    "    report_every=REPORT_EVERY,\n",
    ").set_geodesic_params(\n",
    "    reg=1e-2,\n",
    "    stopThr=1e-3,\n",
    ")\n",
    "dist_draw_sgdw.det_params, dist_draw_sgdw.hist"
   ]
  },
  {
   "cell_type": "code",
   "execution_count": null,
   "metadata": {},
   "outputs": [],
   "source": [
    "_log.info(f\"Running SGD-Wasserstein with {DS_NAME} DS bar. with proj. Iter 1\")\n",
    "bar, hist = dist_draw_sgdw.run(\n",
    "    distr_hist=True,\n",
    "    distr_samp_hist=True,\n",
    ")\n",
    "dist_draw_sgdw.iter_params"
   ]
  },
  {
   "cell_type": "code",
   "execution_count": null,
   "metadata": {},
   "outputs": [],
   "source": [
    "bar"
   ]
  },
  {
   "cell_type": "code",
   "execution_count": null,
   "metadata": {},
   "outputs": [],
   "source": [
    "utils.plot_list_of_draws(hist.distr, max_images=MAX_IMGS)\n",
    "utils.plot_list_of_draws([x[0] for x in hist.distr_samp], max_images=MAX_IMGS)"
   ]
  },
  {
   "cell_type": "code",
   "execution_count": null,
   "metadata": {},
   "outputs": [],
   "source": [
    "utils.plot_list_of_draws(hist.distr[-MAX_IMGS:], max_images=MAX_IMGS)\n",
    "utils.plot_list_of_draws([x[0] for x in hist.distr_samp[-MAX_IMGS:]], max_images=MAX_IMGS)"
   ]
  },
  {
   "cell_type": "markdown",
   "metadata": {},
   "source": [
    "#### Iter 2"
   ]
  },
  {
   "cell_type": "code",
   "execution_count": null,
   "metadata": {},
   "outputs": [],
   "source": [
    "_log.info(f\"Running SGD-Wasserstein with {DS_NAME} DS bar. with proj. Iter 2\")\n",
    "bar, hist = dist_draw_sgdw.run(\n",
    "    distr_hist=True,\n",
    "    distr_samp_hist=True,\n",
    ")\n",
    "dist_draw_sgdw.iter_params"
   ]
  },
  {
   "cell_type": "code",
   "execution_count": null,
   "metadata": {},
   "outputs": [],
   "source": [
    "bar"
   ]
  },
  {
   "cell_type": "code",
   "execution_count": null,
   "metadata": {},
   "outputs": [],
   "source": [
    "utils.plot_list_of_draws(hist.distr, max_images=MAX_IMGS)\n",
    "utils.plot_list_of_draws([x[0] for x in hist.distr_samp], max_images=MAX_IMGS)"
   ]
  },
  {
   "cell_type": "code",
   "execution_count": null,
   "metadata": {},
   "outputs": [],
   "source": [
    "utils.plot_list_of_draws(hist.distr[-MAX_IMGS:], max_images=MAX_IMGS)\n",
    "utils.plot_list_of_draws([x[0] for x in hist.distr_samp[-MAX_IMGS:]], max_images=MAX_IMGS)"
   ]
  },
  {
   "cell_type": "markdown",
   "metadata": {},
   "source": [
    "#### Iter 3"
   ]
  },
  {
   "cell_type": "code",
   "execution_count": null,
   "metadata": {},
   "outputs": [],
   "source": [
    "_log.info(f\"Running SGD-Wasserstein with {DS_NAME} DS bar. with proj. Iter 3\")\n",
    "bar, hist = dist_draw_sgdw.run(\n",
    "    distr_hist=True,\n",
    "    distr_samp_hist=True,\n",
    ")\n",
    "dist_draw_sgdw.iter_params"
   ]
  },
  {
   "cell_type": "code",
   "execution_count": null,
   "metadata": {},
   "outputs": [],
   "source": [
    "bar"
   ]
  },
  {
   "cell_type": "code",
   "execution_count": null,
   "metadata": {},
   "outputs": [],
   "source": [
    "utils.plot_list_of_draws(hist.distr, max_images=MAX_IMGS)\n",
    "utils.plot_list_of_draws([x[0] for x in hist.distr_samp], max_images=MAX_IMGS)"
   ]
  },
  {
   "cell_type": "code",
   "execution_count": null,
   "metadata": {},
   "outputs": [],
   "source": [
    "utils.plot_list_of_draws(hist.distr[-MAX_IMGS:], max_images=MAX_IMGS)\n",
    "utils.plot_list_of_draws([x[0] for x in hist.distr_samp[-MAX_IMGS:]], max_images=MAX_IMGS)"
   ]
  },
  {
   "cell_type": "markdown",
   "metadata": {},
   "source": [
    "#### Iter 4"
   ]
  },
  {
   "cell_type": "code",
   "execution_count": null,
   "metadata": {},
   "outputs": [],
   "source": [
    "_log.info(f\"Running SGD-Wasserstein with {DS_NAME} DS bar. with proj. Iter 4\")\n",
    "bar, hist = dist_draw_sgdw.run(\n",
    "    distr_hist=True,\n",
    "    distr_samp_hist=True,\n",
    ")\n",
    "dist_draw_sgdw.iter_params"
   ]
  },
  {
   "cell_type": "code",
   "execution_count": null,
   "metadata": {},
   "outputs": [],
   "source": [
    "bar"
   ]
  },
  {
   "cell_type": "code",
   "execution_count": null,
   "metadata": {},
   "outputs": [],
   "source": [
    "utils.plot_list_of_draws(hist.distr, max_images=MAX_IMGS)\n",
    "utils.plot_list_of_draws([x[0] for x in hist.distr_samp], max_images=MAX_IMGS)"
   ]
  },
  {
   "cell_type": "code",
   "execution_count": null,
   "metadata": {},
   "outputs": [],
   "source": [
    "utils.plot_list_of_draws(hist.distr[-MAX_IMGS:], max_images=MAX_IMGS)\n",
    "utils.plot_list_of_draws([x[0] for x in hist.distr_samp[-MAX_IMGS:]], max_images=MAX_IMGS)"
   ]
  },
  {
   "cell_type": "markdown",
   "metadata": {},
   "source": [
    "#### Iter 5"
   ]
  },
  {
   "cell_type": "code",
   "execution_count": null,
   "metadata": {},
   "outputs": [],
   "source": [
    "_log.info(f\"Running SGD-Wasserstein with {DS_NAME} DS bar. with proj. Iter 5\")\n",
    "bar, hist = dist_draw_sgdw.run(\n",
    "    distr_hist=True,\n",
    "    distr_samp_hist=True,\n",
    ")\n",
    "dist_draw_sgdw.iter_params"
   ]
  },
  {
   "cell_type": "code",
   "execution_count": null,
   "metadata": {},
   "outputs": [],
   "source": [
    "bar"
   ]
  },
  {
   "cell_type": "code",
   "execution_count": null,
   "metadata": {},
   "outputs": [],
   "source": [
    "utils.plot_list_of_draws(hist.distr, max_images=MAX_IMGS)\n",
    "utils.plot_list_of_draws([x[0] for x in hist.distr_samp], max_images=MAX_IMGS)"
   ]
  },
  {
   "cell_type": "code",
   "execution_count": null,
   "metadata": {},
   "outputs": [],
   "source": [
    "utils.plot_list_of_draws(hist.distr[-MAX_IMGS:], max_images=MAX_IMGS)\n",
    "utils.plot_list_of_draws([x[0] for x in hist.distr_samp[-MAX_IMGS:]], max_images=MAX_IMGS)"
   ]
  },
  {
   "cell_type": "markdown",
   "metadata": {},
   "source": [
    "---\n",
    "\n",
    "Hasta aquí termina!"
   ]
  },
  {
   "cell_type": "markdown",
   "metadata": {},
   "source": [
    "# Variedad de caritas 2: Caras sin contorno"
   ]
  },
  {
   "cell_type": "markdown",
   "metadata": {},
   "source": [
    "## Baricentro de la red"
   ]
  },
  {
   "cell_type": "markdown",
   "metadata": {},
   "source": [
    "### Versión sin proyectar"
   ]
  },
  {
   "cell_type": "code",
   "execution_count": null,
   "metadata": {},
   "outputs": [],
   "source": [
    "DS_NAME = \"data_sin_contorno\"\n",
    "\n",
    "G = Generator(LATENT_DIM, CHANNELS_IMG, latent_distr=NOISE).to(device)\n",
    "E = Encoder(LATENT_DIM, CHANNELS_IMG).to(device)\n",
    "\n",
    "FACE_PATH = NETS_PATH / f\"cleaned_{DS_NAME}_zDim{LATENT_DIM}_{NOISE}_bs_128\"\n",
    "\n",
    "load_checkpoint(G, FACE_PATH, \"generator\", device)\n",
    "load_checkpoint(E, FACE_PATH, \"encoder\", device)\n",
    "\n",
    "G.eval(); E.eval()\n",
    "\n",
    "pi_n: GeneratorDistribSampler[DistributionDraw] = GeneratorDistribSampler()\n",
    "pi_n.fit(generator=G, noise_sampler=noise_sampler, transform_out=transform_out)\n",
    "pi_n.draw()"
   ]
  },
  {
   "cell_type": "code",
   "execution_count": null,
   "metadata": {},
   "outputs": [],
   "source": [
    "dist_draw_sgdw = sgdw.DebiesedDistributionDrawSGDW(\n",
    "    distr_sampler=pi_n,\n",
    "    learning_rate=Gamma(**params),\n",
    "    batch_size=S_k,\n",
    "    max_iter=MAX_ITER,\n",
    "    report_every=REPORT_EVERY,\n",
    ").set_geodesic_params(\n",
    "    reg=1e-2,\n",
    "    stopThr=1e-3,\n",
    ")\n",
    "dist_draw_sgdw.det_params, dist_draw_sgdw.hist"
   ]
  },
  {
   "cell_type": "code",
   "execution_count": null,
   "metadata": {},
   "outputs": [],
   "source": [
    "_log.info(f\"Running SGD-Wasserstein with {DS_NAME} GAN bar. without proj.\")\n",
    "bar, hist = dist_draw_sgdw.run(\n",
    "    distr_hist=True,\n",
    "    distr_samp_hist=True,\n",
    ")\n",
    "dist_draw_sgdw.iter_params"
   ]
  },
  {
   "cell_type": "code",
   "execution_count": null,
   "metadata": {},
   "outputs": [],
   "source": [
    "bar"
   ]
  },
  {
   "cell_type": "code",
   "execution_count": null,
   "metadata": {},
   "outputs": [],
   "source": [
    "utils.plot_list_of_draws(hist.distr, max_images=MAX_IMGS)\n",
    "utils.plot_list_of_draws([x[0] for x in hist.distr_samp], max_images=MAX_IMGS)"
   ]
  },
  {
   "cell_type": "code",
   "execution_count": null,
   "metadata": {},
   "outputs": [],
   "source": [
    "utils.plot_list_of_draws(hist.distr[-MAX_IMGS:], max_images=MAX_IMGS)\n",
    "utils.plot_list_of_draws([x[0] for x in hist.distr_samp[-MAX_IMGS:]], max_images=MAX_IMGS)"
   ]
  },
  {
   "cell_type": "markdown",
   "metadata": {},
   "source": [
    "### Versión proyectada"
   ]
  },
  {
   "cell_type": "code",
   "execution_count": null,
   "metadata": {},
   "outputs": [],
   "source": [
    "proj = ProjectorOnManifold(\n",
    "    E, G, \n",
    "    transform_in=transform_in_proj,\n",
    "    transform_out=transform_out_proj,\n",
    ")"
   ]
  },
  {
   "cell_type": "code",
   "execution_count": null,
   "metadata": {},
   "outputs": [],
   "source": [
    "face = pi_n.draw()\n",
    "face"
   ]
  },
  {
   "cell_type": "code",
   "execution_count": null,
   "metadata": {},
   "outputs": [],
   "source": [
    "DistributionDraw.from_grayscale_weights(proj(face.grayscale_weights))"
   ]
  },
  {
   "cell_type": "code",
   "execution_count": null,
   "metadata": {},
   "outputs": [],
   "source": [
    "dist_draw_sgdw = sgdw.DebiesedDistributionDrawSGDW(\n",
    "    distr_sampler=pi_n,\n",
    "    projector=proj,\n",
    "    proj_every=PROJ_EVERY,\n",
    "    learning_rate=Gamma(**params),\n",
    "    batch_size=S_k,\n",
    "    max_iter=MAX_ITER_PROJ,\n",
    "    report_every=REPORT_EVERY,\n",
    ").set_geodesic_params(\n",
    "    reg=1e-2,\n",
    "    stopThr=1e-3,\n",
    ")\n",
    "dist_draw_sgdw.det_params, dist_draw_sgdw.hist"
   ]
  },
  {
   "cell_type": "code",
   "execution_count": null,
   "metadata": {},
   "outputs": [],
   "source": [
    "_log.info(f\"Running SGD-Wasserstein with {DS_NAME} GAN bar. with proj.\")\n",
    "bar, hist = dist_draw_sgdw.run(\n",
    "    distr_hist=True,\n",
    "    distr_samp_hist=True,\n",
    ")\n",
    "dist_draw_sgdw.iter_params"
   ]
  },
  {
   "cell_type": "code",
   "execution_count": null,
   "metadata": {},
   "outputs": [],
   "source": [
    "bar"
   ]
  },
  {
   "cell_type": "code",
   "execution_count": null,
   "metadata": {},
   "outputs": [],
   "source": [
    "utils.plot_list_of_draws(hist.distr, max_images=MAX_IMGS)\n",
    "utils.plot_list_of_draws([x[0] for x in hist.distr_samp], max_images=MAX_IMGS)"
   ]
  },
  {
   "cell_type": "code",
   "execution_count": null,
   "metadata": {},
   "outputs": [],
   "source": [
    "utils.plot_list_of_draws(hist.distr[-MAX_IMGS:], max_images=MAX_IMGS)\n",
    "utils.plot_list_of_draws([x[0] for x in hist.distr_samp[-MAX_IMGS:]], max_images=MAX_IMGS)"
   ]
  },
  {
   "cell_type": "markdown",
   "metadata": {},
   "source": [
    "## Baricentro de las imágenes"
   ]
  },
  {
   "cell_type": "markdown",
   "metadata": {},
   "source": [
    "### Versión sin proyectar"
   ]
  },
  {
   "cell_type": "code",
   "execution_count": null,
   "metadata": {},
   "outputs": [],
   "source": [
    "DS_PATH = Path(\"./wgan_gp/dataset\") / \"cleaned\" / f\"{DS_NAME}.npy\"\n",
    "models = get_ds(DS_PATH, transform_ds)\n",
    "models.get(1)"
   ]
  },
  {
   "cell_type": "code",
   "execution_count": null,
   "metadata": {},
   "outputs": [],
   "source": [
    "pi_n: UniformDiscreteSampler[DistributionDraw] = UniformDiscreteSampler().fit(models=models)\n",
    "pi_n.draw()"
   ]
  },
  {
   "cell_type": "code",
   "execution_count": null,
   "metadata": {},
   "outputs": [],
   "source": [
    "dist_draw_sgdw = sgdw.DebiesedDistributionDrawSGDW(\n",
    "    distr_sampler=pi_n,\n",
    "    learning_rate=Gamma(**params),\n",
    "    batch_size=S_k,\n",
    "    max_iter=MAX_ITER,\n",
    "    report_every=REPORT_EVERY,\n",
    ").set_geodesic_params(\n",
    "    reg=1e-2,\n",
    "    stopThr=1e-3,\n",
    ")\n",
    "dist_draw_sgdw.det_params, dist_draw_sgdw.hist"
   ]
  },
  {
   "cell_type": "code",
   "execution_count": null,
   "metadata": {},
   "outputs": [],
   "source": [
    "_log.info(f\"Running SGD-Wasserstein with {DS_NAME} DS bar. without proj.\")\n",
    "bar, hist = dist_draw_sgdw.run(\n",
    "    distr_hist=True,\n",
    "    distr_samp_hist=True,\n",
    ")\n",
    "dist_draw_sgdw.iter_params"
   ]
  },
  {
   "cell_type": "code",
   "execution_count": null,
   "metadata": {},
   "outputs": [],
   "source": [
    "bar"
   ]
  },
  {
   "cell_type": "code",
   "execution_count": null,
   "metadata": {},
   "outputs": [],
   "source": [
    "utils.plot_list_of_draws(hist.distr, max_images=MAX_IMGS)\n",
    "utils.plot_list_of_draws([x[0] for x in hist.distr_samp], max_images=MAX_IMGS)"
   ]
  },
  {
   "cell_type": "code",
   "execution_count": null,
   "metadata": {},
   "outputs": [],
   "source": [
    "utils.plot_list_of_draws(hist.distr[-MAX_IMGS:], max_images=MAX_IMGS)\n",
    "utils.plot_list_of_draws([x[0] for x in hist.distr_samp[-MAX_IMGS:]], max_images=MAX_IMGS)"
   ]
  },
  {
   "cell_type": "markdown",
   "metadata": {},
   "source": [
    "### Versión Proyectada"
   ]
  },
  {
   "cell_type": "code",
   "execution_count": null,
   "metadata": {},
   "outputs": [],
   "source": [
    "proj = ProjectorOnManifold(\n",
    "    E, G, \n",
    "    transform_in=transform_in_proj,\n",
    "    transform_out=transform_out_proj,\n",
    ")"
   ]
  },
  {
   "cell_type": "code",
   "execution_count": null,
   "metadata": {},
   "outputs": [],
   "source": [
    "face = pi_n.draw()\n",
    "face"
   ]
  },
  {
   "cell_type": "code",
   "execution_count": null,
   "metadata": {},
   "outputs": [],
   "source": [
    "DistributionDraw.from_grayscale_weights(proj(face.grayscale_weights))"
   ]
  },
  {
   "cell_type": "code",
   "execution_count": null,
   "metadata": {},
   "outputs": [],
   "source": [
    "dist_draw_sgdw = sgdw.DebiesedDistributionDrawSGDW(\n",
    "    distr_sampler=pi_n,\n",
    "    projector=proj,\n",
    "    proj_every=PROJ_EVERY,\n",
    "    learning_rate=Gamma(**params),\n",
    "    batch_size=S_k,\n",
    "    max_iter=MAX_ITER_PROJ,\n",
    "    report_every=REPORT_EVERY,\n",
    ").set_geodesic_params(\n",
    "    reg=1e-2,\n",
    "    stopThr=1e-3,\n",
    ")\n",
    "dist_draw_sgdw.det_params, dist_draw_sgdw.hist"
   ]
  },
  {
   "cell_type": "code",
   "execution_count": null,
   "metadata": {},
   "outputs": [],
   "source": [
    "_log.info(f\"Running SGD-Wasserstein with {DS_NAME} DS bar. with proj.\")\n",
    "bar, hist = dist_draw_sgdw.run(\n",
    "    distr_hist=True,\n",
    "    distr_samp_hist=True,\n",
    ")\n",
    "dist_draw_sgdw.iter_params"
   ]
  },
  {
   "cell_type": "code",
   "execution_count": null,
   "metadata": {},
   "outputs": [],
   "source": [
    "bar"
   ]
  },
  {
   "cell_type": "code",
   "execution_count": null,
   "metadata": {},
   "outputs": [],
   "source": [
    "utils.plot_list_of_draws(hist.distr, max_images=MAX_IMGS)\n",
    "utils.plot_list_of_draws([x[0] for x in hist.distr_samp], max_images=MAX_IMGS)"
   ]
  },
  {
   "cell_type": "code",
   "execution_count": null,
   "metadata": {},
   "outputs": [],
   "source": [
    "utils.plot_list_of_draws(hist.distr[-MAX_IMGS:], max_images=MAX_IMGS)\n",
    "utils.plot_list_of_draws([x[0] for x in hist.distr_samp[-MAX_IMGS:]], max_images=MAX_IMGS)"
   ]
  },
  {
   "cell_type": "markdown",
   "metadata": {},
   "source": [
    "---\n",
    "\n",
    "Hasta aquí termina!"
   ]
  },
  {
   "cell_type": "markdown",
   "metadata": {},
   "source": [
    "# Variedad de caritas 3: Caras sin contorno arriba"
   ]
  },
  {
   "cell_type": "markdown",
   "metadata": {},
   "source": [
    "## Baricentro de la red"
   ]
  },
  {
   "cell_type": "markdown",
   "metadata": {},
   "source": [
    "### Versión sin proyectar"
   ]
  },
  {
   "cell_type": "code",
   "execution_count": null,
   "metadata": {},
   "outputs": [],
   "source": [
    "DS_NAME = \"data_sin_contorno_arriba\"\n",
    "\n",
    "G = Generator(LATENT_DIM, CHANNELS_IMG, latent_distr=NOISE).to(device)\n",
    "E = Encoder(LATENT_DIM, CHANNELS_IMG).to(device)\n",
    "\n",
    "FACE_PATH = NETS_PATH / f\"cleaned_{DS_NAME}_zDim{LATENT_DIM}_{NOISE}_bs_128\"\n",
    "\n",
    "load_checkpoint(G, FACE_PATH, \"generator\", device)\n",
    "load_checkpoint(E, FACE_PATH, \"encoder\", device)\n",
    "\n",
    "G.eval(); E.eval()\n",
    "\n",
    "pi_n: GeneratorDistribSampler[DistributionDraw] = GeneratorDistribSampler()\n",
    "pi_n.fit(generator=G, noise_sampler=noise_sampler, transform_out=transform_out)\n",
    "pi_n.draw()"
   ]
  },
  {
   "cell_type": "code",
   "execution_count": null,
   "metadata": {},
   "outputs": [],
   "source": [
    "dist_draw_sgdw = sgdw.DebiesedDistributionDrawSGDW(\n",
    "    distr_sampler=pi_n,\n",
    "    learning_rate=Gamma(**params),\n",
    "    batch_size=S_k,\n",
    "    max_iter=MAX_ITER,\n",
    "    report_every=REPORT_EVERY,\n",
    ").set_geodesic_params(\n",
    "    reg=1e-2,\n",
    "    stopThr=1e-3,\n",
    ")\n",
    "dist_draw_sgdw.det_params, dist_draw_sgdw.hist"
   ]
  },
  {
   "cell_type": "code",
   "execution_count": null,
   "metadata": {},
   "outputs": [],
   "source": [
    "_log.info(f\"Running SGD-Wasserstein with {DS_NAME} GAN bar. without proj.\")\n",
    "bar, hist = dist_draw_sgdw.run(\n",
    "    distr_hist=True,\n",
    "    distr_samp_hist=True,\n",
    ")\n",
    "dist_draw_sgdw.iter_params"
   ]
  },
  {
   "cell_type": "code",
   "execution_count": null,
   "metadata": {},
   "outputs": [],
   "source": [
    "bar"
   ]
  },
  {
   "cell_type": "code",
   "execution_count": null,
   "metadata": {},
   "outputs": [],
   "source": [
    "utils.plot_list_of_draws(hist.distr, max_images=MAX_IMGS)\n",
    "utils.plot_list_of_draws([x[0] for x in hist.distr_samp], max_images=MAX_IMGS)"
   ]
  },
  {
   "cell_type": "code",
   "execution_count": null,
   "metadata": {},
   "outputs": [],
   "source": [
    "utils.plot_list_of_draws(hist.distr[-MAX_IMGS:], max_images=MAX_IMGS)\n",
    "utils.plot_list_of_draws([x[0] for x in hist.distr_samp[-MAX_IMGS:]], max_images=MAX_IMGS)"
   ]
  },
  {
   "cell_type": "markdown",
   "metadata": {},
   "source": [
    "### Versión proyectada"
   ]
  },
  {
   "cell_type": "code",
   "execution_count": null,
   "metadata": {},
   "outputs": [],
   "source": [
    "proj = ProjectorOnManifold(\n",
    "    E, G, \n",
    "    transform_in=transform_in_proj,\n",
    "    transform_out=transform_out_proj,\n",
    ")"
   ]
  },
  {
   "cell_type": "code",
   "execution_count": null,
   "metadata": {},
   "outputs": [],
   "source": [
    "face = pi_n.draw()\n",
    "face"
   ]
  },
  {
   "cell_type": "code",
   "execution_count": null,
   "metadata": {},
   "outputs": [],
   "source": [
    "DistributionDraw.from_grayscale_weights(proj(face.grayscale_weights))"
   ]
  },
  {
   "cell_type": "code",
   "execution_count": null,
   "metadata": {},
   "outputs": [],
   "source": [
    "dist_draw_sgdw = sgdw.DebiesedDistributionDrawSGDW(\n",
    "    distr_sampler=pi_n,\n",
    "    projector=proj,\n",
    "    proj_every=PROJ_EVERY,\n",
    "    learning_rate=Gamma(**params),\n",
    "    batch_size=S_k,\n",
    "    max_iter=MAX_ITER_PROJ,\n",
    "    report_every=REPORT_EVERY,\n",
    ").set_geodesic_params(\n",
    "    reg=1e-2,\n",
    "    stopThr=1e-3,\n",
    ")\n",
    "dist_draw_sgdw.det_params, dist_draw_sgdw.hist"
   ]
  },
  {
   "cell_type": "code",
   "execution_count": null,
   "metadata": {},
   "outputs": [],
   "source": [
    "_log.info(f\"Running SGD-Wasserstein with {DS_NAME} GAN bar. with proj.\")\n",
    "bar, hist = dist_draw_sgdw.run(\n",
    "    distr_hist=True,\n",
    "    distr_samp_hist=True,\n",
    ")\n",
    "dist_draw_sgdw.iter_params"
   ]
  },
  {
   "cell_type": "code",
   "execution_count": null,
   "metadata": {},
   "outputs": [],
   "source": [
    "bar"
   ]
  },
  {
   "cell_type": "code",
   "execution_count": null,
   "metadata": {},
   "outputs": [],
   "source": [
    "utils.plot_list_of_draws(hist.distr, max_images=MAX_IMGS)\n",
    "utils.plot_list_of_draws([x[0] for x in hist.distr_samp], max_images=MAX_IMGS)"
   ]
  },
  {
   "cell_type": "code",
   "execution_count": null,
   "metadata": {},
   "outputs": [],
   "source": [
    "utils.plot_list_of_draws(hist.distr[-MAX_IMGS:], max_images=MAX_IMGS)\n",
    "utils.plot_list_of_draws([x[0] for x in hist.distr_samp[-MAX_IMGS:]], max_images=MAX_IMGS)"
   ]
  },
  {
   "cell_type": "markdown",
   "metadata": {},
   "source": [
    "## Baricentro de las imágenes"
   ]
  },
  {
   "cell_type": "markdown",
   "metadata": {},
   "source": [
    "### Versión sin proyectar"
   ]
  },
  {
   "cell_type": "code",
   "execution_count": null,
   "metadata": {},
   "outputs": [],
   "source": [
    "DS_PATH = Path(\"./wgan_gp/dataset\") / \"cleaned\" / f\"{DS_NAME}.npy\"\n",
    "models = get_ds(DS_PATH, transform_ds)\n",
    "models.get(1)"
   ]
  },
  {
   "cell_type": "code",
   "execution_count": null,
   "metadata": {},
   "outputs": [],
   "source": [
    "pi_n: UniformDiscreteSampler[DistributionDraw] = UniformDiscreteSampler().fit(models=models)\n",
    "pi_n.draw()"
   ]
  },
  {
   "cell_type": "code",
   "execution_count": null,
   "metadata": {},
   "outputs": [],
   "source": [
    "dist_draw_sgdw = sgdw.DebiesedDistributionDrawSGDW(\n",
    "    distr_sampler=pi_n,\n",
    "    learning_rate=Gamma(**params),\n",
    "    batch_size=S_k,\n",
    "    max_iter=MAX_ITER,\n",
    "    report_every=REPORT_EVERY,\n",
    ").set_geodesic_params(\n",
    "    reg=1e-2,\n",
    "    stopThr=1e-3,\n",
    ")\n",
    "dist_draw_sgdw.det_params, dist_draw_sgdw.hist"
   ]
  },
  {
   "cell_type": "code",
   "execution_count": null,
   "metadata": {},
   "outputs": [],
   "source": [
    "_log.info(f\"Running SGD-Wasserstein with {DS_NAME} DS bar. without proj.\")\n",
    "bar, hist = dist_draw_sgdw.run(\n",
    "    distr_hist=True,\n",
    "    distr_samp_hist=True,\n",
    ")\n",
    "dist_draw_sgdw.iter_params"
   ]
  },
  {
   "cell_type": "code",
   "execution_count": null,
   "metadata": {},
   "outputs": [],
   "source": [
    "bar"
   ]
  },
  {
   "cell_type": "code",
   "execution_count": null,
   "metadata": {},
   "outputs": [],
   "source": [
    "utils.plot_list_of_draws(hist.distr, max_images=MAX_IMGS)\n",
    "utils.plot_list_of_draws([x[0] for x in hist.distr_samp], max_images=MAX_IMGS)"
   ]
  },
  {
   "cell_type": "code",
   "execution_count": null,
   "metadata": {},
   "outputs": [],
   "source": [
    "utils.plot_list_of_draws(hist.distr[-MAX_IMGS:], max_images=MAX_IMGS)\n",
    "utils.plot_list_of_draws([x[0] for x in hist.distr_samp[-MAX_IMGS:]], max_images=MAX_IMGS)"
   ]
  },
  {
   "cell_type": "markdown",
   "metadata": {},
   "source": [
    "### Versión Proyectada"
   ]
  },
  {
   "cell_type": "code",
   "execution_count": null,
   "metadata": {},
   "outputs": [],
   "source": [
    "proj = ProjectorOnManifold(\n",
    "    E, G, \n",
    "    transform_in=transform_in_proj,\n",
    "    transform_out=transform_out_proj,\n",
    ")"
   ]
  },
  {
   "cell_type": "code",
   "execution_count": null,
   "metadata": {},
   "outputs": [],
   "source": [
    "face = pi_n.draw()\n",
    "face"
   ]
  },
  {
   "cell_type": "code",
   "execution_count": null,
   "metadata": {},
   "outputs": [],
   "source": [
    "DistributionDraw.from_grayscale_weights(proj(face.grayscale_weights))"
   ]
  },
  {
   "cell_type": "code",
   "execution_count": null,
   "metadata": {},
   "outputs": [],
   "source": [
    "dist_draw_sgdw = sgdw.DebiesedDistributionDrawSGDW(\n",
    "    distr_sampler=pi_n,\n",
    "    projector=proj,\n",
    "    proj_every=PROJ_EVERY,\n",
    "    learning_rate=Gamma(**params),\n",
    "    batch_size=S_k,\n",
    "    max_iter=MAX_ITER_PROJ,\n",
    "    report_every=REPORT_EVERY,\n",
    ").set_geodesic_params(\n",
    "    reg=1e-2,\n",
    "    stopThr=1e-3,\n",
    ")\n",
    "dist_draw_sgdw.det_params, dist_draw_sgdw.hist"
   ]
  },
  {
   "cell_type": "code",
   "execution_count": null,
   "metadata": {},
   "outputs": [],
   "source": [
    "_log.info(f\"Running SGD-Wasserstein with {DS_NAME} DS bar. with proj.\")\n",
    "bar, hist = dist_draw_sgdw.run(\n",
    "    distr_hist=True,\n",
    "    distr_samp_hist=True,\n",
    ")\n",
    "dist_draw_sgdw.iter_params"
   ]
  },
  {
   "cell_type": "code",
   "execution_count": null,
   "metadata": {},
   "outputs": [],
   "source": [
    "bar"
   ]
  },
  {
   "cell_type": "code",
   "execution_count": null,
   "metadata": {},
   "outputs": [],
   "source": [
    "utils.plot_list_of_draws(hist.distr, max_images=MAX_IMGS)\n",
    "utils.plot_list_of_draws([x[0] for x in hist.distr_samp], max_images=MAX_IMGS)"
   ]
  },
  {
   "cell_type": "code",
   "execution_count": null,
   "metadata": {},
   "outputs": [],
   "source": [
    "utils.plot_list_of_draws(hist.distr[-MAX_IMGS:], max_images=MAX_IMGS)\n",
    "utils.plot_list_of_draws([x[0] for x in hist.distr_samp[-MAX_IMGS:]], max_images=MAX_IMGS)"
   ]
  },
  {
   "cell_type": "markdown",
   "metadata": {},
   "source": [
    "---\n",
    "\n",
    "Hasta aquí termina!"
   ]
  }
 ],
 "metadata": {
  "kernelspec": {
   "display_name": "Python 3 (ipykernel)",
   "language": "python",
   "name": "python3"
  },
  "language_info": {
   "codemirror_mode": {
    "name": "ipython",
    "version": 3
   },
   "file_extension": ".py",
   "mimetype": "text/x-python",
   "name": "python",
   "nbconvert_exporter": "python",
   "pygments_lexer": "ipython3",
   "version": "3.12.2"
  }
 },
 "nbformat": 4,
 "nbformat_minor": 4
}
