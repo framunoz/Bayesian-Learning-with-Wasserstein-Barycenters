{
 "cells": [
  {
   "cell_type": "markdown",
   "id": "0",
   "metadata": {},
   "source": [
    "Notebook que sirve de ejemplo para calcular el baricentro de un conjunto de datos de imágenes."
   ]
  },
  {
   "cell_type": "markdown",
   "id": "1",
   "metadata": {},
   "source": [
    "# Configuraciones iniciales"
   ]
  },
  {
   "cell_type": "markdown",
   "id": "2",
   "metadata": {
    "jp-MarkdownHeadingCollapsed": true
   },
   "source": [
    "## Constantes"
   ]
  },
  {
   "cell_type": "code",
   "execution_count": null,
   "id": "3",
   "metadata": {},
   "outputs": [],
   "source": [
    "NOTEBOOK = 3\n",
    "CLEAN_LOGS = True  # If you want to clean the logs directory\n",
    "SAVE_FIGS = True  # If you want to save the figures.\n",
    "\n",
    "REPORT_EVERY = 10  # To report at the logger\n",
    "PLOT_EVERY = 20\n",
    "MIN_ITER = 1_000\n",
    "MAX_ITER = 5_000  # Max number of iterations for the SGDW\n",
    "BATCH_SIZE = 30\n",
    "PROJ_EVERY = 1\n",
    "TOL = 0.05\n",
    "WASS_DIST_EVERY = 5\n",
    "\n",
    "# MAX_ITER = 50; REPORT_EVERY = 5  # Descomentar para debuguear"
   ]
  },
  {
   "cell_type": "code",
   "execution_count": null,
   "id": "4",
   "metadata": {},
   "outputs": [],
   "source": [
    "import random\n",
    "\n",
    "import numpy as np\n",
    "import torch\n",
    "\n",
    "SEED = 42\n",
    "torch.manual_seed(SEED)\n",
    "torch.cuda.manual_seed(SEED)\n",
    "np.random.seed(SEED)\n",
    "random.seed(SEED)\n",
    "\n",
    "torch.backends.cudnn.deterministic = True"
   ]
  },
  {
   "cell_type": "code",
   "execution_count": null,
   "id": "5",
   "metadata": {},
   "outputs": [],
   "source": [
    "from pathlib import Path\n",
    "from icecream import ic\n",
    "\n",
    "\n",
    "DS_NAME = \"data\"\n",
    "\n",
    "CURR_PATH = Path().absolute()\n",
    "ic(CURR_PATH)\n",
    "BASE_PATH = CURR_PATH.parent.parent\n",
    "ic(BASE_PATH)\n",
    "DATA_PATH = BASE_PATH / \"data\"\n",
    "ic(DATA_PATH)\n",
    "WGAN_PATH = BASE_PATH / \"wgan_gp\"\n",
    "ic(WGAN_PATH)\n",
    "NETS_PATH = WGAN_PATH / \"networks\"\n",
    "ic(NETS_PATH)\n",
    "IMGS_PATH = CURR_PATH / \"imgs\" / f\"notebook-{NOTEBOOK:02d}\"\n",
    "IMGS_PATH.mkdir(parents=True, exist_ok=True)\n",
    "ic(IMGS_PATH)"
   ]
  },
  {
   "cell_type": "code",
   "execution_count": null,
   "id": "6",
   "metadata": {},
   "outputs": [],
   "source": [
    "def save_fig(fig_, name_to_save: str) -> None:\n",
    "    \"\"\"\n",
    "    Saves a figure using the name\n",
    "    \"\"\"\n",
    "    if SAVE_FIGS:\n",
    "        PATH_TO_SAVE = IMGS_PATH / name_to_save\n",
    "        fig_.savefig(PATH_TO_SAVE.with_suffix(\".pdf\"))\n",
    "        fig_.savefig(PATH_TO_SAVE.with_suffix(\".png\"))"
   ]
  },
  {
   "cell_type": "markdown",
   "id": "7",
   "metadata": {
    "jp-MarkdownHeadingCollapsed": true
   },
   "source": [
    "## Importaciones generales"
   ]
  },
  {
   "cell_type": "code",
   "execution_count": null,
   "id": "8",
   "metadata": {},
   "outputs": [],
   "source": [
    "from icecream import ic\n",
    "from bwb.sgdw import sgdw\n",
    "from bwb.sgdw import wrappers\n",
    "from bwb.sgdw import plotters\n",
    "from bwb.distributions import *"
   ]
  },
  {
   "cell_type": "markdown",
   "id": "9",
   "metadata": {
    "jp-MarkdownHeadingCollapsed": true
   },
   "source": [
    "## Configuraciones "
   ]
  },
  {
   "cell_type": "code",
   "execution_count": null,
   "id": "10",
   "metadata": {},
   "outputs": [],
   "source": [
    "from bwb.config import conf\n",
    "\n",
    "conf.use_gpu()\n",
    "conf.use_single_precision()\n",
    "conf.set_eps(1e-16)\n",
    "conf"
   ]
  },
  {
   "cell_type": "markdown",
   "id": "11",
   "metadata": {
    "jp-MarkdownHeadingCollapsed": true
   },
   "source": [
    "## Configuración del Logger"
   ]
  },
  {
   "cell_type": "code",
   "execution_count": null,
   "id": "12",
   "metadata": {},
   "outputs": [],
   "source": [
    "import time\n",
    "from pathlib import Path\n",
    "\n",
    "\n",
    "# Create the logs directory\n",
    "LOG_PATH = (\n",
    "    Path(\"logs\")\n",
    "    / f\"notebook-{NOTEBOOK:02d}_{time.strftime('%Y%m%d_%H%M%S')}.log\"\n",
    ")\n",
    "if not LOG_PATH.parent.exists():\n",
    "    LOG_PATH.parent.mkdir()\n",
    "\n",
    "# Clean the logs\n",
    "if CLEAN_LOGS:\n",
    "    for log_file in Path(\"logs\").glob(f\"notebook-{NOTEBOOK:02d}*.log\"):\n",
    "        log_file.unlink()"
   ]
  },
  {
   "cell_type": "code",
   "execution_count": null,
   "id": "13",
   "metadata": {},
   "outputs": [],
   "source": [
    "import logging\n",
    "from bwb.logging_ import log_config\n",
    "\n",
    "\n",
    "# Remove the handlers\n",
    "log_config.remove_all_handlers()\n",
    "ic(log_config.loggers)\n",
    "\n",
    "# Define and add FileHandler\n",
    "fh = logging.FileHandler(LOG_PATH)\n",
    "log_config.add_handler(fh)\n",
    "\n",
    "\n",
    "_log = log_config.get_logger(\"notebook\")\n",
    "log_config.set_level(level=logging.DEBUG, name=\"notebook\")\n",
    "log_config.set_level(level=logging.DEBUG, name=\"bwb.sgdw.sgdw\")\n",
    "log_config.set_level(level=logging.DEBUG, name=\"bwb.sgdw.utils\")\n",
    "log_config.set_level(level=logging.DEBUG, name=\"bwb.sgdw.plotters\")\n",
    "log_config.set_level(level=logging.DEBUG, name=\"bwb.sgdw.wrappers\")"
   ]
  },
  {
   "cell_type": "markdown",
   "id": "14",
   "metadata": {},
   "source": [
    "Esta celda es para configurar la información mostrada en el logger"
   ]
  },
  {
   "cell_type": "code",
   "execution_count": null,
   "id": "15",
   "metadata": {},
   "outputs": [],
   "source": [
    "# Set the default options for the report\n",
    "wrappers.ReportProxy.INCLUDE_OPTIONS = wrappers.ReportOptions(\n",
    "    dt=False,\n",
    "    dt_per_iter=True,\n",
    "    iter=True,\n",
    "    step_schd=True,\n",
    "    total_time=True,\n",
    "    w_dist=True,\n",
    ")"
   ]
  },
  {
   "cell_type": "markdown",
   "id": "16",
   "metadata": {
    "jp-MarkdownHeadingCollapsed": true
   },
   "source": [
    "## Obtención del dataset"
   ]
  },
  {
   "cell_type": "code",
   "execution_count": null,
   "id": "17",
   "metadata": {},
   "outputs": [],
   "source": [
    "# You can use the wrapper to transform the usual DataSet into a model set\n",
    "from bwb.distributions.models import ModelDataset\n",
    "import quick_torch as qt\n",
    "import torchvision.transforms.v2 as T\n",
    "\n",
    "transform_ds = T.Compose([\n",
    "    T.Resize((32, 32)),\n",
    "    T.ToImage(),\n",
    "    T.ToDtype(conf.dtype, scale=True),\n",
    "    T.Lambda(lambda x: x.squeeze()),\n",
    "])\n",
    "\n",
    "\n",
    "def get_ds(file_path: Path, transform=transform_ds) -> ModelDataset:\n",
    "    \"\"\"\n",
    "    Get a dataset to follow the interface\n",
    "    \"\"\"\n",
    "    ic(file_path)\n",
    "    categories = [qt.Category.FACE]\n",
    "    dataset_ = qt.QuickDraw(\n",
    "        root=DATA_PATH,\n",
    "        categories=categories,\n",
    "        transform=transform,\n",
    "        download=True,\n",
    "        recognized=True,\n",
    "    )\n",
    "    path_dataset = Path(file_path)\n",
    "    dataset_.data = np.load(path_dataset).reshape(-1, 28, 28)\n",
    "    dataset_.targets = np.ones(len(dataset_.data), dtype=int)\n",
    "    dataset = dataset_.get_train_data()\n",
    "    ic(len(dataset))\n",
    "\n",
    "    return ModelDataset(dataset)\n",
    "\n",
    "\n",
    "DS_PATH = WGAN_PATH / \"dataset\" / \"cleaned\" / f\"{DS_NAME}.npy\"\n",
    "ds_models = get_ds(DS_PATH)\n",
    "\n",
    "ds_models.get(0)"
   ]
  },
  {
   "cell_type": "code",
   "execution_count": null,
   "id": "18",
   "metadata": {},
   "outputs": [],
   "source": [
    "ds_models"
   ]
  },
  {
   "cell_type": "markdown",
   "id": "19",
   "metadata": {
    "jp-MarkdownHeadingCollapsed": true
   },
   "source": [
    "## Obtener GAN"
   ]
  },
  {
   "cell_type": "markdown",
   "id": "20",
   "metadata": {},
   "source": [
    "De la misma manera, se puede definir un muestreador de distribuciones utilizando una GAN. Para ello, empezamos definiendo las redes neuronales a utilizar"
   ]
  },
  {
   "cell_type": "code",
   "execution_count": null,
   "id": "21",
   "metadata": {},
   "outputs": [],
   "source": [
    "from wgan_gp.wgan_gp_vae.model_resnet import (\n",
    "    Generator,\n",
    "    Encoder,\n",
    "    LatentDistribution,\n",
    ")\n",
    "import torch\n",
    "from wgan_gp.wgan_gp_vae.utils import load_checkpoint\n",
    "\n",
    "\n",
    "device = conf.device\n",
    "\n",
    "NOISE = \"norm\"\n",
    "LATENT_DIM = 128\n",
    "CHANNELS_IMG = 1\n",
    "NUM_FILTERS = [256, 128, 64, 32]\n",
    "\n",
    "noise_sampler = LatentDistribution(NOISE, LATENT_DIM, device)\n",
    "\n",
    "\n",
    "G = Generator(LATENT_DIM, CHANNELS_IMG, latent_distr=NOISE).to(device)\n",
    "E = Encoder(LATENT_DIM, CHANNELS_IMG).to(device)\n",
    "\n",
    "DS_NAME = \"data\"\n",
    "FACE_PATH = NETS_PATH / f\"cleaned_{DS_NAME}_zDim{LATENT_DIM}_{NOISE}_bs_128\"\n",
    "ic(FACE_PATH)\n",
    "\n",
    "load_checkpoint(G, FACE_PATH, \"generator\", device)\n",
    "load_checkpoint(E, FACE_PATH, \"encoder\", device)\n",
    "\n",
    "G.eval()\n",
    "E.eval()\n",
    "print()"
   ]
  },
  {
   "cell_type": "code",
   "execution_count": null,
   "id": "22",
   "metadata": {},
   "outputs": [],
   "source": [
    "noise_sampler"
   ]
  },
  {
   "cell_type": "code",
   "execution_count": null,
   "id": "23",
   "metadata": {},
   "outputs": [],
   "source": [
    "from bwb.distributions import DistributionDraw\n",
    "from torchvision import disable_beta_transforms_warning\n",
    "\n",
    "disable_beta_transforms_warning()\n",
    "\n",
    "import torchvision.transforms.v2 as T\n",
    "\n",
    "\n",
    "z = noise_sampler(1)\n",
    "m = G(z)\n",
    "\n",
    "transform_in = T.Compose([\n",
    "    T.Lambda(lambda x: x / torch.max(x)),\n",
    "    T.ToPILImage(),\n",
    "    T.Resize(32),\n",
    "    T.ToImage(),\n",
    "    T.ConvertImageDtype(conf.dtype),\n",
    "    T.Normalize((0.5,), (0.5,)),\n",
    "])\n",
    "\n",
    "transform_out_ = T.Compose([\n",
    "    T.ToDtype(conf.dtype),\n",
    "    T.Lambda(lambda x: x.squeeze()),\n",
    "    T.Lambda(lambda x: x - torch.min(x)),\n",
    "    T.Lambda(lambda x: x / torch.sum(x)),\n",
    "])\n",
    "\n",
    "transform_out = T.Compose([\n",
    "    transform_out_,\n",
    "    T.Lambda(lambda x: DistributionDraw.from_grayscale_weights(x)),\n",
    "])\n",
    "\n",
    "\n",
    "out: DistributionDraw = transform_out(m)\n",
    "print(out.dtype)\n",
    "out"
   ]
  },
  {
   "cell_type": "markdown",
   "id": "24",
   "metadata": {
    "jp-MarkdownHeadingCollapsed": true
   },
   "source": [
    "## Definir Proyector"
   ]
  },
  {
   "cell_type": "code",
   "execution_count": null,
   "id": "25",
   "metadata": {},
   "outputs": [],
   "source": [
    "from wgan_gp.wgan_gp_vae.utils import ProjectorOnManifold\n",
    "import torchvision.transforms.v2 as T\n",
    "\n",
    "transform_in_proj = T.Compose([\n",
    "    # From pdf to grayscale\n",
    "    T.Lambda(lambda x: x / torch.max(x)),\n",
    "    T.ToPILImage(),\n",
    "    T.Resize((32, 32)),\n",
    "    T.ToImage(),\n",
    "    T.ToDtype(conf.dtype, scale=True),\n",
    "    T.Normalize(\n",
    "        [0.5 for _ in range(1)],\n",
    "        [0.5 for _ in range(1)],\n",
    "    ),\n",
    "])\n",
    "\n",
    "transform_out_proj = T.Compose([\n",
    "    # Ensure the range is in [0, 1]\n",
    "    T.Lambda(lambda x: x - torch.min(x)),\n",
    "    T.Lambda(lambda x: x / torch.max(x)),\n",
    "    T.Lambda(lambda x: x / torch.sum(x)),\n",
    "    T.Lambda(lambda x: x.squeeze(0)),\n",
    "])\n",
    "\n",
    "_proj = ProjectorOnManifold(\n",
    "    E,\n",
    "    G,\n",
    "    transform_in=transform_in_proj,\n",
    "    transform_out=transform_out_proj,\n",
    ")\n",
    "\n",
    "\n",
    "def proj(input_: torch.Tensor) -> torch.Tensor:\n",
    "    \"\"\"\n",
    "    Defines a projector using the interface.\n",
    "    \"\"\"\n",
    "    return _proj(input_).to(input_)"
   ]
  },
  {
   "cell_type": "markdown",
   "id": "26",
   "metadata": {
    "jp-MarkdownHeadingCollapsed": true
   },
   "source": [
    "## Definir $\\gamma_k$"
   ]
  },
  {
   "cell_type": "markdown",
   "id": "27",
   "metadata": {},
   "source": [
    "Aquí se utiliza una función de la forma\n",
    "\\begin{equation*}\n",
    "    \\gamma_k = \\frac{a}{(b^{1/c} + k)^c}\n",
    "\\end{equation*}\n",
    "\n",
    "Con $a > 0$, $b \\geq 0$ y $0.5 < c \\leq 1$\n",
    "\n",
    "La idea es que cuando $k = 0 $, $\\gamma_0 = \\frac{a}{b}$ es la proporción entre $a$ y $b$, permitiendo ajustar el valor\n",
    " inicial."
   ]
  },
  {
   "cell_type": "code",
   "execution_count": null,
   "id": "28",
   "metadata": {},
   "outputs": [],
   "source": [
    "from bwb.sgdw.utils import step_scheduler\n",
    "\n",
    "window = 5\n",
    "\n",
    "\n",
    "def test_gamma(gamma_) -> None:\n",
    "\n",
    "    for t in range(window):\n",
    "        print(f\"{t = :_}; {gamma_(t) = :.2%}\")\n",
    "    print()\n",
    "\n",
    "    init = 50\n",
    "    for t in range(init, init + window):\n",
    "        print(f\"{t = :_}; {gamma_(t) = :.2%}\")\n",
    "    print()\n",
    "\n",
    "    init = 100\n",
    "    for t in range(init, init + window):\n",
    "        print(f\"{t = :_}; {gamma_(t) = :.2%}\")\n",
    "    print()\n",
    "\n",
    "    init = 300\n",
    "    for t in range(init, init + window):\n",
    "        print(f\"{t = :_}; {gamma_(t) = :.2%}\")\n",
    "    print()\n",
    "\n",
    "    init = 500\n",
    "    for t in range(init, init + window):\n",
    "        print(f\"{t = :_}; {gamma_(t) = :.2%}\")\n",
    "    print()\n",
    "\n",
    "    init = 1_000\n",
    "    for t in range(init, init + window):\n",
    "        print(f\"{t = :_}; {gamma_(t) = :.2%}\")\n",
    "    print()\n",
    "\n",
    "    init = 3_000\n",
    "    for t in range(init, init + window):\n",
    "        print(f\"{t = :_}; {gamma_(t) = :.2%}\")\n",
    "    print()\n",
    "\n",
    "    init = 5_000\n",
    "    for t in range(init, init + window):\n",
    "        print(f\"{t = :_}; {gamma_(t) = :.2%}\")\n",
    "    print()\n",
    "\n",
    "\n",
    "_a = 3\n",
    "_eps = 1e-2\n",
    "params = dict(a=_a, b=_a + 1e-2, c=0.5 + _eps)\n",
    "params_interp = dict(a=_a, b=_a + 1e-2, c=0.5 + _eps / 10)\n",
    "# params = dict(a=1, b=1, c=1)\n",
    "\n",
    "gamma = step_scheduler(**params)\n",
    "# gamma = 0.1\n",
    "\n",
    "test_gamma(step_scheduler(**params))"
   ]
  },
  {
   "cell_type": "markdown",
   "id": "29",
   "metadata": {},
   "source": [
    "# Baricentro de imágenes"
   ]
  },
  {
   "cell_type": "markdown",
   "id": "30",
   "metadata": {},
   "source": [
    "Para obtener el baricentro de un conjunto de imágenes, es necesario utilizar la clase `UniformDiscreteSampler` y fijarla con una clase que tenga los siguientes métodos:\n",
    "* `get(i) -> Distribution` que retorne la distribución $i$-ésima.\n",
    "* `__len__() -> int` que retorne el tamaño del dataset."
   ]
  },
  {
   "cell_type": "code",
   "execution_count": null,
   "id": "31",
   "metadata": {},
   "outputs": [],
   "source": [
    "distr_sampler = UniformDiscreteSampler[DistributionDraw]().fit(models=ds_models)"
   ]
  },
  {
   "cell_type": "markdown",
   "id": "32",
   "metadata": {},
   "source": [
    "Luego definimos el algoritmo a utilizar. En este caso, utilizaremos `DebiesedDistributionDrawSGDW` que realiza los transportes utilizando un método convolución debiesed. "
   ]
  },
  {
   "cell_type": "code",
   "execution_count": null,
   "id": "33",
   "metadata": {},
   "outputs": [],
   "source": [
    "def print_x(x: dict) -> None:\n",
    "    print(x.keys())\n",
    "\n",
    "\n",
    "def register_wass_dist():\n",
    "    k_lst = []\n",
    "    wass_dist_lst = []\n",
    "    wass_dist_smooth_lst = []\n",
    "\n",
    "    def _register_wass_dist(x: dict) -> None:\n",
    "        if \"wass_dist\" in x:\n",
    "            k_lst.append(x[\"k\"])\n",
    "            wass_dist_lst.append(x[\"wass_dist\"])\n",
    "            wass_dist_smooth_lst.append(x[\"wass_dist_smooth\"])\n",
    "\n",
    "    return _register_wass_dist, k_lst, wass_dist_lst, wass_dist_smooth_lst\n",
    "\n",
    "\n",
    "def register_key(key: str, map_=lambda x: x):\n",
    "    elements = []\n",
    "\n",
    "    def _register(x: dict) -> None:\n",
    "        if key not in x:\n",
    "            print(f\"{key} not found. Available keys: {list(x.keys())}\")\n",
    "            return None\n",
    "        elements.append(map_(x[key]))\n",
    "\n",
    "    return _register, elements\n",
    "\n",
    "\n",
    "def register_distr():\n",
    "    return register_key(\n",
    "        \"pos_wgt\",\n",
    "        lambda pos_wgt: DistributionDraw.from_grayscale_weights(pos_wgt),\n",
    "    )\n",
    "\n",
    "\n",
    "def register_pos_wgt_sampled():\n",
    "    return register_key(\n",
    "        \"lst_mu\",\n",
    "        lambda lst_mu: [mu.grayscale_weights for mu in lst_mu],\n",
    "    )\n",
    "\n",
    "\n",
    "def mix_callbacks(callbacks: list):\n",
    "    def _callback(x: dict) -> None:\n",
    "        for callback in callbacks:\n",
    "            callback(x)\n",
    "\n",
    "    return _callback\n",
    "\n",
    "\n",
    "# register_wass_dist_callback, k_lst, wass_dist_lst, wass_dist_smooth_lst = (\n",
    "#     register_wass_dist()\n",
    "# )\n",
    "# register_pos_wgt_callback, pos_wgt_lst_ = register_key(\"pos_wgt\")\n",
    "# register_pos_wgt_proj_callback, pos_wgt_proj_lst_ = register_key(\"pos_wgt_proj\")\n",
    "# register_pos_wgt_proj_interp_callback, pos_wgt_proj_interp_lst = (\n",
    "#     register_key(\"pos_wgt_proj_interp\")\n",
    "# )  # fmt: skip\n",
    "# register_pos_wgt_sampled_callback, pos_wgt_sampled_lst = (\n",
    "#     register_pos_wgt_sampled()\n",
    "# )\n",
    "# callback_ = mix_callbacks([\n",
    "#     # print_x,\n",
    "#     register_wass_dist_callback,\n",
    "#     register_pos_wgt_callback,\n",
    "#     register_pos_wgt_proj_callback,\n",
    "#     register_pos_wgt_proj_interp_callback,\n",
    "#     register_pos_wgt_sampled_callback,\n",
    "# ])"
   ]
  },
  {
   "cell_type": "code",
   "execution_count": null,
   "id": "34",
   "metadata": {},
   "outputs": [],
   "source": [
    "import matplotlib.pyplot as plt\n",
    "from matplotlib.figure import Figure\n",
    "from matplotlib.axes import Axes\n",
    "import numpy.typing as npt\n",
    "import itertools\n",
    "import typing as t\n",
    "\n",
    "\n",
    "def plot_comparison[\n",
    "    SGDWT: sgdw.SGDW[DistributionDraw, torch.Tensor]\n",
    "](\n",
    "    sgdw_: SGDWT,\n",
    "    plot_every: int | None = None,\n",
    "    n_cols: int = 12,\n",
    "    n_rows: int = 2,\n",
    "    factor: float = 1.5,\n",
    "    cmap: str = \"binary\",\n",
    "    **kwargs,\n",
    ") -> (t.Callable[..., tuple[Figure, npt.NDArray[Axes]]] | None):\n",
    "    if plot_every is None:\n",
    "        return None\n",
    "\n",
    "    if plot_every < n_rows * n_cols:\n",
    "        raise ValueError(\n",
    "            f\"The plot_every must be greater than {n_rows * n_cols = }.\"\n",
    "        )\n",
    "\n",
    "    projected, interpolated = False, False\n",
    "    if isinstance(sgdw_, wrappers.SGDWProjectedDecorator):\n",
    "        projected: bool = True\n",
    "        sgdw_: wrappers.SGDWProjectedDecorator\n",
    "        interpolated: bool = sgdw_.interp_strategy is not None\n",
    "\n",
    "    # Previous callback to be decorated\n",
    "    previous_callback = sgdw_.callback\n",
    "\n",
    "    # Needed callbacks for this plotter\n",
    "    pos_wgt_callback, pos_wgt = register_key(\"pos_wgt\")\n",
    "    pos_wgt: list[torch.Tensor]\n",
    "\n",
    "    pos_wgt_samp_callback, pos_wgt_samp = register_key(\"lst_mu\")\n",
    "    pos_wgt_samp: list[list[DistributionDraw]]\n",
    "\n",
    "    pos_wgt_proj_callback, pos_wgt_proj = lambda x: None, []\n",
    "    if projected:\n",
    "        pos_wgt_proj_callback, pos_wgt_proj = register_key(\"pos_wgt_proj\")\n",
    "    pos_wgt_proj: list[torch.Tensor]\n",
    "\n",
    "    pos_wgt_proj_interp_callback, pos_wgt_proj_interp = lambda x: None, []\n",
    "    if interpolated:\n",
    "        pos_wgt_proj_interp_callback, pos_wgt_proj_interp = register_key(\n",
    "            \"pos_wgt_proj_interp\"\n",
    "        )\n",
    "    pos_wgt_proj_interp: list[torch.Tensor]\n",
    "\n",
    "    # The decorated callback\n",
    "    decorated_callback = mix_callbacks([\n",
    "        previous_callback,\n",
    "        pos_wgt_callback,\n",
    "        pos_wgt_samp_callback,\n",
    "        pos_wgt_proj_callback,\n",
    "        pos_wgt_proj_interp_callback,\n",
    "    ])\n",
    "\n",
    "    def plot_fn(\n",
    "        init: int = None,\n",
    "        n_rows: int = n_rows,\n",
    "        n_cols: int = n_cols,\n",
    "    ) -> tuple[Figure, npt.NDArray[Axes]]:\n",
    "        max_imgs = n_cols * n_rows\n",
    "        max_k = sgdw_.iter_params.k\n",
    "        init = max_k - max_imgs if init is None else init\n",
    "        if init < 0:\n",
    "            raise ValueError(\"The init must be greater than 0\")\n",
    "        if init > max_k - max_imgs:\n",
    "            raise ValueError(\n",
    "                f\"The init must be less than {max_k - max_imgs}. \"\n",
    "                f\"Currently: {init = }\"\n",
    "            )\n",
    "\n",
    "        rows_per_iter = 2\n",
    "        if projected:\n",
    "            rows_per_iter += 1\n",
    "        if interpolated:\n",
    "            rows_per_iter += 1\n",
    "        row, col = n_rows * rows_per_iter, n_cols\n",
    "\n",
    "        fig, ax = plt.subplots(\n",
    "            row,\n",
    "            col,\n",
    "            figsize=(col * factor, row * factor),\n",
    "            subplot_kw={\"xticks\": [], \"yticks\": []},\n",
    "        )\n",
    "        fig: Figure\n",
    "\n",
    "        title = \"SGDW\" if not projected else \"Projected SGDW\"\n",
    "        fig.suptitle(kwargs.get(\"title\", title))\n",
    "\n",
    "        for i, j in itertools.product(range(n_rows), range(n_cols)):\n",
    "            k = init + i * n_cols + j\n",
    "            gamma_k = sgdw_.schd.step_schedule(k)\n",
    "\n",
    "            ax0: Axes = ax[rows_per_iter * i, j]\n",
    "            ax1: Axes = ax[rows_per_iter * i + 1, j]\n",
    "            if projected:\n",
    "                ax2: Axes = ax[rows_per_iter * i + 2, j]\n",
    "            if interpolated:\n",
    "                ax3: Axes = ax[rows_per_iter * i + 3, j]\n",
    "\n",
    "            # Label the y-axis\n",
    "            if j == 0:\n",
    "                ax0.set_ylabel(f\"Sample\")\n",
    "                ax1.set_ylabel(f\"Step\")\n",
    "                if projected:\n",
    "                    ax2.set_ylabel(f\"Projected\")\n",
    "                if interpolated:\n",
    "                    ax3.set_ylabel(f\"Interpolated\")\n",
    "\n",
    "            # Plot the sample\n",
    "            fig_sample: DistributionDraw = pos_wgt_samp[k][0]\n",
    "            ax0.imshow(fig_sample.image, cmap=cmap)\n",
    "            ax0.set_title(\n",
    "                f\"$k={k}$\",\n",
    "                size=\"x-small\",\n",
    "            )\n",
    "\n",
    "            # Plot the step\n",
    "            fig_step: DistributionDraw = sgdw_.as_distribution(pos_wgt[k])\n",
    "            ax1.imshow(fig_step.image, cmap=cmap)\n",
    "            ax1.set_title(\n",
    "                f\"$\\\\text{{step}}_k={gamma_k * 100:.1f}\\\\%$\",\n",
    "                size=\"x-small\",\n",
    "            )\n",
    "\n",
    "            # Plot the projected\n",
    "            if projected:\n",
    "                fig_proj: DistributionDraw = sgdw_.as_distribution(\n",
    "                    pos_wgt_proj[k]\n",
    "                )\n",
    "                ax2.imshow(fig_proj.image, cmap=cmap)\n",
    "\n",
    "            if interpolated:\n",
    "                # Plot the interpolated\n",
    "                fig_interp: DistributionDraw = sgdw_.as_distribution(\n",
    "                    pos_wgt_proj_interp[k]\n",
    "                )\n",
    "                ax3.imshow(fig_interp.image, cmap=cmap)\n",
    "                interp_k = sgdw_.interp_step_schd(k)\n",
    "                ax3.set_title(\n",
    "                    f\"$\\\\text{{interp}}_k={interp_k * 100:.1f}\\\\%$\",\n",
    "                    size=\"x-small\",\n",
    "                )\n",
    "\n",
    "        plt.tight_layout()\n",
    "\n",
    "        plt.show()\n",
    "\n",
    "        return fig, ax\n",
    "\n",
    "    def plot_callback(x: dict) -> None:\n",
    "        decorated_callback(x)\n",
    "\n",
    "        if x[\"k\"] > 0 and x[\"k\"] % plot_every == 0:\n",
    "            plot_fn()\n",
    "\n",
    "    sgdw_.callback = plot_callback\n",
    "\n",
    "    return plot_fn"
   ]
  },
  {
   "cell_type": "code",
   "execution_count": null,
   "id": "35",
   "metadata": {},
   "outputs": [],
   "source": [
    "dist_draw_sgdw = sgdw.DistributionDrawSGDW(\n",
    "    distr_sampler=distr_sampler,\n",
    "    step_scheduler=step_scheduler(**params),\n",
    "    batch_size=BATCH_SIZE,\n",
    "    max_iter=MAX_ITER,\n",
    "    tol=TOL,\n",
    "    wass_dist_every=WASS_DIST_EVERY,\n",
    "    # callback=print_x,\n",
    ")\n",
    "\n",
    "dist_draw_sgdw = wrappers.ReportProxy(\n",
    "    dist_draw_sgdw,\n",
    "    report_every=REPORT_EVERY,\n",
    "    log=_log,\n",
    ")\n",
    "\n",
    "dist_draw_sgdw = wrappers.SGDWProjectedDecorator(\n",
    "    dist_draw_sgdw,\n",
    "    projector=proj,\n",
    "    project_every=PROJ_EVERY,\n",
    "    interp_strategy=\"geodesic\",\n",
    "    # interp_strategy=\"linear\",\n",
    "    interp_step_schd=step_scheduler(**params_interp),\n",
    ")\n",
    "dist_draw_sgdw"
   ]
  },
  {
   "cell_type": "markdown",
   "id": "36",
   "metadata": {},
   "source": [
    "Definimos una clase para comparar las imágenes de las muestras con la iteración del algoritmo."
   ]
  },
  {
   "cell_type": "code",
   "execution_count": null,
   "id": "37",
   "metadata": {},
   "outputs": [],
   "source": [
    "plot_fn = plot_comparison(\n",
    "    dist_draw_sgdw,\n",
    "    plot_every=8,  # PLOT_EVERY,\n",
    "    n_cols=8,\n",
    "    n_rows=1,\n",
    "    cmap=\"binary_r\",\n",
    ")"
   ]
  },
  {
   "cell_type": "code",
   "execution_count": null,
   "id": "38",
   "metadata": {},
   "outputs": [],
   "source": [
    "_log.info(f\"Running SGD-Wasserstein with '{DS_NAME}' DS barycenter\")\n",
    "bar_ds = dist_draw_sgdw.run()"
   ]
  },
  {
   "cell_type": "code",
   "execution_count": null,
   "id": "39",
   "metadata": {},
   "outputs": [],
   "source": []
  },
  {
   "cell_type": "code",
   "execution_count": null,
   "id": "40",
   "metadata": {},
   "outputs": [],
   "source": []
  },
  {
   "cell_type": "code",
   "execution_count": null,
   "id": "41",
   "metadata": {},
   "outputs": [],
   "source": []
  },
  {
   "cell_type": "code",
   "execution_count": null,
   "id": "42",
   "metadata": {},
   "outputs": [],
   "source": []
  },
  {
   "cell_type": "code",
   "execution_count": null,
   "id": "43",
   "metadata": {},
   "outputs": [],
   "source": []
  },
  {
   "cell_type": "code",
   "execution_count": null,
   "id": "44",
   "metadata": {},
   "outputs": [],
   "source": []
  },
  {
   "cell_type": "code",
   "execution_count": null,
   "id": "45",
   "metadata": {},
   "outputs": [],
   "source": [
    "plotter_comp = plotter_comp_ds = plotters.PlotterComparisonProjected(\n",
    "    dist_draw_sgdw,\n",
    "    projector=proj,\n",
    "    proj_every=PROJ_EVERY,\n",
    "    n_cols=8,\n",
    "    n_rows=2,\n",
    "    cmap=\"binary_r\",\n",
    "    plot_every=PLOT_EVERY,\n",
    "    proj_kwargs=dict(\n",
    "        interp_strategy=\"geodesic\",\n",
    "        # interp_strategy=\"linear\",\n",
    "        interp_step_schd=step_scheduler(**params_interp),\n",
    "    ),\n",
    ")\n",
    "plotter_comp.sgdw"
   ]
  },
  {
   "cell_type": "code",
   "execution_count": null,
   "id": "46",
   "metadata": {},
   "outputs": [],
   "source": [
    "_log.info(f\"Running SGD-Wasserstein with '{DS_NAME}' DS barycenter\")\n",
    "bar_ds = plotter_comp.run()"
   ]
  },
  {
   "cell_type": "code",
   "execution_count": null,
   "id": "47",
   "metadata": {},
   "outputs": [],
   "source": [
    "plotter_comp.sgdw"
   ]
  },
  {
   "cell_type": "markdown",
   "id": "48",
   "metadata": {},
   "source": [
    "Obtenemos una visualización de las primeras imágenes."
   ]
  },
  {
   "cell_type": "code",
   "execution_count": null,
   "id": "49",
   "metadata": {},
   "outputs": [],
   "source": [
    "fig, _ = plotter_comp.plot(0)\n",
    "save_fig(fig, \"first-iters-DS\")"
   ]
  },
  {
   "cell_type": "markdown",
   "id": "50",
   "metadata": {},
   "source": [
    "Obtenemos una visualización de las últimas imágenes."
   ]
  },
  {
   "cell_type": "code",
   "execution_count": null,
   "id": "51",
   "metadata": {},
   "outputs": [],
   "source": [
    "fig, _ = plotter_comp.plot()\n",
    "save_fig(fig, \"last-iters-DS\")"
   ]
  },
  {
   "cell_type": "code",
   "execution_count": null,
   "id": "52",
   "metadata": {},
   "outputs": [],
   "source": [
    "import bwb.utils.plotters as utils_plotters\n",
    "\n",
    "fig, _ = utils_plotters.plot_draw(bar_ds, title=\"Baricentro Proyectado del DS\")\n",
    "# save_fig(fig, \"bar-GAN\")"
   ]
  },
  {
   "cell_type": "markdown",
   "id": "53",
   "metadata": {},
   "source": [
    "# Baricentro de la GAN"
   ]
  },
  {
   "cell_type": "markdown",
   "id": "54",
   "metadata": {},
   "source": [
    "## Definir el algoritmo"
   ]
  },
  {
   "cell_type": "code",
   "execution_count": null,
   "id": "55",
   "metadata": {},
   "outputs": [],
   "source": [
    "distr_sampler = GeneratorDistribSampler()\n",
    "distr_sampler.fit(\n",
    "    generator=G,\n",
    "    noise_sampler=noise_sampler,\n",
    "    transform_out=transform_out_,\n",
    ")\n",
    "distr_sampler.draw()"
   ]
  },
  {
   "cell_type": "code",
   "execution_count": null,
   "id": "56",
   "metadata": {},
   "outputs": [],
   "source": [
    "dist_draw_sgdw = sgdw.DistributionDrawSGDW(\n",
    "    distr_sampler=distr_sampler,\n",
    "    step_scheduler=step_scheduler(**params),\n",
    "    batch_size=BATCH_SIZE,\n",
    "    max_iter=MAX_ITER,\n",
    "    tol=TOL,\n",
    "    wass_dist_every=WASS_DIST_EVERY,\n",
    ")\n",
    "\n",
    "dist_draw_sgdw = wrappers.LogWassDistProxy(dist_draw_sgdw)\n",
    "iterations, wass_dist_list, wass_dist_smoothed_list = dist_draw_sgdw.get_lists()\n",
    "\n",
    "dist_draw_sgdw = wrappers.ReportProxy(\n",
    "    dist_draw_sgdw, report_every=REPORT_EVERY, log=_log\n",
    ")\n",
    "dist_draw_sgdw"
   ]
  },
  {
   "cell_type": "markdown",
   "id": "57",
   "metadata": {},
   "source": [
    "Definimos una clase para comparar las imágenes de las muestras con la iteración del algoritmo."
   ]
  },
  {
   "cell_type": "code",
   "execution_count": null,
   "id": "58",
   "metadata": {},
   "outputs": [],
   "source": [
    "plotter_comp = plotters.PlotterComparisonProjected(\n",
    "    dist_draw_sgdw,\n",
    "    projector=proj,\n",
    "    proj_every=PROJ_EVERY,\n",
    "    n_cols=8,\n",
    "    n_rows=2,\n",
    "    cmap=\"binary_r\",\n",
    "    plot_every=PLOT_EVERY,\n",
    "    proj_kwargs=dict(\n",
    "        interp_strategy=\"geodesic\",\n",
    "        # interp_strategy=\"linear\",\n",
    "        interp_step_schd=step_scheduler(**params_interp),\n",
    "    ),\n",
    ")\n",
    "plotter_comp.sgdw"
   ]
  },
  {
   "cell_type": "markdown",
   "id": "59",
   "metadata": {},
   "source": [
    "### Celda para correr algoritmo"
   ]
  },
  {
   "cell_type": "code",
   "execution_count": null,
   "id": "60",
   "metadata": {},
   "outputs": [],
   "source": [
    "_log.info(f\"Running SGD-Wasserstein with '{DS_NAME}' GAN barycenter\")\n",
    "bar_gan = plotter_comp.run()\n",
    "plotter_comp.sgdw"
   ]
  },
  {
   "cell_type": "markdown",
   "id": "61",
   "metadata": {},
   "source": [
    "Obtenemos una visualización de las primeras imágenes."
   ]
  },
  {
   "cell_type": "code",
   "execution_count": null,
   "id": "62",
   "metadata": {},
   "outputs": [],
   "source": [
    "fig, _ = plotter_comp.plot(0)\n",
    "save_fig(fig, \"first-iters-GAN\")"
   ]
  },
  {
   "cell_type": "markdown",
   "id": "63",
   "metadata": {},
   "source": [
    "Obtenemos una visualización de las últimas imágenes."
   ]
  },
  {
   "cell_type": "code",
   "execution_count": null,
   "id": "64",
   "metadata": {},
   "outputs": [],
   "source": [
    "fig, _ = plotter_comp.plot()\n",
    "save_fig(fig, \"last-iters-GAN\")"
   ]
  },
  {
   "cell_type": "code",
   "execution_count": null,
   "id": "65",
   "metadata": {},
   "outputs": [],
   "source": [
    "import bwb.utils.plotters as utils_plotters\n",
    "\n",
    "fig, _ = utils_plotters.plot_draw(\n",
    "    bar_gan, title=\"Baricentro Proyectado de la GAN\"\n",
    ")\n",
    "# save_fig(fig, \"bar-GAN\")"
   ]
  },
  {
   "cell_type": "code",
   "execution_count": null,
   "id": "66",
   "metadata": {
    "jupyter": {
     "is_executing": true
    }
   },
   "outputs": [],
   "source": [
    "wass_distance(bar_ds, bar_gan)"
   ]
  },
  {
   "cell_type": "code",
   "execution_count": null,
   "id": "67",
   "metadata": {},
   "outputs": [],
   "source": []
  }
 ],
 "metadata": {
  "kernelspec": {
   "display_name": "Python 3 (ipykernel)",
   "language": "python",
   "name": "python3"
  },
  "language_info": {
   "codemirror_mode": {
    "name": "ipython",
    "version": 3
   },
   "file_extension": ".py",
   "mimetype": "text/x-python",
   "name": "python",
   "nbconvert_exporter": "python",
   "pygments_lexer": "ipython3",
   "version": "3.12.2"
  }
 },
 "nbformat": 4,
 "nbformat_minor": 5
}
