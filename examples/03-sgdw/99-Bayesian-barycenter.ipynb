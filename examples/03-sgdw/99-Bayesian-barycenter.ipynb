{
 "cells": [
  {
   "cell_type": "markdown",
   "id": "6f59cb01-efd8-48f7-b6bc-9b67f1ced43e",
   "metadata": {},
   "source": [
    "# TODO\n",
    "* [ ] Agregar el ejemplo utilizando una GAN\n",
    "* [ ] Correrlo con `max_iter = 5_000`\n",
    "* [ ] Hacer la versión Batch\n",
    "* [ ] Hacer la versión proyectada"
   ]
  },
  {
   "cell_type": "markdown",
   "id": "0cfe4cf1-8f6c-4af3-a395-2e43430f854a",
   "metadata": {},
   "source": [
    "Notebook que sirve de ejemplo para calcular el baricentro de un conjunto de datos de imágenes."
   ]
  },
  {
   "cell_type": "markdown",
   "id": "18accc3d-c586-48f9-9dc5-ad6c8bbcab59",
   "metadata": {},
   "source": [
    "# Configuraciones iniciales"
   ]
  },
  {
   "cell_type": "markdown",
   "id": "86787770-4c79-4e3a-bdae-af5790c12954",
   "metadata": {},
   "source": [
    "## Constantes"
   ]
  },
  {
   "cell_type": "code",
   "execution_count": 1,
   "id": "de03d0be-7e95-401a-bcbc-36d8b9cab4ee",
   "metadata": {},
   "outputs": [],
   "source": [
    "CLEAN_LOGS = True  # If you want to clean the logs directory\n",
    "SAVE_FIGS = True  # If you want to save the figures.\n",
    "\n",
    "# MCMC Configurations\n",
    "RUN_MCMC = False\n",
    "BURN = 5_000\n",
    "NUM_SAMPLES = 50_000\n",
    "N_WALKERS = 32\n",
    "\n",
    "N_DATA = 25\n",
    "S_k = 5  # Batch size\n",
    "REPORT_EVERY = 100  # To report at the logger\n",
    "MAX_ITER = 5_000  # MAx number of iterations for the SGDW\n",
    "MAX_ITER_PROJ = MAX_ITER\n",
    "MAX_IMGS = 22 * 4\n",
    "# MAX_ITER = MAX_IMGS; REPORT_EVERY = 5  # Descomentar para debuguear\n",
    "# MAX_ITER = MAX_IMGS  # Descomentar para debuguear"
   ]
  },
  {
   "cell_type": "code",
   "execution_count": 2,
   "id": "a9ac8eb0-51f8-4fbb-be06-184e9c370133",
   "metadata": {},
   "outputs": [],
   "source": [
    "import torch\n",
    "import numpy as np\n",
    "import random\n",
    "\n",
    "SEED = 42\n",
    "torch.manual_seed(SEED)\n",
    "torch.cuda.manual_seed(SEED)\n",
    "np.random.seed(SEED)\n",
    "random.seed(SEED)\n",
    "\n",
    "torch.backends.cudnn.deterministic = True"
   ]
  },
  {
   "cell_type": "code",
   "execution_count": 3,
   "id": "538087dd-b25b-4689-a5cd-4e47475e6344",
   "metadata": {},
   "outputs": [
    {
     "name": "stderr",
     "output_type": "stream",
     "text": [
      "ic| CURR_PATH: PosixPath('/home/fmunoz/codeProjects/pythonProjects/Bayesian-Learning-with-Wasserstein-Barycenters/examples/03-sgdw')\n",
      "ic| BASE_PATH: PosixPath('/home/fmunoz/codeProjects/pythonProjects/Bayesian-Learning-with-Wasserstein-Barycenters')\n",
      "ic| DATA_PATH: PosixPath('/home/fmunoz/codeProjects/pythonProjects/Bayesian-Learning-with-Wasserstein-Barycenters/data')\n",
      "ic| WGAN_PATH: PosixPath('/home/fmunoz/codeProjects/pythonProjects/Bayesian-Learning-with-Wasserstein-Barycenters/wgan_gp')\n",
      "ic| NETS_PATH: PosixPath('/home/fmunoz/codeProjects/pythonProjects/Bayesian-Learning-with-Wasserstein-Barycenters/wgan_gp/networks')\n",
      "ic| IMGS_PATH: PosixPath('/home/fmunoz/codeProjects/pythonProjects/Bayesian-Learning-with-Wasserstein-Barycenters/examples/03-sgdw/imgs/notebook-03')\n",
      "ic| MCMC_PATH: PosixPath('/home/fmunoz/codeProjects/pythonProjects/Bayesian-Learning-with-Wasserstein-Barycenters/saved_mcmc')\n",
      "ic| NUTS_PATH: PosixPath('/home/fmunoz/codeProjects/pythonProjects/Bayesian-Learning-with-Wasserstein-Barycenters/saved_mcmc/NUTS')\n"
     ]
    },
    {
     "data": {
      "text/plain": [
       "PosixPath('/home/fmunoz/codeProjects/pythonProjects/Bayesian-Learning-with-Wasserstein-Barycenters/saved_mcmc/NUTS')"
      ]
     },
     "execution_count": 3,
     "metadata": {},
     "output_type": "execute_result"
    }
   ],
   "source": [
    "from pathlib import Path\n",
    "from icecream import ic\n",
    "\n",
    "\n",
    "DS_NAME = \"data\"\n",
    "\n",
    "CURR_PATH = Path().absolute()\n",
    "ic(CURR_PATH)\n",
    "BASE_PATH = CURR_PATH.parent.parent\n",
    "ic(BASE_PATH)\n",
    "DATA_PATH = BASE_PATH / \"data\"\n",
    "ic(DATA_PATH)\n",
    "WGAN_PATH = BASE_PATH / \"wgan_gp\"\n",
    "ic(WGAN_PATH)\n",
    "NETS_PATH = WGAN_PATH / \"networks\" \n",
    "ic(NETS_PATH)\n",
    "IMGS_PATH = CURR_PATH / \"imgs\" / \"notebook-03\"\n",
    "IMGS_PATH.mkdir(parents=True, exist_ok=True)\n",
    "ic(IMGS_PATH)\n",
    "MCMC_PATH = BASE_PATH / \"saved_mcmc\"\n",
    "ic(MCMC_PATH)\n",
    "NUTS_PATH = MCMC_PATH / \"NUTS\"\n",
    "ic(NUTS_PATH)"
   ]
  },
  {
   "cell_type": "code",
   "execution_count": 4,
   "id": "0d5422ba-1e22-48d7-a40a-791398c1923a",
   "metadata": {},
   "outputs": [
    {
     "data": {
      "text/plain": [
       "Config(dtype=torch.float32, device=cuda:0, eps=1.00e-20)"
      ]
     },
     "execution_count": 4,
     "metadata": {},
     "output_type": "execute_result"
    }
   ],
   "source": [
    "from bwb.config import conf\n",
    "\n",
    "conf.use_half_precision()\n",
    "conf.set_eps(1e-20)\n",
    "conf"
   ]
  },
  {
   "cell_type": "markdown",
   "id": "e576a636-2d5d-49b1-baca-d8b401256a93",
   "metadata": {
    "jp-MarkdownHeadingCollapsed": true
   },
   "source": [
    "## Importaciones generales"
   ]
  },
  {
   "cell_type": "code",
   "execution_count": 5,
   "id": "643da47f-b8a7-4528-bef4-1341c98a9182",
   "metadata": {},
   "outputs": [],
   "source": [
    "from bwb import utils\n",
    "from bwb.sgdw import sgdw\n",
    "from bwb.distributions import *\n",
    "from bwb.transports import *\n",
    "import torch\n",
    "import bwb.plotters as plotters\n",
    "import bwb.sgdw.plotters as sgdw_plotters\n",
    "import matplotlib.pyplot as plt\n",
    "from bwb.distributions.posterior_samplers import NUTSPosteriorSampler"
   ]
  },
  {
   "cell_type": "markdown",
   "id": "cc5a2c2b-3058-4f25-b977-2a76b6044eea",
   "metadata": {
    "jp-MarkdownHeadingCollapsed": true
   },
   "source": [
    "## Configuración del Logger"
   ]
  },
  {
   "cell_type": "code",
   "execution_count": 6,
   "id": "cddce309-5b4c-46f0-8522-f01d42ed3314",
   "metadata": {},
   "outputs": [],
   "source": [
    "import time\n",
    "from pathlib import Path\n",
    "\n",
    "\n",
    "# Create the logs directory\n",
    "LOG_PATH = Path(\"logs\") / f\"notebook_{time.strftime('%Y%m%d_%H%M%S')}.log\"\n",
    "if not LOG_PATH.parent.exists():\n",
    "    LOG_PATH.parent.mkdir()\n",
    "\n",
    "# Clean the logs\n",
    "if CLEAN_LOGS:\n",
    "    for log_file in Path(\"logs\").glob(\"*.log\"):\n",
    "        log_file.unlink()"
   ]
  },
  {
   "cell_type": "code",
   "execution_count": 7,
   "id": "c22b2dfe-f81b-44f6-922e-840e513c2d3b",
   "metadata": {},
   "outputs": [],
   "source": [
    "import logging as logging_\n",
    "import bwb._logging as logging\n",
    "from bwb._logging import log_config\n",
    "\n",
    "\n",
    "# Remove the handlers\n",
    "log_config.remove_all_handlers()\n",
    "\n",
    "# Define and add FileHandler\n",
    "fh = logging_.FileHandler(LOG_PATH)\n",
    "log_config.set_default_formatter(fh)\n",
    "log_config.add_handler(fh)\n",
    "\n",
    "\n",
    "_log = log_config.get_logger(\"notebook\")\n",
    "log_config.set_level(level=logging.DEBUG, name=\"notebook\")\n",
    "log_config.set_level(level=logging.INFO, name=\"bwb.utils\")\n",
    "log_config.set_level(level=logging.DEBUG, name=\"bwb.sgdw.sgdw\")\n",
    "log_config.set_level(level=logging.DEBUG, name=\"bwb.sgdw.plotters\")\n",
    "log_config.set_level(level=logging.INFO, name=\"bwb.transports\")"
   ]
  },
  {
   "cell_type": "markdown",
   "id": "94af2ebd-36f1-47e8-906e-da081fc3d9ba",
   "metadata": {},
   "source": [
    "Esta celda es para configurar la información mostrada en el logger"
   ]
  },
  {
   "cell_type": "code",
   "execution_count": 8,
   "id": "49f04546-5b2a-46da-8c07-c76bb6d35503",
   "metadata": {},
   "outputs": [],
   "source": [
    "# Set the default options for the report\n",
    "INCLUDE_OPTIONS: sgdw.ReportOptions = {\n",
    "    \"dt\": False,\n",
    "    \"dt_per_iter\": True,\n",
    "    \"iter\": True,\n",
    "    \"step_schd\": True,\n",
    "    \"total_time\": True,\n",
    "    \"w_dist\": False,\n",
    "}\n",
    "\n",
    "sgdw.Report.INCLUDE_OPTIONS = INCLUDE_OPTIONS"
   ]
  },
  {
   "cell_type": "markdown",
   "id": "daa78db9-fc48-400a-952c-247ebabc9b02",
   "metadata": {},
   "source": [
    "## Obtención del dataset"
   ]
  },
  {
   "cell_type": "code",
   "execution_count": 9,
   "id": "42edc32e-7dcd-44a0-ba17-e51542c6598a",
   "metadata": {},
   "outputs": [
    {
     "name": "stderr",
     "output_type": "stream",
     "text": [
      "ic| file_path: PosixPath('/home/fmunoz/codeProjects/pythonProjects/Bayesian-Learning-with-Wasserstein-Barycenters/wgan_gp/dataset/cleaned/data.npy')\n",
      "ic| len(dataset): 195479\n"
     ]
    },
    {
     "data": {
      "image/png": "[encoded data removed]",
      "text/plain": [
       "<Figure size 640x480 with 1 Axes>"
      ]
     },
     "metadata": {},
     "output_type": "display_data"
    }
   ],
   "source": [
    "# You can use the wrapper to transform the usual DataSet into a model set\n",
    "from bwb.distributions.models import ModelDataset\n",
    "from bwb.distributions.distribution_samplers import UniformDiscreteSampler\n",
    "import quick_torch as qt\n",
    "import torchvision.transforms.v2 as T\n",
    "\n",
    "transform_ds = T.Compose([\n",
    "    T.Resize((32, 32)),\n",
    "    T.ToImage(),\n",
    "    T.ToDtype(torch.float32, scale=True),\n",
    "    T.Lambda(lambda x: x.squeeze()),\n",
    "])\n",
    "\n",
    "def get_ds(file_path, transform=transform_ds):\n",
    "    ic(file_path)\n",
    "    categories = [qt.Category.FACE]\n",
    "    dataset_ = qt.QuickDraw(\n",
    "        root=DATA_PATH,\n",
    "        categories=categories,\n",
    "        transform=transform,\n",
    "        download=True,\n",
    "        recognized=True,\n",
    "    )\n",
    "    path_dataset = Path(file_path)\n",
    "    dataset_.data = np.load(path_dataset).reshape(-1, 28, 28)\n",
    "    dataset_.targets = np.ones(len(dataset_.data), dtype=int)\n",
    "    dataset = dataset_.get_train_data()\n",
    "    ic(len(dataset))\n",
    "\n",
    "    return ModelDataset(dataset)\n",
    "\n",
    "DS_PATH = WGAN_PATH / \"dataset\" / \"cleaned\" / f\"{DS_NAME}.npy\"\n",
    "ds_models = get_ds(DS_PATH)\n",
    "ds_dist_sampler = UniformDiscreteSampler().fit(ds_models)\n",
    "\n",
    "first_face = ds_models.get(0)\n",
    "fig, _ = plotters.plot_draw(first_face, title=\"First face\")"
   ]
  },
  {
   "cell_type": "code",
   "execution_count": 10,
   "id": "95f08e57-4588-48db-9555-85fda1b07d1d",
   "metadata": {},
   "outputs": [
    {
     "name": "stdout",
     "output_type": "stream",
     "text": [
      "/home/fmunoz/codeProjects/pythonProjects/Bayesian-Learning-with-Wasserstein-Barycenters/examples/03-sgdw/imgs/notebook-03/first_face\n"
     ]
    }
   ],
   "source": [
    "if SAVE_FIGS:\n",
    "    PATH_TO_SAVE = IMGS_PATH / f\"first_face\"\n",
    "    print(PATH_TO_SAVE)\n",
    "    fig.savefig(PATH_TO_SAVE.with_suffix(\".pdf\"))\n",
    "    fig.savefig(PATH_TO_SAVE.with_suffix(\".png\"))"
   ]
  },
  {
   "cell_type": "markdown",
   "id": "dc3b5943-b533-44ab-bdca-931086be3f35",
   "metadata": {},
   "source": [
    "## Obtener data"
   ]
  },
  {
   "cell_type": "code",
   "execution_count": 11,
   "id": "7379c4f8-233b-4275-a06a-03d56271f6ad",
   "metadata": {},
   "outputs": [
    {
     "data": {
      "image/png": "[encoded data removed]",
      "text/plain": [
       "<Figure size 640x480 with 2 Axes>"
      ]
     },
     "metadata": {},
     "output_type": "display_data"
    }
   ],
   "source": [
    "data = first_face.sample((1_000,))[:N_DATA]\n",
    "\n",
    "shape = first_face.shape\n",
    "data_coords = first_face.enumerate_support_()[data].cpu().numpy() + np.random.randn(len(data), 2) * 0.1\n",
    "\n",
    "plotters.plot_histogram_from_points(data_coords, rotate=True, shape=shape, histplot_kwargs=dict(bins=shape[0]))\n",
    "plt.show()"
   ]
  },
  {
   "cell_type": "markdown",
   "id": "d1c33550-df10-44a9-ba48-ebf72632904d",
   "metadata": {
    "jp-MarkdownHeadingCollapsed": true
   },
   "source": [
    "## Importar las redes neuronales"
   ]
  },
  {
   "cell_type": "code",
   "execution_count": 12,
   "id": "54fd8bb6-b749-48ac-8faf-b1b625e7bdce",
   "metadata": {},
   "outputs": [
    {
     "name": "stderr",
     "output_type": "stream",
     "text": [
      "ic| FACE_PATH: PosixPath('/home/fmunoz/codeProjects/pythonProjects/Bayesian-Learning-with-Wasserstein-Barycenters/wgan_gp/networks/cleaned_data_zDim128_norm_bs_128')\n"
     ]
    },
    {
     "name": "stdout",
     "output_type": "stream",
     "text": [
      "\n"
     ]
    }
   ],
   "source": [
    "from wgan_gp.wgan_gp_vae.model_resnet import Generator, Encoder, LatentDistribution\n",
    "import torch\n",
    "from wgan_gp.wgan_gp_vae.utils import load_checkpoint\n",
    "\n",
    "\n",
    "device = torch.device(\"cuda\" if torch.cuda.is_available() else \"cpu\")\n",
    "\n",
    "NOISE = \"norm\"\n",
    "LATENT_DIM = 128\n",
    "CHANNELS_IMG = 1\n",
    "NUM_FILTERS = [256, 128, 64, 32]\n",
    "\n",
    "noise_sampler = LatentDistribution(NOISE, LATENT_DIM, device)\n",
    "\n",
    "\n",
    "G = Generator(LATENT_DIM, CHANNELS_IMG, latent_distr=NOISE).to(device)\n",
    "E = Encoder(LATENT_DIM, CHANNELS_IMG).to(device)\n",
    "\n",
    "DS_NAME = \"data\"\n",
    "FACE_PATH = NETS_PATH / f\"cleaned_{DS_NAME}_zDim{LATENT_DIM}_{NOISE}_bs_128\"\n",
    "ic(FACE_PATH)\n",
    "\n",
    "load_checkpoint(G, FACE_PATH, \"generator\", device)\n",
    "load_checkpoint(E, FACE_PATH, \"encoder\", device)\n",
    "\n",
    "G.eval(); E.eval()\n",
    "print()"
   ]
  },
  {
   "cell_type": "code",
   "execution_count": 13,
   "id": "16b7fa9a-e3e8-4ca1-9b32-6c198ae499d1",
   "metadata": {},
   "outputs": [
    {
     "data": {
      "text/plain": [
       "LatentDistribution(name=norm, z_dim=128, device=cuda)"
      ]
     },
     "execution_count": 13,
     "metadata": {},
     "output_type": "execute_result"
    }
   ],
   "source": [
    "noise_sampler"
   ]
  },
  {
   "cell_type": "code",
   "execution_count": 14,
   "id": "e185e80b-9215-4bdb-9f41-35a734417045",
   "metadata": {},
   "outputs": [
    {
     "name": "stdout",
     "output_type": "stream",
     "text": [
      "torch.float64\n"
     ]
    },
    {
     "data": {
      "image/png": "[encoded data removed]",
      "text/plain": [
       "DistributionDraw(shape: (32, 32), device: cuda:0, dtype: torch.float64)"
      ]
     },
     "execution_count": 14,
     "metadata": {},
     "output_type": "execute_result"
    }
   ],
   "source": [
    "from bwb.distributions import DistributionDraw\n",
    "from torchvision import disable_beta_transforms_warning\n",
    "disable_beta_transforms_warning()\n",
    "\n",
    "import torchvision.transforms.v2 as T\n",
    "\n",
    "\n",
    "z = noise_sampler(1)\n",
    "m = G(z)\n",
    "\n",
    "transform_in = T.Compose([\n",
    "    T.Lambda(lambda x: x / torch.max(x)),\n",
    "    T.ToPILImage(),\n",
    "    T.Resize(32),\n",
    "    T.ToImage(),\n",
    "    T.ConvertImageDtype(torch.float32),\n",
    "    T.Normalize((0.5,), (0.5,)),\n",
    "])\n",
    "\n",
    "transform_out_ = T.Compose([\n",
    "    T.ToDtype(torch.float64),\n",
    "    T.Lambda(lambda x: x.squeeze()),\n",
    "    T.Lambda(lambda x: x - torch.min(x)),\n",
    "    T.Lambda(lambda x: x / torch.sum(x)),\n",
    "])\n",
    "\n",
    "transform_out = T.Compose([\n",
    "    transform_out_,\n",
    "    T.Lambda(lambda x: DistributionDraw.from_grayscale_weights(x)),\n",
    "])\n",
    "\n",
    "out: DistributionDraw = transform_out(m)\n",
    "print(out.dtype)\n",
    "out"
   ]
  },
  {
   "cell_type": "markdown",
   "id": "77e3daf4-44cd-4e7e-bbfc-929a680204bd",
   "metadata": {
    "jp-MarkdownHeadingCollapsed": true
   },
   "source": [
    "## Proyector"
   ]
  },
  {
   "cell_type": "code",
   "execution_count": 15,
   "id": "f7c2fcf9-704d-446c-82b2-edc41b7118c3",
   "metadata": {},
   "outputs": [],
   "source": [
    "from wgan_gp.wgan_gp_vae.utils import ProjectorOnManifold\n",
    "import torchvision.transforms as T\n",
    "\n",
    "transform_in_proj = T.Compose([\n",
    "    # From pdf to grayscale\n",
    "    T.Lambda(lambda x: x / torch.max(x)),\n",
    "    T.ToPILImage(),\n",
    "    T.Resize((32, 32)),\n",
    "    T.ToTensor(),\n",
    "    T.Normalize(\n",
    "        [0.5 for _ in range(1)],\n",
    "        [0.5 for _ in range(1)],\n",
    "    ),\n",
    "])\n",
    "\n",
    "transform_out_proj = T.Compose([\n",
    "    # Ensure the range is in [0, 1]\n",
    "    T.Lambda(lambda x: x - torch.min(x)),\n",
    "    T.Lambda(lambda x: x / torch.max(x)),\n",
    "    T.Lambda(lambda x: x / torch.sum(x)),\n",
    "    T.Lambda(lambda x: x.squeeze(0)),\n",
    "])\n",
    "\n",
    "proj = ProjectorOnManifold(\n",
    "    E, G, \n",
    "    transform_in=transform_in_proj,\n",
    "    transform_out=transform_out_proj,\n",
    ")"
   ]
  },
  {
   "cell_type": "markdown",
   "id": "d9c2a6c4-97a3-4e83-b541-20261b42901e",
   "metadata": {},
   "source": [
    "## Definir $\\gamma_k$"
   ]
  },
  {
   "cell_type": "markdown",
   "id": "088c6165-8de8-4d9f-957a-6ce6e426e3db",
   "metadata": {},
   "source": [
    "Aquí se utiliza una función de la forma\n",
    "\\begin{equation*}\n",
    "    \\gamma_k = \\frac{a}{(b^{1/c} + k)^c}\n",
    "\\end{equation*}\n",
    "\n",
    "Con $a > 0$, $b \\geq 0$ y $0.5 < c \\leq 1$\n",
    "\n",
    "La idea es que cuando $k=0$, $\\gamma_0 = \\frac{a}{b}$ es la proporción entre $a$ y $b$, permitiendo ajustar el valor inicial."
   ]
  },
  {
   "cell_type": "code",
   "execution_count": 16,
   "id": "5232d728-ef6f-4343-a131-daf967bac268",
   "metadata": {},
   "outputs": [
    {
     "name": "stdout",
     "output_type": "stream",
     "text": [
      "t = 0; gamma(t) = 99.67%\n",
      "t = 1; gamma(t) = 94.55%\n",
      "t = 2; gamma(t) = 90.15%\n",
      "t = 3; gamma(t) = 86.31%\n",
      "t = 4; gamma(t) = 82.93%\n",
      "\n",
      "t = 50; gamma(t) = 38.89%\n",
      "t = 51; gamma(t) = 38.57%\n",
      "t = 52; gamma(t) = 38.25%\n",
      "t = 53; gamma(t) = 37.94%\n",
      "t = 54; gamma(t) = 37.63%\n",
      "\n",
      "t = 100; gamma(t) = 28.60%\n",
      "t = 101; gamma(t) = 28.47%\n",
      "t = 102; gamma(t) = 28.34%\n",
      "t = 103; gamma(t) = 28.21%\n",
      "t = 104; gamma(t) = 28.09%\n",
      "\n",
      "t = 300; gamma(t) = 16.97%\n",
      "t = 301; gamma(t) = 16.94%\n",
      "t = 302; gamma(t) = 16.91%\n",
      "t = 303; gamma(t) = 16.89%\n",
      "t = 304; gamma(t) = 16.86%\n",
      "\n",
      "t = 500; gamma(t) = 13.21%\n",
      "t = 501; gamma(t) = 13.20%\n",
      "t = 502; gamma(t) = 13.19%\n",
      "t = 503; gamma(t) = 13.18%\n",
      "t = 504; gamma(t) = 13.16%\n",
      "\n",
      "t = 1_000; gamma(t) = 9.38%\n",
      "t = 1_001; gamma(t) = 9.37%\n",
      "t = 1_002; gamma(t) = 9.37%\n",
      "t = 1_003; gamma(t) = 9.37%\n",
      "t = 1_004; gamma(t) = 9.36%\n",
      "\n",
      "t = 3_000; gamma(t) = 5.43%\n",
      "t = 3_001; gamma(t) = 5.42%\n",
      "t = 3_002; gamma(t) = 5.42%\n",
      "t = 3_003; gamma(t) = 5.42%\n",
      "t = 3_004; gamma(t) = 5.42%\n",
      "\n",
      "t = 5_000; gamma(t) = 4.20%\n",
      "t = 5_001; gamma(t) = 4.20%\n",
      "t = 5_002; gamma(t) = 4.20%\n",
      "t = 5_003; gamma(t) = 4.20%\n",
      "t = 5_004; gamma(t) = 4.20%\n",
      "\n"
     ]
    }
   ],
   "source": [
    "from bwb.sgdw.utils import step_scheduler\n",
    "window = 5\n",
    "\n",
    "def test_gamma(gamma):\n",
    "\n",
    "    for t in range(window):\n",
    "        print(f\"{t = :_}; {gamma(t) = :.2%}\")\n",
    "    print()\n",
    "\n",
    "    init = 50\n",
    "    for t in range(init, init+window):\n",
    "        print(f\"{t = :_}; {gamma(t) = :.2%}\")\n",
    "    print()\n",
    "\n",
    "    init = 100\n",
    "    for t in range(init, init+window):\n",
    "        print(f\"{t = :_}; {gamma(t) = :.2%}\")\n",
    "    print()\n",
    "\n",
    "    init = 300\n",
    "    for t in range(init, init+window):\n",
    "        print(f\"{t = :_}; {gamma(t) = :.2%}\")\n",
    "    print()\n",
    "\n",
    "    init = 500\n",
    "    for t in range(init, init+window):\n",
    "        print(f\"{t = :_}; {gamma(t) = :.2%}\")\n",
    "    print()\n",
    "\n",
    "    init = 1_000\n",
    "    for t in range(init, init+window):\n",
    "        print(f\"{t = :_}; {gamma(t) = :.2%}\")\n",
    "    print()\n",
    "\n",
    "    init = 3_000\n",
    "    for t in range(init, init+window):\n",
    "        print(f\"{t = :_}; {gamma(t) = :.2%}\")\n",
    "    print()\n",
    "\n",
    "    init = 5_000\n",
    "    for t in range(init, init+window):\n",
    "        print(f\"{t = :_}; {gamma(t) = :.2%}\")\n",
    "    print()\n",
    "\n",
    "_a = 3\n",
    "_eps = 1e-3\n",
    "params = dict(a=_a, b=_a+1e-2, c=0.5+_eps)\n",
    "# params = dict(a=1, b=1, c=1)\n",
    "\n",
    "gamma = step_scheduler(**params)\n",
    "\n",
    "test_gamma(step_scheduler(**params))"
   ]
  },
  {
   "cell_type": "markdown",
   "id": "4c01ddea-c42c-419a-9889-5392f30ae0c6",
   "metadata": {},
   "source": [
    "## Definir distribución posterior con MCMC"
   ]
  },
  {
   "cell_type": "code",
   "execution_count": 17,
   "id": "9c51600f-086c-4839-92e8-5e5fdc540f0b",
   "metadata": {},
   "outputs": [
    {
     "name": "stdout",
     "output_type": "stream",
     "text": [
      "/home/fmunoz/codeProjects/pythonProjects/Bayesian-Learning-with-Wasserstein-Barycenters/saved_mcmc/NUTS/bayes-bar-n_data-25-burn-5_000-num_samples-150_000-n_walkers-32.pkl.gz\n",
      "/home/fmunoz/codeProjects/pythonProjects/Bayesian-Learning-with-Wasserstein-Barycenters/examples/03-sgdw/n_data-25.pkl\n"
     ]
    }
   ],
   "source": [
    "NUTS_POSTERIOR_PATH = NUTS_PATH / f\"bayes-bar-n_data-{N_DATA}-burn-{BURN:_}-num_samples-{NUM_SAMPLES:_}-n_walkers-{N_WALKERS}\"\n",
    "NUTS_POSTERIOR_PATH = NUTS_POSTERIOR_PATH.with_suffix(\".pkl.gz\")\n",
    "print(NUTS_POSTERIOR_PATH)\n",
    "\n",
    "DATA_PATH_ = CURR_PATH / f\"n_data-{N_DATA}.pkl\"\n",
    "print(DATA_PATH_)"
   ]
  },
  {
   "cell_type": "code",
   "execution_count": null,
   "id": "f4ef0cfd-233f-48e6-9d8c-77218abb9ce0",
   "metadata": {},
   "outputs": [
    {
     "name": "stdout",
     "output_type": "stream",
     "text": [
      "Sampling (Sampler.HMC; Integrator.IMPLICIT)\n",
      "Time spent  | Time remain.| Progress             | Samples       | Samples/sec\n",
      "Final Adapted Step Size:  0.09793058782815933--- |   4989/155000 | 52.74       \n",
      "0d:00:51:27 | 0d:00:00:00 | #################### | 155000/155000 | 50.21       \n",
      "Acceptance Rate 0.65\n",
      "Sampling (Sampler.HMC; Integrator.IMPLICIT)\n",
      "Time spent  | Time remain.| Progress             | Samples       | Samples/sec\n",
      "Final Adapted Step Size:  0.08599875122308731--- |   4996/155000 | 57.00       \n",
      "0d:00:45:31 | 0d:00:00:00 | #################### | 155000/155000 | 56.75       \n",
      "Acceptance Rate 0.69\n",
      "Sampling (Sampler.HMC; Integrator.IMPLICIT)\n",
      "Time spent  | Time remain.| Progress             | Samples       | Samples/sec\n",
      "Final Adapted Step Size:  0.08113796263933182--- |   4995/155000 | 66.87       \n",
      "0d:00:48:02 | 0d:00:00:00 | #################### | 155000/155000 | 53.77       \n",
      "Acceptance Rate 0.71\n",
      "Sampling (Sampler.HMC; Integrator.IMPLICIT)\n",
      "Time spent  | Time remain.| Progress             | Samples       | Samples/sec\n",
      "Final Adapted Step Size:  0.11366334557533264--- |   4982/155000 | 72.52       \n",
      "0d:00:36:07 | 0d:00:00:00 | #################### | 155000/155000 | 71.52       \n",
      "Acceptance Rate 0.61\n",
      "Sampling (Sampler.HMC; Integrator.IMPLICIT)\n",
      "Time spent  | Time remain.| Progress             | Samples       | Samples/sec\n",
      "Final Adapted Step Size:  0.07706048339605331--- |   4994/155000 | 70.44       \n",
      "0d:00:39:55 | 0d:00:00:00 | #################### | 155000/155000 | 64.69       \n",
      "Acceptance Rate 0.72\n",
      "Sampling (Sampler.HMC; Integrator.IMPLICIT)\n",
      "Time spent  | Time remain.| Progress             | Samples       | Samples/sec\n",
      "Final Adapted Step Size:  0.09901919215917587--- |   4997/155000 | 53.47       \n",
      "0d:00:40:10 | 0d:00:00:00 | #################### | 155000/155000 | 64.31       \n",
      "Acceptance Rate 0.65\n",
      "Sampling (Sampler.HMC; Integrator.IMPLICIT)\n",
      "Time spent  | Time remain.| Progress             | Samples       | Samples/sec\n",
      "Final Adapted Step Size:  0.10909685492515564--- |   5000/155000 | 67.84       \n",
      "0d:00:38:08 | 0d:00:00:00 | #################### | 155000/155000 | 67.72       \n",
      "Acceptance Rate 0.63\n",
      "Sampling (Sampler.HMC; Integrator.IMPLICIT)\n",
      "Time spent  | Time remain.| Progress             | Samples       | Samples/sec\n",
      "Final Adapted Step Size:  0.09925394505262375--- |   4986/155000 | 61.43       \n",
      "0d:00:40:00 | 0d:00:00:00 | #################### | 155000/155000 | 64.57       \n",
      "Acceptance Rate 0.65\n",
      "Sampling (Sampler.HMC; Integrator.IMPLICIT)\n",
      "Time spent  | Time remain.| Progress             | Samples       | Samples/sec\n",
      "Final Adapted Step Size:  0.11277233064174652--- |   4996/155000 | 71.47       \n",
      "0d:00:39:18 | 0d:00:00:00 | #################### | 155000/155000 | 65.73       \n",
      "Acceptance Rate 0.61\n",
      "Sampling (Sampler.HMC; Integrator.IMPLICIT)\n",
      "Time spent  | Time remain.| Progress             | Samples       | Samples/sec\n",
      "Final Adapted Step Size:  0.10262232273817062--- |   4989/155000 | 58.41       \n",
      "0d:00:41:58 | 0d:00:00:00 | #################### | 155000/155000 | 61.54       \n",
      "Acceptance Rate 0.64\n",
      "Sampling (Sampler.HMC; Integrator.IMPLICIT)\n",
      "Time spent  | Time remain.| Progress             | Samples       | Samples/sec\n",
      "Final Adapted Step Size:  0.07212234288454056--- |   4993/155000 | 71.77       \n",
      "0d:00:41:38 | 0d:00:00:00 | #################### | 155000/155000 | 62.04       \n",
      "Acceptance Rate 0.73\n",
      "Sampling (Sampler.HMC; Integrator.IMPLICIT)\n",
      "Time spent  | Time remain.| Progress             | Samples       | Samples/sec\n",
      "Final Adapted Step Size:  0.1004030704498291---- |   4987/155000 | 48.36       \n",
      "0d:00:46:18 | 0d:00:00:00 | #################### | 155000/155000 | 55.79       \n",
      "Acceptance Rate 0.64\n",
      "Sampling (Sampler.HMC; Integrator.IMPLICIT)\n",
      "Time spent  | Time remain.| Progress             | Samples       | Samples/sec\n",
      "Final Adapted Step Size:  0.10514532774686813--- |   4997/155000 | 63.76       \n",
      "0d:00:40:41 | 0d:00:00:00 | #################### | 155000/155000 | 63.48       \n",
      "Acceptance Rate 0.63\n",
      "Sampling (Sampler.HMC; Integrator.IMPLICIT)\n",
      "Time spent  | Time remain.| Progress             | Samples       | Samples/sec\n",
      "Final Adapted Step Size:  0.0660102441906929---- |   4990/155000 | 61.19       \n",
      "0d:00:40:47 | 0d:00:00:00 | #################### | 155000/155000 | 63.33       \n",
      "Acceptance Rate 0.75\n",
      "Sampling (Sampler.HMC; Integrator.IMPLICIT)\n",
      "Time spent  | Time remain.| Progress             | Samples       | Samples/sec\n",
      "Final Adapted Step Size:  0.10667049884796143--- |   4993/155000 | 70.53       \n",
      "0d:00:43:28 | 0d:00:00:00 | #################### | 155000/155000 | 59.41       \n",
      "Acceptance Rate 0.63\n",
      "Sampling (Sampler.HMC; Integrator.IMPLICIT)\n",
      "Time spent  | Time remain.| Progress             | Samples       | Samples/sec\n",
      "Final Adapted Step Size:  0.09350815415382385--- |   4993/155000 | 67.13       \n",
      "0d:00:41:20 | 0d:00:00:00 | #################### | 155000/155000 | 62.50       \n",
      "Acceptance Rate 0.67\n",
      "Sampling (Sampler.HMC; Integrator.IMPLICIT)\n",
      "Time spent  | Time remain.| Progress             | Samples       | Samples/sec\n",
      "Final Adapted Step Size:  0.0831201821565628---- |   4999/155000 | 52.64       \n",
      "0d:00:49:45 | 0d:00:00:00 | #################### | 155000/155000 | 51.92       \n",
      "Acceptance Rate 0.70\n",
      "Sampling (Sampler.HMC; Integrator.IMPLICIT)\n",
      "Time spent  | Time remain.| Progress             | Samples       | Samples/sec\n",
      "Final Adapted Step Size:  0.0877729207277298---- |   5000/155000 | 45.73       \n",
      "0d:00:49:52 | 0d:00:00:00 | #################### | 155000/155000 | 51.79       \n",
      "Acceptance Rate 0.69\n",
      "Sampling (Sampler.HMC; Integrator.IMPLICIT)\n",
      "Time spent  | Time remain.| Progress             | Samples       | Samples/sec\n",
      "Final Adapted Step Size:  0.11070592701435089--- |   4997/155000 | 73.40       \n",
      "0d:00:39:37 | 0d:00:00:00 | #################### | 155000/155000 | 65.21       \n",
      "Acceptance Rate 0.61\n",
      "Sampling (Sampler.HMC; Integrator.IMPLICIT)\n",
      "Time spent  | Time remain.| Progress             | Samples       | Samples/sec\n",
      "Final Adapted Step Size:  0.10197640210390091--- |   4996/155000 | 59.66       \n",
      "0d:00:41:53 | 0d:00:00:00 | #################### | 155000/155000 | 61.66       \n",
      "Acceptance Rate 0.64\n",
      "Sampling (Sampler.HMC; Integrator.IMPLICIT)\n",
      "Time spent  | Time remain.| Progress             | Samples       | Samples/sec\n",
      "Final Adapted Step Size:  0.11706139892339706--- |   4982/155000 | 52.75       \n",
      "0d:00:46:20 | 0d:00:00:00 | #################### | 155000/155000 | 55.74       \n",
      "Acceptance Rate 0.61\n",
      "Sampling (Sampler.HMC; Integrator.IMPLICIT)\n",
      "Time spent  | Time remain.| Progress             | Samples       | Samples/sec\n",
      "Final Adapted Step Size:  0.07824006676673889--- |   4986/155000 | 69.16       \n",
      "0d:00:46:42 | 0d:00:00:00 | #################### | 155000/155000 | 55.32       \n",
      "Acceptance Rate 0.72\n",
      "Sampling (Sampler.HMC; Integrator.IMPLICIT)\n",
      "Time spent  | Time remain.| Progress             | Samples       | Samples/sec\n",
      "Final Adapted Step Size:  0.08520886301994324--- |   4993/155000 | 71.49       \n",
      "0d:00:45:52 | 0d:00:00:00 | #################### | 155000/155000 | 56.30       \n",
      "Acceptance Rate 0.70\n",
      "Sampling (Sampler.HMC; Integrator.IMPLICIT)\n",
      "Time spent  | Time remain.| Progress             | Samples       | Samples/sec\n",
      "Final Adapted Step Size:  0.11510499566793442--- |   4995/155000 | 66.78       \n",
      "0d:00:43:16 | 0d:00:00:00 | #################### | 155000/155000 | 59.69       \n",
      "Acceptance Rate 0.61\n",
      "Sampling (Sampler.HMC; Integrator.IMPLICIT)\n",
      "Time spent  | Time remain.| Progress             | Samples       | Samples/sec\n",
      "Final Adapted Step Size:  0.09325408190488815--- |   4985/155000 | 44.55       \n",
      "0d:00:50:19 | 0d:00:00:00 | #################### | 155000/155000 | 51.33       \n",
      "Acceptance Rate 0.67\n",
      "Sampling (Sampler.HMC; Integrator.IMPLICIT)\n",
      "Time spent  | Time remain.| Progress             | Samples       | Samples/sec\n",
      "Final Adapted Step Size:  0.10610053688287735--- |   4999/155000 | 54.27       \n",
      "0d:00:43:37 | 0d:00:00:00 | #################### | 155000/155000 | 59.21       \n",
      "Acceptance Rate 0.62\n",
      "Sampling (Sampler.HMC; Integrator.IMPLICIT)\n",
      "Time spent  | Time remain.| Progress             | Samples       | Samples/sec\n",
      "Final Adapted Step Size:  0.0910295844078064---- |   4984/155000 | 62.23       \n",
      "0d:00:43:30 | 0d:00:00:00 | #################### | 155000/155000 | 59.37       \n",
      "Acceptance Rate 0.68\n",
      "Sampling (Sampler.HMC; Integrator.IMPLICIT)\n",
      "Time spent  | Time remain.| Progress             | Samples       | Samples/sec\n",
      "Final Adapted Step Size:  0.11820495873689651--- |   4997/155000 | 64.69       \n",
      "0d:00:47:23 | 0d:00:00:00 | #################### | 155000/155000 | 54.52       \n",
      "Acceptance Rate 0.60\n",
      "Sampling (Sampler.HMC; Integrator.IMPLICIT)\n",
      "Time spent  | Time remain.| Progress             | Samples       | Samples/sec\n",
      "Final Adapted Step Size:  0.12023849785327911--- |   5000/155000 | 66.11       \n",
      "0d:00:43:26 | 0d:00:00:00 | #################### | 155000/155000 | 59.46       \n",
      "Acceptance Rate 0.59\n",
      "Sampling (Sampler.HMC; Integrator.IMPLICIT)\n",
      "Time spent  | Time remain.| Progress             | Samples       | Samples/sec\n",
      "Final Adapted Step Size:  0.0974799245595932---- |   4988/155000 | 59.58       \n",
      "0d:00:49:00 | 0d:00:00:00 | #################### | 155000/155000 | 52.71       \n",
      "Acceptance Rate 0.65\n",
      "Sampling (Sampler.HMC; Integrator.IMPLICIT)\n",
      "Time spent  | Time remain.| Progress             | Samples       | Samples/sec\n",
      "Final Adapted Step Size:  0.053452301770448685-- |   4990/155000 | 53.08       \n",
      "0d:00:46:39 | 0d:00:00:00 | #################### | 155000/155000 | 55.37       \n",
      "Acceptance Rate 0.80\n",
      "Sampling (Sampler.HMC; Integrator.IMPLICIT)\n",
      "Time spent  | Time remain.| Progress             | Samples       | Samples/sec\n",
      "Final Adapted Step Size:  0.12519165873527527--- |   4989/155000 | 53.90       \n",
      "0d:00:44:43 | 0d:00:00:00 | #################### | 155000/155000 | 57.76       \n",
      "Acceptance Rate 0.58\n"
     ]
    },
    {
     "name": "stderr",
     "output_type": "stream",
     "text": [
      "ic| timer.elapsed_time: 84441.93400895697\n",
      "/home/fmunoz/codeProjects/pythonProjects/Bayesian-Learning-with-Wasserstein-Barycenters/bwb/distributions/distribution_samplers.py:94: RuntimeWarning: The generator_, transform_out_ and noise_sampler_ attributes will not be saved. Use fit method to fit these attributes.\n",
      "  \n"
     ]
    }
   ],
   "source": [
    "import pickle\n",
    "\n",
    "\n",
    "if not NUTS_POSTERIOR_PATH.exists() or RUN_MCMC:\n",
    "    post_pi_n = NUTSPosteriorSampler(\n",
    "        n_walkers=N_WALKERS,\n",
    "        num_steps_per_sample=1,\n",
    "        burn=BURN,\n",
    "        desired_accept_rate=0.6,\n",
    "    ).fit(\n",
    "        G, transform_out_, noise_sampler, data,\n",
    "    )\n",
    "\n",
    "    with logging.register_total_time(_log) as timer:\n",
    "        post_pi_n.run(n_steps=NUM_SAMPLES)\n",
    "    ic(timer.elapsed_time)\n",
    "\n",
    "    with logging.register_total_time(_log) as timer:\n",
    "        post_pi_n.save(NUTS_POSTERIOR_PATH)\n",
    "    ic(timer.elapsed_time)\n",
    "\n",
    "    with open(DATA_PATH_, \"wb\") as f:\n",
    "        pickle.dump(data, f, protocol=pickle.HIGHEST_PROTOCOL)    \n",
    "    \n",
    "else:\n",
    "    if ic(DATA_PATH_.exists()):\n",
    "        with open(DATA_PATH_, \"rb\") as f:\n",
    "            data = pickle.load(f)\n",
    "            \n",
    "    with logging.register_total_time(_log) as timer:\n",
    "        post_pi_n = NUTSPosteriorSampler.load(NUTS_POSTERIOR_PATH)\n",
    "        post_pi_n.fit(G, transform_out_, noise_sampler, data)\n",
    "    ic(timer.elapsed_time)\n",
    "\n",
    "post_pi_n"
   ]
  },
  {
   "cell_type": "code",
   "execution_count": null,
   "id": "3a863e54-77ef-4ea2-87e2-c57d7c3605bf",
   "metadata": {},
   "outputs": [],
   "source": [
    "shape = first_face.shape\n",
    "data_coords = first_face.enumerate_support_()[data].cpu().numpy() + np.random.randn(len(data), 2) * 0.1\n",
    "\n",
    "fig, _ = plotters.plot_histogram_from_points(data_coords, rotate=True, shape=shape, histplot_kwargs=dict(bins=shape[0]))\n",
    "plt.show()"
   ]
  },
  {
   "cell_type": "code",
   "execution_count": null,
   "id": "42f92f5e-484e-49f6-937f-0c3310a7736b",
   "metadata": {},
   "outputs": [],
   "source": [
    "if SAVE_FIGS:\n",
    "    PATH_TO_SAVE = IMGS_PATH / f\"n_data-{N_DATA}\"\n",
    "    print(PATH_TO_SAVE)\n",
    "    fig.savefig(PATH_TO_SAVE.with_suffix(\".pdf\"))\n",
    "    fig.savefig(PATH_TO_SAVE.with_suffix(\".png\"))"
   ]
  },
  {
   "cell_type": "code",
   "execution_count": null,
   "id": "e4b0216d-7696-4794-b7b8-a125c1bbc407",
   "metadata": {},
   "outputs": [],
   "source": [
    "with logging.register_total_time(_log) as timer:\n",
    "    autocorr_time = post_pi_n.get_autocorr_time()\n",
    "ic(timer.elapsed_time)\n",
    "    \n",
    "mean_autocorr_time = int(autocorr_time.mean())\n",
    "ic(mean_autocorr_time)\n",
    "max_autocorr_time = int(autocorr_time.max())\n",
    "ic(max_autocorr_time)\n",
    "\n",
    "post_pi_n.shuffle_samples_cache(thin=int(mean_autocorr_time / 5))"
   ]
  },
  {
   "cell_type": "code",
   "execution_count": null,
   "id": "02b9cc41-d4e7-4d43-83f1-3a90ec2c8fa4",
   "metadata": {},
   "outputs": [],
   "source": [
    "from copy import deepcopy\n",
    "post_pi_n_ = deepcopy(post_pi_n)\n",
    "n_rows, n_cols = 6, 12\n",
    "max_imgs = n_rows * n_cols\n",
    "fig, ax = plotters.plot_list_of_draws(\n",
    "    post_pi_n_.rvs(max_imgs), \n",
    "    n_rows=n_rows, n_cols=n_cols,\n",
    "    title=f\"Samples from the MCMC\"\n",
    ")\n",
    "del post_pi_n_"
   ]
  },
  {
   "cell_type": "code",
   "execution_count": null,
   "id": "c97ebcf1-ac32-407e-9839-725f2da19a83",
   "metadata": {},
   "outputs": [],
   "source": [
    "if SAVE_FIGS:\n",
    "    PATH_TO_SAVE = IMGS_PATH / f\"n-data-{N_DATA}-{post_pi_n.__class__.__name__}-{n_rows}x{n_cols}\"\n",
    "    print(PATH_TO_SAVE)\n",
    "    fig.savefig(PATH_TO_SAVE.with_suffix(\".pdf\"))\n",
    "    fig.savefig(PATH_TO_SAVE.with_suffix(\".png\"))"
   ]
  },
  {
   "cell_type": "markdown",
   "id": "2ca78ddb-878f-4aa8-9e5b-3e3a6f955168",
   "metadata": {},
   "source": [
    "# Cálculo del baricentro"
   ]
  },
  {
   "cell_type": "code",
   "execution_count": null,
   "id": "7c29c9da-8161-4119-9961-826e2908499f",
   "metadata": {},
   "outputs": [],
   "source": [
    "dist_draw_sgdw = sgdw.DebiesedDistributionDrawSGDW(\n",
    "    distr_sampler=post_pi_n,\n",
    "    step_scheduler=step_scheduler(**params),\n",
    "    projector=proj,\n",
    "    batch_size=S_k,\n",
    "    max_iter=MAX_ITER,\n",
    "    report_every=REPORT_EVERY,\n",
    ")\n",
    "dist_draw_sgdw.det_params, dist_draw_sgdw.hist"
   ]
  },
  {
   "cell_type": "code",
   "execution_count": null,
   "id": "cf2c1948-221f-4bc3-8a49-6436c0fdd5f4",
   "metadata": {},
   "outputs": [],
   "source": [
    "from bwb.sgdw.plotters import PlotterComparison\n",
    "\n",
    "plotter_comp = PlotterComparison(\n",
    "    dist_draw_sgdw,\n",
    "    plot_every=None,\n",
    "    n_cols=12,\n",
    "    n_rows=1,\n",
    "    cmap=\"binary_r\"\n",
    ")"
   ]
  },
  {
   "cell_type": "code",
   "execution_count": null,
   "id": "c5601985-f277-45bf-9f4c-f540c1535a4d",
   "metadata": {},
   "outputs": [],
   "source": [
    "_log.info(f\"Running SGD-Wasserstein with '{DS_NAME}' bayesian proyected barycenter\")\n",
    "with logging.register_total_time(_log) as timer:\n",
    "    bar = plotter_comp.run(include_dict=dict(total_time=True))\n",
    "ic(timer.elapsed_time)\n",
    "dist_draw_sgdw.iter_params"
   ]
  },
  {
   "cell_type": "code",
   "execution_count": null,
   "id": "f694c79e-b669-43cf-b9f0-ed3ea759e3ad",
   "metadata": {},
   "outputs": [],
   "source": [
    "_ = plotter_comp.plot(0)"
   ]
  },
  {
   "cell_type": "code",
   "execution_count": null,
   "id": "a1ec2c4b-a635-41f1-9ef8-b0885fd7207a",
   "metadata": {},
   "outputs": [],
   "source": [
    "_ = plotter_comp.plot()"
   ]
  }
 ],
 "metadata": {
  "kernelspec": {
   "display_name": "Python 3 (ipykernel)",
   "language": "python",
   "name": "python3"
  },
  "language_info": {
   "codemirror_mode": {
    "name": "ipython",
    "version": 3
   },
   "file_extension": ".py",
   "mimetype": "text/x-python",
   "name": "python",
   "nbconvert_exporter": "python",
   "pygments_lexer": "ipython3",
   "version": "3.12.2"
  }
 },
 "nbformat": 4,
 "nbformat_minor": 5
}
