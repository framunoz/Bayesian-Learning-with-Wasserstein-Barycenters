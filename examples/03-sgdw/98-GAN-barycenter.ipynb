{
 "cells": [
  {
   "cell_type": "markdown",
   "id": "6f59cb01-efd8-48f7-b6bc-9b67f1ced43e",
   "metadata": {},
   "source": [
    "# TODO\n",
    "* [ ] Agregar el ejemplo utilizando una GAN\n",
    "* [ ] Correrlo con `max_iter = 5_000`\n",
    "* [ ] Hacer la versión Batch\n",
    "* [ ] Hacer la versión proyectada"
   ]
  },
  {
   "cell_type": "markdown",
   "id": "0cfe4cf1-8f6c-4af3-a395-2e43430f854a",
   "metadata": {},
   "source": [
    "Notebook que sirve de ejemplo para calcular el baricentro de un conjunto de datos de imágenes."
   ]
  },
  {
   "cell_type": "markdown",
   "id": "18accc3d-c586-48f9-9dc5-ad6c8bbcab59",
   "metadata": {},
   "source": [
    "# Configuraciones iniciales"
   ]
  },
  {
   "cell_type": "markdown",
   "id": "86787770-4c79-4e3a-bdae-af5790c12954",
   "metadata": {},
   "source": [
    "## Constantes"
   ]
  },
  {
   "cell_type": "code",
   "execution_count": 1,
   "id": "de03d0be-7e95-401a-bcbc-36d8b9cab4ee",
   "metadata": {},
   "source": [
    "CLEAN_LOGS = True  # If you want to clean the logs directory\n",
    "SAVE_FIGS = True  # If you want to save the figures.\n",
    "\n",
    "S_k = 10  # Batch size\n",
    "REPORT_EVERY = 100  # To report at the logger\n",
    "MAX_ITER = 5_000  # MAx number of iterations for the SGDW\n",
    "MAX_ITER_PROJ = MAX_ITER\n",
    "MAX_IMGS = 22 * 4\n",
    "MAX_ITER = MAX_IMGS; REPORT_EVERY = 5  # Descomentar para debuguear\n",
    "# MAX_ITER = MAX_IMGS  # Descomentar para debuguear"
   ],
   "outputs": []
  },
  {
   "cell_type": "code",
   "execution_count": 2,
   "id": "a9ac8eb0-51f8-4fbb-be06-184e9c370133",
   "metadata": {},
   "source": [
    "import torch\n",
    "import numpy as np\n",
    "import random\n",
    "\n",
    "SEED = 42\n",
    "torch.manual_seed(SEED)\n",
    "torch.cuda.manual_seed(SEED)\n",
    "np.random.seed(SEED)\n",
    "random.seed(SEED)\n",
    "\n",
    "torch.backends.cudnn.deterministic = True"
   ],
   "outputs": []
  },
  {
   "cell_type": "code",
   "execution_count": 3,
   "id": "538087dd-b25b-4689-a5cd-4e47475e6344",
   "metadata": {},
   "source": [
    "from pathlib import Path\n",
    "from icecream import ic\n",
    "\n",
    "\n",
    "DS_NAME = \"data\"\n",
    "\n",
    "CURR_PATH = Path().absolute()\n",
    "ic(CURR_PATH)\n",
    "BASE_PATH = CURR_PATH.parent.parent\n",
    "ic(BASE_PATH)\n",
    "DATA_PATH = BASE_PATH / \"data\"\n",
    "ic(DATA_PATH)\n",
    "WGAN_PATH = BASE_PATH / \"wgan_gp\"\n",
    "ic(WGAN_PATH)\n",
    "NETS_PATH = WGAN_PATH / \"networks\" \n",
    "ic(NETS_PATH)\n",
    "IMGS_PATH = CURR_PATH / \"imgs\" / \"notebook-01\"\n",
    "IMGS_PATH.mkdir(parents=True, exist_ok=True)\n",
    "ic(IMGS_PATH)"
   ],
   "outputs": []
  },
  {
   "cell_type": "markdown",
   "id": "e576a636-2d5d-49b1-baca-d8b401256a93",
   "metadata": {},
   "source": [
    "## Importaciones generales"
   ]
  },
  {
   "cell_type": "code",
   "execution_count": 4,
   "id": "643da47f-b8a7-4528-bef4-1341c98a9182",
   "metadata": {},
   "source": [
    "from bwb import utils\n",
    "from bwb.sgdw import sgdw\n",
    "from bwb.distributions import *\n",
    "from bwb.transports import *\n",
    "import torch\n",
    "import bwb.plotters as plotters\n",
    "import bwb.sgdw.plotters as sgdw_plotters"
   ],
   "outputs": []
  },
  {
   "cell_type": "markdown",
   "id": "cc5a2c2b-3058-4f25-b977-2a76b6044eea",
   "metadata": {},
   "source": [
    "## Configuración del Logger"
   ]
  },
  {
   "cell_type": "code",
   "execution_count": 5,
   "id": "cddce309-5b4c-46f0-8522-f01d42ed3314",
   "metadata": {},
   "source": [
    "import time\n",
    "from pathlib import Path\n",
    "\n",
    "\n",
    "# Create the logs directory\n",
    "LOG_PATH = Path(\"logs\") / f\"notebook_{time.strftime('%Y%m%d_%H%M%S')}.log\"\n",
    "if not LOG_PATH.parent.exists():\n",
    "    LOG_PATH.parent.mkdir()\n",
    "\n",
    "# Clean the logs\n",
    "if CLEAN_LOGS:\n",
    "    for log_file in Path(\"logs\").glob(\"*.log\"):\n",
    "        log_file.unlink()"
   ],
   "outputs": []
  },
  {
   "cell_type": "code",
   "execution_count": 6,
   "id": "c22b2dfe-f81b-44f6-922e-840e513c2d3b",
   "metadata": {},
   "source": [
    "import logging\n",
    "from bwb._logging import log_config\n",
    "\n",
    "\n",
    "# Remove the handlers\n",
    "log_config.remove_all_handlers()\n",
    "\n",
    "# Define and add FileHandler\n",
    "fh = logging.FileHandler(LOG_PATH)\n",
    "log_config.set_default_formatter(fh)\n",
    "log_config.add_handler(fh)\n",
    "\n",
    "\n",
    "_log = log_config.get_logger(\"notebook\")\n",
    "log_config.set_level(level=logging.DEBUG, name=\"notebook\")\n",
    "log_config.set_level(level=logging.INFO, name=\"bwb.utils\")\n",
    "log_config.set_level(level=logging.DEBUG, name=\"bwb.sgdw.sgdw\")\n",
    "log_config.set_level(level=logging.DEBUG, name=\"bwb.sgdw.plotters\")\n",
    "log_config.set_level(level=logging.INFO, name=\"bwb.transports\")"
   ],
   "outputs": []
  },
  {
   "cell_type": "markdown",
   "id": "94af2ebd-36f1-47e8-906e-da081fc3d9ba",
   "metadata": {},
   "source": [
    "Esta celda es para configurar la información mostrada en el logger"
   ]
  },
  {
   "cell_type": "code",
   "execution_count": 7,
   "id": "49f04546-5b2a-46da-8c07-c76bb6d35503",
   "metadata": {},
   "source": [
    "# Set the default options for the report\n",
    "INCLUDE_OPTIONS: sgdw.ReportOptions = {\n",
    "    \"dt\": False,\n",
    "    \"dt_per_iter\": True,\n",
    "    \"iter\": True,\n",
    "    \"step_schd\": True,\n",
    "    \"total_time\": True,\n",
    "    \"w_dist\": False,\n",
    "}\n",
    "\n",
    "sgdw.Report.INCLUDE_OPTIONS = INCLUDE_OPTIONS"
   ],
   "outputs": []
  },
  {
   "cell_type": "markdown",
   "id": "daa78db9-fc48-400a-952c-247ebabc9b02",
   "metadata": {},
   "source": [
    "## Obtención del dataset"
   ]
  },
  {
   "cell_type": "code",
   "execution_count": 8,
   "id": "42edc32e-7dcd-44a0-ba17-e51542c6598a",
   "metadata": {},
   "source": [
    "# You can use the wrapper to transform the usual DataSet into a model set\n",
    "from bwb.distributions.models import ModelDataset\n",
    "import quick_torch as qt\n",
    "import torchvision.transforms.v2 as T\n",
    "\n",
    "transform_ds = T.Compose([\n",
    "    T.Resize((32, 32)),\n",
    "    T.ToImage(),\n",
    "    T.ToDtype(torch.float32, scale=True),\n",
    "    T.Lambda(lambda x: x.squeeze()),\n",
    "])\n",
    "\n",
    "def get_ds(file_path, transform=transform_ds):\n",
    "    ic(file_path)\n",
    "    categories = [qt.Category.FACE]\n",
    "    dataset_ = qt.QuickDraw(\n",
    "        root=DATA_PATH,\n",
    "        categories=categories,\n",
    "        transform=transform,\n",
    "        download=True,\n",
    "        recognized=True,\n",
    "    )\n",
    "    path_dataset = Path(file_path)\n",
    "    dataset_.data = np.load(path_dataset).reshape(-1, 28, 28)\n",
    "    dataset_.targets = np.ones(len(dataset_.data), dtype=int)\n",
    "    dataset = dataset_.get_train_data()\n",
    "    ic(len(dataset))\n",
    "\n",
    "    return ModelDataset(dataset)\n",
    "\n",
    "DS_PATH = WGAN_PATH / \"dataset\" / \"cleaned\" / f\"{DS_NAME}.npy\"\n",
    "ds_models = get_ds(DS_PATH)\n",
    "\n",
    "ds_models.get(0)"
   ],
   "outputs": []
  },
  {
   "cell_type": "markdown",
   "id": "d9c2a6c4-97a3-4e83-b541-20261b42901e",
   "metadata": {},
   "source": [
    "## Definir $\\gamma_k$"
   ]
  },
  {
   "cell_type": "markdown",
   "id": "088c6165-8de8-4d9f-957a-6ce6e426e3db",
   "metadata": {},
   "source": [
    "Aquí se utiliza una función de la forma\n",
    "\\begin{equation*}\n",
    "    \\gamma_k = \\frac{a}{(b^{1/c} + k)^c}\n",
    "\\end{equation*}\n",
    "\n",
    "Con $a > 0$, $b \\geq 0$ y $0.5 < c \\leq 1$\n",
    "\n",
    "La idea es que cuando $k=0$, $\\gamma_0 = \\frac{a}{b}$ es la proporción entre $a$ y $b$, permitiendo ajustar el valor inicial."
   ]
  },
  {
   "cell_type": "code",
   "execution_count": 9,
   "id": "5232d728-ef6f-4343-a131-daf967bac268",
   "metadata": {},
   "source": [
    "from bwb.sgdw.utils import step_scheduler\n",
    "window = 5\n",
    "\n",
    "def test_gamma(gamma):\n",
    "\n",
    "    for t in range(window):\n",
    "        print(f\"{t = :_}; {gamma(t) = :.2%}\")\n",
    "    print()\n",
    "\n",
    "    init = 50\n",
    "    for t in range(init, init+window):\n",
    "        print(f\"{t = :_}; {gamma(t) = :.2%}\")\n",
    "    print()\n",
    "\n",
    "    init = 100\n",
    "    for t in range(init, init+window):\n",
    "        print(f\"{t = :_}; {gamma(t) = :.2%}\")\n",
    "    print()\n",
    "\n",
    "    init = 300\n",
    "    for t in range(init, init+window):\n",
    "        print(f\"{t = :_}; {gamma(t) = :.2%}\")\n",
    "    print()\n",
    "\n",
    "    init = 500\n",
    "    for t in range(init, init+window):\n",
    "        print(f\"{t = :_}; {gamma(t) = :.2%}\")\n",
    "    print()\n",
    "\n",
    "    init = 1_000\n",
    "    for t in range(init, init+window):\n",
    "        print(f\"{t = :_}; {gamma(t) = :.2%}\")\n",
    "    print()\n",
    "\n",
    "    init = 3_000\n",
    "    for t in range(init, init+window):\n",
    "        print(f\"{t = :_}; {gamma(t) = :.2%}\")\n",
    "    print()\n",
    "\n",
    "    init = 5_000\n",
    "    for t in range(init, init+window):\n",
    "        print(f\"{t = :_}; {gamma(t) = :.2%}\")\n",
    "    print()\n",
    "\n",
    "    # init = 10_000\n",
    "    # for t in range(init, init+window):\n",
    "    #     print(f\"{t = :_}; {gamma(t) = :.2%}\")\n",
    "    # print()\n",
    "\n",
    "    # init = 20_000\n",
    "    # for t in range(init, init+window):\n",
    "    #     print(f\"{t = :_}; {gamma(t) = :.2%}\")\n",
    "    # print()\n",
    "\n",
    "    # init = 50_000\n",
    "    # for t in range(init, init+window):\n",
    "    #     print(f\"{t = :_}; {gamma(t) = :.2%}\")\n",
    "    # print()\n",
    "\n",
    "    # init = 100_000\n",
    "    # for t in range(init, init+window):\n",
    "    #     print(f\"{t = :_}; {gamma(t) = :.2%}\")\n",
    "\n",
    "\n",
    "_a = 3\n",
    "_eps = 0.2\n",
    "params = dict(a=_a, b=_a+1e-2, c=0.5+_eps)\n",
    "# params = dict(a=1, b=1, c=1)\n",
    "\n",
    "gamma = step_scheduler(**params)\n",
    "\n",
    "test_gamma(step_scheduler(**params))"
   ],
   "outputs": []
  },
  {
   "cell_type": "markdown",
   "id": "fb69e368-0842-4927-98d7-bc28a482d264",
   "metadata": {},
   "source": [
    "# Baricentro de imágenes"
   ]
  },
  {
   "cell_type": "code",
   "execution_count": 10,
   "id": "8a7c1809-7f9f-410d-a8ad-a427ac0e4ff7",
   "metadata": {},
   "source": [
    "pi_n = UniformDiscreteSampler[DistributionDraw]().fit(models=ds_models)"
   ],
   "outputs": []
  },
  {
   "cell_type": "code",
   "execution_count": 11,
   "id": "00997028-1bd6-4e03-9b14-9d7b46461cad",
   "metadata": {},
   "source": [
    "dist_draw_sgdw = sgdw.DebiesedDistributionDrawSGDW(\n",
    "    distr_sampler=pi_n,\n",
    "    step_scheduler=step_scheduler(**params),\n",
    "    batch_size=S_k,\n",
    "    max_iter=MAX_ITER,\n",
    "    report_every=REPORT_EVERY,\n",
    ")\n",
    "dist_draw_sgdw.det_params, dist_draw_sgdw.hist"
   ],
   "outputs": []
  },
  {
   "cell_type": "code",
   "execution_count": 12,
   "id": "8c4e45c3-2175-4cd6-873a-8f2d972be617",
   "metadata": {},
   "source": [
    "from bwb.sgdw.plotters import PlotterComparison\n",
    "\n",
    "plotter_comp = PlotterComparison(\n",
    "    dist_draw_sgdw,\n",
    "    plot_every=50,\n",
    "    n_cols=12,\n",
    "    n_rows=2,\n",
    "    cmap=\"binary_r\"\n",
    ")"
   ],
   "outputs": []
  },
  {
   "cell_type": "code",
   "execution_count": 13,
   "id": "48a82f97-a343-4664-ab63-2a8f3704f442",
   "metadata": {},
   "source": [
    "_log.info(f\"Running SGD-Wasserstein with '{DS_NAME}' DS barycenter\")\n",
    "bar = plotter_comp.run(\n",
    "    include_dict=dict(total_time=True),\n",
    ")\n",
    "dist_draw_sgdw.iter_params"
   ],
   "outputs": []
  },
  {
   "cell_type": "code",
   "execution_count": 14,
   "id": "ecb041e1-211b-4326-95b9-8580f75c41d2",
   "metadata": {},
   "source": [
    "_ = plotter_comp.plot(0)"
   ],
   "outputs": []
  }
 ],
 "metadata": {
  "kernelspec": {
   "display_name": "Python 3 (ipykernel)",
   "language": "python",
   "name": "python3"
  },
  "language_info": {
   "codemirror_mode": {
    "name": "ipython",
    "version": 3
   },
   "file_extension": ".py",
   "mimetype": "text/x-python",
   "name": "python",
   "nbconvert_exporter": "python",
   "pygments_lexer": "ipython3",
   "version": "3.12.2"
  }
 },
 "nbformat": 4,
 "nbformat_minor": 5
}
