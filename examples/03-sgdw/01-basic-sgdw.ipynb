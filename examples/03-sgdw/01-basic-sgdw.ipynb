{
 "cells": [
  {
   "cell_type": "markdown",
   "id": "a4ac8521-d009-4f20-88ca-a4e7c730efa6",
   "metadata": {},
   "source": [
    "# TODO\n",
    "* [ ] Correrlo con `max_iter = 5_000`\n",
    "* [ ] Hacer la versión Batch\n",
    "* [ ] Hacer la versión proyectada"
   ]
  },
  {
   "cell_type": "markdown",
   "id": "0cfe4cf1-8f6c-4af3-a395-2e43430f854a",
   "metadata": {},
   "source": [
    "Notebook que sirve de ejemplo para calcular el baricentro de un conjunto de datos de imágenes."
   ]
  },
  {
   "cell_type": "markdown",
   "id": "18accc3d-c586-48f9-9dc5-ad6c8bbcab59",
   "metadata": {},
   "source": [
    "# Configuraciones iniciales"
   ]
  },
  {
   "cell_type": "markdown",
   "id": "86787770-4c79-4e3a-bdae-af5790c12954",
   "metadata": {},
   "source": [
    "## Constantes"
   ]
  },
  {
   "cell_type": "code",
   "execution_count": 1,
   "id": "de03d0be-7e95-401a-bcbc-36d8b9cab4ee",
   "metadata": {
    "ExecuteTime": {
     "end_time": "2024-05-17T15:21:42.917453Z",
     "start_time": "2024-05-17T15:21:42.913182Z"
    }
   },
   "source": [
    "NOTEBOOK = 1\n",
    "CLEAN_LOGS = True  # If you want to clean the logs directory\n",
    "SAVE_FIGS = True  # If you want to save the figures.\n",
    "\n",
    "REPORT_EVERY = 100  # To report at the logger\n",
    "MAX_ITER = 5_000  # MAx number of iterations for the SGDW\n",
    "\n",
    "MAX_ITER = 50; REPORT_EVERY = 5  # Descomentar para debuguear"
   ],
   "outputs": []
  },
  {
   "cell_type": "code",
   "execution_count": 2,
   "id": "a9ac8eb0-51f8-4fbb-be06-184e9c370133",
   "metadata": {
    "ExecuteTime": {
     "end_time": "2024-05-17T15:21:44.295748Z",
     "start_time": "2024-05-17T15:21:43.114700Z"
    }
   },
   "source": [
    "import random\n",
    "\n",
    "import numpy as np\n",
    "import torch\n",
    "\n",
    "SEED = 42\n",
    "torch.manual_seed(SEED)\n",
    "torch.cuda.manual_seed(SEED)\n",
    "np.random.seed(SEED)\n",
    "random.seed(SEED)\n",
    "\n",
    "torch.backends.cudnn.deterministic = True"
   ],
   "outputs": []
  },
  {
   "cell_type": "code",
   "execution_count": 3,
   "id": "538087dd-b25b-4689-a5cd-4e47475e6344",
   "metadata": {
    "ExecuteTime": {
     "end_time": "2024-05-17T15:21:44.414475Z",
     "start_time": "2024-05-17T15:21:44.297717Z"
    }
   },
   "source": [
    "from pathlib import Path\n",
    "from icecream import ic\n",
    "\n",
    "\n",
    "DS_NAME = \"data\"\n",
    "\n",
    "CURR_PATH = Path().absolute()\n",
    "ic(CURR_PATH)\n",
    "BASE_PATH = CURR_PATH.parent.parent\n",
    "ic(BASE_PATH)\n",
    "DATA_PATH = BASE_PATH / \"data\"\n",
    "ic(DATA_PATH)\n",
    "WGAN_PATH = BASE_PATH / \"wgan_gp\"\n",
    "ic(WGAN_PATH)\n",
    "NETS_PATH = WGAN_PATH / \"networks\" \n",
    "ic(NETS_PATH)\n",
    "IMGS_PATH = CURR_PATH / \"imgs\" / f\"notebook-{NOTEBOOK:02d}\"\n",
    "IMGS_PATH.mkdir(parents=True, exist_ok=True)\n",
    "ic(IMGS_PATH)"
   ],
   "outputs": []
  },
  {
   "cell_type": "code",
   "execution_count": 4,
   "id": "1c0f4906-d557-45b9-ba2f-140f0a70e86d",
   "metadata": {
    "ExecuteTime": {
     "end_time": "2024-05-17T15:21:44.421047Z",
     "start_time": "2024-05-17T15:21:44.416030Z"
    }
   },
   "source": [
    "def save_fig(fig, name_to_save):\n",
    "    if SAVE_FIGS:\n",
    "        PATH_TO_SAVE = IMGS_PATH / name_to_save\n",
    "        fig.savefig(PATH_TO_SAVE.with_suffix(\".pdf\"))\n",
    "        fig.savefig(PATH_TO_SAVE.with_suffix(\".png\"))"
   ],
   "outputs": []
  },
  {
   "cell_type": "markdown",
   "id": "e576a636-2d5d-49b1-baca-d8b401256a93",
   "metadata": {},
   "source": [
    "## Importaciones generales"
   ]
  },
  {
   "cell_type": "code",
   "execution_count": 5,
   "id": "643da47f-b8a7-4528-bef4-1341c98a9182",
   "metadata": {
    "ExecuteTime": {
     "end_time": "2024-05-17T15:21:55.680279Z",
     "start_time": "2024-05-17T15:21:44.423849Z"
    }
   },
   "source": [
    "from icecream import ic\n",
    "from bwb.sgdw import sgdw\n",
    "from bwb.sgdw import wrappers\n",
    "from bwb.distributions import *\n",
    "from bwb.sgdw.plotters import PlotterComparison"
   ],
   "outputs": []
  },
  {
   "cell_type": "markdown",
   "id": "249e10dc-42ba-4247-bd73-b6ce1f24c379",
   "metadata": {},
   "source": [
    "## Configuraciones "
   ]
  },
  {
   "cell_type": "code",
   "execution_count": 6,
   "id": "7511a4d5-0229-4e13-afc2-fc0f8d9f1fcc",
   "metadata": {
    "ExecuteTime": {
     "end_time": "2024-05-17T15:21:55.689295Z",
     "start_time": "2024-05-17T15:21:55.681924Z"
    }
   },
   "source": [
    "from bwb.config import conf\n",
    "\n",
    "conf.use_gpu()\n",
    "conf.use_single_precision()\n",
    "conf.set_eps(1e-16)\n",
    "conf"
   ],
   "outputs": []
  },
  {
   "cell_type": "markdown",
   "id": "cc5a2c2b-3058-4f25-b977-2a76b6044eea",
   "metadata": {},
   "source": [
    "## Configuración del Logger"
   ]
  },
  {
   "cell_type": "code",
   "execution_count": 7,
   "id": "cddce309-5b4c-46f0-8522-f01d42ed3314",
   "metadata": {
    "ExecuteTime": {
     "end_time": "2024-05-17T15:21:55.697184Z",
     "start_time": "2024-05-17T15:21:55.691545Z"
    }
   },
   "source": [
    "import time\n",
    "from pathlib import Path\n",
    "\n",
    "\n",
    "# Create the logs directory\n",
    "LOG_PATH = Path(\"logs\") / f\"notebook-{NOTEBOOK:02d}_{time.strftime('%Y%m%d_%H%M%S')}.log\"\n",
    "if not LOG_PATH.parent.exists():\n",
    "    LOG_PATH.parent.mkdir()\n",
    "\n",
    "# Clean the logs\n",
    "if CLEAN_LOGS:\n",
    "    for log_file in Path(\"logs\").glob(f\"notebook-{NOTEBOOK:02d}*.log\"):\n",
    "        log_file.unlink()"
   ],
   "outputs": []
  },
  {
   "cell_type": "code",
   "execution_count": 8,
   "id": "c22b2dfe-f81b-44f6-922e-840e513c2d3b",
   "metadata": {
    "ExecuteTime": {
     "end_time": "2024-05-17T15:21:55.961937Z",
     "start_time": "2024-05-17T15:21:55.698943Z"
    }
   },
   "source": [
    "import logging\n",
    "from bwb.logging_ import log_config\n",
    "\n",
    "\n",
    "# Remove the handlers\n",
    "log_config.remove_all_handlers()\n",
    "ic(log_config.loggers)\n",
    "\n",
    "# Define and add FileHandler\n",
    "fh = logging.FileHandler(LOG_PATH)\n",
    "log_config.FORMATTER = fh\n",
    "log_config.add_handler(fh)\n",
    "\n",
    "\n",
    "_log = log_config.get_logger(\"notebook\")\n",
    "log_config.set_level(level=logging.DEBUG, name=\"notebook\")\n",
    "log_config.set_level(level=logging.DEBUG, name=\"bwb.sgdw.sgdw\")\n",
    "log_config.set_level(level=logging.DEBUG, name=\"bwb.sgdw.plotters\")"
   ],
   "outputs": []
  },
  {
   "cell_type": "markdown",
   "id": "94af2ebd-36f1-47e8-906e-da081fc3d9ba",
   "metadata": {},
   "source": [
    "Esta celda es para configurar la información mostrada en el logger"
   ]
  },
  {
   "cell_type": "code",
   "execution_count": 9,
   "id": "49f04546-5b2a-46da-8c07-c76bb6d35503",
   "metadata": {
    "ExecuteTime": {
     "end_time": "2024-05-17T15:21:55.967133Z",
     "start_time": "2024-05-17T15:21:55.964013Z"
    }
   },
   "source": [
    "# Set the default options for the report\n",
    "wrappers.ReportProxy.INCLUDE_OPTIONS = wrappers.ReportOptions(\n",
    "    dt=False,\n",
    "    dt_per_iter=True,\n",
    "    iter=True,\n",
    "    step_schd=True,\n",
    "    total_time=True,\n",
    "    w_dist=False\n",
    ")"
   ],
   "outputs": []
  },
  {
   "cell_type": "markdown",
   "id": "daa78db9-fc48-400a-952c-247ebabc9b02",
   "metadata": {},
   "source": [
    "## Obtención del dataset"
   ]
  },
  {
   "cell_type": "code",
   "execution_count": 10,
   "id": "42edc32e-7dcd-44a0-ba17-e51542c6598a",
   "metadata": {
    "ExecuteTime": {
     "end_time": "2024-05-17T15:21:56.422457Z",
     "start_time": "2024-05-17T15:21:55.968825Z"
    }
   },
   "source": [
    "# You can use the wrapper to transform the usual DataSet into a model set\n",
    "from bwb.distributions.models import ModelDataset\n",
    "import quick_torch as qt\n",
    "import torchvision.transforms.v2 as T\n",
    "\n",
    "transform_ds = T.Compose([\n",
    "    T.Resize((32, 32)),\n",
    "    T.ToImage(),\n",
    "    T.ToDtype(conf.dtype, scale=True),\n",
    "    T.Lambda(lambda x: x.squeeze()),\n",
    "])\n",
    "\n",
    "def get_ds(file_path, transform=transform_ds):\n",
    "    ic(file_path)\n",
    "    categories = [qt.Category.FACE]\n",
    "    dataset_ = qt.QuickDraw(\n",
    "        root=DATA_PATH,\n",
    "        categories=categories,\n",
    "        transform=transform,\n",
    "        download=True,\n",
    "        recognized=True,\n",
    "    )\n",
    "    path_dataset = Path(file_path)\n",
    "    dataset_.data = np.load(path_dataset).reshape(-1, 28, 28)\n",
    "    dataset_.targets = np.ones(len(dataset_.data), dtype=int)\n",
    "    dataset = dataset_.get_train_data()\n",
    "    ic(len(dataset))\n",
    "\n",
    "    return ModelDataset(dataset)\n",
    "\n",
    "DS_PATH = WGAN_PATH / \"dataset\" / \"cleaned\" / f\"{DS_NAME}.npy\"\n",
    "ds_models = get_ds(DS_PATH)\n",
    "\n",
    "ds_models.get(0)"
   ],
   "outputs": []
  },
  {
   "cell_type": "code",
   "execution_count": 11,
   "id": "ae709cc3-4ea7-4368-8217-fe7e2d989806",
   "metadata": {
    "ExecuteTime": {
     "end_time": "2024-05-17T15:21:56.430042Z",
     "start_time": "2024-05-17T15:21:56.425259Z"
    }
   },
   "source": [
    "ds_models"
   ],
   "outputs": []
  },
  {
   "cell_type": "code",
   "execution_count": 16,
   "id": "fd05b0b4-0235-4620-bede-a8f25958fc05",
   "metadata": {},
   "source": [
    "models = [ds_models.get(i) for i in range(100)]\n",
    "\n",
    "from bwb.distributions import stats\n",
    "\n",
    "stats.plot_log_like_models(models, data)"
   ],
   "outputs": []
  },
  {
   "cell_type": "markdown",
   "id": "2add9c0d-b67d-4bca-b61a-3f90fe6fc407",
   "metadata": {},
   "source": [
    "## Obtener GAN"
   ]
  },
  {
   "cell_type": "markdown",
   "id": "98434373-916d-4852-8f60-92bebcb497e6",
   "metadata": {},
   "source": [
    "De la misma manera, se puede definir un muestreador de distribuciones utilizando una GAN. Para ello, empezamos definiendo las redes neuronales a utilizar"
   ]
  },
  {
   "cell_type": "code",
   "execution_count": 12,
   "id": "23f272fb-9306-4ba6-b18a-976ad643ff44",
   "metadata": {
    "ExecuteTime": {
     "end_time": "2024-05-17T15:21:56.553532Z",
     "start_time": "2024-05-17T15:21:56.431915Z"
    }
   },
   "source": [
    "from wgan_gp.wgan_gp_vae.model_resnet import Generator, Encoder, LatentDistribution\n",
    "import torch\n",
    "from wgan_gp.wgan_gp_vae.utils import load_checkpoint\n",
    "\n",
    "\n",
    "device = conf.device\n",
    "\n",
    "NOISE = \"norm\"\n",
    "LATENT_DIM = 128\n",
    "CHANNELS_IMG = 1\n",
    "NUM_FILTERS = [256, 128, 64, 32]\n",
    "\n",
    "noise_sampler = LatentDistribution(NOISE, LATENT_DIM, device)\n",
    "\n",
    "\n",
    "G = Generator(LATENT_DIM, CHANNELS_IMG, latent_distr=NOISE).to(device)\n",
    "E = Encoder(LATENT_DIM, CHANNELS_IMG).to(device)\n",
    "\n",
    "DS_NAME = \"data\"\n",
    "FACE_PATH = NETS_PATH / f\"cleaned_{DS_NAME}_zDim{LATENT_DIM}_{NOISE}_bs_128\"\n",
    "ic(FACE_PATH)\n",
    "\n",
    "load_checkpoint(G, FACE_PATH, \"generator\", device)\n",
    "load_checkpoint(E, FACE_PATH, \"encoder\", device)\n",
    "\n",
    "G.eval(); E.eval()\n",
    "print()"
   ],
   "outputs": []
  },
  {
   "cell_type": "code",
   "execution_count": 13,
   "id": "f3cb37f6-6a10-426e-85a8-29bf33323a40",
   "metadata": {
    "ExecuteTime": {
     "end_time": "2024-05-17T15:21:56.559735Z",
     "start_time": "2024-05-17T15:21:56.554950Z"
    }
   },
   "source": [
    "noise_sampler"
   ],
   "outputs": []
  },
  {
   "cell_type": "code",
   "execution_count": 14,
   "id": "acccf577-8035-402a-8320-e40279916d03",
   "metadata": {
    "ExecuteTime": {
     "end_time": "2024-05-17T15:21:56.730089Z",
     "start_time": "2024-05-17T15:21:56.561417Z"
    }
   },
   "source": [
    "from bwb.distributions import DistributionDraw\n",
    "from torchvision import disable_beta_transforms_warning\n",
    "disable_beta_transforms_warning()\n",
    "\n",
    "import torchvision.transforms.v2 as T\n",
    "\n",
    "\n",
    "z = noise_sampler(1)\n",
    "m = G(z)\n",
    "\n",
    "transform_in = T.Compose([\n",
    "    T.Lambda(lambda x: x / torch.max(x)),\n",
    "    T.ToPILImage(),\n",
    "    T.Resize(32),\n",
    "    T.ToImage(),\n",
    "    T.ConvertImageDtype(conf.dtype),\n",
    "    T.Normalize((0.5,), (0.5,)),\n",
    "])\n",
    "\n",
    "transform_out_ = T.Compose([\n",
    "    T.ToDtype(conf.dtype),\n",
    "    T.Lambda(lambda x: x.squeeze()),\n",
    "    T.Lambda(lambda x: x - torch.min(x)),\n",
    "    T.Lambda(lambda x: x / torch.sum(x)),\n",
    "])\n",
    "\n",
    "transform_out = T.Compose([\n",
    "    transform_out_,\n",
    "    T.Lambda(lambda x: DistributionDraw.from_grayscale_weights(x)),\n",
    "])\n",
    "\n",
    "\n",
    "out: DistributionDraw = transform_out(m)\n",
    "print(out.dtype)\n",
    "out"
   ],
   "outputs": []
  },
  {
   "cell_type": "markdown",
   "id": "d9c2a6c4-97a3-4e83-b541-20261b42901e",
   "metadata": {},
   "source": [
    "## Definir $\\gamma_k$"
   ]
  },
  {
   "cell_type": "markdown",
   "id": "088c6165-8de8-4d9f-957a-6ce6e426e3db",
   "metadata": {},
   "source": [
    "Aquí se utiliza una función de la forma\n",
    "\\begin{equation*}\n",
    "    \\gamma_k = \\frac{a}{(b^{1/c} + k)^c}\n",
    "\\end{equation*}\n",
    "\n",
    "Con $a > 0$, $b \\geq 0$ y $0.5 < c \\leq 1$\n",
    "\n",
    "La idea es que cuando $k=0$, $\\gamma_0 = \\frac{a}{b}$ es la proporción entre $a$ y $b$, permitiendo ajustar el valor inicial."
   ]
  },
  {
   "cell_type": "code",
   "execution_count": 15,
   "id": "5232d728-ef6f-4343-a131-daf967bac268",
   "metadata": {
    "ExecuteTime": {
     "end_time": "2024-05-17T15:21:56.738711Z",
     "start_time": "2024-05-17T15:21:56.731668Z"
    }
   },
   "source": [
    "from bwb.sgdw.utils import step_scheduler\n",
    "window = 5\n",
    "\n",
    "def test_gamma(gamma):\n",
    "\n",
    "    for t in range(window):\n",
    "        print(f\"{t = :_}; {gamma(t) = :.2%}\")\n",
    "    print()\n",
    "\n",
    "    init = 50\n",
    "    for t in range(init, init+window):\n",
    "        print(f\"{t = :_}; {gamma(t) = :.2%}\")\n",
    "    print()\n",
    "\n",
    "    init = 100\n",
    "    for t in range(init, init+window):\n",
    "        print(f\"{t = :_}; {gamma(t) = :.2%}\")\n",
    "    print()\n",
    "\n",
    "    init = 300\n",
    "    for t in range(init, init+window):\n",
    "        print(f\"{t = :_}; {gamma(t) = :.2%}\")\n",
    "    print()\n",
    "\n",
    "    init = 500\n",
    "    for t in range(init, init+window):\n",
    "        print(f\"{t = :_}; {gamma(t) = :.2%}\")\n",
    "    print()\n",
    "\n",
    "    init = 1_000\n",
    "    for t in range(init, init+window):\n",
    "        print(f\"{t = :_}; {gamma(t) = :.2%}\")\n",
    "    print()\n",
    "\n",
    "    init = 3_000\n",
    "    for t in range(init, init+window):\n",
    "        print(f\"{t = :_}; {gamma(t) = :.2%}\")\n",
    "    print()\n",
    "\n",
    "    init = 5_000\n",
    "    for t in range(init, init+window):\n",
    "        print(f\"{t = :_}; {gamma(t) = :.2%}\")\n",
    "    print()\n",
    "\n",
    "\n",
    "_a = 3\n",
    "_eps = 1e-3\n",
    "params = dict(a=_a, b=_a+1e-2, c=0.5+_eps)\n",
    "# params = dict(a=1, b=1, c=1)\n",
    "\n",
    "gamma = step_scheduler(**params)\n",
    "\n",
    "test_gamma(step_scheduler(**params))"
   ],
   "outputs": []
  },
  {
   "cell_type": "markdown",
   "id": "fb69e368-0842-4927-98d7-bc28a482d264",
   "metadata": {},
   "source": [
    "# Baricentro de imágenes"
   ]
  },
  {
   "cell_type": "markdown",
   "id": "85d38d5f-3025-4352-a241-b845092079a9",
   "metadata": {},
   "source": [
    "Para obtener el baricentro de un conjunto de imágenes, es necesario utilizar la clase `UniformDiscreteSampler` y fijarla con una clase que tenga los siguientes métodos:\n",
    "* `get(i) -> Distribution` que retorne la distribución $i$-ésima.\n",
    "* `__len__() -> int` que retorne el tamaño del dataset."
   ]
  },
  {
   "cell_type": "code",
   "execution_count": 16,
   "id": "8a7c1809-7f9f-410d-a8ad-a427ac0e4ff7",
   "metadata": {
    "ExecuteTime": {
     "end_time": "2024-05-17T15:21:56.752085Z",
     "start_time": "2024-05-17T15:21:56.740501Z"
    }
   },
   "source": [
    "distr_sampler = UniformDiscreteSampler[DistributionDraw]().fit(models=ds_models)"
   ],
   "outputs": []
  },
  {
   "cell_type": "markdown",
   "id": "d21ffe41-3688-4d4d-81a0-db99cff92e35",
   "metadata": {},
   "source": [
    "Luego definimos el algoritmo a utilizar. En este caso, utilizaremos `DebiesedDistributionDrawSGDW` que realiza los transportes utilizando un método convolución debiesed. "
   ]
  },
  {
   "cell_type": "code",
   "execution_count": 17,
   "id": "00997028-1bd6-4e03-9b14-9d7b46461cad",
   "metadata": {
    "ExecuteTime": {
     "end_time": "2024-05-17T15:21:56.764363Z",
     "start_time": "2024-05-17T15:21:56.753930Z"
    }
   },
   "source": [
    "dist_draw_sgdw = sgdw.DebiesedDistributionDrawSGDW(\n",
    "    distr_sampler=distr_sampler,\n",
    "    step_scheduler=step_scheduler(**params),\n",
    "    max_iter=MAX_ITER,\n",
    ")\n",
    "dist_draw_sgdw = wrappers.ReportProxy(dist_draw_sgdw, report_every=REPORT_EVERY)\n",
    "dist_draw_sgdw"
   ],
   "outputs": []
  },
  {
   "cell_type": "markdown",
   "id": "8eeb0927-6236-4710-89e5-b8585c848b44",
   "metadata": {},
   "source": [
    "Definimos una clase para comparar las imágenes de las muestras con la iteración del algoritmo."
   ]
  },
  {
   "cell_type": "code",
   "execution_count": 18,
   "id": "8c4e45c3-2175-4cd6-873a-8f2d972be617",
   "metadata": {
    "ExecuteTime": {
     "end_time": "2024-05-17T15:21:56.770706Z",
     "start_time": "2024-05-17T15:21:56.765722Z"
    }
   },
   "source": [
    "plotter_comp = plotter_comp_ds = PlotterComparison(\n",
    "    dist_draw_sgdw,\n",
    "    n_cols=12,\n",
    "    n_rows=2,\n",
    "    cmap=\"binary_r\",\n",
    "    plot_every=24\n",
    ")\n",
    "plotter_comp.sgdw"
   ],
   "outputs": []
  },
  {
   "cell_type": "code",
   "execution_count": 19,
   "id": "48a82f97-a343-4664-ab63-2a8f3704f442",
   "metadata": {
    "ExecuteTime": {
     "end_time": "2024-05-17T15:22:12.008477Z",
     "start_time": "2024-05-17T15:21:56.772380Z"
    }
   },
   "source": [
    "_log.info(f\"Running SGD-Wasserstein with '{DS_NAME}' DS barycenter\")\n",
    "bar = plotter_comp.run()\n",
    "plotter_comp.sgdw"
   ],
   "outputs": []
  },
  {
   "cell_type": "markdown",
   "id": "0a0ecea2-ae41-4517-930f-633efc35b7ee",
   "metadata": {},
   "source": [
    "Obtenemos una visualización de las primeras imágenes."
   ]
  },
  {
   "cell_type": "code",
   "execution_count": 20,
   "id": "ecb041e1-211b-4326-95b9-8580f75c41d2",
   "metadata": {
    "ExecuteTime": {
     "end_time": "2024-05-17T15:22:15.047810Z",
     "start_time": "2024-05-17T15:22:12.009870Z"
    }
   },
   "source": [
    "fig, _ = plotter_comp.plot(0)\n",
    "save_fig(fig, \"first-iters-DS\")"
   ],
   "outputs": []
  },
  {
   "cell_type": "markdown",
   "id": "555b8855-6207-455b-a0fa-dff1219051fa",
   "metadata": {},
   "source": [
    "Obtenemos una visualización de las últimas imágenes."
   ]
  },
  {
   "cell_type": "code",
   "execution_count": 21,
   "id": "b4212822-77c3-4f98-8344-259925976a70",
   "metadata": {
    "ExecuteTime": {
     "end_time": "2024-05-17T15:22:18.062291Z",
     "start_time": "2024-05-17T15:22:15.049600Z"
    }
   },
   "source": [
    "fig, _ = plotter_comp.plot()\n",
    "save_fig(fig, \"last-iters-DS\")"
   ],
   "outputs": []
  },
  {
   "cell_type": "markdown",
   "id": "765de371-83e5-42fa-891d-0b9b5ba5a9b7",
   "metadata": {},
   "source": [
    "# Baricentro de la GAN"
   ]
  },
  {
   "cell_type": "markdown",
   "id": "402b983e-2f9e-4bdf-8013-99c0d2fd3805",
   "metadata": {},
   "source": [
    "## Definir el algoritmo"
   ]
  },
  {
   "cell_type": "code",
   "execution_count": 22,
   "id": "a87f4f77-9763-467c-993d-8a4c6a20f2a2",
   "metadata": {
    "ExecuteTime": {
     "end_time": "2024-05-17T15:22:18.319473Z",
     "start_time": "2024-05-17T15:22:18.064259Z"
    }
   },
   "source": [
    "distr_sampler = GeneratorDistribSampler()\n",
    "distr_sampler.fit(generator=G, noise_sampler=noise_sampler, transform_out=transform_out_)\n",
    "distr_sampler.draw()"
   ],
   "outputs": []
  },
  {
   "cell_type": "code",
   "execution_count": 23,
   "id": "58a3d383-ca0d-464e-a3d7-8a1b5c75dc00",
   "metadata": {
    "ExecuteTime": {
     "end_time": "2024-05-17T15:22:18.328897Z",
     "start_time": "2024-05-17T15:22:18.321298Z"
    }
   },
   "source": [
    "dist_draw_sgdw = sgdw.DebiesedDistributionDrawSGDW(\n",
    "    distr_sampler=distr_sampler,\n",
    "    step_scheduler=step_scheduler(**params),\n",
    "    max_iter=MAX_ITER,\n",
    ")\n",
    "dist_draw_sgdw = wrappers.ReportProxy(dist_draw_sgdw, report_every=REPORT_EVERY)\n",
    "dist_draw_sgdw"
   ],
   "outputs": []
  },
  {
   "cell_type": "markdown",
   "id": "edc1f268-401f-49a0-bd39-57e7b9ccd465",
   "metadata": {},
   "source": [
    "Definimos una clase para comparar las imágenes de las muestras con la iteración del algoritmo."
   ]
  },
  {
   "cell_type": "code",
   "execution_count": 24,
   "id": "1a664817-33cc-449f-8dfe-6ce5563068e3",
   "metadata": {
    "ExecuteTime": {
     "end_time": "2024-05-17T15:22:18.337162Z",
     "start_time": "2024-05-17T15:22:18.330852Z"
    }
   },
   "source": [
    "from bwb.sgdw.plotters import PlotterComparison\n",
    "\n",
    "plotter_comp = plotter_comp_gan = PlotterComparison(\n",
    "    dist_draw_sgdw,\n",
    "    n_cols=12,\n",
    "    n_rows=2,\n",
    "    cmap=\"binary_r\",\n",
    "    plot_every=24\n",
    ")\n",
    "plotter_comp.sgdw"
   ],
   "outputs": []
  },
  {
   "cell_type": "code",
   "execution_count": 25,
   "id": "6696dd67-ff5c-4997-a1ed-c232f6f7b664",
   "metadata": {
    "ExecuteTime": {
     "end_time": "2024-05-17T15:22:34.448297Z",
     "start_time": "2024-05-17T15:22:18.339321Z"
    }
   },
   "source": [
    "_log.info(f\"Running SGD-Wasserstein with '{DS_NAME}' GAN barycenter\")\n",
    "bar = plotter_comp.run()\n",
    "dist_draw_sgdw.iter_params"
   ],
   "outputs": []
  },
  {
   "cell_type": "markdown",
   "id": "64546737-17b3-4ee4-ae2a-0907ececb640",
   "metadata": {},
   "source": [
    "Obtenemos una visualización de las primeras imágenes."
   ]
  },
  {
   "cell_type": "code",
   "execution_count": 26,
   "id": "2e3e786f-935b-47ae-82e3-6ba020bec6c2",
   "metadata": {
    "ExecuteTime": {
     "end_time": "2024-05-17T15:22:37.492368Z",
     "start_time": "2024-05-17T15:22:34.449942Z"
    }
   },
   "source": [
    "fig, _ = plotter_comp.plot(0)\n",
    "save_fig(fig, \"first-iters-GAN\")"
   ],
   "outputs": []
  },
  {
   "cell_type": "markdown",
   "id": "219865ca-cee6-4039-b070-90de127e2f9e",
   "metadata": {},
   "source": [
    "Obtenemos una visualización de las últimas imágenes."
   ]
  },
  {
   "cell_type": "code",
   "execution_count": 27,
   "id": "c35a30cd-65de-443f-9c73-3d92d6ca3a20",
   "metadata": {
    "ExecuteTime": {
     "end_time": "2024-05-17T15:22:40.429883Z",
     "start_time": "2024-05-17T15:22:37.494276Z"
    },
    "scrolled": true
   },
   "source": [
    "fig, _ = plotter_comp.plot()\n",
    "save_fig(fig, \"last-iters-GAN\")"
   ],
   "outputs": []
  },
  {
   "cell_type": "code",
   "execution_count": 27,
   "id": "ad9a47d7-6251-4397-8190-cc3f681c7fb7",
   "metadata": {
    "ExecuteTime": {
     "end_time": "2024-05-17T15:22:40.434178Z",
     "start_time": "2024-05-17T15:22:40.431498Z"
    }
   },
   "source": [],
   "outputs": []
  },
  {
   "cell_type": "code",
   "execution_count": 27,
   "id": "4b09f420-1ece-49c5-9984-a1db4ee08b06",
   "metadata": {
    "ExecuteTime": {
     "end_time": "2024-05-17T15:22:40.441793Z",
     "start_time": "2024-05-17T15:22:40.439093Z"
    }
   },
   "source": [],
   "outputs": []
  },
  {
   "cell_type": "code",
   "execution_count": 27,
   "id": "4c11f00a-cb4c-4c04-8c85-33f13062650f",
   "metadata": {
    "ExecuteTime": {
     "end_time": "2024-05-17T15:22:40.446462Z",
     "start_time": "2024-05-17T15:22:40.443658Z"
    }
   },
   "source": [],
   "outputs": []
  }
 ],
 "metadata": {
  "kernelspec": {
   "display_name": "Python 3 (ipykernel)",
   "language": "python",
   "name": "python3"
  },
  "language_info": {
   "codemirror_mode": {
    "name": "ipython",
    "version": 3
   },
   "file_extension": ".py",
   "mimetype": "text/x-python",
   "name": "python",
   "nbconvert_exporter": "python",
   "pygments_lexer": "ipython3",
   "version": "3.12.2"
  }
 },
 "nbformat": 4,
 "nbformat_minor": 5
}
