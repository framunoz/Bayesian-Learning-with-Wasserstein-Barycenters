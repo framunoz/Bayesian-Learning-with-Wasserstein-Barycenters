{
 "cells": [
  {
   "cell_type": "markdown",
   "id": "18accc3d-c586-48f9-9dc5-ad6c8bbcab59",
   "metadata": {},
   "source": [
    "# Configuraciones iniciales"
   ]
  },
  {
   "cell_type": "markdown",
   "id": "86787770-4c79-4e3a-bdae-af5790c12954",
   "metadata": {},
   "source": [
    "## Constantes"
   ]
  },
  {
   "cell_type": "code",
   "execution_count": 1,
   "id": "de03d0be-7e95-401a-bcbc-36d8b9cab4ee",
   "metadata": {
    "ExecuteTime": {
     "end_time": "2024-04-27T20:01:14.202176Z",
     "start_time": "2024-04-27T20:01:14.197085Z"
    }
   },
   "outputs": [],
   "source": [
    "NOTEBOOK = 5\n",
    "CLEAN_LOGS = False  # If you want to clean the logs directory\n",
    "SAVE_FIGS = True  # If you want to save the figures.\n",
    "N_ROWS, N_COLS = 2, 8\n",
    "\n",
    "# MCMC Configurations\n",
    "RUN_MCMC = False\n",
    "BURN = 5_000\n",
    "NUM_SAMPLES = 100_000\n",
    "N_WALKERS = 32\n",
    "\n",
    "# Posterior\n",
    "N_DATA = 5\n",
    "\n",
    "REPORT_EVERY = 100  # To report at the logger\n",
    "PLOT_EVERY = 250\n",
    "MAX_ITER = 5_000  # MAx number of iterations for the SGDW\n",
    "BATCH_SIZE = 1\n",
    "PROJ_EVERY = None\n",
    "\n",
    "# MAX_ITER = 50; REPORT_EVERY = 5  # Descomentar para debuguear\n",
    "# BURN = 200\n",
    "# NUM_SAMPLES = 1_000\n",
    "# N_WALKERS = 2"
   ]
  },
  {
   "cell_type": "code",
   "execution_count": 2,
   "id": "a9ac8eb0-51f8-4fbb-be06-184e9c370133",
   "metadata": {},
   "outputs": [],
   "source": [
    "import random\n",
    "\n",
    "import numpy as np\n",
    "import torch\n",
    "\n",
    "SEED = 42\n",
    "torch.manual_seed(SEED)\n",
    "torch.cuda.manual_seed(SEED)\n",
    "np.random.seed(SEED)\n",
    "random.seed(SEED)\n",
    "\n",
    "torch.backends.cudnn.deterministic = True"
   ]
  },
  {
   "cell_type": "code",
   "execution_count": 3,
   "id": "538087dd-b25b-4689-a5cd-4e47475e6344",
   "metadata": {},
   "outputs": [
    {
     "name": "stderr",
     "output_type": "stream",
     "text": [
      "ic| CURR_PATH: PosixPath('/home/fmunoz/codeProjects/pythonProjects/Bayesian-Learning-with-Wasserstein-Barycenters/examples/03-sgdw')\n",
      "ic| BASE_PATH: PosixPath('/home/fmunoz/codeProjects/pythonProjects/Bayesian-Learning-with-Wasserstein-Barycenters')\n",
      "ic| DATA_PATH: PosixPath('/home/fmunoz/codeProjects/pythonProjects/Bayesian-Learning-with-Wasserstein-Barycenters/data')\n",
      "ic| WGAN_PATH: PosixPath('/home/fmunoz/codeProjects/pythonProjects/Bayesian-Learning-with-Wasserstein-Barycenters/wgan_gp')\n",
      "ic| NETS_PATH: PosixPath('/home/fmunoz/codeProjects/pythonProjects/Bayesian-Learning-with-Wasserstein-Barycenters/wgan_gp/networks')\n",
      "ic| IMGS_PATH: PosixPath('/home/fmunoz/codeProjects/pythonProjects/Bayesian-Learning-with-Wasserstein-Barycenters/examples/03-sgdw/imgs/notebook-05')\n",
      "ic| MCMC_PATH: PosixPath('/home/fmunoz/codeProjects/pythonProjects/Bayesian-Learning-with-Wasserstein-Barycenters/saved_mcmc')\n",
      "ic| NUTS_PATH: PosixPath('/home/fmunoz/codeProjects/pythonProjects/Bayesian-Learning-with-Wasserstein-Barycenters/saved_mcmc/NUTS')\n"
     ]
    },
    {
     "data": {
      "text/plain": [
       "PosixPath('/home/fmunoz/codeProjects/pythonProjects/Bayesian-Learning-with-Wasserstein-Barycenters/saved_mcmc/NUTS')"
      ]
     },
     "execution_count": 3,
     "metadata": {},
     "output_type": "execute_result"
    }
   ],
   "source": [
    "from pathlib import Path\n",
    "from icecream import ic\n",
    "\n",
    "\n",
    "DS_NAME = \"data\"\n",
    "\n",
    "CURR_PATH = Path().absolute()\n",
    "ic(CURR_PATH)\n",
    "BASE_PATH = CURR_PATH.parent.parent\n",
    "ic(BASE_PATH)\n",
    "DATA_PATH = BASE_PATH / \"data\"\n",
    "ic(DATA_PATH)\n",
    "WGAN_PATH = BASE_PATH / \"wgan_gp\"\n",
    "ic(WGAN_PATH)\n",
    "NETS_PATH = WGAN_PATH / \"networks\" \n",
    "ic(NETS_PATH)\n",
    "IMGS_PATH = CURR_PATH / \"imgs\" / f\"notebook-{NOTEBOOK:02d}\"\n",
    "IMGS_PATH.mkdir(parents=True, exist_ok=True)\n",
    "ic(IMGS_PATH)\n",
    "MCMC_PATH = BASE_PATH / \"saved_mcmc\"\n",
    "ic(MCMC_PATH)\n",
    "NUTS_PATH = MCMC_PATH / \"NUTS\"\n",
    "ic(NUTS_PATH)"
   ]
  },
  {
   "cell_type": "code",
   "execution_count": 4,
   "id": "1c0f4906-d557-45b9-ba2f-140f0a70e86d",
   "metadata": {},
   "outputs": [],
   "source": [
    "def save_fig(fig, name_to_save):\n",
    "    if SAVE_FIGS:\n",
    "        PATH_TO_SAVE = IMGS_PATH / name_to_save\n",
    "        fig.savefig(PATH_TO_SAVE.with_suffix(\".pdf\"))\n",
    "        fig.savefig(PATH_TO_SAVE.with_suffix(\".png\"))"
   ]
  },
  {
   "cell_type": "markdown",
   "id": "e576a636-2d5d-49b1-baca-d8b401256a93",
   "metadata": {},
   "source": [
    "## Importaciones generales"
   ]
  },
  {
   "cell_type": "code",
   "execution_count": 5,
   "id": "643da47f-b8a7-4528-bef4-1341c98a9182",
   "metadata": {},
   "outputs": [],
   "source": [
    "from icecream import ic\n",
    "from bwb.sgdw import sgdw\n",
    "from bwb.sgdw import wrappers\n",
    "from bwb.sgdw import plotters as plotters_\n",
    "from bwb.distributions import *\n",
    "import bwb.utils.plotters as plotters\n",
    "import matplotlib.pyplot as plt\n",
    "from bwb.distributions.posterior_samplers import NUTSPosteriorSampler"
   ]
  },
  {
   "cell_type": "markdown",
   "id": "249e10dc-42ba-4247-bd73-b6ce1f24c379",
   "metadata": {},
   "source": [
    "## Configuraciones "
   ]
  },
  {
   "cell_type": "code",
   "execution_count": 6,
   "id": "7511a4d5-0229-4e13-afc2-fc0f8d9f1fcc",
   "metadata": {},
   "outputs": [
    {
     "data": {
      "text/plain": [
       "Config(dtype=torch.float32, device=cuda:0, eps=1.00e-16)"
      ]
     },
     "execution_count": 6,
     "metadata": {},
     "output_type": "execute_result"
    }
   ],
   "source": [
    "from bwb.config import conf\n",
    "\n",
    "conf.use_gpu()\n",
    "conf.use_single_precision()\n",
    "conf.set_eps(1e-16)\n",
    "conf"
   ]
  },
  {
   "cell_type": "markdown",
   "id": "cc5a2c2b-3058-4f25-b977-2a76b6044eea",
   "metadata": {},
   "source": [
    "## Configuración del Logger"
   ]
  },
  {
   "cell_type": "code",
   "execution_count": 7,
   "id": "cddce309-5b4c-46f0-8522-f01d42ed3314",
   "metadata": {},
   "outputs": [],
   "source": [
    "import time\n",
    "from pathlib import Path\n",
    "\n",
    "\n",
    "# Create the logs directory\n",
    "LOG_PATH = Path(\"logs\") / f\"notebook-{NOTEBOOK:02d}_{time.strftime('%Y%m%d_%H%M%S')}.log\"\n",
    "if not LOG_PATH.parent.exists():\n",
    "    LOG_PATH.parent.mkdir()\n",
    "\n",
    "# Clean the logs\n",
    "if CLEAN_LOGS:\n",
    "    for log_file in Path(\"logs\").glob(f\"notebook-{NOTEBOOK:02d}*.log\"):\n",
    "        log_file.unlink()"
   ]
  },
  {
   "cell_type": "code",
   "execution_count": 8,
   "id": "c22b2dfe-f81b-44f6-922e-840e513c2d3b",
   "metadata": {},
   "outputs": [
    {
     "name": "stderr",
     "output_type": "stream",
     "text": [
      "ic| log_config.loggers: {'bwb.config': <Logger bwb.config (WARNING)>,\n",
      "                         'bwb.distributions.discrete_distribution': <Logger bwb.distributions.discrete_distribution (WARNING)>,\n",
      "                         'bwb.distributions.distribution_samplers': <Logger bwb.distributions.distribution_samplers (WARNING)>,\n",
      "                         'bwb.distributions.posterior_samplers': <Logger bwb.distributions.posterior_samplers (WARNING)>,\n",
      "                         'bwb.distributions.utils': <Logger bwb.distributions.utils (WARNING)>,\n",
      "                         'bwb.pot.transports': <Logger bwb.pot.transports (WARNING)>,\n",
      "                         'bwb.sgdw.plotters': <Logger bwb.sgdw.plotters (WARNING)>,\n",
      "                         'bwb.sgdw.sgdw': <Logger bwb.sgdw.sgdw (WARNING)>,\n",
      "                         'bwb.sgdw.utils': <Logger bwb.sgdw.utils (WARNING)>,\n",
      "                         'bwb.sgdw.wrappers': <Logger bwb.sgdw.wrappers (WARNING)>,\n",
      "                         'bwb.utils.autocorr': <Logger bwb.utils.autocorr (WARNING)>,\n",
      "                         'bwb.utils.plotters': <Logger bwb.utils.plotters (WARNING)>,\n",
      "                         'bwb.utils.utils': <Logger bwb.utils.utils (WARNING)>}\n"
     ]
    },
    {
     "data": {
      "text/plain": [
       "LoggerConfiguration(LEVEL=30, HANDLERS=[<FileHandler /home/fmunoz/codeProjects/pythonProjects/Bayesian-Learning-with-Wasserstein-Barycenters/examples/03-sgdw/logs/notebook-05_20240613_035635.log (NOTSET)>])"
      ]
     },
     "execution_count": 8,
     "metadata": {},
     "output_type": "execute_result"
    }
   ],
   "source": [
    "import logging\n",
    "from bwb.logging_ import log_config\n",
    "from bwb import logging_\n",
    "\n",
    "\n",
    "# Remove the handlers\n",
    "log_config.remove_all_handlers()\n",
    "ic(log_config.loggers)\n",
    "\n",
    "# Define and add FileHandler\n",
    "fh = logging.FileHandler(LOG_PATH)\n",
    "log_config.add_handler(fh)\n",
    "\n",
    "\n",
    "_log = log_config.get_logger(\"notebook\")\n",
    "log_config.set_level(level=logging.DEBUG, name=\"notebook\")\n",
    "log_config.set_level(level=logging.DEBUG, name=\"bwb.sgdw.sgdw\")\n",
    "log_config.set_level(level=logging.DEBUG, name=\"bwb.sgdw.plotters\")"
   ]
  },
  {
   "cell_type": "markdown",
   "id": "94af2ebd-36f1-47e8-906e-da081fc3d9ba",
   "metadata": {},
   "source": [
    "Esta celda es para configurar la información mostrada en el logger"
   ]
  },
  {
   "cell_type": "code",
   "execution_count": 9,
   "id": "49f04546-5b2a-46da-8c07-c76bb6d35503",
   "metadata": {},
   "outputs": [],
   "source": [
    "# Set the default options for the report\n",
    "wrappers.ReportProxy.INCLUDE_OPTIONS = wrappers.ReportOptions(\n",
    "    dt=False,\n",
    "    dt_per_iter=True,\n",
    "    iter=True,\n",
    "    step_schd=True,\n",
    "    total_time=True,\n",
    "    w_dist=False\n",
    ")"
   ]
  },
  {
   "cell_type": "markdown",
   "id": "daa78db9-fc48-400a-952c-247ebabc9b02",
   "metadata": {},
   "source": [
    "## Obtención del dataset"
   ]
  },
  {
   "cell_type": "code",
   "execution_count": 10,
   "id": "42edc32e-7dcd-44a0-ba17-e51542c6598a",
   "metadata": {},
   "outputs": [
    {
     "name": "stderr",
     "output_type": "stream",
     "text": [
      "ic| file_path: PosixPath('/home/fmunoz/codeProjects/pythonProjects/Bayesian-Learning-with-Wasserstein-Barycenters/wgan_gp/dataset/cleaned/data.npy')\n",
      "ic| len(dataset): 195479\n"
     ]
    },
    {
     "data": {
      "image/png": "[encoded data removed]",
      "text/plain": [
       "<Figure size 640x480 with 1 Axes>"
      ]
     },
     "metadata": {},
     "output_type": "display_data"
    }
   ],
   "source": [
    "# You can use the wrapper to transform the usual DataSet into a model set\n",
    "from bwb.distributions.models import ModelDataset\n",
    "import quick_torch as qt\n",
    "import torchvision.transforms.v2 as T\n",
    "\n",
    "transform_ds = T.Compose([\n",
    "    T.Resize((32, 32)),\n",
    "    T.ToImage(),\n",
    "    T.ToDtype(conf.dtype, scale=True),\n",
    "    T.Lambda(lambda x: x.squeeze()),\n",
    "])\n",
    "\n",
    "def get_ds(file_path, transform=transform_ds):\n",
    "    ic(file_path)\n",
    "    categories = [qt.Category.FACE]\n",
    "    dataset_ = qt.QuickDraw(\n",
    "        root=DATA_PATH,\n",
    "        categories=categories,\n",
    "        transform=transform,\n",
    "        download=True,\n",
    "        recognized=True,\n",
    "    )\n",
    "    path_dataset = Path(file_path)\n",
    "    dataset_.data = np.load(path_dataset).reshape(-1, 28, 28)\n",
    "    dataset_.targets = np.ones(len(dataset_.data), dtype=int)\n",
    "    dataset = dataset_.get_train_data()\n",
    "    ic(len(dataset))\n",
    "\n",
    "    return ModelDataset(dataset)\n",
    "\n",
    "DS_PATH = WGAN_PATH / \"dataset\" / \"cleaned\" / f\"{DS_NAME}.npy\"\n",
    "ds_models = get_ds(DS_PATH)\n",
    "ds_dist_sampler = UniformDiscreteSampler().fit(ds_models)\n",
    "\n",
    "first_face = ds_models.get(0)\n",
    "fig, _ = plotters.plot_draw(first_face, title=\"First face\")\n",
    "save_fig(fig, \"first_face\")"
   ]
  },
  {
   "cell_type": "code",
   "execution_count": 11,
   "id": "ae709cc3-4ea7-4368-8217-fe7e2d989806",
   "metadata": {},
   "outputs": [
    {
     "data": {
      "text/plain": [
       "ModelDataset(device=cuda:0, dtype=torch.float32, dataset=Dataset QuickDraw\n",
       "    Number of datapoints: 195479\n",
       "    Root location: /home/fmunoz/codeProjects/pythonProjects/Bayesian-Learning-with-Wasserstein-Barycenters/data\n",
       "    StandardTransform\n",
       "Transform: Compose(\n",
       "                 Resize(size=[32, 32], interpolation=InterpolationMode.BILINEAR, antialias=True)\n",
       "                 ToImage()\n",
       "                 ToDtype(scale=True)\n",
       "                 Lambda(<lambda>, types=['object'])\n",
       "           ))"
      ]
     },
     "execution_count": 11,
     "metadata": {},
     "output_type": "execute_result"
    }
   ],
   "source": [
    "ds_models"
   ]
  },
  {
   "cell_type": "markdown",
   "id": "c39a9b88-3e12-455b-9c47-272023619c0d",
   "metadata": {},
   "source": [
    "## Obtener data"
   ]
  },
  {
   "cell_type": "code",
   "execution_count": 12,
   "id": "b2d3cc50-59c9-43c7-8575-f0e7360aeeb5",
   "metadata": {},
   "outputs": [
    {
     "data": {
      "image/png": "[encoded data removed]",
      "text/plain": [
       "<Figure size 640x480 with 2 Axes>"
      ]
     },
     "metadata": {},
     "output_type": "display_data"
    }
   ],
   "source": [
    "data = first_face.sample((1_000,))[:N_DATA]\n",
    "\n",
    "shape = first_face.shape\n",
    "data_coords = first_face.enumerate_support_()[data].cpu().numpy() + np.random.randn(len(data), 2) * 0.1\n",
    "\n",
    "plotters.plot_histogram_from_points(data_coords, rotate=True, shape=shape, histplot_kwargs=dict(bins=shape[0]))\n",
    "plt.show()"
   ]
  },
  {
   "cell_type": "markdown",
   "id": "2add9c0d-b67d-4bca-b61a-3f90fe6fc407",
   "metadata": {},
   "source": [
    "## Obtener GAN"
   ]
  },
  {
   "cell_type": "markdown",
   "id": "98434373-916d-4852-8f60-92bebcb497e6",
   "metadata": {},
   "source": [
    "De la misma manera, se puede definir un muestreador de distribuciones utilizando una GAN. Para ello, empezamos definiendo las redes neuronales a utilizar"
   ]
  },
  {
   "cell_type": "code",
   "execution_count": 13,
   "id": "23f272fb-9306-4ba6-b18a-976ad643ff44",
   "metadata": {},
   "outputs": [
    {
     "name": "stderr",
     "output_type": "stream",
     "text": [
      "ic| FACE_PATH: PosixPath('/home/fmunoz/codeProjects/pythonProjects/Bayesian-Learning-with-Wasserstein-Barycenters/wgan_gp/networks/cleaned_data_zDim128_norm_bs_128')\n"
     ]
    },
    {
     "name": "stdout",
     "output_type": "stream",
     "text": [
      "\n"
     ]
    }
   ],
   "source": [
    "from wgan_gp.wgan_gp_vae.model_resnet import Generator, Encoder, LatentDistribution\n",
    "import torch\n",
    "from wgan_gp.wgan_gp_vae.utils import load_checkpoint\n",
    "\n",
    "\n",
    "device = conf.device\n",
    "\n",
    "NOISE = \"norm\"\n",
    "LATENT_DIM = 128\n",
    "CHANNELS_IMG = 1\n",
    "NUM_FILTERS = [256, 128, 64, 32]\n",
    "\n",
    "noise_sampler = LatentDistribution(NOISE, LATENT_DIM, device)\n",
    "\n",
    "\n",
    "G = Generator(LATENT_DIM, CHANNELS_IMG, latent_distr=NOISE).to(device)\n",
    "E = Encoder(LATENT_DIM, CHANNELS_IMG).to(device)\n",
    "\n",
    "DS_NAME = \"data\"\n",
    "FACE_PATH = NETS_PATH / f\"cleaned_{DS_NAME}_zDim{LATENT_DIM}_{NOISE}_bs_128\"\n",
    "ic(FACE_PATH)\n",
    "\n",
    "load_checkpoint(G, FACE_PATH, \"generator\", device)\n",
    "load_checkpoint(E, FACE_PATH, \"encoder\", device)\n",
    "\n",
    "G.eval(); E.eval()\n",
    "print()"
   ]
  },
  {
   "cell_type": "code",
   "execution_count": 14,
   "id": "f3cb37f6-6a10-426e-85a8-29bf33323a40",
   "metadata": {},
   "outputs": [
    {
     "data": {
      "text/plain": [
       "LatentDistribution(name=norm, z_dim=128, device=cuda:0, dtype=torch.float32, seed=2694771340227214)"
      ]
     },
     "execution_count": 14,
     "metadata": {},
     "output_type": "execute_result"
    }
   ],
   "source": [
    "noise_sampler"
   ]
  },
  {
   "cell_type": "code",
   "execution_count": 15,
   "id": "acccf577-8035-402a-8320-e40279916d03",
   "metadata": {},
   "outputs": [
    {
     "name": "stdout",
     "output_type": "stream",
     "text": [
      "torch.float32\n"
     ]
    },
    {
     "data": {
      "image/png": "[encoded data removed]",
      "text/plain": [
       "DistributionDraw(shape=(32, 32), device=cuda:0, dtype=torch.float32))"
      ]
     },
     "execution_count": 15,
     "metadata": {},
     "output_type": "execute_result"
    }
   ],
   "source": [
    "from bwb.distributions import DistributionDraw\n",
    "from torchvision import disable_beta_transforms_warning\n",
    "disable_beta_transforms_warning()\n",
    "\n",
    "import torchvision.transforms.v2 as T\n",
    "\n",
    "\n",
    "z = noise_sampler(1)\n",
    "m = G(z)\n",
    "\n",
    "transform_in = T.Compose([\n",
    "    T.Lambda(lambda x: x / torch.max(x)),\n",
    "    T.ToPILImage(),\n",
    "    T.Resize(32),\n",
    "    T.ToImage(),\n",
    "    T.ConvertImageDtype(conf.dtype),\n",
    "    T.Normalize((0.5,), (0.5,)),\n",
    "])\n",
    "\n",
    "transform_out_ = T.Compose([\n",
    "    T.ToDtype(conf.dtype),\n",
    "    T.Lambda(lambda x: x.squeeze()),\n",
    "    T.Lambda(lambda x: x - torch.min(x)),\n",
    "    T.Lambda(lambda x: x / torch.sum(x)),\n",
    "])\n",
    "\n",
    "transform_out = T.Compose([\n",
    "    transform_out_,\n",
    "    T.Lambda(lambda x: DistributionDraw.from_grayscale_weights(x)),\n",
    "])\n",
    "\n",
    "\n",
    "out: DistributionDraw = transform_out(m)\n",
    "print(out.dtype)\n",
    "out"
   ]
  },
  {
   "cell_type": "markdown",
   "id": "ec7f35b4-e276-4b7f-9890-16185222b628",
   "metadata": {},
   "source": [
    "## Definir Proyector"
   ]
  },
  {
   "cell_type": "code",
   "execution_count": 16,
   "id": "b81a5e87-a5cb-40ef-968c-4efaa6dc95db",
   "metadata": {},
   "outputs": [],
   "source": [
    "from wgan_gp.wgan_gp_vae.utils import ProjectorOnManifold\n",
    "import torchvision.transforms.v2 as T\n",
    "\n",
    "transform_in_proj = T.Compose([\n",
    "    # From pdf to grayscale\n",
    "    T.Lambda(lambda x: x / torch.max(x)),\n",
    "    T.ToPILImage(),\n",
    "    T.Resize((32, 32)),\n",
    "    T.ToImage(),\n",
    "    T.ToDtype(conf.dtype, scale=True),\n",
    "    T.Normalize(\n",
    "        [0.5 for _ in range(1)],\n",
    "        [0.5 for _ in range(1)],\n",
    "    ),\n",
    "])\n",
    "\n",
    "transform_out_proj = T.Compose([\n",
    "    # Ensure the range is in [0, 1]\n",
    "    T.Lambda(lambda x: x - torch.min(x)),\n",
    "    T.Lambda(lambda x: x / torch.max(x)),\n",
    "    T.Lambda(lambda x: x / torch.sum(x)),\n",
    "    T.Lambda(lambda x: x.squeeze(0)),\n",
    "])\n",
    "\n",
    "_proj = ProjectorOnManifold(\n",
    "    E, G, \n",
    "    transform_in=transform_in_proj,\n",
    "    transform_out=transform_out_proj,\n",
    ")\n",
    "\n",
    "def proj(input_: torch.Tensor) -> torch.Tensor:\n",
    "    \"\"\"\n",
    "    Defines a projector using the interface.\n",
    "    \"\"\"\n",
    "    return _proj(input_).to(input_)"
   ]
  },
  {
   "cell_type": "markdown",
   "id": "d9c2a6c4-97a3-4e83-b541-20261b42901e",
   "metadata": {},
   "source": [
    "## Definir $\\gamma_k$"
   ]
  },
  {
   "cell_type": "markdown",
   "id": "088c6165-8de8-4d9f-957a-6ce6e426e3db",
   "metadata": {},
   "source": [
    "Aquí se utiliza una función de la forma\n",
    "\\begin{equation*}\n",
    "    \\gamma_k = \\frac{a}{(b^{1/c} + k)^c}\n",
    "\\end{equation*}\n",
    "\n",
    "Con $a > 0$, $b \\geq 0$ y $0.5 < c \\leq 1$\n",
    "\n",
    "La idea es que cuando $k=0$, $\\gamma_0 = \\frac{a}{b}$ es la proporción entre $a$ y $b$, permitiendo ajustar el valor inicial."
   ]
  },
  {
   "cell_type": "code",
   "execution_count": 17,
   "id": "5232d728-ef6f-4343-a131-daf967bac268",
   "metadata": {},
   "outputs": [
    {
     "name": "stdout",
     "output_type": "stream",
     "text": [
      "t = 0; gamma(t) = 99.67%\n",
      "t = 1; gamma(t) = 94.55%\n",
      "t = 2; gamma(t) = 90.15%\n",
      "t = 3; gamma(t) = 86.31%\n",
      "t = 4; gamma(t) = 82.93%\n",
      "\n",
      "t = 50; gamma(t) = 38.89%\n",
      "t = 51; gamma(t) = 38.57%\n",
      "t = 52; gamma(t) = 38.25%\n",
      "t = 53; gamma(t) = 37.94%\n",
      "t = 54; gamma(t) = 37.63%\n",
      "\n",
      "t = 100; gamma(t) = 28.60%\n",
      "t = 101; gamma(t) = 28.47%\n",
      "t = 102; gamma(t) = 28.34%\n",
      "t = 103; gamma(t) = 28.21%\n",
      "t = 104; gamma(t) = 28.09%\n",
      "\n",
      "t = 300; gamma(t) = 16.97%\n",
      "t = 301; gamma(t) = 16.94%\n",
      "t = 302; gamma(t) = 16.91%\n",
      "t = 303; gamma(t) = 16.89%\n",
      "t = 304; gamma(t) = 16.86%\n",
      "\n",
      "t = 500; gamma(t) = 13.21%\n",
      "t = 501; gamma(t) = 13.20%\n",
      "t = 502; gamma(t) = 13.19%\n",
      "t = 503; gamma(t) = 13.18%\n",
      "t = 504; gamma(t) = 13.16%\n",
      "\n",
      "t = 1_000; gamma(t) = 9.38%\n",
      "t = 1_001; gamma(t) = 9.37%\n",
      "t = 1_002; gamma(t) = 9.37%\n",
      "t = 1_003; gamma(t) = 9.37%\n",
      "t = 1_004; gamma(t) = 9.36%\n",
      "\n",
      "t = 3_000; gamma(t) = 5.43%\n",
      "t = 3_001; gamma(t) = 5.42%\n",
      "t = 3_002; gamma(t) = 5.42%\n",
      "t = 3_003; gamma(t) = 5.42%\n",
      "t = 3_004; gamma(t) = 5.42%\n",
      "\n",
      "t = 5_000; gamma(t) = 4.20%\n",
      "t = 5_001; gamma(t) = 4.20%\n",
      "t = 5_002; gamma(t) = 4.20%\n",
      "t = 5_003; gamma(t) = 4.20%\n",
      "t = 5_004; gamma(t) = 4.20%\n",
      "\n"
     ]
    }
   ],
   "source": [
    "from bwb.sgdw.utils import step_scheduler\n",
    "window = 5\n",
    "\n",
    "def test_gamma(gamma):\n",
    "\n",
    "    for t in range(window):\n",
    "        print(f\"{t = :_}; {gamma(t) = :.2%}\")\n",
    "    print()\n",
    "\n",
    "    init = 50\n",
    "    for t in range(init, init+window):\n",
    "        print(f\"{t = :_}; {gamma(t) = :.2%}\")\n",
    "    print()\n",
    "\n",
    "    init = 100\n",
    "    for t in range(init, init+window):\n",
    "        print(f\"{t = :_}; {gamma(t) = :.2%}\")\n",
    "    print()\n",
    "\n",
    "    init = 300\n",
    "    for t in range(init, init+window):\n",
    "        print(f\"{t = :_}; {gamma(t) = :.2%}\")\n",
    "    print()\n",
    "\n",
    "    init = 500\n",
    "    for t in range(init, init+window):\n",
    "        print(f\"{t = :_}; {gamma(t) = :.2%}\")\n",
    "    print()\n",
    "\n",
    "    init = 1_000\n",
    "    for t in range(init, init+window):\n",
    "        print(f\"{t = :_}; {gamma(t) = :.2%}\")\n",
    "    print()\n",
    "\n",
    "    init = 3_000\n",
    "    for t in range(init, init+window):\n",
    "        print(f\"{t = :_}; {gamma(t) = :.2%}\")\n",
    "    print()\n",
    "\n",
    "    init = 5_000\n",
    "    for t in range(init, init+window):\n",
    "        print(f\"{t = :_}; {gamma(t) = :.2%}\")\n",
    "    print()\n",
    "\n",
    "\n",
    "_a = 3\n",
    "_eps = 1e-3\n",
    "params = dict(a=_a, b=_a+1e-2, c=0.5+_eps)\n",
    "# params = dict(a=1, b=1, c=1)\n",
    "\n",
    "gamma = step_scheduler(**params)\n",
    "\n",
    "test_gamma(step_scheduler(**params))"
   ]
  },
  {
   "cell_type": "markdown",
   "id": "c224ef5b-43c5-41f6-8aa0-dbf1636be493",
   "metadata": {},
   "source": [
    "## Definir distribución a posteriori con MCMC"
   ]
  },
  {
   "cell_type": "code",
   "execution_count": 18,
   "id": "d77a26e0-953d-4c68-9c71-a958ac493244",
   "metadata": {
    "scrolled": true
   },
   "outputs": [
    {
     "name": "stdout",
     "output_type": "stream",
     "text": [
      "/home/fmunoz/codeProjects/pythonProjects/Bayesian-Learning-with-Wasserstein-Barycenters/saved_mcmc/NUTS/bayes-bar-n_data-5-burn-5_000-num_samples-100_000-n_walkers-32.pkl.gz\n",
      "/home/fmunoz/codeProjects/pythonProjects/Bayesian-Learning-with-Wasserstein-Barycenters/examples/03-sgdw/data/n_data-5-burn-5_000-num_samples-100_000-n_walkers-32.pkl\n"
     ]
    }
   ],
   "source": [
    "NUTS_POSTERIOR_PATH = NUTS_PATH / f\"bayes-bar-n_data-{N_DATA}-burn-{BURN:_}-num_samples-{NUM_SAMPLES:_}-n_walkers-{N_WALKERS}\"\n",
    "NUTS_POSTERIOR_PATH = NUTS_POSTERIOR_PATH.with_suffix(\".pkl.gz\")\n",
    "print(NUTS_POSTERIOR_PATH)\n",
    "\n",
    "POST_DATA_PATH = CURR_PATH / \"data\"  # / f\"n_data-{N_DATA}.pkl\"\n",
    "POST_DATA_PATH.mkdir(parents=True, exist_ok=True)\n",
    "DATA_PATH_ = POST_DATA_PATH / f\"n_data-{N_DATA}-burn-{BURN:_}-num_samples-{NUM_SAMPLES:_}-n_walkers-{N_WALKERS}.pkl\"\n",
    "print(DATA_PATH_)"
   ]
  },
  {
   "cell_type": "code",
   "execution_count": null,
   "id": "efe62830-2306-47bc-b941-17436bff188e",
   "metadata": {},
   "outputs": [
    {
     "name": "stdout",
     "output_type": "stream",
     "text": [
      "Sampling (Sampler.HMC; Integrator.IMPLICIT)\n",
      "Time spent  | Time remain.| Progress             | Samples       | Samples/sec\n",
      "Final Adapted Step Size:  0.19052168726921082--- |   4992/105000 | 60.93       \n",
      "0d:00:26:26 | 0d:00:03:45 | ##################-- |  91936/105000 | 57.94       \r"
     ]
    }
   ],
   "source": [
    "import pickle\n",
    "\n",
    "\n",
    "if not NUTS_POSTERIOR_PATH.exists() or RUN_MCMC:\n",
    "    post_pi_n = NUTSPosteriorSampler(\n",
    "        n_walkers=N_WALKERS,\n",
    "        num_steps_per_sample=1,\n",
    "        burn=BURN,\n",
    "        desired_accept_rate=0.6,\n",
    "        use_half=True,\n",
    "    ).fit(\n",
    "        G, transform_out_, noise_sampler, data,\n",
    "    )\n",
    "\n",
    "    with logging_.register_total_time(_log) as timer:\n",
    "        post_pi_n.run(n_steps=NUM_SAMPLES)\n",
    "    ic(timer.elapsed_time)\n",
    "\n",
    "    with logging_.register_total_time(_log) as timer:\n",
    "        autocorr_time = post_pi_n.get_autocorr_time()\n",
    "    ic(timer.elapsed_time)\n",
    "\n",
    "    with logging_.register_total_time(_log) as timer:\n",
    "        post_pi_n.save(NUTS_POSTERIOR_PATH)\n",
    "    ic(timer.elapsed_time)\n",
    "\n",
    "    with open(DATA_PATH_, \"wb\") as f:\n",
    "        pickle.dump(data, f, protocol=pickle.HIGHEST_PROTOCOL)    \n",
    "    \n",
    "else:\n",
    "    if ic(DATA_PATH_.exists()):\n",
    "        with open(DATA_PATH_, \"rb\") as f:\n",
    "            data = pickle.load(f)\n",
    "            \n",
    "    with logging_.register_total_time(_log) as timer:\n",
    "        post_pi_n = NUTSPosteriorSampler.load(NUTS_POSTERIOR_PATH)\n",
    "        post_pi_n.fit(G, transform_out_, noise_sampler, data)\n",
    "    ic(timer.elapsed_time)\n",
    "\n",
    "    with logging_.register_total_time(_log) as timer:\n",
    "        autocorr_time = post_pi_n.get_autocorr_time()\n",
    "    ic(timer.elapsed_time)\n",
    "\n",
    "post_pi_n"
   ]
  },
  {
   "cell_type": "code",
   "execution_count": null,
   "id": "1d8c6242-bff3-448b-bd7a-4a36db334610",
   "metadata": {},
   "outputs": [],
   "source": [
    "shape = first_face.shape\n",
    "data_coords = first_face.enumerate_support_()[data].cpu().numpy() + np.random.randn(len(data), 2) * 0.1\n",
    "\n",
    "fig, _ = plotters.plot_histogram_from_points(data_coords, rotate=True, shape=shape, histplot_kwargs=dict(bins=shape[0]))\n",
    "save_fig(fig, f\"n_data-{N_DATA}\")\n",
    "plt.show()"
   ]
  },
  {
   "cell_type": "code",
   "execution_count": null,
   "id": "070f18f4-640d-4d98-b0f0-1c4b6b883e44",
   "metadata": {},
   "outputs": [],
   "source": [
    "post_pi_n.mean_autocorr_time"
   ]
  },
  {
   "cell_type": "code",
   "execution_count": null,
   "id": "46ffa91d-f87d-440a-8235-f2c9de766d3b",
   "metadata": {},
   "outputs": [],
   "source": [
    "# mean_autocorr_time = int(autocorr_time.mean())\n",
    "# ic(mean_autocorr_time)\n",
    "# max_autocorr_time = int(autocorr_time.max())\n",
    "# ic(max_autocorr_time)\n",
    "\n",
    "post_pi_n.shuffle_samples_cache()"
   ]
  },
  {
   "cell_type": "code",
   "execution_count": null,
   "id": "d7c73fb0-4dab-431c-8ca9-e5c8eaf0f3e5",
   "metadata": {},
   "outputs": [],
   "source": [
    "from copy import copy\n",
    "post_pi_n_ = copy(post_pi_n)\n",
    "n_rows, n_cols = 6, 12\n",
    "max_imgs = n_rows * n_cols\n",
    "fig, ax = plotters.plot_list_of_draws(\n",
    "    post_pi_n_.sample(max_imgs), \n",
    "    n_rows=n_rows, n_cols=n_cols,\n",
    "    title=f\"Samples from the MCMC\"\n",
    ")\n",
    "save_fig(fig, f\"n-data-{N_DATA}-{post_pi_n.__class__.__name__}-{n_rows}x{n_cols}\")\n",
    "del post_pi_n_"
   ]
  },
  {
   "cell_type": "markdown",
   "id": "e1d3add4-d27b-4219-a624-37093ff39b97",
   "metadata": {},
   "source": [
    "# Cálculo del Baricentro"
   ]
  },
  {
   "cell_type": "code",
   "execution_count": null,
   "id": "9886956e-e527-4e64-8c3c-00552beb67a8",
   "metadata": {},
   "outputs": [],
   "source": [
    "dist_draw_sgdw = wrappers.ReportProxy(\n",
    "    sgdw.DebiesedDistributionDrawSGDW(\n",
    "        distr_sampler=post_pi_n,\n",
    "        step_scheduler=gamma,\n",
    "        batch_size=BATCH_SIZE,\n",
    "        max_iter=MAX_ITER,\n",
    "    ),\n",
    "    report_every=REPORT_EVERY,\n",
    "    log=_log\n",
    ")\n",
    "dist_draw_sgdw"
   ]
  },
  {
   "cell_type": "code",
   "execution_count": null,
   "id": "f17f4461-89a0-4061-8ed2-2631268f6cc2",
   "metadata": {},
   "outputs": [],
   "source": [
    "plotter_comp = plotters_.PlotterComparison(\n",
    "    dist_draw_sgdw,\n",
    "    # projector=proj,\n",
    "    # proj_every=PROJ_EVERY,\n",
    "    n_cols=N_COLS,\n",
    "    n_rows=N_ROWS,\n",
    "    cmap=\"binary_r\",\n",
    "    plot_every=PLOT_EVERY,\n",
    ")\n",
    "plotter_comp.sgdw"
   ]
  },
  {
   "cell_type": "code",
   "execution_count": null,
   "id": "efde9e09-437d-41fe-b073-94ccf11e3893",
   "metadata": {},
   "outputs": [],
   "source": [
    "_log.info(f\"Running SGD-Wasserstein with '{DS_NAME}' bayesian projected barycenter\")\n",
    "with logging_.register_total_time(_log) as timer:\n",
    "    bar = plotter_comp.run()\n",
    "ic(timer.elapsed_time)"
   ]
  },
  {
   "cell_type": "code",
   "execution_count": null,
   "id": "873a4e57-db11-4888-9cdf-f2f438030468",
   "metadata": {},
   "outputs": [],
   "source": [
    "plotter_comp.sgdw"
   ]
  },
  {
   "cell_type": "code",
   "execution_count": null,
   "id": "0c8ae82b-432d-440c-bd19-a60bff24058d",
   "metadata": {},
   "outputs": [],
   "source": [
    "fig, _ = plotter_comp.plot(0)\n",
    "save_fig(fig, F\"first-iters-n-data-{N_DATA}\")"
   ]
  },
  {
   "cell_type": "code",
   "execution_count": null,
   "id": "949b2670-9c84-40ba-81b7-119fe317aac7",
   "metadata": {},
   "outputs": [],
   "source": [
    "fig, _ = plotter_comp.plot()\n",
    "save_fig(fig, f\"last-iters-n-data-{N_DATA}\")"
   ]
  },
  {
   "cell_type": "code",
   "execution_count": null,
   "id": "a8645949-a554-459c-8fc0-129880fce824",
   "metadata": {},
   "outputs": [],
   "source": [
    "fig, _ = plotters.plot_draw(bar, title=r\"BWB with $n={}$\".format(N_DATA))\n",
    "save_fig(fig, f\"BWB-n-data-{N_DATA}\")"
   ]
  },
  {
   "cell_type": "code",
   "execution_count": null,
   "id": "dd4da4d8-363b-42dd-a8ab-38d73a54fa72",
   "metadata": {},
   "outputs": [],
   "source": []
  },
  {
   "cell_type": "code",
   "execution_count": null,
   "id": "d95a45b2-4906-405c-aa32-ee98f2ac7deb",
   "metadata": {},
   "outputs": [],
   "source": []
  },
  {
   "cell_type": "code",
   "execution_count": null,
   "id": "35a72374-4b86-4032-af59-dd92bfd1ee16",
   "metadata": {},
   "outputs": [],
   "source": []
  },
  {
   "cell_type": "code",
   "execution_count": null,
   "id": "34510bc6-2518-439a-b1b4-08bffc01d8b5",
   "metadata": {},
   "outputs": [],
   "source": []
  },
  {
   "cell_type": "code",
   "execution_count": null,
   "id": "c703a0f4-0e7d-4af6-adce-51a6c950f467",
   "metadata": {},
   "outputs": [],
   "source": []
  },
  {
   "cell_type": "code",
   "execution_count": null,
   "id": "d9dc43d9-5c67-49f1-af68-877f6e95360c",
   "metadata": {},
   "outputs": [],
   "source": []
  },
  {
   "cell_type": "code",
   "execution_count": null,
   "id": "20b4f297-9fd9-4508-bd5b-aaa7154e4e9f",
   "metadata": {},
   "outputs": [],
   "source": []
  },
  {
   "cell_type": "code",
   "execution_count": null,
   "id": "5ada0b4c-e2ed-46b1-bb27-143677eeede0",
   "metadata": {},
   "outputs": [],
   "source": []
  },
  {
   "cell_type": "code",
   "execution_count": null,
   "id": "82afd191-1306-44bc-a1fc-00bce17e79ca",
   "metadata": {},
   "outputs": [],
   "source": []
  },
  {
   "cell_type": "code",
   "execution_count": null,
   "id": "3864d3ba-0076-48b1-9c26-4c5766d9af79",
   "metadata": {},
   "outputs": [],
   "source": []
  },
  {
   "cell_type": "code",
   "execution_count": null,
   "id": "4b09f420-1ece-49c5-9984-a1db4ee08b06",
   "metadata": {},
   "outputs": [],
   "source": []
  },
  {
   "cell_type": "code",
   "execution_count": null,
   "id": "4c11f00a-cb4c-4c04-8c85-33f13062650f",
   "metadata": {},
   "outputs": [],
   "source": []
  }
 ],
 "metadata": {
  "kernelspec": {
   "display_name": "Python 3 (ipykernel)",
   "language": "python",
   "name": "python3"
  },
  "language_info": {
   "codemirror_mode": {
    "name": "ipython",
    "version": 3
   },
   "file_extension": ".py",
   "mimetype": "text/x-python",
   "name": "python",
   "nbconvert_exporter": "python",
   "pygments_lexer": "ipython3",
   "version": "3.12.2"
  }
 },
 "nbformat": 4,
 "nbformat_minor": 5
}
