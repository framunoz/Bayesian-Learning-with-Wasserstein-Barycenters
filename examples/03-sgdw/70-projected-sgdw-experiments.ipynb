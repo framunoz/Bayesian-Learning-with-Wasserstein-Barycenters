{
 "cells": [
  {
   "cell_type": "markdown",
   "id": "0",
   "metadata": {},
   "source": [
    "Notebook que sirve de ejemplo para calcular el baricentro de un conjunto de datos de imágenes."
   ]
  },
  {
   "cell_type": "markdown",
   "id": "1",
   "metadata": {},
   "source": [
    "# Configuraciones iniciales"
   ]
  },
  {
   "cell_type": "markdown",
   "id": "2",
   "metadata": {},
   "source": [
    "## Constantes"
   ]
  },
  {
   "cell_type": "code",
   "execution_count": null,
   "id": "3",
   "metadata": {},
   "outputs": [],
   "source": [
    "NOTEBOOK = 70\n",
    "CLEAN_LOGS = True  # If you want to clean the logs directory\n",
    "SAVE_FIGS = True  # If you want to save the figures.\n",
    "\n",
    "REPORT_EVERY = 100  # To report at the logger\n",
    "PLOT_EVERY = 100\n",
    "MAX_ITER = 1_000  # MAx number of iterations for the SGDW\n",
    "BATCH_SIZE = 1\n",
    "PROJ_EVERY = 1\n",
    "\n",
    "# MAX_ITER = 50; REPORT_EVERY = 5  # Descomentar para debuguear"
   ]
  },
  {
   "cell_type": "code",
   "execution_count": null,
   "id": "4",
   "metadata": {},
   "outputs": [],
   "source": [
    "import random\n",
    "\n",
    "import numpy as np\n",
    "import torch\n",
    "\n",
    "SEED = 42\n",
    "torch.manual_seed(SEED)\n",
    "torch.cuda.manual_seed(SEED)\n",
    "np.random.seed(SEED)\n",
    "random.seed(SEED)\n",
    "\n",
    "torch.backends.cudnn.deterministic = True"
   ]
  },
  {
   "cell_type": "code",
   "execution_count": null,
   "id": "5",
   "metadata": {},
   "outputs": [],
   "source": [
    "from pathlib import Path\n",
    "from icecream import ic\n",
    "\n",
    "\n",
    "DS_NAME = \"data\"\n",
    "\n",
    "CURR_PATH = Path().absolute()\n",
    "ic(CURR_PATH)\n",
    "BASE_PATH = CURR_PATH.parent.parent\n",
    "ic(BASE_PATH)\n",
    "DATA_PATH = BASE_PATH / \"data\"\n",
    "ic(DATA_PATH)\n",
    "WGAN_PATH = BASE_PATH / \"wgan_gp\"\n",
    "ic(WGAN_PATH)\n",
    "NETS_PATH = WGAN_PATH / \"networks\"\n",
    "ic(NETS_PATH)\n",
    "IMGS_PATH = CURR_PATH / \"imgs\" / f\"notebook-{NOTEBOOK:02d}\"\n",
    "IMGS_PATH.mkdir(parents=True, exist_ok=True)\n",
    "ic(IMGS_PATH)"
   ]
  },
  {
   "cell_type": "code",
   "execution_count": null,
   "id": "6",
   "metadata": {},
   "outputs": [],
   "source": [
    "def save_fig(fig_, name_to_save: str) -> None:\n",
    "    \"\"\"\n",
    "    Saves a figure using the name\n",
    "    \"\"\"\n",
    "    if SAVE_FIGS:\n",
    "        PATH_TO_SAVE = IMGS_PATH / name_to_save\n",
    "        kwargs = dict(\n",
    "            bbox_inches=\"tight\",\n",
    "        )\n",
    "        fig_.savefig(PATH_TO_SAVE.with_suffix(\".pdf\"), **kwargs)\n",
    "        fig_.savefig(PATH_TO_SAVE.with_suffix(\".png\"), **kwargs)"
   ]
  },
  {
   "cell_type": "markdown",
   "id": "7",
   "metadata": {},
   "source": [
    "## Importaciones generales"
   ]
  },
  {
   "cell_type": "code",
   "execution_count": null,
   "id": "8",
   "metadata": {},
   "outputs": [],
   "source": [
    "from icecream import ic\n",
    "from bwb.sgdw import sgdw\n",
    "from bwb.sgdw import wrappers\n",
    "from bwb.sgdw import plotters\n",
    "from bwb.distributions import *"
   ]
  },
  {
   "cell_type": "markdown",
   "id": "9",
   "metadata": {
    "jp-MarkdownHeadingCollapsed": true
   },
   "source": [
    "## Configuraciones "
   ]
  },
  {
   "cell_type": "code",
   "execution_count": null,
   "id": "10",
   "metadata": {},
   "outputs": [],
   "source": [
    "from bwb.config import conf\n",
    "\n",
    "conf.use_gpu()\n",
    "conf.use_single_precision()\n",
    "conf.set_eps(1e-16)\n",
    "conf"
   ]
  },
  {
   "cell_type": "markdown",
   "id": "11",
   "metadata": {
    "jp-MarkdownHeadingCollapsed": true
   },
   "source": [
    "## Configuración del Logger"
   ]
  },
  {
   "cell_type": "code",
   "execution_count": null,
   "id": "12",
   "metadata": {},
   "outputs": [],
   "source": [
    "import time\n",
    "from pathlib import Path\n",
    "\n",
    "\n",
    "# Create the logs directory\n",
    "LOG_PATH = (\n",
    "    Path(\"logs\")\n",
    "    / f\"notebook-{NOTEBOOK:02d}_{time.strftime('%Y%m%d_%H%M%S')}.log\"\n",
    ")\n",
    "if not LOG_PATH.parent.exists():\n",
    "    LOG_PATH.parent.mkdir()\n",
    "\n",
    "# Clean the logs\n",
    "if CLEAN_LOGS:\n",
    "    for log_file in Path(\"logs\").glob(f\"notebook-{NOTEBOOK:02d}*.log\"):\n",
    "        log_file.unlink()"
   ]
  },
  {
   "cell_type": "code",
   "execution_count": null,
   "id": "13",
   "metadata": {},
   "outputs": [],
   "source": [
    "import logging\n",
    "from bwb.logging_ import log_config\n",
    "\n",
    "\n",
    "# Remove the handlers\n",
    "log_config.remove_all_handlers()\n",
    "ic(log_config.loggers)\n",
    "\n",
    "# Define and add FileHandler\n",
    "fh = logging.FileHandler(LOG_PATH)\n",
    "log_config.add_handler(fh)\n",
    "\n",
    "\n",
    "_log = log_config.get_logger(\"notebook\")\n",
    "log_config.set_level(level=logging.DEBUG, name=\"notebook\")\n",
    "log_config.set_level(level=logging.DEBUG, name=\"bwb.sgdw.sgdw\")\n",
    "log_config.set_level(level=logging.DEBUG, name=\"bwb.sgdw.plotters\")"
   ]
  },
  {
   "cell_type": "markdown",
   "id": "14",
   "metadata": {},
   "source": [
    "Esta celda es para configurar la información mostrada en el logger"
   ]
  },
  {
   "cell_type": "code",
   "execution_count": null,
   "id": "15",
   "metadata": {},
   "outputs": [],
   "source": [
    "# Set the default options for the report\n",
    "wrappers.ReportProxy.INCLUDE_OPTIONS = wrappers.ReportOptions(\n",
    "    dt=False,\n",
    "    dt_per_iter=True,\n",
    "    iter=True,\n",
    "    step_schd=True,\n",
    "    total_time=True,\n",
    "    w_dist=False,\n",
    ")"
   ]
  },
  {
   "cell_type": "markdown",
   "id": "16",
   "metadata": {
    "jp-MarkdownHeadingCollapsed": true
   },
   "source": [
    "## Obtención del dataset"
   ]
  },
  {
   "cell_type": "code",
   "execution_count": null,
   "id": "17",
   "metadata": {},
   "outputs": [],
   "source": [
    "# You can use the wrapper to transform the usual DataSet into a model set\n",
    "from bwb.distributions.models import ModelDataset\n",
    "import quick_torch as qt\n",
    "import torchvision.transforms.v2 as T\n",
    "\n",
    "transform_ds = T.Compose([\n",
    "    T.Resize((32, 32)),\n",
    "    T.ToImage(),\n",
    "    T.ToDtype(conf.dtype, scale=True),\n",
    "    T.Lambda(lambda x: x.squeeze()),\n",
    "])\n",
    "\n",
    "\n",
    "def get_ds(file_path: Path, transform=transform_ds) -> ModelDataset:\n",
    "    \"\"\"\n",
    "    Get a dataset to follow the interface\n",
    "    \"\"\"\n",
    "    ic(file_path)\n",
    "    categories = [qt.Category.FACE]\n",
    "    dataset_ = qt.QuickDraw(\n",
    "        root=DATA_PATH,\n",
    "        categories=categories,\n",
    "        transform=transform,\n",
    "        download=True,\n",
    "        recognized=True,\n",
    "    )\n",
    "    path_dataset = Path(file_path)\n",
    "    dataset_.data = np.load(path_dataset).reshape(-1, 28, 28)\n",
    "    dataset_.targets = np.ones(len(dataset_.data), dtype=int)\n",
    "    dataset = dataset_.get_train_data()\n",
    "    ic(len(dataset))\n",
    "\n",
    "    return ModelDataset(dataset)\n",
    "\n",
    "\n",
    "DS_PATH = WGAN_PATH / \"dataset\" / \"cleaned\" / f\"{DS_NAME}.npy\"\n",
    "ds_models = get_ds(DS_PATH)\n",
    "\n",
    "ds_models.get(0)"
   ]
  },
  {
   "cell_type": "code",
   "execution_count": null,
   "id": "18",
   "metadata": {},
   "outputs": [],
   "source": [
    "ds_models"
   ]
  },
  {
   "cell_type": "markdown",
   "id": "19",
   "metadata": {
    "jp-MarkdownHeadingCollapsed": true
   },
   "source": [
    "## Obtener GAN"
   ]
  },
  {
   "cell_type": "markdown",
   "id": "20",
   "metadata": {},
   "source": [
    "De la misma manera, se puede definir un muestreador de distribuciones utilizando una GAN. Para ello, empezamos definiendo las redes neuronales a utilizar"
   ]
  },
  {
   "cell_type": "code",
   "execution_count": null,
   "id": "21",
   "metadata": {},
   "outputs": [],
   "source": [
    "from wgan_gp.wgan_gp_vae.model_resnet import (\n",
    "    Generator,\n",
    "    Encoder,\n",
    "    LatentDistribution,\n",
    ")\n",
    "import torch\n",
    "from wgan_gp.wgan_gp_vae.utils import load_checkpoint\n",
    "\n",
    "\n",
    "device = conf.device\n",
    "\n",
    "NOISE = \"norm\"\n",
    "LATENT_DIM = 128\n",
    "CHANNELS_IMG = 1\n",
    "NUM_FILTERS = [256, 128, 64, 32]\n",
    "\n",
    "noise_sampler = LatentDistribution(NOISE, LATENT_DIM, device)\n",
    "\n",
    "\n",
    "G = Generator(LATENT_DIM, CHANNELS_IMG, latent_distr=NOISE).to(device)\n",
    "E = Encoder(LATENT_DIM, CHANNELS_IMG).to(device)\n",
    "\n",
    "DS_NAME = \"data\"\n",
    "FACE_PATH = NETS_PATH / f\"cleaned_{DS_NAME}_zDim{LATENT_DIM}_{NOISE}_bs_128\"\n",
    "ic(FACE_PATH)\n",
    "\n",
    "load_checkpoint(G, FACE_PATH, \"generator\", device)\n",
    "load_checkpoint(E, FACE_PATH, \"encoder\", device)\n",
    "\n",
    "G.eval()\n",
    "E.eval()\n",
    "print()"
   ]
  },
  {
   "cell_type": "code",
   "execution_count": null,
   "id": "22",
   "metadata": {},
   "outputs": [],
   "source": [
    "noise_sampler"
   ]
  },
  {
   "cell_type": "code",
   "execution_count": null,
   "id": "23",
   "metadata": {},
   "outputs": [],
   "source": [
    "from bwb.distributions import DistributionDraw\n",
    "from torchvision import disable_beta_transforms_warning\n",
    "\n",
    "disable_beta_transforms_warning()\n",
    "\n",
    "import torchvision.transforms.v2 as T\n",
    "\n",
    "\n",
    "z = noise_sampler(1)\n",
    "m = G(z)\n",
    "\n",
    "transform_in = T.Compose([\n",
    "    T.Lambda(lambda x: x / torch.max(x)),\n",
    "    T.ToPILImage(),\n",
    "    T.Resize(32),\n",
    "    T.ToImage(),\n",
    "    T.ConvertImageDtype(conf.dtype),\n",
    "    T.Normalize((0.5,), (0.5,)),\n",
    "])\n",
    "\n",
    "transform_out_ = T.Compose([\n",
    "    T.ToDtype(conf.dtype),\n",
    "    T.Lambda(lambda x: x.squeeze()),\n",
    "    T.Lambda(lambda x: x - torch.min(x)),\n",
    "    T.Lambda(lambda x: x / torch.sum(x)),\n",
    "])\n",
    "\n",
    "transform_out = T.Compose([\n",
    "    transform_out_,\n",
    "    T.Lambda(lambda x: DistributionDraw.from_grayscale_weights(x)),\n",
    "])\n",
    "\n",
    "\n",
    "out: DistributionDraw = transform_out(m)\n",
    "print(out.dtype)\n",
    "out"
   ]
  },
  {
   "cell_type": "markdown",
   "id": "24",
   "metadata": {
    "jp-MarkdownHeadingCollapsed": true
   },
   "source": [
    "## Definir Proyector"
   ]
  },
  {
   "cell_type": "code",
   "execution_count": null,
   "id": "25",
   "metadata": {},
   "outputs": [],
   "source": [
    "from wgan_gp.wgan_gp_vae.utils import ProjectorOnManifold\n",
    "import torchvision.transforms.v2 as T\n",
    "\n",
    "transform_in_proj = T.Compose([\n",
    "    # From pdf to grayscale\n",
    "    T.Lambda(lambda x: x / torch.max(x)),\n",
    "    T.ToPILImage(),\n",
    "    T.Resize((32, 32)),\n",
    "    T.ToImage(),\n",
    "    T.ToDtype(conf.dtype, scale=True),\n",
    "    T.Normalize(\n",
    "        [0.5 for _ in range(1)],\n",
    "        [0.5 for _ in range(1)],\n",
    "    ),\n",
    "])\n",
    "\n",
    "transform_out_proj = T.Compose([\n",
    "    # Ensure the range is in [0, 1]\n",
    "    T.Lambda(lambda x: x - torch.min(x)),\n",
    "    T.Lambda(lambda x: x / torch.max(x)),\n",
    "    T.Lambda(lambda x: x / torch.sum(x)),\n",
    "    T.Lambda(lambda x: x.squeeze(0)),\n",
    "])\n",
    "\n",
    "_proj = ProjectorOnManifold(\n",
    "    E,\n",
    "    G,\n",
    "    transform_in=transform_in_proj,\n",
    "    transform_out=transform_out_proj,\n",
    ")\n",
    "\n",
    "\n",
    "def proj(input_: torch.Tensor) -> torch.Tensor:\n",
    "    \"\"\"\n",
    "    Defines a projector using the interface.\n",
    "    \"\"\"\n",
    "    return _proj(input_).to(input_)"
   ]
  },
  {
   "cell_type": "markdown",
   "id": "26",
   "metadata": {},
   "source": [
    "## Definir $\\gamma_k$"
   ]
  },
  {
   "cell_type": "markdown",
   "id": "27",
   "metadata": {},
   "source": [
    "Aquí se utiliza una función de la forma\n",
    "\\begin{equation*}\n",
    "    \\gamma_k = \\frac{a}{(b^{1/c} + k)^c}\n",
    "\\end{equation*}\n",
    "\n",
    "Con $a > 0$, $b \\geq 0$ y $0.5 < c \\leq 1$\n",
    "\n",
    "La idea es que cuando $k = 0 $, $\\gamma_0 = \\frac{a}{b}$ es la proporción entre $a$ y $b$, permitiendo ajustar el valor\n",
    " inicial."
   ]
  },
  {
   "cell_type": "code",
   "execution_count": null,
   "id": "28",
   "metadata": {},
   "outputs": [],
   "source": [
    "from bwb.sgdw.utils import step_scheduler\n",
    "\n",
    "window = 5\n",
    "\n",
    "\n",
    "def test_gamma(gamma_) -> None:\n",
    "\n",
    "    for t in range(window):\n",
    "        print(f\"{t = :_}; {gamma_(t) = :.2%}\")\n",
    "    print()\n",
    "\n",
    "    init = 50\n",
    "    for t in range(init, init + window):\n",
    "        print(f\"{t = :_}; {gamma_(t) = :.2%}\")\n",
    "    print()\n",
    "\n",
    "    init = 100\n",
    "    for t in range(init, init + window):\n",
    "        print(f\"{t = :_}; {gamma_(t) = :.2%}\")\n",
    "    print()\n",
    "\n",
    "    init = 300\n",
    "    for t in range(init, init + window):\n",
    "        print(f\"{t = :_}; {gamma_(t) = :.2%}\")\n",
    "    print()\n",
    "\n",
    "    init = 500\n",
    "    for t in range(init, init + window):\n",
    "        print(f\"{t = :_}; {gamma_(t) = :.2%}\")\n",
    "    print()\n",
    "\n",
    "    init = 1_000\n",
    "    for t in range(init, init + window):\n",
    "        print(f\"{t = :_}; {gamma_(t) = :.2%}\")\n",
    "    print()\n",
    "\n",
    "    init = 3_000\n",
    "    for t in range(init, init + window):\n",
    "        print(f\"{t = :_}; {gamma_(t) = :.2%}\")\n",
    "    print()\n",
    "\n",
    "    init = 5_000\n",
    "    for t in range(init, init + window):\n",
    "        print(f\"{t = :_}; {gamma_(t) = :.2%}\")\n",
    "    print()\n",
    "\n",
    "\n",
    "_a = 3\n",
    "_eps = 1e-3\n",
    "params = dict(a=_a, b=_a + 1e-2, c=0.5 + _eps)\n",
    "# params = dict(a=1, b=1, c=1)\n",
    "\n",
    "gamma = step_scheduler(**params)\n",
    "# gamma = 0.1\n",
    "\n",
    "test_gamma(step_scheduler(**params))"
   ]
  },
  {
   "cell_type": "markdown",
   "id": "29",
   "metadata": {},
   "source": [
    "# Experimentos"
   ]
  },
  {
   "cell_type": "code",
   "execution_count": null,
   "id": "30",
   "metadata": {},
   "outputs": [],
   "source": [
    "import bwb.utils.plotters as plotters_\n",
    "\n",
    "\n",
    "def experiment(\n",
    "    max_iter=MAX_ITER,\n",
    "    gamma_=gamma,\n",
    "    batch_size=BATCH_SIZE,\n",
    "    proj_every=PROJ_EVERY,\n",
    "    plot_every=None,\n",
    "    col_row=(6, 1),\n",
    "    register_iter=False,\n",
    "):\n",
    "    # Def sampler\n",
    "    distr_sampler = UniformDiscreteSampler[DistributionDraw]().fit(\n",
    "        models=ds_models\n",
    "    )\n",
    "\n",
    "    # Def sgdw\n",
    "    dist_draw_sgdw = sgdw.DebiesedDistributionDrawSGDW(\n",
    "        distr_sampler=distr_sampler,\n",
    "        step_scheduler=gamma_,\n",
    "        batch_size=batch_size,\n",
    "        max_iter=max_iter,\n",
    "    )\n",
    "    dist_draw_sgdw = wrappers.ReportProxy(\n",
    "        dist_draw_sgdw, report_every=REPORT_EVERY, log=_log\n",
    "    )\n",
    "\n",
    "    # Def plotter\n",
    "    plotter_comp = plotters.PlotterComparisonProjected(\n",
    "        dist_draw_sgdw,\n",
    "        projector=proj,\n",
    "        proj_every=proj_every,\n",
    "        n_cols=col_row[0],\n",
    "        n_rows=col_row[1],\n",
    "        cmap=\"binary_r\",\n",
    "        plot_every=plot_every,\n",
    "    )\n",
    "\n",
    "    if register_iter:\n",
    "        plotter_comp.sgdw = wrappers.LogDistrIterProxy(plotter_comp.sgdw)\n",
    "\n",
    "    bar = plotter_comp.run()\n",
    "\n",
    "    return plotter_comp, bar"
   ]
  },
  {
   "cell_type": "markdown",
   "id": "31",
   "metadata": {},
   "source": [
    "Experimento del proyectado cada tanto"
   ]
  },
  {
   "cell_type": "code",
   "execution_count": null,
   "id": "32",
   "metadata": {},
   "outputs": [],
   "source": [
    "for pe in [1, 3, 5, 10]:\n",
    "    plotter_comp, bar = experiment(\n",
    "        gamma_=gamma, batch_size=1, proj_every=pe, col_row=(6, 1)\n",
    "    )\n",
    "\n",
    "    fig, _ = plotter_comp.plot(\n",
    "        0, title=f\"Primeras iteraciones SGDWP,\\nproyectando cada {pe}\"\n",
    "    )\n",
    "    save_fig(fig, f\"first-iters-pe-{pe}\")\n",
    "\n",
    "    fig, _ = plotter_comp.plot(\n",
    "        title=f\"Últimas iteraciones SGDWP,\\nproyectando cada {pe}\"\n",
    "    )\n",
    "    save_fig(fig, f\"last-iters-pe-{pe}\")\n",
    "\n",
    "    fig, _ = plotters_.plot_draw(\n",
    "        bar, title=f\"Baricentro usando SGDWP,\\nproyectando cada {pe}\"\n",
    "    )\n",
    "    save_fig(fig, f\"bar-SGDWP-pe-{pe}\")"
   ]
  },
  {
   "cell_type": "markdown",
   "id": "33",
   "metadata": {},
   "source": [
    "Experimento de correr más veces"
   ]
  },
  {
   "cell_type": "code",
   "execution_count": null,
   "id": "34",
   "metadata": {},
   "outputs": [],
   "source": [
    "for i in range(1, 11):\n",
    "    plotter_comp, bar = experiment(\n",
    "        gamma_=gamma, batch_size=1, proj_every=1, col_row=(8, 2)\n",
    "    )\n",
    "\n",
    "    fig, _ = plotters_.plot_draw(\n",
    "        bar, title=f\"Baricentro usando SGDWP,\\nexperimento {i}\"\n",
    "    )\n",
    "    save_fig(fig, f\"bar-SGDWP-exp-{i}\")"
   ]
  },
  {
   "cell_type": "markdown",
   "id": "35",
   "metadata": {},
   "source": [
    "Experimento paseo aleatorio"
   ]
  },
  {
   "cell_type": "code",
   "execution_count": null,
   "id": "36",
   "metadata": {},
   "outputs": [],
   "source": [
    "plotter_comp, bar = experiment(\n",
    "    max_iter=MAX_ITER,\n",
    "    gamma_=0.1,\n",
    "    batch_size=BATCH_SIZE,\n",
    "    proj_every=PROJ_EVERY,\n",
    "    col_row=(6, 1),\n",
    "    register_iter=True,\n",
    ")\n",
    "\n",
    "sgdw_ = plotter_comp.sgdw"
   ]
  },
  {
   "cell_type": "code",
   "execution_count": null,
   "id": "37",
   "metadata": {},
   "outputs": [],
   "source": [
    "f\"{5:02d}\""
   ]
  },
  {
   "cell_type": "code",
   "execution_count": null,
   "id": "38",
   "metadata": {},
   "outputs": [],
   "source": [
    "K = sgdw_.iter_params.k\n",
    "init = int(K * 0.0)  # Burn the 20% at first\n",
    "end = K + 1\n",
    "every = int(end - init) // 10\n",
    "print(f\"{init = }, {end = }, {every = }\")\n",
    "\n",
    "for i, iiter in enumerate(range(init, end, every)):\n",
    "    if i == 0:\n",
    "        continue\n",
    "    d = sgdw_[iiter]\n",
    "    fig, _ = plotters_.plot_draw(\n",
    "        d, title=f\"Baricentro SGDWP\\nen la iteración {iiter}\"\n",
    "    )\n",
    "    save_fig(fig, f\"bar-SGDWP-random-walk-iter-{i:02d}\")"
   ]
  },
  {
   "cell_type": "code",
   "execution_count": null,
   "id": "39",
   "metadata": {},
   "outputs": [],
   "source": [
    "plotter_comp.plot()"
   ]
  }
 ],
 "metadata": {
  "kernelspec": {
   "display_name": "Python 3 (ipykernel)",
   "language": "python",
   "name": "python3"
  },
  "language_info": {
   "codemirror_mode": {
    "name": "ipython",
    "version": 3
   },
   "file_extension": ".py",
   "mimetype": "text/x-python",
   "name": "python",
   "nbconvert_exporter": "python",
   "pygments_lexer": "ipython3",
   "version": "3.12.2"
  }
 },
 "nbformat": 4,
 "nbformat_minor": 5
}
