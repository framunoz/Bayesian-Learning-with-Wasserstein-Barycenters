{
 "cells": [
  {
   "cell_type": "markdown",
   "id": "cc5c3ae3d7a901e9",
   "metadata": {},
   "source": [
    "Notebook que sirve de ejemplo para calcular el baricentro de un conjunto de datos de imágenes."
   ]
  },
  {
   "cell_type": "markdown",
   "id": "18accc3d-c586-48f9-9dc5-ad6c8bbcab59",
   "metadata": {},
   "source": [
    "# Configuraciones iniciales"
   ]
  },
  {
   "cell_type": "markdown",
   "id": "86787770-4c79-4e3a-bdae-af5790c12954",
   "metadata": {},
   "source": [
    "## Constantes"
   ]
  },
  {
   "cell_type": "code",
   "execution_count": 1,
   "id": "de03d0be-7e95-401a-bcbc-36d8b9cab4ee",
   "metadata": {
    "ExecuteTime": {
     "end_time": "2024-05-25T03:50:28.418409Z",
     "start_time": "2024-05-25T03:50:28.413657Z"
    }
   },
   "source": [
    "NOTEBOOK = 70\n",
    "CLEAN_LOGS = True  # If you want to clean the logs directory\n",
    "SAVE_FIGS = True  # If you want to save the figures.\n",
    "\n",
    "REPORT_EVERY = 100  # To report at the logger\n",
    "PLOT_EVERY = 100\n",
    "MAX_ITER = 1_000  # MAx number of iterations for the SGDW\n",
    "BATCH_SIZE = 1\n",
    "PROJ_EVERY = 1\n",
    "\n",
    "# MAX_ITER = 50; REPORT_EVERY = 5  # Descomentar para debuguear"
   ],
   "outputs": []
  },
  {
   "cell_type": "code",
   "execution_count": 2,
   "id": "a9ac8eb0-51f8-4fbb-be06-184e9c370133",
   "metadata": {
    "ExecuteTime": {
     "end_time": "2024-05-25T03:50:31.142454Z",
     "start_time": "2024-05-25T03:50:29.825613Z"
    }
   },
   "source": [
    "import random\n",
    "\n",
    "import numpy as np\n",
    "import torch\n",
    "\n",
    "SEED = 42\n",
    "torch.manual_seed(SEED)\n",
    "torch.cuda.manual_seed(SEED)\n",
    "np.random.seed(SEED)\n",
    "random.seed(SEED)\n",
    "\n",
    "torch.backends.cudnn.deterministic = True"
   ],
   "outputs": []
  },
  {
   "cell_type": "code",
   "execution_count": 3,
   "id": "538087dd-b25b-4689-a5cd-4e47475e6344",
   "metadata": {
    "ExecuteTime": {
     "end_time": "2024-05-25T03:50:31.259225Z",
     "start_time": "2024-05-25T03:50:31.145506Z"
    }
   },
   "source": [
    "from pathlib import Path\n",
    "from icecream import ic\n",
    "\n",
    "\n",
    "DS_NAME = \"data\"\n",
    "\n",
    "CURR_PATH = Path().absolute()\n",
    "ic(CURR_PATH)\n",
    "BASE_PATH = CURR_PATH.parent.parent\n",
    "ic(BASE_PATH)\n",
    "DATA_PATH = BASE_PATH / \"data\"\n",
    "ic(DATA_PATH)\n",
    "WGAN_PATH = BASE_PATH / \"wgan_gp\"\n",
    "ic(WGAN_PATH)\n",
    "NETS_PATH = WGAN_PATH / \"networks\" \n",
    "ic(NETS_PATH)\n",
    "IMGS_PATH = CURR_PATH / \"imgs\" / f\"notebook-{NOTEBOOK:02d}\"\n",
    "IMGS_PATH.mkdir(parents=True, exist_ok=True)\n",
    "ic(IMGS_PATH)"
   ],
   "outputs": []
  },
  {
   "cell_type": "code",
   "execution_count": 4,
   "id": "1c0f4906-d557-45b9-ba2f-140f0a70e86d",
   "metadata": {
    "ExecuteTime": {
     "end_time": "2024-05-25T03:50:31.264154Z",
     "start_time": "2024-05-25T03:50:31.260762Z"
    }
   },
   "source": [
    "def save_fig(fig_, name_to_save: str) -> None:\n",
    "    \"\"\"\n",
    "    Saves a figure using the name\n",
    "    \"\"\"\n",
    "    if SAVE_FIGS:\n",
    "        PATH_TO_SAVE = IMGS_PATH / name_to_save\n",
    "        kwargs = dict(\n",
    "            bbox_inches=\"tight\",\n",
    "        )\n",
    "        fig_.savefig(PATH_TO_SAVE.with_suffix(\".pdf\"), **kwargs)\n",
    "        fig_.savefig(PATH_TO_SAVE.with_suffix(\".png\"), **kwargs)"
   ],
   "outputs": []
  },
  {
   "cell_type": "markdown",
   "id": "e576a636-2d5d-49b1-baca-d8b401256a93",
   "metadata": {},
   "source": [
    "## Importaciones generales"
   ]
  },
  {
   "cell_type": "code",
   "execution_count": 5,
   "id": "643da47f-b8a7-4528-bef4-1341c98a9182",
   "metadata": {
    "ExecuteTime": {
     "end_time": "2024-05-25T03:50:33.305483Z",
     "start_time": "2024-05-25T03:50:31.266390Z"
    }
   },
   "source": [
    "from icecream import ic\n",
    "from bwb.sgdw import sgdw\n",
    "from bwb.sgdw import wrappers\n",
    "from bwb.sgdw import plotters\n",
    "from bwb.distributions import *"
   ],
   "outputs": []
  },
  {
   "cell_type": "markdown",
   "id": "249e10dc-42ba-4247-bd73-b6ce1f24c379",
   "metadata": {
    "jp-MarkdownHeadingCollapsed": true
   },
   "source": [
    "## Configuraciones "
   ]
  },
  {
   "cell_type": "code",
   "execution_count": 6,
   "id": "7511a4d5-0229-4e13-afc2-fc0f8d9f1fcc",
   "metadata": {
    "ExecuteTime": {
     "end_time": "2024-05-25T03:50:33.312942Z",
     "start_time": "2024-05-25T03:50:33.307345Z"
    }
   },
   "source": [
    "from bwb.config import conf\n",
    "\n",
    "conf.use_gpu()\n",
    "conf.use_single_precision()\n",
    "conf.set_eps(1e-16)\n",
    "conf"
   ],
   "outputs": []
  },
  {
   "cell_type": "markdown",
   "id": "cc5a2c2b-3058-4f25-b977-2a76b6044eea",
   "metadata": {
    "jp-MarkdownHeadingCollapsed": true
   },
   "source": [
    "## Configuración del Logger"
   ]
  },
  {
   "cell_type": "code",
   "execution_count": 7,
   "id": "cddce309-5b4c-46f0-8522-f01d42ed3314",
   "metadata": {
    "ExecuteTime": {
     "end_time": "2024-05-25T03:50:33.319575Z",
     "start_time": "2024-05-25T03:50:33.314894Z"
    }
   },
   "source": [
    "import time\n",
    "from pathlib import Path\n",
    "\n",
    "\n",
    "# Create the logs directory\n",
    "LOG_PATH = Path(\"logs\") / f\"notebook-{NOTEBOOK:02d}_{time.strftime('%Y%m%d_%H%M%S')}.log\"\n",
    "if not LOG_PATH.parent.exists():\n",
    "    LOG_PATH.parent.mkdir()\n",
    "\n",
    "# Clean the logs\n",
    "if CLEAN_LOGS:\n",
    "    for log_file in Path(\"logs\").glob(f\"notebook-{NOTEBOOK:02d}*.log\"):\n",
    "        log_file.unlink()"
   ],
   "outputs": []
  },
  {
   "cell_type": "code",
   "execution_count": 8,
   "id": "c22b2dfe-f81b-44f6-922e-840e513c2d3b",
   "metadata": {
    "ExecuteTime": {
     "end_time": "2024-05-25T03:50:33.579485Z",
     "start_time": "2024-05-25T03:50:33.320936Z"
    }
   },
   "source": [
    "import logging\n",
    "from bwb.logging_ import log_config\n",
    "\n",
    "\n",
    "# Remove the handlers\n",
    "log_config.remove_all_handlers()\n",
    "ic(log_config.loggers)\n",
    "\n",
    "# Define and add FileHandler\n",
    "fh = logging.FileHandler(LOG_PATH)\n",
    "log_config.add_handler(fh)\n",
    "\n",
    "\n",
    "_log = log_config.get_logger(\"notebook\")\n",
    "log_config.set_level(level=logging.DEBUG, name=\"notebook\")\n",
    "log_config.set_level(level=logging.DEBUG, name=\"bwb.sgdw.sgdw\")\n",
    "log_config.set_level(level=logging.DEBUG, name=\"bwb.sgdw.plotters\")"
   ],
   "outputs": []
  },
  {
   "cell_type": "markdown",
   "id": "94af2ebd-36f1-47e8-906e-da081fc3d9ba",
   "metadata": {},
   "source": [
    "Esta celda es para configurar la información mostrada en el logger"
   ]
  },
  {
   "cell_type": "code",
   "execution_count": 9,
   "id": "49f04546-5b2a-46da-8c07-c76bb6d35503",
   "metadata": {
    "ExecuteTime": {
     "end_time": "2024-05-25T03:50:33.584253Z",
     "start_time": "2024-05-25T03:50:33.580960Z"
    }
   },
   "source": [
    "# Set the default options for the report\n",
    "wrappers.ReportProxy.INCLUDE_OPTIONS = wrappers.ReportOptions(\n",
    "    dt=False,\n",
    "    dt_per_iter=True,\n",
    "    iter=True,\n",
    "    step_schd=True,\n",
    "    total_time=True,\n",
    "    w_dist=False\n",
    ")"
   ],
   "outputs": []
  },
  {
   "cell_type": "markdown",
   "id": "daa78db9-fc48-400a-952c-247ebabc9b02",
   "metadata": {
    "jp-MarkdownHeadingCollapsed": true
   },
   "source": [
    "## Obtención del dataset"
   ]
  },
  {
   "cell_type": "code",
   "execution_count": 10,
   "id": "42edc32e-7dcd-44a0-ba17-e51542c6598a",
   "metadata": {
    "ExecuteTime": {
     "end_time": "2024-05-25T03:50:34.255643Z",
     "start_time": "2024-05-25T03:50:33.586041Z"
    }
   },
   "source": [
    "# You can use the wrapper to transform the usual DataSet into a model set\n",
    "from bwb.distributions.models import ModelDataset\n",
    "import quick_torch as qt\n",
    "import torchvision.transforms.v2 as T\n",
    "\n",
    "transform_ds = T.Compose([\n",
    "    T.Resize((32, 32)),\n",
    "    T.ToImage(),\n",
    "    T.ToDtype(conf.dtype, scale=True),\n",
    "    T.Lambda(lambda x: x.squeeze()),\n",
    "])\n",
    "\n",
    "def get_ds(file_path: Path, transform=transform_ds) -> ModelDataset:\n",
    "    \"\"\"\n",
    "    Get a dataset to follow the interface\n",
    "    \"\"\"\n",
    "    ic(file_path)\n",
    "    categories = [qt.Category.FACE]\n",
    "    dataset_ = qt.QuickDraw(\n",
    "        root=DATA_PATH,\n",
    "        categories=categories,\n",
    "        transform=transform,\n",
    "        download=True,\n",
    "        recognized=True,\n",
    "    )\n",
    "    path_dataset = Path(file_path)\n",
    "    dataset_.data = np.load(path_dataset).reshape(-1, 28, 28)\n",
    "    dataset_.targets = np.ones(len(dataset_.data), dtype=int)\n",
    "    dataset = dataset_.get_train_data()\n",
    "    ic(len(dataset))\n",
    "\n",
    "    return ModelDataset(dataset)\n",
    "\n",
    "DS_PATH = WGAN_PATH / \"dataset\" / \"cleaned\" / f\"{DS_NAME}.npy\"\n",
    "ds_models = get_ds(DS_PATH)\n",
    "\n",
    "ds_models.get(0)"
   ],
   "outputs": []
  },
  {
   "cell_type": "code",
   "execution_count": 11,
   "id": "ae709cc3-4ea7-4368-8217-fe7e2d989806",
   "metadata": {
    "ExecuteTime": {
     "end_time": "2024-05-25T03:50:34.262742Z",
     "start_time": "2024-05-25T03:50:34.258401Z"
    }
   },
   "source": [
    "ds_models"
   ],
   "outputs": []
  },
  {
   "cell_type": "markdown",
   "id": "2add9c0d-b67d-4bca-b61a-3f90fe6fc407",
   "metadata": {
    "jp-MarkdownHeadingCollapsed": true
   },
   "source": [
    "## Obtener GAN"
   ]
  },
  {
   "cell_type": "markdown",
   "id": "98434373-916d-4852-8f60-92bebcb497e6",
   "metadata": {},
   "source": [
    "De la misma manera, se puede definir un muestreador de distribuciones utilizando una GAN. Para ello, empezamos definiendo las redes neuronales a utilizar"
   ]
  },
  {
   "cell_type": "code",
   "execution_count": 12,
   "id": "23f272fb-9306-4ba6-b18a-976ad643ff44",
   "metadata": {
    "ExecuteTime": {
     "end_time": "2024-05-25T03:50:34.357382Z",
     "start_time": "2024-05-25T03:50:34.264078Z"
    }
   },
   "source": [
    "from wgan_gp.wgan_gp_vae.model_resnet import Generator, Encoder, LatentDistribution\n",
    "import torch\n",
    "from wgan_gp.wgan_gp_vae.utils import load_checkpoint\n",
    "\n",
    "\n",
    "device = conf.device\n",
    "\n",
    "NOISE = \"norm\"\n",
    "LATENT_DIM = 128\n",
    "CHANNELS_IMG = 1\n",
    "NUM_FILTERS = [256, 128, 64, 32]\n",
    "\n",
    "noise_sampler = LatentDistribution(NOISE, LATENT_DIM, device)\n",
    "\n",
    "\n",
    "G = Generator(LATENT_DIM, CHANNELS_IMG, latent_distr=NOISE).to(device)\n",
    "E = Encoder(LATENT_DIM, CHANNELS_IMG).to(device)\n",
    "\n",
    "DS_NAME = \"data\"\n",
    "FACE_PATH = NETS_PATH / f\"cleaned_{DS_NAME}_zDim{LATENT_DIM}_{NOISE}_bs_128\"\n",
    "ic(FACE_PATH)\n",
    "\n",
    "load_checkpoint(G, FACE_PATH, \"generator\", device)\n",
    "load_checkpoint(E, FACE_PATH, \"encoder\", device)\n",
    "\n",
    "G.eval(); E.eval()\n",
    "print()"
   ],
   "outputs": []
  },
  {
   "cell_type": "code",
   "execution_count": 13,
   "id": "f3cb37f6-6a10-426e-85a8-29bf33323a40",
   "metadata": {
    "ExecuteTime": {
     "end_time": "2024-05-25T03:50:34.362983Z",
     "start_time": "2024-05-25T03:50:34.358787Z"
    }
   },
   "source": [
    "noise_sampler"
   ],
   "outputs": []
  },
  {
   "cell_type": "code",
   "execution_count": 14,
   "id": "acccf577-8035-402a-8320-e40279916d03",
   "metadata": {
    "ExecuteTime": {
     "end_time": "2024-05-25T03:50:34.500609Z",
     "start_time": "2024-05-25T03:50:34.364634Z"
    }
   },
   "source": [
    "from bwb.distributions import DistributionDraw\n",
    "from torchvision import disable_beta_transforms_warning\n",
    "disable_beta_transforms_warning()\n",
    "\n",
    "import torchvision.transforms.v2 as T\n",
    "\n",
    "\n",
    "z = noise_sampler(1)\n",
    "m = G(z)\n",
    "\n",
    "transform_in = T.Compose([\n",
    "    T.Lambda(lambda x: x / torch.max(x)),\n",
    "    T.ToPILImage(),\n",
    "    T.Resize(32),\n",
    "    T.ToImage(),\n",
    "    T.ConvertImageDtype(conf.dtype),\n",
    "    T.Normalize((0.5,), (0.5,)),\n",
    "])\n",
    "\n",
    "transform_out_ = T.Compose([\n",
    "    T.ToDtype(conf.dtype),\n",
    "    T.Lambda(lambda x: x.squeeze()),\n",
    "    T.Lambda(lambda x: x - torch.min(x)),\n",
    "    T.Lambda(lambda x: x / torch.sum(x)),\n",
    "])\n",
    "\n",
    "transform_out = T.Compose([\n",
    "    transform_out_,\n",
    "    T.Lambda(lambda x: DistributionDraw.from_grayscale_weights(x)),\n",
    "])\n",
    "\n",
    "\n",
    "out: DistributionDraw = transform_out(m)\n",
    "print(out.dtype)\n",
    "out"
   ],
   "outputs": []
  },
  {
   "cell_type": "markdown",
   "id": "ec7f35b4-e276-4b7f-9890-16185222b628",
   "metadata": {
    "jp-MarkdownHeadingCollapsed": true
   },
   "source": [
    "## Definir Proyector"
   ]
  },
  {
   "cell_type": "code",
   "execution_count": 15,
   "id": "b81a5e87-a5cb-40ef-968c-4efaa6dc95db",
   "metadata": {
    "ExecuteTime": {
     "end_time": "2024-05-25T03:50:34.513172Z",
     "start_time": "2024-05-25T03:50:34.502109Z"
    }
   },
   "source": [
    "from wgan_gp.wgan_gp_vae.utils import ProjectorOnManifold\n",
    "import torchvision.transforms.v2 as T\n",
    "\n",
    "transform_in_proj = T.Compose([\n",
    "    # From pdf to grayscale\n",
    "    T.Lambda(lambda x: x / torch.max(x)),\n",
    "    T.ToPILImage(),\n",
    "    T.Resize((32, 32)),\n",
    "    T.ToImage(),\n",
    "    T.ToDtype(conf.dtype, scale=True),\n",
    "    T.Normalize(\n",
    "        [0.5 for _ in range(1)],\n",
    "        [0.5 for _ in range(1)],\n",
    "    ),\n",
    "])\n",
    "\n",
    "transform_out_proj = T.Compose([\n",
    "    # Ensure the range is in [0, 1]\n",
    "    T.Lambda(lambda x: x - torch.min(x)),\n",
    "    T.Lambda(lambda x: x / torch.max(x)),\n",
    "    T.Lambda(lambda x: x / torch.sum(x)),\n",
    "    T.Lambda(lambda x: x.squeeze(0)),\n",
    "])\n",
    "\n",
    "_proj = ProjectorOnManifold(\n",
    "    E, G, \n",
    "    transform_in=transform_in_proj,\n",
    "    transform_out=transform_out_proj,\n",
    ")\n",
    "\n",
    "def proj(input_: torch.Tensor) -> torch.Tensor:\n",
    "    \"\"\"\n",
    "    Defines a projector using the interface.\n",
    "    \"\"\"\n",
    "    return _proj(input_).to(input_)"
   ],
   "outputs": []
  },
  {
   "cell_type": "markdown",
   "id": "d9c2a6c4-97a3-4e83-b541-20261b42901e",
   "metadata": {},
   "source": [
    "## Definir $\\gamma_k$"
   ]
  },
  {
   "cell_type": "markdown",
   "id": "088c6165-8de8-4d9f-957a-6ce6e426e3db",
   "metadata": {},
   "source": [
    "Aquí se utiliza una función de la forma\n",
    "\\begin{equation*}\n",
    "    \\gamma_k = \\frac{a}{(b^{1/c} + k)^c}\n",
    "\\end{equation*}\n",
    "\n",
    "Con $a > 0$, $b \\geq 0$ y $0.5 < c \\leq 1$\n",
    "\n",
    "La idea es que cuando $k = 0 $, $\\gamma_0 = \\frac{a}{b}$ es la proporción entre $a$ y $b$, permitiendo ajustar el valor\n",
    " inicial."
   ]
  },
  {
   "cell_type": "code",
   "execution_count": 16,
   "id": "5232d728-ef6f-4343-a131-daf967bac268",
   "metadata": {
    "ExecuteTime": {
     "end_time": "2024-05-25T03:50:34.522375Z",
     "start_time": "2024-05-25T03:50:34.514592Z"
    }
   },
   "source": [
    "from bwb.sgdw.utils import step_scheduler\n",
    "window = 5\n",
    "\n",
    "def test_gamma(gamma_) -> None:\n",
    "\n",
    "    for t in range(window):\n",
    "        print(f\"{t = :_}; {gamma_(t) = :.2%}\")\n",
    "    print()\n",
    "\n",
    "    init = 50\n",
    "    for t in range(init, init+window):\n",
    "        print(f\"{t = :_}; {gamma_(t) = :.2%}\")\n",
    "    print()\n",
    "\n",
    "    init = 100\n",
    "    for t in range(init, init+window):\n",
    "        print(f\"{t = :_}; {gamma_(t) = :.2%}\")\n",
    "    print()\n",
    "\n",
    "    init = 300\n",
    "    for t in range(init, init+window):\n",
    "        print(f\"{t = :_}; {gamma_(t) = :.2%}\")\n",
    "    print()\n",
    "\n",
    "    init = 500\n",
    "    for t in range(init, init+window):\n",
    "        print(f\"{t = :_}; {gamma_(t) = :.2%}\")\n",
    "    print()\n",
    "\n",
    "    init = 1_000\n",
    "    for t in range(init, init+window):\n",
    "        print(f\"{t = :_}; {gamma_(t) = :.2%}\")\n",
    "    print()\n",
    "\n",
    "    init = 3_000\n",
    "    for t in range(init, init+window):\n",
    "        print(f\"{t = :_}; {gamma_(t) = :.2%}\")\n",
    "    print()\n",
    "\n",
    "    init = 5_000\n",
    "    for t in range(init, init+window):\n",
    "        print(f\"{t = :_}; {gamma_(t) = :.2%}\")\n",
    "    print()\n",
    "\n",
    "\n",
    "_a = 3\n",
    "_eps = 1e-3\n",
    "params = dict(a=_a, b=_a+1e-2, c=0.5+_eps)\n",
    "# params = dict(a=1, b=1, c=1)\n",
    "\n",
    "gamma = step_scheduler(**params)\n",
    "# gamma = 0.1\n",
    "\n",
    "test_gamma(step_scheduler(**params))"
   ],
   "outputs": []
  },
  {
   "cell_type": "markdown",
   "id": "b978c44e-f6ef-4d3b-b6f2-3b9675fdb2a4",
   "metadata": {},
   "source": [
    "# Experimentos"
   ]
  },
  {
   "cell_type": "code",
   "execution_count": 17,
   "id": "16e48630-a21e-49dd-8c35-d81c8f9e0626",
   "metadata": {},
   "source": [
    "import bwb.utils.plotters as plotters_\n",
    "\n",
    "\n",
    "def experiment(\n",
    "    max_iter=MAX_ITER,\n",
    "    gamma_=gamma,\n",
    "    batch_size=BATCH_SIZE,\n",
    "    proj_every=PROJ_EVERY,\n",
    "    plot_every=None,\n",
    "    col_row=(8, 2),\n",
    "    register_iter=False,\n",
    "):\n",
    "    # Def sampler\n",
    "    distr_sampler = UniformDiscreteSampler[DistributionDraw]().fit(models=ds_models)\n",
    "\n",
    "    # Def sgdw\n",
    "    dist_draw_sgdw = sgdw.DebiesedDistributionDrawSGDW(\n",
    "        distr_sampler=distr_sampler,\n",
    "        step_scheduler=gamma_,\n",
    "        batch_size=batch_size,\n",
    "        max_iter=max_iter,\n",
    "    )\n",
    "    dist_draw_sgdw = wrappers.ReportProxy(\n",
    "        dist_draw_sgdw,\n",
    "        report_every=REPORT_EVERY,\n",
    "        log=_log\n",
    "    )\n",
    "\n",
    "    # Def plotter\n",
    "    plotter_comp = plotter_comp_ds = plotters.PlotterComparisonProjected(\n",
    "        dist_draw_sgdw,\n",
    "        projector=proj,\n",
    "        proj_every=proj_every,\n",
    "        n_cols=col_row[0],\n",
    "        n_rows=col_row[1],\n",
    "        cmap=\"binary_r\",\n",
    "        plot_every=plot_every,\n",
    "    )\n",
    "\n",
    "    if register_iter:\n",
    "        plotter_comp.sgdw = wrappers.LogDistrIterProxy(plotter_comp.sgdw)\n",
    "\n",
    "    bar = plotter_comp.run()\n",
    "    \n",
    "    return plotter_comp, bar"
   ],
   "outputs": []
  },
  {
   "cell_type": "markdown",
   "id": "297c9491-8328-4c44-9f2e-81046b93805f",
   "metadata": {},
   "source": [
    "Experimento del proyectado cada tanto"
   ]
  },
  {
   "cell_type": "code",
   "execution_count": 18,
   "id": "4acb73f1-cffb-4464-a105-f042fd3ab4ba",
   "metadata": {},
   "source": [
    "for pe in [1, 3, 5, 10]:\n",
    "    plotter_comp, bar = experiment(\n",
    "        gamma_=gamma,\n",
    "        batch_size=1,\n",
    "        proj_every=pe,\n",
    "        col_row=(8, 2)\n",
    "    )\n",
    "\n",
    "    fig, _ = plotter_comp.plot(\n",
    "        0, title=f\"Primeras iteraciones SGDWP, proyectando cada {pe}\"\n",
    "    )\n",
    "    save_fig(fig, f\"first-iters-pe-{pe}\")\n",
    "\n",
    "    fig, _ = plotter_comp.plot(\n",
    "        title=f\"Últimas iteraciones SGDWP, proyectando cada {pe}\"\n",
    "    )\n",
    "    save_fig(fig, f\"last-iters-pe-{pe}\")\n",
    "\n",
    "    fig, _ = plotters_.plot_draw(bar, title=f\"Baricentro usando SGDWP, proyectando cada {pe}\")\n",
    "    save_fig(fig, f\"bar-SGDWP-pe-{pe}\")"
   ],
   "outputs": []
  },
  {
   "cell_type": "markdown",
   "id": "dcc6f41a-7650-40be-9113-f960102c0c19",
   "metadata": {},
   "source": [
    "Experimento de correr más veces"
   ]
  },
  {
   "cell_type": "code",
   "execution_count": 19,
   "id": "ad9a47d7-6251-4397-8190-cc3f681c7fb7",
   "metadata": {
    "ExecuteTime": {
     "end_time": "2024-05-25T04:38:00.158453Z",
     "start_time": "2024-05-25T04:38:00.155427Z"
    }
   },
   "source": [
    "for i in range(1, 11):\n",
    "    plotter_comp, bar = experiment(\n",
    "        gamma_=gamma,\n",
    "        batch_size=1,\n",
    "        proj_every=1,\n",
    "        col_row=(8, 2)\n",
    "    )\n",
    "\n",
    "    fig, _ = plotters_.plot_draw(bar, title=f\"Baricentro usando SGDWP, experimento {i}\")\n",
    "    save_fig(fig, f\"bar-SGDWP-exp-{i}\")"
   ],
   "outputs": []
  },
  {
   "cell_type": "markdown",
   "id": "33821b75-5f0b-452b-af95-1b913c622db4",
   "metadata": {},
   "source": [
    "Experimento paseo aleatorio"
   ]
  },
  {
   "cell_type": "code",
   "execution_count": 20,
   "id": "4b09f420-1ece-49c5-9984-a1db4ee08b06",
   "metadata": {
    "ExecuteTime": {
     "end_time": "2024-05-25T04:38:00.163001Z",
     "start_time": "2024-05-25T04:38:00.160396Z"
    }
   },
   "source": [
    "\n",
    "plotter_comp, bar = experiment(\n",
    "    max_iter=50,\n",
    "    gamma_=0.1,\n",
    "    batch_size=1,\n",
    "    proj_every=1,\n",
    "    col_row=(8, 2),\n",
    "    register_iter=True,\n",
    ")\n",
    "\n",
    "sgdw_ = plotter_comp.sgdw\n",
    "\n",
    "for i in range(500, len(sgdw_.register_lst), 100):\n",
    "    d = sgdw_[i]\n",
    "    plotters_.plot_draw(d, title=f\"Baricentro SGDWP en la iteración {i}\")\n",
    "    save_fig(fig, f\"bar-SGDWP-random-walk-iter-{i}\")"
   ],
   "outputs": []
  }
 ],
 "metadata": {
  "kernelspec": {
   "display_name": "Python 3 (ipykernel)",
   "language": "python",
   "name": "python3"
  },
  "language_info": {
   "codemirror_mode": {
    "name": "ipython",
    "version": 3
   },
   "file_extension": ".py",
   "mimetype": "text/x-python",
   "name": "python",
   "nbconvert_exporter": "python",
   "pygments_lexer": "ipython3",
   "version": "3.12.2"
  }
 },
 "nbformat": 4,
 "nbformat_minor": 5
}
