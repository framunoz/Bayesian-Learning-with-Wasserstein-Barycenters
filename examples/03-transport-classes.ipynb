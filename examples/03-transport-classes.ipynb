{
 "cells": [
  {
   "cell_type": "code",
   "execution_count": null,
   "metadata": {
    "pycharm": {
     "name": "#%%\n"
    }
   },
   "outputs": [],
   "source": [
    "import numpy as np\n",
    "import torch\n",
    "\n",
    "from bwb import transports as tpt\n",
    "from bwb.distributions import data_loaders as dl\n",
    "from bwb.geodesics import *\n",
    "from bwb.distributions import *"
   ]
  },
  {
   "cell_type": "code",
   "execution_count": null,
   "metadata": {
    "pycharm": {
     "name": "#%%\n"
    }
   },
   "outputs": [],
   "source": [
    "from bwb import logging\n",
    "\n",
    "log = logging.get_logger(__name__)\n",
    "\n",
    "logging.set_level(logging.DEBUG)"
   ]
  },
  {
   "cell_type": "code",
   "execution_count": null,
   "metadata": {
    "pycharm": {
     "name": "#%%\n"
    }
   },
   "outputs": [],
   "source": [
    "arr = np.load(r\"..\\data\\face.npy\")\n",
    "arr.shape"
   ]
  },
  {
   "cell_type": "code",
   "execution_count": null,
   "metadata": {
    "pycharm": {
     "name": "#%%\n"
    }
   },
   "outputs": [],
   "source": [
    "faces = dl.DistributionDrawDataLoader(arr, (28, 28))\n",
    "ddraw0 = faces[0]\n",
    "ddraw1 = faces[2]"
   ]
  },
  {
   "cell_type": "code",
   "execution_count": null,
   "metadata": {
    "pycharm": {
     "name": "#%%\n"
    }
   },
   "outputs": [],
   "source": [
    "ddraw0"
   ]
  },
  {
   "cell_type": "code",
   "execution_count": null,
   "metadata": {
    "pycharm": {
     "name": "#%%\n"
    }
   },
   "outputs": [],
   "source": [
    "ddraw1"
   ]
  },
  {
   "cell_type": "code",
   "execution_count": null,
   "metadata": {
    "pycharm": {
     "name": "#%%\n"
    }
   },
   "outputs": [],
   "source": [
    "%%time\n",
    "\n",
    "mst = tpt.SinkhornTransport(max_iter=10_000).fit_wd(dd_s=ddraw0, dd_t=ddraw1)\n",
    "mst"
   ]
  },
  {
   "cell_type": "code",
   "execution_count": null,
   "metadata": {
    "pycharm": {
     "name": "#%%\n"
    }
   },
   "outputs": [],
   "source": [
    "%%time\n",
    "\n",
    "memdt = tpt.EMDTransport().fit_wd(dd_s=ddraw0, dd_t=ddraw1)\n",
    "memdt"
   ]
  },
  {
   "cell_type": "markdown",
   "metadata": {
    "pycharm": {
     "name": "#%% md\n"
    }
   },
   "source": []
  },
  {
   "cell_type": "code",
   "execution_count": null,
   "metadata": {
    "pycharm": {
     "name": "#%%\n"
    }
   },
   "outputs": [],
   "source": [
    "print(f\"{len(ddraw0.nz_probs) = }, {len(ddraw1.nz_probs) = }\")"
   ]
  },
  {
   "cell_type": "code",
   "execution_count": null,
   "metadata": {
    "pycharm": {
     "name": "#%%\n"
    }
   },
   "outputs": [],
   "source": [
    "len(memdt.coupling_.nonzero())"
   ]
  },
  {
   "cell_type": "code",
   "execution_count": null,
   "metadata": {
    "pycharm": {
     "name": "#%%\n"
    }
   },
   "outputs": [],
   "source": [
    "X0 = ddraw0.enumerate_nz_support_().reshape(-1, 1, 2)\n",
    "X1 = ddraw1.enumerate_nz_support_().reshape(1, -1, 2)\n",
    "\n",
    "t = 0.5\n",
    "coord = (1 - t) * X0 + t * X1\n",
    "\n",
    "coord.shape, X0.shape, X1.shape"
   ]
  },
  {
   "cell_type": "code",
   "execution_count": null,
   "metadata": {
    "pycharm": {
     "name": "#%%\n"
    }
   },
   "outputs": [],
   "source": [
    "nz_coord = memdt.coupling_.nonzero(as_tuple=True)\n",
    "\n",
    "\n",
    "coord[nz_coord].shape"
   ]
  },
  {
   "cell_type": "code",
   "execution_count": null,
   "metadata": {
    "pycharm": {
     "name": "#%%\n"
    }
   },
   "outputs": [],
   "source": [
    "296 + 264 - 1"
   ]
  },
  {
   "cell_type": "code",
   "execution_count": null,
   "metadata": {
    "pycharm": {
     "name": "#%%\n"
    }
   },
   "outputs": [],
   "source": [
    "ddraw0"
   ]
  },
  {
   "cell_type": "code",
   "execution_count": null,
   "metadata": {
    "pycharm": {
     "name": "#%%\n"
    }
   },
   "outputs": [],
   "source": [
    "ddraw1"
   ]
  },
  {
   "cell_type": "code",
   "execution_count": null,
   "metadata": {
    "pycharm": {
     "name": "#%%\n"
    }
   },
   "outputs": [],
   "source": [
    "from bwb.distributions import *\n",
    "\n",
    "cm = \"Blues\""
   ]
  },
  {
   "cell_type": "code",
   "execution_count": null,
   "metadata": {
    "pycharm": {
     "name": "#%%\n"
    }
   },
   "outputs": [],
   "source": [
    "# %%time\n",
    "# import matplotlib.animation as animation\n",
    "# import matplotlib.pylab as pl\n",
    "# from IPython.display import HTML\n",
    "# import time\n",
    "#\n",
    "# pl.figure(3)\n",
    "# n_iter_max = 25\n",
    "# t_list = np.linspace(0, 1, n_iter_max)\n",
    "# transform = mst.transform(memdt.xs_)\n",
    "#\n",
    "# X0 = ddraw0.enumerate_nz_support_().reshape(-1, 1, 2)\n",
    "# X1 = ddraw1.enumerate_nz_support_().reshape(1, -1, 2)\n",
    "#\n",
    "# nz_coords = n, m = mst.coupling_.nonzero(as_tuple=True)\n",
    "#\n",
    "# def _update_plot(i):\n",
    "#     tic = time.time()\n",
    "#     pl.clf()\n",
    "#     t = t_list[i]\n",
    "#     coords = (1-t) * X0 + t * X1\n",
    "#     geod = coords[n, m, :]\n",
    "#     weights = mst.coupling_[nz_coords]\n",
    "#     # pl.scatter(geod[:, 0], geod[:, 1], c=\"b\", alpha=weights / weights.max())\n",
    "#     dd = DistributionDraw(weights, geod, (28, 28))\n",
    "#     pl.imshow(dd.grayscale, cmap=cm)\n",
    "#     pl.axis(\"off\")\n",
    "#     pl.title(f\"$t = {t:.2f}$\")\n",
    "#     toc = time.time()\n",
    "#     print(f\"{i = }, Δt = {toc - tic:.4f} [seg]\")\n",
    "#     return 1\n",
    "#\n",
    "# ani = animation.FuncAnimation(pl.gcf(), _update_plot, n_iter_max, interval=100, repeat_delay=2000)\n",
    "# anim_html = HTML(ani.to_jshtml())\n",
    "# pl.close(pl.gcf())\n",
    "# anim_html"
   ]
  },
  {
   "cell_type": "markdown",
   "metadata": {
    "pycharm": {
     "name": "#%% md\n"
    }
   },
   "source": [
    "# McCann Interpolatiton with Sinkhorn"
   ]
  },
  {
   "cell_type": "code",
   "execution_count": null,
   "metadata": {
    "pycharm": {
     "name": "#%%\n"
    }
   },
   "outputs": [],
   "source": [
    "logging.set_level(logging.WARNING, \"bwb.geodesics\")\n",
    "logging.log_config.loggers"
   ]
  },
  {
   "cell_type": "code",
   "execution_count": null,
   "metadata": {
    "pycharm": {
     "name": "#%%\n"
    }
   },
   "outputs": [],
   "source": [
    "%%time\n",
    "\n",
    "import matplotlib.animation as animation\n",
    "import matplotlib.pylab as pl\n",
    "from IPython.display import HTML\n",
    "\n",
    "pl.figure(3)\n",
    "n_iter_max = 51\n",
    "t_list = np.linspace(0, 1, n_iter_max)\n",
    "geodesic = McCannGeodesic(\n",
    "    tpt.SinkhornTransport(reg_e=1e-3, norm=\"max\", max_iter=5_000)\n",
    ").fit_wd(dd_s=ddraw0, dd_t=ddraw1)\n",
    "\n",
    "\n",
    "def _update_plot(i):\n",
    "    log.debug(f\"plot {i = }\")\n",
    "    pl.clf()\n",
    "    t = t_list[i]\n",
    "    geod, weights = geodesic.interpolate(t)\n",
    "    # pl.scatter(geod[:, 0], geod[:, 1], c=\"b\", alpha=weights / weights.max())\n",
    "    dd = DistributionDraw(geod, weights, (28, 28))\n",
    "    pl.imshow(dd.grayscale, cmap=cm)\n",
    "    pl.axis(\"off\")\n",
    "    pl.title(f\"$t = {t:.2f}$\")\n",
    "    return 1\n",
    "\n",
    "\n",
    "ani = animation.FuncAnimation(\n",
    "    pl.gcf(), _update_plot, n_iter_max, interval=100, repeat_delay=2000\n",
    ")\n",
    "anim_html = HTML(ani.to_jshtml())\n",
    "pl.close(pl.gcf())\n",
    "anim_html"
   ]
  },
  {
   "cell_type": "markdown",
   "metadata": {
    "pycharm": {
     "name": "#%% md\n"
    }
   },
   "source": [
    "# McCann Interpolatiton with EMD"
   ]
  },
  {
   "cell_type": "code",
   "execution_count": null,
   "metadata": {
    "pycharm": {
     "name": "#%%\n"
    }
   },
   "outputs": [],
   "source": [
    "%%time\n",
    "\n",
    "import matplotlib.animation as animation\n",
    "import matplotlib.pylab as pl\n",
    "from IPython.display import HTML\n",
    "\n",
    "pl.figure(3)\n",
    "n_iter_max = 51\n",
    "t_list = np.linspace(0, 1, n_iter_max)\n",
    "geodesic = McCannGeodesic(tpt.EMDTransport(norm=\"max\", max_iter=5_000)).fit_wd(\n",
    "    dd_s=ddraw0, dd_t=ddraw1\n",
    ")\n",
    "\n",
    "\n",
    "def _update_plot(i):\n",
    "    log.debug(f\"plot {i = }\")\n",
    "    pl.clf()\n",
    "    t = t_list[i]\n",
    "    geod, weights = geodesic.interpolate(t)\n",
    "    pl.scatter(geod[:, 0], geod[:, 1], c=\"b\", alpha=weights / weights.max())\n",
    "    # dd = DistributionDraw(*geodesic.interpolate(t), (28, 28))\n",
    "    # pl.imshow(dd.grayscale, cmap=cm)\n",
    "    pl.axis(\"off\")\n",
    "    pl.xlim((0, 28))\n",
    "    pl.ylim((0, 28))\n",
    "    pl.title(f\"$t = {t:.2f}$\")\n",
    "    return 1\n",
    "\n",
    "\n",
    "ani = animation.FuncAnimation(\n",
    "    pl.gcf(), _update_plot, n_iter_max, interval=100, repeat_delay=2000\n",
    ")\n",
    "anim_html = HTML(ani.to_jshtml())\n",
    "pl.close(pl.gcf())\n",
    "anim_html"
   ]
  },
  {
   "cell_type": "code",
   "execution_count": null,
   "metadata": {
    "pycharm": {
     "name": "#%%\n"
    }
   },
   "outputs": [],
   "source": [
    "Xs, mu_s = [], []\n",
    "min_w = ddraw0.nz_probs.min() * 3\n",
    "max_w = ddraw0.nz_probs.max()\n",
    "\n",
    "for x, w, n in zip(\n",
    "    ddraw0.enumerate_nz_support_(),\n",
    "    ddraw0.nz_probs,\n",
    "    torch.ceil(ddraw0.nz_probs / min_w).to(torch.int),\n",
    "):\n",
    "    for _ in range(n):\n",
    "        Xs.append(x.reshape(1, -1))\n",
    "        mu_s.append(w / n)\n",
    "\n",
    "Xs = torch.cat(Xs, dim=0)\n",
    "mu_s = torch.as_tensor(mu_s)"
   ]
  },
  {
   "cell_type": "code",
   "execution_count": null,
   "metadata": {
    "pycharm": {
     "name": "#%%\n"
    }
   },
   "outputs": [],
   "source": [
    "%%time\n",
    "\n",
    "memdt = tpt.EMDTransport().fit_wm(\n",
    "    Xs=Xs,\n",
    "    mu_s=mu_s,\n",
    "    Xt=ddraw1.enumerate_nz_support_(),\n",
    "    mu_t=ddraw1.nz_probs,\n",
    ")\n",
    "memdt"
   ]
  },
  {
   "cell_type": "code",
   "execution_count": null,
   "metadata": {
    "pycharm": {
     "name": "#%%\n"
    }
   },
   "outputs": [],
   "source": [
    "import matplotlib.animation as animation\n",
    "import matplotlib.pylab as pl\n",
    "from IPython.display import HTML\n",
    "\n",
    "pl.figure(3)\n",
    "n_iter_max = 100\n",
    "t_list = np.linspace(0, 1, n_iter_max)\n",
    "transform = memdt.transform(memdt.xs_)\n",
    "\n",
    "\n",
    "def _update_plot(i):\n",
    "    pl.clf()\n",
    "    t = t_list[i]\n",
    "    geod = (1 - t) * memdt.xs_ + t * transform\n",
    "    pl.scatter(geod[:, 0], geod[:, 1], c=\"b\", alpha=memdt.mu_s / max_w)\n",
    "    pl.axis(\"equal\")\n",
    "    pl.title(f\"$t = {t:.2f}$\")\n",
    "    return 1\n",
    "\n",
    "\n",
    "ani = animation.FuncAnimation(\n",
    "    pl.gcf(), _update_plot, n_iter_max, interval=100, repeat_delay=2000\n",
    ")\n",
    "# ani\n",
    "# animation.FuncAnimation(pl.gcf(), _update_plot, n_iter_max, interval=100, repeat_delay=2000)\n",
    "anim_html = HTML(ani.to_jshtml())\n",
    "pl.close(pl.gcf())\n",
    "anim_html"
   ]
  },
  {
   "cell_type": "code",
   "execution_count": null,
   "metadata": {
    "pycharm": {
     "name": "#%%\n"
    }
   },
   "outputs": [],
   "source": []
  }
 ],
 "metadata": {
  "kernelspec": {
   "display_name": "Python 3 (ipykernel)",
   "language": "python",
   "name": "python3"
  },
  "language_info": {
   "codemirror_mode": {
    "name": "ipython",
    "version": 3
   },
   "file_extension": ".py",
   "mimetype": "text/x-python",
   "name": "python",
   "nbconvert_exporter": "python",
   "pygments_lexer": "ipython3",
   "version": "3.10.4"
  }
 },
 "nbformat": 4,
 "nbformat_minor": 1
}
