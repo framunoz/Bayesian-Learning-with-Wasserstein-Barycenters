{
 "cells": [
  {
   "cell_type": "code",
   "execution_count": 1,
   "id": "2d84e892-314f-4cab-86de-1605013e136d",
   "metadata": {
    "ExecuteTime": {
     "end_time": "2024-04-21T17:28:39.730399Z",
     "start_time": "2024-04-21T17:28:39.725106Z"
    }
   },
   "outputs": [],
   "source": [
    "# %cd ~/codeProjects/pythonProjects/Bayesian-Learning-with-Wasserstein-Barycenters"
   ]
  },
  {
   "cell_type": "markdown",
   "id": "1320d66d-fb92-44cd-b50d-6869c0024b62",
   "metadata": {},
   "source": [
    "# Imports generales"
   ]
  },
  {
   "cell_type": "code",
   "execution_count": 2,
   "id": "71d76ab2-360b-4dfe-bedb-23fecf69af9e",
   "metadata": {},
   "outputs": [],
   "source": [
    "import time\n",
    "from pathlib import Path\n",
    "\n",
    "import numpy as np\n",
    "import torch\n",
    "import torchvision.transforms.v2 as T\n",
    "from icecream import ic\n",
    "from matplotlib import pyplot as plt\n",
    "\n",
    "import bwb.plotters as plotters\n",
    "from bwb.config import conf\n",
    "from bwb.distributions.posterior_samplers import NUTSPosteriorSampler as NUTSPosteriorPiN"
   ]
  },
  {
   "cell_type": "markdown",
   "id": "1313d4c3-fe14-4441-85e3-99449c22f4ad",
   "metadata": {},
   "source": [
    "# Definir constantes y logger"
   ]
  },
  {
   "cell_type": "code",
   "execution_count": 3,
   "id": "f506a094-f468-4542-be9a-f68544110291",
   "metadata": {
    "ExecuteTime": {
     "end_time": "2024-04-21T15:15:15.314415Z",
     "start_time": "2024-04-21T15:15:09.992628Z"
    }
   },
   "outputs": [
    {
     "name": "stdout",
     "output_type": "stream",
     "text": [
      "SEED = 4102165607616432379\n",
      "Config(dtype=torch.float32, device=cuda:0, eps=1.00e-08)\n"
     ]
    }
   ],
   "source": [
    "from bwb import _logging as logging\n",
    "\n",
    "\n",
    "# Tunneable params\n",
    "RUN_MCMC = True\n",
    "BURN = 1_000\n",
    "NUM_SAMPLES = 10_000\n",
    "N_WALKERS = 4\n",
    "TAKE_EVERY = 5\n",
    "\n",
    "# Paths\n",
    "CURR_PATH = Path(\"..\")\n",
    "NETS_PATH = CURR_PATH / \"wgan_gp\" / \"networks\" \n",
    "MCMC_PATH = CURR_PATH / \"saved_mcmc\"\n",
    "NUTS_PATH = MCMC_PATH / \"NUTS\"\n",
    "\n",
    "# Seed\n",
    "SEED = 4102165607616432379\n",
    "print(f\"{SEED = }\")\n",
    "torch.manual_seed(SEED)\n",
    "\n",
    "# Configuration\n",
    "conf.use_single_precision()\n",
    "conf.use_gpu()\n",
    "conf.set_eps(1e-8)\n",
    "print(conf)\n",
    "\n",
    "log = logging.get_logger(__name__)"
   ]
  },
  {
   "cell_type": "markdown",
   "id": "ebd8cad7-868f-453e-a640-06224b52282c",
   "metadata": {
    "jp-MarkdownHeadingCollapsed": true
   },
   "source": [
    "# Dataset"
   ]
  },
  {
   "cell_type": "code",
   "execution_count": 4,
   "id": "436f2778-9082-42ce-ac57-d026958089b0",
   "metadata": {},
   "outputs": [
    {
     "name": "stdout",
     "output_type": "stream",
     "text": [
      "DistributionDraw(shape: (28, 28), device: cuda:0, dtype: torch.float32)\n"
     ]
    },
    {
     "data": {
      "image/png": "[encoded data removed]",
      "text/plain": [
       "DistributionDraw(shape: (28, 28), device: cuda:0, dtype: torch.float32)"
      ]
     },
     "execution_count": 4,
     "metadata": {},
     "output_type": "execute_result"
    }
   ],
   "source": [
    "from quick_torch import QuickDraw\n",
    "from bwb.distributions.models import ModelDataset\n",
    "import bwb.distributions.distribution_samplers as distr_samplers\n",
    "\n",
    "\n",
    "ds = QuickDraw(\n",
    "    Path(\"./data\"),\n",
    "    categories=\"face\",\n",
    "    download=True,\n",
    "    transform=T.Compose(\n",
    "        [\n",
    "            T.ToImage(),\n",
    "            T.ToDtype(conf.dtype, scale=True),\n",
    "            T.Lambda(lambda x: x.squeeze()),\n",
    "        ]\n",
    "    )\n",
    ")\n",
    "\n",
    "ds = ModelDataset(ds)\n",
    "ds_sampler = distr_samplers.UniformDiscreteSampler().fit(ds)\n",
    "\n",
    "\n",
    "face = ds_sampler.draw()\n",
    "print(face)\n",
    "\n",
    "face"
   ]
  },
  {
   "cell_type": "code",
   "execution_count": 5,
   "id": "e8d23b9f-a099-430f-9680-eef12b78b0ae",
   "metadata": {},
   "outputs": [
    {
     "data": {
      "image/png": "[encoded data removed]",
      "text/plain": [
       "<Figure size 640x480 with 2 Axes>"
      ]
     },
     "metadata": {},
     "output_type": "display_data"
    },
    {
     "data": {
      "image/png": "[encoded data removed]",
      "text/plain": [
       "DistributionDraw(shape: (28, 28), device: cuda:0, dtype: torch.float32)"
      ]
     },
     "execution_count": 5,
     "metadata": {},
     "output_type": "execute_result"
    }
   ],
   "source": [
    "def get_sample(sampler, n_sample):\n",
    "    face = sampler.draw()\n",
    "\n",
    "    data = face.sample((n_sample,))\n",
    "\n",
    "    shape = face.shape\n",
    "    data_coords = face.enumerate_support_()[data].cpu().numpy() + np.random.randn(len(data), 2) * 0.1\n",
    "\n",
    "    plotters.plot_histogram_from_points(data_coords, rotate=True, shape=shape, histplot_kwargs=dict(bins=28))\n",
    "    plt.show()\n",
    "\n",
    "    return face, data\n",
    "\n",
    "face, data = get_sample(ds_sampler, 100)\n",
    "face"
   ]
  },
  {
   "cell_type": "markdown",
   "id": "2105fda8-b306-4f9f-9f07-40c7d94694c7",
   "metadata": {
    "jp-MarkdownHeadingCollapsed": true
   },
   "source": [
    "# Importar redes"
   ]
  },
  {
   "cell_type": "code",
   "execution_count": 6,
   "id": "75da1fd7-851a-4b40-bc04-f9783837706c",
   "metadata": {},
   "outputs": [
    {
     "name": "stdout",
     "output_type": "stream",
     "text": [
      "\n"
     ]
    }
   ],
   "source": [
    "from wgan_gp.wgan_gp_vae.model_resnet import Generator, Encoder, LatentDistribution\n",
    "import torch\n",
    "from wgan_gp.wgan_gp_vae.utils import load_checkpoint\n",
    "\n",
    "\n",
    "device = conf.device\n",
    "\n",
    "NOISE = \"norm\"\n",
    "LATENT_DIM = 128\n",
    "CHANNELS_IMG = 1\n",
    "NUM_FILTERS = [256, 128, 64, 32]\n",
    "\n",
    "noise_sampler = LatentDistribution(NOISE, LATENT_DIM, device)\n",
    "\n",
    "\n",
    "G = Generator(LATENT_DIM, CHANNELS_IMG, latent_distr=NOISE).to(device)\n",
    "E = Encoder(LATENT_DIM, CHANNELS_IMG).to(device)\n",
    "\n",
    "DS_NAME = \"data\"\n",
    "FACE_PATH = NETS_PATH / f\"cleaned_{DS_NAME}_zDim{LATENT_DIM}_{NOISE}_bs_128\"\n",
    "\n",
    "load_checkpoint(G, FACE_PATH, \"generator\", device)\n",
    "load_checkpoint(E, FACE_PATH, \"encoder\", device)\n",
    "\n",
    "G.eval(); E.eval()\n",
    "print()"
   ]
  },
  {
   "cell_type": "code",
   "execution_count": 7,
   "id": "0a62fab9-9042-4fb9-857f-53b244a23be0",
   "metadata": {},
   "outputs": [
    {
     "data": {
      "text/plain": [
       "LatentDistribution(name=norm, z_dim=128, device=cuda:0)"
      ]
     },
     "execution_count": 7,
     "metadata": {},
     "output_type": "execute_result"
    }
   ],
   "source": [
    "noise_sampler"
   ]
  },
  {
   "cell_type": "code",
   "execution_count": 8,
   "id": "89d6eee9-13d0-4f5d-ae19-ce2be5786694",
   "metadata": {},
   "outputs": [
    {
     "name": "stdout",
     "output_type": "stream",
     "text": [
      "torch.float32\n",
      "torch.float32\n"
     ]
    },
    {
     "data": {
      "image/png": "[encoded data removed]",
      "text/plain": [
       "DistributionDraw(shape: (32, 32), device: cuda:0, dtype: torch.float32)"
      ]
     },
     "execution_count": 8,
     "metadata": {},
     "output_type": "execute_result"
    }
   ],
   "source": [
    "from bwb.distributions import DistributionDraw\n",
    "from torchvision import disable_beta_transforms_warning\n",
    "disable_beta_transforms_warning()\n",
    "\n",
    "import torchvision.transforms.v2 as T\n",
    "\n",
    "z = noise_sampler(1)\n",
    "m = G(z)\n",
    "print(m.dtype)\n",
    "dtype = z.dtype\n",
    "\n",
    "transform_in = T.Compose([\n",
    "    T.Lambda(lambda x: x / torch.max(x)),\n",
    "    T.ToPILImage(),\n",
    "    T.Resize(32),\n",
    "    T.ToImage(),\n",
    "    T.ConvertImageDtype(dtype),\n",
    "    T.Normalize((0.5,), (0.5,)),\n",
    "])\n",
    "\n",
    "transform_out_ = T.Compose([\n",
    "    T.ToDtype(dtype),\n",
    "    T.Lambda(lambda x: x.squeeze()),\n",
    "    T.Lambda(lambda x: x - torch.min(x)),\n",
    "    T.Lambda(lambda x: x / torch.sum(x)),\n",
    "    # T.Lambda(lambda x: DistributionDraw.from_grayscale_weights(x)),\n",
    "])\n",
    "\n",
    "transform_out = T.Compose([\n",
    "    transform_out_,\n",
    "    T.Lambda(lambda x: DistributionDraw.from_grayscale_weights(x)),\n",
    "])\n",
    "\n",
    "out: DistributionDraw = transform_out(m)\n",
    "print(out.dtype)\n",
    "out"
   ]
  },
  {
   "cell_type": "code",
   "execution_count": 9,
   "id": "5f99fab8-40ed-44b9-b185-4423f715928d",
   "metadata": {},
   "outputs": [
    {
     "data": {
      "text/plain": [
       "[DistributionDraw(shape: (32, 32), device: cuda:0, dtype: torch.float32),\n",
       " DistributionDraw(shape: (32, 32), device: cuda:0, dtype: torch.float32),\n",
       " DistributionDraw(shape: (32, 32), device: cuda:0, dtype: torch.float32)]"
      ]
     },
     "execution_count": 9,
     "metadata": {},
     "output_type": "execute_result"
    }
   ],
   "source": [
    "from bwb.distributions.distribution_samplers import GeneratorDistribSampler\n",
    "\n",
    "distr_sampler = GeneratorDistribSampler()\n",
    "distr_sampler.fit(G, transform_out_, noise_sampler)\n",
    "distr_sampler.transform_noise(z)\n",
    "distr_sampler.rvs(3)"
   ]
  },
  {
   "cell_type": "code",
   "execution_count": 10,
   "id": "4eaebf4f-c156-4beb-b312-61b7f115a83e",
   "metadata": {},
   "outputs": [
    {
     "data": {
      "image/png": "[encoded data removed]",
      "text/plain": [
       "DistributionDraw(shape: (32, 32), device: cuda:0, dtype: torch.float32)"
      ]
     },
     "execution_count": 10,
     "metadata": {},
     "output_type": "execute_result"
    }
   ],
   "source": [
    "distr_sampler.draw()"
   ]
  },
  {
   "cell_type": "markdown",
   "id": "8686950c-5764-4169-b2b2-a187b3c28071",
   "metadata": {},
   "source": [
    "# Experimentos"
   ]
  },
  {
   "cell_type": "markdown",
   "id": "13baaff1-7a5c-471f-8f49-69423b0d1bcf",
   "metadata": {},
   "source": [
    "## Experimento 1"
   ]
  },
  {
   "cell_type": "code",
   "execution_count": 11,
   "id": "ee01dbf5-b9ab-4c89-b236-cdcad820141f",
   "metadata": {},
   "outputs": [
    {
     "data": {
      "text/plain": [
       "PosixPath('../saved_mcmc/NUTS/exp=1-burn=1_000-num_samples=10_000-n_walkers=4')"
      ]
     },
     "execution_count": 11,
     "metadata": {},
     "output_type": "execute_result"
    }
   ],
   "source": [
    "EXPERIMENT = 1\n",
    "NUTS_POSTERIOR_PATH = NUTS_PATH / F\"exp={EXPERIMENT}-burn={BURN:_}-num_samples={NUM_SAMPLES:_}-n_walkers={N_WALKERS}\"\n",
    "NUTS_POSTERIOR_PATH"
   ]
  },
  {
   "cell_type": "code",
   "execution_count": 12,
   "id": "8f6570bd-db96-4c74-96ae-f4aa8a0bf07b",
   "metadata": {},
   "outputs": [
    {
     "data": {
      "image/png": "[encoded data removed]",
      "text/plain": [
       "<Figure size 640x480 with 2 Axes>"
      ]
     },
     "metadata": {},
     "output_type": "display_data"
    },
    {
     "data": {
      "image/png": "[encoded data removed]",
      "text/plain": [
       "DistributionDraw(shape: (28, 28), device: cuda:0, dtype: torch.float32)"
      ]
     },
     "execution_count": 12,
     "metadata": {},
     "output_type": "execute_result"
    }
   ],
   "source": [
    "face, data = get_sample(ds_sampler, 100)\n",
    "face"
   ]
  },
  {
   "cell_type": "code",
   "execution_count": null,
   "id": "ebff900e-b3b7-4f81-877b-d8051026e54e",
   "metadata": {},
   "outputs": [
    {
     "name": "stdout",
     "output_type": "stream",
     "text": [
      "Sampling (Sampler.HMC; Integrator.IMPLICIT)\n",
      "Time spent  | Time remain.| Progress             | Samples     | Samples/sec\n",
      "Final Adapted Step Size:  0.04207880049943924--- |   998/11000 | 73.39       \n",
      "0d:00:02:25 | 0d:00:00:00 | #################### | 11000/11000 | 75.71       \n",
      "Acceptance Rate 0.47\n",
      "Sampling (Sampler.HMC; Integrator.IMPLICIT)\n",
      "Time spent  | Time remain.| Progress             | Samples     | Samples/sec\n",
      "Final Adapted Step Size:  0.03664027526974678--- |   997/11000 | 73.06       \n",
      "0d:00:02:26 | 0d:00:00:00 | #################### | 11000/11000 | 75.33       \n",
      "Acceptance Rate 0.49\n",
      "Sampling (Sampler.HMC; Integrator.IMPLICIT)\n",
      "Time spent  | Time remain.| Progress             | Samples     | Samples/sec\n",
      "Final Adapted Step Size:  0.056993577629327774-- |  1000/11000 | 76.81       \n",
      "0d:00:02:19 | 0d:00:00:00 | #################### | 11000/11000 | 78.67       \n",
      "Acceptance Rate 0.45\n",
      "Sampling (Sampler.HMC; Integrator.IMPLICIT)\n",
      "Time spent  | Time remain.| Progress             | Samples     | Samples/sec\n",
      "Final Adapted Step Size:  0.04559312388300896--- |   993/11000 | 60.98       \n",
      "0d:00:02:14 | 0d:00:00:07 | ###################- | 10429/11000 | 77.39       \r"
     ]
    }
   ],
   "source": [
    "if not NUTS_POSTERIOR_PATH.exists() or RUN_MCMC:\n",
    "    post_pi_n = NUTSPosteriorPiN(\n",
    "        n_walkers=N_WALKERS,\n",
    "        num_steps_per_sample=1,\n",
    "        burn=BURN,\n",
    "        desired_accept_rate=0.6,\n",
    "    ).fit(\n",
    "        G, transform_out_, noise_sampler, data\n",
    "    ).run(\n",
    "        n_steps=NUM_SAMPLES\n",
    "    )\n",
    "\n",
    "    tic = time.perf_counter()\n",
    "    post_pi_n.save(NUTS_POSTERIOR_PATH)\n",
    "    toc = time.perf_counter()\n",
    "    ic(toc - tic)\n",
    "    \n",
    "else:\n",
    "    post_pi_n = NUTSPosteriorPiN.load(NUTS_POSTERIOR_PATH)\n",
    "\n",
    "post_pi_n"
   ]
  },
  {
   "cell_type": "code",
   "execution_count": null,
   "id": "4e4a1976-803d-4101-a233-66f3608642c7",
   "metadata": {},
   "outputs": [],
   "source": [
    "mean_autocorr_time = int(post_pi_n.get_autocorr_time().mean())\n",
    "print(mean_autocorr_time)"
   ]
  },
  {
   "cell_type": "code",
   "execution_count": null,
   "id": "5ff31d60-6b4a-499a-900a-4f34f21908fe",
   "metadata": {},
   "outputs": [],
   "source": [
    "post_pi_n.shuffle_samples_cache(thin=int(mean_autocorr_time / TAKE_EVERY))"
   ]
  },
  {
   "cell_type": "code",
   "execution_count": null,
   "id": "13eb7726-7b84-4b7f-8e9c-bb12f66564de",
   "metadata": {},
   "outputs": [],
   "source": [
    "max_images = 36\n",
    "plotters.plot_list_of_draws(post_pi_n.rvs(max_images), n_rows=3, n_cols=12)\n",
    "print()"
   ]
  },
  {
   "cell_type": "code",
   "execution_count": null,
   "id": "e28b5b26-6c0d-4de8-8860-4421de44e7a5",
   "metadata": {},
   "outputs": [],
   "source": [
    "post_pi_n"
   ]
  },
  {
   "cell_type": "markdown",
   "id": "a52b0c90-734a-44b9-85a1-12433bd2f371",
   "metadata": {},
   "source": [
    "## Experimento 2"
   ]
  },
  {
   "cell_type": "code",
   "execution_count": null,
   "id": "fd9bf205-4256-431f-8a48-1fb5b9b6ff81",
   "metadata": {},
   "outputs": [],
   "source": [
    "EXPERIMENT = 2\n",
    "NUTS_POSTERIOR_PATH = NUTS_PATH / F\"exp={EXPERIMENT}-burn={BURN:_}-num_samples={NUM_SAMPLES:_}-n_walkers={N_WALKERS}\"\n",
    "NUTS_POSTERIOR_PATH"
   ]
  },
  {
   "cell_type": "code",
   "execution_count": null,
   "id": "9ae29639-9dd1-4427-8fa4-b5b6bc63df61",
   "metadata": {},
   "outputs": [],
   "source": [
    "face, data = get_sample(ds_sampler, 100)\n",
    "face"
   ]
  },
  {
   "cell_type": "code",
   "execution_count": null,
   "id": "1fef846a-80e5-4525-81a8-aa91246eae64",
   "metadata": {},
   "outputs": [],
   "source": [
    "if not NUTS_POSTERIOR_PATH.exists() or RUN_MCMC:\n",
    "    post_pi_n = NUTSPosteriorPiN(\n",
    "        n_walkers=N_WALKERS,\n",
    "        num_steps_per_sample=1,\n",
    "        burn=BURN,\n",
    "        desired_accept_rate=0.6,\n",
    "    ).fit(\n",
    "        G, transform_out_, noise_sampler, data\n",
    "    ).run(\n",
    "        n_steps=NUM_SAMPLES\n",
    "    )\n",
    "\n",
    "    tic = time.perf_counter()\n",
    "    post_pi_n.save(NUTS_POSTERIOR_PATH)\n",
    "    toc = time.perf_counter()\n",
    "    ic(toc - tic)\n",
    "    \n",
    "else:\n",
    "    post_pi_n = NUTSPosteriorPiN.load(NUTS_POSTERIOR_PATH)\n",
    "\n",
    "post_pi_n"
   ]
  },
  {
   "cell_type": "code",
   "execution_count": null,
   "id": "d664060f-59a3-4d56-bc93-803984600e13",
   "metadata": {},
   "outputs": [],
   "source": [
    "mean_autocorr_time = int(post_pi_n.get_autocorr_time().mean())\n",
    "print(mean_autocorr_time)"
   ]
  },
  {
   "cell_type": "code",
   "execution_count": null,
   "id": "e64962f2-76c0-4f90-9560-a258090957ae",
   "metadata": {},
   "outputs": [],
   "source": [
    "post_pi_n.shuffle_samples_cache(thin=int(mean_autocorr_time / TAKE_EVERY))"
   ]
  },
  {
   "cell_type": "code",
   "execution_count": null,
   "id": "15c6a24c-fc24-424f-b8a5-fbddbfd7323a",
   "metadata": {},
   "outputs": [],
   "source": [
    "max_images = 36\n",
    "plotters.plot_list_of_draws(post_pi_n.rvs(max_images), n_rows=3, n_cols=12)\n",
    "print()"
   ]
  },
  {
   "cell_type": "code",
   "execution_count": null,
   "id": "26e59975-67a8-4cb0-b73b-d45daa10cb92",
   "metadata": {},
   "outputs": [],
   "source": [
    "post_pi_n"
   ]
  },
  {
   "cell_type": "markdown",
   "id": "96bc1191-174a-41b6-b0c7-a9dd97d49422",
   "metadata": {},
   "source": [
    "## Experimento 3"
   ]
  },
  {
   "cell_type": "code",
   "execution_count": null,
   "id": "724e7e43-7b5f-4f51-a866-e71ca401a124",
   "metadata": {},
   "outputs": [],
   "source": [
    "EXPERIMENT = 3\n",
    "NUTS_POSTERIOR_PATH = NUTS_PATH / F\"exp={EXPERIMENT}-burn={BURN:_}-num_samples={NUM_SAMPLES:_}-n_walkers={N_WALKERS}\"\n",
    "NUTS_POSTERIOR_PATH"
   ]
  },
  {
   "cell_type": "code",
   "execution_count": null,
   "id": "abfb19bc-4c8b-4321-8370-d74697210228",
   "metadata": {},
   "outputs": [],
   "source": [
    "face, data = get_sample(ds_sampler, 100)\n",
    "face"
   ]
  },
  {
   "cell_type": "code",
   "execution_count": null,
   "id": "02651993-ef09-4563-a8df-bc0733197fd0",
   "metadata": {},
   "outputs": [],
   "source": [
    "if not NUTS_POSTERIOR_PATH.exists() or RUN_MCMC:\n",
    "    post_pi_n = NUTSPosteriorPiN(\n",
    "        n_walkers=N_WALKERS,\n",
    "        num_steps_per_sample=1,\n",
    "        burn=BURN,\n",
    "        desired_accept_rate=0.6,\n",
    "    ).fit(\n",
    "        G, transform_out_, noise_sampler, data\n",
    "    ).run(\n",
    "        n_steps=NUM_SAMPLES\n",
    "    )\n",
    "\n",
    "    tic = time.perf_counter()\n",
    "    post_pi_n.save(NUTS_POSTERIOR_PATH)\n",
    "    toc = time.perf_counter()\n",
    "    ic(toc - tic)\n",
    "    \n",
    "else:\n",
    "    post_pi_n = NUTSPosteriorPiN.load(NUTS_POSTERIOR_PATH)\n",
    "\n",
    "post_pi_n"
   ]
  },
  {
   "cell_type": "code",
   "execution_count": null,
   "id": "48200951-0565-4c19-9885-832657755df4",
   "metadata": {},
   "outputs": [],
   "source": [
    "mean_autocorr_time = int(post_pi_n.get_autocorr_time().mean())\n",
    "print(mean_autocorr_time)"
   ]
  },
  {
   "cell_type": "code",
   "execution_count": null,
   "id": "bd2eb8cc-9b87-4279-a7ec-a0352894f41a",
   "metadata": {},
   "outputs": [],
   "source": [
    "post_pi_n.shuffle_samples_cache(thin=int(mean_autocorr_time / TAKE_EVERY))"
   ]
  },
  {
   "cell_type": "code",
   "execution_count": null,
   "id": "1ee55662-c199-4687-8ddc-31fe1e262473",
   "metadata": {},
   "outputs": [],
   "source": [
    "max_images = 36\n",
    "plotters.plot_list_of_draws(post_pi_n.rvs(max_images), n_rows=3, n_cols=12)\n",
    "print()"
   ]
  },
  {
   "cell_type": "code",
   "execution_count": null,
   "id": "cdf33540-8c68-476d-b943-d7c58b101ddf",
   "metadata": {},
   "outputs": [],
   "source": [
    "post_pi_n"
   ]
  },
  {
   "cell_type": "markdown",
   "id": "54cd3d59-5a6d-4a39-8b84-96293b3c9d5b",
   "metadata": {},
   "source": [
    "## Experimento 4"
   ]
  },
  {
   "cell_type": "code",
   "execution_count": null,
   "id": "487f9ec6-3d1a-426f-8df7-a2a7ed0ab766",
   "metadata": {},
   "outputs": [],
   "source": [
    "EXPERIMENT = 4\n",
    "NUTS_POSTERIOR_PATH = NUTS_PATH / F\"exp={EXPERIMENT}-burn={BURN:_}-num_samples={NUM_SAMPLES:_}-n_walkers={N_WALKERS}\"\n",
    "NUTS_POSTERIOR_PATH"
   ]
  },
  {
   "cell_type": "code",
   "execution_count": null,
   "id": "785bf05e-4fe0-4bb9-8de2-12bd580695e0",
   "metadata": {},
   "outputs": [],
   "source": [
    "face, data = get_sample(ds_sampler, 100)\n",
    "face"
   ]
  },
  {
   "cell_type": "code",
   "execution_count": null,
   "id": "0ddcdb27-bc2b-4017-b9a0-4b3ab4ab1074",
   "metadata": {},
   "outputs": [],
   "source": [
    "if not NUTS_POSTERIOR_PATH.exists() or RUN_MCMC:\n",
    "    post_pi_n = NUTSPosteriorPiN(\n",
    "        n_walkers=N_WALKERS,\n",
    "        num_steps_per_sample=1,\n",
    "        burn=BURN,\n",
    "        desired_accept_rate=0.6,\n",
    "    ).fit(\n",
    "        G, transform_out_, noise_sampler, data\n",
    "    ).run(\n",
    "        n_steps=NUM_SAMPLES\n",
    "    )\n",
    "\n",
    "    tic = time.perf_counter()\n",
    "    post_pi_n.save(NUTS_POSTERIOR_PATH)\n",
    "    toc = time.perf_counter()\n",
    "    ic(toc - tic)\n",
    "    \n",
    "else:\n",
    "    post_pi_n = NUTSPosteriorPiN.load(NUTS_POSTERIOR_PATH)\n",
    "\n",
    "post_pi_n"
   ]
  },
  {
   "cell_type": "code",
   "execution_count": null,
   "id": "9f61ec21-fc83-4750-9fed-0cb4beb097ed",
   "metadata": {},
   "outputs": [],
   "source": [
    "mean_autocorr_time = int(post_pi_n.get_autocorr_time().mean())\n",
    "print(mean_autocorr_time)"
   ]
  },
  {
   "cell_type": "code",
   "execution_count": null,
   "id": "13cd3c60-0a94-4c62-8a89-c524ff5ab9e8",
   "metadata": {},
   "outputs": [],
   "source": [
    "post_pi_n.shuffle_samples_cache(thin=int(mean_autocorr_time / TAKE_EVERY))"
   ]
  },
  {
   "cell_type": "code",
   "execution_count": null,
   "id": "c468dd8e-26e4-44dc-8273-e15881844ca1",
   "metadata": {},
   "outputs": [],
   "source": [
    "max_images = 36\n",
    "plotters.plot_list_of_draws(post_pi_n.rvs(max_images), n_rows=3, n_cols=12)\n",
    "print()"
   ]
  },
  {
   "cell_type": "code",
   "execution_count": null,
   "id": "080910d5-e509-459c-87bd-484033d4aa0d",
   "metadata": {},
   "outputs": [],
   "source": [
    "post_pi_n"
   ]
  },
  {
   "cell_type": "markdown",
   "id": "ffc3e95e-925f-47fc-9f9c-bb3885cef044",
   "metadata": {},
   "source": [
    "## Experimento 5"
   ]
  },
  {
   "cell_type": "code",
   "execution_count": null,
   "id": "4a43848f-5d4f-4fb8-9f40-c958cefb1f1d",
   "metadata": {},
   "outputs": [],
   "source": [
    "EXPERIMENT = 5\n",
    "NUTS_POSTERIOR_PATH = NUTS_PATH / F\"exp={EXPERIMENT}-burn={BURN:_}-num_samples={NUM_SAMPLES:_}-n_walkers={N_WALKERS}\"\n",
    "NUTS_POSTERIOR_PATH"
   ]
  },
  {
   "cell_type": "code",
   "execution_count": null,
   "id": "d8768fb8-a3b2-4131-88a3-86c2281b4115",
   "metadata": {},
   "outputs": [],
   "source": [
    "face, data = get_sample(ds_sampler, 100)\n",
    "face"
   ]
  },
  {
   "cell_type": "code",
   "execution_count": null,
   "id": "bb58137a-7375-4d8e-905f-2adecaadeddd",
   "metadata": {},
   "outputs": [],
   "source": [
    "if not NUTS_POSTERIOR_PATH.exists() or RUN_MCMC:\n",
    "    post_pi_n = NUTSPosteriorPiN(\n",
    "        n_walkers=N_WALKERS,\n",
    "        num_steps_per_sample=1,\n",
    "        burn=BURN,\n",
    "        desired_accept_rate=0.6,\n",
    "    ).fit(\n",
    "        G, transform_out_, noise_sampler, data\n",
    "    ).run(\n",
    "        n_steps=NUM_SAMPLES\n",
    "    )\n",
    "\n",
    "    tic = time.perf_counter()\n",
    "    post_pi_n.save(NUTS_POSTERIOR_PATH)\n",
    "    toc = time.perf_counter()\n",
    "    ic(toc - tic)\n",
    "    \n",
    "else:\n",
    "    post_pi_n = NUTSPosteriorPiN.load(NUTS_POSTERIOR_PATH)\n",
    "\n",
    "post_pi_n"
   ]
  },
  {
   "cell_type": "code",
   "execution_count": null,
   "id": "02113686-3ce3-44a6-921f-84c1c3981ed2",
   "metadata": {},
   "outputs": [],
   "source": [
    "mean_autocorr_time = int(post_pi_n.get_autocorr_time().mean())\n",
    "print(mean_autocorr_time)"
   ]
  },
  {
   "cell_type": "code",
   "execution_count": null,
   "id": "dc353de3-ae16-4574-8e2b-0cf83488194c",
   "metadata": {},
   "outputs": [],
   "source": [
    "post_pi_n.shuffle_samples_cache(thin=int(mean_autocorr_time / TAKE_EVERY))"
   ]
  },
  {
   "cell_type": "code",
   "execution_count": null,
   "id": "b5f0ca2d-ac6f-462d-9878-6d8e8549b94c",
   "metadata": {},
   "outputs": [],
   "source": [
    "max_images = 36\n",
    "plotters.plot_list_of_draws(post_pi_n.rvs(max_images), n_rows=3, n_cols=12)\n",
    "print()"
   ]
  },
  {
   "cell_type": "code",
   "execution_count": null,
   "id": "169aebc8-a293-4579-9e7a-3cdb33124e44",
   "metadata": {},
   "outputs": [],
   "source": [
    "post_pi_n"
   ]
  }
 ],
 "metadata": {
  "kernelspec": {
   "display_name": "Python 3 (ipykernel)",
   "language": "python",
   "name": "python3"
  },
  "language_info": {
   "codemirror_mode": {
    "name": "ipython",
    "version": 3
   },
   "file_extension": ".py",
   "mimetype": "text/x-python",
   "name": "python",
   "nbconvert_exporter": "python",
   "pygments_lexer": "ipython3",
   "version": "3.12.2"
  }
 },
 "nbformat": 4,
 "nbformat_minor": 5
}
