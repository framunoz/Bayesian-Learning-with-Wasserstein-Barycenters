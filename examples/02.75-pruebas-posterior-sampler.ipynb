{
 "cells": [
  {
   "cell_type": "code",
   "execution_count": null,
   "id": "0",
   "metadata": {},
   "outputs": [],
   "source": [
    "# %cd ~/codeProjects/pythonProjects/Bayesian-Learning-with-Wasserstein-Barycenters"
   ]
  },
  {
   "cell_type": "markdown",
   "id": "1",
   "metadata": {},
   "source": [
    "# Imports generales"
   ]
  },
  {
   "cell_type": "code",
   "execution_count": null,
   "id": "2",
   "metadata": {},
   "outputs": [],
   "source": [
    "import time\n",
    "from pathlib import Path\n",
    "\n",
    "import numpy as np\n",
    "import torch\n",
    "import torchvision.transforms.v2 as T\n",
    "from icecream import ic\n",
    "from matplotlib import pyplot as plt\n",
    "\n",
    "import bwb.plotters as plotters\n",
    "from bwb.config import conf\n",
    "from bwb.distributions.posterior_samplers import (\n",
    "    NUTSPosteriorSampler as NUTSPosteriorPiN,\n",
    ")"
   ]
  },
  {
   "cell_type": "markdown",
   "id": "3",
   "metadata": {},
   "source": [
    "# Definir constantes y logger"
   ]
  },
  {
   "cell_type": "code",
   "execution_count": null,
   "id": "4",
   "metadata": {},
   "outputs": [],
   "source": [
    "from bwb import _logging as logging\n",
    "\n",
    "\n",
    "# Tunneable params\n",
    "RUN_MCMC = True\n",
    "BURN = 1_000\n",
    "NUM_SAMPLES = 10_000\n",
    "N_WALKERS = 4\n",
    "TAKE_EVERY = 5\n",
    "\n",
    "# Paths\n",
    "CURR_PATH = Path(\"..\")\n",
    "NETS_PATH = CURR_PATH / \"wgan_gp\" / \"networks\"\n",
    "MCMC_PATH = CURR_PATH / \"saved_mcmc\"\n",
    "NUTS_PATH = MCMC_PATH / \"NUTS\"\n",
    "\n",
    "# Seed\n",
    "SEED = 4102165607616432379\n",
    "print(f\"{SEED = }\")\n",
    "torch.manual_seed(SEED)\n",
    "\n",
    "# Configuration\n",
    "conf.use_single_precision()\n",
    "conf.use_gpu()\n",
    "conf.set_eps(1e-8)\n",
    "print(conf)\n",
    "\n",
    "log = logging.get_logger(__name__)"
   ]
  },
  {
   "cell_type": "markdown",
   "id": "5",
   "metadata": {
    "jp-MarkdownHeadingCollapsed": true
   },
   "source": [
    "# Dataset"
   ]
  },
  {
   "cell_type": "code",
   "execution_count": null,
   "id": "6",
   "metadata": {},
   "outputs": [],
   "source": [
    "from quick_torch import QuickDraw\n",
    "from bwb.distributions.models import ModelDataset\n",
    "import bwb.distributions.distribution_samplers as distr_samplers\n",
    "\n",
    "\n",
    "ds = QuickDraw(\n",
    "    Path(\"./data\"),\n",
    "    categories=\"face\",\n",
    "    download=True,\n",
    "    transform=T.Compose([\n",
    "        T.ToImage(),\n",
    "        T.ToDtype(conf.dtype, scale=True),\n",
    "        T.Lambda(lambda x: x.squeeze()),\n",
    "    ]),\n",
    ")\n",
    "\n",
    "ds = ModelDataset(ds)\n",
    "ds_sampler = distr_samplers.UniformDiscreteSampler().fit(ds)\n",
    "\n",
    "\n",
    "face = ds_sampler.draw()\n",
    "print(face)\n",
    "\n",
    "face"
   ]
  },
  {
   "cell_type": "code",
   "execution_count": null,
   "id": "7",
   "metadata": {},
   "outputs": [],
   "source": [
    "def get_sample(sampler, n_sample):\n",
    "    face = sampler.draw()\n",
    "\n",
    "    data = face.sample((n_sample,))\n",
    "\n",
    "    shape = face.shape\n",
    "    data_coords = (\n",
    "        face.enumerate_support_()[data].cpu().numpy()\n",
    "        + np.random.randn(len(data), 2) * 0.1\n",
    "    )\n",
    "\n",
    "    plotters.plot_histogram_from_points(\n",
    "        data_coords, rotate=True, shape=shape, histplot_kwargs=dict(bins=28)\n",
    "    )\n",
    "    plt.show()\n",
    "\n",
    "    return face, data\n",
    "\n",
    "\n",
    "face, data = get_sample(ds_sampler, 100)\n",
    "face"
   ]
  },
  {
   "cell_type": "markdown",
   "id": "8",
   "metadata": {
    "jp-MarkdownHeadingCollapsed": true
   },
   "source": [
    "# Importar redes"
   ]
  },
  {
   "cell_type": "code",
   "execution_count": null,
   "id": "9",
   "metadata": {},
   "outputs": [],
   "source": [
    "from wgan_gp.wgan_gp_vae.model_resnet import (\n",
    "    Generator,\n",
    "    Encoder,\n",
    "    LatentDistribution,\n",
    ")\n",
    "import torch\n",
    "from wgan_gp.wgan_gp_vae.utils import load_checkpoint\n",
    "\n",
    "\n",
    "device = conf.device\n",
    "\n",
    "NOISE = \"norm\"\n",
    "LATENT_DIM = 128\n",
    "CHANNELS_IMG = 1\n",
    "NUM_FILTERS = [256, 128, 64, 32]\n",
    "\n",
    "noise_sampler = LatentDistribution(NOISE, LATENT_DIM, device)\n",
    "\n",
    "\n",
    "G = Generator(LATENT_DIM, CHANNELS_IMG, latent_distr=NOISE).to(device)\n",
    "E = Encoder(LATENT_DIM, CHANNELS_IMG).to(device)\n",
    "\n",
    "DS_NAME = \"data\"\n",
    "FACE_PATH = NETS_PATH / f\"cleaned_{DS_NAME}_zDim{LATENT_DIM}_{NOISE}_bs_128\"\n",
    "\n",
    "load_checkpoint(G, FACE_PATH, \"generator\", device)\n",
    "load_checkpoint(E, FACE_PATH, \"encoder\", device)\n",
    "\n",
    "G.eval()\n",
    "E.eval()\n",
    "print()"
   ]
  },
  {
   "cell_type": "code",
   "execution_count": null,
   "id": "10",
   "metadata": {},
   "outputs": [],
   "source": [
    "noise_sampler"
   ]
  },
  {
   "cell_type": "code",
   "execution_count": null,
   "id": "11",
   "metadata": {},
   "outputs": [],
   "source": [
    "from bwb.distributions import DistributionDraw\n",
    "from torchvision import disable_beta_transforms_warning\n",
    "\n",
    "disable_beta_transforms_warning()\n",
    "\n",
    "import torchvision.transforms.v2 as T\n",
    "\n",
    "z = noise_sampler(1)\n",
    "m = G(z)\n",
    "print(m.dtype)\n",
    "dtype = z.dtype\n",
    "\n",
    "transform_in = T.Compose([\n",
    "    T.Lambda(lambda x: x / torch.max(x)),\n",
    "    T.ToPILImage(),\n",
    "    T.Resize(32),\n",
    "    T.ToImage(),\n",
    "    T.ConvertImageDtype(dtype),\n",
    "    T.Normalize((0.5,), (0.5,)),\n",
    "])\n",
    "\n",
    "transform_out_ = T.Compose([\n",
    "    T.ToDtype(dtype),\n",
    "    T.Lambda(lambda x: x.squeeze()),\n",
    "    T.Lambda(lambda x: x - torch.min(x)),\n",
    "    T.Lambda(lambda x: x / torch.sum(x)),\n",
    "    # T.Lambda(lambda x: DistributionDraw.from_grayscale_weights(x)),\n",
    "])\n",
    "\n",
    "transform_out = T.Compose([\n",
    "    transform_out_,\n",
    "    T.Lambda(lambda x: DistributionDraw.from_grayscale_weights(x)),\n",
    "])\n",
    "\n",
    "out: DistributionDraw = transform_out(m)\n",
    "print(out.dtype)\n",
    "out"
   ]
  },
  {
   "cell_type": "code",
   "execution_count": null,
   "id": "12",
   "metadata": {},
   "outputs": [],
   "source": [
    "from bwb.distributions.distribution_samplers import GeneratorDistribSampler\n",
    "\n",
    "distr_sampler = GeneratorDistribSampler()\n",
    "distr_sampler.fit(G, transform_out_, noise_sampler)\n",
    "distr_sampler.transform_noise(z)\n",
    "distr_sampler.rvs(3)"
   ]
  },
  {
   "cell_type": "code",
   "execution_count": null,
   "id": "13",
   "metadata": {},
   "outputs": [],
   "source": [
    "distr_sampler.draw()"
   ]
  },
  {
   "cell_type": "markdown",
   "id": "14",
   "metadata": {},
   "source": [
    "# Experimentos"
   ]
  },
  {
   "cell_type": "markdown",
   "id": "15",
   "metadata": {},
   "source": [
    "## Experimento 1"
   ]
  },
  {
   "cell_type": "code",
   "execution_count": null,
   "id": "16",
   "metadata": {},
   "outputs": [],
   "source": [
    "EXPERIMENT = 1\n",
    "NUTS_POSTERIOR_PATH = (\n",
    "    NUTS_PATH\n",
    "    / f\"exp={EXPERIMENT}-burn={BURN:_}-num_samples={NUM_SAMPLES:_}-n_walkers={N_WALKERS}\"\n",
    ")\n",
    "NUTS_POSTERIOR_PATH"
   ]
  },
  {
   "cell_type": "code",
   "execution_count": null,
   "id": "17",
   "metadata": {},
   "outputs": [],
   "source": [
    "face, data = get_sample(ds_sampler, 100)\n",
    "face"
   ]
  },
  {
   "cell_type": "code",
   "execution_count": null,
   "id": "18",
   "metadata": {},
   "outputs": [],
   "source": [
    "if not NUTS_POSTERIOR_PATH.exists() or RUN_MCMC:\n",
    "    post_pi_n = (\n",
    "        NUTSPosteriorPiN(\n",
    "            n_walkers=N_WALKERS,\n",
    "            num_steps_per_sample=1,\n",
    "            burn=BURN,\n",
    "            desired_accept_rate=0.6,\n",
    "        )\n",
    "        .fit(G, transform_out_, noise_sampler, data)\n",
    "        .run(n_steps=NUM_SAMPLES)\n",
    "    )\n",
    "\n",
    "    tic = time.perf_counter()\n",
    "    post_pi_n.save(NUTS_POSTERIOR_PATH)\n",
    "    toc = time.perf_counter()\n",
    "    ic(toc - tic)\n",
    "\n",
    "else:\n",
    "    post_pi_n = NUTSPosteriorPiN.load(NUTS_POSTERIOR_PATH)\n",
    "\n",
    "post_pi_n"
   ]
  },
  {
   "cell_type": "code",
   "execution_count": null,
   "id": "19",
   "metadata": {},
   "outputs": [],
   "source": [
    "mean_autocorr_time = int(post_pi_n.get_autocorr_time().mean())\n",
    "print(mean_autocorr_time)"
   ]
  },
  {
   "cell_type": "code",
   "execution_count": null,
   "id": "20",
   "metadata": {},
   "outputs": [],
   "source": [
    "post_pi_n.shuffle_samples_cache(thin=int(mean_autocorr_time / TAKE_EVERY))"
   ]
  },
  {
   "cell_type": "code",
   "execution_count": null,
   "id": "21",
   "metadata": {},
   "outputs": [],
   "source": [
    "max_images = 36\n",
    "plotters.plot_list_of_draws(post_pi_n.rvs(max_images), n_rows=3, n_cols=12)\n",
    "print()"
   ]
  },
  {
   "cell_type": "code",
   "execution_count": null,
   "id": "22",
   "metadata": {},
   "outputs": [],
   "source": [
    "post_pi_n"
   ]
  },
  {
   "cell_type": "markdown",
   "id": "23",
   "metadata": {},
   "source": [
    "## Experimento 2"
   ]
  },
  {
   "cell_type": "code",
   "execution_count": null,
   "id": "24",
   "metadata": {},
   "outputs": [],
   "source": [
    "EXPERIMENT = 2\n",
    "NUTS_POSTERIOR_PATH = (\n",
    "    NUTS_PATH\n",
    "    / f\"exp={EXPERIMENT}-burn={BURN:_}-num_samples={NUM_SAMPLES:_}-n_walkers={N_WALKERS}\"\n",
    ")\n",
    "NUTS_POSTERIOR_PATH"
   ]
  },
  {
   "cell_type": "code",
   "execution_count": null,
   "id": "25",
   "metadata": {},
   "outputs": [],
   "source": [
    "face, data = get_sample(ds_sampler, 100)\n",
    "face"
   ]
  },
  {
   "cell_type": "code",
   "execution_count": null,
   "id": "26",
   "metadata": {},
   "outputs": [],
   "source": [
    "if not NUTS_POSTERIOR_PATH.exists() or RUN_MCMC:\n",
    "    post_pi_n = (\n",
    "        NUTSPosteriorPiN(\n",
    "            n_walkers=N_WALKERS,\n",
    "            num_steps_per_sample=1,\n",
    "            burn=BURN,\n",
    "            desired_accept_rate=0.6,\n",
    "        )\n",
    "        .fit(G, transform_out_, noise_sampler, data)\n",
    "        .run(n_steps=NUM_SAMPLES)\n",
    "    )\n",
    "\n",
    "    tic = time.perf_counter()\n",
    "    post_pi_n.save(NUTS_POSTERIOR_PATH)\n",
    "    toc = time.perf_counter()\n",
    "    ic(toc - tic)\n",
    "\n",
    "else:\n",
    "    post_pi_n = NUTSPosteriorPiN.load(NUTS_POSTERIOR_PATH)\n",
    "\n",
    "post_pi_n"
   ]
  },
  {
   "cell_type": "code",
   "execution_count": null,
   "id": "27",
   "metadata": {},
   "outputs": [],
   "source": [
    "mean_autocorr_time = int(post_pi_n.get_autocorr_time().mean())\n",
    "print(mean_autocorr_time)"
   ]
  },
  {
   "cell_type": "code",
   "execution_count": null,
   "id": "28",
   "metadata": {},
   "outputs": [],
   "source": [
    "post_pi_n.shuffle_samples_cache(thin=int(mean_autocorr_time / TAKE_EVERY))"
   ]
  },
  {
   "cell_type": "code",
   "execution_count": null,
   "id": "29",
   "metadata": {},
   "outputs": [],
   "source": [
    "max_images = 36\n",
    "plotters.plot_list_of_draws(post_pi_n.rvs(max_images), n_rows=3, n_cols=12)\n",
    "print()"
   ]
  },
  {
   "cell_type": "code",
   "execution_count": null,
   "id": "30",
   "metadata": {},
   "outputs": [],
   "source": [
    "post_pi_n"
   ]
  },
  {
   "cell_type": "markdown",
   "id": "31",
   "metadata": {},
   "source": [
    "## Experimento 3"
   ]
  },
  {
   "cell_type": "code",
   "execution_count": null,
   "id": "32",
   "metadata": {},
   "outputs": [],
   "source": [
    "EXPERIMENT = 3\n",
    "NUTS_POSTERIOR_PATH = (\n",
    "    NUTS_PATH\n",
    "    / f\"exp={EXPERIMENT}-burn={BURN:_}-num_samples={NUM_SAMPLES:_}-n_walkers={N_WALKERS}\"\n",
    ")\n",
    "NUTS_POSTERIOR_PATH"
   ]
  },
  {
   "cell_type": "code",
   "execution_count": null,
   "id": "33",
   "metadata": {},
   "outputs": [],
   "source": [
    "face, data = get_sample(ds_sampler, 100)\n",
    "face"
   ]
  },
  {
   "cell_type": "code",
   "execution_count": null,
   "id": "34",
   "metadata": {},
   "outputs": [],
   "source": [
    "if not NUTS_POSTERIOR_PATH.exists() or RUN_MCMC:\n",
    "    post_pi_n = (\n",
    "        NUTSPosteriorPiN(\n",
    "            n_walkers=N_WALKERS,\n",
    "            num_steps_per_sample=1,\n",
    "            burn=BURN,\n",
    "            desired_accept_rate=0.6,\n",
    "        )\n",
    "        .fit(G, transform_out_, noise_sampler, data)\n",
    "        .run(n_steps=NUM_SAMPLES)\n",
    "    )\n",
    "\n",
    "    tic = time.perf_counter()\n",
    "    post_pi_n.save(NUTS_POSTERIOR_PATH)\n",
    "    toc = time.perf_counter()\n",
    "    ic(toc - tic)\n",
    "\n",
    "else:\n",
    "    post_pi_n = NUTSPosteriorPiN.load(NUTS_POSTERIOR_PATH)\n",
    "\n",
    "post_pi_n"
   ]
  },
  {
   "cell_type": "code",
   "execution_count": null,
   "id": "35",
   "metadata": {},
   "outputs": [],
   "source": [
    "mean_autocorr_time = int(post_pi_n.get_autocorr_time().mean())\n",
    "print(mean_autocorr_time)"
   ]
  },
  {
   "cell_type": "code",
   "execution_count": null,
   "id": "36",
   "metadata": {},
   "outputs": [],
   "source": [
    "post_pi_n.shuffle_samples_cache(thin=int(mean_autocorr_time / TAKE_EVERY))"
   ]
  },
  {
   "cell_type": "code",
   "execution_count": null,
   "id": "37",
   "metadata": {},
   "outputs": [],
   "source": [
    "max_images = 36\n",
    "plotters.plot_list_of_draws(post_pi_n.rvs(max_images), n_rows=3, n_cols=12)\n",
    "print()"
   ]
  },
  {
   "cell_type": "code",
   "execution_count": null,
   "id": "38",
   "metadata": {},
   "outputs": [],
   "source": [
    "post_pi_n"
   ]
  },
  {
   "cell_type": "markdown",
   "id": "39",
   "metadata": {},
   "source": [
    "## Experimento 4"
   ]
  },
  {
   "cell_type": "code",
   "execution_count": null,
   "id": "40",
   "metadata": {},
   "outputs": [],
   "source": [
    "EXPERIMENT = 4\n",
    "NUTS_POSTERIOR_PATH = (\n",
    "    NUTS_PATH\n",
    "    / f\"exp={EXPERIMENT}-burn={BURN:_}-num_samples={NUM_SAMPLES:_}-n_walkers={N_WALKERS}\"\n",
    ")\n",
    "NUTS_POSTERIOR_PATH"
   ]
  },
  {
   "cell_type": "code",
   "execution_count": null,
   "id": "41",
   "metadata": {},
   "outputs": [],
   "source": [
    "face, data = get_sample(ds_sampler, 100)\n",
    "face"
   ]
  },
  {
   "cell_type": "code",
   "execution_count": null,
   "id": "42",
   "metadata": {},
   "outputs": [],
   "source": [
    "if not NUTS_POSTERIOR_PATH.exists() or RUN_MCMC:\n",
    "    post_pi_n = (\n",
    "        NUTSPosteriorPiN(\n",
    "            n_walkers=N_WALKERS,\n",
    "            num_steps_per_sample=1,\n",
    "            burn=BURN,\n",
    "            desired_accept_rate=0.6,\n",
    "        )\n",
    "        .fit(G, transform_out_, noise_sampler, data)\n",
    "        .run(n_steps=NUM_SAMPLES)\n",
    "    )\n",
    "\n",
    "    tic = time.perf_counter()\n",
    "    post_pi_n.save(NUTS_POSTERIOR_PATH)\n",
    "    toc = time.perf_counter()\n",
    "    ic(toc - tic)\n",
    "\n",
    "else:\n",
    "    post_pi_n = NUTSPosteriorPiN.load(NUTS_POSTERIOR_PATH)\n",
    "\n",
    "post_pi_n"
   ]
  },
  {
   "cell_type": "code",
   "execution_count": null,
   "id": "43",
   "metadata": {},
   "outputs": [],
   "source": [
    "mean_autocorr_time = int(post_pi_n.get_autocorr_time().mean())\n",
    "print(mean_autocorr_time)"
   ]
  },
  {
   "cell_type": "code",
   "execution_count": null,
   "id": "44",
   "metadata": {},
   "outputs": [],
   "source": [
    "post_pi_n.shuffle_samples_cache(thin=int(mean_autocorr_time / TAKE_EVERY))"
   ]
  },
  {
   "cell_type": "code",
   "execution_count": null,
   "id": "45",
   "metadata": {},
   "outputs": [],
   "source": [
    "max_images = 36\n",
    "plotters.plot_list_of_draws(post_pi_n.rvs(max_images), n_rows=3, n_cols=12)\n",
    "print()"
   ]
  },
  {
   "cell_type": "code",
   "execution_count": null,
   "id": "46",
   "metadata": {},
   "outputs": [],
   "source": [
    "post_pi_n"
   ]
  },
  {
   "cell_type": "markdown",
   "id": "47",
   "metadata": {},
   "source": [
    "## Experimento 5"
   ]
  },
  {
   "cell_type": "code",
   "execution_count": null,
   "id": "48",
   "metadata": {},
   "outputs": [],
   "source": [
    "EXPERIMENT = 5\n",
    "NUTS_POSTERIOR_PATH = (\n",
    "    NUTS_PATH\n",
    "    / f\"exp={EXPERIMENT}-burn={BURN:_}-num_samples={NUM_SAMPLES:_}-n_walkers={N_WALKERS}\"\n",
    ")\n",
    "NUTS_POSTERIOR_PATH"
   ]
  },
  {
   "cell_type": "code",
   "execution_count": null,
   "id": "49",
   "metadata": {},
   "outputs": [],
   "source": [
    "face, data = get_sample(ds_sampler, 100)\n",
    "face"
   ]
  },
  {
   "cell_type": "code",
   "execution_count": null,
   "id": "50",
   "metadata": {},
   "outputs": [],
   "source": [
    "if not NUTS_POSTERIOR_PATH.exists() or RUN_MCMC:\n",
    "    post_pi_n = (\n",
    "        NUTSPosteriorPiN(\n",
    "            n_walkers=N_WALKERS,\n",
    "            num_steps_per_sample=1,\n",
    "            burn=BURN,\n",
    "            desired_accept_rate=0.6,\n",
    "        )\n",
    "        .fit(G, transform_out_, noise_sampler, data)\n",
    "        .run(n_steps=NUM_SAMPLES)\n",
    "    )\n",
    "\n",
    "    tic = time.perf_counter()\n",
    "    post_pi_n.save(NUTS_POSTERIOR_PATH)\n",
    "    toc = time.perf_counter()\n",
    "    ic(toc - tic)\n",
    "\n",
    "else:\n",
    "    post_pi_n = NUTSPosteriorPiN.load(NUTS_POSTERIOR_PATH)\n",
    "\n",
    "post_pi_n"
   ]
  },
  {
   "cell_type": "code",
   "execution_count": null,
   "id": "51",
   "metadata": {},
   "outputs": [],
   "source": [
    "mean_autocorr_time = int(post_pi_n.get_autocorr_time().mean())\n",
    "print(mean_autocorr_time)"
   ]
  },
  {
   "cell_type": "code",
   "execution_count": null,
   "id": "52",
   "metadata": {},
   "outputs": [],
   "source": [
    "post_pi_n.shuffle_samples_cache(thin=int(mean_autocorr_time / TAKE_EVERY))"
   ]
  },
  {
   "cell_type": "code",
   "execution_count": null,
   "id": "53",
   "metadata": {},
   "outputs": [],
   "source": [
    "max_images = 36\n",
    "plotters.plot_list_of_draws(post_pi_n.rvs(max_images), n_rows=3, n_cols=12)\n",
    "print()"
   ]
  },
  {
   "cell_type": "code",
   "execution_count": null,
   "id": "54",
   "metadata": {},
   "outputs": [],
   "source": [
    "post_pi_n"
   ]
  }
 ],
 "metadata": {
  "kernelspec": {
   "display_name": "Python 3 (ipykernel)",
   "language": "python",
   "name": "python3"
  },
  "language_info": {
   "codemirror_mode": {
    "name": "ipython",
    "version": 3
   },
   "file_extension": ".py",
   "mimetype": "text/x-python",
   "name": "python",
   "nbconvert_exporter": "python",
   "pygments_lexer": "ipython3",
   "version": "3.12.2"
  }
 },
 "nbformat": 4,
 "nbformat_minor": 5
}
